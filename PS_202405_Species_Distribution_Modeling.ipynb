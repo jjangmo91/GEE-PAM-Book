{
  "cells": [
    {
      "cell_type": "markdown",
      "metadata": {
        "id": "view-in-github",
        "colab_type": "text"
      },
      "source": [
        "<a href=\"https://colab.research.google.com/github/osgeokr/GEE-PAM-Book/blob/main/PS_202405_Species_Distribution_Modeling.ipynb\" target=\"_parent\"><img src=\"https://colab.research.google.com/assets/colab-badge.svg\" alt=\"Open In Colab\"/></a>"
      ]
    },
    {
      "cell_type": "code",
      "execution_count": null,
      "metadata": {
        "id": "8kdsGkYJXXKc"
      },
      "outputs": [],
      "source": [
        "#@title Copyright 2023 The Earth Engine Community Authors { display-mode: \"form\" }\n",
        "#\n",
        "# Licensed under the Apache License, Version 2.0 (the \"License\");\n",
        "# you may not use this file except in compliance with the License.\n",
        "# You may obtain a copy of the License at\n",
        "#\n",
        "# https://www.apache.org/licenses/LICENSE-2.0\n",
        "#\n",
        "# Unless required by applicable law or agreed to in writing, software\n",
        "# distributed under the License is distributed on an \"AS IS\" BASIS,\n",
        "# WITHOUT WARRANTIES OR CONDITIONS OF ANY KIND, either express or implied.\n",
        "# See the License for the specific language governing permissions and\n",
        "# limitations under the License."
      ]
    },
    {
      "cell_type": "markdown",
      "metadata": {
        "id": "l18M9_r5XmAQ"
      },
      "source": [
        "# Species Distribution Modeling\n",
        "Author: osgeokr\n",
        "\n",
        "In this tutorial, the methodology of Species Distribution Modeling using Google Earth Engine will be introduced. A brief overview of Species Distribution Modeling  will be provided, followed by the process of predicting and analyzing the habitat of an endangered bird species known as the Fairy pitta (scientific name: *Pitta nympha*)."
      ]
    },
    {
      "cell_type": "markdown",
      "metadata": {
        "id": "U7i55vr_aKCB"
      },
      "source": [
        "### Run me first\n",
        "\n",
        "Run the following cell to initialize the API. The output will contain instructions on how to grant this notebook access to Earth Engine using your account."
      ]
    },
    {
      "cell_type": "code",
      "execution_count": 1,
      "metadata": {
        "id": "XeFsiSp2aDL6"
      },
      "outputs": [],
      "source": [
        "import ee\n",
        "\n",
        "# Trigger the authentication flow.\n",
        "ee.Authenticate()\n",
        "\n",
        "# Initialize the library.\n",
        "ee.Initialize(project='ee-foss4g')"
      ]
    },
    {
      "cell_type": "markdown",
      "metadata": {
        "id": "VOf_UnIcZKBJ"
      },
      "source": [
        "## A brief overview of Species Distribution Modeling\n",
        "\n",
        "Let's explore what species distribution models are, the advantages of using Google Earth Engine for their processing, the required data for the models, and how the workflow is structured.\n",
        "\n",
        "### What is Species Distribution Modeling?\n",
        "\n",
        "Species Distribution Modeling (SDM below) is the most common methodology used to estimate the actual or potential geographic distribution of a species. It involves characterizing the environmental conditions suitable for a particular species and then identifying where these suitable conditions are distributed geographically.\n",
        "\n",
        "SDM has emerged as a crucial component of conservation planning in recent years, and various modeling techniques have been developed for this purpose. Implementing SDM in Google Earth Engine (GEE below) provides easy access to large-scale environmental data, along with powerful computing capabilities and support for machine learning algorithms, allowing for rapid modeling.\n",
        "\n",
        "  > Note: Conservation biologist Dr. Ramiro D. Crego implemented SDM using the GEE JavaScript Code Editor and published his research findings [(Crego et al, 2022)](https://onlinelibrary.wiley.com/doi/10.1111/ddi.13491). The methodology of SDM introduced here has been translated and modified from the [JavaScript source code](https://smithsonian.github.io/SDMinGEE/) he shared into the Python language.\n",
        "\n",
        "### Data Required for SDM\n",
        "\n",
        "SDM typically utilizes the relationship between known species occurrence records and environmental variables to identify the conditions under which a population can sustain. In other words, two types of model input data are required:\n",
        "\n",
        "1. Occurrence records of known species\n",
        "1. Various environmental variables\n",
        "\n",
        "These data are input into algorithms to identify environmental conditions associated with the presence of species.\n",
        "\n",
        "### Workflow of SDM using GEE\n",
        "\n",
        "The workflow for SDM using GEE is as follows:\n",
        "\n",
        "1. Collection and preprocessing of species occurrence data\n",
        "1. Definition of the Area of Interest\n",
        "1. Addition of GEE environmental variables\n",
        "1. Generation of pseudo-absence data\n",
        "1. Model fitting and prediction\n",
        "1. Variable importance and accuracy assessment"
      ]
    },
    {
      "cell_type": "markdown",
      "metadata": {
        "id": "tjomxWfVcTmN"
      },
      "source": [
        "## Habitat Prediction and Analysis Using GEE\n",
        "\n",
        "The [Fairy pitta (*Pitta nympha*)](https://datazone.birdlife.org/species/factsheet/22698684) will be used as a case study to demonstrate the application of GEE-based SDM. While this specific species has been selected for one example, researchers can apply the methodology to any target species of interest with slight modifications to the provided source code.\n",
        "\n",
        "The Fairy pitta is a rare summer migrant and passage migrant in South Korea, whose distribution area is expanding due to recent climate warming on the Korean Peninsula. It is classified as a rare species, endangered wildlife of class II, Natural Monument No. 204, evaluated as Regionally Extinct (RE) in the National Red List, and Vulnerable (VU) according to the IUCN categories.\n",
        "\n",
        "Conducting SDM for the conservation planning of the Fairy pitta appears to be quite valuable. Now, let's proceed with habitat prediction and analysis through GEE."
      ]
    },
    {
      "cell_type": "markdown",
      "metadata": {
        "id": "pViK9PM-gLjh"
      },
      "source": [
        "First, the Python libraries are imported.The `import` statement brings in the entire contents of a module, while the `from import` statement allows for the importation of specific objects from a module."
      ]
    },
    {
      "cell_type": "code",
      "execution_count": 2,
      "metadata": {
        "id": "4jbM03uIrjST"
      },
      "outputs": [],
      "source": [
        "# Import libraries\n",
        "import geemap\n",
        "\n",
        "import geemap.colormaps as cm\n",
        "import pandas as pd, geopandas as gpd\n",
        "import numpy as np, matplotlib.pyplot as plt\n",
        "import os, requests, math, random\n",
        "\n",
        "from ipyleaflet import TileLayer\n",
        "from statsmodels.stats.outliers_influence import variance_inflation_factor\n",
        "from scipy.stats import gaussian_kde"
      ]
    },
    {
      "cell_type": "markdown",
      "metadata": {
        "id": "SRrwa4ROghr9"
      },
      "source": [
        "### Collection and Preprocessing of Species Occurrence Data\n",
        "\n",
        "Now, let's collect occurrence data for the Fairy pitta. Even if you don't currently have access to occurrence data for the species of interest, you can obtain observational data about specific species through the GBIF API. The [GBIF API](https://techdocs.gbif.org/en/openapi/) is an interface that allows access to the species distribution data provided by GBIF, enabling users to search, filter, and download data, as well as acquire various information related to species.\n",
        "\n",
        "In the code below, the `species_name` variable is assigned the scientific name of the species (e.g., *Pitta nympha* for Fairy pitta), and the `country_code` variable is assigned the country code (e.g., KR for South Korea). The `base_url` variable stores the address of the GBIF API. `params` is a dictionary containing parameters to be used in the API request:\n",
        "\n",
        "* `scientificName`: Sets the scientific name of the species to be searched.\n",
        "* `country`: Limits the search to a specific country.\n",
        "* `hasCoordinate`: Ensures only data with coordinates (true) are searched.\n",
        "* `basisOfRecord`: Chooses only records of human observation (`HUMAN_OBSERVATION`).\n",
        "* `limit`: Sets the maximum number of results returned to 10000."
      ]
    },
    {
      "cell_type": "markdown",
      "metadata": {
        "id": "Zs5ZUfZUnjZ2"
      },
      "source": [
        "Using the parameters set previously, we query the GBIF API for observational records of the Fairy pitta (*Pitta nympha*), and load the results into a DataFrame to check the first row. A DataFrame is a data structure for handling table-formatted data, consisting of rows and columns. If necessary, the DataFrame can be saved as a CSV file and read back in."
      ]
    },
    {
      "cell_type": "code",
      "execution_count": 3,
      "metadata": {
        "id": "Mx-DjtGNnUXk",
        "colab": {
          "base_uri": "https://localhost:8080/",
          "height": 76
        },
        "outputId": "aaa26569-35fd-4c66-f5ba-f40b796edb0d"
      },
      "outputs": [
        {
          "output_type": "display_data",
          "data": {
            "text/plain": [
              "<IPython.core.display.HTML object>"
            ],
            "text/html": [
              "\n",
              "            <style>\n",
              "                .geemap-dark {\n",
              "                    --jp-widgets-color: white;\n",
              "                    --jp-widgets-label-color: white;\n",
              "                    --jp-ui-font-color1: white;\n",
              "                    --jp-layout-color2: #454545;\n",
              "                    background-color: #383838;\n",
              "                }\n",
              "\n",
              "                .geemap-dark .jupyter-button {\n",
              "                    --jp-layout-color3: #383838;\n",
              "                }\n",
              "\n",
              "                .geemap-colab {\n",
              "                    background-color: var(--colab-primary-surface-color, white);\n",
              "                }\n",
              "\n",
              "                .geemap-colab .jupyter-button {\n",
              "                    --jp-layout-color3: var(--colab-primary-surface-color, white);\n",
              "                }\n",
              "            </style>\n",
              "            "
            ]
          },
          "metadata": {}
        },
        {
          "output_type": "display_data",
          "data": {
            "text/plain": [
              "<IPython.core.display.HTML object>"
            ],
            "text/html": [
              "\n",
              "     <input type=\"file\" id=\"files-0cdbd218-c3fa-468c-94b3-b452158897a2\" name=\"files[]\" multiple disabled\n",
              "        style=\"border:none\" />\n",
              "     <output id=\"result-0cdbd218-c3fa-468c-94b3-b452158897a2\">\n",
              "      Upload widget is only available when the cell has been executed in the\n",
              "      current browser session. Please rerun this cell to enable.\n",
              "      </output>\n",
              "      <script>// Copyright 2017 Google LLC\n",
              "//\n",
              "// Licensed under the Apache License, Version 2.0 (the \"License\");\n",
              "// you may not use this file except in compliance with the License.\n",
              "// You may obtain a copy of the License at\n",
              "//\n",
              "//      http://www.apache.org/licenses/LICENSE-2.0\n",
              "//\n",
              "// Unless required by applicable law or agreed to in writing, software\n",
              "// distributed under the License is distributed on an \"AS IS\" BASIS,\n",
              "// WITHOUT WARRANTIES OR CONDITIONS OF ANY KIND, either express or implied.\n",
              "// See the License for the specific language governing permissions and\n",
              "// limitations under the License.\n",
              "\n",
              "/**\n",
              " * @fileoverview Helpers for google.colab Python module.\n",
              " */\n",
              "(function(scope) {\n",
              "function span(text, styleAttributes = {}) {\n",
              "  const element = document.createElement('span');\n",
              "  element.textContent = text;\n",
              "  for (const key of Object.keys(styleAttributes)) {\n",
              "    element.style[key] = styleAttributes[key];\n",
              "  }\n",
              "  return element;\n",
              "}\n",
              "\n",
              "// Max number of bytes which will be uploaded at a time.\n",
              "const MAX_PAYLOAD_SIZE = 100 * 1024;\n",
              "\n",
              "function _uploadFiles(inputId, outputId) {\n",
              "  const steps = uploadFilesStep(inputId, outputId);\n",
              "  const outputElement = document.getElementById(outputId);\n",
              "  // Cache steps on the outputElement to make it available for the next call\n",
              "  // to uploadFilesContinue from Python.\n",
              "  outputElement.steps = steps;\n",
              "\n",
              "  return _uploadFilesContinue(outputId);\n",
              "}\n",
              "\n",
              "// This is roughly an async generator (not supported in the browser yet),\n",
              "// where there are multiple asynchronous steps and the Python side is going\n",
              "// to poll for completion of each step.\n",
              "// This uses a Promise to block the python side on completion of each step,\n",
              "// then passes the result of the previous step as the input to the next step.\n",
              "function _uploadFilesContinue(outputId) {\n",
              "  const outputElement = document.getElementById(outputId);\n",
              "  const steps = outputElement.steps;\n",
              "\n",
              "  const next = steps.next(outputElement.lastPromiseValue);\n",
              "  return Promise.resolve(next.value.promise).then((value) => {\n",
              "    // Cache the last promise value to make it available to the next\n",
              "    // step of the generator.\n",
              "    outputElement.lastPromiseValue = value;\n",
              "    return next.value.response;\n",
              "  });\n",
              "}\n",
              "\n",
              "/**\n",
              " * Generator function which is called between each async step of the upload\n",
              " * process.\n",
              " * @param {string} inputId Element ID of the input file picker element.\n",
              " * @param {string} outputId Element ID of the output display.\n",
              " * @return {!Iterable<!Object>} Iterable of next steps.\n",
              " */\n",
              "function* uploadFilesStep(inputId, outputId) {\n",
              "  const inputElement = document.getElementById(inputId);\n",
              "  inputElement.disabled = false;\n",
              "\n",
              "  const outputElement = document.getElementById(outputId);\n",
              "  outputElement.innerHTML = '';\n",
              "\n",
              "  const pickedPromise = new Promise((resolve) => {\n",
              "    inputElement.addEventListener('change', (e) => {\n",
              "      resolve(e.target.files);\n",
              "    });\n",
              "  });\n",
              "\n",
              "  const cancel = document.createElement('button');\n",
              "  inputElement.parentElement.appendChild(cancel);\n",
              "  cancel.textContent = 'Cancel upload';\n",
              "  const cancelPromise = new Promise((resolve) => {\n",
              "    cancel.onclick = () => {\n",
              "      resolve(null);\n",
              "    };\n",
              "  });\n",
              "\n",
              "  // Wait for the user to pick the files.\n",
              "  const files = yield {\n",
              "    promise: Promise.race([pickedPromise, cancelPromise]),\n",
              "    response: {\n",
              "      action: 'starting',\n",
              "    }\n",
              "  };\n",
              "\n",
              "  cancel.remove();\n",
              "\n",
              "  // Disable the input element since further picks are not allowed.\n",
              "  inputElement.disabled = true;\n",
              "\n",
              "  if (!files) {\n",
              "    return {\n",
              "      response: {\n",
              "        action: 'complete',\n",
              "      }\n",
              "    };\n",
              "  }\n",
              "\n",
              "  for (const file of files) {\n",
              "    const li = document.createElement('li');\n",
              "    li.append(span(file.name, {fontWeight: 'bold'}));\n",
              "    li.append(span(\n",
              "        `(${file.type || 'n/a'}) - ${file.size} bytes, ` +\n",
              "        `last modified: ${\n",
              "            file.lastModifiedDate ? file.lastModifiedDate.toLocaleDateString() :\n",
              "                                    'n/a'} - `));\n",
              "    const percent = span('0% done');\n",
              "    li.appendChild(percent);\n",
              "\n",
              "    outputElement.appendChild(li);\n",
              "\n",
              "    const fileDataPromise = new Promise((resolve) => {\n",
              "      const reader = new FileReader();\n",
              "      reader.onload = (e) => {\n",
              "        resolve(e.target.result);\n",
              "      };\n",
              "      reader.readAsArrayBuffer(file);\n",
              "    });\n",
              "    // Wait for the data to be ready.\n",
              "    let fileData = yield {\n",
              "      promise: fileDataPromise,\n",
              "      response: {\n",
              "        action: 'continue',\n",
              "      }\n",
              "    };\n",
              "\n",
              "    // Use a chunked sending to avoid message size limits. See b/62115660.\n",
              "    let position = 0;\n",
              "    do {\n",
              "      const length = Math.min(fileData.byteLength - position, MAX_PAYLOAD_SIZE);\n",
              "      const chunk = new Uint8Array(fileData, position, length);\n",
              "      position += length;\n",
              "\n",
              "      const base64 = btoa(String.fromCharCode.apply(null, chunk));\n",
              "      yield {\n",
              "        response: {\n",
              "          action: 'append',\n",
              "          file: file.name,\n",
              "          data: base64,\n",
              "        },\n",
              "      };\n",
              "\n",
              "      let percentDone = fileData.byteLength === 0 ?\n",
              "          100 :\n",
              "          Math.round((position / fileData.byteLength) * 100);\n",
              "      percent.textContent = `${percentDone}% done`;\n",
              "\n",
              "    } while (position < fileData.byteLength);\n",
              "  }\n",
              "\n",
              "  // All done.\n",
              "  yield {\n",
              "    response: {\n",
              "      action: 'complete',\n",
              "    }\n",
              "  };\n",
              "}\n",
              "\n",
              "scope.google = scope.google || {};\n",
              "scope.google.colab = scope.google.colab || {};\n",
              "scope.google.colab._files = {\n",
              "  _uploadFiles,\n",
              "  _uploadFilesContinue,\n",
              "};\n",
              "})(self);\n",
              "</script> "
            ]
          },
          "metadata": {}
        },
        {
          "output_type": "stream",
          "name": "stdout",
          "text": [
            "Saving pitta_nympha_data.csv to pitta_nympha_data (1).csv\n"
          ]
        }
      ],
      "source": [
        "from google.colab import files\n",
        "uploaded = files.upload()"
      ]
    },
    {
      "cell_type": "code",
      "source": [
        "df = pd.read_csv(\"pitta_nympha_data.csv\")\n",
        "df.head(1)  # Display the first row of the DataFrame"
      ],
      "metadata": {
        "colab": {
          "base_uri": "https://localhost:8080/",
          "height": 81
        },
        "id": "ONlY_nxFu05p",
        "outputId": "1eda8e2f-1ee1-4221-f379-e67d81765ae4"
      },
      "execution_count": 4,
      "outputs": [
        {
          "output_type": "display_data",
          "data": {
            "text/plain": [
              "<IPython.core.display.HTML object>"
            ],
            "text/html": [
              "\n",
              "            <style>\n",
              "                .geemap-dark {\n",
              "                    --jp-widgets-color: white;\n",
              "                    --jp-widgets-label-color: white;\n",
              "                    --jp-ui-font-color1: white;\n",
              "                    --jp-layout-color2: #454545;\n",
              "                    background-color: #383838;\n",
              "                }\n",
              "\n",
              "                .geemap-dark .jupyter-button {\n",
              "                    --jp-layout-color3: #383838;\n",
              "                }\n",
              "\n",
              "                .geemap-colab {\n",
              "                    background-color: var(--colab-primary-surface-color, white);\n",
              "                }\n",
              "\n",
              "                .geemap-colab .jupyter-button {\n",
              "                    --jp-layout-color3: var(--colab-primary-surface-color, white);\n",
              "                }\n",
              "            </style>\n",
              "            "
            ]
          },
          "metadata": {}
        },
        {
          "output_type": "execute_result",
          "data": {
            "text/plain": [
              "   fid       species  year  month                   layer  \\\n",
              "0    1  Pitta nympha  2023      5  pitta_nympha_data_gbif   \n",
              "\n",
              "                                                path      xcoord     ycoord  \\\n",
              "0  D:/GEODATA/pitta_nympha_data/gbif/pitta_nympha...  126.725144  33.203139   \n",
              "\n",
              "   zcoord  \n",
              "0       0  "
            ],
            "text/html": [
              "\n",
              "  <div id=\"df-15dd4ed8-ff14-4dca-bab3-484bec2f3032\" class=\"colab-df-container\">\n",
              "    <div>\n",
              "<style scoped>\n",
              "    .dataframe tbody tr th:only-of-type {\n",
              "        vertical-align: middle;\n",
              "    }\n",
              "\n",
              "    .dataframe tbody tr th {\n",
              "        vertical-align: top;\n",
              "    }\n",
              "\n",
              "    .dataframe thead th {\n",
              "        text-align: right;\n",
              "    }\n",
              "</style>\n",
              "<table border=\"1\" class=\"dataframe\">\n",
              "  <thead>\n",
              "    <tr style=\"text-align: right;\">\n",
              "      <th></th>\n",
              "      <th>fid</th>\n",
              "      <th>species</th>\n",
              "      <th>year</th>\n",
              "      <th>month</th>\n",
              "      <th>layer</th>\n",
              "      <th>path</th>\n",
              "      <th>xcoord</th>\n",
              "      <th>ycoord</th>\n",
              "      <th>zcoord</th>\n",
              "    </tr>\n",
              "  </thead>\n",
              "  <tbody>\n",
              "    <tr>\n",
              "      <th>0</th>\n",
              "      <td>1</td>\n",
              "      <td>Pitta nympha</td>\n",
              "      <td>2023</td>\n",
              "      <td>5</td>\n",
              "      <td>pitta_nympha_data_gbif</td>\n",
              "      <td>D:/GEODATA/pitta_nympha_data/gbif/pitta_nympha...</td>\n",
              "      <td>126.725144</td>\n",
              "      <td>33.203139</td>\n",
              "      <td>0</td>\n",
              "    </tr>\n",
              "  </tbody>\n",
              "</table>\n",
              "</div>\n",
              "    <div class=\"colab-df-buttons\">\n",
              "\n",
              "  <div class=\"colab-df-container\">\n",
              "    <button class=\"colab-df-convert\" onclick=\"convertToInteractive('df-15dd4ed8-ff14-4dca-bab3-484bec2f3032')\"\n",
              "            title=\"Convert this dataframe to an interactive table.\"\n",
              "            style=\"display:none;\">\n",
              "\n",
              "  <svg xmlns=\"http://www.w3.org/2000/svg\" height=\"24px\" viewBox=\"0 -960 960 960\">\n",
              "    <path d=\"M120-120v-720h720v720H120Zm60-500h600v-160H180v160Zm220 220h160v-160H400v160Zm0 220h160v-160H400v160ZM180-400h160v-160H180v160Zm440 0h160v-160H620v160ZM180-180h160v-160H180v160Zm440 0h160v-160H620v160Z\"/>\n",
              "  </svg>\n",
              "    </button>\n",
              "\n",
              "  <style>\n",
              "    .colab-df-container {\n",
              "      display:flex;\n",
              "      gap: 12px;\n",
              "    }\n",
              "\n",
              "    .colab-df-convert {\n",
              "      background-color: #E8F0FE;\n",
              "      border: none;\n",
              "      border-radius: 50%;\n",
              "      cursor: pointer;\n",
              "      display: none;\n",
              "      fill: #1967D2;\n",
              "      height: 32px;\n",
              "      padding: 0 0 0 0;\n",
              "      width: 32px;\n",
              "    }\n",
              "\n",
              "    .colab-df-convert:hover {\n",
              "      background-color: #E2EBFA;\n",
              "      box-shadow: 0px 1px 2px rgba(60, 64, 67, 0.3), 0px 1px 3px 1px rgba(60, 64, 67, 0.15);\n",
              "      fill: #174EA6;\n",
              "    }\n",
              "\n",
              "    .colab-df-buttons div {\n",
              "      margin-bottom: 4px;\n",
              "    }\n",
              "\n",
              "    [theme=dark] .colab-df-convert {\n",
              "      background-color: #3B4455;\n",
              "      fill: #D2E3FC;\n",
              "    }\n",
              "\n",
              "    [theme=dark] .colab-df-convert:hover {\n",
              "      background-color: #434B5C;\n",
              "      box-shadow: 0px 1px 3px 1px rgba(0, 0, 0, 0.15);\n",
              "      filter: drop-shadow(0px 1px 2px rgba(0, 0, 0, 0.3));\n",
              "      fill: #FFFFFF;\n",
              "    }\n",
              "  </style>\n",
              "\n",
              "    <script>\n",
              "      const buttonEl =\n",
              "        document.querySelector('#df-15dd4ed8-ff14-4dca-bab3-484bec2f3032 button.colab-df-convert');\n",
              "      buttonEl.style.display =\n",
              "        google.colab.kernel.accessAllowed ? 'block' : 'none';\n",
              "\n",
              "      async function convertToInteractive(key) {\n",
              "        const element = document.querySelector('#df-15dd4ed8-ff14-4dca-bab3-484bec2f3032');\n",
              "        const dataTable =\n",
              "          await google.colab.kernel.invokeFunction('convertToInteractive',\n",
              "                                                    [key], {});\n",
              "        if (!dataTable) return;\n",
              "\n",
              "        const docLinkHtml = 'Like what you see? Visit the ' +\n",
              "          '<a target=\"_blank\" href=https://colab.research.google.com/notebooks/data_table.ipynb>data table notebook</a>'\n",
              "          + ' to learn more about interactive tables.';\n",
              "        element.innerHTML = '';\n",
              "        dataTable['output_type'] = 'display_data';\n",
              "        await google.colab.output.renderOutput(dataTable, element);\n",
              "        const docLink = document.createElement('div');\n",
              "        docLink.innerHTML = docLinkHtml;\n",
              "        element.appendChild(docLink);\n",
              "      }\n",
              "    </script>\n",
              "  </div>\n",
              "\n",
              "\n",
              "    </div>\n",
              "  </div>\n"
            ],
            "application/vnd.google.colaboratory.intrinsic+json": {
              "type": "dataframe",
              "variable_name": "df",
              "summary": "{\n  \"name\": \"df\",\n  \"rows\": 474,\n  \"fields\": [\n    {\n      \"column\": \"fid\",\n      \"properties\": {\n        \"dtype\": \"number\",\n        \"std\": 136,\n        \"min\": 1,\n        \"max\": 474,\n        \"num_unique_values\": 474,\n        \"samples\": [\n          429,\n          441,\n          10\n        ],\n        \"semantic_type\": \"\",\n        \"description\": \"\"\n      }\n    },\n    {\n      \"column\": \"species\",\n      \"properties\": {\n        \"dtype\": \"category\",\n        \"num_unique_values\": 1,\n        \"samples\": [\n          \"Pitta nympha\"\n        ],\n        \"semantic_type\": \"\",\n        \"description\": \"\"\n      }\n    },\n    {\n      \"column\": \"year\",\n      \"properties\": {\n        \"dtype\": \"number\",\n        \"std\": 4,\n        \"min\": 1980,\n        \"max\": 2023,\n        \"num_unique_values\": 17,\n        \"samples\": [\n          2023\n        ],\n        \"semantic_type\": \"\",\n        \"description\": \"\"\n      }\n    },\n    {\n      \"column\": \"month\",\n      \"properties\": {\n        \"dtype\": \"number\",\n        \"std\": 0,\n        \"min\": 2,\n        \"max\": 11,\n        \"num_unique_values\": 8,\n        \"samples\": [\n          6\n        ],\n        \"semantic_type\": \"\",\n        \"description\": \"\"\n      }\n    },\n    {\n      \"column\": \"layer\",\n      \"properties\": {\n        \"dtype\": \"category\",\n        \"num_unique_values\": 3,\n        \"samples\": [\n          \"pitta_nympha_data_gbif\"\n        ],\n        \"semantic_type\": \"\",\n        \"description\": \"\"\n      }\n    },\n    {\n      \"column\": \"path\",\n      \"properties\": {\n        \"dtype\": \"category\",\n        \"num_unique_values\": 3,\n        \"samples\": [\n          \"D:/GEODATA/pitta_nympha_data/gbif/pitta_nympha_data.gpkg|layername=pitta_nympha_data_gbif\"\n        ],\n        \"semantic_type\": \"\",\n        \"description\": \"\"\n      }\n    },\n    {\n      \"column\": \"xcoord\",\n      \"properties\": {\n        \"dtype\": \"number\",\n        \"std\": 0.8318184243138524,\n        \"min\": 124.6648,\n        \"max\": 129.43712,\n        \"num_unique_values\": 301,\n        \"samples\": [\n          128.612393333333\n        ],\n        \"semantic_type\": \"\",\n        \"description\": \"\"\n      }\n    },\n    {\n      \"column\": \"ycoord\",\n      \"properties\": {\n        \"dtype\": \"number\",\n        \"std\": 1.3642425474242799,\n        \"min\": 33.117916,\n        \"max\": 38.127472,\n        \"num_unique_values\": 296,\n        \"samples\": [\n          34.54\n        ],\n        \"semantic_type\": \"\",\n        \"description\": \"\"\n      }\n    },\n    {\n      \"column\": \"zcoord\",\n      \"properties\": {\n        \"dtype\": \"number\",\n        \"std\": 0,\n        \"min\": 0,\n        \"max\": 0,\n        \"num_unique_values\": 1,\n        \"samples\": [\n          0\n        ],\n        \"semantic_type\": \"\",\n        \"description\": \"\"\n      }\n    }\n  ]\n}"
            }
          },
          "metadata": {},
          "execution_count": 4
        }
      ]
    },
    {
      "cell_type": "markdown",
      "metadata": {
        "id": "TEjSEmK3pfe0"
      },
      "source": [
        "Next, we convert the DataFrame into a GeoDataFrame that includes a column for geographic information (`geometry`) and check the first row. A GeoDataFrame can be saved as a GeoPackage file (*.gpkg) and read back in."
      ]
    },
    {
      "cell_type": "code",
      "source": [
        "# Convert DataFrame to GeoDataFrame\n",
        "gdf = gpd.GeoDataFrame(\n",
        "    df,\n",
        "    geometry=gpd.points_from_xy(df.xcoord, df.ycoord),\n",
        "    crs=\"EPSG:4326\"\n",
        ")[[\"species\", \"year\", \"month\", \"geometry\"]]\n",
        "gdf.to_file(\"pitta_nympha_data.gpkg\", driver=\"GPKG\")\n",
        "gdf = gpd.read_file(\"pitta_nympha_data.gpkg\")\n",
        "gdf.head(1)  # Display the first row of the GeoDataFrame"
      ],
      "metadata": {
        "colab": {
          "base_uri": "https://localhost:8080/",
          "height": 81
        },
        "id": "G6dFKr4su635",
        "outputId": "91a66fc9-c587-444f-b781-0487a9d6648d"
      },
      "execution_count": 5,
      "outputs": [
        {
          "output_type": "display_data",
          "data": {
            "text/plain": [
              "<IPython.core.display.HTML object>"
            ],
            "text/html": [
              "\n",
              "            <style>\n",
              "                .geemap-dark {\n",
              "                    --jp-widgets-color: white;\n",
              "                    --jp-widgets-label-color: white;\n",
              "                    --jp-ui-font-color1: white;\n",
              "                    --jp-layout-color2: #454545;\n",
              "                    background-color: #383838;\n",
              "                }\n",
              "\n",
              "                .geemap-dark .jupyter-button {\n",
              "                    --jp-layout-color3: #383838;\n",
              "                }\n",
              "\n",
              "                .geemap-colab {\n",
              "                    background-color: var(--colab-primary-surface-color, white);\n",
              "                }\n",
              "\n",
              "                .geemap-colab .jupyter-button {\n",
              "                    --jp-layout-color3: var(--colab-primary-surface-color, white);\n",
              "                }\n",
              "            </style>\n",
              "            "
            ]
          },
          "metadata": {}
        },
        {
          "output_type": "execute_result",
          "data": {
            "text/plain": [
              "        species  year  month                    geometry\n",
              "0  Pitta nympha  2023      5  POINT (126.72514 33.20314)"
            ],
            "text/html": [
              "\n",
              "  <div id=\"df-b148b43b-3892-47e8-9d79-f3ded6df9639\" class=\"colab-df-container\">\n",
              "    <div>\n",
              "<style scoped>\n",
              "    .dataframe tbody tr th:only-of-type {\n",
              "        vertical-align: middle;\n",
              "    }\n",
              "\n",
              "    .dataframe tbody tr th {\n",
              "        vertical-align: top;\n",
              "    }\n",
              "\n",
              "    .dataframe thead th {\n",
              "        text-align: right;\n",
              "    }\n",
              "</style>\n",
              "<table border=\"1\" class=\"dataframe\">\n",
              "  <thead>\n",
              "    <tr style=\"text-align: right;\">\n",
              "      <th></th>\n",
              "      <th>species</th>\n",
              "      <th>year</th>\n",
              "      <th>month</th>\n",
              "      <th>geometry</th>\n",
              "    </tr>\n",
              "  </thead>\n",
              "  <tbody>\n",
              "    <tr>\n",
              "      <th>0</th>\n",
              "      <td>Pitta nympha</td>\n",
              "      <td>2023</td>\n",
              "      <td>5</td>\n",
              "      <td>POINT (126.72514 33.20314)</td>\n",
              "    </tr>\n",
              "  </tbody>\n",
              "</table>\n",
              "</div>\n",
              "    <div class=\"colab-df-buttons\">\n",
              "\n",
              "  <div class=\"colab-df-container\">\n",
              "    <button class=\"colab-df-convert\" onclick=\"convertToInteractive('df-b148b43b-3892-47e8-9d79-f3ded6df9639')\"\n",
              "            title=\"Convert this dataframe to an interactive table.\"\n",
              "            style=\"display:none;\">\n",
              "\n",
              "  <svg xmlns=\"http://www.w3.org/2000/svg\" height=\"24px\" viewBox=\"0 -960 960 960\">\n",
              "    <path d=\"M120-120v-720h720v720H120Zm60-500h600v-160H180v160Zm220 220h160v-160H400v160Zm0 220h160v-160H400v160ZM180-400h160v-160H180v160Zm440 0h160v-160H620v160ZM180-180h160v-160H180v160Zm440 0h160v-160H620v160Z\"/>\n",
              "  </svg>\n",
              "    </button>\n",
              "\n",
              "  <style>\n",
              "    .colab-df-container {\n",
              "      display:flex;\n",
              "      gap: 12px;\n",
              "    }\n",
              "\n",
              "    .colab-df-convert {\n",
              "      background-color: #E8F0FE;\n",
              "      border: none;\n",
              "      border-radius: 50%;\n",
              "      cursor: pointer;\n",
              "      display: none;\n",
              "      fill: #1967D2;\n",
              "      height: 32px;\n",
              "      padding: 0 0 0 0;\n",
              "      width: 32px;\n",
              "    }\n",
              "\n",
              "    .colab-df-convert:hover {\n",
              "      background-color: #E2EBFA;\n",
              "      box-shadow: 0px 1px 2px rgba(60, 64, 67, 0.3), 0px 1px 3px 1px rgba(60, 64, 67, 0.15);\n",
              "      fill: #174EA6;\n",
              "    }\n",
              "\n",
              "    .colab-df-buttons div {\n",
              "      margin-bottom: 4px;\n",
              "    }\n",
              "\n",
              "    [theme=dark] .colab-df-convert {\n",
              "      background-color: #3B4455;\n",
              "      fill: #D2E3FC;\n",
              "    }\n",
              "\n",
              "    [theme=dark] .colab-df-convert:hover {\n",
              "      background-color: #434B5C;\n",
              "      box-shadow: 0px 1px 3px 1px rgba(0, 0, 0, 0.15);\n",
              "      filter: drop-shadow(0px 1px 2px rgba(0, 0, 0, 0.3));\n",
              "      fill: #FFFFFF;\n",
              "    }\n",
              "  </style>\n",
              "\n",
              "    <script>\n",
              "      const buttonEl =\n",
              "        document.querySelector('#df-b148b43b-3892-47e8-9d79-f3ded6df9639 button.colab-df-convert');\n",
              "      buttonEl.style.display =\n",
              "        google.colab.kernel.accessAllowed ? 'block' : 'none';\n",
              "\n",
              "      async function convertToInteractive(key) {\n",
              "        const element = document.querySelector('#df-b148b43b-3892-47e8-9d79-f3ded6df9639');\n",
              "        const dataTable =\n",
              "          await google.colab.kernel.invokeFunction('convertToInteractive',\n",
              "                                                    [key], {});\n",
              "        if (!dataTable) return;\n",
              "\n",
              "        const docLinkHtml = 'Like what you see? Visit the ' +\n",
              "          '<a target=\"_blank\" href=https://colab.research.google.com/notebooks/data_table.ipynb>data table notebook</a>'\n",
              "          + ' to learn more about interactive tables.';\n",
              "        element.innerHTML = '';\n",
              "        dataTable['output_type'] = 'display_data';\n",
              "        await google.colab.output.renderOutput(dataTable, element);\n",
              "        const docLink = document.createElement('div');\n",
              "        docLink.innerHTML = docLinkHtml;\n",
              "        element.appendChild(docLink);\n",
              "      }\n",
              "    </script>\n",
              "  </div>\n",
              "\n",
              "\n",
              "    </div>\n",
              "  </div>\n"
            ],
            "application/vnd.google.colaboratory.intrinsic+json": {
              "type": "dataframe",
              "variable_name": "gdf",
              "summary": "{\n  \"name\": \"gdf\",\n  \"rows\": 474,\n  \"fields\": [\n    {\n      \"column\": \"species\",\n      \"properties\": {\n        \"dtype\": \"category\",\n        \"num_unique_values\": 1,\n        \"samples\": [\n          \"Pitta nympha\"\n        ],\n        \"semantic_type\": \"\",\n        \"description\": \"\"\n      }\n    },\n    {\n      \"column\": \"year\",\n      \"properties\": {\n        \"dtype\": \"number\",\n        \"std\": 4,\n        \"min\": 1980,\n        \"max\": 2023,\n        \"num_unique_values\": 17,\n        \"samples\": [\n          2023\n        ],\n        \"semantic_type\": \"\",\n        \"description\": \"\"\n      }\n    },\n    {\n      \"column\": \"month\",\n      \"properties\": {\n        \"dtype\": \"number\",\n        \"std\": 0,\n        \"min\": 2,\n        \"max\": 11,\n        \"num_unique_values\": 8,\n        \"samples\": [\n          6\n        ],\n        \"semantic_type\": \"\",\n        \"description\": \"\"\n      }\n    },\n    {\n      \"column\": \"geometry\",\n      \"properties\": {\n        \"dtype\": \"geometry\",\n        \"num_unique_values\": 302,\n        \"samples\": [\n          \"POINT (128.629 34.7639633333333)\"\n        ],\n        \"semantic_type\": \"\",\n        \"description\": \"\"\n      }\n    }\n  ]\n}"
            }
          },
          "metadata": {},
          "execution_count": 5
        }
      ]
    },
    {
      "cell_type": "markdown",
      "metadata": {
        "id": "5Lj919AaqmUq"
      },
      "source": [
        "This time, we have created a function to visualize the distribution of data by year and month from the GeoDataFrame and display it as a graph, which can then be saved as an image file. The use of a heatmap allows us to quickly grasp the frequency of species occurrence by year and month, providing an intuitive visualization of the temporal changes and patterns within the data. This allows for the identification of temporal patterns and seasonal variations in species occurrence data, as well as the rapid detection of outliers or quality issues within the data."
      ]
    },
    {
      "cell_type": "code",
      "execution_count": 6,
      "metadata": {
        "id": "Iju-dNZErzkJ",
        "colab": {
          "base_uri": "https://localhost:8080/",
          "height": 17
        },
        "outputId": "153ee404-a0a7-41ca-8c30-6d0133b5be5e"
      },
      "outputs": [
        {
          "output_type": "display_data",
          "data": {
            "text/plain": [
              "<IPython.core.display.HTML object>"
            ],
            "text/html": [
              "\n",
              "            <style>\n",
              "                .geemap-dark {\n",
              "                    --jp-widgets-color: white;\n",
              "                    --jp-widgets-label-color: white;\n",
              "                    --jp-ui-font-color1: white;\n",
              "                    --jp-layout-color2: #454545;\n",
              "                    background-color: #383838;\n",
              "                }\n",
              "\n",
              "                .geemap-dark .jupyter-button {\n",
              "                    --jp-layout-color3: #383838;\n",
              "                }\n",
              "\n",
              "                .geemap-colab {\n",
              "                    background-color: var(--colab-primary-surface-color, white);\n",
              "                }\n",
              "\n",
              "                .geemap-colab .jupyter-button {\n",
              "                    --jp-layout-color3: var(--colab-primary-surface-color, white);\n",
              "                }\n",
              "            </style>\n",
              "            "
            ]
          },
          "metadata": {}
        }
      ],
      "source": [
        "# Yearly and monthly data distribution heatmap\n",
        "def plot_heatmap(gdf, h_size=8):\n",
        "\n",
        "    statistics = gdf.groupby([\"month\", \"year\"]).size().unstack(fill_value=0)\n",
        "\n",
        "    # Heatmap\n",
        "    plt.figure(figsize=(h_size, h_size - 6))\n",
        "    heatmap = plt.imshow(\n",
        "        statistics.values, cmap=\"YlOrBr\", origin=\"upper\", aspect=\"auto\"\n",
        "    )\n",
        "\n",
        "    # Display values above each pixel\n",
        "    for i in range(len(statistics.index)):\n",
        "        for j in range(len(statistics.columns)):\n",
        "            plt.text(\n",
        "                j, i, statistics.values[i, j], ha=\"center\", va=\"center\", color=\"black\"\n",
        "            )\n",
        "\n",
        "    plt.colorbar(heatmap, label=\"Count\")\n",
        "    plt.title(\"Monthly Species Count by Year\")\n",
        "    plt.xlabel(\"Year\")\n",
        "    plt.ylabel(\"Month\")\n",
        "    plt.xticks(range(len(statistics.columns)), statistics.columns)\n",
        "    plt.yticks(range(len(statistics.index)), statistics.index)\n",
        "    plt.tight_layout()\n",
        "    plt.savefig(\"heatmap_plot.png\")\n",
        "    plt.show()"
      ]
    },
    {
      "cell_type": "code",
      "execution_count": 7,
      "metadata": {
        "id": "dlW1nIQZrjx3",
        "colab": {
          "base_uri": "https://localhost:8080/",
          "height": 307
        },
        "outputId": "dedb1981-b805-4f66-bdd2-535b652b94fc"
      },
      "outputs": [
        {
          "output_type": "display_data",
          "data": {
            "text/plain": [
              "<IPython.core.display.HTML object>"
            ],
            "text/html": [
              "\n",
              "            <style>\n",
              "                .geemap-dark {\n",
              "                    --jp-widgets-color: white;\n",
              "                    --jp-widgets-label-color: white;\n",
              "                    --jp-ui-font-color1: white;\n",
              "                    --jp-layout-color2: #454545;\n",
              "                    background-color: #383838;\n",
              "                }\n",
              "\n",
              "                .geemap-dark .jupyter-button {\n",
              "                    --jp-layout-color3: #383838;\n",
              "                }\n",
              "\n",
              "                .geemap-colab {\n",
              "                    background-color: var(--colab-primary-surface-color, white);\n",
              "                }\n",
              "\n",
              "                .geemap-colab .jupyter-button {\n",
              "                    --jp-layout-color3: var(--colab-primary-surface-color, white);\n",
              "                }\n",
              "            </style>\n",
              "            "
            ]
          },
          "metadata": {}
        },
        {
          "output_type": "display_data",
          "data": {
            "text/plain": [
              "<Figure size 900x300 with 2 Axes>"
            ],
            "image/png": "[encoded data removed]"
          },
          "metadata": {}
        }
      ],
      "source": [
        "plot_heatmap(gdf, h_size=9)"
      ]
    },
    {
      "cell_type": "markdown",
      "metadata": {
        "id": "vIj9CO1RrCSs"
      },
      "source": [
        "The data from 1995 is very sparse, with significant gaps compared to other years, and the months of August and September also have limited samples and exhibit different seasonal characteristics compared to other periods. Excluding this data could contribute to improving the stability and predictive power of the model.\n",
        "\n",
        "However, it's important to note that excluding data may enhance the model's generalization ability, but it could also lead to the loss of valuable information relevant to the research objectives. Therefore, such decisions should be made with careful consideration."
      ]
    },
    {
      "cell_type": "code",
      "execution_count": 8,
      "metadata": {
        "id": "k1PpbNsGq9qh",
        "colab": {
          "base_uri": "https://localhost:8080/",
          "height": 53
        },
        "outputId": "6278d129-feec-4477-9ae6-ebd38fb8d551"
      },
      "outputs": [
        {
          "output_type": "display_data",
          "data": {
            "text/plain": [
              "<IPython.core.display.HTML object>"
            ],
            "text/html": [
              "\n",
              "            <style>\n",
              "                .geemap-dark {\n",
              "                    --jp-widgets-color: white;\n",
              "                    --jp-widgets-label-color: white;\n",
              "                    --jp-ui-font-color1: white;\n",
              "                    --jp-layout-color2: #454545;\n",
              "                    background-color: #383838;\n",
              "                }\n",
              "\n",
              "                .geemap-dark .jupyter-button {\n",
              "                    --jp-layout-color3: #383838;\n",
              "                }\n",
              "\n",
              "                .geemap-colab {\n",
              "                    background-color: var(--colab-primary-surface-color, white);\n",
              "                }\n",
              "\n",
              "                .geemap-colab .jupyter-button {\n",
              "                    --jp-layout-color3: var(--colab-primary-surface-color, white);\n",
              "                }\n",
              "            </style>\n",
              "            "
            ]
          },
          "metadata": {}
        },
        {
          "output_type": "stream",
          "name": "stdout",
          "text": [
            "Original data size: 474\n",
            "Filtered data size: 446\n"
          ]
        }
      ],
      "source": [
        "# Filtering data by year and month\n",
        "filtered_gdf = gdf[\n",
        "    (gdf['year'] > 1995) &\n",
        "    (gdf['month'].between(5, 7))\n",
        "]\n",
        "print(\"Original data size:\", len(gdf))\n",
        "print(\"Filtered data size:\", len(filtered_gdf))"
      ]
    },
    {
      "cell_type": "markdown",
      "metadata": {
        "id": "jy0BBd-6sdLz"
      },
      "source": [
        "Now, the filtered GeoDataFrame is converted into a Google Earth Engine object."
      ]
    },
    {
      "cell_type": "code",
      "execution_count": 9,
      "metadata": {
        "id": "Fxu0OsBksMKM",
        "colab": {
          "base_uri": "https://localhost:8080/",
          "height": 17
        },
        "outputId": "05da2940-8a45-43b5-d3e0-6975370e7168"
      },
      "outputs": [
        {
          "output_type": "display_data",
          "data": {
            "text/plain": [
              "<IPython.core.display.HTML object>"
            ],
            "text/html": [
              "\n",
              "            <style>\n",
              "                .geemap-dark {\n",
              "                    --jp-widgets-color: white;\n",
              "                    --jp-widgets-label-color: white;\n",
              "                    --jp-ui-font-color1: white;\n",
              "                    --jp-layout-color2: #454545;\n",
              "                    background-color: #383838;\n",
              "                }\n",
              "\n",
              "                .geemap-dark .jupyter-button {\n",
              "                    --jp-layout-color3: #383838;\n",
              "                }\n",
              "\n",
              "                .geemap-colab {\n",
              "                    background-color: var(--colab-primary-surface-color, white);\n",
              "                }\n",
              "\n",
              "                .geemap-colab .jupyter-button {\n",
              "                    --jp-layout-color3: var(--colab-primary-surface-color, white);\n",
              "                }\n",
              "            </style>\n",
              "            "
            ]
          },
          "metadata": {}
        }
      ],
      "source": [
        "# Convert GeoDataFrame to Earth Engine object\n",
        "data_raw = geemap.geopandas_to_ee(filtered_gdf)"
      ]
    },
    {
      "cell_type": "code",
      "source": [
        "# NASA SRTM Digital Elevation 30m\n",
        "terrain = ee.Algorithms.Terrain(ee.Image(\"USGS/SRTMGL1_003\"))\n",
        "elevation = terrain.select('elevation')\n",
        "\n",
        "# Add elevation to the points\n",
        "data_with_elevation = elevation.sampleRegions(\n",
        "    collection=data_raw,\n",
        "    scale=30,  # Resolution of SRTM data\n",
        "    geometries=True\n",
        ")\n",
        "\n",
        "# Filter points with elevation > 0\n",
        "filtered_data = data_with_elevation.filter(ee.Filter.gt('elevation', 0))\n",
        "print(\"Original data size:\", data_raw.size().getInfo())\n",
        "print(\"Final data size:\", filtered_data.size().getInfo())"
      ],
      "metadata": {
        "colab": {
          "base_uri": "https://localhost:8080/",
          "height": 53
        },
        "id": "u3GTgF0I7hOI",
        "outputId": "4f444f5b-13dc-4ca9-b69d-dbeeed65fd82"
      },
      "execution_count": 10,
      "outputs": [
        {
          "output_type": "display_data",
          "data": {
            "text/plain": [
              "<IPython.core.display.HTML object>"
            ],
            "text/html": [
              "\n",
              "            <style>\n",
              "                .geemap-dark {\n",
              "                    --jp-widgets-color: white;\n",
              "                    --jp-widgets-label-color: white;\n",
              "                    --jp-ui-font-color1: white;\n",
              "                    --jp-layout-color2: #454545;\n",
              "                    background-color: #383838;\n",
              "                }\n",
              "\n",
              "                .geemap-dark .jupyter-button {\n",
              "                    --jp-layout-color3: #383838;\n",
              "                }\n",
              "\n",
              "                .geemap-colab {\n",
              "                    background-color: var(--colab-primary-surface-color, white);\n",
              "                }\n",
              "\n",
              "                .geemap-colab .jupyter-button {\n",
              "                    --jp-layout-color3: var(--colab-primary-surface-color, white);\n",
              "                }\n",
              "            </style>\n",
              "            "
            ]
          },
          "metadata": {}
        },
        {
          "output_type": "stream",
          "name": "stdout",
          "text": [
            "Original data size: 446\n",
            "Final data size: 432\n"
          ]
        }
      ]
    },
    {
      "cell_type": "markdown",
      "metadata": {
        "id": "55p_GfB6sv3U"
      },
      "source": [
        "Next, we will define the raster pixel size of the SDM results as 1km resolution."
      ]
    },
    {
      "cell_type": "markdown",
      "source": [],
      "metadata": {
        "id": "7x4rW58F7N45"
      }
    },
    {
      "cell_type": "code",
      "execution_count": 11,
      "metadata": {
        "id": "FsTbNQ17s1l-",
        "colab": {
          "base_uri": "https://localhost:8080/",
          "height": 17
        },
        "outputId": "a8503331-ae9d-4de1-f672-033d97110d04"
      },
      "outputs": [
        {
          "output_type": "display_data",
          "data": {
            "text/plain": [
              "<IPython.core.display.HTML object>"
            ],
            "text/html": [
              "\n",
              "            <style>\n",
              "                .geemap-dark {\n",
              "                    --jp-widgets-color: white;\n",
              "                    --jp-widgets-label-color: white;\n",
              "                    --jp-ui-font-color1: white;\n",
              "                    --jp-layout-color2: #454545;\n",
              "                    background-color: #383838;\n",
              "                }\n",
              "\n",
              "                .geemap-dark .jupyter-button {\n",
              "                    --jp-layout-color3: #383838;\n",
              "                }\n",
              "\n",
              "                .geemap-colab {\n",
              "                    background-color: var(--colab-primary-surface-color, white);\n",
              "                }\n",
              "\n",
              "                .geemap-colab .jupyter-button {\n",
              "                    --jp-layout-color3: var(--colab-primary-surface-color, white);\n",
              "                }\n",
              "            </style>\n",
              "            "
            ]
          },
          "metadata": {}
        }
      ],
      "source": [
        "# Spatial resolution setting (meters)\n",
        "grain_size = 1000"
      ]
    },
    {
      "cell_type": "markdown",
      "metadata": {
        "id": "A20gAGUZtN6S"
      },
      "source": [
        "When multiple occurrence points are present within the same 1km resolution raster pixel, there is a high likelihood that they share the same environmental conditions at the same geographic location. Using such data directly in the analysis can introduce bias into the results.\n",
        "\n",
        "In other words, we need to limit the potential impact of geographic sampling bias. To achieve this, we will retain only one location within each 1km pixel and remove all others, allowing the model to more objectively reflect the environmental conditions."
      ]
    },
    {
      "cell_type": "code",
      "execution_count": 12,
      "metadata": {
        "id": "dHtyQyMQs82v",
        "colab": {
          "base_uri": "https://localhost:8080/",
          "height": 53
        },
        "outputId": "b3426eed-9030-4727-ebed-5f614c54c497"
      },
      "outputs": [
        {
          "output_type": "display_data",
          "data": {
            "text/plain": [
              "<IPython.core.display.HTML object>"
            ],
            "text/html": [
              "\n",
              "            <style>\n",
              "                .geemap-dark {\n",
              "                    --jp-widgets-color: white;\n",
              "                    --jp-widgets-label-color: white;\n",
              "                    --jp-ui-font-color1: white;\n",
              "                    --jp-layout-color2: #454545;\n",
              "                    background-color: #383838;\n",
              "                }\n",
              "\n",
              "                .geemap-dark .jupyter-button {\n",
              "                    --jp-layout-color3: #383838;\n",
              "                }\n",
              "\n",
              "                .geemap-colab {\n",
              "                    background-color: var(--colab-primary-surface-color, white);\n",
              "                }\n",
              "\n",
              "                .geemap-colab .jupyter-button {\n",
              "                    --jp-layout-color3: var(--colab-primary-surface-color, white);\n",
              "                }\n",
              "            </style>\n",
              "            "
            ]
          },
          "metadata": {}
        },
        {
          "output_type": "stream",
          "name": "stdout",
          "text": [
            "Original data size: 432\n",
            "Final data size: 208\n"
          ]
        }
      ],
      "source": [
        "def remove_duplicates(data, grain_size):\n",
        "    # Select one occurrence record per pixel at the chosen spatial resolution\n",
        "    random_raster = ee.Image.random().reproject(\"EPSG:4326\", None, grain_size)\n",
        "    rand_point_vals = random_raster.sampleRegions(\n",
        "        collection=ee.FeatureCollection(data), geometries=True\n",
        "    )\n",
        "    return rand_point_vals.distinct(\"random\")\n",
        "\n",
        "data = remove_duplicates(filtered_data, grain_size)\n",
        "\n",
        "# Before selection and after selection\n",
        "print(\"Original data size:\", filtered_data.size().getInfo())\n",
        "print(\"Final data size:\", data.size().getInfo())"
      ]
    },
    {
      "cell_type": "markdown",
      "metadata": {
        "id": "Rhu4b4BxuMHE"
      },
      "source": [
        "The visualization comparing geographic sampling bias before preprocessing (in blue) and after preprocessing (in red) is shown below. To facilitate comparison, the map has been centered on the area with a high concentration of Fairy pitta occurrence coordinates in Hallasan National Park."
      ]
    },
    {
      "cell_type": "code",
      "execution_count": 13,
      "metadata": {
        "id": "d9pFgpUztsB-",
        "colab": {
          "base_uri": "https://localhost:8080/",
          "height": 421,
          "referenced_widgets": [
            "b97d8b7936a846e8ac9f5e2b7bc2c6fc",
            "18bc6e1b49f4467cbab6035302ec5b53",
            "cdc515835b1544bfafd893c9c896a59c",
            "da4c85b7b7534ea79db3fcd5aed7bef8",
            "354f3d8a141741329b072fbee52ccdee",
            "419a5cb95ac6472f938143950a405244",
            "336c8a0c32174e7e9d068ed4f2d1d887",
            "ac69adbf811d4ca9b4e1ea911ae368ed",
            "f79aa48a7ffa489e930bf9ae2a76ad63",
            "cf9aa5717e0545d6ac9df150aa2ec0b8",
            "5d73f10140ec404299006d3ced1bad83",
            "fa028526855c49fea2e83aa9315c0195",
            "1987a5b0ebcb4d9c927087d0163bb14a",
            "1dc7e40f94dc46488b4da483177cad1c",
            "184e9ff0e0ff4c29a2f7fbfb30820dd8",
            "0cd27f6d4e354c48b75593ca0bff5745",
            "e61d730c7326469088b96a87e293b618",
            "4a3c10fe7dee481db4d17e55f5ae8119",
            "fd6ab28d4f8c4062bf6af461ff2d5aaa",
            "74d0b5767f8446ca9f8d96b8dc5b9df4",
            "e5e33ad47499454eb1938cac69f7c239",
            "fe033b30a2fa470ebee92013be910c47",
            "0e549683432f4eadad2df9b99f682c60",
            "6d35f7adfa2440e686843911656ad9a3",
            "65b6152add74474882c765c6d3590ab2",
            "af267ad2d0f545ecb9572156b988cac8",
            "8cef8d9816ae488fa3b46dd73c1f23b6",
            "835b519eb2d543b88243f087b56a95ab"
          ]
        },
        "outputId": "ba8cb1ea-bb78-412c-e086-0dbfb18b02cf"
      },
      "outputs": [
        {
          "output_type": "display_data",
          "data": {
            "text/plain": [
              "<IPython.core.display.HTML object>"
            ],
            "text/html": [
              "\n",
              "            <style>\n",
              "                .geemap-dark {\n",
              "                    --jp-widgets-color: white;\n",
              "                    --jp-widgets-label-color: white;\n",
              "                    --jp-ui-font-color1: white;\n",
              "                    --jp-layout-color2: #454545;\n",
              "                    background-color: #383838;\n",
              "                }\n",
              "\n",
              "                .geemap-dark .jupyter-button {\n",
              "                    --jp-layout-color3: #383838;\n",
              "                }\n",
              "\n",
              "                .geemap-colab {\n",
              "                    background-color: var(--colab-primary-surface-color, white);\n",
              "                }\n",
              "\n",
              "                .geemap-colab .jupyter-button {\n",
              "                    --jp-layout-color3: var(--colab-primary-surface-color, white);\n",
              "                }\n",
              "            </style>\n",
              "            "
            ]
          },
          "metadata": {}
        },
        {
          "output_type": "display_data",
          "data": {
            "text/plain": [
              "Map(center=[33.516, 126.712], controls=(WidgetControl(options=['position', 'transparent_bg'], widget=SearchDat…"
            ],
            "application/vnd.jupyter.widget-view+json": {
              "version_major": 2,
              "version_minor": 0,
              "model_id": "b97d8b7936a846e8ac9f5e2b7bc2c6fc"
            }
          },
          "metadata": {
            "application/vnd.jupyter.widget-view+json": {
              "colab": {
                "custom_widget_manager": {
                  "url": "https://ssl.gstatic.com/colaboratory-static/widgets/colab-cdn-widget-manager/2b70e893a8ba7c0f/manager.min.js"
                }
              }
            }
          }
        }
      ],
      "source": [
        "# Visualization of geographic sampling bias before (blue) and after (red) preprocessing\n",
        "Map = geemap.Map(layout={\"height\": \"400px\", \"width\": \"800px\"})\n",
        "\n",
        "# Add the random raster layer\n",
        "random_raster = ee.Image.random().reproject(\"EPSG:4326\", None, grain_size)\n",
        "Map.addLayer(\n",
        "    random_raster,\n",
        "    {\"min\": 0, \"max\": 1, \"palette\": [\"black\", \"white\"], \"opacity\": 0.5},\n",
        "    \"Random Raster\",\n",
        ")\n",
        "\n",
        "# Add the original data layer in blue\n",
        "Map.addLayer(data_raw, {\"color\": \"blue\"}, \"Original data\")\n",
        "\n",
        "# Add the final data layer in red\n",
        "Map.addLayer(data, {\"color\": \"red\"}, \"Final data\")\n",
        "\n",
        "# Set the center of the map to the coordinates\n",
        "Map.setCenter(126.712, 33.516, 14)\n",
        "Map"
      ]
    },
    {
      "cell_type": "markdown",
      "metadata": {
        "id": "3oPtTj_O6d3H"
      },
      "source": [
        "### Definition of the Area of Interest\n",
        "\n",
        "Defining the Area of Interest (AOI below) refers to the term used by researchers to denote the geographical area they want to analyze. It has a similar meaning to the term Study Area.\n",
        "\n",
        "In this context, we obtained the bounding box of the occurrence point layer geometry and created a 50-kilometer buffer around it (with a maximum tolerance of 1,000 meters) to define the AOI."
      ]
    },
    {
      "cell_type": "code",
      "execution_count": 14,
      "metadata": {
        "id": "XIyhhdzUvyZw",
        "colab": {
          "base_uri": "https://localhost:8080/",
          "height": 421,
          "referenced_widgets": [
            "b97d8b7936a846e8ac9f5e2b7bc2c6fc",
            "18bc6e1b49f4467cbab6035302ec5b53",
            "cdc515835b1544bfafd893c9c896a59c",
            "da4c85b7b7534ea79db3fcd5aed7bef8",
            "354f3d8a141741329b072fbee52ccdee",
            "419a5cb95ac6472f938143950a405244",
            "336c8a0c32174e7e9d068ed4f2d1d887",
            "ac69adbf811d4ca9b4e1ea911ae368ed",
            "f79aa48a7ffa489e930bf9ae2a76ad63",
            "cf9aa5717e0545d6ac9df150aa2ec0b8",
            "5d73f10140ec404299006d3ced1bad83",
            "fa028526855c49fea2e83aa9315c0195",
            "1dc7e40f94dc46488b4da483177cad1c",
            "184e9ff0e0ff4c29a2f7fbfb30820dd8",
            "835b519eb2d543b88243f087b56a95ab",
            "0cd27f6d4e354c48b75593ca0bff5745",
            "4a3c10fe7dee481db4d17e55f5ae8119",
            "fd6ab28d4f8c4062bf6af461ff2d5aaa",
            "74d0b5767f8446ca9f8d96b8dc5b9df4",
            "e5e33ad47499454eb1938cac69f7c239",
            "fe033b30a2fa470ebee92013be910c47",
            "0e549683432f4eadad2df9b99f682c60",
            "6d35f7adfa2440e686843911656ad9a3",
            "65b6152add74474882c765c6d3590ab2",
            "af267ad2d0f545ecb9572156b988cac8",
            "8cef8d9816ae488fa3b46dd73c1f23b6"
          ]
        },
        "outputId": "6b0ab483-be06-4704-abc6-908c95d3a02e"
      },
      "outputs": [
        {
          "output_type": "display_data",
          "data": {
            "text/plain": [
              "<IPython.core.display.HTML object>"
            ],
            "text/html": [
              "\n",
              "            <style>\n",
              "                .geemap-dark {\n",
              "                    --jp-widgets-color: white;\n",
              "                    --jp-widgets-label-color: white;\n",
              "                    --jp-ui-font-color1: white;\n",
              "                    --jp-layout-color2: #454545;\n",
              "                    background-color: #383838;\n",
              "                }\n",
              "\n",
              "                .geemap-dark .jupyter-button {\n",
              "                    --jp-layout-color3: #383838;\n",
              "                }\n",
              "\n",
              "                .geemap-colab {\n",
              "                    background-color: var(--colab-primary-surface-color, white);\n",
              "                }\n",
              "\n",
              "                .geemap-colab .jupyter-button {\n",
              "                    --jp-layout-color3: var(--colab-primary-surface-color, white);\n",
              "                }\n",
              "            </style>\n",
              "            "
            ]
          },
          "metadata": {}
        },
        {
          "output_type": "display_data",
          "data": {
            "text/plain": [
              "Map(bottom=1682475.0, center=[35.60541125576072, 127.04873061439156], controls=(WidgetControl(options=['positi…"
            ],
            "application/vnd.jupyter.widget-view+json": {
              "version_major": 2,
              "version_minor": 0,
              "model_id": "b97d8b7936a846e8ac9f5e2b7bc2c6fc"
            }
          },
          "metadata": {
            "application/vnd.jupyter.widget-view+json": {
              "colab": {
                "custom_widget_manager": {
                  "url": "https://ssl.gstatic.com/colaboratory-static/widgets/colab-cdn-widget-manager/2b70e893a8ba7c0f/manager.min.js"
                }
              }
            }
          }
        }
      ],
      "source": [
        "# Define the AOI\n",
        "aoi = data.geometry().bounds().buffer(distance=50000, maxError=1000)\n",
        "\n",
        "# Add the AOI to the map\n",
        "outline = ee.Image().byte().paint(\n",
        "    featureCollection=aoi, color=1, width=3)\n",
        "\n",
        "Map.remove_layer(\"Random Raster\")\n",
        "Map.addLayer(outline, {'palette': 'FF0000'}, \"AOI\")\n",
        "Map.centerObject(aoi, 6)\n",
        "Map"
      ]
    },
    {
      "cell_type": "markdown",
      "metadata": {
        "id": "fWsplwHD8ZFd"
      },
      "source": [
        "### Addition of GEE environmental variables\n",
        "\n",
        "Now, let's add environmental variables to the analysis. GEE provides a wide range of datasets for environmental variables such as temperature, precipitation, elevation, land cover, and terrain. These datasets enable us to comprehensively analyze various factors that may influence the habitat preferences of the Fairy pitta.\n",
        "\n",
        "The selection of GEE environmental variables in SDM should reflect the habitat preference characteristics of the species. To do this, prior research and literature review on the Fairy pitta's habitat preferences should be conducted. This tutorial primarily focuses on the workflow of SDM using GEE, so some in-depth details are omitted.\n",
        "\n",
        "[**WorldClim V1 Bioclim**](https://developers.google.com/earth-engine/datasets/catalog/WORLDCLIM_V1_BIO): This dataset provides 19 bioclimatic variables derived from monthly temperature and precipitation data. It covers the period from 1960 to 1991 and has a resolution of 927.67 meters."
      ]
    },
    {
      "cell_type": "code",
      "execution_count": 15,
      "metadata": {
        "id": "TNW23qpX7shy",
        "colab": {
          "base_uri": "https://localhost:8080/",
          "height": 17
        },
        "outputId": "fd265c9a-4737-42f9-aed8-f08db8e18342"
      },
      "outputs": [
        {
          "output_type": "display_data",
          "data": {
            "text/plain": [
              "<IPython.core.display.HTML object>"
            ],
            "text/html": [
              "\n",
              "            <style>\n",
              "                .geemap-dark {\n",
              "                    --jp-widgets-color: white;\n",
              "                    --jp-widgets-label-color: white;\n",
              "                    --jp-ui-font-color1: white;\n",
              "                    --jp-layout-color2: #454545;\n",
              "                    background-color: #383838;\n",
              "                }\n",
              "\n",
              "                .geemap-dark .jupyter-button {\n",
              "                    --jp-layout-color3: #383838;\n",
              "                }\n",
              "\n",
              "                .geemap-colab {\n",
              "                    background-color: var(--colab-primary-surface-color, white);\n",
              "                }\n",
              "\n",
              "                .geemap-colab .jupyter-button {\n",
              "                    --jp-layout-color3: var(--colab-primary-surface-color, white);\n",
              "                }\n",
              "            </style>\n",
              "            "
            ]
          },
          "metadata": {}
        }
      ],
      "source": [
        "# WorldClim V1 Bioclim\n",
        "bio = ee.Image(\"WORLDCLIM/V1/BIO\")"
      ]
    },
    {
      "cell_type": "markdown",
      "metadata": {
        "id": "AzrCwWu39iLw"
      },
      "source": [
        "[**NASA SRTM Digital Elevation 30m**](https://developers.google.com/earth-engine/datasets/catalog/USGS_SRTMGL1_003): This dataset contains digital elevation data from the Shuttle Radar Topography Mission (SRTM). The data was primarily collected around the year 2000 and is provided at a resolution of approximately 30 meters (1 arc-second). The following code calculates elevation, slope, aspect, and hillshade layers from the SRTM data."
      ]
    },
    {
      "cell_type": "code",
      "execution_count": 16,
      "metadata": {
        "id": "O8lPyhWv9hHn",
        "colab": {
          "base_uri": "https://localhost:8080/",
          "height": 17
        },
        "outputId": "6e186e76-e1f6-4283-fa0b-d472c8cd73da"
      },
      "outputs": [
        {
          "output_type": "display_data",
          "data": {
            "text/plain": [
              "<IPython.core.display.HTML object>"
            ],
            "text/html": [
              "\n",
              "            <style>\n",
              "                .geemap-dark {\n",
              "                    --jp-widgets-color: white;\n",
              "                    --jp-widgets-label-color: white;\n",
              "                    --jp-ui-font-color1: white;\n",
              "                    --jp-layout-color2: #454545;\n",
              "                    background-color: #383838;\n",
              "                }\n",
              "\n",
              "                .geemap-dark .jupyter-button {\n",
              "                    --jp-layout-color3: #383838;\n",
              "                }\n",
              "\n",
              "                .geemap-colab {\n",
              "                    background-color: var(--colab-primary-surface-color, white);\n",
              "                }\n",
              "\n",
              "                .geemap-colab .jupyter-button {\n",
              "                    --jp-layout-color3: var(--colab-primary-surface-color, white);\n",
              "                }\n",
              "            </style>\n",
              "            "
            ]
          },
          "metadata": {}
        }
      ],
      "source": [
        "# NASA SRTM Digital Elevation 30m\n",
        "terrain = ee.Algorithms.Terrain(ee.Image(\"USGS/SRTMGL1_003\"))"
      ]
    },
    {
      "cell_type": "markdown",
      "metadata": {
        "id": "H-kFHdWP9_3N"
      },
      "source": [
        "[**Global Forest Cover Change (GFCC) Tree Cover Multi-Year Global 30m**](https://developers.google.com/earth-engine/datasets/catalog/NASA_MEASURES_GFCC_TC_v3): The Vegetation Continuous Fields (VCF) dataset from Landsat estimates the proportion of vertically projected vegetation cover when the vegetation height is greater than 5 meters. This dataset is provided for four time periods centered around the years 2000, 2005, 2010, and 2015, with a resolution of 30 meters. Here, the median values from these four time periods are used."
      ]
    },
    {
      "cell_type": "code",
      "execution_count": 17,
      "metadata": {
        "id": "-ymsifA098H6",
        "colab": {
          "base_uri": "https://localhost:8080/",
          "height": 17
        },
        "outputId": "b3507a12-ca4e-428d-db8c-0c4b62db1511"
      },
      "outputs": [
        {
          "output_type": "display_data",
          "data": {
            "text/plain": [
              "<IPython.core.display.HTML object>"
            ],
            "text/html": [
              "\n",
              "            <style>\n",
              "                .geemap-dark {\n",
              "                    --jp-widgets-color: white;\n",
              "                    --jp-widgets-label-color: white;\n",
              "                    --jp-ui-font-color1: white;\n",
              "                    --jp-layout-color2: #454545;\n",
              "                    background-color: #383838;\n",
              "                }\n",
              "\n",
              "                .geemap-dark .jupyter-button {\n",
              "                    --jp-layout-color3: #383838;\n",
              "                }\n",
              "\n",
              "                .geemap-colab {\n",
              "                    background-color: var(--colab-primary-surface-color, white);\n",
              "                }\n",
              "\n",
              "                .geemap-colab .jupyter-button {\n",
              "                    --jp-layout-color3: var(--colab-primary-surface-color, white);\n",
              "                }\n",
              "            </style>\n",
              "            "
            ]
          },
          "metadata": {}
        }
      ],
      "source": [
        "# Global Forest Cover Change (GFCC) Tree Cover Multi-Year Global 30m\n",
        "tcc = ee.ImageCollection(\"NASA/MEASURES/GFCC/TC/v3\")\n",
        "median_tcc = (\n",
        "    tcc.filterDate(\"2000-01-01\", \"2015-12-31\")\n",
        "    .select([\"tree_canopy_cover\"], [\"TCC\"])\n",
        "    .median()\n",
        ")"
      ]
    },
    {
      "cell_type": "code",
      "source": [
        "# CSP gHM: Global Human Modification\n",
        "ghm = ee.ImageCollection('CSP/HM/GlobalHumanModification').median()"
      ],
      "metadata": {
        "colab": {
          "base_uri": "https://localhost:8080/",
          "height": 17
        },
        "id": "hxx3Rqid5n05",
        "outputId": "c1a2e768-5822-4dc5-e71a-441d580d3d6c"
      },
      "execution_count": 18,
      "outputs": [
        {
          "output_type": "display_data",
          "data": {
            "text/plain": [
              "<IPython.core.display.HTML object>"
            ],
            "text/html": [
              "\n",
              "            <style>\n",
              "                .geemap-dark {\n",
              "                    --jp-widgets-color: white;\n",
              "                    --jp-widgets-label-color: white;\n",
              "                    --jp-ui-font-color1: white;\n",
              "                    --jp-layout-color2: #454545;\n",
              "                    background-color: #383838;\n",
              "                }\n",
              "\n",
              "                .geemap-dark .jupyter-button {\n",
              "                    --jp-layout-color3: #383838;\n",
              "                }\n",
              "\n",
              "                .geemap-colab {\n",
              "                    background-color: var(--colab-primary-surface-color, white);\n",
              "                }\n",
              "\n",
              "                .geemap-colab .jupyter-button {\n",
              "                    --jp-layout-color3: var(--colab-primary-surface-color, white);\n",
              "                }\n",
              "            </style>\n",
              "            "
            ]
          },
          "metadata": {}
        }
      ]
    },
    {
      "cell_type": "markdown",
      "metadata": {
        "id": "CMrmqQ5X-uOB"
      },
      "source": [
        "`bio` (Bioclimatic variables), `terrain` (topography), and `median_tcc` (tree canopy cover) are combined into a single multiband image. The `elevation` band is selected from `terrain`, and a `watermask` is created for locations where `elevation` is greater than `0`. This masks regions below sea level (e.g. the ocean) and prepares the researcher to analyze various environmental factors for the AOI comprehensively."
      ]
    },
    {
      "cell_type": "code",
      "execution_count": 19,
      "metadata": {
        "id": "gSbuqe6k-k6B",
        "colab": {
          "base_uri": "https://localhost:8080/",
          "height": 17
        },
        "outputId": "23f73b28-f1f2-466a-c9a3-183f72137051"
      },
      "outputs": [
        {
          "output_type": "display_data",
          "data": {
            "text/plain": [
              "<IPython.core.display.HTML object>"
            ],
            "text/html": [
              "\n",
              "            <style>\n",
              "                .geemap-dark {\n",
              "                    --jp-widgets-color: white;\n",
              "                    --jp-widgets-label-color: white;\n",
              "                    --jp-ui-font-color1: white;\n",
              "                    --jp-layout-color2: #454545;\n",
              "                    background-color: #383838;\n",
              "                }\n",
              "\n",
              "                .geemap-dark .jupyter-button {\n",
              "                    --jp-layout-color3: #383838;\n",
              "                }\n",
              "\n",
              "                .geemap-colab {\n",
              "                    background-color: var(--colab-primary-surface-color, white);\n",
              "                }\n",
              "\n",
              "                .geemap-colab .jupyter-button {\n",
              "                    --jp-layout-color3: var(--colab-primary-surface-color, white);\n",
              "                }\n",
              "            </style>\n",
              "            "
            ]
          },
          "metadata": {}
        }
      ],
      "source": [
        "# Combine bands into a multi-band image\n",
        "predictors = bio.addBands(terrain).addBands(median_tcc).addBands(ghm)\n",
        "\n",
        "# Create a water mask\n",
        "watermask = terrain.select('elevation').gt(0)\n",
        "\n",
        "# Mask out ocean pixels and clip to the area of interest\n",
        "predictors = predictors.updateMask(watermask).clip(aoi)"
      ]
    },
    {
      "cell_type": "markdown",
      "metadata": {
        "id": "WmuXiScSAlxX"
      },
      "source": [
        "When highly correlated predictor variables are included together in a model, multicollinearity issues can arise. Multicollinearity is a phenomenon that occurs when there are strong linear relationships among independent variables in a model, leading to instability in the estimation of the model's coefficients (weights). This instability can reduce the model's reliability and make predictions or interpretations for new data challenging. Therefore, we will consider multicollinearity and proceed with the process of selecting predictor variables.\n",
        "\n",
        "First, we will generate 5,000 random points and then extract the predictor variable values of the single multiband image at those points."
      ]
    },
    {
      "cell_type": "code",
      "execution_count": 20,
      "metadata": {
        "id": "vYLvzPDwAeyk",
        "colab": {
          "base_uri": "https://localhost:8080/",
          "height": 17
        },
        "outputId": "44a29462-57cb-45fd-9ec4-ff8fc41e8076"
      },
      "outputs": [
        {
          "output_type": "display_data",
          "data": {
            "text/plain": [
              "<IPython.core.display.HTML object>"
            ],
            "text/html": [
              "\n",
              "            <style>\n",
              "                .geemap-dark {\n",
              "                    --jp-widgets-color: white;\n",
              "                    --jp-widgets-label-color: white;\n",
              "                    --jp-ui-font-color1: white;\n",
              "                    --jp-layout-color2: #454545;\n",
              "                    background-color: #383838;\n",
              "                }\n",
              "\n",
              "                .geemap-dark .jupyter-button {\n",
              "                    --jp-layout-color3: #383838;\n",
              "                }\n",
              "\n",
              "                .geemap-colab {\n",
              "                    background-color: var(--colab-primary-surface-color, white);\n",
              "                }\n",
              "\n",
              "                .geemap-colab .jupyter-button {\n",
              "                    --jp-layout-color3: var(--colab-primary-surface-color, white);\n",
              "                }\n",
              "            </style>\n",
              "            "
            ]
          },
          "metadata": {}
        }
      ],
      "source": [
        "# Generate 5,000 random points\n",
        "data_cor = predictors.sample(scale=grain_size, numPixels=5000, geometries=True)\n",
        "\n",
        "# Extract predictor variable values\n",
        "pvals = predictors.sampleRegions(collection=data_cor, scale=grain_size)"
      ]
    },
    {
      "cell_type": "markdown",
      "metadata": {
        "id": "oHWmXtTxCmfV"
      },
      "source": [
        "We will convert the extracted predictor values for each point into a DataFrame and then check the first row."
      ]
    },
    {
      "cell_type": "code",
      "execution_count": 21,
      "metadata": {
        "id": "x1Bv0knrBbWn",
        "colab": {
          "base_uri": "https://localhost:8080/",
          "height": 110
        },
        "outputId": "ca56bbb0-6204-4b8f-f37d-f516c59db09e"
      },
      "outputs": [
        {
          "output_type": "display_data",
          "data": {
            "text/plain": [
              "<IPython.core.display.HTML object>"
            ],
            "text/html": [
              "\n",
              "            <style>\n",
              "                .geemap-dark {\n",
              "                    --jp-widgets-color: white;\n",
              "                    --jp-widgets-label-color: white;\n",
              "                    --jp-ui-font-color1: white;\n",
              "                    --jp-layout-color2: #454545;\n",
              "                    background-color: #383838;\n",
              "                }\n",
              "\n",
              "                .geemap-dark .jupyter-button {\n",
              "                    --jp-layout-color3: #383838;\n",
              "                }\n",
              "\n",
              "                .geemap-colab {\n",
              "                    background-color: var(--colab-primary-surface-color, white);\n",
              "                }\n",
              "\n",
              "                .geemap-colab .jupyter-button {\n",
              "                    --jp-layout-color3: var(--colab-primary-surface-color, white);\n",
              "                }\n",
              "            </style>\n",
              "            "
            ]
          },
          "metadata": {}
        },
        {
          "output_type": "execute_result",
          "data": {
            "text/plain": [
              "    TCC  aspect  bio01  bio02  bio03  bio04  bio05  bio06  bio07  bio08  ...  \\\n",
              "0  60.0     258     98    109     27  10278    281   -116    397    218  ...   \n",
              "\n",
              "   bio14  bio15  bio16  bio17  bio18  bio19  elevation       gHM  hillshade  \\\n",
              "0     20    101    915     71    892     71        362  0.487276        216   \n",
              "\n",
              "   slope  \n",
              "0     12  \n",
              "\n",
              "[1 rows x 25 columns]"
            ],
            "text/html": [
              "\n",
              "  <div id=\"df-c75ca9ac-7fa0-4dc7-95d7-560281136488\" class=\"colab-df-container\">\n",
              "    <div>\n",
              "<style scoped>\n",
              "    .dataframe tbody tr th:only-of-type {\n",
              "        vertical-align: middle;\n",
              "    }\n",
              "\n",
              "    .dataframe tbody tr th {\n",
              "        vertical-align: top;\n",
              "    }\n",
              "\n",
              "    .dataframe thead th {\n",
              "        text-align: right;\n",
              "    }\n",
              "</style>\n",
              "<table border=\"1\" class=\"dataframe\">\n",
              "  <thead>\n",
              "    <tr style=\"text-align: right;\">\n",
              "      <th></th>\n",
              "      <th>TCC</th>\n",
              "      <th>aspect</th>\n",
              "      <th>bio01</th>\n",
              "      <th>bio02</th>\n",
              "      <th>bio03</th>\n",
              "      <th>bio04</th>\n",
              "      <th>bio05</th>\n",
              "      <th>bio06</th>\n",
              "      <th>bio07</th>\n",
              "      <th>bio08</th>\n",
              "      <th>...</th>\n",
              "      <th>bio14</th>\n",
              "      <th>bio15</th>\n",
              "      <th>bio16</th>\n",
              "      <th>bio17</th>\n",
              "      <th>bio18</th>\n",
              "      <th>bio19</th>\n",
              "      <th>elevation</th>\n",
              "      <th>gHM</th>\n",
              "      <th>hillshade</th>\n",
              "      <th>slope</th>\n",
              "    </tr>\n",
              "  </thead>\n",
              "  <tbody>\n",
              "    <tr>\n",
              "      <th>0</th>\n",
              "      <td>60.0</td>\n",
              "      <td>258</td>\n",
              "      <td>98</td>\n",
              "      <td>109</td>\n",
              "      <td>27</td>\n",
              "      <td>10278</td>\n",
              "      <td>281</td>\n",
              "      <td>-116</td>\n",
              "      <td>397</td>\n",
              "      <td>218</td>\n",
              "      <td>...</td>\n",
              "      <td>20</td>\n",
              "      <td>101</td>\n",
              "      <td>915</td>\n",
              "      <td>71</td>\n",
              "      <td>892</td>\n",
              "      <td>71</td>\n",
              "      <td>362</td>\n",
              "      <td>0.487276</td>\n",
              "      <td>216</td>\n",
              "      <td>12</td>\n",
              "    </tr>\n",
              "  </tbody>\n",
              "</table>\n",
              "<p>1 rows × 25 columns</p>\n",
              "</div>\n",
              "    <div class=\"colab-df-buttons\">\n",
              "\n",
              "  <div class=\"colab-df-container\">\n",
              "    <button class=\"colab-df-convert\" onclick=\"convertToInteractive('df-c75ca9ac-7fa0-4dc7-95d7-560281136488')\"\n",
              "            title=\"Convert this dataframe to an interactive table.\"\n",
              "            style=\"display:none;\">\n",
              "\n",
              "  <svg xmlns=\"http://www.w3.org/2000/svg\" height=\"24px\" viewBox=\"0 -960 960 960\">\n",
              "    <path d=\"M120-120v-720h720v720H120Zm60-500h600v-160H180v160Zm220 220h160v-160H400v160Zm0 220h160v-160H400v160ZM180-400h160v-160H180v160Zm440 0h160v-160H620v160ZM180-180h160v-160H180v160Zm440 0h160v-160H620v160Z\"/>\n",
              "  </svg>\n",
              "    </button>\n",
              "\n",
              "  <style>\n",
              "    .colab-df-container {\n",
              "      display:flex;\n",
              "      gap: 12px;\n",
              "    }\n",
              "\n",
              "    .colab-df-convert {\n",
              "      background-color: #E8F0FE;\n",
              "      border: none;\n",
              "      border-radius: 50%;\n",
              "      cursor: pointer;\n",
              "      display: none;\n",
              "      fill: #1967D2;\n",
              "      height: 32px;\n",
              "      padding: 0 0 0 0;\n",
              "      width: 32px;\n",
              "    }\n",
              "\n",
              "    .colab-df-convert:hover {\n",
              "      background-color: #E2EBFA;\n",
              "      box-shadow: 0px 1px 2px rgba(60, 64, 67, 0.3), 0px 1px 3px 1px rgba(60, 64, 67, 0.15);\n",
              "      fill: #174EA6;\n",
              "    }\n",
              "\n",
              "    .colab-df-buttons div {\n",
              "      margin-bottom: 4px;\n",
              "    }\n",
              "\n",
              "    [theme=dark] .colab-df-convert {\n",
              "      background-color: #3B4455;\n",
              "      fill: #D2E3FC;\n",
              "    }\n",
              "\n",
              "    [theme=dark] .colab-df-convert:hover {\n",
              "      background-color: #434B5C;\n",
              "      box-shadow: 0px 1px 3px 1px rgba(0, 0, 0, 0.15);\n",
              "      filter: drop-shadow(0px 1px 2px rgba(0, 0, 0, 0.3));\n",
              "      fill: #FFFFFF;\n",
              "    }\n",
              "  </style>\n",
              "\n",
              "    <script>\n",
              "      const buttonEl =\n",
              "        document.querySelector('#df-c75ca9ac-7fa0-4dc7-95d7-560281136488 button.colab-df-convert');\n",
              "      buttonEl.style.display =\n",
              "        google.colab.kernel.accessAllowed ? 'block' : 'none';\n",
              "\n",
              "      async function convertToInteractive(key) {\n",
              "        const element = document.querySelector('#df-c75ca9ac-7fa0-4dc7-95d7-560281136488');\n",
              "        const dataTable =\n",
              "          await google.colab.kernel.invokeFunction('convertToInteractive',\n",
              "                                                    [key], {});\n",
              "        if (!dataTable) return;\n",
              "\n",
              "        const docLinkHtml = 'Like what you see? Visit the ' +\n",
              "          '<a target=\"_blank\" href=https://colab.research.google.com/notebooks/data_table.ipynb>data table notebook</a>'\n",
              "          + ' to learn more about interactive tables.';\n",
              "        element.innerHTML = '';\n",
              "        dataTable['output_type'] = 'display_data';\n",
              "        await google.colab.output.renderOutput(dataTable, element);\n",
              "        const docLink = document.createElement('div');\n",
              "        docLink.innerHTML = docLinkHtml;\n",
              "        element.appendChild(docLink);\n",
              "      }\n",
              "    </script>\n",
              "  </div>\n",
              "\n",
              "\n",
              "    </div>\n",
              "  </div>\n"
            ],
            "application/vnd.google.colaboratory.intrinsic+json": {
              "type": "dataframe",
              "variable_name": "pvals_df"
            }
          },
          "metadata": {},
          "execution_count": 21
        }
      ],
      "source": [
        "# Converting predictor values from Earth Engine to a DataFrame\n",
        "pvals_df = geemap.ee_to_df(pvals)\n",
        "pvals_df.head(1)"
      ]
    },
    {
      "cell_type": "code",
      "source": [
        "\"\"\"\n",
        "from sklearn.preprocessing import StandardScaler\n",
        "\n",
        "# 피처 표준화\n",
        "scaler = StandardScaler()\n",
        "pvals_df = pd.DataFrame(scaler.fit_transform(pvals_df), columns=pvals_df.columns)\n",
        "pvals_df.head(1)\n",
        "\"\"\""
      ],
      "metadata": {
        "id": "scRJjRBR-gZ4"
      },
      "execution_count": null,
      "outputs": []
    },
    {
      "cell_type": "code",
      "execution_count": 22,
      "metadata": {
        "id": "H3K-knJnC65R",
        "colab": {
          "base_uri": "https://localhost:8080/",
          "height": 108
        },
        "outputId": "94141639-b380-4671-cba5-cd1d4ab9ae55"
      },
      "outputs": [
        {
          "output_type": "display_data",
          "data": {
            "text/plain": [
              "<IPython.core.display.HTML object>"
            ],
            "text/html": [
              "\n",
              "            <style>\n",
              "                .geemap-dark {\n",
              "                    --jp-widgets-color: white;\n",
              "                    --jp-widgets-label-color: white;\n",
              "                    --jp-ui-font-color1: white;\n",
              "                    --jp-layout-color2: #454545;\n",
              "                    background-color: #383838;\n",
              "                }\n",
              "\n",
              "                .geemap-dark .jupyter-button {\n",
              "                    --jp-layout-color3: #383838;\n",
              "                }\n",
              "\n",
              "                .geemap-colab {\n",
              "                    background-color: var(--colab-primary-surface-color, white);\n",
              "                }\n",
              "\n",
              "                .geemap-colab .jupyter-button {\n",
              "                    --jp-layout-color3: var(--colab-primary-surface-color, white);\n",
              "                }\n",
              "            </style>\n",
              "            "
            ]
          },
          "metadata": {}
        },
        {
          "output_type": "stream",
          "name": "stdout",
          "text": [
            "Index(['TCC', 'aspect', 'bio01', 'bio02', 'bio03', 'bio04', 'bio05', 'bio06',\n",
            "       'bio07', 'bio08', 'bio09', 'bio10', 'bio11', 'bio12', 'bio13', 'bio14',\n",
            "       'bio15', 'bio16', 'bio17', 'bio18', 'bio19', 'elevation', 'gHM',\n",
            "       'hillshade', 'slope'],\n",
            "      dtype='object')\n"
          ]
        }
      ],
      "source": [
        "# Displaying the columns\n",
        "columns = pvals_df.columns\n",
        "print(columns)"
      ]
    },
    {
      "cell_type": "markdown",
      "metadata": {
        "id": "f3YiwTb8DOzb"
      },
      "source": [
        "Calculating Spearman correlation coefficients between the given predictor variables and visualizing them in a heatmap."
      ]
    },
    {
      "cell_type": "code",
      "execution_count": 23,
      "metadata": {
        "id": "AWznao3k2mZX",
        "colab": {
          "base_uri": "https://localhost:8080/",
          "height": 17
        },
        "outputId": "6332b6eb-cfa3-4093-ab3d-7bca1b4da5e0"
      },
      "outputs": [
        {
          "output_type": "display_data",
          "data": {
            "text/plain": [
              "<IPython.core.display.HTML object>"
            ],
            "text/html": [
              "\n",
              "            <style>\n",
              "                .geemap-dark {\n",
              "                    --jp-widgets-color: white;\n",
              "                    --jp-widgets-label-color: white;\n",
              "                    --jp-ui-font-color1: white;\n",
              "                    --jp-layout-color2: #454545;\n",
              "                    background-color: #383838;\n",
              "                }\n",
              "\n",
              "                .geemap-dark .jupyter-button {\n",
              "                    --jp-layout-color3: #383838;\n",
              "                }\n",
              "\n",
              "                .geemap-colab {\n",
              "                    background-color: var(--colab-primary-surface-color, white);\n",
              "                }\n",
              "\n",
              "                .geemap-colab .jupyter-button {\n",
              "                    --jp-layout-color3: var(--colab-primary-surface-color, white);\n",
              "                }\n",
              "            </style>\n",
              "            "
            ]
          },
          "metadata": {}
        }
      ],
      "source": [
        "def plot_correlation_heatmap(dataframe, h_size=10, show_labels=False):\n",
        "    # Calculate Spearman correlation coefficients\n",
        "    correlation_matrix = dataframe.corr(method=\"spearman\")\n",
        "\n",
        "    # Create a heatmap\n",
        "    plt.figure(figsize=(h_size, h_size-2))\n",
        "    plt.imshow(correlation_matrix, cmap='coolwarm', interpolation='nearest')\n",
        "\n",
        "    # Optionally display values on the heatmap\n",
        "    if show_labels:\n",
        "        for i in range(correlation_matrix.shape[0]):\n",
        "            for j in range(correlation_matrix.shape[1]):\n",
        "                plt.text(j, i, f\"{correlation_matrix.iloc[i, j]:.2f}\",\n",
        "                         ha='center', va='center', color='white', fontsize=8)\n",
        "\n",
        "    columns = dataframe.columns.tolist()\n",
        "    plt.xticks(range(len(columns)), columns, rotation=90)\n",
        "    plt.yticks(range(len(columns)), columns)\n",
        "    plt.title(\"Variables Correlation Matrix\")\n",
        "    plt.colorbar(label=\"Spearman Correlation\")\n",
        "    plt.savefig('correlation_heatmap_plot.png')\n",
        "    plt.show()"
      ]
    },
    {
      "cell_type": "code",
      "execution_count": 24,
      "metadata": {
        "id": "DP5ect8cDb7C",
        "colab": {
          "base_uri": "https://localhost:8080/",
          "height": 749
        },
        "outputId": "38b6b3ff-169e-4a13-acc3-b60b1d958ea8"
      },
      "outputs": [
        {
          "output_type": "display_data",
          "data": {
            "text/plain": [
              "<IPython.core.display.HTML object>"
            ],
            "text/html": [
              "\n",
              "            <style>\n",
              "                .geemap-dark {\n",
              "                    --jp-widgets-color: white;\n",
              "                    --jp-widgets-label-color: white;\n",
              "                    --jp-ui-font-color1: white;\n",
              "                    --jp-layout-color2: #454545;\n",
              "                    background-color: #383838;\n",
              "                }\n",
              "\n",
              "                .geemap-dark .jupyter-button {\n",
              "                    --jp-layout-color3: #383838;\n",
              "                }\n",
              "\n",
              "                .geemap-colab {\n",
              "                    background-color: var(--colab-primary-surface-color, white);\n",
              "                }\n",
              "\n",
              "                .geemap-colab .jupyter-button {\n",
              "                    --jp-layout-color3: var(--colab-primary-surface-color, white);\n",
              "                }\n",
              "            </style>\n",
              "            "
            ]
          },
          "metadata": {}
        },
        {
          "output_type": "display_data",
          "data": {
            "text/plain": [
              "<Figure size 1000x800 with 2 Axes>"
            ],
            "image/png": "[encoded data removed]"
          },
          "metadata": {}
        }
      ],
      "source": [
        "# Plot the correlation heatmap of variables\n",
        "plot_correlation_heatmap(pvals_df)"
      ]
    },
    {
      "cell_type": "markdown",
      "metadata": {
        "id": "07B62CNfDyGz"
      },
      "source": [
        "Spearman correlation coefficient is useful for understanding the general associations among predictor variables but does not directly assess how multiple variables interact, specifically detecting multicollinearity.\n",
        "\n",
        "The **Variance Inflation Factor (VIF below)** is a statistical metric used to evaluate multicollinearity and guide variable selection. It indicates the degree of linear relationship of each independent variable with the other independent variables, and high VIF values can be evidence of multicollinearity.\n",
        "\n",
        "Typically, when VIF values exceed 5 or 10, it suggests that the variable has a strong correlation with other variables, potentially compromising the stability and interpretability of the model. In this tutorial, a criterion of VIF values less than 10 was used for variable selection. The following 6 variables were selected based on VIF."
      ]
    },
    {
      "cell_type": "code",
      "execution_count": 25,
      "metadata": {
        "id": "TJdGzd3SDisO",
        "colab": {
          "base_uri": "https://localhost:8080/",
          "height": 17
        },
        "outputId": "0c1dda81-b6e0-4c19-dc45-009f55c47555"
      },
      "outputs": [
        {
          "output_type": "display_data",
          "data": {
            "text/plain": [
              "<IPython.core.display.HTML object>"
            ],
            "text/html": [
              "\n",
              "            <style>\n",
              "                .geemap-dark {\n",
              "                    --jp-widgets-color: white;\n",
              "                    --jp-widgets-label-color: white;\n",
              "                    --jp-ui-font-color1: white;\n",
              "                    --jp-layout-color2: #454545;\n",
              "                    background-color: #383838;\n",
              "                }\n",
              "\n",
              "                .geemap-dark .jupyter-button {\n",
              "                    --jp-layout-color3: #383838;\n",
              "                }\n",
              "\n",
              "                .geemap-colab {\n",
              "                    background-color: var(--colab-primary-surface-color, white);\n",
              "                }\n",
              "\n",
              "                .geemap-colab .jupyter-button {\n",
              "                    --jp-layout-color3: var(--colab-primary-surface-color, white);\n",
              "                }\n",
              "            </style>\n",
              "            "
            ]
          },
          "metadata": {}
        }
      ],
      "source": [
        "# Filter variables based on Variance Inflation Factor (VIF)\n",
        "def filter_variables_by_vif(dataframe, threshold=10):\n",
        "\n",
        "    original_columns = dataframe.columns.tolist()\n",
        "    remaining_columns = original_columns[:]\n",
        "\n",
        "    while True:\n",
        "        vif_data = dataframe[remaining_columns]\n",
        "        vif_values = [\n",
        "            variance_inflation_factor(vif_data.values, i)\n",
        "            for i in range(vif_data.shape[1])\n",
        "        ]\n",
        "\n",
        "        max_vif_index = vif_values.index(max(vif_values))\n",
        "        max_vif = max(vif_values)\n",
        "\n",
        "        if max_vif < threshold:\n",
        "            break\n",
        "\n",
        "        print(f\"Removing '{remaining_columns[max_vif_index]}' with VIF {max_vif:.2f}\")\n",
        "\n",
        "        del remaining_columns[max_vif_index]\n",
        "\n",
        "    filtered_data = dataframe[remaining_columns]\n",
        "    bands = filtered_data.columns.tolist()\n",
        "    print(\"Bands:\", bands)\n",
        "\n",
        "    return filtered_data, bands"
      ]
    },
    {
      "cell_type": "code",
      "execution_count": 26,
      "metadata": {
        "id": "e3iiKaK5Eg0q",
        "colab": {
          "base_uri": "https://localhost:8080/",
          "height": 363
        },
        "outputId": "1102eec3-ebd9-44cc-e0da-e735747dd153"
      },
      "outputs": [
        {
          "output_type": "display_data",
          "data": {
            "text/plain": [
              "<IPython.core.display.HTML object>"
            ],
            "text/html": [
              "\n",
              "            <style>\n",
              "                .geemap-dark {\n",
              "                    --jp-widgets-color: white;\n",
              "                    --jp-widgets-label-color: white;\n",
              "                    --jp-ui-font-color1: white;\n",
              "                    --jp-layout-color2: #454545;\n",
              "                    background-color: #383838;\n",
              "                }\n",
              "\n",
              "                .geemap-dark .jupyter-button {\n",
              "                    --jp-layout-color3: #383838;\n",
              "                }\n",
              "\n",
              "                .geemap-colab {\n",
              "                    background-color: var(--colab-primary-surface-color, white);\n",
              "                }\n",
              "\n",
              "                .geemap-colab .jupyter-button {\n",
              "                    --jp-layout-color3: var(--colab-primary-surface-color, white);\n",
              "                }\n",
              "            </style>\n",
              "            "
            ]
          },
          "metadata": {}
        },
        {
          "output_type": "stream",
          "name": "stdout",
          "text": [
            "Removing 'bio05' with VIF inf\n",
            "Removing 'bio04' with VIF 192512.14\n",
            "Removing 'bio10' with VIF 66802.89\n",
            "Removing 'bio07' with VIF 45799.36\n",
            "Removing 'bio17' with VIF 29523.82\n",
            "Removing 'bio01' with VIF 9577.36\n",
            "Removing 'bio16' with VIF 3543.52\n",
            "Removing 'bio03' with VIF 2512.67\n",
            "Removing 'bio18' with VIF 1791.24\n",
            "Removing 'bio08' with VIF 1489.29\n",
            "Removing 'bio06' with VIF 1033.80\n",
            "Removing 'bio12' with VIF 669.19\n",
            "Removing 'bio19' with VIF 397.91\n",
            "Removing 'bio15' with VIF 375.28\n",
            "Removing 'hillshade' with VIF 138.80\n",
            "Removing 'bio02' with VIF 57.19\n",
            "Removing 'bio11' with VIF 53.52\n",
            "Removing 'bio13' with VIF 29.88\n",
            "Bands: ['TCC', 'aspect', 'bio09', 'bio14', 'elevation', 'gHM', 'slope']\n"
          ]
        }
      ],
      "source": [
        "filtered_pvals_df, bands = filter_variables_by_vif(pvals_df, threshold=13)"
      ]
    },
    {
      "cell_type": "code",
      "execution_count": 27,
      "metadata": {
        "id": "TEFmil6WErkl",
        "colab": {
          "base_uri": "https://localhost:8080/",
          "height": 441
        },
        "outputId": "cce0fa8f-94fe-4b7c-b90f-681976744399"
      },
      "outputs": [
        {
          "output_type": "display_data",
          "data": {
            "text/plain": [
              "<IPython.core.display.HTML object>"
            ],
            "text/html": [
              "\n",
              "            <style>\n",
              "                .geemap-dark {\n",
              "                    --jp-widgets-color: white;\n",
              "                    --jp-widgets-label-color: white;\n",
              "                    --jp-ui-font-color1: white;\n",
              "                    --jp-layout-color2: #454545;\n",
              "                    background-color: #383838;\n",
              "                }\n",
              "\n",
              "                .geemap-dark .jupyter-button {\n",
              "                    --jp-layout-color3: #383838;\n",
              "                }\n",
              "\n",
              "                .geemap-colab {\n",
              "                    background-color: var(--colab-primary-surface-color, white);\n",
              "                }\n",
              "\n",
              "                .geemap-colab .jupyter-button {\n",
              "                    --jp-layout-color3: var(--colab-primary-surface-color, white);\n",
              "                }\n",
              "            </style>\n",
              "            "
            ]
          },
          "metadata": {}
        },
        {
          "output_type": "display_data",
          "data": {
            "text/plain": [
              "<Figure size 600x400 with 2 Axes>"
            ],
            "image/png": "[encoded data removed]"
          },
          "metadata": {}
        }
      ],
      "source": [
        "# Variable Selection Based on VIF\n",
        "predictors = predictors.select(bands)\n",
        "\n",
        "# Plot the correlation heatmap of variables\n",
        "plot_correlation_heatmap(filtered_pvals_df, h_size=6, show_labels=True)"
      ]
    },
    {
      "cell_type": "markdown",
      "metadata": {
        "id": "j0dc6evyFFhw"
      },
      "source": [
        "Next, let's visualize the 6 selected predictor variables on the map.\n",
        "![Predictor Variables for Analysis](https://github.com/google/earthengine-community/blob/master/tutorials/species-distribution-modeling/predictor_variables.png?raw=1)\n",
        "\n",
        "You can explore the available palettes for map visualization using the following code. For example, the `terrain` palette looks like this.\n",
        "```\n",
        "cm.plot_colormaps(width=8.0, height=0.2)\n",
        "```"
      ]
    },
    {
      "cell_type": "code",
      "execution_count": 28,
      "metadata": {
        "id": "H8uHX-83E8x7",
        "colab": {
          "base_uri": "https://localhost:8080/",
          "height": 52
        },
        "outputId": "8bc0568c-3e7a-4292-e7be-85946be77367"
      },
      "outputs": [
        {
          "output_type": "display_data",
          "data": {
            "text/plain": [
              "<IPython.core.display.HTML object>"
            ],
            "text/html": [
              "\n",
              "            <style>\n",
              "                .geemap-dark {\n",
              "                    --jp-widgets-color: white;\n",
              "                    --jp-widgets-label-color: white;\n",
              "                    --jp-ui-font-color1: white;\n",
              "                    --jp-layout-color2: #454545;\n",
              "                    background-color: #383838;\n",
              "                }\n",
              "\n",
              "                .geemap-dark .jupyter-button {\n",
              "                    --jp-layout-color3: #383838;\n",
              "                }\n",
              "\n",
              "                .geemap-colab {\n",
              "                    background-color: var(--colab-primary-surface-color, white);\n",
              "                }\n",
              "\n",
              "                .geemap-colab .jupyter-button {\n",
              "                    --jp-layout-color3: var(--colab-primary-surface-color, white);\n",
              "                }\n",
              "            </style>\n",
              "            "
            ]
          },
          "metadata": {}
        },
        {
          "output_type": "display_data",
          "data": {
            "text/plain": [
              "<Figure size 800x20 with 1 Axes>"
            ],
            "image/png": "[encoded data removed]"
          },
          "metadata": {}
        }
      ],
      "source": [
        "cm.plot_colormap('terrain', width=8.0, height=0.2, orientation='horizontal')"
      ]
    },
    {
      "cell_type": "code",
      "execution_count": 29,
      "metadata": {
        "id": "RswVTmLFFUb3",
        "colab": {
          "base_uri": "https://localhost:8080/",
          "height": 421,
          "referenced_widgets": [
            "8735d8bfe933434c8095e4cc36c738b8",
            "1100ca2a54af4bde8307d976cba64998",
            "76cdab14cc4141d48924c64f0932218a",
            "c99a0a2081d8432e9be13a4a61c5acaa",
            "8aff3aa659d34afc91a30abf33dd6985",
            "2e329810dfbd4a0c9955d3c50513baef",
            "37ec7e1b5f7f4ed5a1931c3fca45be66",
            "2a3563a63b104d319af42ab4f234db67",
            "b09eaaa68b8d466cb3f422190e6540fe",
            "06c7832ec3ba4bf49063021c8b1fca9c",
            "35e407f00ecb4d73bb2b259a39c9b3f6",
            "0b259889060a4c0c8617febd348c9880",
            "414790a595e346fba8f4e31335577510",
            "6614d179efa347ea9869c6cec2496882",
            "158964254cdc40a0973edb69061b40ae",
            "63e6c13c17ae4aa9990cba10c199d12e",
            "600903fd10a640cdaa421e392af7d730",
            "667d3320b6e44b7f84f0c092c47ec297",
            "dc300a78191f4d6c8c6bc0f04c3d45d0",
            "5038945201d6425c94fa2d92e412d7c4",
            "3304cd3980e6461d8ecaf5176c704bad",
            "42f7bd37feb1478a8304009097437d11",
            "17164b4bac1042a3bebba05ff90c4564",
            "0eaa4a6eb21640ddb208766ebe240925",
            "0f2dc2d878854e3f8fa64eb539026e73",
            "68be19c013a744b9b3cc2fc9959ae629",
            "9b8a873186e242c1875ee12e4e5a71c3",
            "fdce8754ff6f400f99718fa012fb6465"
          ]
        },
        "outputId": "850f9efc-5b1e-420d-c1ae-7d4a40714718"
      },
      "outputs": [
        {
          "output_type": "display_data",
          "data": {
            "text/plain": [
              "<IPython.core.display.HTML object>"
            ],
            "text/html": [
              "\n",
              "            <style>\n",
              "                .geemap-dark {\n",
              "                    --jp-widgets-color: white;\n",
              "                    --jp-widgets-label-color: white;\n",
              "                    --jp-ui-font-color1: white;\n",
              "                    --jp-layout-color2: #454545;\n",
              "                    background-color: #383838;\n",
              "                }\n",
              "\n",
              "                .geemap-dark .jupyter-button {\n",
              "                    --jp-layout-color3: #383838;\n",
              "                }\n",
              "\n",
              "                .geemap-colab {\n",
              "                    background-color: var(--colab-primary-surface-color, white);\n",
              "                }\n",
              "\n",
              "                .geemap-colab .jupyter-button {\n",
              "                    --jp-layout-color3: var(--colab-primary-surface-color, white);\n",
              "                }\n",
              "            </style>\n",
              "            "
            ]
          },
          "metadata": {}
        },
        {
          "output_type": "display_data",
          "data": {
            "text/plain": [
              "Map(center=[35.60541125576072, 127.04873061439156], controls=(WidgetControl(options=['position', 'transparent_…"
            ],
            "application/vnd.jupyter.widget-view+json": {
              "version_major": 2,
              "version_minor": 0,
              "model_id": "8735d8bfe933434c8095e4cc36c738b8"
            }
          },
          "metadata": {
            "application/vnd.jupyter.widget-view+json": {
              "colab": {
                "custom_widget_manager": {
                  "url": "https://ssl.gstatic.com/colaboratory-static/widgets/colab-cdn-widget-manager/2b70e893a8ba7c0f/manager.min.js"
                }
              }
            }
          }
        }
      ],
      "source": [
        "# Elevation layer\n",
        "Map = geemap.Map(layout={'height':'400px', 'width':'800px'})\n",
        "\n",
        "vis_params = {'bands':['elevation'], 'min': 0, 'max': 1800, 'palette': cm.palettes.terrain}\n",
        "Map.addLayer(predictors, vis_params, 'elevation')\n",
        "Map.add_colorbar(vis_params, label=\"Elevation (m)\", orientation=\"vertical\", layer_name=\"elevation\")\n",
        "Map.centerObject(aoi, 6)\n",
        "Map"
      ]
    },
    {
      "cell_type": "code",
      "execution_count": 30,
      "metadata": {
        "id": "DOSMZpbsF8sH",
        "colab": {
          "base_uri": "https://localhost:8080/",
          "height": 421,
          "referenced_widgets": [
            "1503bd810cff4a809b488f517e458bb4",
            "203fd89a07d14032baa9b6c4f874cb50",
            "d9f67f46c11146768ba17554f3dd4cff",
            "3f8721d594bd408288e7a5e602f15b95",
            "73b603b1b6e64a158ae9bae369a09b47",
            "4cf58d64e83e4fd8bc0608f21f1e4278",
            "e7eb628614c0406a933807bc517ab762",
            "9183e9c2b08f46b680616df8c7dafb8e",
            "fbbea1bbff594c83b0762d5ccc007074",
            "c7c5b9ab083b44329d377a5aa84dea07",
            "5742a05c448b4ad49c1f3a229eba8a34",
            "70f41b5e7a2b4cbcbc50fd8be51621d6",
            "dc756d3b3a104f2fa7c49969ae6a7450",
            "16fd63c70e0b495884403b5e41290c19",
            "56df7832d0a840f9a0058461f60f8f4f",
            "da86527cac094682b23d80361d0a4945",
            "9de5acb2af604a4fb18a3d9b7591bc9b",
            "a42f628670914f14b1fbd8dfc7699222",
            "9af3416912d74a9b874e799e4a109750",
            "bc3ec32e7dd045c08cf1e50ecf067d45",
            "769bef3ba06f4ce68f11f3dad0407279",
            "def4cc5e7b8343e78a25d4b3bfe5bcfc",
            "294a6acb0f054b76ac8cda702318fe36",
            "398551d00ae24455b6cf082180339d93",
            "74e40bb1338b4569a48a1b66aba913b2",
            "e7fdf73ffda444af9ccd6083bd5b7df3",
            "46f3d0ec489943f4a28f53d570f74b2f",
            "06d6ada0315246c88123775ecebff83e"
          ]
        },
        "outputId": "a209adc3-4446-40f7-d8f9-d5a4f975f787"
      },
      "outputs": [
        {
          "output_type": "display_data",
          "data": {
            "text/plain": [
              "<IPython.core.display.HTML object>"
            ],
            "text/html": [
              "\n",
              "            <style>\n",
              "                .geemap-dark {\n",
              "                    --jp-widgets-color: white;\n",
              "                    --jp-widgets-label-color: white;\n",
              "                    --jp-ui-font-color1: white;\n",
              "                    --jp-layout-color2: #454545;\n",
              "                    background-color: #383838;\n",
              "                }\n",
              "\n",
              "                .geemap-dark .jupyter-button {\n",
              "                    --jp-layout-color3: #383838;\n",
              "                }\n",
              "\n",
              "                .geemap-colab {\n",
              "                    background-color: var(--colab-primary-surface-color, white);\n",
              "                }\n",
              "\n",
              "                .geemap-colab .jupyter-button {\n",
              "                    --jp-layout-color3: var(--colab-primary-surface-color, white);\n",
              "                }\n",
              "            </style>\n",
              "            "
            ]
          },
          "metadata": {}
        },
        {
          "output_type": "display_data",
          "data": {
            "text/plain": [
              "Map(center=[35.60541125576072, 127.04873061439156], controls=(WidgetControl(options=['position', 'transparent_…"
            ],
            "application/vnd.jupyter.widget-view+json": {
              "version_major": 2,
              "version_minor": 0,
              "model_id": "1503bd810cff4a809b488f517e458bb4"
            }
          },
          "metadata": {
            "application/vnd.jupyter.widget-view+json": {
              "colab": {
                "custom_widget_manager": {
                  "url": "https://ssl.gstatic.com/colaboratory-static/widgets/colab-cdn-widget-manager/2b70e893a8ba7c0f/manager.min.js"
                }
              }
            }
          }
        }
      ],
      "source": [
        "# Calculate the minimum and maximum values for bio09\n",
        "min_max_val = (\n",
        "    predictors.select(\"bio09\")\n",
        "    .multiply(0.1)\n",
        "    .reduceRegion(reducer=ee.Reducer.minMax(), scale=1000)\n",
        "    .getInfo()\n",
        ")\n",
        "\n",
        "# bio09 (Mean temperature of driest quarter) layer\n",
        "Map = geemap.Map(layout={\"height\": \"400px\", \"width\": \"800px\"})\n",
        "\n",
        "vis_params = {\n",
        "    \"min\": math.floor(min_max_val[\"bio09_min\"]),\n",
        "    \"max\": math.ceil(min_max_val[\"bio09_max\"]),\n",
        "    \"palette\": cm.palettes.hot,\n",
        "}\n",
        "Map.addLayer(predictors.select(\"bio09\").multiply(0.1), vis_params, \"bio09\")\n",
        "Map.add_colorbar(\n",
        "    vis_params,\n",
        "    label=\"Mean temperature of driest quarter (℃)\",\n",
        "    orientation=\"vertical\",\n",
        "    layer_name=\"bio09\",\n",
        ")\n",
        "Map.centerObject(aoi, 6)\n",
        "Map"
      ]
    },
    {
      "cell_type": "code",
      "execution_count": 31,
      "metadata": {
        "id": "cQpG8qRzIQcw",
        "colab": {
          "base_uri": "https://localhost:8080/",
          "height": 421,
          "referenced_widgets": [
            "4086c4aaf9fa443cb833acca90e5a78c",
            "ec68cc801cd44f14bc1d7a1ec42ce437",
            "ac270e0d61304167b3f9ab9756f3a534",
            "c3d7d239e8ae46fe8df3cd657c7c6a37",
            "faf6925ef1e84d618914d56b189838fc",
            "0c6ada9331a64d21b21e8dbd3c4fac57",
            "921d3345a0e84b6d9b20fca2f29af9d9",
            "fee000ff7b5e45759dfb44cfcebf2d94",
            "d91fc53e49d440f49453b20bebe091e3",
            "31755c3564054096a9994bbecb9fd55a",
            "366b025d202e4676ac51899bc60033eb",
            "984ae0870367475dbf886ee5a8f4f6ab",
            "825d7c2fbc134e7b96bae0e373c0c44d",
            "e2e2fe131b8547eaba5526364748c4b0",
            "ffe24c2b603a42cd9da5ed4ef86c2fc3",
            "5e5e2016d0194775bc3c53c61a1b1d31",
            "258e3ed1dc924c9badb32ac977c57fb1",
            "1b15864ca9f646f6bbddd02d41687750",
            "a0403123a9c04a8a98429e491ed91b6d",
            "6258a0801086475baa26d9e00ad3492b",
            "e6ec99ddfec14ccc9ca8231829ca887e",
            "015b273fb3044da8ad7caa1a3d542a1a",
            "59fc4736903b45e5938abf3df6527459",
            "b81c61b2fca744ed8ad736b9e9ae7025",
            "8e178b50ab554a15b5a5cd461b25ab0a",
            "ab57586ec8f24a86a5d3cc4e4f9fbce0",
            "633bf4dbde664e2a88b6637b52ac89bd",
            "aa1ebfdf347646f6a782065ca2be754d"
          ]
        },
        "outputId": "58b0fcb1-2443-48d9-b860-14a4762de16c"
      },
      "outputs": [
        {
          "output_type": "display_data",
          "data": {
            "text/plain": [
              "<IPython.core.display.HTML object>"
            ],
            "text/html": [
              "\n",
              "            <style>\n",
              "                .geemap-dark {\n",
              "                    --jp-widgets-color: white;\n",
              "                    --jp-widgets-label-color: white;\n",
              "                    --jp-ui-font-color1: white;\n",
              "                    --jp-layout-color2: #454545;\n",
              "                    background-color: #383838;\n",
              "                }\n",
              "\n",
              "                .geemap-dark .jupyter-button {\n",
              "                    --jp-layout-color3: #383838;\n",
              "                }\n",
              "\n",
              "                .geemap-colab {\n",
              "                    background-color: var(--colab-primary-surface-color, white);\n",
              "                }\n",
              "\n",
              "                .geemap-colab .jupyter-button {\n",
              "                    --jp-layout-color3: var(--colab-primary-surface-color, white);\n",
              "                }\n",
              "            </style>\n",
              "            "
            ]
          },
          "metadata": {}
        },
        {
          "output_type": "display_data",
          "data": {
            "text/plain": [
              "Map(center=[35.60541125576072, 127.04873061439156], controls=(WidgetControl(options=['position', 'transparent_…"
            ],
            "application/vnd.jupyter.widget-view+json": {
              "version_major": 2,
              "version_minor": 0,
              "model_id": "4086c4aaf9fa443cb833acca90e5a78c"
            }
          },
          "metadata": {
            "application/vnd.jupyter.widget-view+json": {
              "colab": {
                "custom_widget_manager": {
                  "url": "https://ssl.gstatic.com/colaboratory-static/widgets/colab-cdn-widget-manager/2b70e893a8ba7c0f/manager.min.js"
                }
              }
            }
          }
        }
      ],
      "source": [
        "# Slope layer\n",
        "Map = geemap.Map(layout={'height':'400px', 'width':'800px'})\n",
        "\n",
        "vis_params = {'bands':['slope'], 'min': 0, 'max': 25, 'palette': cm.palettes.RdYlGn_r}\n",
        "Map.addLayer(predictors, vis_params, 'slope')\n",
        "Map.add_colorbar(vis_params, label=\"Slope\", orientation=\"vertical\", layer_name=\"slope\")\n",
        "Map.centerObject(aoi, 6)\n",
        "Map"
      ]
    },
    {
      "cell_type": "code",
      "execution_count": 32,
      "metadata": {
        "id": "u1hW_wAXIvvG",
        "colab": {
          "base_uri": "https://localhost:8080/",
          "height": 421,
          "referenced_widgets": [
            "dd704bedefb647298103267587b0dc79",
            "8befcc456d664b5ab162bdc8c6e032ed",
            "758d22042e284593bebadbf9b9312a6d",
            "24a6479be2ca41acbce8c27f5a45caf5",
            "0bbb47b9822e4a17b3a2514dc6ebb205",
            "1a8a26696fd8497cb262c9c3cd667f9d",
            "2b47834bca4a4f2a9c9b2bf391bd4666",
            "89c1b3484d274f058adac19563d2a7e4",
            "7e51e87c25264f76b410d98fe9468f7b",
            "e123c33c8c8144f6aa37a5a132d8290b",
            "5e059c612a99470cb3b56d1fd3449444",
            "5198f99ecc834176857e3a9c0cbe37c7",
            "411a7e274a6443f4a8598aa6e6fec9b9",
            "78afd43beddb481c92fb5edca085d386",
            "6efb56b8fccf431d9f7af17a981d0591",
            "37d68b2c3de24b05bf5c7e84bff23449",
            "6fe1eb2ce1854e969185a2c53c24d575",
            "9132fec8aa22400b88fbf59725164e75",
            "b647d4a302fc431ebc2a1920e5cb0d36",
            "ae31c3e3d6844c2f9a0ecf7ee1e25b26",
            "322246386e17493b86b6f5c4b09f280a",
            "cdf13c53f8ee48c08243d57ad1abeed5",
            "f8e64039671a4c43bbf6ec26cfdae8f2",
            "a81023b087a14fd3a87ddb84864009e9",
            "4d71642c950e439b8bccbdb824bb1054",
            "70ca3f8e65fb4582933c267bddd4d314",
            "56d82f9cd22b448b9012954349d0e829",
            "5e0737da6d9049d0a033c1ecd2ad3fa1"
          ]
        },
        "outputId": "62ed3304-1759-4d4e-96d6-b0a8f400ce9b"
      },
      "outputs": [
        {
          "output_type": "display_data",
          "data": {
            "text/plain": [
              "<IPython.core.display.HTML object>"
            ],
            "text/html": [
              "\n",
              "            <style>\n",
              "                .geemap-dark {\n",
              "                    --jp-widgets-color: white;\n",
              "                    --jp-widgets-label-color: white;\n",
              "                    --jp-ui-font-color1: white;\n",
              "                    --jp-layout-color2: #454545;\n",
              "                    background-color: #383838;\n",
              "                }\n",
              "\n",
              "                .geemap-dark .jupyter-button {\n",
              "                    --jp-layout-color3: #383838;\n",
              "                }\n",
              "\n",
              "                .geemap-colab {\n",
              "                    background-color: var(--colab-primary-surface-color, white);\n",
              "                }\n",
              "\n",
              "                .geemap-colab .jupyter-button {\n",
              "                    --jp-layout-color3: var(--colab-primary-surface-color, white);\n",
              "                }\n",
              "            </style>\n",
              "            "
            ]
          },
          "metadata": {}
        },
        {
          "output_type": "display_data",
          "data": {
            "text/plain": [
              "Map(center=[35.60541125576072, 127.04873061439156], controls=(WidgetControl(options=['position', 'transparent_…"
            ],
            "application/vnd.jupyter.widget-view+json": {
              "version_major": 2,
              "version_minor": 0,
              "model_id": "dd704bedefb647298103267587b0dc79"
            }
          },
          "metadata": {
            "application/vnd.jupyter.widget-view+json": {
              "colab": {
                "custom_widget_manager": {
                  "url": "https://ssl.gstatic.com/colaboratory-static/widgets/colab-cdn-widget-manager/2b70e893a8ba7c0f/manager.min.js"
                }
              }
            }
          }
        }
      ],
      "source": [
        "# Aspect layer\n",
        "Map = geemap.Map(layout={'height':'400px', 'width':'800px'})\n",
        "\n",
        "vis_params = {'bands':['aspect'], 'min': 0, 'max': 360, 'palette': cm.palettes.rainbow}\n",
        "Map.addLayer(predictors, vis_params, 'aspect')\n",
        "Map.add_colorbar(vis_params, label=\"Aspect\", orientation=\"vertical\", layer_name=\"aspect\")\n",
        "Map.centerObject(aoi, 6)\n",
        "Map"
      ]
    },
    {
      "cell_type": "code",
      "execution_count": 33,
      "metadata": {
        "id": "C49-BnnxJGUD",
        "colab": {
          "base_uri": "https://localhost:8080/",
          "height": 421,
          "referenced_widgets": [
            "28e941488a7742b0afbac6eac0151bef",
            "2a4f3d278f164909ae7ffd831f09d47a",
            "0613b471f6714f0e95d97ff96da2334a",
            "c483d89eedb34957a8f0639a63074cd8",
            "eb1a7be858e44507ab2fcb4bda710184",
            "8cf7c8ad03034282a098280aa87a1b12",
            "a039db5812f442d784a6abd2988c54ed",
            "1eaefe0e241c475a956fcfcea927a1d7",
            "adb9ca2b0b504e4683970ad646f062a7",
            "475e52d5f8d441ab8b7c0e3410de9794",
            "b06721963d3b4885862148d228c2bf65",
            "b2113cee19c04812ba989e3cee350a17",
            "64363f4239f042ada226d56e0bbd0d46",
            "5b90b1ba0dd4412baa82b3f479962d31",
            "5a5980e166f1483c83e2b04ddc9e47d2",
            "87e223c44f3847e2b4e42472440d7b6b",
            "e452a5d6af26405d9bdabc185cf52904",
            "4301a90878604cefa86ca5030cd96ab6",
            "2d669b66d3854676964c7a60cabec243",
            "a2d92958eec24e9abfe7577f97d854d0",
            "5a213012854d42b49367d42fc6dc13c1",
            "b917c0721b3e4372a6559aad100f05f8",
            "fac58f2bf8984d1094ac127eb63f07c0",
            "c2bc8d0327dd44a195322d968f55d383",
            "67684b0b1041453d872223359924f3f8",
            "7ddb34c183914586b1f97b1239d24805",
            "d3a9e49c42c0433e8859cc26e9f89f60",
            "e6df38e50cf14186b564f42d8bfa300e"
          ]
        },
        "outputId": "1296b6cb-5020-42a8-da5a-859e8836cb3e"
      },
      "outputs": [
        {
          "output_type": "display_data",
          "data": {
            "text/plain": [
              "<IPython.core.display.HTML object>"
            ],
            "text/html": [
              "\n",
              "            <style>\n",
              "                .geemap-dark {\n",
              "                    --jp-widgets-color: white;\n",
              "                    --jp-widgets-label-color: white;\n",
              "                    --jp-ui-font-color1: white;\n",
              "                    --jp-layout-color2: #454545;\n",
              "                    background-color: #383838;\n",
              "                }\n",
              "\n",
              "                .geemap-dark .jupyter-button {\n",
              "                    --jp-layout-color3: #383838;\n",
              "                }\n",
              "\n",
              "                .geemap-colab {\n",
              "                    background-color: var(--colab-primary-surface-color, white);\n",
              "                }\n",
              "\n",
              "                .geemap-colab .jupyter-button {\n",
              "                    --jp-layout-color3: var(--colab-primary-surface-color, white);\n",
              "                }\n",
              "            </style>\n",
              "            "
            ]
          },
          "metadata": {}
        },
        {
          "output_type": "display_data",
          "data": {
            "text/plain": [
              "Map(center=[35.60541125576072, 127.04873061439156], controls=(WidgetControl(options=['position', 'transparent_…"
            ],
            "application/vnd.jupyter.widget-view+json": {
              "version_major": 2,
              "version_minor": 0,
              "model_id": "28e941488a7742b0afbac6eac0151bef"
            }
          },
          "metadata": {
            "application/vnd.jupyter.widget-view+json": {
              "colab": {
                "custom_widget_manager": {
                  "url": "https://ssl.gstatic.com/colaboratory-static/widgets/colab-cdn-widget-manager/2b70e893a8ba7c0f/manager.min.js"
                }
              }
            }
          }
        }
      ],
      "source": [
        "# Calculate the minimum and maximum values for bio14\n",
        "min_max_val = (\n",
        "    predictors.select(\"bio14\")\n",
        "    .reduceRegion(reducer=ee.Reducer.minMax(), scale=1000)\n",
        "    .getInfo()\n",
        ")\n",
        "\n",
        "# bio14 (Precipitation of driest month) layer\n",
        "Map = geemap.Map(layout={\"height\": \"400px\", \"width\": \"800px\"})\n",
        "\n",
        "vis_params = {\n",
        "    \"bands\": [\"bio14\"],\n",
        "    \"min\": math.floor(min_max_val[\"bio14_min\"]),\n",
        "    \"max\": math.ceil(min_max_val[\"bio14_max\"]),\n",
        "    \"palette\": cm.palettes.Blues,\n",
        "}\n",
        "Map.addLayer(predictors, vis_params, \"bio14\")\n",
        "Map.add_colorbar(\n",
        "    vis_params,\n",
        "    label=\"Precipitation of driest month (mm)\",\n",
        "    orientation=\"vertical\",\n",
        "    layer_name=\"bio14\",\n",
        ")\n",
        "Map.centerObject(aoi, 6)\n",
        "Map"
      ]
    },
    {
      "cell_type": "code",
      "execution_count": 34,
      "metadata": {
        "id": "zKVnKhLYJicg",
        "colab": {
          "base_uri": "https://localhost:8080/",
          "height": 421,
          "referenced_widgets": [
            "637d95a4a1ff4028b0c8e592630da215",
            "6a88ae21197b4523878806b0921e66e8",
            "c56f93339e22489ba527eab8d4458ee7",
            "be5a12c02ebe47ccaf1c6063c3df5ada",
            "b1587eb11bae495c9b070fa10bdeba57",
            "ce4da9a3c03646489b445514cb3e83b7",
            "ad80646593be4ee694f1ac1cd2300245",
            "f0580e7796344b249c1d437c033e5482",
            "dd3d2229c3fa4fa388739cd7123b9f42",
            "1bf8909bdf824f90be13efaa6bdebc04",
            "2d05c2bba55948aea1fb43519c9a4c75",
            "126052e4a59d48be9857136170bb3f24",
            "e13cbfd2fdb647a49dc2db5c714ab68b",
            "4b10aa71ed4f4dd0a6967e006bba5646",
            "799e23f9b13e43b59378478a26218b8b",
            "b86b7c9b8a124dd9aca83824975d01f2",
            "b3f9309569304cba887fb2a2e05d6c44",
            "2de44b9985d54ef0855a563a25f5d82b",
            "fccfa8ba526140e19b3587b55fe0eb2d",
            "e8a823001c0e468e85828550221a0779",
            "9f53ec451f754f51a3394722d3f82f08",
            "b4da618cbbdc424abcd95fd195068664",
            "3df87aa5101f461089a21b68eca681f3",
            "6d1539180d904287a20a0279a172fa73",
            "71b24902cb2148f6bd4374caa7418be2",
            "472d4b73fccc4370884faa4d72df8605",
            "926269b3b2c9414c844a21a145abee5a",
            "e1ff3a71fe5145aa8b567d40955cfc9a"
          ]
        },
        "outputId": "bb1b7858-4683-4233-9857-e4827b40c51d"
      },
      "outputs": [
        {
          "output_type": "display_data",
          "data": {
            "text/plain": [
              "<IPython.core.display.HTML object>"
            ],
            "text/html": [
              "\n",
              "            <style>\n",
              "                .geemap-dark {\n",
              "                    --jp-widgets-color: white;\n",
              "                    --jp-widgets-label-color: white;\n",
              "                    --jp-ui-font-color1: white;\n",
              "                    --jp-layout-color2: #454545;\n",
              "                    background-color: #383838;\n",
              "                }\n",
              "\n",
              "                .geemap-dark .jupyter-button {\n",
              "                    --jp-layout-color3: #383838;\n",
              "                }\n",
              "\n",
              "                .geemap-colab {\n",
              "                    background-color: var(--colab-primary-surface-color, white);\n",
              "                }\n",
              "\n",
              "                .geemap-colab .jupyter-button {\n",
              "                    --jp-layout-color3: var(--colab-primary-surface-color, white);\n",
              "                }\n",
              "            </style>\n",
              "            "
            ]
          },
          "metadata": {}
        },
        {
          "output_type": "display_data",
          "data": {
            "text/plain": [
              "Map(center=[35.60541125576072, 127.04873061439156], controls=(WidgetControl(options=['position', 'transparent_…"
            ],
            "application/vnd.jupyter.widget-view+json": {
              "version_major": 2,
              "version_minor": 0,
              "model_id": "637d95a4a1ff4028b0c8e592630da215"
            }
          },
          "metadata": {
            "application/vnd.jupyter.widget-view+json": {
              "colab": {
                "custom_widget_manager": {
                  "url": "https://ssl.gstatic.com/colaboratory-static/widgets/colab-cdn-widget-manager/2b70e893a8ba7c0f/manager.min.js"
                }
              }
            }
          }
        }
      ],
      "source": [
        "# TCC layer\n",
        "Map = geemap.Map(layout={\"height\": \"400px\", \"width\": \"800px\"})\n",
        "\n",
        "vis_params = {\n",
        "    \"bands\": [\"TCC\"],\n",
        "    \"min\": 0,\n",
        "    \"max\": 100,\n",
        "    \"palette\": [\"ffffff\", \"afce56\", \"5f9c00\", \"0e6a00\", \"003800\"],\n",
        "}\n",
        "Map.addLayer(predictors, vis_params, \"TCC\")\n",
        "Map.add_colorbar(\n",
        "    vis_params, label=\"Tree Canopy Cover (%)\", orientation=\"vertical\", layer_name=\"TCC\"\n",
        ")\n",
        "Map.centerObject(aoi, 6)\n",
        "Map"
      ]
    },
    {
      "cell_type": "code",
      "source": [
        "# gHM layer\n",
        "Map = geemap.Map(layout={\"height\": \"400px\", \"width\": \"800px\"})\n",
        "\n",
        "vis_params = {\n",
        "    \"bands\": [\"gHM\"],\n",
        "    'min': 0.0,\n",
        "    'max': 1.0,\n",
        "    'palette': ['0c0c0c', '071aff', 'ff0000', 'ffbd03', 'fbff05', 'fffdfd']}\n",
        "\n",
        "Map.addLayer(predictors, vis_params, \"gHM\")\n",
        "Map.add_colorbar(\n",
        "    vis_params, label=\"gHM (global Human Modification)\", orientation=\"vertical\", layer_name=\"TCC\"\n",
        ")\n",
        "Map.centerObject(aoi, 6)\n",
        "Map"
      ],
      "metadata": {
        "colab": {
          "base_uri": "https://localhost:8080/",
          "height": 421,
          "referenced_widgets": [
            "2dab04c366c34e05a3694b5654085aa0",
            "0aec72569f7e459f94ec136af13dd53a",
            "ae15cf57514f48d4868bef53baab9190",
            "509bac9869834721a304c53f313b7a3b",
            "4dac369b4288447ba6a0f911b9db8c89",
            "49a7e5ae3666407e86e6760931af889f",
            "682395eab921470fbb0d72f513da3de8",
            "0627946c5721417496bdc0eb847bd5ab",
            "8e770e336d5146d5ad7a2378e6974acb",
            "7cff17af332147a3a25a9d01c4eeb860",
            "1539e1305a8e4f31af397bc8de08a381",
            "5a053f139cdd4d0eaba477b0e1992bff",
            "39e068bdf7cf4e17a2bdd3a8a7649797",
            "b3ad485ce891425cb7f1acbd652cf86a",
            "b0d5e15e3ab04b3ea2c1b3a3f12726d6",
            "1ab422aaca85474888d6f7da325a68b9",
            "40c42558b1694b798dd7a1404553b768",
            "72e833efc647479f8935fa2622578876",
            "b6955ddd008a45bfb1077a4ddb7208c8",
            "0a52d694be5447f580eaa3748b72df3a",
            "50d8d78b8ba14ab9b3c2f36d793fbc30",
            "2ea1b6efb43f4ebca0ca47db8e973bf4",
            "7a74e4ffe2564c4cbf819ce9cdcf444d",
            "4c5a23dd58204b349dc79decedc5b9a2",
            "fd8d35d1be884167975df27101524ef0",
            "c227a4120c734a84ace6252cf0a5f1c0",
            "23e1d5803ef44ef9b4e04ce466988842",
            "245658d2f35d4724828f47643798f152"
          ]
        },
        "id": "RC6Fi9RuCz2F",
        "outputId": "137ec052-60a8-490c-8ba7-b0b79779e3b9"
      },
      "execution_count": 36,
      "outputs": [
        {
          "output_type": "display_data",
          "data": {
            "text/plain": [
              "<IPython.core.display.HTML object>"
            ],
            "text/html": [
              "\n",
              "            <style>\n",
              "                .geemap-dark {\n",
              "                    --jp-widgets-color: white;\n",
              "                    --jp-widgets-label-color: white;\n",
              "                    --jp-ui-font-color1: white;\n",
              "                    --jp-layout-color2: #454545;\n",
              "                    background-color: #383838;\n",
              "                }\n",
              "\n",
              "                .geemap-dark .jupyter-button {\n",
              "                    --jp-layout-color3: #383838;\n",
              "                }\n",
              "\n",
              "                .geemap-colab {\n",
              "                    background-color: var(--colab-primary-surface-color, white);\n",
              "                }\n",
              "\n",
              "                .geemap-colab .jupyter-button {\n",
              "                    --jp-layout-color3: var(--colab-primary-surface-color, white);\n",
              "                }\n",
              "            </style>\n",
              "            "
            ]
          },
          "metadata": {}
        },
        {
          "output_type": "display_data",
          "data": {
            "text/plain": [
              "Map(center=[35.60541125576072, 127.04873061439156], controls=(WidgetControl(options=['position', 'transparent_…"
            ],
            "application/vnd.jupyter.widget-view+json": {
              "version_major": 2,
              "version_minor": 0,
              "model_id": "2dab04c366c34e05a3694b5654085aa0"
            }
          },
          "metadata": {
            "application/vnd.jupyter.widget-view+json": {
              "colab": {
                "custom_widget_manager": {
                  "url": "https://ssl.gstatic.com/colaboratory-static/widgets/colab-cdn-widget-manager/2b70e893a8ba7c0f/manager.min.js"
                }
              }
            }
          }
        }
      ]
    },
    {
      "cell_type": "markdown",
      "metadata": {
        "id": "xIFAutp6M16q"
      },
      "source": [
        "### Generation of pseudo-absence data\n",
        "\n",
        "In the process of SDM, the selection of input data for a species is mainly approached using two methods:\n",
        "\n",
        "1. **Presence-Background Method**: This method compares the locations where a particular species has been observed (presence) with other locations where the species has not been observed (background). Here, the background data does not necessarily mean areas where the species does not exist but rather is set up to reflect the overall environmental conditions of the study area. It is used to distinguish suitable environments where the species could exist from less suitable ones.\n",
        "\n",
        "2. **Presence-Absence Method**: This method compares locations where the species has been observed (presence) with locations where it has definitively not been observed (absence). Here, absence data represents specific locations where the species is known not to exist. It does not reflect the overall environmental conditions of the study area but rather points to locations where the species is estimated not to exist.\n",
        "\n",
        "In practice, it is often difficult to collect true absence data, so pseudo-absence data generated artificially is frequently used. However, it's important to acknowledge the limitations and potential errors of this method, as artificially generated pseudo-absence points may not accurately reflect true absence areas.\n",
        "\n",
        "The choice between these two methods depends on data availability, research objectives, model accuracy and reliability, as well as time and resources. Here, we will use occurrence data collected from GBIF and artificially generated pseudo-absence data to model using the \"Presence-Absence\" method.\n",
        "\n",
        "The generation of pseudo-absence data will be done through the \"environmental profiling approach\", and the specific steps are as follows:\n",
        "\n",
        "1. Environmental Classification Using k-means Clustering: The k-means clustering algorithm, based on Euclidean distance, will be used to divide the pixels within the study area into two clusters. One cluster will represent areas with similar environmental characteristics to randomly selected 100 presence locations, while the other cluster will represent areas with different characteristics.\n",
        "\n",
        "2. Generation of Pseudo-Absence Data within Dissimilar Clusters: Within the second cluster identified in the first step (which has different environmental characteristics from the presence data), randomly generated pseudo-absence points will be created. These pseudo-absence points will represent locations where the species is not expected to exist."
      ]
    },
    {
      "cell_type": "markdown",
      "source": [
        "#### Generate Random Pseudo-Absence Data in the Entire Area of Interest"
      ],
      "metadata": {
        "id": "VWRr7dKfERQ4"
      }
    },
    {
      "cell_type": "code",
      "source": [
        "presence_mask = data.reduceToImage(\n",
        "    properties=['random'],\n",
        "    reducer=ee.Reducer.first()\n",
        ").reproject('EPSG:4326', None, ee.Number(grain_size)).mask().neq(1).selfMask()\n",
        "area_for_pa = presence_mask.updateMask(watermask).clip(aoi)\n",
        "\n",
        "Map = geemap.Map(layout={\"height\": \"400px\", \"width\": \"800px\"})\n",
        "Map.addLayer(area_for_pa, {'palette': 'black'},'AreaForPA')\n",
        "Map.centerObject(aoi, 6)\n",
        "Map"
      ],
      "metadata": {
        "id": "vT7ROUopDSVe",
        "outputId": "ff3743d8-9457-4c3d-c0ae-51149468362c",
        "colab": {
          "base_uri": "https://localhost:8080/",
          "height": 421,
          "referenced_widgets": [
            "41ff91dbe14b404db0992e04d10ece52",
            "6653c03431e244a4a7273dbacae88113",
            "deaffb7d72f442ba8f82896c98ddfdf9",
            "d3567435a0234ea8842737b102557683",
            "702219eae8804ff4a442d155afbd98ca",
            "2e11d5fe07904587b5f149b2c4eaf846",
            "e2ca98e047f24fb9ad4003a770ae0505",
            "35b217a826614ab6bd71fb71875db511",
            "b72775816c4d428d924a3b7d4114e28d",
            "b305005a783640edb79ae0d4ec9622f9",
            "3fa75263012a4d6ea19b599618cb91d9",
            "15688df739214721a0806f7766428af3",
            "615e8eb2ee2940419d9a6b4eb44cf622",
            "e9d789a3e52b4b898de45b63da71378f",
            "49fae19cd1c746a1a408d03eb49fbd79",
            "2e531c033e0544e5b567a4c0c85c50e0",
            "9cbd846331364ab19d579efe1a944f42",
            "686d92a1ec12437db63efc5c9d20f6ca",
            "94e02b7ac63e47ea90cde171a43f05c2",
            "91869cd596724f66b8f7d232379c9c8b",
            "bee98148cdf74a8a83dee12c5ce7393c",
            "857634abc79c427db880946d473de362",
            "4eb6f7def76a457ca9aae82776bdac1b",
            "b7130b192d664019bacbcc9790172fd5",
            "29fdb10edc074af88d19a41c1e30df44"
          ]
        }
      },
      "execution_count": 38,
      "outputs": [
        {
          "output_type": "display_data",
          "data": {
            "text/plain": [
              "<IPython.core.display.HTML object>"
            ],
            "text/html": [
              "\n",
              "            <style>\n",
              "                .geemap-dark {\n",
              "                    --jp-widgets-color: white;\n",
              "                    --jp-widgets-label-color: white;\n",
              "                    --jp-ui-font-color1: white;\n",
              "                    --jp-layout-color2: #454545;\n",
              "                    background-color: #383838;\n",
              "                }\n",
              "\n",
              "                .geemap-dark .jupyter-button {\n",
              "                    --jp-layout-color3: #383838;\n",
              "                }\n",
              "\n",
              "                .geemap-colab {\n",
              "                    background-color: var(--colab-primary-surface-color, white);\n",
              "                }\n",
              "\n",
              "                .geemap-colab .jupyter-button {\n",
              "                    --jp-layout-color3: var(--colab-primary-surface-color, white);\n",
              "                }\n",
              "            </style>\n",
              "            "
            ]
          },
          "metadata": {}
        },
        {
          "output_type": "display_data",
          "data": {
            "text/plain": [
              "Map(center=[35.60541125576072, 127.04873061439156], controls=(WidgetControl(options=['position', 'transparent_…"
            ],
            "application/vnd.jupyter.widget-view+json": {
              "version_major": 2,
              "version_minor": 0,
              "model_id": "41ff91dbe14b404db0992e04d10ece52"
            }
          },
          "metadata": {
            "application/vnd.jupyter.widget-view+json": {
              "colab": {
                "custom_widget_manager": {
                  "url": "https://ssl.gstatic.com/colaboratory-static/widgets/colab-cdn-widget-manager/2b70e893a8ba7c0f/manager.min.js"
                }
              }
            }
          }
        }
      ]
    },
    {
      "cell_type": "markdown",
      "source": [
        "#### Generate Spatially Constrained Pseudo-Absence Data (Buffer around Occurrences)"
      ],
      "metadata": {
        "id": "pRv-ihYNEV3L"
      }
    },
    {
      "cell_type": "code",
      "source": [
        "presence_mask = data.reduceToImage(\n",
        "    properties=['random'],\n",
        "    reducer=ee.Reducer.first()\n",
        ").reproject('EPSG:4326', None, ee.Number(grain_size)).mask().neq(1).selfMask()\n",
        "presence_buffer_mask = data.geometry().buffer(distance=50000, maxError=1000)\n",
        "AreaForPA = presence_mask.clip(presence_buffer_mask).updateMask(watermask).clip(aoi)\n",
        "\n",
        "Map = geemap.Map(layout={\"height\": \"400px\", \"width\": \"800px\"})\n",
        "Map.addLayer(area_for_pa, {'palette': 'black'},'AreaForPA')\n",
        "Map.centerObject(aoi, 6)\n",
        "Map"
      ],
      "metadata": {
        "id": "VVfA6NnpEq_m",
        "outputId": "a3aab6bf-f184-4cf9-dcea-015d5d94615f",
        "colab": {
          "base_uri": "https://localhost:8080/",
          "height": 421,
          "referenced_widgets": [
            "894af872cbfe45d694dcdb68f9bcfa92",
            "487ab6736af849f99bd206f9b22257a4",
            "0f50bf8c6a82439bb638992b26a6399b",
            "3ae4978f16a248ddad395e8115a89b00",
            "005fb30e9512480f8b141d056cffb744",
            "c5fbaf175e9a42e3952ed1261e3ba5b3",
            "8d529b8cec0c44c7a25ab748074f0476",
            "f5cdfa6fbdd342e7a2d0747064e59075",
            "a61f69de5b434edc970dab00d46f4eb0",
            "28a055763be74314a112881dfdf6418f",
            "45c7622cee89419db5ec8a23839a71e8",
            "4a55a1d4e7b84ed291e6388f359e1daa",
            "83f8c1d133ec43658d2b924f248a7b29",
            "e093c1a4f54741069e7e3f365c3a5231",
            "bc61cab11e24411c8e222921808d3d4a",
            "bb51bb6e5b35495b80b1645e362ce33e",
            "9d2c66c9d3194c05acc6ce570b8355fc",
            "35fbd77c9c394264996b8b7dbf95d56d",
            "7565067b85c242f0a524679a50a62ef2",
            "c91ef9ae608248ea9b6e4328052e4516",
            "4514163ba9e544bdb262de585477a972",
            "89c3a7daade24df8970864459c2fb0db",
            "f8e3fe1a4d39462c877a1c25eaf109b6",
            "e943a1e9e5a646709cd3a00d4f7d4c0a",
            "c497d2fc89f245ba97aa1ff8502b1d20",
            "9e01a52c88fe41afab3ce82364f52dfe",
            "027dfc5f49204f62a434bb9ae41e8478",
            "62235a46e5a9432e9070559f5fef444d",
            "5e53562ad8844555b8aca14f778ee417",
            "76fc8315a12c4e74abf6f6e73c9bb655",
            "d5990150ba48405bb8fac48ce6391e79",
            "761a731c80a04167babcf82b09b4dc7c",
            "a726471e43b348ac9d5a62f1a4e363e0",
            "7fc82b12161d4e3298291f4061089907",
            "988ae06a2d034061a63abede09765c4b",
            "67832f13b7ef42e6a14f8a33551bc743",
            "e469b4a9e7cf4fbba573c36de65335e5",
            "e5fa2dac24fe4c1b98befbf17effae42",
            "4f10503308eb46b2b1925a4cb4bacfe3",
            "5140a8450b4040459e4b3ad253a9c653",
            "17192684de8f4b578ac60db9e4ae66ca",
            "1bc4bddb22274f71b84c22f0c5261219",
            "c1f25d04cc96469daa6ef33b883171a9",
            "df02a5774b4143ecb763d46b22f28f31",
            "363f697c64c248a4b36a29c8e095a504",
            "f7ec5d4932114c628a44bec4a0d060ce",
            "86537dd962ad44f89ea78a6aa16f0164",
            "c854fc893fcd4a41855877390cede828",
            "0093318cf6da419089501cccbfae6934",
            "117dc3268fe3432ea1ad0e92c9f68c4e",
            "3369ecd718e94b8c8b5cd6ec1939dd37",
            "2548f2a37d3d495998809e74f0f61e0b",
            "b0b7dbf1d93f4a27ba75723cfbee256a",
            "947a11164aa04115a7b3d2c97d60b7f7",
            "0d8d0f71f27f44138f520f26b892a0d9",
            "46ffb4540fbb4d8e8b6c978b97ecbfe3",
            "16f855ca532148f3aa2c7f4b6c6891fd",
            "d255b4593e954f47a0aecc3fd6151563",
            "8a204baa9d5a42008473b459f058bc68",
            "8e672c9b2ef04fcabb5f4aa58f5d0f62",
            "ee089c3bcde74989a24b0d531011513c",
            "70f52a015e9d458c904ef9d3a3b28665",
            "3663e8d04dc24e58bbcfb52a233219c6",
            "534ccc20a38f449b80b26e8d554bd7d6",
            "488ea1803033470b99d5f2e7362e3df8",
            "82e90878b02d41b9aaf1f0249c054a22",
            "525fc4d135a44314bbec31ad203401b3",
            "7fd343c24a10430a9f618a5ae1aaa153",
            "53bacb01f14b493d9092f51abd9d22ed",
            "8d78357c58a944a7bf9a70419438331c",
            "413ea5f4308341df99446318f4fd2fc6",
            "5a9b81e426ff4267be4689fa88239684",
            "038515f5b01c43079ce217e831c09b0c",
            "d4a3364df7a64e27a8064f0c5296e275",
            "40b4a2ae013c42aa95ab8cfd5b4cbae3",
            "cacf8c68c55d429ba76beddacd481680",
            "c2a9dd05e41349068cb636df2c4eb21d",
            "3d29a38ab63a4c89a05fc53e2ffbdcae",
            "d062ba56228b47919637fd8bd94c0628",
            "cc8ff633fe3e4198a1a4d440f5fe06f7",
            "7efe1ca78a8042889deabea0e14eb97c",
            "1bee6f2c95304cf782af64f6e98fe85d",
            "5b1e8e23227b4791b82507917e7e591c",
            "044b00d3cc504d6ca3f1c8230387fdd7",
            "fd68773bb14b4014b243f94862c1c4ed",
            "8d0f75f03c3c497ab15a5e6618500c89",
            "5968003db03c478a8a80895303a8b50c",
            "545d776d96f14d9fb8202372f866d9ed",
            "0cc634de98774cd1ab75956bccf027da"
          ]
        }
      },
      "execution_count": 40,
      "outputs": [
        {
          "output_type": "display_data",
          "data": {
            "text/plain": [
              "<IPython.core.display.HTML object>"
            ],
            "text/html": [
              "\n",
              "            <style>\n",
              "                .geemap-dark {\n",
              "                    --jp-widgets-color: white;\n",
              "                    --jp-widgets-label-color: white;\n",
              "                    --jp-ui-font-color1: white;\n",
              "                    --jp-layout-color2: #454545;\n",
              "                    background-color: #383838;\n",
              "                }\n",
              "\n",
              "                .geemap-dark .jupyter-button {\n",
              "                    --jp-layout-color3: #383838;\n",
              "                }\n",
              "\n",
              "                .geemap-colab {\n",
              "                    background-color: var(--colab-primary-surface-color, white);\n",
              "                }\n",
              "\n",
              "                .geemap-colab .jupyter-button {\n",
              "                    --jp-layout-color3: var(--colab-primary-surface-color, white);\n",
              "                }\n",
              "            </style>\n",
              "            "
            ]
          },
          "metadata": {}
        },
        {
          "output_type": "display_data",
          "data": {
            "text/plain": [
              "Map(center=[35.60541125576072, 127.04873061439156], controls=(WidgetControl(options=['position', 'transparent_…"
            ],
            "application/vnd.jupyter.widget-view+json": {
              "version_major": 2,
              "version_minor": 0,
              "model_id": "894af872cbfe45d694dcdb68f9bcfa92"
            }
          },
          "metadata": {
            "application/vnd.jupyter.widget-view+json": {
              "colab": {
                "custom_widget_manager": {
                  "url": "https://ssl.gstatic.com/colaboratory-static/widgets/colab-cdn-widget-manager/2b70e893a8ba7c0f/manager.min.js"
                }
              }
            }
          }
        }
      ]
    },
    {
      "cell_type": "markdown",
      "source": [
        "#### Generate Environmental Pseudo-Absence Data (Environmental Profiling)"
      ],
      "metadata": {
        "id": "QNUWx0iuEcLU"
      }
    },
    {
      "cell_type": "code",
      "execution_count": null,
      "metadata": {
        "id": "hMnMjWpOYG_B"
      },
      "outputs": [],
      "source": [
        "# Randomly select 100 locations for occurrence\n",
        "pvals = predictors.sampleRegions(\n",
        "    collection=data.randomColumn().sort('random').limit(100),\n",
        "    properties=[],\n",
        "    scale=grain_size\n",
        ")\n",
        "\n",
        "# Perform k-means clustering\n",
        "clusterer = ee.Clusterer.wekaKMeans(\n",
        "    nClusters=2,\n",
        "    distanceFunction=\"Euclidean\"\n",
        ").train(pvals)\n",
        "\n",
        "cl_result = predictors.cluster(clusterer)\n",
        "\n",
        "# Get cluster ID for locations similar to occurrence\n",
        "cl_id = cl_result.sampleRegions(\n",
        "    collection=data.randomColumn().sort('random').limit(200),\n",
        "    properties=[],\n",
        "    scale=grain_size\n",
        ")\n",
        "\n",
        "# Define non-occurrence areas in dissimilar clusters\n",
        "cl_id = ee.FeatureCollection(cl_id).reduceColumns(ee.Reducer.mode(),['cluster'])\n",
        "cl_id = ee.Number(cl_id.get('mode')).subtract(1).abs()\n",
        "cl_mask = cl_result.select(['cluster']).eq(cl_id)\n",
        "\n",
        "# Presence location mask\n",
        "presence_mask = data.reduceToImage(properties=['random'],\n",
        "reducer=ee.Reducer.first()\n",
        ").reproject('EPSG:4326', None,\n",
        "            grain_size).mask().neq(1).selfMask()\n",
        "\n",
        "# Masking presence locations in non-occurrence areas and clipping to AOI\n",
        "area_for_pa = presence_mask.updateMask(cl_mask).clip(aoi)\n",
        "\n",
        "# Area for Pseudo-absence\n",
        "Map = geemap.Map(layout={'height':'400px', 'width':'800px'})\n",
        "Map.addLayer(area_for_pa, {'palette': 'black'}, 'AreaForPA')\n",
        "Map.centerObject(aoi, 6)\n",
        "Map"
      ]
    },
    {
      "cell_type": "markdown",
      "metadata": {
        "id": "iTWaV5fQZPgA"
      },
      "source": [
        "### Model fitting and prediction\n",
        "\n",
        "We will now divide the data into training data and test data. The training data will be used to find the optimal parameters by training the model, while the test data will be used to evaluate the model trained beforehand. An important concept to consider in this context is spatial autocorrelation.\n",
        "\n",
        "**Spatial autocorrelation** is an essential element in SDM, associated with Tobler's law. It embodies the concept that \"everything is related to everything else, but near things are more related than distant things\". Spatial autocorrelation represents the significant relationship between the location of species and environmental variables. However, if spatial autocorrelation exists between the training and test data, the independence between the two data sets can be compromised. This significantly impacts the evaluation of the model's generalization ability.\n",
        "\n",
        "One method to address this issue is the spatial block cross-validation technique, which involves dividing the data into training and testing datasets. This technique involves dividing the data into multiple blocks, using each block independently as training and test datasets to reduce the impact of spatial autocorrelation. This enhances the independence between datasets, allowing for a more accurate evaluation of the model's generalization ability.\n",
        "\n",
        "The specific procedure is as follows:\n",
        "1. Creation of spatial blocks: Divide the entire dataset into spatial blocks of equal size (e.g., 50x50 km).\n",
        "2. Assignment of training and testing sets: Each spatial block is randomly assigned to either the training set (70%) or the test set (30%). This prevents the model from overfitting to data from specific areas and aims to achieve more generalized results.\n",
        "3. Iterative cross-validation: The entire process is repeated n times (e.g., 10 times). In each iteration, the blocks are randomly divided into training and test sets again, which is intended to improve the model's stability and reliability.\n",
        "4. Generation of pseudo-absence data: In each iteration, pseudo-absence data are randomly generated to evaluate the model's performance."
      ]
    },
    {
      "cell_type": "code",
      "execution_count": null,
      "metadata": {
        "id": "HASln4gfb1pZ"
      },
      "outputs": [],
      "source": [
        "Scale = 50000\n",
        "grid = watermask.reduceRegions(\n",
        "    collection=aoi.coveringGrid(scale=Scale, proj='EPSG:4326'),\n",
        "    reducer=ee.Reducer.mean()).filter(ee.Filter.neq('mean', None))\n",
        "\n",
        "Map = geemap.Map(layout={'height':'400px', 'width':'800px'})\n",
        "Map.addLayer(grid, {}, \"Grid for spatial block cross validation\")\n",
        "Map.addLayer(outline, {'palette': 'FF0000'}, \"Study Area\")\n",
        "Map.centerObject(aoi, 6)\n",
        "Map"
      ]
    },
    {
      "cell_type": "markdown",
      "metadata": {
        "id": "EsPbyMZ-cJg2"
      },
      "source": [
        "Now we can fit the model. Fitting a model involves understanding the patterns in the data and adjusting the model's parameters (weights and biases) accordingly. This process enables the model to make more accurate predictions when presented with new data. For this purpose, we have defined a function called SDM() to fit the model.\n",
        "\n",
        "We will use the **Random Forest** algorithm."
      ]
    },
    {
      "cell_type": "code",
      "execution_count": null,
      "metadata": {
        "id": "89R79JvGb6c8"
      },
      "outputs": [],
      "source": [
        "def sdm(x):\n",
        "    seed = ee.Number(x)\n",
        "\n",
        "    # Random block division for training and validation\n",
        "    rand_blk = ee.FeatureCollection(grid).randomColumn(seed=seed).sort(\"random\")\n",
        "    training_grid = rand_blk.filter(ee.Filter.lt(\"random\", split))  # Grid for training\n",
        "    testing_grid = rand_blk.filter(ee.Filter.gte(\"random\", split))  # Grid for testing\n",
        "\n",
        "    # Presence points\n",
        "    presence_points = ee.FeatureCollection(data)\n",
        "    presence_points = presence_points.map(lambda feature: feature.set(\"PresAbs\", 1))\n",
        "    tr_presence_points = presence_points.filter(\n",
        "        ee.Filter.bounds(training_grid)\n",
        "    )  # Presence points for training\n",
        "    te_presence_points = presence_points.filter(\n",
        "        ee.Filter.bounds(testing_grid)\n",
        "    )  # Presence points for testing\n",
        "\n",
        "    # Pseudo-absence points for training\n",
        "    tr_pseudo_abs_points = area_for_pa.sample(\n",
        "        region=training_grid,\n",
        "        scale=grain_size,\n",
        "        numPixels=tr_presence_points.size().add(300),\n",
        "        seed=seed,\n",
        "        geometries=True,\n",
        "    )\n",
        "    # Same number of pseudo-absence points as presence points for training\n",
        "    tr_pseudo_abs_points = (\n",
        "        tr_pseudo_abs_points.randomColumn()\n",
        "        .sort(\"random\")\n",
        "        .limit(ee.Number(tr_presence_points.size()))\n",
        "    )\n",
        "    tr_pseudo_abs_points = tr_pseudo_abs_points.map(lambda feature: feature.set(\"PresAbs\", 0))\n",
        "\n",
        "    te_pseudo_abs_points = area_for_pa.sample(\n",
        "        region=testing_grid,\n",
        "        scale=grain_size,\n",
        "        numPixels=te_presence_points.size().add(100),\n",
        "        seed=seed,\n",
        "        geometries=True,\n",
        "    )\n",
        "    # Same number of pseudo-absence points as presence points for testing\n",
        "    te_pseudo_abs_points = (\n",
        "        te_pseudo_abs_points.randomColumn()\n",
        "        .sort(\"random\")\n",
        "        .limit(ee.Number(te_presence_points.size()))\n",
        "    )\n",
        "    te_pseudo_abs_points = te_pseudo_abs_points.map(lambda feature: feature.set(\"PresAbs\", 0))\n",
        "\n",
        "    # Merge training and pseudo-absence points\n",
        "    training_partition = tr_presence_points.merge(tr_pseudo_abs_points)\n",
        "    testing_partition = te_presence_points.merge(te_pseudo_abs_points)\n",
        "\n",
        "    # Extract predictor variable values at training points\n",
        "    train_pvals = predictors.sampleRegions(\n",
        "        collection=training_partition,\n",
        "        properties=[\"PresAbs\"],\n",
        "        scale=grain_size,\n",
        "        geometries=True,\n",
        "    )\n",
        "\n",
        "    # Random Forest classifier\n",
        "    classifier = ee.Classifier.smileRandomForest(\n",
        "        numberOfTrees=500,\n",
        "        variablesPerSplit=None,\n",
        "        minLeafPopulation=10,\n",
        "        bagFraction=0.5,\n",
        "        maxNodes=None,\n",
        "        seed=seed,\n",
        "    )\n",
        "    # Presence probability: Habitat suitability map\n",
        "    classifier_pr = classifier.setOutputMode(\"PROBABILITY\").train(\n",
        "        train_pvals, \"PresAbs\", bands\n",
        "    )\n",
        "    classified_img_pr = predictors.select(bands).classify(classifier_pr)\n",
        "\n",
        "    # Binary presence/absence map: Potential distribution map\n",
        "    classifier_bin = classifier.setOutputMode(\"CLASSIFICATION\").train(\n",
        "        train_pvals, \"PresAbs\", bands\n",
        "    )\n",
        "    classified_img_bin = predictors.select(bands).classify(classifier_bin)\n",
        "\n",
        "    return [\n",
        "        classified_img_pr,\n",
        "        classified_img_bin,\n",
        "        training_partition,\n",
        "        testing_partition,\n",
        "    ], classifier_pr"
      ]
    },
    {
      "cell_type": "markdown",
      "metadata": {
        "id": "yCGB0Y6meW2B"
      },
      "source": [
        "Spatial blocks are divided into 70% for model training and 30% for model testing, respectively. Pseudo-absence data are randomly generated within each training and testing set in every iteration. As a result, each execution yields different sets of presence and pseudo-absence data for model training and testing."
      ]
    },
    {
      "cell_type": "code",
      "execution_count": null,
      "metadata": {
        "id": "KV6Jg50AeA7B"
      },
      "outputs": [],
      "source": [
        "split = 0.7\n",
        "numiter = 10\n",
        "\n",
        "# Random Seed\n",
        "runif = lambda length: [random.randint(1, 1000) for _ in range(length)]\n",
        "items = runif(numiter)\n",
        "\n",
        "# Fixed seed\n",
        "# items = [287, 288, 553, 226, 151, 255, 902, 267, 419, 538]"
      ]
    },
    {
      "cell_type": "code",
      "execution_count": null,
      "metadata": {
        "id": "BHCnkZvveq_Q"
      },
      "outputs": [],
      "source": [
        "results_list = [] # Initialize SDM results list\n",
        "importances_list = [] # Initialize variable importance list\n",
        "\n",
        "for item in items:\n",
        "    result, trained = sdm(item)\n",
        "    # Accumulate SDM results into the list\n",
        "    results_list.extend(result)\n",
        "\n",
        "    # Accumulate variable importance into the list\n",
        "    importance = ee.Dictionary(trained.explain()).get('importance')\n",
        "    importances_list.extend(importance.getInfo().items())\n",
        "\n",
        "# Flatten the SDM results list\n",
        "results = ee.List(results_list).flatten()"
      ]
    },
    {
      "cell_type": "markdown",
      "metadata": {
        "id": "UHQ6Hx07gG2m"
      },
      "source": [
        "Now we can visualize the **habitat suitability map** and **potential distribution map** for the Fairy pitta. In this case, the habitat suitability map is created by using the `mean()` function to calculate the average for each pixel location across all images, and the potential distribution map is generated by using the `mode()` function to determine the most frequently occurring value at each pixel location across all images.\n",
        "\n",
        "![SDM results](https://github.com/google/earthengine-community/blob/master/tutorials/species-distribution-modeling/sdm_results.png?raw=1)"
      ]
    },
    {
      "cell_type": "code",
      "execution_count": null,
      "metadata": {
        "id": "J_QUmonhfuSM"
      },
      "outputs": [],
      "source": [
        "# Habitat suitability map\n",
        "images = ee.List.sequence(\n",
        "    0, ee.Number(numiter).multiply(4).subtract(1), 4).map(\n",
        "    lambda x: results.get(x))\n",
        "model_average = ee.ImageCollection.fromImages(images).mean()\n",
        "\n",
        "Map = geemap.Map(layout={'height':'400px', 'width':'800px'}, basemap='Esri.WorldImagery')\n",
        "\n",
        "vis_params = {\n",
        "    'min': 0,\n",
        "    'max': 1,\n",
        "    'palette': cm.palettes.viridis_r}\n",
        "Map.addLayer(model_average, vis_params, 'Habitat suitability')\n",
        "Map.add_colorbar(vis_params, label=\"Habitat suitability\",\n",
        "                 orientation=\"horizontal\",\n",
        "                 layer_name=\"Habitat suitability\")\n",
        "Map.addLayer(data, {'color':'red'}, 'Presence')\n",
        "Map.centerObject(aoi, 6)\n",
        "Map"
      ]
    },
    {
      "cell_type": "code",
      "execution_count": null,
      "metadata": {
        "id": "cBZa-J43jAL2"
      },
      "outputs": [],
      "source": [
        "# Potential distribution map\n",
        "images2 = ee.List.sequence(1, ee.Number(numiter).multiply(4).subtract(1), 4).map(\n",
        "    lambda x: results.get(x)\n",
        ")\n",
        "distribution_map = ee.ImageCollection.fromImages(images2).mode()\n",
        "\n",
        "Map = geemap.Map(\n",
        "    layout={\"height\": \"400px\", \"width\": \"800px\"}, basemap=\"Esri.WorldImagery\"\n",
        ")\n",
        "\n",
        "vis_params = {\"min\": 0, \"max\": 1, \"palette\": [\"white\", \"green\"]}\n",
        "Map.addLayer(distribution_map, vis_params, \"Potential distribution\")\n",
        "Map.addLayer(data, {\"color\": \"red\"}, \"Presence\")\n",
        "Map.add_colorbar(\n",
        "    vis_params,\n",
        "    label=\"Potential distribution\",\n",
        "    discrete=True,\n",
        "    orientation=\"horizontal\",\n",
        "    layer_name=\"Potential distribution\",\n",
        ")\n",
        "Map.centerObject(data.geometry(), 6)\n",
        "Map"
      ]
    },
    {
      "cell_type": "markdown",
      "metadata": {
        "id": "B5cjWyzAmd4Z"
      },
      "source": [
        "### Variable importance and accuracy assessment\n",
        "\n",
        "Random Forest (`ee.Classifier.smileRandomForest`) is one of the ensemble learning methods, which operates by constructing multiple decision trees to make predictions. Each decision tree independently learns from different subsets of the data, and their results are aggregated to enable more accurate and stable predictions.\n",
        "\n",
        "Variable importance is a measure that evaluates the impact of each variable on the predictions within the Random Forest model. We will use the previously defined `importances_list` to calculate and print the average variable importance."
      ]
    },
    {
      "cell_type": "code",
      "execution_count": null,
      "metadata": {
        "id": "uoJ0mBeRme-E"
      },
      "outputs": [],
      "source": [
        "def plot_variable_importance(importances_list):\n",
        "    # Extract each variable importance value into a list\n",
        "    variables = [item[0] for item in importances_list]\n",
        "    importances = [item[1] for item in importances_list]\n",
        "\n",
        "    # Calculate the average importance for each variable\n",
        "    average_importances = {}\n",
        "    for variable in set(variables):\n",
        "        indices = [i for i, var in enumerate(variables) if var == variable]\n",
        "        average_importance = np.mean([importances[i] for i in indices])\n",
        "        average_importances[variable] = average_importance\n",
        "\n",
        "    # Sort the importances in descending order of importance\n",
        "    sorted_importances = sorted(average_importances.items(),\n",
        "                                key=lambda x: x[1], reverse=False)\n",
        "    variables = [item[0] for item in sorted_importances]\n",
        "    avg_importances = [item[1] for item in sorted_importances]\n",
        "\n",
        "    # Adjust the graph size\n",
        "    plt.figure(figsize=(8, 4))\n",
        "\n",
        "    # Plot the average importance as a horizontal bar chart\n",
        "    plt.barh(variables, avg_importances)\n",
        "    plt.xlabel('Importance')\n",
        "    plt.ylabel('Variables')\n",
        "    plt.title('Average Variable Importance')\n",
        "\n",
        "    # Display values above the bars\n",
        "    for i, v in enumerate(avg_importances):\n",
        "        plt.text(v + 0.02, i, f\"{v:.2f}\", va='center')\n",
        "\n",
        "    # Adjust the x-axis range\n",
        "    plt.xlim(0, max(avg_importances) + 5)  # Adjust to the desired range\n",
        "\n",
        "    plt.tight_layout()\n",
        "    plt.savefig('variable_importance.png')\n",
        "    plt.show()"
      ]
    },
    {
      "cell_type": "code",
      "execution_count": null,
      "metadata": {
        "id": "2nhhAUydurwm"
      },
      "outputs": [],
      "source": [
        "plot_variable_importance(importances_list)"
      ]
    },
    {
      "cell_type": "markdown",
      "metadata": {
        "id": "m889_YCzwNhR"
      },
      "source": [
        "Using the Testing Datasets, we calculate AUC-ROC and AUC-PR for each run. Then, we compute the average AUC-ROC and AUC-PR over n iterations.\n",
        "\n",
        "**AUC-ROC** represents the area under the curve of the 'Sensitivity (Recall) vs. 1-Specificity' graph, illustrating the relationship between sensitivity and specificity as the threshold changes. Specificity is based on all observed non-occurrences. Therefore, AUC-ROC encompasses all quadrants of the confusion matrix.\n",
        "\n",
        "**AUC-PR** represents the area under the curve of the 'Precision vs. Recall (Sensitivity)' graph, showing the relationship between precision and recall as the threshold varies. Precision is based on all predicted occurrences. Hence, AUC-PR does not include the true negatives (TN).\n",
        "\n",
        "> Note: It's important to ensure that each run has a sufficient number of points for model validation. The final number of points may vary due to the random partitioning of spatial blocks, so it's crucial to verify if there are enough presence and pseudo-absence points for model validation. In the case of endangered or rare species, there might be a shortage of occurrence data, leading to an insufficient test dataset. In such cases, alternatives may include additional data collection based on expert knowledge and experience or utilizing relevant alternative data sources."
      ]
    },
    {
      "cell_type": "code",
      "execution_count": null,
      "metadata": {
        "id": "sdyvrG7swBUp"
      },
      "outputs": [],
      "source": [
        "def print_pres_abs_sizes(TestingDatasets, numiter):\n",
        "    # Check and print the sizes of presence and pseudo-absence coordinates\n",
        "    def get_pres_abs_size(x):\n",
        "        fc = ee.FeatureCollection(TestingDatasets.get(x))\n",
        "        presence_size = fc.filter(ee.Filter.eq(\"PresAbs\", 1)).size()\n",
        "        pseudo_absence_size = fc.filter(ee.Filter.eq(\"PresAbs\", 0)).size()\n",
        "        return ee.List([presence_size, pseudo_absence_size])\n",
        "\n",
        "    sizes_info = (\n",
        "        ee.List.sequence(0, ee.Number(numiter).subtract(1), 1)\n",
        "        .map(get_pres_abs_size)\n",
        "        .getInfo()\n",
        "    )\n",
        "\n",
        "    for i, sizes in enumerate(sizes_info):\n",
        "        presence_size = sizes[0]\n",
        "        pseudo_absence_size = sizes[1]\n",
        "        print(\n",
        "            f\"Iteration {i + 1}: Presence Size = {presence_size}, Pseudo-absence Size = {pseudo_absence_size}\"\n",
        "        )"
      ]
    },
    {
      "cell_type": "code",
      "execution_count": null,
      "metadata": {
        "id": "MccWAsdTxjUS"
      },
      "outputs": [],
      "source": [
        "# Extracting the Testing Datasets\n",
        "testing_datasets = ee.List.sequence(\n",
        "    3, ee.Number(numiter).multiply(4).subtract(1), 4\n",
        ").map(lambda x: results.get(x))\n",
        "\n",
        "print_pres_abs_sizes(testing_datasets, numiter)"
      ]
    },
    {
      "cell_type": "code",
      "execution_count": null,
      "metadata": {
        "id": "GvEH7C9SzI0M"
      },
      "outputs": [],
      "source": [
        "def get_acc(hsm, t_data, grain_size):\n",
        "    pr_prob_vals = hsm.sampleRegions(\n",
        "        collection=t_data, properties=[\"PresAbs\"], scale=grain_size\n",
        "    )\n",
        "    seq = ee.List.sequence(start=0, end=1, count=25)  # Divide 0 to 1 into 25 intervals\n",
        "\n",
        "    def calculate_metrics(cutoff):\n",
        "        # Each element of the seq list is passed as cutoff(threshold value)\n",
        "\n",
        "        # Observed present = TP + FN\n",
        "        pres = pr_prob_vals.filterMetadata(\"PresAbs\", \"equals\", 1)\n",
        "\n",
        "        # TP (True Positive)\n",
        "        tp = ee.Number(\n",
        "            pres.filterMetadata(\"classification\", \"greater_than\", cutoff).size()\n",
        "        )\n",
        "\n",
        "        # TPR (True Positive Rate) = Recall = Sensitivity = TP / (TP + FN) = TP / Observed present\n",
        "        tpr = tp.divide(pres.size())\n",
        "\n",
        "        # Observed absent = FP + TN\n",
        "        abs = pr_prob_vals.filterMetadata(\"PresAbs\", \"equals\", 0)\n",
        "\n",
        "        # FN (False Negative)\n",
        "        fn = ee.Number(\n",
        "            pres.filterMetadata(\"classification\", \"less_than\", cutoff).size()\n",
        "        )\n",
        "\n",
        "        # TNR (True Negative Rate) = Specificity = TN  / (FP + TN) = TN / Observed absent\n",
        "        tn = ee.Number(abs.filterMetadata(\"classification\", \"less_than\", cutoff).size())\n",
        "        tnr = tn.divide(abs.size())\n",
        "\n",
        "        # FP (False Positive)\n",
        "        fp = ee.Number(\n",
        "            abs.filterMetadata(\"classification\", \"greater_than\", cutoff).size()\n",
        "        )\n",
        "\n",
        "        # FPR (False Positive Rate) = FP / (FP + TN) = FP / Observed absent\n",
        "        fpr = fp.divide(abs.size())\n",
        "\n",
        "        # Precision = TP / (TP + FP) = TP / Predicted present\n",
        "        precision = tp.divide(tp.add(fp))\n",
        "\n",
        "        # SUMSS = SUM of Sensitivity and Specificity\n",
        "        sumss = tpr.add(tnr)\n",
        "\n",
        "        return ee.Feature(\n",
        "            None,\n",
        "            {\n",
        "                \"cutoff\": cutoff,\n",
        "                \"TP\": tp,\n",
        "                \"TN\": tn,\n",
        "                \"FP\": fp,\n",
        "                \"FN\": fn,\n",
        "                \"TPR\": tpr,\n",
        "                \"TNR\": tnr,\n",
        "                \"FPR\": fpr,\n",
        "                \"Precision\": precision,\n",
        "                \"SUMSS\": sumss,\n",
        "            },\n",
        "        )\n",
        "\n",
        "    return ee.FeatureCollection(seq.map(calculate_metrics))"
      ]
    },
    {
      "cell_type": "code",
      "execution_count": null,
      "metadata": {
        "id": "O6JACvJbzrn7"
      },
      "outputs": [],
      "source": [
        "def calculate_and_print_auc_metrics(images, testing_datasets, grain_size, numiter):\n",
        "    # Calculate AUC-ROC and AUC-PR\n",
        "    def calculate_auc_metrics(x):\n",
        "        hsm = ee.Image(images.get(x))\n",
        "        t_data = ee.FeatureCollection(testing_datasets.get(x))\n",
        "        acc = get_acc(hsm, t_data, grain_size)\n",
        "\n",
        "        # Calculate AUC-ROC\n",
        "        x = ee.Array(acc.aggregate_array(\"FPR\"))\n",
        "        y = ee.Array(acc.aggregate_array(\"TPR\"))\n",
        "        x1 = x.slice(0, 1).subtract(x.slice(0, 0, -1))\n",
        "        y1 = y.slice(0, 1).add(y.slice(0, 0, -1))\n",
        "        auc_roc = x1.multiply(y1).multiply(0.5).reduce(\"sum\", [0]).abs().toList().get(0)\n",
        "\n",
        "        # Calculate AUC-PR\n",
        "        x = ee.Array(acc.aggregate_array(\"TPR\"))\n",
        "        y = ee.Array(acc.aggregate_array(\"Precision\"))\n",
        "        x1 = x.slice(0, 1).subtract(x.slice(0, 0, -1))\n",
        "        y1 = y.slice(0, 1).add(y.slice(0, 0, -1))\n",
        "        auc_pr = x1.multiply(y1).multiply(0.5).reduce(\"sum\", [0]).abs().toList().get(0)\n",
        "\n",
        "        return (auc_roc, auc_pr)\n",
        "\n",
        "    auc_metrics = (\n",
        "        ee.List.sequence(0, ee.Number(numiter).subtract(1), 1)\n",
        "        .map(calculate_auc_metrics)\n",
        "        .getInfo()\n",
        "    )\n",
        "\n",
        "    # Print AUC-ROC and AUC-PR for each iteration\n",
        "    df = pd.DataFrame(auc_metrics, columns=[\"AUC-ROC\", \"AUC-PR\"])\n",
        "    df.index = [f\"Iteration {i + 1}\" for i in range(len(df))]\n",
        "    df.to_csv(\"auc_metrics.csv\", index_label=\"Iteration\")\n",
        "    print(df)\n",
        "\n",
        "    # Calculate mean and standard deviation of AUC-ROC and AUC-PR\n",
        "    mean_auc_roc, std_auc_roc = df[\"AUC-ROC\"].mean(), df[\"AUC-ROC\"].std()\n",
        "    mean_auc_pr, std_auc_pr = df[\"AUC-PR\"].mean(), df[\"AUC-PR\"].std()\n",
        "    print(f\"Mean AUC-ROC = {mean_auc_roc:.4f} ± {std_auc_roc:.4f}\")\n",
        "    print(f\"Mean AUC-PR = {mean_auc_pr:.4f} ± {std_auc_pr:.4f}\")"
      ]
    },
    {
      "cell_type": "code",
      "execution_count": null,
      "metadata": {
        "id": "WVM4DTduz41j"
      },
      "outputs": [],
      "source": [
        "%%time\n",
        "\n",
        "# Calculate AUC-ROC and AUC-PR\n",
        "calculate_and_print_auc_metrics(images, testing_datasets, grain_size, numiter)"
      ]
    },
    {
      "cell_type": "markdown",
      "metadata": {
        "id": "QDlaa47s1WjC"
      },
      "source": [
        "This tutorial has provided a practical example of using Google Earth Engine (GEE) for Species Distribution Modeling (SDM). An important takeaway is the versatility and flexibility of GEE in the field of SDM. Leveraging Earth Engine's powerful geospatial data processing capabilities opens up endless possibilities for researchers and conservationists to understand and preserve biodiversity on our planet. By applying the knowledge and skills gained from this tutorial, individuals can explore and contribute to this fascinating field of ecological research."
      ]
    }
  ],
  "metadata": {
    "colab": {
      "provenance": [],
      "include_colab_link": true
    },
    "kernelspec": {
      "display_name": "Python 3 (ipykernel)",
      "language": "python",
      "name": "python3"
    },
    "language_info": {
      "codemirror_mode": {
        "name": "ipython",
        "version": 3
      },
      "file_extension": ".py",
      "mimetype": "text/x-python",
      "name": "python",
      "nbconvert_exporter": "python",
      "pygments_lexer": "ipython3",
      "version": "3.10.11"
    },
    "widgets": {
      "application/vnd.jupyter.widget-state+json": {
        "b97d8b7936a846e8ac9f5e2b7bc2c6fc": {
          "model_module": "jupyter-leaflet",
          "model_name": "LeafletMapModel",
          "model_module_version": "^0.18",
          "state": {
            "_dom_classes": [],
            "_model_module": "jupyter-leaflet",
            "_model_module_version": "^0.18",
            "_model_name": "LeafletMapModel",
            "_view_count": null,
            "_view_module": "jupyter-leaflet",
            "_view_module_version": "^0.18",
            "_view_name": "LeafletMapView",
            "bottom": 6656,
            "bounce_at_zoom_limits": true,
            "box_zoom": true,
            "center": [
              35.60541125576072,
              127.04873061439156
            ],
            "close_popup_on_click": true,
            "controls": [
              "IPY_MODEL_18bc6e1b49f4467cbab6035302ec5b53",
              "IPY_MODEL_cdc515835b1544bfafd893c9c896a59c",
              "IPY_MODEL_da4c85b7b7534ea79db3fcd5aed7bef8",
              "IPY_MODEL_354f3d8a141741329b072fbee52ccdee",
              "IPY_MODEL_419a5cb95ac6472f938143950a405244",
              "IPY_MODEL_336c8a0c32174e7e9d068ed4f2d1d887",
              "IPY_MODEL_ac69adbf811d4ca9b4e1ea911ae368ed",
              "IPY_MODEL_f79aa48a7ffa489e930bf9ae2a76ad63"
            ],
            "crs": {
              "name": "EPSG3857",
              "custom": false
            },
            "default_style": "IPY_MODEL_cf9aa5717e0545d6ac9df150aa2ec0b8",
            "double_click_zoom": true,
            "dragging": true,
            "dragging_style": "IPY_MODEL_5d73f10140ec404299006d3ced1bad83",
            "east": 135.83496093750003,
            "fullscreen": false,
            "inertia": true,
            "inertia_deceleration": 3000,
            "inertia_max_speed": 1500,
            "interpolation": "bilinear",
            "keyboard": true,
            "keyboard_pan_offset": 80,
            "keyboard_zoom_offset": 1,
            "layers": [
              "IPY_MODEL_fa028526855c49fea2e83aa9315c0195",
              "IPY_MODEL_1dc7e40f94dc46488b4da483177cad1c",
              "IPY_MODEL_184e9ff0e0ff4c29a2f7fbfb30820dd8",
              "IPY_MODEL_835b519eb2d543b88243f087b56a95ab"
            ],
            "layout": "IPY_MODEL_0cd27f6d4e354c48b75593ca0bff5745",
            "left": 13574,
            "max_zoom": 24,
            "min_zoom": null,
            "modisdate": "2024-05-25",
            "north": 39.095962936305476,
            "options": [
              "bounce_at_zoom_limits",
              "box_zoom",
              "center",
              "close_popup_on_click",
              "double_click_zoom",
              "dragging",
              "fullscreen",
              "inertia",
              "inertia_deceleration",
              "inertia_max_speed",
              "interpolation",
              "keyboard",
              "keyboard_pan_offset",
              "keyboard_zoom_offset",
              "max_zoom",
              "min_zoom",
              "prefer_canvas",
              "scroll_wheel_zoom",
              "tap",
              "tap_tolerance",
              "touch_zoom",
              "world_copy_jump",
              "zoom",
              "zoom_animation_threshold",
              "zoom_delta",
              "zoom_snap"
            ],
            "panes": {},
            "prefer_canvas": false,
            "right": 14374,
            "scroll_wheel_zoom": true,
            "south": 31.952162238024975,
            "style": "IPY_MODEL_5d73f10140ec404299006d3ced1bad83",
            "tap": true,
            "tap_tolerance": 15,
            "top": 6256,
            "touch_zoom": true,
            "west": 118.25683593750001,
            "window_url": "https://ioysqj54nq-496ff2e9c6d22116-0-colab.googleusercontent.com/outputframe.html?vrz=colab_20240523-060110_RC00_636443439",
            "world_copy_jump": false,
            "zoom": 6,
            "zoom_animation_threshold": 4,
            "zoom_delta": 1,
            "zoom_snap": 1
          }
        },
        "18bc6e1b49f4467cbab6035302ec5b53": {
          "model_module": "jupyter-leaflet",
          "model_name": "LeafletWidgetControlModel",
          "model_module_version": "^0.18",
          "state": {
            "_model_module": "jupyter-leaflet",
            "_model_module_version": "^0.18",
            "_model_name": "LeafletWidgetControlModel",
            "_view_count": null,
            "_view_module": "jupyter-leaflet",
            "_view_module_version": "^0.18",
            "_view_name": "LeafletWidgetControlView",
            "max_height": null,
            "max_width": null,
            "min_height": null,
            "min_width": null,
            "options": [
              "position",
              "transparent_bg"
            ],
            "position": "topleft",
            "transparent_bg": false,
            "widget": "IPY_MODEL_4a3c10fe7dee481db4d17e55f5ae8119"
          }
        },
        "cdc515835b1544bfafd893c9c896a59c": {
          "model_module": "jupyter-leaflet",
          "model_name": "LeafletZoomControlModel",
          "model_module_version": "^0.18",
          "state": {
            "_model_module": "jupyter-leaflet",
            "_model_module_version": "^0.18",
            "_model_name": "LeafletZoomControlModel",
            "_view_count": null,
            "_view_module": "jupyter-leaflet",
            "_view_module_version": "^0.18",
            "_view_name": "LeafletZoomControlView",
            "options": [
              "position",
              "zoom_in_text",
              "zoom_in_title",
              "zoom_out_text",
              "zoom_out_title"
            ],
            "position": "topleft",
            "zoom_in_text": "+",
            "zoom_in_title": "Zoom in",
            "zoom_out_text": "-",
            "zoom_out_title": "Zoom out"
          }
        },
        "da4c85b7b7534ea79db3fcd5aed7bef8": {
          "model_module": "jupyter-leaflet",
          "model_name": "LeafletFullScreenControlModel",
          "model_module_version": "^0.18",
          "state": {
            "_model_module": "jupyter-leaflet",
            "_model_module_version": "^0.18",
            "_model_name": "LeafletFullScreenControlModel",
            "_view_count": null,
            "_view_module": "jupyter-leaflet",
            "_view_module_version": "^0.18",
            "_view_name": "LeafletFullScreenControlView",
            "options": [
              "position"
            ],
            "position": "topleft"
          }
        },
        "354f3d8a141741329b072fbee52ccdee": {
          "model_module": "jupyter-leaflet",
          "model_name": "LeafletDrawControlModel",
          "model_module_version": "^0.18",
          "state": {
            "_model_module": "jupyter-leaflet",
            "_model_module_version": "^0.18",
            "_model_name": "LeafletDrawControlModel",
            "_view_count": null,
            "_view_module": "jupyter-leaflet",
            "_view_module_version": "^0.18",
            "_view_name": "LeafletDrawControlView",
            "circle": {},
            "circlemarker": {},
            "data": [],
            "edit": true,
            "marker": {
              "shapeOptions": {
                "color": "#3388ff"
              }
            },
            "options": [
              "position"
            ],
            "polygon": {
              "shapeOptions": {}
            },
            "polyline": {
              "shapeOptions": {}
            },
            "position": "topleft",
            "rectangle": {
              "shapeOptions": {
                "color": "#3388ff"
              }
            },
            "remove": true
          }
        },
        "419a5cb95ac6472f938143950a405244": {
          "model_module": "jupyter-leaflet",
          "model_name": "LeafletScaleControlModel",
          "model_module_version": "^0.18",
          "state": {
            "_model_module": "jupyter-leaflet",
            "_model_module_version": "^0.18",
            "_model_name": "LeafletScaleControlModel",
            "_view_count": null,
            "_view_module": "jupyter-leaflet",
            "_view_module_version": "^0.18",
            "_view_name": "LeafletScaleControlView",
            "imperial": true,
            "max_width": 100,
            "metric": true,
            "options": [
              "imperial",
              "max_width",
              "metric",
              "position",
              "update_when_idle"
            ],
            "position": "bottomleft",
            "update_when_idle": false
          }
        },
        "336c8a0c32174e7e9d068ed4f2d1d887": {
          "model_module": "jupyter-leaflet",
          "model_name": "LeafletMeasureControlModel",
          "model_module_version": "^0.18",
          "state": {
            "_custom_units": {},
            "_model_module": "jupyter-leaflet",
            "_model_module_version": "^0.18",
            "_model_name": "LeafletMeasureControlModel",
            "_view_count": null,
            "_view_module": "jupyter-leaflet",
            "_view_module_version": "^0.18",
            "_view_name": "LeafletMeasureControlView",
            "active_color": "orange",
            "capture_z_index": 10000,
            "completed_color": "#C8F2BE",
            "options": [
              "active_color",
              "capture_z_index",
              "completed_color",
              "popup_options",
              "position",
              "primary_area_unit",
              "primary_length_unit",
              "secondary_area_unit",
              "secondary_length_unit"
            ],
            "popup_options": {
              "className": "leaflet-measure-resultpopup",
              "autoPanPadding": [
                10,
                10
              ]
            },
            "position": "bottomleft",
            "primary_area_unit": "acres",
            "primary_length_unit": "kilometers",
            "secondary_area_unit": null,
            "secondary_length_unit": null
          }
        },
        "ac69adbf811d4ca9b4e1ea911ae368ed": {
          "model_module": "jupyter-leaflet",
          "model_name": "LeafletWidgetControlModel",
          "model_module_version": "^0.18",
          "state": {
            "_model_module": "jupyter-leaflet",
            "_model_module_version": "^0.18",
            "_model_name": "LeafletWidgetControlModel",
            "_view_count": null,
            "_view_module": "jupyter-leaflet",
            "_view_module_version": "^0.18",
            "_view_name": "LeafletWidgetControlView",
            "max_height": null,
            "max_width": null,
            "min_height": null,
            "min_width": null,
            "options": [
              "position",
              "transparent_bg"
            ],
            "position": "topright",
            "transparent_bg": false,
            "widget": "IPY_MODEL_fd6ab28d4f8c4062bf6af461ff2d5aaa"
          }
        },
        "f79aa48a7ffa489e930bf9ae2a76ad63": {
          "model_module": "jupyter-leaflet",
          "model_name": "LeafletAttributionControlModel",
          "model_module_version": "^0.18",
          "state": {
            "_model_module": "jupyter-leaflet",
            "_model_module_version": "^0.18",
            "_model_name": "LeafletAttributionControlModel",
            "_view_count": null,
            "_view_module": "jupyter-leaflet",
            "_view_module_version": "^0.18",
            "_view_name": "LeafletAttributionControlView",
            "options": [
              "position",
              "prefix"
            ],
            "position": "bottomright",
            "prefix": "ipyleaflet"
          }
        },
        "cf9aa5717e0545d6ac9df150aa2ec0b8": {
          "model_module": "jupyter-leaflet",
          "model_name": "LeafletMapStyleModel",
          "model_module_version": "^0.18",
          "state": {
            "_model_module": "jupyter-leaflet",
            "_model_module_version": "^0.18",
            "_model_name": "LeafletMapStyleModel",
            "_view_count": null,
            "_view_module": "@jupyter-widgets/base",
            "_view_module_version": "1.2.0",
            "_view_name": "StyleView",
            "cursor": "grab"
          }
        },
        "5d73f10140ec404299006d3ced1bad83": {
          "model_module": "jupyter-leaflet",
          "model_name": "LeafletMapStyleModel",
          "model_module_version": "^0.18",
          "state": {
            "_model_module": "jupyter-leaflet",
            "_model_module_version": "^0.18",
            "_model_name": "LeafletMapStyleModel",
            "_view_count": null,
            "_view_module": "@jupyter-widgets/base",
            "_view_module_version": "1.2.0",
            "_view_name": "StyleView",
            "cursor": "move"
          }
        },
        "fa028526855c49fea2e83aa9315c0195": {
          "model_module": "jupyter-leaflet",
          "model_name": "LeafletTileLayerModel",
          "model_module_version": "^0.18",
          "state": {
            "_model_module": "jupyter-leaflet",
            "_model_module_version": "^0.18",
            "_model_name": "LeafletTileLayerModel",
            "_view_count": null,
            "_view_module": "jupyter-leaflet",
            "_view_module_version": "^0.18",
            "_view_name": "LeafletTileLayerView",
            "attribution": "&copy; <a href=\"https://www.openstreetmap.org/copyright\">OpenStreetMap</a> contributors",
            "base": true,
            "bottom": true,
            "bounds": null,
            "detect_retina": false,
            "loading": false,
            "max_native_zoom": null,
            "max_zoom": 19,
            "min_native_zoom": null,
            "min_zoom": 1,
            "name": "OpenStreetMap.Mapnik",
            "no_wrap": false,
            "opacity": 1,
            "options": [
              "attribution",
              "bounds",
              "detect_retina",
              "max_native_zoom",
              "max_zoom",
              "min_native_zoom",
              "min_zoom",
              "no_wrap",
              "tile_size",
              "tms",
              "zoom_offset"
            ],
            "pane": "",
            "popup": null,
            "popup_max_height": null,
            "popup_max_width": 300,
            "popup_min_width": 50,
            "show_loading": false,
            "subitems": [],
            "tile_size": 256,
            "tms": false,
            "url": "https://tile.openstreetmap.org/{z}/{x}/{y}.png",
            "visible": true,
            "zoom_offset": 0
          }
        },
        "1987a5b0ebcb4d9c927087d0163bb14a": {
          "model_module": "jupyter-leaflet",
          "model_name": "LeafletTileLayerModel",
          "model_module_version": "^0.18",
          "state": {
            "_model_module": "jupyter-leaflet",
            "_model_module_version": "^0.18",
            "_model_name": "LeafletTileLayerModel",
            "_view_count": null,
            "_view_module": "jupyter-leaflet",
            "_view_module_version": "^0.18",
            "_view_name": "LeafletTileLayerView",
            "attribution": "Google Earth Engine",
            "base": false,
            "bottom": true,
            "bounds": null,
            "detect_retina": false,
            "loading": false,
            "max_native_zoom": null,
            "max_zoom": 24,
            "min_native_zoom": null,
            "min_zoom": 0,
            "name": "Random Raster",
            "no_wrap": false,
            "opacity": 1,
            "options": [
              "attribution",
              "bounds",
              "detect_retina",
              "max_native_zoom",
              "max_zoom",
              "min_native_zoom",
              "min_zoom",
              "no_wrap",
              "tile_size",
              "tms",
              "zoom_offset"
            ],
            "pane": "",
            "popup": null,
            "popup_max_height": null,
            "popup_max_width": 300,
            "popup_min_width": 50,
            "show_loading": false,
            "subitems": [],
            "tile_size": 256,
            "tms": false,
            "url": "https://earthengine.googleapis.com/v1/projects/ee-foss4g/maps/470074cb26268596f91e594d8e05b884-acc80fd27f5157feb4f8b4efa21d3a9b/tiles/{z}/{x}/{y}",
            "visible": true,
            "zoom_offset": 0
          }
        },
        "1dc7e40f94dc46488b4da483177cad1c": {
          "model_module": "jupyter-leaflet",
          "model_name": "LeafletTileLayerModel",
          "model_module_version": "^0.18",
          "state": {
            "_model_module": "jupyter-leaflet",
            "_model_module_version": "^0.18",
            "_model_name": "LeafletTileLayerModel",
            "_view_count": null,
            "_view_module": "jupyter-leaflet",
            "_view_module_version": "^0.18",
            "_view_name": "LeafletTileLayerView",
            "attribution": "Google Earth Engine",
            "base": false,
            "bottom": true,
            "bounds": null,
            "detect_retina": false,
            "loading": false,
            "max_native_zoom": null,
            "max_zoom": 24,
            "min_native_zoom": null,
            "min_zoom": 0,
            "name": "Original data",
            "no_wrap": false,
            "opacity": 1,
            "options": [
              "attribution",
              "bounds",
              "detect_retina",
              "max_native_zoom",
              "max_zoom",
              "min_native_zoom",
              "min_zoom",
              "no_wrap",
              "tile_size",
              "tms",
              "zoom_offset"
            ],
            "pane": "",
            "popup": null,
            "popup_max_height": null,
            "popup_max_width": 300,
            "popup_min_width": 50,
            "show_loading": false,
            "subitems": [],
            "tile_size": 256,
            "tms": false,
            "url": "https://earthengine.googleapis.com/v1/projects/ee-foss4g/maps/71e73b06d3f5375d0bc3115fa422eb31-315ef70c5b8bcc3ff79fa7c01859cead/tiles/{z}/{x}/{y}",
            "visible": true,
            "zoom_offset": 0
          }
        },
        "184e9ff0e0ff4c29a2f7fbfb30820dd8": {
          "model_module": "jupyter-leaflet",
          "model_name": "LeafletTileLayerModel",
          "model_module_version": "^0.18",
          "state": {
            "_model_module": "jupyter-leaflet",
            "_model_module_version": "^0.18",
            "_model_name": "LeafletTileLayerModel",
            "_view_count": null,
            "_view_module": "jupyter-leaflet",
            "_view_module_version": "^0.18",
            "_view_name": "LeafletTileLayerView",
            "attribution": "Google Earth Engine",
            "base": false,
            "bottom": true,
            "bounds": null,
            "detect_retina": false,
            "loading": false,
            "max_native_zoom": null,
            "max_zoom": 24,
            "min_native_zoom": null,
            "min_zoom": 0,
            "name": "Final data",
            "no_wrap": false,
            "opacity": 1,
            "options": [
              "attribution",
              "bounds",
              "detect_retina",
              "max_native_zoom",
              "max_zoom",
              "min_native_zoom",
              "min_zoom",
              "no_wrap",
              "tile_size",
              "tms",
              "zoom_offset"
            ],
            "pane": "",
            "popup": null,
            "popup_max_height": null,
            "popup_max_width": 300,
            "popup_min_width": 50,
            "show_loading": false,
            "subitems": [],
            "tile_size": 256,
            "tms": false,
            "url": "https://earthengine.googleapis.com/v1/projects/ee-foss4g/maps/e7ce3dc3be17fb056c63c472f1669c09-e90664a5b0be70373725d3464868168d/tiles/{z}/{x}/{y}",
            "visible": true,
            "zoom_offset": 0
          }
        },
        "0cd27f6d4e354c48b75593ca0bff5745": {
          "model_module": "@jupyter-widgets/base",
          "model_name": "LayoutModel",
          "model_module_version": "1.2.0",
          "state": {
            "_model_module": "@jupyter-widgets/base",
            "_model_module_version": "1.2.0",
            "_model_name": "LayoutModel",
            "_view_count": null,
            "_view_module": "@jupyter-widgets/base",
            "_view_module_version": "1.2.0",
            "_view_name": "LayoutView",
            "align_content": null,
            "align_items": null,
            "align_self": null,
            "border": null,
            "bottom": null,
            "display": null,
            "flex": null,
            "flex_flow": null,
            "grid_area": null,
            "grid_auto_columns": null,
            "grid_auto_flow": null,
            "grid_auto_rows": null,
            "grid_column": null,
            "grid_gap": null,
            "grid_row": null,
            "grid_template_areas": null,
            "grid_template_columns": null,
            "grid_template_rows": null,
            "height": "400px",
            "justify_content": null,
            "justify_items": null,
            "left": null,
            "margin": null,
            "max_height": null,
            "max_width": null,
            "min_height": null,
            "min_width": null,
            "object_fit": null,
            "object_position": null,
            "order": null,
            "overflow": null,
            "overflow_x": null,
            "overflow_y": null,
            "padding": null,
            "right": null,
            "top": null,
            "visibility": null,
            "width": "800px"
          }
        },
        "e61d730c7326469088b96a87e293b618": {
          "model_module": "jupyter-leaflet",
          "model_name": "LeafletMapStyleModel",
          "model_module_version": "^0.18",
          "state": {
            "_model_module": "jupyter-leaflet",
            "_model_module_version": "^0.18",
            "_model_name": "LeafletMapStyleModel",
            "_view_count": null,
            "_view_module": "@jupyter-widgets/base",
            "_view_module_version": "1.2.0",
            "_view_name": "StyleView",
            "cursor": "grab"
          }
        },
        "4a3c10fe7dee481db4d17e55f5ae8119": {
          "model_module": "@jupyter-widgets/controls",
          "model_name": "HBoxModel",
          "model_module_version": "1.5.0",
          "state": {
            "_dom_classes": [
              "geemap-colab"
            ],
            "_model_module": "@jupyter-widgets/controls",
            "_model_module_version": "1.5.0",
            "_model_name": "HBoxModel",
            "_view_count": null,
            "_view_module": "@jupyter-widgets/controls",
            "_view_module_version": "1.5.0",
            "_view_name": "HBoxView",
            "box_style": "",
            "children": [
              "IPY_MODEL_74d0b5767f8446ca9f8d96b8dc5b9df4"
            ],
            "layout": "IPY_MODEL_e5e33ad47499454eb1938cac69f7c239"
          }
        },
        "fd6ab28d4f8c4062bf6af461ff2d5aaa": {
          "model_module": "@jupyter-widgets/controls",
          "model_name": "VBoxModel",
          "model_module_version": "1.5.0",
          "state": {
            "_dom_classes": [
              "geemap-colab"
            ],
            "_model_module": "@jupyter-widgets/controls",
            "_model_module_version": "1.5.0",
            "_model_name": "VBoxModel",
            "_view_count": null,
            "_view_module": "@jupyter-widgets/controls",
            "_view_module_version": "1.5.0",
            "_view_name": "VBoxView",
            "box_style": "",
            "children": [
              "IPY_MODEL_fe033b30a2fa470ebee92013be910c47"
            ],
            "layout": "IPY_MODEL_0e549683432f4eadad2df9b99f682c60"
          }
        },
        "74d0b5767f8446ca9f8d96b8dc5b9df4": {
          "model_module": "@jupyter-widgets/controls",
          "model_name": "ToggleButtonModel",
          "model_module_version": "1.5.0",
          "state": {
            "_dom_classes": [],
            "_model_module": "@jupyter-widgets/controls",
            "_model_module_version": "1.5.0",
            "_model_name": "ToggleButtonModel",
            "_view_count": null,
            "_view_module": "@jupyter-widgets/controls",
            "_view_module_version": "1.5.0",
            "_view_name": "ToggleButtonView",
            "button_style": "",
            "description": "",
            "description_tooltip": null,
            "disabled": false,
            "icon": "globe",
            "layout": "IPY_MODEL_6d35f7adfa2440e686843911656ad9a3",
            "style": "IPY_MODEL_65b6152add74474882c765c6d3590ab2",
            "tooltip": "Search location/data",
            "value": false
          }
        },
        "e5e33ad47499454eb1938cac69f7c239": {
          "model_module": "@jupyter-widgets/base",
          "model_name": "LayoutModel",
          "model_module_version": "1.2.0",
          "state": {
            "_model_module": "@jupyter-widgets/base",
            "_model_module_version": "1.2.0",
            "_model_name": "LayoutModel",
            "_view_count": null,
            "_view_module": "@jupyter-widgets/base",
            "_view_module_version": "1.2.0",
            "_view_name": "LayoutView",
            "align_content": null,
            "align_items": null,
            "align_self": null,
            "border": null,
            "bottom": null,
            "display": null,
            "flex": null,
            "flex_flow": null,
            "grid_area": null,
            "grid_auto_columns": null,
            "grid_auto_flow": null,
            "grid_auto_rows": null,
            "grid_column": null,
            "grid_gap": null,
            "grid_row": null,
            "grid_template_areas": null,
            "grid_template_columns": null,
            "grid_template_rows": null,
            "height": null,
            "justify_content": null,
            "justify_items": null,
            "left": null,
            "margin": null,
            "max_height": null,
            "max_width": null,
            "min_height": null,
            "min_width": null,
            "object_fit": null,
            "object_position": null,
            "order": null,
            "overflow": null,
            "overflow_x": null,
            "overflow_y": null,
            "padding": null,
            "right": null,
            "top": null,
            "visibility": null,
            "width": null
          }
        },
        "fe033b30a2fa470ebee92013be910c47": {
          "model_module": "@jupyter-widgets/controls",
          "model_name": "ToggleButtonModel",
          "model_module_version": "1.5.0",
          "state": {
            "_dom_classes": [],
            "_model_module": "@jupyter-widgets/controls",
            "_model_module_version": "1.5.0",
            "_model_name": "ToggleButtonModel",
            "_view_count": null,
            "_view_module": "@jupyter-widgets/controls",
            "_view_module_version": "1.5.0",
            "_view_name": "ToggleButtonView",
            "button_style": "",
            "description": "",
            "description_tooltip": null,
            "disabled": false,
            "icon": "wrench",
            "layout": "IPY_MODEL_af267ad2d0f545ecb9572156b988cac8",
            "style": "IPY_MODEL_8cef8d9816ae488fa3b46dd73c1f23b6",
            "tooltip": "Toolbar",
            "value": false
          }
        },
        "0e549683432f4eadad2df9b99f682c60": {
          "model_module": "@jupyter-widgets/base",
          "model_name": "LayoutModel",
          "model_module_version": "1.2.0",
          "state": {
            "_model_module": "@jupyter-widgets/base",
            "_model_module_version": "1.2.0",
            "_model_name": "LayoutModel",
            "_view_count": null,
            "_view_module": "@jupyter-widgets/base",
            "_view_module_version": "1.2.0",
            "_view_name": "LayoutView",
            "align_content": null,
            "align_items": null,
            "align_self": null,
            "border": null,
            "bottom": null,
            "display": null,
            "flex": null,
            "flex_flow": null,
            "grid_area": null,
            "grid_auto_columns": null,
            "grid_auto_flow": null,
            "grid_auto_rows": null,
            "grid_column": null,
            "grid_gap": null,
            "grid_row": null,
            "grid_template_areas": null,
            "grid_template_columns": null,
            "grid_template_rows": null,
            "height": null,
            "justify_content": null,
            "justify_items": null,
            "left": null,
            "margin": null,
            "max_height": null,
            "max_width": null,
            "min_height": null,
            "min_width": null,
            "object_fit": null,
            "object_position": null,
            "order": null,
            "overflow": null,
            "overflow_x": null,
            "overflow_y": null,
            "padding": null,
            "right": null,
            "top": null,
            "visibility": null,
            "width": null
          }
        },
        "6d35f7adfa2440e686843911656ad9a3": {
          "model_module": "@jupyter-widgets/base",
          "model_name": "LayoutModel",
          "model_module_version": "1.2.0",
          "state": {
            "_model_module": "@jupyter-widgets/base",
            "_model_module_version": "1.2.0",
            "_model_name": "LayoutModel",
            "_view_count": null,
            "_view_module": "@jupyter-widgets/base",
            "_view_module_version": "1.2.0",
            "_view_name": "LayoutView",
            "align_content": null,
            "align_items": null,
            "align_self": null,
            "border": null,
            "bottom": null,
            "display": null,
            "flex": null,
            "flex_flow": null,
            "grid_area": null,
            "grid_auto_columns": null,
            "grid_auto_flow": null,
            "grid_auto_rows": null,
            "grid_column": null,
            "grid_gap": null,
            "grid_row": null,
            "grid_template_areas": null,
            "grid_template_columns": null,
            "grid_template_rows": null,
            "height": "28px",
            "justify_content": null,
            "justify_items": null,
            "left": null,
            "margin": null,
            "max_height": null,
            "max_width": null,
            "min_height": null,
            "min_width": null,
            "object_fit": null,
            "object_position": null,
            "order": null,
            "overflow": null,
            "overflow_x": null,
            "overflow_y": null,
            "padding": "0px 0px 0px 4px",
            "right": null,
            "top": null,
            "visibility": null,
            "width": "28px"
          }
        },
        "65b6152add74474882c765c6d3590ab2": {
          "model_module": "@jupyter-widgets/controls",
          "model_name": "DescriptionStyleModel",
          "model_module_version": "1.5.0",
          "state": {
            "_model_module": "@jupyter-widgets/controls",
            "_model_module_version": "1.5.0",
            "_model_name": "DescriptionStyleModel",
            "_view_count": null,
            "_view_module": "@jupyter-widgets/base",
            "_view_module_version": "1.2.0",
            "_view_name": "StyleView",
            "description_width": ""
          }
        },
        "af267ad2d0f545ecb9572156b988cac8": {
          "model_module": "@jupyter-widgets/base",
          "model_name": "LayoutModel",
          "model_module_version": "1.2.0",
          "state": {
            "_model_module": "@jupyter-widgets/base",
            "_model_module_version": "1.2.0",
            "_model_name": "LayoutModel",
            "_view_count": null,
            "_view_module": "@jupyter-widgets/base",
            "_view_module_version": "1.2.0",
            "_view_name": "LayoutView",
            "align_content": null,
            "align_items": null,
            "align_self": null,
            "border": null,
            "bottom": null,
            "display": null,
            "flex": null,
            "flex_flow": null,
            "grid_area": null,
            "grid_auto_columns": null,
            "grid_auto_flow": null,
            "grid_auto_rows": null,
            "grid_column": null,
            "grid_gap": null,
            "grid_row": null,
            "grid_template_areas": null,
            "grid_template_columns": null,
            "grid_template_rows": null,
            "height": "28px",
            "justify_content": null,
            "justify_items": null,
            "left": null,
            "margin": null,
            "max_height": null,
            "max_width": null,
            "min_height": null,
            "min_width": null,
            "object_fit": null,
            "object_position": null,
            "order": null,
            "overflow": null,
            "overflow_x": null,
            "overflow_y": null,
            "padding": "0px 0px 0px 4px",
            "right": null,
            "top": null,
            "visibility": null,
            "width": "28px"
          }
        },
        "8cef8d9816ae488fa3b46dd73c1f23b6": {
          "model_module": "@jupyter-widgets/controls",
          "model_name": "DescriptionStyleModel",
          "model_module_version": "1.5.0",
          "state": {
            "_model_module": "@jupyter-widgets/controls",
            "_model_module_version": "1.5.0",
            "_model_name": "DescriptionStyleModel",
            "_view_count": null,
            "_view_module": "@jupyter-widgets/base",
            "_view_module_version": "1.2.0",
            "_view_name": "StyleView",
            "description_width": ""
          }
        },
        "835b519eb2d543b88243f087b56a95ab": {
          "model_module": "jupyter-leaflet",
          "model_name": "LeafletTileLayerModel",
          "model_module_version": "^0.18",
          "state": {
            "_model_module": "jupyter-leaflet",
            "_model_module_version": "^0.18",
            "_model_name": "LeafletTileLayerModel",
            "_view_count": null,
            "_view_module": "jupyter-leaflet",
            "_view_module_version": "^0.18",
            "_view_name": "LeafletTileLayerView",
            "attribution": "Google Earth Engine",
            "base": false,
            "bottom": true,
            "bounds": null,
            "detect_retina": false,
            "loading": false,
            "max_native_zoom": null,
            "max_zoom": 24,
            "min_native_zoom": null,
            "min_zoom": 0,
            "name": "AOI",
            "no_wrap": false,
            "opacity": 1,
            "options": [
              "attribution",
              "bounds",
              "detect_retina",
              "max_native_zoom",
              "max_zoom",
              "min_native_zoom",
              "min_zoom",
              "no_wrap",
              "tile_size",
              "tms",
              "zoom_offset"
            ],
            "pane": "",
            "popup": null,
            "popup_max_height": null,
            "popup_max_width": 300,
            "popup_min_width": 50,
            "show_loading": false,
            "subitems": [],
            "tile_size": 256,
            "tms": false,
            "url": "https://earthengine.googleapis.com/v1/projects/ee-foss4g/maps/26f550f5fac434ef57d4baae741843d8-08163e5912c108859912e40214dc53e3/tiles/{z}/{x}/{y}",
            "visible": true,
            "zoom_offset": 0
          }
        },
        "8735d8bfe933434c8095e4cc36c738b8": {
          "model_module": "jupyter-leaflet",
          "model_name": "LeafletMapModel",
          "model_module_version": "^0.18",
          "state": {
            "_dom_classes": [],
            "_model_module": "jupyter-leaflet",
            "_model_module_version": "^0.18",
            "_model_name": "LeafletMapModel",
            "_view_count": null,
            "_view_module": "jupyter-leaflet",
            "_view_module_version": "^0.18",
            "_view_name": "LeafletMapView",
            "bottom": 6656,
            "bounce_at_zoom_limits": true,
            "box_zoom": true,
            "center": [
              35.60541125576072,
              127.04873061439156
            ],
            "close_popup_on_click": true,
            "controls": [
              "IPY_MODEL_1100ca2a54af4bde8307d976cba64998",
              "IPY_MODEL_76cdab14cc4141d48924c64f0932218a",
              "IPY_MODEL_c99a0a2081d8432e9be13a4a61c5acaa",
              "IPY_MODEL_8aff3aa659d34afc91a30abf33dd6985",
              "IPY_MODEL_2e329810dfbd4a0c9955d3c50513baef",
              "IPY_MODEL_37ec7e1b5f7f4ed5a1931c3fca45be66",
              "IPY_MODEL_2a3563a63b104d319af42ab4f234db67",
              "IPY_MODEL_b09eaaa68b8d466cb3f422190e6540fe",
              "IPY_MODEL_06c7832ec3ba4bf49063021c8b1fca9c"
            ],
            "crs": {
              "name": "EPSG3857",
              "custom": false
            },
            "default_style": "IPY_MODEL_35e407f00ecb4d73bb2b259a39c9b3f6",
            "double_click_zoom": true,
            "dragging": true,
            "dragging_style": "IPY_MODEL_0b259889060a4c0c8617febd348c9880",
            "east": 135.83496093750003,
            "fullscreen": false,
            "inertia": true,
            "inertia_deceleration": 3000,
            "inertia_max_speed": 1500,
            "interpolation": "bilinear",
            "keyboard": true,
            "keyboard_pan_offset": 80,
            "keyboard_zoom_offset": 1,
            "layers": [
              "IPY_MODEL_414790a595e346fba8f4e31335577510",
              "IPY_MODEL_6614d179efa347ea9869c6cec2496882"
            ],
            "layout": "IPY_MODEL_158964254cdc40a0973edb69061b40ae",
            "left": 13574,
            "max_zoom": 24,
            "min_zoom": null,
            "modisdate": "2024-05-25",
            "north": 39.095962936305476,
            "options": [
              "bounce_at_zoom_limits",
              "box_zoom",
              "center",
              "close_popup_on_click",
              "double_click_zoom",
              "dragging",
              "fullscreen",
              "inertia",
              "inertia_deceleration",
              "inertia_max_speed",
              "interpolation",
              "keyboard",
              "keyboard_pan_offset",
              "keyboard_zoom_offset",
              "max_zoom",
              "min_zoom",
              "prefer_canvas",
              "scroll_wheel_zoom",
              "tap",
              "tap_tolerance",
              "touch_zoom",
              "world_copy_jump",
              "zoom",
              "zoom_animation_threshold",
              "zoom_delta",
              "zoom_snap"
            ],
            "panes": {},
            "prefer_canvas": false,
            "right": 14374,
            "scroll_wheel_zoom": true,
            "south": 31.952162238024975,
            "style": "IPY_MODEL_63e6c13c17ae4aa9990cba10c199d12e",
            "tap": true,
            "tap_tolerance": 15,
            "top": 6256,
            "touch_zoom": true,
            "west": 118.25683593750001,
            "window_url": "https://ioysqj54nq-496ff2e9c6d22116-0-colab.googleusercontent.com/outputframe.html?vrz=colab_20240523-060110_RC00_636443439",
            "world_copy_jump": false,
            "zoom": 6,
            "zoom_animation_threshold": 4,
            "zoom_delta": 1,
            "zoom_snap": 1
          }
        },
        "1100ca2a54af4bde8307d976cba64998": {
          "model_module": "jupyter-leaflet",
          "model_name": "LeafletWidgetControlModel",
          "model_module_version": "^0.18",
          "state": {
            "_model_module": "jupyter-leaflet",
            "_model_module_version": "^0.18",
            "_model_name": "LeafletWidgetControlModel",
            "_view_count": null,
            "_view_module": "jupyter-leaflet",
            "_view_module_version": "^0.18",
            "_view_name": "LeafletWidgetControlView",
            "max_height": null,
            "max_width": null,
            "min_height": null,
            "min_width": null,
            "options": [
              "position",
              "transparent_bg"
            ],
            "position": "topleft",
            "transparent_bg": false,
            "widget": "IPY_MODEL_600903fd10a640cdaa421e392af7d730"
          }
        },
        "76cdab14cc4141d48924c64f0932218a": {
          "model_module": "jupyter-leaflet",
          "model_name": "LeafletZoomControlModel",
          "model_module_version": "^0.18",
          "state": {
            "_model_module": "jupyter-leaflet",
            "_model_module_version": "^0.18",
            "_model_name": "LeafletZoomControlModel",
            "_view_count": null,
            "_view_module": "jupyter-leaflet",
            "_view_module_version": "^0.18",
            "_view_name": "LeafletZoomControlView",
            "options": [
              "position",
              "zoom_in_text",
              "zoom_in_title",
              "zoom_out_text",
              "zoom_out_title"
            ],
            "position": "topleft",
            "zoom_in_text": "+",
            "zoom_in_title": "Zoom in",
            "zoom_out_text": "-",
            "zoom_out_title": "Zoom out"
          }
        },
        "c99a0a2081d8432e9be13a4a61c5acaa": {
          "model_module": "jupyter-leaflet",
          "model_name": "LeafletFullScreenControlModel",
          "model_module_version": "^0.18",
          "state": {
            "_model_module": "jupyter-leaflet",
            "_model_module_version": "^0.18",
            "_model_name": "LeafletFullScreenControlModel",
            "_view_count": null,
            "_view_module": "jupyter-leaflet",
            "_view_module_version": "^0.18",
            "_view_name": "LeafletFullScreenControlView",
            "options": [
              "position"
            ],
            "position": "topleft"
          }
        },
        "8aff3aa659d34afc91a30abf33dd6985": {
          "model_module": "jupyter-leaflet",
          "model_name": "LeafletDrawControlModel",
          "model_module_version": "^0.18",
          "state": {
            "_model_module": "jupyter-leaflet",
            "_model_module_version": "^0.18",
            "_model_name": "LeafletDrawControlModel",
            "_view_count": null,
            "_view_module": "jupyter-leaflet",
            "_view_module_version": "^0.18",
            "_view_name": "LeafletDrawControlView",
            "circle": {},
            "circlemarker": {},
            "data": [],
            "edit": true,
            "marker": {
              "shapeOptions": {
                "color": "#3388ff"
              }
            },
            "options": [
              "position"
            ],
            "polygon": {
              "shapeOptions": {}
            },
            "polyline": {
              "shapeOptions": {}
            },
            "position": "topleft",
            "rectangle": {
              "shapeOptions": {
                "color": "#3388ff"
              }
            },
            "remove": true
          }
        },
        "2e329810dfbd4a0c9955d3c50513baef": {
          "model_module": "jupyter-leaflet",
          "model_name": "LeafletScaleControlModel",
          "model_module_version": "^0.18",
          "state": {
            "_model_module": "jupyter-leaflet",
            "_model_module_version": "^0.18",
            "_model_name": "LeafletScaleControlModel",
            "_view_count": null,
            "_view_module": "jupyter-leaflet",
            "_view_module_version": "^0.18",
            "_view_name": "LeafletScaleControlView",
            "imperial": true,
            "max_width": 100,
            "metric": true,
            "options": [
              "imperial",
              "max_width",
              "metric",
              "position",
              "update_when_idle"
            ],
            "position": "bottomleft",
            "update_when_idle": false
          }
        },
        "37ec7e1b5f7f4ed5a1931c3fca45be66": {
          "model_module": "jupyter-leaflet",
          "model_name": "LeafletMeasureControlModel",
          "model_module_version": "^0.18",
          "state": {
            "_custom_units": {},
            "_model_module": "jupyter-leaflet",
            "_model_module_version": "^0.18",
            "_model_name": "LeafletMeasureControlModel",
            "_view_count": null,
            "_view_module": "jupyter-leaflet",
            "_view_module_version": "^0.18",
            "_view_name": "LeafletMeasureControlView",
            "active_color": "orange",
            "capture_z_index": 10000,
            "completed_color": "#C8F2BE",
            "options": [
              "active_color",
              "capture_z_index",
              "completed_color",
              "popup_options",
              "position",
              "primary_area_unit",
              "primary_length_unit",
              "secondary_area_unit",
              "secondary_length_unit"
            ],
            "popup_options": {
              "className": "leaflet-measure-resultpopup",
              "autoPanPadding": [
                10,
                10
              ]
            },
            "position": "bottomleft",
            "primary_area_unit": "acres",
            "primary_length_unit": "kilometers",
            "secondary_area_unit": null,
            "secondary_length_unit": null
          }
        },
        "2a3563a63b104d319af42ab4f234db67": {
          "model_module": "jupyter-leaflet",
          "model_name": "LeafletWidgetControlModel",
          "model_module_version": "^0.18",
          "state": {
            "_model_module": "jupyter-leaflet",
            "_model_module_version": "^0.18",
            "_model_name": "LeafletWidgetControlModel",
            "_view_count": null,
            "_view_module": "jupyter-leaflet",
            "_view_module_version": "^0.18",
            "_view_name": "LeafletWidgetControlView",
            "max_height": null,
            "max_width": null,
            "min_height": null,
            "min_width": null,
            "options": [
              "position",
              "transparent_bg"
            ],
            "position": "topright",
            "transparent_bg": false,
            "widget": "IPY_MODEL_667d3320b6e44b7f84f0c092c47ec297"
          }
        },
        "b09eaaa68b8d466cb3f422190e6540fe": {
          "model_module": "jupyter-leaflet",
          "model_name": "LeafletAttributionControlModel",
          "model_module_version": "^0.18",
          "state": {
            "_model_module": "jupyter-leaflet",
            "_model_module_version": "^0.18",
            "_model_name": "LeafletAttributionControlModel",
            "_view_count": null,
            "_view_module": "jupyter-leaflet",
            "_view_module_version": "^0.18",
            "_view_name": "LeafletAttributionControlView",
            "options": [
              "position",
              "prefix"
            ],
            "position": "bottomright",
            "prefix": "ipyleaflet"
          }
        },
        "06c7832ec3ba4bf49063021c8b1fca9c": {
          "model_module": "jupyter-leaflet",
          "model_name": "LeafletWidgetControlModel",
          "model_module_version": "^0.18",
          "state": {
            "_model_module": "jupyter-leaflet",
            "_model_module_version": "^0.18",
            "_model_name": "LeafletWidgetControlModel",
            "_view_count": null,
            "_view_module": "jupyter-leaflet",
            "_view_module_version": "^0.18",
            "_view_name": "LeafletWidgetControlView",
            "max_height": null,
            "max_width": null,
            "min_height": null,
            "min_width": null,
            "options": [
              "position",
              "transparent_bg"
            ],
            "position": "bottomright",
            "transparent_bg": false,
            "widget": "IPY_MODEL_dc300a78191f4d6c8c6bc0f04c3d45d0"
          }
        },
        "35e407f00ecb4d73bb2b259a39c9b3f6": {
          "model_module": "jupyter-leaflet",
          "model_name": "LeafletMapStyleModel",
          "model_module_version": "^0.18",
          "state": {
            "_model_module": "jupyter-leaflet",
            "_model_module_version": "^0.18",
            "_model_name": "LeafletMapStyleModel",
            "_view_count": null,
            "_view_module": "@jupyter-widgets/base",
            "_view_module_version": "1.2.0",
            "_view_name": "StyleView",
            "cursor": "grab"
          }
        },
        "0b259889060a4c0c8617febd348c9880": {
          "model_module": "jupyter-leaflet",
          "model_name": "LeafletMapStyleModel",
          "model_module_version": "^0.18",
          "state": {
            "_model_module": "jupyter-leaflet",
            "_model_module_version": "^0.18",
            "_model_name": "LeafletMapStyleModel",
            "_view_count": null,
            "_view_module": "@jupyter-widgets/base",
            "_view_module_version": "1.2.0",
            "_view_name": "StyleView",
            "cursor": "move"
          }
        },
        "414790a595e346fba8f4e31335577510": {
          "model_module": "jupyter-leaflet",
          "model_name": "LeafletTileLayerModel",
          "model_module_version": "^0.18",
          "state": {
            "_model_module": "jupyter-leaflet",
            "_model_module_version": "^0.18",
            "_model_name": "LeafletTileLayerModel",
            "_view_count": null,
            "_view_module": "jupyter-leaflet",
            "_view_module_version": "^0.18",
            "_view_name": "LeafletTileLayerView",
            "attribution": "&copy; <a href=\"https://www.openstreetmap.org/copyright\">OpenStreetMap</a> contributors",
            "base": true,
            "bottom": true,
            "bounds": null,
            "detect_retina": false,
            "loading": false,
            "max_native_zoom": null,
            "max_zoom": 19,
            "min_native_zoom": null,
            "min_zoom": 1,
            "name": "OpenStreetMap.Mapnik",
            "no_wrap": false,
            "opacity": 1,
            "options": [
              "attribution",
              "bounds",
              "detect_retina",
              "max_native_zoom",
              "max_zoom",
              "min_native_zoom",
              "min_zoom",
              "no_wrap",
              "tile_size",
              "tms",
              "zoom_offset"
            ],
            "pane": "",
            "popup": null,
            "popup_max_height": null,
            "popup_max_width": 300,
            "popup_min_width": 50,
            "show_loading": false,
            "subitems": [],
            "tile_size": 256,
            "tms": false,
            "url": "https://tile.openstreetmap.org/{z}/{x}/{y}.png",
            "visible": true,
            "zoom_offset": 0
          }
        },
        "6614d179efa347ea9869c6cec2496882": {
          "model_module": "jupyter-leaflet",
          "model_name": "LeafletTileLayerModel",
          "model_module_version": "^0.18",
          "state": {
            "_model_module": "jupyter-leaflet",
            "_model_module_version": "^0.18",
            "_model_name": "LeafletTileLayerModel",
            "_view_count": null,
            "_view_module": "jupyter-leaflet",
            "_view_module_version": "^0.18",
            "_view_name": "LeafletTileLayerView",
            "attribution": "Google Earth Engine",
            "base": false,
            "bottom": true,
            "bounds": null,
            "detect_retina": false,
            "loading": false,
            "max_native_zoom": null,
            "max_zoom": 24,
            "min_native_zoom": null,
            "min_zoom": 0,
            "name": "elevation",
            "no_wrap": false,
            "opacity": 1,
            "options": [
              "attribution",
              "bounds",
              "detect_retina",
              "max_native_zoom",
              "max_zoom",
              "min_native_zoom",
              "min_zoom",
              "no_wrap",
              "tile_size",
              "tms",
              "zoom_offset"
            ],
            "pane": "",
            "popup": null,
            "popup_max_height": null,
            "popup_max_width": 300,
            "popup_min_width": 50,
            "show_loading": false,
            "subitems": [],
            "tile_size": 256,
            "tms": false,
            "url": "https://earthengine.googleapis.com/v1/projects/ee-foss4g/maps/887b7e761ff62b51ce065c2b3fbad3e6-a26d8dc285a30a9891dc2e2a4a315364/tiles/{z}/{x}/{y}",
            "visible": true,
            "zoom_offset": 0
          }
        },
        "158964254cdc40a0973edb69061b40ae": {
          "model_module": "@jupyter-widgets/base",
          "model_name": "LayoutModel",
          "model_module_version": "1.2.0",
          "state": {
            "_model_module": "@jupyter-widgets/base",
            "_model_module_version": "1.2.0",
            "_model_name": "LayoutModel",
            "_view_count": null,
            "_view_module": "@jupyter-widgets/base",
            "_view_module_version": "1.2.0",
            "_view_name": "LayoutView",
            "align_content": null,
            "align_items": null,
            "align_self": null,
            "border": null,
            "bottom": null,
            "display": null,
            "flex": null,
            "flex_flow": null,
            "grid_area": null,
            "grid_auto_columns": null,
            "grid_auto_flow": null,
            "grid_auto_rows": null,
            "grid_column": null,
            "grid_gap": null,
            "grid_row": null,
            "grid_template_areas": null,
            "grid_template_columns": null,
            "grid_template_rows": null,
            "height": "400px",
            "justify_content": null,
            "justify_items": null,
            "left": null,
            "margin": null,
            "max_height": null,
            "max_width": null,
            "min_height": null,
            "min_width": null,
            "object_fit": null,
            "object_position": null,
            "order": null,
            "overflow": null,
            "overflow_x": null,
            "overflow_y": null,
            "padding": null,
            "right": null,
            "top": null,
            "visibility": null,
            "width": "800px"
          }
        },
        "63e6c13c17ae4aa9990cba10c199d12e": {
          "model_module": "jupyter-leaflet",
          "model_name": "LeafletMapStyleModel",
          "model_module_version": "^0.18",
          "state": {
            "_model_module": "jupyter-leaflet",
            "_model_module_version": "^0.18",
            "_model_name": "LeafletMapStyleModel",
            "_view_count": null,
            "_view_module": "@jupyter-widgets/base",
            "_view_module_version": "1.2.0",
            "_view_name": "StyleView",
            "cursor": "grab"
          }
        },
        "600903fd10a640cdaa421e392af7d730": {
          "model_module": "@jupyter-widgets/controls",
          "model_name": "HBoxModel",
          "model_module_version": "1.5.0",
          "state": {
            "_dom_classes": [
              "geemap-colab"
            ],
            "_model_module": "@jupyter-widgets/controls",
            "_model_module_version": "1.5.0",
            "_model_name": "HBoxModel",
            "_view_count": null,
            "_view_module": "@jupyter-widgets/controls",
            "_view_module_version": "1.5.0",
            "_view_name": "HBoxView",
            "box_style": "",
            "children": [
              "IPY_MODEL_5038945201d6425c94fa2d92e412d7c4"
            ],
            "layout": "IPY_MODEL_3304cd3980e6461d8ecaf5176c704bad"
          }
        },
        "667d3320b6e44b7f84f0c092c47ec297": {
          "model_module": "@jupyter-widgets/controls",
          "model_name": "VBoxModel",
          "model_module_version": "1.5.0",
          "state": {
            "_dom_classes": [
              "geemap-colab"
            ],
            "_model_module": "@jupyter-widgets/controls",
            "_model_module_version": "1.5.0",
            "_model_name": "VBoxModel",
            "_view_count": null,
            "_view_module": "@jupyter-widgets/controls",
            "_view_module_version": "1.5.0",
            "_view_name": "VBoxView",
            "box_style": "",
            "children": [
              "IPY_MODEL_42f7bd37feb1478a8304009097437d11"
            ],
            "layout": "IPY_MODEL_17164b4bac1042a3bebba05ff90c4564"
          }
        },
        "dc300a78191f4d6c8c6bc0f04c3d45d0": {
          "model_module": "@jupyter-widgets/output",
          "model_name": "OutputModel",
          "model_module_version": "1.0.0",
          "state": {
            "_dom_classes": [
              "geemap-colab"
            ],
            "_model_module": "@jupyter-widgets/output",
            "_model_module_version": "1.0.0",
            "_model_name": "OutputModel",
            "_view_count": null,
            "_view_module": "@jupyter-widgets/output",
            "_view_module_version": "1.0.0",
            "_view_name": "OutputView",
            "layout": "IPY_MODEL_0eaa4a6eb21640ddb208766ebe240925",
            "msg_id": "",
            "outputs": [
              {
                "output_type": "display_data",
                "data": {
                  "text/plain": "<Figure size 30x300 with 1 Axes>",
                  "image/png": "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\n"
                },
                "metadata": {}
              }
            ]
          }
        },
        "5038945201d6425c94fa2d92e412d7c4": {
          "model_module": "@jupyter-widgets/controls",
          "model_name": "ToggleButtonModel",
          "model_module_version": "1.5.0",
          "state": {
            "_dom_classes": [],
            "_model_module": "@jupyter-widgets/controls",
            "_model_module_version": "1.5.0",
            "_model_name": "ToggleButtonModel",
            "_view_count": null,
            "_view_module": "@jupyter-widgets/controls",
            "_view_module_version": "1.5.0",
            "_view_name": "ToggleButtonView",
            "button_style": "",
            "description": "",
            "description_tooltip": null,
            "disabled": false,
            "icon": "globe",
            "layout": "IPY_MODEL_0f2dc2d878854e3f8fa64eb539026e73",
            "style": "IPY_MODEL_68be19c013a744b9b3cc2fc9959ae629",
            "tooltip": "Search location/data",
            "value": false
          }
        },
        "3304cd3980e6461d8ecaf5176c704bad": {
          "model_module": "@jupyter-widgets/base",
          "model_name": "LayoutModel",
          "model_module_version": "1.2.0",
          "state": {
            "_model_module": "@jupyter-widgets/base",
            "_model_module_version": "1.2.0",
            "_model_name": "LayoutModel",
            "_view_count": null,
            "_view_module": "@jupyter-widgets/base",
            "_view_module_version": "1.2.0",
            "_view_name": "LayoutView",
            "align_content": null,
            "align_items": null,
            "align_self": null,
            "border": null,
            "bottom": null,
            "display": null,
            "flex": null,
            "flex_flow": null,
            "grid_area": null,
            "grid_auto_columns": null,
            "grid_auto_flow": null,
            "grid_auto_rows": null,
            "grid_column": null,
            "grid_gap": null,
            "grid_row": null,
            "grid_template_areas": null,
            "grid_template_columns": null,
            "grid_template_rows": null,
            "height": null,
            "justify_content": null,
            "justify_items": null,
            "left": null,
            "margin": null,
            "max_height": null,
            "max_width": null,
            "min_height": null,
            "min_width": null,
            "object_fit": null,
            "object_position": null,
            "order": null,
            "overflow": null,
            "overflow_x": null,
            "overflow_y": null,
            "padding": null,
            "right": null,
            "top": null,
            "visibility": null,
            "width": null
          }
        },
        "42f7bd37feb1478a8304009097437d11": {
          "model_module": "@jupyter-widgets/controls",
          "model_name": "ToggleButtonModel",
          "model_module_version": "1.5.0",
          "state": {
            "_dom_classes": [],
            "_model_module": "@jupyter-widgets/controls",
            "_model_module_version": "1.5.0",
            "_model_name": "ToggleButtonModel",
            "_view_count": null,
            "_view_module": "@jupyter-widgets/controls",
            "_view_module_version": "1.5.0",
            "_view_name": "ToggleButtonView",
            "button_style": "",
            "description": "",
            "description_tooltip": null,
            "disabled": false,
            "icon": "wrench",
            "layout": "IPY_MODEL_9b8a873186e242c1875ee12e4e5a71c3",
            "style": "IPY_MODEL_fdce8754ff6f400f99718fa012fb6465",
            "tooltip": "Toolbar",
            "value": false
          }
        },
        "17164b4bac1042a3bebba05ff90c4564": {
          "model_module": "@jupyter-widgets/base",
          "model_name": "LayoutModel",
          "model_module_version": "1.2.0",
          "state": {
            "_model_module": "@jupyter-widgets/base",
            "_model_module_version": "1.2.0",
            "_model_name": "LayoutModel",
            "_view_count": null,
            "_view_module": "@jupyter-widgets/base",
            "_view_module_version": "1.2.0",
            "_view_name": "LayoutView",
            "align_content": null,
            "align_items": null,
            "align_self": null,
            "border": null,
            "bottom": null,
            "display": null,
            "flex": null,
            "flex_flow": null,
            "grid_area": null,
            "grid_auto_columns": null,
            "grid_auto_flow": null,
            "grid_auto_rows": null,
            "grid_column": null,
            "grid_gap": null,
            "grid_row": null,
            "grid_template_areas": null,
            "grid_template_columns": null,
            "grid_template_rows": null,
            "height": null,
            "justify_content": null,
            "justify_items": null,
            "left": null,
            "margin": null,
            "max_height": null,
            "max_width": null,
            "min_height": null,
            "min_width": null,
            "object_fit": null,
            "object_position": null,
            "order": null,
            "overflow": null,
            "overflow_x": null,
            "overflow_y": null,
            "padding": null,
            "right": null,
            "top": null,
            "visibility": null,
            "width": null
          }
        },
        "0eaa4a6eb21640ddb208766ebe240925": {
          "model_module": "@jupyter-widgets/base",
          "model_name": "LayoutModel",
          "model_module_version": "1.2.0",
          "state": {
            "_model_module": "@jupyter-widgets/base",
            "_model_module_version": "1.2.0",
            "_model_name": "LayoutModel",
            "_view_count": null,
            "_view_module": "@jupyter-widgets/base",
            "_view_module_version": "1.2.0",
            "_view_name": "LayoutView",
            "align_content": null,
            "align_items": null,
            "align_self": null,
            "border": null,
            "bottom": null,
            "display": null,
            "flex": null,
            "flex_flow": null,
            "grid_area": null,
            "grid_auto_columns": null,
            "grid_auto_flow": null,
            "grid_auto_rows": null,
            "grid_column": null,
            "grid_gap": null,
            "grid_row": null,
            "grid_template_areas": null,
            "grid_template_columns": null,
            "grid_template_rows": null,
            "height": null,
            "justify_content": null,
            "justify_items": null,
            "left": null,
            "margin": null,
            "max_height": null,
            "max_width": null,
            "min_height": null,
            "min_width": null,
            "object_fit": null,
            "object_position": null,
            "order": null,
            "overflow": null,
            "overflow_x": null,
            "overflow_y": null,
            "padding": null,
            "right": null,
            "top": null,
            "visibility": null,
            "width": "100px"
          }
        },
        "0f2dc2d878854e3f8fa64eb539026e73": {
          "model_module": "@jupyter-widgets/base",
          "model_name": "LayoutModel",
          "model_module_version": "1.2.0",
          "state": {
            "_model_module": "@jupyter-widgets/base",
            "_model_module_version": "1.2.0",
            "_model_name": "LayoutModel",
            "_view_count": null,
            "_view_module": "@jupyter-widgets/base",
            "_view_module_version": "1.2.0",
            "_view_name": "LayoutView",
            "align_content": null,
            "align_items": null,
            "align_self": null,
            "border": null,
            "bottom": null,
            "display": null,
            "flex": null,
            "flex_flow": null,
            "grid_area": null,
            "grid_auto_columns": null,
            "grid_auto_flow": null,
            "grid_auto_rows": null,
            "grid_column": null,
            "grid_gap": null,
            "grid_row": null,
            "grid_template_areas": null,
            "grid_template_columns": null,
            "grid_template_rows": null,
            "height": "28px",
            "justify_content": null,
            "justify_items": null,
            "left": null,
            "margin": null,
            "max_height": null,
            "max_width": null,
            "min_height": null,
            "min_width": null,
            "object_fit": null,
            "object_position": null,
            "order": null,
            "overflow": null,
            "overflow_x": null,
            "overflow_y": null,
            "padding": "0px 0px 0px 4px",
            "right": null,
            "top": null,
            "visibility": null,
            "width": "28px"
          }
        },
        "68be19c013a744b9b3cc2fc9959ae629": {
          "model_module": "@jupyter-widgets/controls",
          "model_name": "DescriptionStyleModel",
          "model_module_version": "1.5.0",
          "state": {
            "_model_module": "@jupyter-widgets/controls",
            "_model_module_version": "1.5.0",
            "_model_name": "DescriptionStyleModel",
            "_view_count": null,
            "_view_module": "@jupyter-widgets/base",
            "_view_module_version": "1.2.0",
            "_view_name": "StyleView",
            "description_width": ""
          }
        },
        "9b8a873186e242c1875ee12e4e5a71c3": {
          "model_module": "@jupyter-widgets/base",
          "model_name": "LayoutModel",
          "model_module_version": "1.2.0",
          "state": {
            "_model_module": "@jupyter-widgets/base",
            "_model_module_version": "1.2.0",
            "_model_name": "LayoutModel",
            "_view_count": null,
            "_view_module": "@jupyter-widgets/base",
            "_view_module_version": "1.2.0",
            "_view_name": "LayoutView",
            "align_content": null,
            "align_items": null,
            "align_self": null,
            "border": null,
            "bottom": null,
            "display": null,
            "flex": null,
            "flex_flow": null,
            "grid_area": null,
            "grid_auto_columns": null,
            "grid_auto_flow": null,
            "grid_auto_rows": null,
            "grid_column": null,
            "grid_gap": null,
            "grid_row": null,
            "grid_template_areas": null,
            "grid_template_columns": null,
            "grid_template_rows": null,
            "height": "28px",
            "justify_content": null,
            "justify_items": null,
            "left": null,
            "margin": null,
            "max_height": null,
            "max_width": null,
            "min_height": null,
            "min_width": null,
            "object_fit": null,
            "object_position": null,
            "order": null,
            "overflow": null,
            "overflow_x": null,
            "overflow_y": null,
            "padding": "0px 0px 0px 4px",
            "right": null,
            "top": null,
            "visibility": null,
            "width": "28px"
          }
        },
        "fdce8754ff6f400f99718fa012fb6465": {
          "model_module": "@jupyter-widgets/controls",
          "model_name": "DescriptionStyleModel",
          "model_module_version": "1.5.0",
          "state": {
            "_model_module": "@jupyter-widgets/controls",
            "_model_module_version": "1.5.0",
            "_model_name": "DescriptionStyleModel",
            "_view_count": null,
            "_view_module": "@jupyter-widgets/base",
            "_view_module_version": "1.2.0",
            "_view_name": "StyleView",
            "description_width": ""
          }
        },
        "1503bd810cff4a809b488f517e458bb4": {
          "model_module": "jupyter-leaflet",
          "model_name": "LeafletMapModel",
          "model_module_version": "^0.18",
          "state": {
            "_dom_classes": [],
            "_model_module": "jupyter-leaflet",
            "_model_module_version": "^0.18",
            "_model_name": "LeafletMapModel",
            "_view_count": null,
            "_view_module": "jupyter-leaflet",
            "_view_module_version": "^0.18",
            "_view_name": "LeafletMapView",
            "bottom": 6656,
            "bounce_at_zoom_limits": true,
            "box_zoom": true,
            "center": [
              35.60541125576072,
              127.04873061439156
            ],
            "close_popup_on_click": true,
            "controls": [
              "IPY_MODEL_203fd89a07d14032baa9b6c4f874cb50",
              "IPY_MODEL_d9f67f46c11146768ba17554f3dd4cff",
              "IPY_MODEL_3f8721d594bd408288e7a5e602f15b95",
              "IPY_MODEL_73b603b1b6e64a158ae9bae369a09b47",
              "IPY_MODEL_4cf58d64e83e4fd8bc0608f21f1e4278",
              "IPY_MODEL_e7eb628614c0406a933807bc517ab762",
              "IPY_MODEL_9183e9c2b08f46b680616df8c7dafb8e",
              "IPY_MODEL_fbbea1bbff594c83b0762d5ccc007074",
              "IPY_MODEL_c7c5b9ab083b44329d377a5aa84dea07"
            ],
            "crs": {
              "name": "EPSG3857",
              "custom": false
            },
            "default_style": "IPY_MODEL_5742a05c448b4ad49c1f3a229eba8a34",
            "double_click_zoom": true,
            "dragging": true,
            "dragging_style": "IPY_MODEL_70f41b5e7a2b4cbcbc50fd8be51621d6",
            "east": 135.83496093750003,
            "fullscreen": false,
            "inertia": true,
            "inertia_deceleration": 3000,
            "inertia_max_speed": 1500,
            "interpolation": "bilinear",
            "keyboard": true,
            "keyboard_pan_offset": 80,
            "keyboard_zoom_offset": 1,
            "layers": [
              "IPY_MODEL_dc756d3b3a104f2fa7c49969ae6a7450",
              "IPY_MODEL_16fd63c70e0b495884403b5e41290c19"
            ],
            "layout": "IPY_MODEL_56df7832d0a840f9a0058461f60f8f4f",
            "left": 13574,
            "max_zoom": 24,
            "min_zoom": null,
            "modisdate": "2024-05-25",
            "north": 39.095962936305476,
            "options": [
              "bounce_at_zoom_limits",
              "box_zoom",
              "center",
              "close_popup_on_click",
              "double_click_zoom",
              "dragging",
              "fullscreen",
              "inertia",
              "inertia_deceleration",
              "inertia_max_speed",
              "interpolation",
              "keyboard",
              "keyboard_pan_offset",
              "keyboard_zoom_offset",
              "max_zoom",
              "min_zoom",
              "prefer_canvas",
              "scroll_wheel_zoom",
              "tap",
              "tap_tolerance",
              "touch_zoom",
              "world_copy_jump",
              "zoom",
              "zoom_animation_threshold",
              "zoom_delta",
              "zoom_snap"
            ],
            "panes": {},
            "prefer_canvas": false,
            "right": 14374,
            "scroll_wheel_zoom": true,
            "south": 31.952162238024975,
            "style": "IPY_MODEL_da86527cac094682b23d80361d0a4945",
            "tap": true,
            "tap_tolerance": 15,
            "top": 6256,
            "touch_zoom": true,
            "west": 118.25683593750001,
            "window_url": "https://ioysqj54nq-496ff2e9c6d22116-0-colab.googleusercontent.com/outputframe.html?vrz=colab_20240523-060110_RC00_636443439",
            "world_copy_jump": false,
            "zoom": 6,
            "zoom_animation_threshold": 4,
            "zoom_delta": 1,
            "zoom_snap": 1
          }
        },
        "203fd89a07d14032baa9b6c4f874cb50": {
          "model_module": "jupyter-leaflet",
          "model_name": "LeafletWidgetControlModel",
          "model_module_version": "^0.18",
          "state": {
            "_model_module": "jupyter-leaflet",
            "_model_module_version": "^0.18",
            "_model_name": "LeafletWidgetControlModel",
            "_view_count": null,
            "_view_module": "jupyter-leaflet",
            "_view_module_version": "^0.18",
            "_view_name": "LeafletWidgetControlView",
            "max_height": null,
            "max_width": null,
            "min_height": null,
            "min_width": null,
            "options": [
              "position",
              "transparent_bg"
            ],
            "position": "topleft",
            "transparent_bg": false,
            "widget": "IPY_MODEL_9de5acb2af604a4fb18a3d9b7591bc9b"
          }
        },
        "d9f67f46c11146768ba17554f3dd4cff": {
          "model_module": "jupyter-leaflet",
          "model_name": "LeafletZoomControlModel",
          "model_module_version": "^0.18",
          "state": {
            "_model_module": "jupyter-leaflet",
            "_model_module_version": "^0.18",
            "_model_name": "LeafletZoomControlModel",
            "_view_count": null,
            "_view_module": "jupyter-leaflet",
            "_view_module_version": "^0.18",
            "_view_name": "LeafletZoomControlView",
            "options": [
              "position",
              "zoom_in_text",
              "zoom_in_title",
              "zoom_out_text",
              "zoom_out_title"
            ],
            "position": "topleft",
            "zoom_in_text": "+",
            "zoom_in_title": "Zoom in",
            "zoom_out_text": "-",
            "zoom_out_title": "Zoom out"
          }
        },
        "3f8721d594bd408288e7a5e602f15b95": {
          "model_module": "jupyter-leaflet",
          "model_name": "LeafletFullScreenControlModel",
          "model_module_version": "^0.18",
          "state": {
            "_model_module": "jupyter-leaflet",
            "_model_module_version": "^0.18",
            "_model_name": "LeafletFullScreenControlModel",
            "_view_count": null,
            "_view_module": "jupyter-leaflet",
            "_view_module_version": "^0.18",
            "_view_name": "LeafletFullScreenControlView",
            "options": [
              "position"
            ],
            "position": "topleft"
          }
        },
        "73b603b1b6e64a158ae9bae369a09b47": {
          "model_module": "jupyter-leaflet",
          "model_name": "LeafletDrawControlModel",
          "model_module_version": "^0.18",
          "state": {
            "_model_module": "jupyter-leaflet",
            "_model_module_version": "^0.18",
            "_model_name": "LeafletDrawControlModel",
            "_view_count": null,
            "_view_module": "jupyter-leaflet",
            "_view_module_version": "^0.18",
            "_view_name": "LeafletDrawControlView",
            "circle": {},
            "circlemarker": {},
            "data": [],
            "edit": true,
            "marker": {
              "shapeOptions": {
                "color": "#3388ff"
              }
            },
            "options": [
              "position"
            ],
            "polygon": {
              "shapeOptions": {}
            },
            "polyline": {
              "shapeOptions": {}
            },
            "position": "topleft",
            "rectangle": {
              "shapeOptions": {
                "color": "#3388ff"
              }
            },
            "remove": true
          }
        },
        "4cf58d64e83e4fd8bc0608f21f1e4278": {
          "model_module": "jupyter-leaflet",
          "model_name": "LeafletScaleControlModel",
          "model_module_version": "^0.18",
          "state": {
            "_model_module": "jupyter-leaflet",
            "_model_module_version": "^0.18",
            "_model_name": "LeafletScaleControlModel",
            "_view_count": null,
            "_view_module": "jupyter-leaflet",
            "_view_module_version": "^0.18",
            "_view_name": "LeafletScaleControlView",
            "imperial": true,
            "max_width": 100,
            "metric": true,
            "options": [
              "imperial",
              "max_width",
              "metric",
              "position",
              "update_when_idle"
            ],
            "position": "bottomleft",
            "update_when_idle": false
          }
        },
        "e7eb628614c0406a933807bc517ab762": {
          "model_module": "jupyter-leaflet",
          "model_name": "LeafletMeasureControlModel",
          "model_module_version": "^0.18",
          "state": {
            "_custom_units": {},
            "_model_module": "jupyter-leaflet",
            "_model_module_version": "^0.18",
            "_model_name": "LeafletMeasureControlModel",
            "_view_count": null,
            "_view_module": "jupyter-leaflet",
            "_view_module_version": "^0.18",
            "_view_name": "LeafletMeasureControlView",
            "active_color": "orange",
            "capture_z_index": 10000,
            "completed_color": "#C8F2BE",
            "options": [
              "active_color",
              "capture_z_index",
              "completed_color",
              "popup_options",
              "position",
              "primary_area_unit",
              "primary_length_unit",
              "secondary_area_unit",
              "secondary_length_unit"
            ],
            "popup_options": {
              "className": "leaflet-measure-resultpopup",
              "autoPanPadding": [
                10,
                10
              ]
            },
            "position": "bottomleft",
            "primary_area_unit": "acres",
            "primary_length_unit": "kilometers",
            "secondary_area_unit": null,
            "secondary_length_unit": null
          }
        },
        "9183e9c2b08f46b680616df8c7dafb8e": {
          "model_module": "jupyter-leaflet",
          "model_name": "LeafletWidgetControlModel",
          "model_module_version": "^0.18",
          "state": {
            "_model_module": "jupyter-leaflet",
            "_model_module_version": "^0.18",
            "_model_name": "LeafletWidgetControlModel",
            "_view_count": null,
            "_view_module": "jupyter-leaflet",
            "_view_module_version": "^0.18",
            "_view_name": "LeafletWidgetControlView",
            "max_height": null,
            "max_width": null,
            "min_height": null,
            "min_width": null,
            "options": [
              "position",
              "transparent_bg"
            ],
            "position": "topright",
            "transparent_bg": false,
            "widget": "IPY_MODEL_a42f628670914f14b1fbd8dfc7699222"
          }
        },
        "fbbea1bbff594c83b0762d5ccc007074": {
          "model_module": "jupyter-leaflet",
          "model_name": "LeafletAttributionControlModel",
          "model_module_version": "^0.18",
          "state": {
            "_model_module": "jupyter-leaflet",
            "_model_module_version": "^0.18",
            "_model_name": "LeafletAttributionControlModel",
            "_view_count": null,
            "_view_module": "jupyter-leaflet",
            "_view_module_version": "^0.18",
            "_view_name": "LeafletAttributionControlView",
            "options": [
              "position",
              "prefix"
            ],
            "position": "bottomright",
            "prefix": "ipyleaflet"
          }
        },
        "c7c5b9ab083b44329d377a5aa84dea07": {
          "model_module": "jupyter-leaflet",
          "model_name": "LeafletWidgetControlModel",
          "model_module_version": "^0.18",
          "state": {
            "_model_module": "jupyter-leaflet",
            "_model_module_version": "^0.18",
            "_model_name": "LeafletWidgetControlModel",
            "_view_count": null,
            "_view_module": "jupyter-leaflet",
            "_view_module_version": "^0.18",
            "_view_name": "LeafletWidgetControlView",
            "max_height": null,
            "max_width": null,
            "min_height": null,
            "min_width": null,
            "options": [
              "position",
              "transparent_bg"
            ],
            "position": "bottomright",
            "transparent_bg": false,
            "widget": "IPY_MODEL_9af3416912d74a9b874e799e4a109750"
          }
        },
        "5742a05c448b4ad49c1f3a229eba8a34": {
          "model_module": "jupyter-leaflet",
          "model_name": "LeafletMapStyleModel",
          "model_module_version": "^0.18",
          "state": {
            "_model_module": "jupyter-leaflet",
            "_model_module_version": "^0.18",
            "_model_name": "LeafletMapStyleModel",
            "_view_count": null,
            "_view_module": "@jupyter-widgets/base",
            "_view_module_version": "1.2.0",
            "_view_name": "StyleView",
            "cursor": "grab"
          }
        },
        "70f41b5e7a2b4cbcbc50fd8be51621d6": {
          "model_module": "jupyter-leaflet",
          "model_name": "LeafletMapStyleModel",
          "model_module_version": "^0.18",
          "state": {
            "_model_module": "jupyter-leaflet",
            "_model_module_version": "^0.18",
            "_model_name": "LeafletMapStyleModel",
            "_view_count": null,
            "_view_module": "@jupyter-widgets/base",
            "_view_module_version": "1.2.0",
            "_view_name": "StyleView",
            "cursor": "move"
          }
        },
        "dc756d3b3a104f2fa7c49969ae6a7450": {
          "model_module": "jupyter-leaflet",
          "model_name": "LeafletTileLayerModel",
          "model_module_version": "^0.18",
          "state": {
            "_model_module": "jupyter-leaflet",
            "_model_module_version": "^0.18",
            "_model_name": "LeafletTileLayerModel",
            "_view_count": null,
            "_view_module": "jupyter-leaflet",
            "_view_module_version": "^0.18",
            "_view_name": "LeafletTileLayerView",
            "attribution": "&copy; <a href=\"https://www.openstreetmap.org/copyright\">OpenStreetMap</a> contributors",
            "base": true,
            "bottom": true,
            "bounds": null,
            "detect_retina": false,
            "loading": false,
            "max_native_zoom": null,
            "max_zoom": 19,
            "min_native_zoom": null,
            "min_zoom": 1,
            "name": "OpenStreetMap.Mapnik",
            "no_wrap": false,
            "opacity": 1,
            "options": [
              "attribution",
              "bounds",
              "detect_retina",
              "max_native_zoom",
              "max_zoom",
              "min_native_zoom",
              "min_zoom",
              "no_wrap",
              "tile_size",
              "tms",
              "zoom_offset"
            ],
            "pane": "",
            "popup": null,
            "popup_max_height": null,
            "popup_max_width": 300,
            "popup_min_width": 50,
            "show_loading": false,
            "subitems": [],
            "tile_size": 256,
            "tms": false,
            "url": "https://tile.openstreetmap.org/{z}/{x}/{y}.png",
            "visible": true,
            "zoom_offset": 0
          }
        },
        "16fd63c70e0b495884403b5e41290c19": {
          "model_module": "jupyter-leaflet",
          "model_name": "LeafletTileLayerModel",
          "model_module_version": "^0.18",
          "state": {
            "_model_module": "jupyter-leaflet",
            "_model_module_version": "^0.18",
            "_model_name": "LeafletTileLayerModel",
            "_view_count": null,
            "_view_module": "jupyter-leaflet",
            "_view_module_version": "^0.18",
            "_view_name": "LeafletTileLayerView",
            "attribution": "Google Earth Engine",
            "base": false,
            "bottom": true,
            "bounds": null,
            "detect_retina": false,
            "loading": false,
            "max_native_zoom": null,
            "max_zoom": 24,
            "min_native_zoom": null,
            "min_zoom": 0,
            "name": "bio09",
            "no_wrap": false,
            "opacity": 1,
            "options": [
              "attribution",
              "bounds",
              "detect_retina",
              "max_native_zoom",
              "max_zoom",
              "min_native_zoom",
              "min_zoom",
              "no_wrap",
              "tile_size",
              "tms",
              "zoom_offset"
            ],
            "pane": "",
            "popup": null,
            "popup_max_height": null,
            "popup_max_width": 300,
            "popup_min_width": 50,
            "show_loading": false,
            "subitems": [],
            "tile_size": 256,
            "tms": false,
            "url": "https://earthengine.googleapis.com/v1/projects/ee-foss4g/maps/938080672f0c72dfc9017dfa9d60ce90-0f0d4c8ea63f196d4262a7c754337d24/tiles/{z}/{x}/{y}",
            "visible": true,
            "zoom_offset": 0
          }
        },
        "56df7832d0a840f9a0058461f60f8f4f": {
          "model_module": "@jupyter-widgets/base",
          "model_name": "LayoutModel",
          "model_module_version": "1.2.0",
          "state": {
            "_model_module": "@jupyter-widgets/base",
            "_model_module_version": "1.2.0",
            "_model_name": "LayoutModel",
            "_view_count": null,
            "_view_module": "@jupyter-widgets/base",
            "_view_module_version": "1.2.0",
            "_view_name": "LayoutView",
            "align_content": null,
            "align_items": null,
            "align_self": null,
            "border": null,
            "bottom": null,
            "display": null,
            "flex": null,
            "flex_flow": null,
            "grid_area": null,
            "grid_auto_columns": null,
            "grid_auto_flow": null,
            "grid_auto_rows": null,
            "grid_column": null,
            "grid_gap": null,
            "grid_row": null,
            "grid_template_areas": null,
            "grid_template_columns": null,
            "grid_template_rows": null,
            "height": "400px",
            "justify_content": null,
            "justify_items": null,
            "left": null,
            "margin": null,
            "max_height": null,
            "max_width": null,
            "min_height": null,
            "min_width": null,
            "object_fit": null,
            "object_position": null,
            "order": null,
            "overflow": null,
            "overflow_x": null,
            "overflow_y": null,
            "padding": null,
            "right": null,
            "top": null,
            "visibility": null,
            "width": "800px"
          }
        },
        "da86527cac094682b23d80361d0a4945": {
          "model_module": "jupyter-leaflet",
          "model_name": "LeafletMapStyleModel",
          "model_module_version": "^0.18",
          "state": {
            "_model_module": "jupyter-leaflet",
            "_model_module_version": "^0.18",
            "_model_name": "LeafletMapStyleModel",
            "_view_count": null,
            "_view_module": "@jupyter-widgets/base",
            "_view_module_version": "1.2.0",
            "_view_name": "StyleView",
            "cursor": "grab"
          }
        },
        "9de5acb2af604a4fb18a3d9b7591bc9b": {
          "model_module": "@jupyter-widgets/controls",
          "model_name": "HBoxModel",
          "model_module_version": "1.5.0",
          "state": {
            "_dom_classes": [
              "geemap-colab"
            ],
            "_model_module": "@jupyter-widgets/controls",
            "_model_module_version": "1.5.0",
            "_model_name": "HBoxModel",
            "_view_count": null,
            "_view_module": "@jupyter-widgets/controls",
            "_view_module_version": "1.5.0",
            "_view_name": "HBoxView",
            "box_style": "",
            "children": [
              "IPY_MODEL_bc3ec32e7dd045c08cf1e50ecf067d45"
            ],
            "layout": "IPY_MODEL_769bef3ba06f4ce68f11f3dad0407279"
          }
        },
        "a42f628670914f14b1fbd8dfc7699222": {
          "model_module": "@jupyter-widgets/controls",
          "model_name": "VBoxModel",
          "model_module_version": "1.5.0",
          "state": {
            "_dom_classes": [
              "geemap-colab"
            ],
            "_model_module": "@jupyter-widgets/controls",
            "_model_module_version": "1.5.0",
            "_model_name": "VBoxModel",
            "_view_count": null,
            "_view_module": "@jupyter-widgets/controls",
            "_view_module_version": "1.5.0",
            "_view_name": "VBoxView",
            "box_style": "",
            "children": [
              "IPY_MODEL_def4cc5e7b8343e78a25d4b3bfe5bcfc"
            ],
            "layout": "IPY_MODEL_294a6acb0f054b76ac8cda702318fe36"
          }
        },
        "9af3416912d74a9b874e799e4a109750": {
          "model_module": "@jupyter-widgets/output",
          "model_name": "OutputModel",
          "model_module_version": "1.0.0",
          "state": {
            "_dom_classes": [
              "geemap-colab"
            ],
            "_model_module": "@jupyter-widgets/output",
            "_model_module_version": "1.0.0",
            "_model_name": "OutputModel",
            "_view_count": null,
            "_view_module": "@jupyter-widgets/output",
            "_view_module_version": "1.0.0",
            "_view_name": "OutputView",
            "layout": "IPY_MODEL_398551d00ae24455b6cf082180339d93",
            "msg_id": "",
            "outputs": [
              {
                "output_type": "display_data",
                "data": {
                  "text/plain": "<Figure size 30x300 with 1 Axes>",
                  "image/png": "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\n"
                },
                "metadata": {}
              }
            ]
          }
        },
        "bc3ec32e7dd045c08cf1e50ecf067d45": {
          "model_module": "@jupyter-widgets/controls",
          "model_name": "ToggleButtonModel",
          "model_module_version": "1.5.0",
          "state": {
            "_dom_classes": [],
            "_model_module": "@jupyter-widgets/controls",
            "_model_module_version": "1.5.0",
            "_model_name": "ToggleButtonModel",
            "_view_count": null,
            "_view_module": "@jupyter-widgets/controls",
            "_view_module_version": "1.5.0",
            "_view_name": "ToggleButtonView",
            "button_style": "",
            "description": "",
            "description_tooltip": null,
            "disabled": false,
            "icon": "globe",
            "layout": "IPY_MODEL_74e40bb1338b4569a48a1b66aba913b2",
            "style": "IPY_MODEL_e7fdf73ffda444af9ccd6083bd5b7df3",
            "tooltip": "Search location/data",
            "value": false
          }
        },
        "769bef3ba06f4ce68f11f3dad0407279": {
          "model_module": "@jupyter-widgets/base",
          "model_name": "LayoutModel",
          "model_module_version": "1.2.0",
          "state": {
            "_model_module": "@jupyter-widgets/base",
            "_model_module_version": "1.2.0",
            "_model_name": "LayoutModel",
            "_view_count": null,
            "_view_module": "@jupyter-widgets/base",
            "_view_module_version": "1.2.0",
            "_view_name": "LayoutView",
            "align_content": null,
            "align_items": null,
            "align_self": null,
            "border": null,
            "bottom": null,
            "display": null,
            "flex": null,
            "flex_flow": null,
            "grid_area": null,
            "grid_auto_columns": null,
            "grid_auto_flow": null,
            "grid_auto_rows": null,
            "grid_column": null,
            "grid_gap": null,
            "grid_row": null,
            "grid_template_areas": null,
            "grid_template_columns": null,
            "grid_template_rows": null,
            "height": null,
            "justify_content": null,
            "justify_items": null,
            "left": null,
            "margin": null,
            "max_height": null,
            "max_width": null,
            "min_height": null,
            "min_width": null,
            "object_fit": null,
            "object_position": null,
            "order": null,
            "overflow": null,
            "overflow_x": null,
            "overflow_y": null,
            "padding": null,
            "right": null,
            "top": null,
            "visibility": null,
            "width": null
          }
        },
        "def4cc5e7b8343e78a25d4b3bfe5bcfc": {
          "model_module": "@jupyter-widgets/controls",
          "model_name": "ToggleButtonModel",
          "model_module_version": "1.5.0",
          "state": {
            "_dom_classes": [],
            "_model_module": "@jupyter-widgets/controls",
            "_model_module_version": "1.5.0",
            "_model_name": "ToggleButtonModel",
            "_view_count": null,
            "_view_module": "@jupyter-widgets/controls",
            "_view_module_version": "1.5.0",
            "_view_name": "ToggleButtonView",
            "button_style": "",
            "description": "",
            "description_tooltip": null,
            "disabled": false,
            "icon": "wrench",
            "layout": "IPY_MODEL_46f3d0ec489943f4a28f53d570f74b2f",
            "style": "IPY_MODEL_06d6ada0315246c88123775ecebff83e",
            "tooltip": "Toolbar",
            "value": false
          }
        },
        "294a6acb0f054b76ac8cda702318fe36": {
          "model_module": "@jupyter-widgets/base",
          "model_name": "LayoutModel",
          "model_module_version": "1.2.0",
          "state": {
            "_model_module": "@jupyter-widgets/base",
            "_model_module_version": "1.2.0",
            "_model_name": "LayoutModel",
            "_view_count": null,
            "_view_module": "@jupyter-widgets/base",
            "_view_module_version": "1.2.0",
            "_view_name": "LayoutView",
            "align_content": null,
            "align_items": null,
            "align_self": null,
            "border": null,
            "bottom": null,
            "display": null,
            "flex": null,
            "flex_flow": null,
            "grid_area": null,
            "grid_auto_columns": null,
            "grid_auto_flow": null,
            "grid_auto_rows": null,
            "grid_column": null,
            "grid_gap": null,
            "grid_row": null,
            "grid_template_areas": null,
            "grid_template_columns": null,
            "grid_template_rows": null,
            "height": null,
            "justify_content": null,
            "justify_items": null,
            "left": null,
            "margin": null,
            "max_height": null,
            "max_width": null,
            "min_height": null,
            "min_width": null,
            "object_fit": null,
            "object_position": null,
            "order": null,
            "overflow": null,
            "overflow_x": null,
            "overflow_y": null,
            "padding": null,
            "right": null,
            "top": null,
            "visibility": null,
            "width": null
          }
        },
        "398551d00ae24455b6cf082180339d93": {
          "model_module": "@jupyter-widgets/base",
          "model_name": "LayoutModel",
          "model_module_version": "1.2.0",
          "state": {
            "_model_module": "@jupyter-widgets/base",
            "_model_module_version": "1.2.0",
            "_model_name": "LayoutModel",
            "_view_count": null,
            "_view_module": "@jupyter-widgets/base",
            "_view_module_version": "1.2.0",
            "_view_name": "LayoutView",
            "align_content": null,
            "align_items": null,
            "align_self": null,
            "border": null,
            "bottom": null,
            "display": null,
            "flex": null,
            "flex_flow": null,
            "grid_area": null,
            "grid_auto_columns": null,
            "grid_auto_flow": null,
            "grid_auto_rows": null,
            "grid_column": null,
            "grid_gap": null,
            "grid_row": null,
            "grid_template_areas": null,
            "grid_template_columns": null,
            "grid_template_rows": null,
            "height": null,
            "justify_content": null,
            "justify_items": null,
            "left": null,
            "margin": null,
            "max_height": null,
            "max_width": null,
            "min_height": null,
            "min_width": null,
            "object_fit": null,
            "object_position": null,
            "order": null,
            "overflow": null,
            "overflow_x": null,
            "overflow_y": null,
            "padding": null,
            "right": null,
            "top": null,
            "visibility": null,
            "width": "100px"
          }
        },
        "74e40bb1338b4569a48a1b66aba913b2": {
          "model_module": "@jupyter-widgets/base",
          "model_name": "LayoutModel",
          "model_module_version": "1.2.0",
          "state": {
            "_model_module": "@jupyter-widgets/base",
            "_model_module_version": "1.2.0",
            "_model_name": "LayoutModel",
            "_view_count": null,
            "_view_module": "@jupyter-widgets/base",
            "_view_module_version": "1.2.0",
            "_view_name": "LayoutView",
            "align_content": null,
            "align_items": null,
            "align_self": null,
            "border": null,
            "bottom": null,
            "display": null,
            "flex": null,
            "flex_flow": null,
            "grid_area": null,
            "grid_auto_columns": null,
            "grid_auto_flow": null,
            "grid_auto_rows": null,
            "grid_column": null,
            "grid_gap": null,
            "grid_row": null,
            "grid_template_areas": null,
            "grid_template_columns": null,
            "grid_template_rows": null,
            "height": "28px",
            "justify_content": null,
            "justify_items": null,
            "left": null,
            "margin": null,
            "max_height": null,
            "max_width": null,
            "min_height": null,
            "min_width": null,
            "object_fit": null,
            "object_position": null,
            "order": null,
            "overflow": null,
            "overflow_x": null,
            "overflow_y": null,
            "padding": "0px 0px 0px 4px",
            "right": null,
            "top": null,
            "visibility": null,
            "width": "28px"
          }
        },
        "e7fdf73ffda444af9ccd6083bd5b7df3": {
          "model_module": "@jupyter-widgets/controls",
          "model_name": "DescriptionStyleModel",
          "model_module_version": "1.5.0",
          "state": {
            "_model_module": "@jupyter-widgets/controls",
            "_model_module_version": "1.5.0",
            "_model_name": "DescriptionStyleModel",
            "_view_count": null,
            "_view_module": "@jupyter-widgets/base",
            "_view_module_version": "1.2.0",
            "_view_name": "StyleView",
            "description_width": ""
          }
        },
        "46f3d0ec489943f4a28f53d570f74b2f": {
          "model_module": "@jupyter-widgets/base",
          "model_name": "LayoutModel",
          "model_module_version": "1.2.0",
          "state": {
            "_model_module": "@jupyter-widgets/base",
            "_model_module_version": "1.2.0",
            "_model_name": "LayoutModel",
            "_view_count": null,
            "_view_module": "@jupyter-widgets/base",
            "_view_module_version": "1.2.0",
            "_view_name": "LayoutView",
            "align_content": null,
            "align_items": null,
            "align_self": null,
            "border": null,
            "bottom": null,
            "display": null,
            "flex": null,
            "flex_flow": null,
            "grid_area": null,
            "grid_auto_columns": null,
            "grid_auto_flow": null,
            "grid_auto_rows": null,
            "grid_column": null,
            "grid_gap": null,
            "grid_row": null,
            "grid_template_areas": null,
            "grid_template_columns": null,
            "grid_template_rows": null,
            "height": "28px",
            "justify_content": null,
            "justify_items": null,
            "left": null,
            "margin": null,
            "max_height": null,
            "max_width": null,
            "min_height": null,
            "min_width": null,
            "object_fit": null,
            "object_position": null,
            "order": null,
            "overflow": null,
            "overflow_x": null,
            "overflow_y": null,
            "padding": "0px 0px 0px 4px",
            "right": null,
            "top": null,
            "visibility": null,
            "width": "28px"
          }
        },
        "06d6ada0315246c88123775ecebff83e": {
          "model_module": "@jupyter-widgets/controls",
          "model_name": "DescriptionStyleModel",
          "model_module_version": "1.5.0",
          "state": {
            "_model_module": "@jupyter-widgets/controls",
            "_model_module_version": "1.5.0",
            "_model_name": "DescriptionStyleModel",
            "_view_count": null,
            "_view_module": "@jupyter-widgets/base",
            "_view_module_version": "1.2.0",
            "_view_name": "StyleView",
            "description_width": ""
          }
        },
        "4086c4aaf9fa443cb833acca90e5a78c": {
          "model_module": "jupyter-leaflet",
          "model_name": "LeafletMapModel",
          "model_module_version": "^0.18",
          "state": {
            "_dom_classes": [],
            "_model_module": "jupyter-leaflet",
            "_model_module_version": "^0.18",
            "_model_name": "LeafletMapModel",
            "_view_count": null,
            "_view_module": "jupyter-leaflet",
            "_view_module_version": "^0.18",
            "_view_name": "LeafletMapView",
            "bottom": 6656,
            "bounce_at_zoom_limits": true,
            "box_zoom": true,
            "center": [
              35.60541125576072,
              127.04873061439156
            ],
            "close_popup_on_click": true,
            "controls": [
              "IPY_MODEL_ec68cc801cd44f14bc1d7a1ec42ce437",
              "IPY_MODEL_ac270e0d61304167b3f9ab9756f3a534",
              "IPY_MODEL_c3d7d239e8ae46fe8df3cd657c7c6a37",
              "IPY_MODEL_faf6925ef1e84d618914d56b189838fc",
              "IPY_MODEL_0c6ada9331a64d21b21e8dbd3c4fac57",
              "IPY_MODEL_921d3345a0e84b6d9b20fca2f29af9d9",
              "IPY_MODEL_fee000ff7b5e45759dfb44cfcebf2d94",
              "IPY_MODEL_d91fc53e49d440f49453b20bebe091e3",
              "IPY_MODEL_31755c3564054096a9994bbecb9fd55a"
            ],
            "crs": {
              "name": "EPSG3857",
              "custom": false
            },
            "default_style": "IPY_MODEL_366b025d202e4676ac51899bc60033eb",
            "double_click_zoom": true,
            "dragging": true,
            "dragging_style": "IPY_MODEL_984ae0870367475dbf886ee5a8f4f6ab",
            "east": 135.83496093750003,
            "fullscreen": false,
            "inertia": true,
            "inertia_deceleration": 3000,
            "inertia_max_speed": 1500,
            "interpolation": "bilinear",
            "keyboard": true,
            "keyboard_pan_offset": 80,
            "keyboard_zoom_offset": 1,
            "layers": [
              "IPY_MODEL_825d7c2fbc134e7b96bae0e373c0c44d",
              "IPY_MODEL_e2e2fe131b8547eaba5526364748c4b0"
            ],
            "layout": "IPY_MODEL_ffe24c2b603a42cd9da5ed4ef86c2fc3",
            "left": 13574,
            "max_zoom": 24,
            "min_zoom": null,
            "modisdate": "2024-05-25",
            "north": 39.095962936305476,
            "options": [
              "bounce_at_zoom_limits",
              "box_zoom",
              "center",
              "close_popup_on_click",
              "double_click_zoom",
              "dragging",
              "fullscreen",
              "inertia",
              "inertia_deceleration",
              "inertia_max_speed",
              "interpolation",
              "keyboard",
              "keyboard_pan_offset",
              "keyboard_zoom_offset",
              "max_zoom",
              "min_zoom",
              "prefer_canvas",
              "scroll_wheel_zoom",
              "tap",
              "tap_tolerance",
              "touch_zoom",
              "world_copy_jump",
              "zoom",
              "zoom_animation_threshold",
              "zoom_delta",
              "zoom_snap"
            ],
            "panes": {},
            "prefer_canvas": false,
            "right": 14374,
            "scroll_wheel_zoom": true,
            "south": 31.952162238024975,
            "style": "IPY_MODEL_5e5e2016d0194775bc3c53c61a1b1d31",
            "tap": true,
            "tap_tolerance": 15,
            "top": 6256,
            "touch_zoom": true,
            "west": 118.25683593750001,
            "window_url": "https://ioysqj54nq-496ff2e9c6d22116-0-colab.googleusercontent.com/outputframe.html?vrz=colab_20240523-060110_RC00_636443439",
            "world_copy_jump": false,
            "zoom": 6,
            "zoom_animation_threshold": 4,
            "zoom_delta": 1,
            "zoom_snap": 1
          }
        },
        "ec68cc801cd44f14bc1d7a1ec42ce437": {
          "model_module": "jupyter-leaflet",
          "model_name": "LeafletWidgetControlModel",
          "model_module_version": "^0.18",
          "state": {
            "_model_module": "jupyter-leaflet",
            "_model_module_version": "^0.18",
            "_model_name": "LeafletWidgetControlModel",
            "_view_count": null,
            "_view_module": "jupyter-leaflet",
            "_view_module_version": "^0.18",
            "_view_name": "LeafletWidgetControlView",
            "max_height": null,
            "max_width": null,
            "min_height": null,
            "min_width": null,
            "options": [
              "position",
              "transparent_bg"
            ],
            "position": "topleft",
            "transparent_bg": false,
            "widget": "IPY_MODEL_258e3ed1dc924c9badb32ac977c57fb1"
          }
        },
        "ac270e0d61304167b3f9ab9756f3a534": {
          "model_module": "jupyter-leaflet",
          "model_name": "LeafletZoomControlModel",
          "model_module_version": "^0.18",
          "state": {
            "_model_module": "jupyter-leaflet",
            "_model_module_version": "^0.18",
            "_model_name": "LeafletZoomControlModel",
            "_view_count": null,
            "_view_module": "jupyter-leaflet",
            "_view_module_version": "^0.18",
            "_view_name": "LeafletZoomControlView",
            "options": [
              "position",
              "zoom_in_text",
              "zoom_in_title",
              "zoom_out_text",
              "zoom_out_title"
            ],
            "position": "topleft",
            "zoom_in_text": "+",
            "zoom_in_title": "Zoom in",
            "zoom_out_text": "-",
            "zoom_out_title": "Zoom out"
          }
        },
        "c3d7d239e8ae46fe8df3cd657c7c6a37": {
          "model_module": "jupyter-leaflet",
          "model_name": "LeafletFullScreenControlModel",
          "model_module_version": "^0.18",
          "state": {
            "_model_module": "jupyter-leaflet",
            "_model_module_version": "^0.18",
            "_model_name": "LeafletFullScreenControlModel",
            "_view_count": null,
            "_view_module": "jupyter-leaflet",
            "_view_module_version": "^0.18",
            "_view_name": "LeafletFullScreenControlView",
            "options": [
              "position"
            ],
            "position": "topleft"
          }
        },
        "faf6925ef1e84d618914d56b189838fc": {
          "model_module": "jupyter-leaflet",
          "model_name": "LeafletDrawControlModel",
          "model_module_version": "^0.18",
          "state": {
            "_model_module": "jupyter-leaflet",
            "_model_module_version": "^0.18",
            "_model_name": "LeafletDrawControlModel",
            "_view_count": null,
            "_view_module": "jupyter-leaflet",
            "_view_module_version": "^0.18",
            "_view_name": "LeafletDrawControlView",
            "circle": {},
            "circlemarker": {},
            "data": [],
            "edit": true,
            "marker": {
              "shapeOptions": {
                "color": "#3388ff"
              }
            },
            "options": [
              "position"
            ],
            "polygon": {
              "shapeOptions": {}
            },
            "polyline": {
              "shapeOptions": {}
            },
            "position": "topleft",
            "rectangle": {
              "shapeOptions": {
                "color": "#3388ff"
              }
            },
            "remove": true
          }
        },
        "0c6ada9331a64d21b21e8dbd3c4fac57": {
          "model_module": "jupyter-leaflet",
          "model_name": "LeafletScaleControlModel",
          "model_module_version": "^0.18",
          "state": {
            "_model_module": "jupyter-leaflet",
            "_model_module_version": "^0.18",
            "_model_name": "LeafletScaleControlModel",
            "_view_count": null,
            "_view_module": "jupyter-leaflet",
            "_view_module_version": "^0.18",
            "_view_name": "LeafletScaleControlView",
            "imperial": true,
            "max_width": 100,
            "metric": true,
            "options": [
              "imperial",
              "max_width",
              "metric",
              "position",
              "update_when_idle"
            ],
            "position": "bottomleft",
            "update_when_idle": false
          }
        },
        "921d3345a0e84b6d9b20fca2f29af9d9": {
          "model_module": "jupyter-leaflet",
          "model_name": "LeafletMeasureControlModel",
          "model_module_version": "^0.18",
          "state": {
            "_custom_units": {},
            "_model_module": "jupyter-leaflet",
            "_model_module_version": "^0.18",
            "_model_name": "LeafletMeasureControlModel",
            "_view_count": null,
            "_view_module": "jupyter-leaflet",
            "_view_module_version": "^0.18",
            "_view_name": "LeafletMeasureControlView",
            "active_color": "orange",
            "capture_z_index": 10000,
            "completed_color": "#C8F2BE",
            "options": [
              "active_color",
              "capture_z_index",
              "completed_color",
              "popup_options",
              "position",
              "primary_area_unit",
              "primary_length_unit",
              "secondary_area_unit",
              "secondary_length_unit"
            ],
            "popup_options": {
              "className": "leaflet-measure-resultpopup",
              "autoPanPadding": [
                10,
                10
              ]
            },
            "position": "bottomleft",
            "primary_area_unit": "acres",
            "primary_length_unit": "kilometers",
            "secondary_area_unit": null,
            "secondary_length_unit": null
          }
        },
        "fee000ff7b5e45759dfb44cfcebf2d94": {
          "model_module": "jupyter-leaflet",
          "model_name": "LeafletWidgetControlModel",
          "model_module_version": "^0.18",
          "state": {
            "_model_module": "jupyter-leaflet",
            "_model_module_version": "^0.18",
            "_model_name": "LeafletWidgetControlModel",
            "_view_count": null,
            "_view_module": "jupyter-leaflet",
            "_view_module_version": "^0.18",
            "_view_name": "LeafletWidgetControlView",
            "max_height": null,
            "max_width": null,
            "min_height": null,
            "min_width": null,
            "options": [
              "position",
              "transparent_bg"
            ],
            "position": "topright",
            "transparent_bg": false,
            "widget": "IPY_MODEL_1b15864ca9f646f6bbddd02d41687750"
          }
        },
        "d91fc53e49d440f49453b20bebe091e3": {
          "model_module": "jupyter-leaflet",
          "model_name": "LeafletAttributionControlModel",
          "model_module_version": "^0.18",
          "state": {
            "_model_module": "jupyter-leaflet",
            "_model_module_version": "^0.18",
            "_model_name": "LeafletAttributionControlModel",
            "_view_count": null,
            "_view_module": "jupyter-leaflet",
            "_view_module_version": "^0.18",
            "_view_name": "LeafletAttributionControlView",
            "options": [
              "position",
              "prefix"
            ],
            "position": "bottomright",
            "prefix": "ipyleaflet"
          }
        },
        "31755c3564054096a9994bbecb9fd55a": {
          "model_module": "jupyter-leaflet",
          "model_name": "LeafletWidgetControlModel",
          "model_module_version": "^0.18",
          "state": {
            "_model_module": "jupyter-leaflet",
            "_model_module_version": "^0.18",
            "_model_name": "LeafletWidgetControlModel",
            "_view_count": null,
            "_view_module": "jupyter-leaflet",
            "_view_module_version": "^0.18",
            "_view_name": "LeafletWidgetControlView",
            "max_height": null,
            "max_width": null,
            "min_height": null,
            "min_width": null,
            "options": [
              "position",
              "transparent_bg"
            ],
            "position": "bottomright",
            "transparent_bg": false,
            "widget": "IPY_MODEL_a0403123a9c04a8a98429e491ed91b6d"
          }
        },
        "366b025d202e4676ac51899bc60033eb": {
          "model_module": "jupyter-leaflet",
          "model_name": "LeafletMapStyleModel",
          "model_module_version": "^0.18",
          "state": {
            "_model_module": "jupyter-leaflet",
            "_model_module_version": "^0.18",
            "_model_name": "LeafletMapStyleModel",
            "_view_count": null,
            "_view_module": "@jupyter-widgets/base",
            "_view_module_version": "1.2.0",
            "_view_name": "StyleView",
            "cursor": "grab"
          }
        },
        "984ae0870367475dbf886ee5a8f4f6ab": {
          "model_module": "jupyter-leaflet",
          "model_name": "LeafletMapStyleModel",
          "model_module_version": "^0.18",
          "state": {
            "_model_module": "jupyter-leaflet",
            "_model_module_version": "^0.18",
            "_model_name": "LeafletMapStyleModel",
            "_view_count": null,
            "_view_module": "@jupyter-widgets/base",
            "_view_module_version": "1.2.0",
            "_view_name": "StyleView",
            "cursor": "move"
          }
        },
        "825d7c2fbc134e7b96bae0e373c0c44d": {
          "model_module": "jupyter-leaflet",
          "model_name": "LeafletTileLayerModel",
          "model_module_version": "^0.18",
          "state": {
            "_model_module": "jupyter-leaflet",
            "_model_module_version": "^0.18",
            "_model_name": "LeafletTileLayerModel",
            "_view_count": null,
            "_view_module": "jupyter-leaflet",
            "_view_module_version": "^0.18",
            "_view_name": "LeafletTileLayerView",
            "attribution": "&copy; <a href=\"https://www.openstreetmap.org/copyright\">OpenStreetMap</a> contributors",
            "base": true,
            "bottom": true,
            "bounds": null,
            "detect_retina": false,
            "loading": false,
            "max_native_zoom": null,
            "max_zoom": 19,
            "min_native_zoom": null,
            "min_zoom": 1,
            "name": "OpenStreetMap.Mapnik",
            "no_wrap": false,
            "opacity": 1,
            "options": [
              "attribution",
              "bounds",
              "detect_retina",
              "max_native_zoom",
              "max_zoom",
              "min_native_zoom",
              "min_zoom",
              "no_wrap",
              "tile_size",
              "tms",
              "zoom_offset"
            ],
            "pane": "",
            "popup": null,
            "popup_max_height": null,
            "popup_max_width": 300,
            "popup_min_width": 50,
            "show_loading": false,
            "subitems": [],
            "tile_size": 256,
            "tms": false,
            "url": "https://tile.openstreetmap.org/{z}/{x}/{y}.png",
            "visible": true,
            "zoom_offset": 0
          }
        },
        "e2e2fe131b8547eaba5526364748c4b0": {
          "model_module": "jupyter-leaflet",
          "model_name": "LeafletTileLayerModel",
          "model_module_version": "^0.18",
          "state": {
            "_model_module": "jupyter-leaflet",
            "_model_module_version": "^0.18",
            "_model_name": "LeafletTileLayerModel",
            "_view_count": null,
            "_view_module": "jupyter-leaflet",
            "_view_module_version": "^0.18",
            "_view_name": "LeafletTileLayerView",
            "attribution": "Google Earth Engine",
            "base": false,
            "bottom": true,
            "bounds": null,
            "detect_retina": false,
            "loading": false,
            "max_native_zoom": null,
            "max_zoom": 24,
            "min_native_zoom": null,
            "min_zoom": 0,
            "name": "slope",
            "no_wrap": false,
            "opacity": 1,
            "options": [
              "attribution",
              "bounds",
              "detect_retina",
              "max_native_zoom",
              "max_zoom",
              "min_native_zoom",
              "min_zoom",
              "no_wrap",
              "tile_size",
              "tms",
              "zoom_offset"
            ],
            "pane": "",
            "popup": null,
            "popup_max_height": null,
            "popup_max_width": 300,
            "popup_min_width": 50,
            "show_loading": false,
            "subitems": [],
            "tile_size": 256,
            "tms": false,
            "url": "https://earthengine.googleapis.com/v1/projects/ee-foss4g/maps/bd058a526b8dae9c5a2819f765e06aa2-ab6a7479f35572b841d45ab5a5cce567/tiles/{z}/{x}/{y}",
            "visible": true,
            "zoom_offset": 0
          }
        },
        "ffe24c2b603a42cd9da5ed4ef86c2fc3": {
          "model_module": "@jupyter-widgets/base",
          "model_name": "LayoutModel",
          "model_module_version": "1.2.0",
          "state": {
            "_model_module": "@jupyter-widgets/base",
            "_model_module_version": "1.2.0",
            "_model_name": "LayoutModel",
            "_view_count": null,
            "_view_module": "@jupyter-widgets/base",
            "_view_module_version": "1.2.0",
            "_view_name": "LayoutView",
            "align_content": null,
            "align_items": null,
            "align_self": null,
            "border": null,
            "bottom": null,
            "display": null,
            "flex": null,
            "flex_flow": null,
            "grid_area": null,
            "grid_auto_columns": null,
            "grid_auto_flow": null,
            "grid_auto_rows": null,
            "grid_column": null,
            "grid_gap": null,
            "grid_row": null,
            "grid_template_areas": null,
            "grid_template_columns": null,
            "grid_template_rows": null,
            "height": "400px",
            "justify_content": null,
            "justify_items": null,
            "left": null,
            "margin": null,
            "max_height": null,
            "max_width": null,
            "min_height": null,
            "min_width": null,
            "object_fit": null,
            "object_position": null,
            "order": null,
            "overflow": null,
            "overflow_x": null,
            "overflow_y": null,
            "padding": null,
            "right": null,
            "top": null,
            "visibility": null,
            "width": "800px"
          }
        },
        "5e5e2016d0194775bc3c53c61a1b1d31": {
          "model_module": "jupyter-leaflet",
          "model_name": "LeafletMapStyleModel",
          "model_module_version": "^0.18",
          "state": {
            "_model_module": "jupyter-leaflet",
            "_model_module_version": "^0.18",
            "_model_name": "LeafletMapStyleModel",
            "_view_count": null,
            "_view_module": "@jupyter-widgets/base",
            "_view_module_version": "1.2.0",
            "_view_name": "StyleView",
            "cursor": "grab"
          }
        },
        "258e3ed1dc924c9badb32ac977c57fb1": {
          "model_module": "@jupyter-widgets/controls",
          "model_name": "HBoxModel",
          "model_module_version": "1.5.0",
          "state": {
            "_dom_classes": [
              "geemap-colab"
            ],
            "_model_module": "@jupyter-widgets/controls",
            "_model_module_version": "1.5.0",
            "_model_name": "HBoxModel",
            "_view_count": null,
            "_view_module": "@jupyter-widgets/controls",
            "_view_module_version": "1.5.0",
            "_view_name": "HBoxView",
            "box_style": "",
            "children": [
              "IPY_MODEL_6258a0801086475baa26d9e00ad3492b"
            ],
            "layout": "IPY_MODEL_e6ec99ddfec14ccc9ca8231829ca887e"
          }
        },
        "1b15864ca9f646f6bbddd02d41687750": {
          "model_module": "@jupyter-widgets/controls",
          "model_name": "VBoxModel",
          "model_module_version": "1.5.0",
          "state": {
            "_dom_classes": [
              "geemap-colab"
            ],
            "_model_module": "@jupyter-widgets/controls",
            "_model_module_version": "1.5.0",
            "_model_name": "VBoxModel",
            "_view_count": null,
            "_view_module": "@jupyter-widgets/controls",
            "_view_module_version": "1.5.0",
            "_view_name": "VBoxView",
            "box_style": "",
            "children": [
              "IPY_MODEL_015b273fb3044da8ad7caa1a3d542a1a"
            ],
            "layout": "IPY_MODEL_59fc4736903b45e5938abf3df6527459"
          }
        },
        "a0403123a9c04a8a98429e491ed91b6d": {
          "model_module": "@jupyter-widgets/output",
          "model_name": "OutputModel",
          "model_module_version": "1.0.0",
          "state": {
            "_dom_classes": [
              "geemap-colab"
            ],
            "_model_module": "@jupyter-widgets/output",
            "_model_module_version": "1.0.0",
            "_model_name": "OutputModel",
            "_view_count": null,
            "_view_module": "@jupyter-widgets/output",
            "_view_module_version": "1.0.0",
            "_view_name": "OutputView",
            "layout": "IPY_MODEL_b81c61b2fca744ed8ad736b9e9ae7025",
            "msg_id": "",
            "outputs": [
              {
                "output_type": "display_data",
                "data": {
                  "text/plain": "<Figure size 30x300 with 1 Axes>",
                  "image/png": "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\n"
                },
                "metadata": {}
              }
            ]
          }
        },
        "6258a0801086475baa26d9e00ad3492b": {
          "model_module": "@jupyter-widgets/controls",
          "model_name": "ToggleButtonModel",
          "model_module_version": "1.5.0",
          "state": {
            "_dom_classes": [],
            "_model_module": "@jupyter-widgets/controls",
            "_model_module_version": "1.5.0",
            "_model_name": "ToggleButtonModel",
            "_view_count": null,
            "_view_module": "@jupyter-widgets/controls",
            "_view_module_version": "1.5.0",
            "_view_name": "ToggleButtonView",
            "button_style": "",
            "description": "",
            "description_tooltip": null,
            "disabled": false,
            "icon": "globe",
            "layout": "IPY_MODEL_8e178b50ab554a15b5a5cd461b25ab0a",
            "style": "IPY_MODEL_ab57586ec8f24a86a5d3cc4e4f9fbce0",
            "tooltip": "Search location/data",
            "value": false
          }
        },
        "e6ec99ddfec14ccc9ca8231829ca887e": {
          "model_module": "@jupyter-widgets/base",
          "model_name": "LayoutModel",
          "model_module_version": "1.2.0",
          "state": {
            "_model_module": "@jupyter-widgets/base",
            "_model_module_version": "1.2.0",
            "_model_name": "LayoutModel",
            "_view_count": null,
            "_view_module": "@jupyter-widgets/base",
            "_view_module_version": "1.2.0",
            "_view_name": "LayoutView",
            "align_content": null,
            "align_items": null,
            "align_self": null,
            "border": null,
            "bottom": null,
            "display": null,
            "flex": null,
            "flex_flow": null,
            "grid_area": null,
            "grid_auto_columns": null,
            "grid_auto_flow": null,
            "grid_auto_rows": null,
            "grid_column": null,
            "grid_gap": null,
            "grid_row": null,
            "grid_template_areas": null,
            "grid_template_columns": null,
            "grid_template_rows": null,
            "height": null,
            "justify_content": null,
            "justify_items": null,
            "left": null,
            "margin": null,
            "max_height": null,
            "max_width": null,
            "min_height": null,
            "min_width": null,
            "object_fit": null,
            "object_position": null,
            "order": null,
            "overflow": null,
            "overflow_x": null,
            "overflow_y": null,
            "padding": null,
            "right": null,
            "top": null,
            "visibility": null,
            "width": null
          }
        },
        "015b273fb3044da8ad7caa1a3d542a1a": {
          "model_module": "@jupyter-widgets/controls",
          "model_name": "ToggleButtonModel",
          "model_module_version": "1.5.0",
          "state": {
            "_dom_classes": [],
            "_model_module": "@jupyter-widgets/controls",
            "_model_module_version": "1.5.0",
            "_model_name": "ToggleButtonModel",
            "_view_count": null,
            "_view_module": "@jupyter-widgets/controls",
            "_view_module_version": "1.5.0",
            "_view_name": "ToggleButtonView",
            "button_style": "",
            "description": "",
            "description_tooltip": null,
            "disabled": false,
            "icon": "wrench",
            "layout": "IPY_MODEL_633bf4dbde664e2a88b6637b52ac89bd",
            "style": "IPY_MODEL_aa1ebfdf347646f6a782065ca2be754d",
            "tooltip": "Toolbar",
            "value": false
          }
        },
        "59fc4736903b45e5938abf3df6527459": {
          "model_module": "@jupyter-widgets/base",
          "model_name": "LayoutModel",
          "model_module_version": "1.2.0",
          "state": {
            "_model_module": "@jupyter-widgets/base",
            "_model_module_version": "1.2.0",
            "_model_name": "LayoutModel",
            "_view_count": null,
            "_view_module": "@jupyter-widgets/base",
            "_view_module_version": "1.2.0",
            "_view_name": "LayoutView",
            "align_content": null,
            "align_items": null,
            "align_self": null,
            "border": null,
            "bottom": null,
            "display": null,
            "flex": null,
            "flex_flow": null,
            "grid_area": null,
            "grid_auto_columns": null,
            "grid_auto_flow": null,
            "grid_auto_rows": null,
            "grid_column": null,
            "grid_gap": null,
            "grid_row": null,
            "grid_template_areas": null,
            "grid_template_columns": null,
            "grid_template_rows": null,
            "height": null,
            "justify_content": null,
            "justify_items": null,
            "left": null,
            "margin": null,
            "max_height": null,
            "max_width": null,
            "min_height": null,
            "min_width": null,
            "object_fit": null,
            "object_position": null,
            "order": null,
            "overflow": null,
            "overflow_x": null,
            "overflow_y": null,
            "padding": null,
            "right": null,
            "top": null,
            "visibility": null,
            "width": null
          }
        },
        "b81c61b2fca744ed8ad736b9e9ae7025": {
          "model_module": "@jupyter-widgets/base",
          "model_name": "LayoutModel",
          "model_module_version": "1.2.0",
          "state": {
            "_model_module": "@jupyter-widgets/base",
            "_model_module_version": "1.2.0",
            "_model_name": "LayoutModel",
            "_view_count": null,
            "_view_module": "@jupyter-widgets/base",
            "_view_module_version": "1.2.0",
            "_view_name": "LayoutView",
            "align_content": null,
            "align_items": null,
            "align_self": null,
            "border": null,
            "bottom": null,
            "display": null,
            "flex": null,
            "flex_flow": null,
            "grid_area": null,
            "grid_auto_columns": null,
            "grid_auto_flow": null,
            "grid_auto_rows": null,
            "grid_column": null,
            "grid_gap": null,
            "grid_row": null,
            "grid_template_areas": null,
            "grid_template_columns": null,
            "grid_template_rows": null,
            "height": null,
            "justify_content": null,
            "justify_items": null,
            "left": null,
            "margin": null,
            "max_height": null,
            "max_width": null,
            "min_height": null,
            "min_width": null,
            "object_fit": null,
            "object_position": null,
            "order": null,
            "overflow": null,
            "overflow_x": null,
            "overflow_y": null,
            "padding": null,
            "right": null,
            "top": null,
            "visibility": null,
            "width": "100px"
          }
        },
        "8e178b50ab554a15b5a5cd461b25ab0a": {
          "model_module": "@jupyter-widgets/base",
          "model_name": "LayoutModel",
          "model_module_version": "1.2.0",
          "state": {
            "_model_module": "@jupyter-widgets/base",
            "_model_module_version": "1.2.0",
            "_model_name": "LayoutModel",
            "_view_count": null,
            "_view_module": "@jupyter-widgets/base",
            "_view_module_version": "1.2.0",
            "_view_name": "LayoutView",
            "align_content": null,
            "align_items": null,
            "align_self": null,
            "border": null,
            "bottom": null,
            "display": null,
            "flex": null,
            "flex_flow": null,
            "grid_area": null,
            "grid_auto_columns": null,
            "grid_auto_flow": null,
            "grid_auto_rows": null,
            "grid_column": null,
            "grid_gap": null,
            "grid_row": null,
            "grid_template_areas": null,
            "grid_template_columns": null,
            "grid_template_rows": null,
            "height": "28px",
            "justify_content": null,
            "justify_items": null,
            "left": null,
            "margin": null,
            "max_height": null,
            "max_width": null,
            "min_height": null,
            "min_width": null,
            "object_fit": null,
            "object_position": null,
            "order": null,
            "overflow": null,
            "overflow_x": null,
            "overflow_y": null,
            "padding": "0px 0px 0px 4px",
            "right": null,
            "top": null,
            "visibility": null,
            "width": "28px"
          }
        },
        "ab57586ec8f24a86a5d3cc4e4f9fbce0": {
          "model_module": "@jupyter-widgets/controls",
          "model_name": "DescriptionStyleModel",
          "model_module_version": "1.5.0",
          "state": {
            "_model_module": "@jupyter-widgets/controls",
            "_model_module_version": "1.5.0",
            "_model_name": "DescriptionStyleModel",
            "_view_count": null,
            "_view_module": "@jupyter-widgets/base",
            "_view_module_version": "1.2.0",
            "_view_name": "StyleView",
            "description_width": ""
          }
        },
        "633bf4dbde664e2a88b6637b52ac89bd": {
          "model_module": "@jupyter-widgets/base",
          "model_name": "LayoutModel",
          "model_module_version": "1.2.0",
          "state": {
            "_model_module": "@jupyter-widgets/base",
            "_model_module_version": "1.2.0",
            "_model_name": "LayoutModel",
            "_view_count": null,
            "_view_module": "@jupyter-widgets/base",
            "_view_module_version": "1.2.0",
            "_view_name": "LayoutView",
            "align_content": null,
            "align_items": null,
            "align_self": null,
            "border": null,
            "bottom": null,
            "display": null,
            "flex": null,
            "flex_flow": null,
            "grid_area": null,
            "grid_auto_columns": null,
            "grid_auto_flow": null,
            "grid_auto_rows": null,
            "grid_column": null,
            "grid_gap": null,
            "grid_row": null,
            "grid_template_areas": null,
            "grid_template_columns": null,
            "grid_template_rows": null,
            "height": "28px",
            "justify_content": null,
            "justify_items": null,
            "left": null,
            "margin": null,
            "max_height": null,
            "max_width": null,
            "min_height": null,
            "min_width": null,
            "object_fit": null,
            "object_position": null,
            "order": null,
            "overflow": null,
            "overflow_x": null,
            "overflow_y": null,
            "padding": "0px 0px 0px 4px",
            "right": null,
            "top": null,
            "visibility": null,
            "width": "28px"
          }
        },
        "aa1ebfdf347646f6a782065ca2be754d": {
          "model_module": "@jupyter-widgets/controls",
          "model_name": "DescriptionStyleModel",
          "model_module_version": "1.5.0",
          "state": {
            "_model_module": "@jupyter-widgets/controls",
            "_model_module_version": "1.5.0",
            "_model_name": "DescriptionStyleModel",
            "_view_count": null,
            "_view_module": "@jupyter-widgets/base",
            "_view_module_version": "1.2.0",
            "_view_name": "StyleView",
            "description_width": ""
          }
        },
        "dd704bedefb647298103267587b0dc79": {
          "model_module": "jupyter-leaflet",
          "model_name": "LeafletMapModel",
          "model_module_version": "^0.18",
          "state": {
            "_dom_classes": [],
            "_model_module": "jupyter-leaflet",
            "_model_module_version": "^0.18",
            "_model_name": "LeafletMapModel",
            "_view_count": null,
            "_view_module": "jupyter-leaflet",
            "_view_module_version": "^0.18",
            "_view_name": "LeafletMapView",
            "bottom": 6656,
            "bounce_at_zoom_limits": true,
            "box_zoom": true,
            "center": [
              35.60541125576072,
              127.04873061439156
            ],
            "close_popup_on_click": true,
            "controls": [
              "IPY_MODEL_8befcc456d664b5ab162bdc8c6e032ed",
              "IPY_MODEL_758d22042e284593bebadbf9b9312a6d",
              "IPY_MODEL_24a6479be2ca41acbce8c27f5a45caf5",
              "IPY_MODEL_0bbb47b9822e4a17b3a2514dc6ebb205",
              "IPY_MODEL_1a8a26696fd8497cb262c9c3cd667f9d",
              "IPY_MODEL_2b47834bca4a4f2a9c9b2bf391bd4666",
              "IPY_MODEL_89c1b3484d274f058adac19563d2a7e4",
              "IPY_MODEL_7e51e87c25264f76b410d98fe9468f7b",
              "IPY_MODEL_e123c33c8c8144f6aa37a5a132d8290b"
            ],
            "crs": {
              "name": "EPSG3857",
              "custom": false
            },
            "default_style": "IPY_MODEL_5e059c612a99470cb3b56d1fd3449444",
            "double_click_zoom": true,
            "dragging": true,
            "dragging_style": "IPY_MODEL_5198f99ecc834176857e3a9c0cbe37c7",
            "east": 135.83496093750003,
            "fullscreen": false,
            "inertia": true,
            "inertia_deceleration": 3000,
            "inertia_max_speed": 1500,
            "interpolation": "bilinear",
            "keyboard": true,
            "keyboard_pan_offset": 80,
            "keyboard_zoom_offset": 1,
            "layers": [
              "IPY_MODEL_411a7e274a6443f4a8598aa6e6fec9b9",
              "IPY_MODEL_78afd43beddb481c92fb5edca085d386"
            ],
            "layout": "IPY_MODEL_6efb56b8fccf431d9f7af17a981d0591",
            "left": 13574,
            "max_zoom": 24,
            "min_zoom": null,
            "modisdate": "2024-05-25",
            "north": 39.095962936305476,
            "options": [
              "bounce_at_zoom_limits",
              "box_zoom",
              "center",
              "close_popup_on_click",
              "double_click_zoom",
              "dragging",
              "fullscreen",
              "inertia",
              "inertia_deceleration",
              "inertia_max_speed",
              "interpolation",
              "keyboard",
              "keyboard_pan_offset",
              "keyboard_zoom_offset",
              "max_zoom",
              "min_zoom",
              "prefer_canvas",
              "scroll_wheel_zoom",
              "tap",
              "tap_tolerance",
              "touch_zoom",
              "world_copy_jump",
              "zoom",
              "zoom_animation_threshold",
              "zoom_delta",
              "zoom_snap"
            ],
            "panes": {},
            "prefer_canvas": false,
            "right": 14374,
            "scroll_wheel_zoom": true,
            "south": 31.952162238024975,
            "style": "IPY_MODEL_37d68b2c3de24b05bf5c7e84bff23449",
            "tap": true,
            "tap_tolerance": 15,
            "top": 6256,
            "touch_zoom": true,
            "west": 118.25683593750001,
            "window_url": "https://ioysqj54nq-496ff2e9c6d22116-0-colab.googleusercontent.com/outputframe.html?vrz=colab_20240523-060110_RC00_636443439",
            "world_copy_jump": false,
            "zoom": 6,
            "zoom_animation_threshold": 4,
            "zoom_delta": 1,
            "zoom_snap": 1
          }
        },
        "8befcc456d664b5ab162bdc8c6e032ed": {
          "model_module": "jupyter-leaflet",
          "model_name": "LeafletWidgetControlModel",
          "model_module_version": "^0.18",
          "state": {
            "_model_module": "jupyter-leaflet",
            "_model_module_version": "^0.18",
            "_model_name": "LeafletWidgetControlModel",
            "_view_count": null,
            "_view_module": "jupyter-leaflet",
            "_view_module_version": "^0.18",
            "_view_name": "LeafletWidgetControlView",
            "max_height": null,
            "max_width": null,
            "min_height": null,
            "min_width": null,
            "options": [
              "position",
              "transparent_bg"
            ],
            "position": "topleft",
            "transparent_bg": false,
            "widget": "IPY_MODEL_6fe1eb2ce1854e969185a2c53c24d575"
          }
        },
        "758d22042e284593bebadbf9b9312a6d": {
          "model_module": "jupyter-leaflet",
          "model_name": "LeafletZoomControlModel",
          "model_module_version": "^0.18",
          "state": {
            "_model_module": "jupyter-leaflet",
            "_model_module_version": "^0.18",
            "_model_name": "LeafletZoomControlModel",
            "_view_count": null,
            "_view_module": "jupyter-leaflet",
            "_view_module_version": "^0.18",
            "_view_name": "LeafletZoomControlView",
            "options": [
              "position",
              "zoom_in_text",
              "zoom_in_title",
              "zoom_out_text",
              "zoom_out_title"
            ],
            "position": "topleft",
            "zoom_in_text": "+",
            "zoom_in_title": "Zoom in",
            "zoom_out_text": "-",
            "zoom_out_title": "Zoom out"
          }
        },
        "24a6479be2ca41acbce8c27f5a45caf5": {
          "model_module": "jupyter-leaflet",
          "model_name": "LeafletFullScreenControlModel",
          "model_module_version": "^0.18",
          "state": {
            "_model_module": "jupyter-leaflet",
            "_model_module_version": "^0.18",
            "_model_name": "LeafletFullScreenControlModel",
            "_view_count": null,
            "_view_module": "jupyter-leaflet",
            "_view_module_version": "^0.18",
            "_view_name": "LeafletFullScreenControlView",
            "options": [
              "position"
            ],
            "position": "topleft"
          }
        },
        "0bbb47b9822e4a17b3a2514dc6ebb205": {
          "model_module": "jupyter-leaflet",
          "model_name": "LeafletDrawControlModel",
          "model_module_version": "^0.18",
          "state": {
            "_model_module": "jupyter-leaflet",
            "_model_module_version": "^0.18",
            "_model_name": "LeafletDrawControlModel",
            "_view_count": null,
            "_view_module": "jupyter-leaflet",
            "_view_module_version": "^0.18",
            "_view_name": "LeafletDrawControlView",
            "circle": {},
            "circlemarker": {},
            "data": [],
            "edit": true,
            "marker": {
              "shapeOptions": {
                "color": "#3388ff"
              }
            },
            "options": [
              "position"
            ],
            "polygon": {
              "shapeOptions": {}
            },
            "polyline": {
              "shapeOptions": {}
            },
            "position": "topleft",
            "rectangle": {
              "shapeOptions": {
                "color": "#3388ff"
              }
            },
            "remove": true
          }
        },
        "1a8a26696fd8497cb262c9c3cd667f9d": {
          "model_module": "jupyter-leaflet",
          "model_name": "LeafletScaleControlModel",
          "model_module_version": "^0.18",
          "state": {
            "_model_module": "jupyter-leaflet",
            "_model_module_version": "^0.18",
            "_model_name": "LeafletScaleControlModel",
            "_view_count": null,
            "_view_module": "jupyter-leaflet",
            "_view_module_version": "^0.18",
            "_view_name": "LeafletScaleControlView",
            "imperial": true,
            "max_width": 100,
            "metric": true,
            "options": [
              "imperial",
              "max_width",
              "metric",
              "position",
              "update_when_idle"
            ],
            "position": "bottomleft",
            "update_when_idle": false
          }
        },
        "2b47834bca4a4f2a9c9b2bf391bd4666": {
          "model_module": "jupyter-leaflet",
          "model_name": "LeafletMeasureControlModel",
          "model_module_version": "^0.18",
          "state": {
            "_custom_units": {},
            "_model_module": "jupyter-leaflet",
            "_model_module_version": "^0.18",
            "_model_name": "LeafletMeasureControlModel",
            "_view_count": null,
            "_view_module": "jupyter-leaflet",
            "_view_module_version": "^0.18",
            "_view_name": "LeafletMeasureControlView",
            "active_color": "orange",
            "capture_z_index": 10000,
            "completed_color": "#C8F2BE",
            "options": [
              "active_color",
              "capture_z_index",
              "completed_color",
              "popup_options",
              "position",
              "primary_area_unit",
              "primary_length_unit",
              "secondary_area_unit",
              "secondary_length_unit"
            ],
            "popup_options": {
              "className": "leaflet-measure-resultpopup",
              "autoPanPadding": [
                10,
                10
              ]
            },
            "position": "bottomleft",
            "primary_area_unit": "acres",
            "primary_length_unit": "kilometers",
            "secondary_area_unit": null,
            "secondary_length_unit": null
          }
        },
        "89c1b3484d274f058adac19563d2a7e4": {
          "model_module": "jupyter-leaflet",
          "model_name": "LeafletWidgetControlModel",
          "model_module_version": "^0.18",
          "state": {
            "_model_module": "jupyter-leaflet",
            "_model_module_version": "^0.18",
            "_model_name": "LeafletWidgetControlModel",
            "_view_count": null,
            "_view_module": "jupyter-leaflet",
            "_view_module_version": "^0.18",
            "_view_name": "LeafletWidgetControlView",
            "max_height": null,
            "max_width": null,
            "min_height": null,
            "min_width": null,
            "options": [
              "position",
              "transparent_bg"
            ],
            "position": "topright",
            "transparent_bg": false,
            "widget": "IPY_MODEL_9132fec8aa22400b88fbf59725164e75"
          }
        },
        "7e51e87c25264f76b410d98fe9468f7b": {
          "model_module": "jupyter-leaflet",
          "model_name": "LeafletAttributionControlModel",
          "model_module_version": "^0.18",
          "state": {
            "_model_module": "jupyter-leaflet",
            "_model_module_version": "^0.18",
            "_model_name": "LeafletAttributionControlModel",
            "_view_count": null,
            "_view_module": "jupyter-leaflet",
            "_view_module_version": "^0.18",
            "_view_name": "LeafletAttributionControlView",
            "options": [
              "position",
              "prefix"
            ],
            "position": "bottomright",
            "prefix": "ipyleaflet"
          }
        },
        "e123c33c8c8144f6aa37a5a132d8290b": {
          "model_module": "jupyter-leaflet",
          "model_name": "LeafletWidgetControlModel",
          "model_module_version": "^0.18",
          "state": {
            "_model_module": "jupyter-leaflet",
            "_model_module_version": "^0.18",
            "_model_name": "LeafletWidgetControlModel",
            "_view_count": null,
            "_view_module": "jupyter-leaflet",
            "_view_module_version": "^0.18",
            "_view_name": "LeafletWidgetControlView",
            "max_height": null,
            "max_width": null,
            "min_height": null,
            "min_width": null,
            "options": [
              "position",
              "transparent_bg"
            ],
            "position": "bottomright",
            "transparent_bg": false,
            "widget": "IPY_MODEL_b647d4a302fc431ebc2a1920e5cb0d36"
          }
        },
        "5e059c612a99470cb3b56d1fd3449444": {
          "model_module": "jupyter-leaflet",
          "model_name": "LeafletMapStyleModel",
          "model_module_version": "^0.18",
          "state": {
            "_model_module": "jupyter-leaflet",
            "_model_module_version": "^0.18",
            "_model_name": "LeafletMapStyleModel",
            "_view_count": null,
            "_view_module": "@jupyter-widgets/base",
            "_view_module_version": "1.2.0",
            "_view_name": "StyleView",
            "cursor": "grab"
          }
        },
        "5198f99ecc834176857e3a9c0cbe37c7": {
          "model_module": "jupyter-leaflet",
          "model_name": "LeafletMapStyleModel",
          "model_module_version": "^0.18",
          "state": {
            "_model_module": "jupyter-leaflet",
            "_model_module_version": "^0.18",
            "_model_name": "LeafletMapStyleModel",
            "_view_count": null,
            "_view_module": "@jupyter-widgets/base",
            "_view_module_version": "1.2.0",
            "_view_name": "StyleView",
            "cursor": "move"
          }
        },
        "411a7e274a6443f4a8598aa6e6fec9b9": {
          "model_module": "jupyter-leaflet",
          "model_name": "LeafletTileLayerModel",
          "model_module_version": "^0.18",
          "state": {
            "_model_module": "jupyter-leaflet",
            "_model_module_version": "^0.18",
            "_model_name": "LeafletTileLayerModel",
            "_view_count": null,
            "_view_module": "jupyter-leaflet",
            "_view_module_version": "^0.18",
            "_view_name": "LeafletTileLayerView",
            "attribution": "&copy; <a href=\"https://www.openstreetmap.org/copyright\">OpenStreetMap</a> contributors",
            "base": true,
            "bottom": true,
            "bounds": null,
            "detect_retina": false,
            "loading": false,
            "max_native_zoom": null,
            "max_zoom": 19,
            "min_native_zoom": null,
            "min_zoom": 1,
            "name": "OpenStreetMap.Mapnik",
            "no_wrap": false,
            "opacity": 1,
            "options": [
              "attribution",
              "bounds",
              "detect_retina",
              "max_native_zoom",
              "max_zoom",
              "min_native_zoom",
              "min_zoom",
              "no_wrap",
              "tile_size",
              "tms",
              "zoom_offset"
            ],
            "pane": "",
            "popup": null,
            "popup_max_height": null,
            "popup_max_width": 300,
            "popup_min_width": 50,
            "show_loading": false,
            "subitems": [],
            "tile_size": 256,
            "tms": false,
            "url": "https://tile.openstreetmap.org/{z}/{x}/{y}.png",
            "visible": true,
            "zoom_offset": 0
          }
        },
        "78afd43beddb481c92fb5edca085d386": {
          "model_module": "jupyter-leaflet",
          "model_name": "LeafletTileLayerModel",
          "model_module_version": "^0.18",
          "state": {
            "_model_module": "jupyter-leaflet",
            "_model_module_version": "^0.18",
            "_model_name": "LeafletTileLayerModel",
            "_view_count": null,
            "_view_module": "jupyter-leaflet",
            "_view_module_version": "^0.18",
            "_view_name": "LeafletTileLayerView",
            "attribution": "Google Earth Engine",
            "base": false,
            "bottom": true,
            "bounds": null,
            "detect_retina": false,
            "loading": false,
            "max_native_zoom": null,
            "max_zoom": 24,
            "min_native_zoom": null,
            "min_zoom": 0,
            "name": "aspect",
            "no_wrap": false,
            "opacity": 1,
            "options": [
              "attribution",
              "bounds",
              "detect_retina",
              "max_native_zoom",
              "max_zoom",
              "min_native_zoom",
              "min_zoom",
              "no_wrap",
              "tile_size",
              "tms",
              "zoom_offset"
            ],
            "pane": "",
            "popup": null,
            "popup_max_height": null,
            "popup_max_width": 300,
            "popup_min_width": 50,
            "show_loading": false,
            "subitems": [],
            "tile_size": 256,
            "tms": false,
            "url": "https://earthengine.googleapis.com/v1/projects/ee-foss4g/maps/96fe0167d168f70fa8c299957aa593e5-92fea3b521f074743c7d13aa5e644732/tiles/{z}/{x}/{y}",
            "visible": true,
            "zoom_offset": 0
          }
        },
        "6efb56b8fccf431d9f7af17a981d0591": {
          "model_module": "@jupyter-widgets/base",
          "model_name": "LayoutModel",
          "model_module_version": "1.2.0",
          "state": {
            "_model_module": "@jupyter-widgets/base",
            "_model_module_version": "1.2.0",
            "_model_name": "LayoutModel",
            "_view_count": null,
            "_view_module": "@jupyter-widgets/base",
            "_view_module_version": "1.2.0",
            "_view_name": "LayoutView",
            "align_content": null,
            "align_items": null,
            "align_self": null,
            "border": null,
            "bottom": null,
            "display": null,
            "flex": null,
            "flex_flow": null,
            "grid_area": null,
            "grid_auto_columns": null,
            "grid_auto_flow": null,
            "grid_auto_rows": null,
            "grid_column": null,
            "grid_gap": null,
            "grid_row": null,
            "grid_template_areas": null,
            "grid_template_columns": null,
            "grid_template_rows": null,
            "height": "400px",
            "justify_content": null,
            "justify_items": null,
            "left": null,
            "margin": null,
            "max_height": null,
            "max_width": null,
            "min_height": null,
            "min_width": null,
            "object_fit": null,
            "object_position": null,
            "order": null,
            "overflow": null,
            "overflow_x": null,
            "overflow_y": null,
            "padding": null,
            "right": null,
            "top": null,
            "visibility": null,
            "width": "800px"
          }
        },
        "37d68b2c3de24b05bf5c7e84bff23449": {
          "model_module": "jupyter-leaflet",
          "model_name": "LeafletMapStyleModel",
          "model_module_version": "^0.18",
          "state": {
            "_model_module": "jupyter-leaflet",
            "_model_module_version": "^0.18",
            "_model_name": "LeafletMapStyleModel",
            "_view_count": null,
            "_view_module": "@jupyter-widgets/base",
            "_view_module_version": "1.2.0",
            "_view_name": "StyleView",
            "cursor": "grab"
          }
        },
        "6fe1eb2ce1854e969185a2c53c24d575": {
          "model_module": "@jupyter-widgets/controls",
          "model_name": "HBoxModel",
          "model_module_version": "1.5.0",
          "state": {
            "_dom_classes": [
              "geemap-colab"
            ],
            "_model_module": "@jupyter-widgets/controls",
            "_model_module_version": "1.5.0",
            "_model_name": "HBoxModel",
            "_view_count": null,
            "_view_module": "@jupyter-widgets/controls",
            "_view_module_version": "1.5.0",
            "_view_name": "HBoxView",
            "box_style": "",
            "children": [
              "IPY_MODEL_ae31c3e3d6844c2f9a0ecf7ee1e25b26"
            ],
            "layout": "IPY_MODEL_322246386e17493b86b6f5c4b09f280a"
          }
        },
        "9132fec8aa22400b88fbf59725164e75": {
          "model_module": "@jupyter-widgets/controls",
          "model_name": "VBoxModel",
          "model_module_version": "1.5.0",
          "state": {
            "_dom_classes": [
              "geemap-colab"
            ],
            "_model_module": "@jupyter-widgets/controls",
            "_model_module_version": "1.5.0",
            "_model_name": "VBoxModel",
            "_view_count": null,
            "_view_module": "@jupyter-widgets/controls",
            "_view_module_version": "1.5.0",
            "_view_name": "VBoxView",
            "box_style": "",
            "children": [
              "IPY_MODEL_cdf13c53f8ee48c08243d57ad1abeed5"
            ],
            "layout": "IPY_MODEL_f8e64039671a4c43bbf6ec26cfdae8f2"
          }
        },
        "b647d4a302fc431ebc2a1920e5cb0d36": {
          "model_module": "@jupyter-widgets/output",
          "model_name": "OutputModel",
          "model_module_version": "1.0.0",
          "state": {
            "_dom_classes": [
              "geemap-colab"
            ],
            "_model_module": "@jupyter-widgets/output",
            "_model_module_version": "1.0.0",
            "_model_name": "OutputModel",
            "_view_count": null,
            "_view_module": "@jupyter-widgets/output",
            "_view_module_version": "1.0.0",
            "_view_name": "OutputView",
            "layout": "IPY_MODEL_a81023b087a14fd3a87ddb84864009e9",
            "msg_id": "",
            "outputs": [
              {
                "output_type": "display_data",
                "data": {
                  "text/plain": "<Figure size 30x300 with 1 Axes>",
                  "image/png": "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\n"
                },
                "metadata": {}
              }
            ]
          }
        },
        "ae31c3e3d6844c2f9a0ecf7ee1e25b26": {
          "model_module": "@jupyter-widgets/controls",
          "model_name": "ToggleButtonModel",
          "model_module_version": "1.5.0",
          "state": {
            "_dom_classes": [],
            "_model_module": "@jupyter-widgets/controls",
            "_model_module_version": "1.5.0",
            "_model_name": "ToggleButtonModel",
            "_view_count": null,
            "_view_module": "@jupyter-widgets/controls",
            "_view_module_version": "1.5.0",
            "_view_name": "ToggleButtonView",
            "button_style": "",
            "description": "",
            "description_tooltip": null,
            "disabled": false,
            "icon": "globe",
            "layout": "IPY_MODEL_4d71642c950e439b8bccbdb824bb1054",
            "style": "IPY_MODEL_70ca3f8e65fb4582933c267bddd4d314",
            "tooltip": "Search location/data",
            "value": false
          }
        },
        "322246386e17493b86b6f5c4b09f280a": {
          "model_module": "@jupyter-widgets/base",
          "model_name": "LayoutModel",
          "model_module_version": "1.2.0",
          "state": {
            "_model_module": "@jupyter-widgets/base",
            "_model_module_version": "1.2.0",
            "_model_name": "LayoutModel",
            "_view_count": null,
            "_view_module": "@jupyter-widgets/base",
            "_view_module_version": "1.2.0",
            "_view_name": "LayoutView",
            "align_content": null,
            "align_items": null,
            "align_self": null,
            "border": null,
            "bottom": null,
            "display": null,
            "flex": null,
            "flex_flow": null,
            "grid_area": null,
            "grid_auto_columns": null,
            "grid_auto_flow": null,
            "grid_auto_rows": null,
            "grid_column": null,
            "grid_gap": null,
            "grid_row": null,
            "grid_template_areas": null,
            "grid_template_columns": null,
            "grid_template_rows": null,
            "height": null,
            "justify_content": null,
            "justify_items": null,
            "left": null,
            "margin": null,
            "max_height": null,
            "max_width": null,
            "min_height": null,
            "min_width": null,
            "object_fit": null,
            "object_position": null,
            "order": null,
            "overflow": null,
            "overflow_x": null,
            "overflow_y": null,
            "padding": null,
            "right": null,
            "top": null,
            "visibility": null,
            "width": null
          }
        },
        "cdf13c53f8ee48c08243d57ad1abeed5": {
          "model_module": "@jupyter-widgets/controls",
          "model_name": "ToggleButtonModel",
          "model_module_version": "1.5.0",
          "state": {
            "_dom_classes": [],
            "_model_module": "@jupyter-widgets/controls",
            "_model_module_version": "1.5.0",
            "_model_name": "ToggleButtonModel",
            "_view_count": null,
            "_view_module": "@jupyter-widgets/controls",
            "_view_module_version": "1.5.0",
            "_view_name": "ToggleButtonView",
            "button_style": "",
            "description": "",
            "description_tooltip": null,
            "disabled": false,
            "icon": "wrench",
            "layout": "IPY_MODEL_56d82f9cd22b448b9012954349d0e829",
            "style": "IPY_MODEL_5e0737da6d9049d0a033c1ecd2ad3fa1",
            "tooltip": "Toolbar",
            "value": false
          }
        },
        "f8e64039671a4c43bbf6ec26cfdae8f2": {
          "model_module": "@jupyter-widgets/base",
          "model_name": "LayoutModel",
          "model_module_version": "1.2.0",
          "state": {
            "_model_module": "@jupyter-widgets/base",
            "_model_module_version": "1.2.0",
            "_model_name": "LayoutModel",
            "_view_count": null,
            "_view_module": "@jupyter-widgets/base",
            "_view_module_version": "1.2.0",
            "_view_name": "LayoutView",
            "align_content": null,
            "align_items": null,
            "align_self": null,
            "border": null,
            "bottom": null,
            "display": null,
            "flex": null,
            "flex_flow": null,
            "grid_area": null,
            "grid_auto_columns": null,
            "grid_auto_flow": null,
            "grid_auto_rows": null,
            "grid_column": null,
            "grid_gap": null,
            "grid_row": null,
            "grid_template_areas": null,
            "grid_template_columns": null,
            "grid_template_rows": null,
            "height": null,
            "justify_content": null,
            "justify_items": null,
            "left": null,
            "margin": null,
            "max_height": null,
            "max_width": null,
            "min_height": null,
            "min_width": null,
            "object_fit": null,
            "object_position": null,
            "order": null,
            "overflow": null,
            "overflow_x": null,
            "overflow_y": null,
            "padding": null,
            "right": null,
            "top": null,
            "visibility": null,
            "width": null
          }
        },
        "a81023b087a14fd3a87ddb84864009e9": {
          "model_module": "@jupyter-widgets/base",
          "model_name": "LayoutModel",
          "model_module_version": "1.2.0",
          "state": {
            "_model_module": "@jupyter-widgets/base",
            "_model_module_version": "1.2.0",
            "_model_name": "LayoutModel",
            "_view_count": null,
            "_view_module": "@jupyter-widgets/base",
            "_view_module_version": "1.2.0",
            "_view_name": "LayoutView",
            "align_content": null,
            "align_items": null,
            "align_self": null,
            "border": null,
            "bottom": null,
            "display": null,
            "flex": null,
            "flex_flow": null,
            "grid_area": null,
            "grid_auto_columns": null,
            "grid_auto_flow": null,
            "grid_auto_rows": null,
            "grid_column": null,
            "grid_gap": null,
            "grid_row": null,
            "grid_template_areas": null,
            "grid_template_columns": null,
            "grid_template_rows": null,
            "height": null,
            "justify_content": null,
            "justify_items": null,
            "left": null,
            "margin": null,
            "max_height": null,
            "max_width": null,
            "min_height": null,
            "min_width": null,
            "object_fit": null,
            "object_position": null,
            "order": null,
            "overflow": null,
            "overflow_x": null,
            "overflow_y": null,
            "padding": null,
            "right": null,
            "top": null,
            "visibility": null,
            "width": "100px"
          }
        },
        "4d71642c950e439b8bccbdb824bb1054": {
          "model_module": "@jupyter-widgets/base",
          "model_name": "LayoutModel",
          "model_module_version": "1.2.0",
          "state": {
            "_model_module": "@jupyter-widgets/base",
            "_model_module_version": "1.2.0",
            "_model_name": "LayoutModel",
            "_view_count": null,
            "_view_module": "@jupyter-widgets/base",
            "_view_module_version": "1.2.0",
            "_view_name": "LayoutView",
            "align_content": null,
            "align_items": null,
            "align_self": null,
            "border": null,
            "bottom": null,
            "display": null,
            "flex": null,
            "flex_flow": null,
            "grid_area": null,
            "grid_auto_columns": null,
            "grid_auto_flow": null,
            "grid_auto_rows": null,
            "grid_column": null,
            "grid_gap": null,
            "grid_row": null,
            "grid_template_areas": null,
            "grid_template_columns": null,
            "grid_template_rows": null,
            "height": "28px",
            "justify_content": null,
            "justify_items": null,
            "left": null,
            "margin": null,
            "max_height": null,
            "max_width": null,
            "min_height": null,
            "min_width": null,
            "object_fit": null,
            "object_position": null,
            "order": null,
            "overflow": null,
            "overflow_x": null,
            "overflow_y": null,
            "padding": "0px 0px 0px 4px",
            "right": null,
            "top": null,
            "visibility": null,
            "width": "28px"
          }
        },
        "70ca3f8e65fb4582933c267bddd4d314": {
          "model_module": "@jupyter-widgets/controls",
          "model_name": "DescriptionStyleModel",
          "model_module_version": "1.5.0",
          "state": {
            "_model_module": "@jupyter-widgets/controls",
            "_model_module_version": "1.5.0",
            "_model_name": "DescriptionStyleModel",
            "_view_count": null,
            "_view_module": "@jupyter-widgets/base",
            "_view_module_version": "1.2.0",
            "_view_name": "StyleView",
            "description_width": ""
          }
        },
        "56d82f9cd22b448b9012954349d0e829": {
          "model_module": "@jupyter-widgets/base",
          "model_name": "LayoutModel",
          "model_module_version": "1.2.0",
          "state": {
            "_model_module": "@jupyter-widgets/base",
            "_model_module_version": "1.2.0",
            "_model_name": "LayoutModel",
            "_view_count": null,
            "_view_module": "@jupyter-widgets/base",
            "_view_module_version": "1.2.0",
            "_view_name": "LayoutView",
            "align_content": null,
            "align_items": null,
            "align_self": null,
            "border": null,
            "bottom": null,
            "display": null,
            "flex": null,
            "flex_flow": null,
            "grid_area": null,
            "grid_auto_columns": null,
            "grid_auto_flow": null,
            "grid_auto_rows": null,
            "grid_column": null,
            "grid_gap": null,
            "grid_row": null,
            "grid_template_areas": null,
            "grid_template_columns": null,
            "grid_template_rows": null,
            "height": "28px",
            "justify_content": null,
            "justify_items": null,
            "left": null,
            "margin": null,
            "max_height": null,
            "max_width": null,
            "min_height": null,
            "min_width": null,
            "object_fit": null,
            "object_position": null,
            "order": null,
            "overflow": null,
            "overflow_x": null,
            "overflow_y": null,
            "padding": "0px 0px 0px 4px",
            "right": null,
            "top": null,
            "visibility": null,
            "width": "28px"
          }
        },
        "5e0737da6d9049d0a033c1ecd2ad3fa1": {
          "model_module": "@jupyter-widgets/controls",
          "model_name": "DescriptionStyleModel",
          "model_module_version": "1.5.0",
          "state": {
            "_model_module": "@jupyter-widgets/controls",
            "_model_module_version": "1.5.0",
            "_model_name": "DescriptionStyleModel",
            "_view_count": null,
            "_view_module": "@jupyter-widgets/base",
            "_view_module_version": "1.2.0",
            "_view_name": "StyleView",
            "description_width": ""
          }
        },
        "28e941488a7742b0afbac6eac0151bef": {
          "model_module": "jupyter-leaflet",
          "model_name": "LeafletMapModel",
          "model_module_version": "^0.18",
          "state": {
            "_dom_classes": [],
            "_model_module": "jupyter-leaflet",
            "_model_module_version": "^0.18",
            "_model_name": "LeafletMapModel",
            "_view_count": null,
            "_view_module": "jupyter-leaflet",
            "_view_module_version": "^0.18",
            "_view_name": "LeafletMapView",
            "bottom": 6656,
            "bounce_at_zoom_limits": true,
            "box_zoom": true,
            "center": [
              35.60541125576072,
              127.04873061439156
            ],
            "close_popup_on_click": true,
            "controls": [
              "IPY_MODEL_2a4f3d278f164909ae7ffd831f09d47a",
              "IPY_MODEL_0613b471f6714f0e95d97ff96da2334a",
              "IPY_MODEL_c483d89eedb34957a8f0639a63074cd8",
              "IPY_MODEL_eb1a7be858e44507ab2fcb4bda710184",
              "IPY_MODEL_8cf7c8ad03034282a098280aa87a1b12",
              "IPY_MODEL_a039db5812f442d784a6abd2988c54ed",
              "IPY_MODEL_1eaefe0e241c475a956fcfcea927a1d7",
              "IPY_MODEL_adb9ca2b0b504e4683970ad646f062a7",
              "IPY_MODEL_475e52d5f8d441ab8b7c0e3410de9794"
            ],
            "crs": {
              "name": "EPSG3857",
              "custom": false
            },
            "default_style": "IPY_MODEL_b06721963d3b4885862148d228c2bf65",
            "double_click_zoom": true,
            "dragging": true,
            "dragging_style": "IPY_MODEL_b2113cee19c04812ba989e3cee350a17",
            "east": 135.83496093750003,
            "fullscreen": false,
            "inertia": true,
            "inertia_deceleration": 3000,
            "inertia_max_speed": 1500,
            "interpolation": "bilinear",
            "keyboard": true,
            "keyboard_pan_offset": 80,
            "keyboard_zoom_offset": 1,
            "layers": [
              "IPY_MODEL_64363f4239f042ada226d56e0bbd0d46",
              "IPY_MODEL_5b90b1ba0dd4412baa82b3f479962d31"
            ],
            "layout": "IPY_MODEL_5a5980e166f1483c83e2b04ddc9e47d2",
            "left": 13574,
            "max_zoom": 24,
            "min_zoom": null,
            "modisdate": "2024-05-25",
            "north": 39.095962936305476,
            "options": [
              "bounce_at_zoom_limits",
              "box_zoom",
              "center",
              "close_popup_on_click",
              "double_click_zoom",
              "dragging",
              "fullscreen",
              "inertia",
              "inertia_deceleration",
              "inertia_max_speed",
              "interpolation",
              "keyboard",
              "keyboard_pan_offset",
              "keyboard_zoom_offset",
              "max_zoom",
              "min_zoom",
              "prefer_canvas",
              "scroll_wheel_zoom",
              "tap",
              "tap_tolerance",
              "touch_zoom",
              "world_copy_jump",
              "zoom",
              "zoom_animation_threshold",
              "zoom_delta",
              "zoom_snap"
            ],
            "panes": {},
            "prefer_canvas": false,
            "right": 14374,
            "scroll_wheel_zoom": true,
            "south": 31.952162238024975,
            "style": "IPY_MODEL_87e223c44f3847e2b4e42472440d7b6b",
            "tap": true,
            "tap_tolerance": 15,
            "top": 6256,
            "touch_zoom": true,
            "west": 118.25683593750001,
            "window_url": "https://ioysqj54nq-496ff2e9c6d22116-0-colab.googleusercontent.com/outputframe.html?vrz=colab_20240523-060110_RC00_636443439",
            "world_copy_jump": false,
            "zoom": 6,
            "zoom_animation_threshold": 4,
            "zoom_delta": 1,
            "zoom_snap": 1
          }
        },
        "2a4f3d278f164909ae7ffd831f09d47a": {
          "model_module": "jupyter-leaflet",
          "model_name": "LeafletWidgetControlModel",
          "model_module_version": "^0.18",
          "state": {
            "_model_module": "jupyter-leaflet",
            "_model_module_version": "^0.18",
            "_model_name": "LeafletWidgetControlModel",
            "_view_count": null,
            "_view_module": "jupyter-leaflet",
            "_view_module_version": "^0.18",
            "_view_name": "LeafletWidgetControlView",
            "max_height": null,
            "max_width": null,
            "min_height": null,
            "min_width": null,
            "options": [
              "position",
              "transparent_bg"
            ],
            "position": "topleft",
            "transparent_bg": false,
            "widget": "IPY_MODEL_e452a5d6af26405d9bdabc185cf52904"
          }
        },
        "0613b471f6714f0e95d97ff96da2334a": {
          "model_module": "jupyter-leaflet",
          "model_name": "LeafletZoomControlModel",
          "model_module_version": "^0.18",
          "state": {
            "_model_module": "jupyter-leaflet",
            "_model_module_version": "^0.18",
            "_model_name": "LeafletZoomControlModel",
            "_view_count": null,
            "_view_module": "jupyter-leaflet",
            "_view_module_version": "^0.18",
            "_view_name": "LeafletZoomControlView",
            "options": [
              "position",
              "zoom_in_text",
              "zoom_in_title",
              "zoom_out_text",
              "zoom_out_title"
            ],
            "position": "topleft",
            "zoom_in_text": "+",
            "zoom_in_title": "Zoom in",
            "zoom_out_text": "-",
            "zoom_out_title": "Zoom out"
          }
        },
        "c483d89eedb34957a8f0639a63074cd8": {
          "model_module": "jupyter-leaflet",
          "model_name": "LeafletFullScreenControlModel",
          "model_module_version": "^0.18",
          "state": {
            "_model_module": "jupyter-leaflet",
            "_model_module_version": "^0.18",
            "_model_name": "LeafletFullScreenControlModel",
            "_view_count": null,
            "_view_module": "jupyter-leaflet",
            "_view_module_version": "^0.18",
            "_view_name": "LeafletFullScreenControlView",
            "options": [
              "position"
            ],
            "position": "topleft"
          }
        },
        "eb1a7be858e44507ab2fcb4bda710184": {
          "model_module": "jupyter-leaflet",
          "model_name": "LeafletDrawControlModel",
          "model_module_version": "^0.18",
          "state": {
            "_model_module": "jupyter-leaflet",
            "_model_module_version": "^0.18",
            "_model_name": "LeafletDrawControlModel",
            "_view_count": null,
            "_view_module": "jupyter-leaflet",
            "_view_module_version": "^0.18",
            "_view_name": "LeafletDrawControlView",
            "circle": {},
            "circlemarker": {},
            "data": [],
            "edit": true,
            "marker": {
              "shapeOptions": {
                "color": "#3388ff"
              }
            },
            "options": [
              "position"
            ],
            "polygon": {
              "shapeOptions": {}
            },
            "polyline": {
              "shapeOptions": {}
            },
            "position": "topleft",
            "rectangle": {
              "shapeOptions": {
                "color": "#3388ff"
              }
            },
            "remove": true
          }
        },
        "8cf7c8ad03034282a098280aa87a1b12": {
          "model_module": "jupyter-leaflet",
          "model_name": "LeafletScaleControlModel",
          "model_module_version": "^0.18",
          "state": {
            "_model_module": "jupyter-leaflet",
            "_model_module_version": "^0.18",
            "_model_name": "LeafletScaleControlModel",
            "_view_count": null,
            "_view_module": "jupyter-leaflet",
            "_view_module_version": "^0.18",
            "_view_name": "LeafletScaleControlView",
            "imperial": true,
            "max_width": 100,
            "metric": true,
            "options": [
              "imperial",
              "max_width",
              "metric",
              "position",
              "update_when_idle"
            ],
            "position": "bottomleft",
            "update_when_idle": false
          }
        },
        "a039db5812f442d784a6abd2988c54ed": {
          "model_module": "jupyter-leaflet",
          "model_name": "LeafletMeasureControlModel",
          "model_module_version": "^0.18",
          "state": {
            "_custom_units": {},
            "_model_module": "jupyter-leaflet",
            "_model_module_version": "^0.18",
            "_model_name": "LeafletMeasureControlModel",
            "_view_count": null,
            "_view_module": "jupyter-leaflet",
            "_view_module_version": "^0.18",
            "_view_name": "LeafletMeasureControlView",
            "active_color": "orange",
            "capture_z_index": 10000,
            "completed_color": "#C8F2BE",
            "options": [
              "active_color",
              "capture_z_index",
              "completed_color",
              "popup_options",
              "position",
              "primary_area_unit",
              "primary_length_unit",
              "secondary_area_unit",
              "secondary_length_unit"
            ],
            "popup_options": {
              "className": "leaflet-measure-resultpopup",
              "autoPanPadding": [
                10,
                10
              ]
            },
            "position": "bottomleft",
            "primary_area_unit": "acres",
            "primary_length_unit": "kilometers",
            "secondary_area_unit": null,
            "secondary_length_unit": null
          }
        },
        "1eaefe0e241c475a956fcfcea927a1d7": {
          "model_module": "jupyter-leaflet",
          "model_name": "LeafletWidgetControlModel",
          "model_module_version": "^0.18",
          "state": {
            "_model_module": "jupyter-leaflet",
            "_model_module_version": "^0.18",
            "_model_name": "LeafletWidgetControlModel",
            "_view_count": null,
            "_view_module": "jupyter-leaflet",
            "_view_module_version": "^0.18",
            "_view_name": "LeafletWidgetControlView",
            "max_height": null,
            "max_width": null,
            "min_height": null,
            "min_width": null,
            "options": [
              "position",
              "transparent_bg"
            ],
            "position": "topright",
            "transparent_bg": false,
            "widget": "IPY_MODEL_4301a90878604cefa86ca5030cd96ab6"
          }
        },
        "adb9ca2b0b504e4683970ad646f062a7": {
          "model_module": "jupyter-leaflet",
          "model_name": "LeafletAttributionControlModel",
          "model_module_version": "^0.18",
          "state": {
            "_model_module": "jupyter-leaflet",
            "_model_module_version": "^0.18",
            "_model_name": "LeafletAttributionControlModel",
            "_view_count": null,
            "_view_module": "jupyter-leaflet",
            "_view_module_version": "^0.18",
            "_view_name": "LeafletAttributionControlView",
            "options": [
              "position",
              "prefix"
            ],
            "position": "bottomright",
            "prefix": "ipyleaflet"
          }
        },
        "475e52d5f8d441ab8b7c0e3410de9794": {
          "model_module": "jupyter-leaflet",
          "model_name": "LeafletWidgetControlModel",
          "model_module_version": "^0.18",
          "state": {
            "_model_module": "jupyter-leaflet",
            "_model_module_version": "^0.18",
            "_model_name": "LeafletWidgetControlModel",
            "_view_count": null,
            "_view_module": "jupyter-leaflet",
            "_view_module_version": "^0.18",
            "_view_name": "LeafletWidgetControlView",
            "max_height": null,
            "max_width": null,
            "min_height": null,
            "min_width": null,
            "options": [
              "position",
              "transparent_bg"
            ],
            "position": "bottomright",
            "transparent_bg": false,
            "widget": "IPY_MODEL_2d669b66d3854676964c7a60cabec243"
          }
        },
        "b06721963d3b4885862148d228c2bf65": {
          "model_module": "jupyter-leaflet",
          "model_name": "LeafletMapStyleModel",
          "model_module_version": "^0.18",
          "state": {
            "_model_module": "jupyter-leaflet",
            "_model_module_version": "^0.18",
            "_model_name": "LeafletMapStyleModel",
            "_view_count": null,
            "_view_module": "@jupyter-widgets/base",
            "_view_module_version": "1.2.0",
            "_view_name": "StyleView",
            "cursor": "grab"
          }
        },
        "b2113cee19c04812ba989e3cee350a17": {
          "model_module": "jupyter-leaflet",
          "model_name": "LeafletMapStyleModel",
          "model_module_version": "^0.18",
          "state": {
            "_model_module": "jupyter-leaflet",
            "_model_module_version": "^0.18",
            "_model_name": "LeafletMapStyleModel",
            "_view_count": null,
            "_view_module": "@jupyter-widgets/base",
            "_view_module_version": "1.2.0",
            "_view_name": "StyleView",
            "cursor": "move"
          }
        },
        "64363f4239f042ada226d56e0bbd0d46": {
          "model_module": "jupyter-leaflet",
          "model_name": "LeafletTileLayerModel",
          "model_module_version": "^0.18",
          "state": {
            "_model_module": "jupyter-leaflet",
            "_model_module_version": "^0.18",
            "_model_name": "LeafletTileLayerModel",
            "_view_count": null,
            "_view_module": "jupyter-leaflet",
            "_view_module_version": "^0.18",
            "_view_name": "LeafletTileLayerView",
            "attribution": "&copy; <a href=\"https://www.openstreetmap.org/copyright\">OpenStreetMap</a> contributors",
            "base": true,
            "bottom": true,
            "bounds": null,
            "detect_retina": false,
            "loading": false,
            "max_native_zoom": null,
            "max_zoom": 19,
            "min_native_zoom": null,
            "min_zoom": 1,
            "name": "OpenStreetMap.Mapnik",
            "no_wrap": false,
            "opacity": 1,
            "options": [
              "attribution",
              "bounds",
              "detect_retina",
              "max_native_zoom",
              "max_zoom",
              "min_native_zoom",
              "min_zoom",
              "no_wrap",
              "tile_size",
              "tms",
              "zoom_offset"
            ],
            "pane": "",
            "popup": null,
            "popup_max_height": null,
            "popup_max_width": 300,
            "popup_min_width": 50,
            "show_loading": false,
            "subitems": [],
            "tile_size": 256,
            "tms": false,
            "url": "https://tile.openstreetmap.org/{z}/{x}/{y}.png",
            "visible": true,
            "zoom_offset": 0
          }
        },
        "5b90b1ba0dd4412baa82b3f479962d31": {
          "model_module": "jupyter-leaflet",
          "model_name": "LeafletTileLayerModel",
          "model_module_version": "^0.18",
          "state": {
            "_model_module": "jupyter-leaflet",
            "_model_module_version": "^0.18",
            "_model_name": "LeafletTileLayerModel",
            "_view_count": null,
            "_view_module": "jupyter-leaflet",
            "_view_module_version": "^0.18",
            "_view_name": "LeafletTileLayerView",
            "attribution": "Google Earth Engine",
            "base": false,
            "bottom": true,
            "bounds": null,
            "detect_retina": false,
            "loading": false,
            "max_native_zoom": null,
            "max_zoom": 24,
            "min_native_zoom": null,
            "min_zoom": 0,
            "name": "bio14",
            "no_wrap": false,
            "opacity": 1,
            "options": [
              "attribution",
              "bounds",
              "detect_retina",
              "max_native_zoom",
              "max_zoom",
              "min_native_zoom",
              "min_zoom",
              "no_wrap",
              "tile_size",
              "tms",
              "zoom_offset"
            ],
            "pane": "",
            "popup": null,
            "popup_max_height": null,
            "popup_max_width": 300,
            "popup_min_width": 50,
            "show_loading": false,
            "subitems": [],
            "tile_size": 256,
            "tms": false,
            "url": "https://earthengine.googleapis.com/v1/projects/ee-foss4g/maps/d4aaa44996eacd49bdd039269194bec8-4c593069376bcc8bdc46a7f3c3ed84f3/tiles/{z}/{x}/{y}",
            "visible": true,
            "zoom_offset": 0
          }
        },
        "5a5980e166f1483c83e2b04ddc9e47d2": {
          "model_module": "@jupyter-widgets/base",
          "model_name": "LayoutModel",
          "model_module_version": "1.2.0",
          "state": {
            "_model_module": "@jupyter-widgets/base",
            "_model_module_version": "1.2.0",
            "_model_name": "LayoutModel",
            "_view_count": null,
            "_view_module": "@jupyter-widgets/base",
            "_view_module_version": "1.2.0",
            "_view_name": "LayoutView",
            "align_content": null,
            "align_items": null,
            "align_self": null,
            "border": null,
            "bottom": null,
            "display": null,
            "flex": null,
            "flex_flow": null,
            "grid_area": null,
            "grid_auto_columns": null,
            "grid_auto_flow": null,
            "grid_auto_rows": null,
            "grid_column": null,
            "grid_gap": null,
            "grid_row": null,
            "grid_template_areas": null,
            "grid_template_columns": null,
            "grid_template_rows": null,
            "height": "400px",
            "justify_content": null,
            "justify_items": null,
            "left": null,
            "margin": null,
            "max_height": null,
            "max_width": null,
            "min_height": null,
            "min_width": null,
            "object_fit": null,
            "object_position": null,
            "order": null,
            "overflow": null,
            "overflow_x": null,
            "overflow_y": null,
            "padding": null,
            "right": null,
            "top": null,
            "visibility": null,
            "width": "800px"
          }
        },
        "87e223c44f3847e2b4e42472440d7b6b": {
          "model_module": "jupyter-leaflet",
          "model_name": "LeafletMapStyleModel",
          "model_module_version": "^0.18",
          "state": {
            "_model_module": "jupyter-leaflet",
            "_model_module_version": "^0.18",
            "_model_name": "LeafletMapStyleModel",
            "_view_count": null,
            "_view_module": "@jupyter-widgets/base",
            "_view_module_version": "1.2.0",
            "_view_name": "StyleView",
            "cursor": "grab"
          }
        },
        "e452a5d6af26405d9bdabc185cf52904": {
          "model_module": "@jupyter-widgets/controls",
          "model_name": "HBoxModel",
          "model_module_version": "1.5.0",
          "state": {
            "_dom_classes": [
              "geemap-colab"
            ],
            "_model_module": "@jupyter-widgets/controls",
            "_model_module_version": "1.5.0",
            "_model_name": "HBoxModel",
            "_view_count": null,
            "_view_module": "@jupyter-widgets/controls",
            "_view_module_version": "1.5.0",
            "_view_name": "HBoxView",
            "box_style": "",
            "children": [
              "IPY_MODEL_a2d92958eec24e9abfe7577f97d854d0"
            ],
            "layout": "IPY_MODEL_5a213012854d42b49367d42fc6dc13c1"
          }
        },
        "4301a90878604cefa86ca5030cd96ab6": {
          "model_module": "@jupyter-widgets/controls",
          "model_name": "VBoxModel",
          "model_module_version": "1.5.0",
          "state": {
            "_dom_classes": [
              "geemap-colab"
            ],
            "_model_module": "@jupyter-widgets/controls",
            "_model_module_version": "1.5.0",
            "_model_name": "VBoxModel",
            "_view_count": null,
            "_view_module": "@jupyter-widgets/controls",
            "_view_module_version": "1.5.0",
            "_view_name": "VBoxView",
            "box_style": "",
            "children": [
              "IPY_MODEL_b917c0721b3e4372a6559aad100f05f8"
            ],
            "layout": "IPY_MODEL_fac58f2bf8984d1094ac127eb63f07c0"
          }
        },
        "2d669b66d3854676964c7a60cabec243": {
          "model_module": "@jupyter-widgets/output",
          "model_name": "OutputModel",
          "model_module_version": "1.0.0",
          "state": {
            "_dom_classes": [
              "geemap-colab"
            ],
            "_model_module": "@jupyter-widgets/output",
            "_model_module_version": "1.0.0",
            "_model_name": "OutputModel",
            "_view_count": null,
            "_view_module": "@jupyter-widgets/output",
            "_view_module_version": "1.0.0",
            "_view_name": "OutputView",
            "layout": "IPY_MODEL_c2bc8d0327dd44a195322d968f55d383",
            "msg_id": "",
            "outputs": [
              {
                "output_type": "display_data",
                "data": {
                  "text/plain": "<Figure size 30x300 with 1 Axes>",
                  "image/png": "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\n"
                },
                "metadata": {}
              }
            ]
          }
        },
        "a2d92958eec24e9abfe7577f97d854d0": {
          "model_module": "@jupyter-widgets/controls",
          "model_name": "ToggleButtonModel",
          "model_module_version": "1.5.0",
          "state": {
            "_dom_classes": [],
            "_model_module": "@jupyter-widgets/controls",
            "_model_module_version": "1.5.0",
            "_model_name": "ToggleButtonModel",
            "_view_count": null,
            "_view_module": "@jupyter-widgets/controls",
            "_view_module_version": "1.5.0",
            "_view_name": "ToggleButtonView",
            "button_style": "",
            "description": "",
            "description_tooltip": null,
            "disabled": false,
            "icon": "globe",
            "layout": "IPY_MODEL_67684b0b1041453d872223359924f3f8",
            "style": "IPY_MODEL_7ddb34c183914586b1f97b1239d24805",
            "tooltip": "Search location/data",
            "value": false
          }
        },
        "5a213012854d42b49367d42fc6dc13c1": {
          "model_module": "@jupyter-widgets/base",
          "model_name": "LayoutModel",
          "model_module_version": "1.2.0",
          "state": {
            "_model_module": "@jupyter-widgets/base",
            "_model_module_version": "1.2.0",
            "_model_name": "LayoutModel",
            "_view_count": null,
            "_view_module": "@jupyter-widgets/base",
            "_view_module_version": "1.2.0",
            "_view_name": "LayoutView",
            "align_content": null,
            "align_items": null,
            "align_self": null,
            "border": null,
            "bottom": null,
            "display": null,
            "flex": null,
            "flex_flow": null,
            "grid_area": null,
            "grid_auto_columns": null,
            "grid_auto_flow": null,
            "grid_auto_rows": null,
            "grid_column": null,
            "grid_gap": null,
            "grid_row": null,
            "grid_template_areas": null,
            "grid_template_columns": null,
            "grid_template_rows": null,
            "height": null,
            "justify_content": null,
            "justify_items": null,
            "left": null,
            "margin": null,
            "max_height": null,
            "max_width": null,
            "min_height": null,
            "min_width": null,
            "object_fit": null,
            "object_position": null,
            "order": null,
            "overflow": null,
            "overflow_x": null,
            "overflow_y": null,
            "padding": null,
            "right": null,
            "top": null,
            "visibility": null,
            "width": null
          }
        },
        "b917c0721b3e4372a6559aad100f05f8": {
          "model_module": "@jupyter-widgets/controls",
          "model_name": "ToggleButtonModel",
          "model_module_version": "1.5.0",
          "state": {
            "_dom_classes": [],
            "_model_module": "@jupyter-widgets/controls",
            "_model_module_version": "1.5.0",
            "_model_name": "ToggleButtonModel",
            "_view_count": null,
            "_view_module": "@jupyter-widgets/controls",
            "_view_module_version": "1.5.0",
            "_view_name": "ToggleButtonView",
            "button_style": "",
            "description": "",
            "description_tooltip": null,
            "disabled": false,
            "icon": "wrench",
            "layout": "IPY_MODEL_d3a9e49c42c0433e8859cc26e9f89f60",
            "style": "IPY_MODEL_e6df38e50cf14186b564f42d8bfa300e",
            "tooltip": "Toolbar",
            "value": false
          }
        },
        "fac58f2bf8984d1094ac127eb63f07c0": {
          "model_module": "@jupyter-widgets/base",
          "model_name": "LayoutModel",
          "model_module_version": "1.2.0",
          "state": {
            "_model_module": "@jupyter-widgets/base",
            "_model_module_version": "1.2.0",
            "_model_name": "LayoutModel",
            "_view_count": null,
            "_view_module": "@jupyter-widgets/base",
            "_view_module_version": "1.2.0",
            "_view_name": "LayoutView",
            "align_content": null,
            "align_items": null,
            "align_self": null,
            "border": null,
            "bottom": null,
            "display": null,
            "flex": null,
            "flex_flow": null,
            "grid_area": null,
            "grid_auto_columns": null,
            "grid_auto_flow": null,
            "grid_auto_rows": null,
            "grid_column": null,
            "grid_gap": null,
            "grid_row": null,
            "grid_template_areas": null,
            "grid_template_columns": null,
            "grid_template_rows": null,
            "height": null,
            "justify_content": null,
            "justify_items": null,
            "left": null,
            "margin": null,
            "max_height": null,
            "max_width": null,
            "min_height": null,
            "min_width": null,
            "object_fit": null,
            "object_position": null,
            "order": null,
            "overflow": null,
            "overflow_x": null,
            "overflow_y": null,
            "padding": null,
            "right": null,
            "top": null,
            "visibility": null,
            "width": null
          }
        },
        "c2bc8d0327dd44a195322d968f55d383": {
          "model_module": "@jupyter-widgets/base",
          "model_name": "LayoutModel",
          "model_module_version": "1.2.0",
          "state": {
            "_model_module": "@jupyter-widgets/base",
            "_model_module_version": "1.2.0",
            "_model_name": "LayoutModel",
            "_view_count": null,
            "_view_module": "@jupyter-widgets/base",
            "_view_module_version": "1.2.0",
            "_view_name": "LayoutView",
            "align_content": null,
            "align_items": null,
            "align_self": null,
            "border": null,
            "bottom": null,
            "display": null,
            "flex": null,
            "flex_flow": null,
            "grid_area": null,
            "grid_auto_columns": null,
            "grid_auto_flow": null,
            "grid_auto_rows": null,
            "grid_column": null,
            "grid_gap": null,
            "grid_row": null,
            "grid_template_areas": null,
            "grid_template_columns": null,
            "grid_template_rows": null,
            "height": null,
            "justify_content": null,
            "justify_items": null,
            "left": null,
            "margin": null,
            "max_height": null,
            "max_width": null,
            "min_height": null,
            "min_width": null,
            "object_fit": null,
            "object_position": null,
            "order": null,
            "overflow": null,
            "overflow_x": null,
            "overflow_y": null,
            "padding": null,
            "right": null,
            "top": null,
            "visibility": null,
            "width": "100px"
          }
        },
        "67684b0b1041453d872223359924f3f8": {
          "model_module": "@jupyter-widgets/base",
          "model_name": "LayoutModel",
          "model_module_version": "1.2.0",
          "state": {
            "_model_module": "@jupyter-widgets/base",
            "_model_module_version": "1.2.0",
            "_model_name": "LayoutModel",
            "_view_count": null,
            "_view_module": "@jupyter-widgets/base",
            "_view_module_version": "1.2.0",
            "_view_name": "LayoutView",
            "align_content": null,
            "align_items": null,
            "align_self": null,
            "border": null,
            "bottom": null,
            "display": null,
            "flex": null,
            "flex_flow": null,
            "grid_area": null,
            "grid_auto_columns": null,
            "grid_auto_flow": null,
            "grid_auto_rows": null,
            "grid_column": null,
            "grid_gap": null,
            "grid_row": null,
            "grid_template_areas": null,
            "grid_template_columns": null,
            "grid_template_rows": null,
            "height": "28px",
            "justify_content": null,
            "justify_items": null,
            "left": null,
            "margin": null,
            "max_height": null,
            "max_width": null,
            "min_height": null,
            "min_width": null,
            "object_fit": null,
            "object_position": null,
            "order": null,
            "overflow": null,
            "overflow_x": null,
            "overflow_y": null,
            "padding": "0px 0px 0px 4px",
            "right": null,
            "top": null,
            "visibility": null,
            "width": "28px"
          }
        },
        "7ddb34c183914586b1f97b1239d24805": {
          "model_module": "@jupyter-widgets/controls",
          "model_name": "DescriptionStyleModel",
          "model_module_version": "1.5.0",
          "state": {
            "_model_module": "@jupyter-widgets/controls",
            "_model_module_version": "1.5.0",
            "_model_name": "DescriptionStyleModel",
            "_view_count": null,
            "_view_module": "@jupyter-widgets/base",
            "_view_module_version": "1.2.0",
            "_view_name": "StyleView",
            "description_width": ""
          }
        },
        "d3a9e49c42c0433e8859cc26e9f89f60": {
          "model_module": "@jupyter-widgets/base",
          "model_name": "LayoutModel",
          "model_module_version": "1.2.0",
          "state": {
            "_model_module": "@jupyter-widgets/base",
            "_model_module_version": "1.2.0",
            "_model_name": "LayoutModel",
            "_view_count": null,
            "_view_module": "@jupyter-widgets/base",
            "_view_module_version": "1.2.0",
            "_view_name": "LayoutView",
            "align_content": null,
            "align_items": null,
            "align_self": null,
            "border": null,
            "bottom": null,
            "display": null,
            "flex": null,
            "flex_flow": null,
            "grid_area": null,
            "grid_auto_columns": null,
            "grid_auto_flow": null,
            "grid_auto_rows": null,
            "grid_column": null,
            "grid_gap": null,
            "grid_row": null,
            "grid_template_areas": null,
            "grid_template_columns": null,
            "grid_template_rows": null,
            "height": "28px",
            "justify_content": null,
            "justify_items": null,
            "left": null,
            "margin": null,
            "max_height": null,
            "max_width": null,
            "min_height": null,
            "min_width": null,
            "object_fit": null,
            "object_position": null,
            "order": null,
            "overflow": null,
            "overflow_x": null,
            "overflow_y": null,
            "padding": "0px 0px 0px 4px",
            "right": null,
            "top": null,
            "visibility": null,
            "width": "28px"
          }
        },
        "e6df38e50cf14186b564f42d8bfa300e": {
          "model_module": "@jupyter-widgets/controls",
          "model_name": "DescriptionStyleModel",
          "model_module_version": "1.5.0",
          "state": {
            "_model_module": "@jupyter-widgets/controls",
            "_model_module_version": "1.5.0",
            "_model_name": "DescriptionStyleModel",
            "_view_count": null,
            "_view_module": "@jupyter-widgets/base",
            "_view_module_version": "1.2.0",
            "_view_name": "StyleView",
            "description_width": ""
          }
        },
        "637d95a4a1ff4028b0c8e592630da215": {
          "model_module": "jupyter-leaflet",
          "model_name": "LeafletMapModel",
          "model_module_version": "^0.18",
          "state": {
            "_dom_classes": [],
            "_model_module": "jupyter-leaflet",
            "_model_module_version": "^0.18",
            "_model_name": "LeafletMapModel",
            "_view_count": null,
            "_view_module": "jupyter-leaflet",
            "_view_module_version": "^0.18",
            "_view_name": "LeafletMapView",
            "bottom": 6656,
            "bounce_at_zoom_limits": true,
            "box_zoom": true,
            "center": [
              35.60541125576072,
              127.04873061439156
            ],
            "close_popup_on_click": true,
            "controls": [
              "IPY_MODEL_6a88ae21197b4523878806b0921e66e8",
              "IPY_MODEL_c56f93339e22489ba527eab8d4458ee7",
              "IPY_MODEL_be5a12c02ebe47ccaf1c6063c3df5ada",
              "IPY_MODEL_b1587eb11bae495c9b070fa10bdeba57",
              "IPY_MODEL_ce4da9a3c03646489b445514cb3e83b7",
              "IPY_MODEL_ad80646593be4ee694f1ac1cd2300245",
              "IPY_MODEL_f0580e7796344b249c1d437c033e5482",
              "IPY_MODEL_dd3d2229c3fa4fa388739cd7123b9f42",
              "IPY_MODEL_1bf8909bdf824f90be13efaa6bdebc04"
            ],
            "crs": {
              "name": "EPSG3857",
              "custom": false
            },
            "default_style": "IPY_MODEL_2d05c2bba55948aea1fb43519c9a4c75",
            "double_click_zoom": true,
            "dragging": true,
            "dragging_style": "IPY_MODEL_126052e4a59d48be9857136170bb3f24",
            "east": 135.83496093750003,
            "fullscreen": false,
            "inertia": true,
            "inertia_deceleration": 3000,
            "inertia_max_speed": 1500,
            "interpolation": "bilinear",
            "keyboard": true,
            "keyboard_pan_offset": 80,
            "keyboard_zoom_offset": 1,
            "layers": [
              "IPY_MODEL_e13cbfd2fdb647a49dc2db5c714ab68b",
              "IPY_MODEL_4b10aa71ed4f4dd0a6967e006bba5646"
            ],
            "layout": "IPY_MODEL_799e23f9b13e43b59378478a26218b8b",
            "left": 13574,
            "max_zoom": 24,
            "min_zoom": null,
            "modisdate": "2024-05-25",
            "north": 39.095962936305476,
            "options": [
              "bounce_at_zoom_limits",
              "box_zoom",
              "center",
              "close_popup_on_click",
              "double_click_zoom",
              "dragging",
              "fullscreen",
              "inertia",
              "inertia_deceleration",
              "inertia_max_speed",
              "interpolation",
              "keyboard",
              "keyboard_pan_offset",
              "keyboard_zoom_offset",
              "max_zoom",
              "min_zoom",
              "prefer_canvas",
              "scroll_wheel_zoom",
              "tap",
              "tap_tolerance",
              "touch_zoom",
              "world_copy_jump",
              "zoom",
              "zoom_animation_threshold",
              "zoom_delta",
              "zoom_snap"
            ],
            "panes": {},
            "prefer_canvas": false,
            "right": 14374,
            "scroll_wheel_zoom": true,
            "south": 31.952162238024975,
            "style": "IPY_MODEL_b86b7c9b8a124dd9aca83824975d01f2",
            "tap": true,
            "tap_tolerance": 15,
            "top": 6256,
            "touch_zoom": true,
            "west": 118.25683593750001,
            "window_url": "https://ioysqj54nq-496ff2e9c6d22116-0-colab.googleusercontent.com/outputframe.html?vrz=colab_20240523-060110_RC00_636443439",
            "world_copy_jump": false,
            "zoom": 6,
            "zoom_animation_threshold": 4,
            "zoom_delta": 1,
            "zoom_snap": 1
          }
        },
        "6a88ae21197b4523878806b0921e66e8": {
          "model_module": "jupyter-leaflet",
          "model_name": "LeafletWidgetControlModel",
          "model_module_version": "^0.18",
          "state": {
            "_model_module": "jupyter-leaflet",
            "_model_module_version": "^0.18",
            "_model_name": "LeafletWidgetControlModel",
            "_view_count": null,
            "_view_module": "jupyter-leaflet",
            "_view_module_version": "^0.18",
            "_view_name": "LeafletWidgetControlView",
            "max_height": null,
            "max_width": null,
            "min_height": null,
            "min_width": null,
            "options": [
              "position",
              "transparent_bg"
            ],
            "position": "topleft",
            "transparent_bg": false,
            "widget": "IPY_MODEL_b3f9309569304cba887fb2a2e05d6c44"
          }
        },
        "c56f93339e22489ba527eab8d4458ee7": {
          "model_module": "jupyter-leaflet",
          "model_name": "LeafletZoomControlModel",
          "model_module_version": "^0.18",
          "state": {
            "_model_module": "jupyter-leaflet",
            "_model_module_version": "^0.18",
            "_model_name": "LeafletZoomControlModel",
            "_view_count": null,
            "_view_module": "jupyter-leaflet",
            "_view_module_version": "^0.18",
            "_view_name": "LeafletZoomControlView",
            "options": [
              "position",
              "zoom_in_text",
              "zoom_in_title",
              "zoom_out_text",
              "zoom_out_title"
            ],
            "position": "topleft",
            "zoom_in_text": "+",
            "zoom_in_title": "Zoom in",
            "zoom_out_text": "-",
            "zoom_out_title": "Zoom out"
          }
        },
        "be5a12c02ebe47ccaf1c6063c3df5ada": {
          "model_module": "jupyter-leaflet",
          "model_name": "LeafletFullScreenControlModel",
          "model_module_version": "^0.18",
          "state": {
            "_model_module": "jupyter-leaflet",
            "_model_module_version": "^0.18",
            "_model_name": "LeafletFullScreenControlModel",
            "_view_count": null,
            "_view_module": "jupyter-leaflet",
            "_view_module_version": "^0.18",
            "_view_name": "LeafletFullScreenControlView",
            "options": [
              "position"
            ],
            "position": "topleft"
          }
        },
        "b1587eb11bae495c9b070fa10bdeba57": {
          "model_module": "jupyter-leaflet",
          "model_name": "LeafletDrawControlModel",
          "model_module_version": "^0.18",
          "state": {
            "_model_module": "jupyter-leaflet",
            "_model_module_version": "^0.18",
            "_model_name": "LeafletDrawControlModel",
            "_view_count": null,
            "_view_module": "jupyter-leaflet",
            "_view_module_version": "^0.18",
            "_view_name": "LeafletDrawControlView",
            "circle": {},
            "circlemarker": {},
            "data": [],
            "edit": true,
            "marker": {
              "shapeOptions": {
                "color": "#3388ff"
              }
            },
            "options": [
              "position"
            ],
            "polygon": {
              "shapeOptions": {}
            },
            "polyline": {
              "shapeOptions": {}
            },
            "position": "topleft",
            "rectangle": {
              "shapeOptions": {
                "color": "#3388ff"
              }
            },
            "remove": true
          }
        },
        "ce4da9a3c03646489b445514cb3e83b7": {
          "model_module": "jupyter-leaflet",
          "model_name": "LeafletScaleControlModel",
          "model_module_version": "^0.18",
          "state": {
            "_model_module": "jupyter-leaflet",
            "_model_module_version": "^0.18",
            "_model_name": "LeafletScaleControlModel",
            "_view_count": null,
            "_view_module": "jupyter-leaflet",
            "_view_module_version": "^0.18",
            "_view_name": "LeafletScaleControlView",
            "imperial": true,
            "max_width": 100,
            "metric": true,
            "options": [
              "imperial",
              "max_width",
              "metric",
              "position",
              "update_when_idle"
            ],
            "position": "bottomleft",
            "update_when_idle": false
          }
        },
        "ad80646593be4ee694f1ac1cd2300245": {
          "model_module": "jupyter-leaflet",
          "model_name": "LeafletMeasureControlModel",
          "model_module_version": "^0.18",
          "state": {
            "_custom_units": {},
            "_model_module": "jupyter-leaflet",
            "_model_module_version": "^0.18",
            "_model_name": "LeafletMeasureControlModel",
            "_view_count": null,
            "_view_module": "jupyter-leaflet",
            "_view_module_version": "^0.18",
            "_view_name": "LeafletMeasureControlView",
            "active_color": "orange",
            "capture_z_index": 10000,
            "completed_color": "#C8F2BE",
            "options": [
              "active_color",
              "capture_z_index",
              "completed_color",
              "popup_options",
              "position",
              "primary_area_unit",
              "primary_length_unit",
              "secondary_area_unit",
              "secondary_length_unit"
            ],
            "popup_options": {
              "className": "leaflet-measure-resultpopup",
              "autoPanPadding": [
                10,
                10
              ]
            },
            "position": "bottomleft",
            "primary_area_unit": "acres",
            "primary_length_unit": "kilometers",
            "secondary_area_unit": null,
            "secondary_length_unit": null
          }
        },
        "f0580e7796344b249c1d437c033e5482": {
          "model_module": "jupyter-leaflet",
          "model_name": "LeafletWidgetControlModel",
          "model_module_version": "^0.18",
          "state": {
            "_model_module": "jupyter-leaflet",
            "_model_module_version": "^0.18",
            "_model_name": "LeafletWidgetControlModel",
            "_view_count": null,
            "_view_module": "jupyter-leaflet",
            "_view_module_version": "^0.18",
            "_view_name": "LeafletWidgetControlView",
            "max_height": null,
            "max_width": null,
            "min_height": null,
            "min_width": null,
            "options": [
              "position",
              "transparent_bg"
            ],
            "position": "topright",
            "transparent_bg": false,
            "widget": "IPY_MODEL_2de44b9985d54ef0855a563a25f5d82b"
          }
        },
        "dd3d2229c3fa4fa388739cd7123b9f42": {
          "model_module": "jupyter-leaflet",
          "model_name": "LeafletAttributionControlModel",
          "model_module_version": "^0.18",
          "state": {
            "_model_module": "jupyter-leaflet",
            "_model_module_version": "^0.18",
            "_model_name": "LeafletAttributionControlModel",
            "_view_count": null,
            "_view_module": "jupyter-leaflet",
            "_view_module_version": "^0.18",
            "_view_name": "LeafletAttributionControlView",
            "options": [
              "position",
              "prefix"
            ],
            "position": "bottomright",
            "prefix": "ipyleaflet"
          }
        },
        "1bf8909bdf824f90be13efaa6bdebc04": {
          "model_module": "jupyter-leaflet",
          "model_name": "LeafletWidgetControlModel",
          "model_module_version": "^0.18",
          "state": {
            "_model_module": "jupyter-leaflet",
            "_model_module_version": "^0.18",
            "_model_name": "LeafletWidgetControlModel",
            "_view_count": null,
            "_view_module": "jupyter-leaflet",
            "_view_module_version": "^0.18",
            "_view_name": "LeafletWidgetControlView",
            "max_height": null,
            "max_width": null,
            "min_height": null,
            "min_width": null,
            "options": [
              "position",
              "transparent_bg"
            ],
            "position": "bottomright",
            "transparent_bg": false,
            "widget": "IPY_MODEL_fccfa8ba526140e19b3587b55fe0eb2d"
          }
        },
        "2d05c2bba55948aea1fb43519c9a4c75": {
          "model_module": "jupyter-leaflet",
          "model_name": "LeafletMapStyleModel",
          "model_module_version": "^0.18",
          "state": {
            "_model_module": "jupyter-leaflet",
            "_model_module_version": "^0.18",
            "_model_name": "LeafletMapStyleModel",
            "_view_count": null,
            "_view_module": "@jupyter-widgets/base",
            "_view_module_version": "1.2.0",
            "_view_name": "StyleView",
            "cursor": "grab"
          }
        },
        "126052e4a59d48be9857136170bb3f24": {
          "model_module": "jupyter-leaflet",
          "model_name": "LeafletMapStyleModel",
          "model_module_version": "^0.18",
          "state": {
            "_model_module": "jupyter-leaflet",
            "_model_module_version": "^0.18",
            "_model_name": "LeafletMapStyleModel",
            "_view_count": null,
            "_view_module": "@jupyter-widgets/base",
            "_view_module_version": "1.2.0",
            "_view_name": "StyleView",
            "cursor": "move"
          }
        },
        "e13cbfd2fdb647a49dc2db5c714ab68b": {
          "model_module": "jupyter-leaflet",
          "model_name": "LeafletTileLayerModel",
          "model_module_version": "^0.18",
          "state": {
            "_model_module": "jupyter-leaflet",
            "_model_module_version": "^0.18",
            "_model_name": "LeafletTileLayerModel",
            "_view_count": null,
            "_view_module": "jupyter-leaflet",
            "_view_module_version": "^0.18",
            "_view_name": "LeafletTileLayerView",
            "attribution": "&copy; <a href=\"https://www.openstreetmap.org/copyright\">OpenStreetMap</a> contributors",
            "base": true,
            "bottom": true,
            "bounds": null,
            "detect_retina": false,
            "loading": false,
            "max_native_zoom": null,
            "max_zoom": 19,
            "min_native_zoom": null,
            "min_zoom": 1,
            "name": "OpenStreetMap.Mapnik",
            "no_wrap": false,
            "opacity": 1,
            "options": [
              "attribution",
              "bounds",
              "detect_retina",
              "max_native_zoom",
              "max_zoom",
              "min_native_zoom",
              "min_zoom",
              "no_wrap",
              "tile_size",
              "tms",
              "zoom_offset"
            ],
            "pane": "",
            "popup": null,
            "popup_max_height": null,
            "popup_max_width": 300,
            "popup_min_width": 50,
            "show_loading": false,
            "subitems": [],
            "tile_size": 256,
            "tms": false,
            "url": "https://tile.openstreetmap.org/{z}/{x}/{y}.png",
            "visible": true,
            "zoom_offset": 0
          }
        },
        "4b10aa71ed4f4dd0a6967e006bba5646": {
          "model_module": "jupyter-leaflet",
          "model_name": "LeafletTileLayerModel",
          "model_module_version": "^0.18",
          "state": {
            "_model_module": "jupyter-leaflet",
            "_model_module_version": "^0.18",
            "_model_name": "LeafletTileLayerModel",
            "_view_count": null,
            "_view_module": "jupyter-leaflet",
            "_view_module_version": "^0.18",
            "_view_name": "LeafletTileLayerView",
            "attribution": "Google Earth Engine",
            "base": false,
            "bottom": true,
            "bounds": null,
            "detect_retina": false,
            "loading": false,
            "max_native_zoom": null,
            "max_zoom": 24,
            "min_native_zoom": null,
            "min_zoom": 0,
            "name": "TCC",
            "no_wrap": false,
            "opacity": 1,
            "options": [
              "attribution",
              "bounds",
              "detect_retina",
              "max_native_zoom",
              "max_zoom",
              "min_native_zoom",
              "min_zoom",
              "no_wrap",
              "tile_size",
              "tms",
              "zoom_offset"
            ],
            "pane": "",
            "popup": null,
            "popup_max_height": null,
            "popup_max_width": 300,
            "popup_min_width": 50,
            "show_loading": false,
            "subitems": [],
            "tile_size": 256,
            "tms": false,
            "url": "https://earthengine.googleapis.com/v1/projects/ee-foss4g/maps/d68205895779d8a257c28b2ed9ad2ad5-cab785b682fd3f1c770688d5ada1c865/tiles/{z}/{x}/{y}",
            "visible": true,
            "zoom_offset": 0
          }
        },
        "799e23f9b13e43b59378478a26218b8b": {
          "model_module": "@jupyter-widgets/base",
          "model_name": "LayoutModel",
          "model_module_version": "1.2.0",
          "state": {
            "_model_module": "@jupyter-widgets/base",
            "_model_module_version": "1.2.0",
            "_model_name": "LayoutModel",
            "_view_count": null,
            "_view_module": "@jupyter-widgets/base",
            "_view_module_version": "1.2.0",
            "_view_name": "LayoutView",
            "align_content": null,
            "align_items": null,
            "align_self": null,
            "border": null,
            "bottom": null,
            "display": null,
            "flex": null,
            "flex_flow": null,
            "grid_area": null,
            "grid_auto_columns": null,
            "grid_auto_flow": null,
            "grid_auto_rows": null,
            "grid_column": null,
            "grid_gap": null,
            "grid_row": null,
            "grid_template_areas": null,
            "grid_template_columns": null,
            "grid_template_rows": null,
            "height": "400px",
            "justify_content": null,
            "justify_items": null,
            "left": null,
            "margin": null,
            "max_height": null,
            "max_width": null,
            "min_height": null,
            "min_width": null,
            "object_fit": null,
            "object_position": null,
            "order": null,
            "overflow": null,
            "overflow_x": null,
            "overflow_y": null,
            "padding": null,
            "right": null,
            "top": null,
            "visibility": null,
            "width": "800px"
          }
        },
        "b86b7c9b8a124dd9aca83824975d01f2": {
          "model_module": "jupyter-leaflet",
          "model_name": "LeafletMapStyleModel",
          "model_module_version": "^0.18",
          "state": {
            "_model_module": "jupyter-leaflet",
            "_model_module_version": "^0.18",
            "_model_name": "LeafletMapStyleModel",
            "_view_count": null,
            "_view_module": "@jupyter-widgets/base",
            "_view_module_version": "1.2.0",
            "_view_name": "StyleView",
            "cursor": "grab"
          }
        },
        "b3f9309569304cba887fb2a2e05d6c44": {
          "model_module": "@jupyter-widgets/controls",
          "model_name": "HBoxModel",
          "model_module_version": "1.5.0",
          "state": {
            "_dom_classes": [
              "geemap-colab"
            ],
            "_model_module": "@jupyter-widgets/controls",
            "_model_module_version": "1.5.0",
            "_model_name": "HBoxModel",
            "_view_count": null,
            "_view_module": "@jupyter-widgets/controls",
            "_view_module_version": "1.5.0",
            "_view_name": "HBoxView",
            "box_style": "",
            "children": [
              "IPY_MODEL_e8a823001c0e468e85828550221a0779"
            ],
            "layout": "IPY_MODEL_9f53ec451f754f51a3394722d3f82f08"
          }
        },
        "2de44b9985d54ef0855a563a25f5d82b": {
          "model_module": "@jupyter-widgets/controls",
          "model_name": "VBoxModel",
          "model_module_version": "1.5.0",
          "state": {
            "_dom_classes": [
              "geemap-colab"
            ],
            "_model_module": "@jupyter-widgets/controls",
            "_model_module_version": "1.5.0",
            "_model_name": "VBoxModel",
            "_view_count": null,
            "_view_module": "@jupyter-widgets/controls",
            "_view_module_version": "1.5.0",
            "_view_name": "VBoxView",
            "box_style": "",
            "children": [
              "IPY_MODEL_b4da618cbbdc424abcd95fd195068664"
            ],
            "layout": "IPY_MODEL_3df87aa5101f461089a21b68eca681f3"
          }
        },
        "fccfa8ba526140e19b3587b55fe0eb2d": {
          "model_module": "@jupyter-widgets/output",
          "model_name": "OutputModel",
          "model_module_version": "1.0.0",
          "state": {
            "_dom_classes": [
              "geemap-colab"
            ],
            "_model_module": "@jupyter-widgets/output",
            "_model_module_version": "1.0.0",
            "_model_name": "OutputModel",
            "_view_count": null,
            "_view_module": "@jupyter-widgets/output",
            "_view_module_version": "1.0.0",
            "_view_name": "OutputView",
            "layout": "IPY_MODEL_6d1539180d904287a20a0279a172fa73",
            "msg_id": "",
            "outputs": [
              {
                "output_type": "display_data",
                "data": {
                  "text/plain": "<Figure size 30x300 with 1 Axes>",
                  "image/png": "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\n"
                },
                "metadata": {}
              }
            ]
          }
        },
        "e8a823001c0e468e85828550221a0779": {
          "model_module": "@jupyter-widgets/controls",
          "model_name": "ToggleButtonModel",
          "model_module_version": "1.5.0",
          "state": {
            "_dom_classes": [],
            "_model_module": "@jupyter-widgets/controls",
            "_model_module_version": "1.5.0",
            "_model_name": "ToggleButtonModel",
            "_view_count": null,
            "_view_module": "@jupyter-widgets/controls",
            "_view_module_version": "1.5.0",
            "_view_name": "ToggleButtonView",
            "button_style": "",
            "description": "",
            "description_tooltip": null,
            "disabled": false,
            "icon": "globe",
            "layout": "IPY_MODEL_71b24902cb2148f6bd4374caa7418be2",
            "style": "IPY_MODEL_472d4b73fccc4370884faa4d72df8605",
            "tooltip": "Search location/data",
            "value": false
          }
        },
        "9f53ec451f754f51a3394722d3f82f08": {
          "model_module": "@jupyter-widgets/base",
          "model_name": "LayoutModel",
          "model_module_version": "1.2.0",
          "state": {
            "_model_module": "@jupyter-widgets/base",
            "_model_module_version": "1.2.0",
            "_model_name": "LayoutModel",
            "_view_count": null,
            "_view_module": "@jupyter-widgets/base",
            "_view_module_version": "1.2.0",
            "_view_name": "LayoutView",
            "align_content": null,
            "align_items": null,
            "align_self": null,
            "border": null,
            "bottom": null,
            "display": null,
            "flex": null,
            "flex_flow": null,
            "grid_area": null,
            "grid_auto_columns": null,
            "grid_auto_flow": null,
            "grid_auto_rows": null,
            "grid_column": null,
            "grid_gap": null,
            "grid_row": null,
            "grid_template_areas": null,
            "grid_template_columns": null,
            "grid_template_rows": null,
            "height": null,
            "justify_content": null,
            "justify_items": null,
            "left": null,
            "margin": null,
            "max_height": null,
            "max_width": null,
            "min_height": null,
            "min_width": null,
            "object_fit": null,
            "object_position": null,
            "order": null,
            "overflow": null,
            "overflow_x": null,
            "overflow_y": null,
            "padding": null,
            "right": null,
            "top": null,
            "visibility": null,
            "width": null
          }
        },
        "b4da618cbbdc424abcd95fd195068664": {
          "model_module": "@jupyter-widgets/controls",
          "model_name": "ToggleButtonModel",
          "model_module_version": "1.5.0",
          "state": {
            "_dom_classes": [],
            "_model_module": "@jupyter-widgets/controls",
            "_model_module_version": "1.5.0",
            "_model_name": "ToggleButtonModel",
            "_view_count": null,
            "_view_module": "@jupyter-widgets/controls",
            "_view_module_version": "1.5.0",
            "_view_name": "ToggleButtonView",
            "button_style": "",
            "description": "",
            "description_tooltip": null,
            "disabled": false,
            "icon": "wrench",
            "layout": "IPY_MODEL_926269b3b2c9414c844a21a145abee5a",
            "style": "IPY_MODEL_e1ff3a71fe5145aa8b567d40955cfc9a",
            "tooltip": "Toolbar",
            "value": false
          }
        },
        "3df87aa5101f461089a21b68eca681f3": {
          "model_module": "@jupyter-widgets/base",
          "model_name": "LayoutModel",
          "model_module_version": "1.2.0",
          "state": {
            "_model_module": "@jupyter-widgets/base",
            "_model_module_version": "1.2.0",
            "_model_name": "LayoutModel",
            "_view_count": null,
            "_view_module": "@jupyter-widgets/base",
            "_view_module_version": "1.2.0",
            "_view_name": "LayoutView",
            "align_content": null,
            "align_items": null,
            "align_self": null,
            "border": null,
            "bottom": null,
            "display": null,
            "flex": null,
            "flex_flow": null,
            "grid_area": null,
            "grid_auto_columns": null,
            "grid_auto_flow": null,
            "grid_auto_rows": null,
            "grid_column": null,
            "grid_gap": null,
            "grid_row": null,
            "grid_template_areas": null,
            "grid_template_columns": null,
            "grid_template_rows": null,
            "height": null,
            "justify_content": null,
            "justify_items": null,
            "left": null,
            "margin": null,
            "max_height": null,
            "max_width": null,
            "min_height": null,
            "min_width": null,
            "object_fit": null,
            "object_position": null,
            "order": null,
            "overflow": null,
            "overflow_x": null,
            "overflow_y": null,
            "padding": null,
            "right": null,
            "top": null,
            "visibility": null,
            "width": null
          }
        },
        "6d1539180d904287a20a0279a172fa73": {
          "model_module": "@jupyter-widgets/base",
          "model_name": "LayoutModel",
          "model_module_version": "1.2.0",
          "state": {
            "_model_module": "@jupyter-widgets/base",
            "_model_module_version": "1.2.0",
            "_model_name": "LayoutModel",
            "_view_count": null,
            "_view_module": "@jupyter-widgets/base",
            "_view_module_version": "1.2.0",
            "_view_name": "LayoutView",
            "align_content": null,
            "align_items": null,
            "align_self": null,
            "border": null,
            "bottom": null,
            "display": null,
            "flex": null,
            "flex_flow": null,
            "grid_area": null,
            "grid_auto_columns": null,
            "grid_auto_flow": null,
            "grid_auto_rows": null,
            "grid_column": null,
            "grid_gap": null,
            "grid_row": null,
            "grid_template_areas": null,
            "grid_template_columns": null,
            "grid_template_rows": null,
            "height": null,
            "justify_content": null,
            "justify_items": null,
            "left": null,
            "margin": null,
            "max_height": null,
            "max_width": null,
            "min_height": null,
            "min_width": null,
            "object_fit": null,
            "object_position": null,
            "order": null,
            "overflow": null,
            "overflow_x": null,
            "overflow_y": null,
            "padding": null,
            "right": null,
            "top": null,
            "visibility": null,
            "width": "100px"
          }
        },
        "71b24902cb2148f6bd4374caa7418be2": {
          "model_module": "@jupyter-widgets/base",
          "model_name": "LayoutModel",
          "model_module_version": "1.2.0",
          "state": {
            "_model_module": "@jupyter-widgets/base",
            "_model_module_version": "1.2.0",
            "_model_name": "LayoutModel",
            "_view_count": null,
            "_view_module": "@jupyter-widgets/base",
            "_view_module_version": "1.2.0",
            "_view_name": "LayoutView",
            "align_content": null,
            "align_items": null,
            "align_self": null,
            "border": null,
            "bottom": null,
            "display": null,
            "flex": null,
            "flex_flow": null,
            "grid_area": null,
            "grid_auto_columns": null,
            "grid_auto_flow": null,
            "grid_auto_rows": null,
            "grid_column": null,
            "grid_gap": null,
            "grid_row": null,
            "grid_template_areas": null,
            "grid_template_columns": null,
            "grid_template_rows": null,
            "height": "28px",
            "justify_content": null,
            "justify_items": null,
            "left": null,
            "margin": null,
            "max_height": null,
            "max_width": null,
            "min_height": null,
            "min_width": null,
            "object_fit": null,
            "object_position": null,
            "order": null,
            "overflow": null,
            "overflow_x": null,
            "overflow_y": null,
            "padding": "0px 0px 0px 4px",
            "right": null,
            "top": null,
            "visibility": null,
            "width": "28px"
          }
        },
        "472d4b73fccc4370884faa4d72df8605": {
          "model_module": "@jupyter-widgets/controls",
          "model_name": "DescriptionStyleModel",
          "model_module_version": "1.5.0",
          "state": {
            "_model_module": "@jupyter-widgets/controls",
            "_model_module_version": "1.5.0",
            "_model_name": "DescriptionStyleModel",
            "_view_count": null,
            "_view_module": "@jupyter-widgets/base",
            "_view_module_version": "1.2.0",
            "_view_name": "StyleView",
            "description_width": ""
          }
        },
        "926269b3b2c9414c844a21a145abee5a": {
          "model_module": "@jupyter-widgets/base",
          "model_name": "LayoutModel",
          "model_module_version": "1.2.0",
          "state": {
            "_model_module": "@jupyter-widgets/base",
            "_model_module_version": "1.2.0",
            "_model_name": "LayoutModel",
            "_view_count": null,
            "_view_module": "@jupyter-widgets/base",
            "_view_module_version": "1.2.0",
            "_view_name": "LayoutView",
            "align_content": null,
            "align_items": null,
            "align_self": null,
            "border": null,
            "bottom": null,
            "display": null,
            "flex": null,
            "flex_flow": null,
            "grid_area": null,
            "grid_auto_columns": null,
            "grid_auto_flow": null,
            "grid_auto_rows": null,
            "grid_column": null,
            "grid_gap": null,
            "grid_row": null,
            "grid_template_areas": null,
            "grid_template_columns": null,
            "grid_template_rows": null,
            "height": "28px",
            "justify_content": null,
            "justify_items": null,
            "left": null,
            "margin": null,
            "max_height": null,
            "max_width": null,
            "min_height": null,
            "min_width": null,
            "object_fit": null,
            "object_position": null,
            "order": null,
            "overflow": null,
            "overflow_x": null,
            "overflow_y": null,
            "padding": "0px 0px 0px 4px",
            "right": null,
            "top": null,
            "visibility": null,
            "width": "28px"
          }
        },
        "e1ff3a71fe5145aa8b567d40955cfc9a": {
          "model_module": "@jupyter-widgets/controls",
          "model_name": "DescriptionStyleModel",
          "model_module_version": "1.5.0",
          "state": {
            "_model_module": "@jupyter-widgets/controls",
            "_model_module_version": "1.5.0",
            "_model_name": "DescriptionStyleModel",
            "_view_count": null,
            "_view_module": "@jupyter-widgets/base",
            "_view_module_version": "1.2.0",
            "_view_name": "StyleView",
            "description_width": ""
          }
        },
        "2dab04c366c34e05a3694b5654085aa0": {
          "model_module": "jupyter-leaflet",
          "model_name": "LeafletMapModel",
          "model_module_version": "^0.18",
          "state": {
            "_dom_classes": [],
            "_model_module": "jupyter-leaflet",
            "_model_module_version": "^0.18",
            "_model_name": "LeafletMapModel",
            "_view_count": null,
            "_view_module": "jupyter-leaflet",
            "_view_module_version": "^0.18",
            "_view_name": "LeafletMapView",
            "bottom": 6656,
            "bounce_at_zoom_limits": true,
            "box_zoom": true,
            "center": [
              35.60541125576072,
              127.04873061439156
            ],
            "close_popup_on_click": true,
            "controls": [
              "IPY_MODEL_0aec72569f7e459f94ec136af13dd53a",
              "IPY_MODEL_ae15cf57514f48d4868bef53baab9190",
              "IPY_MODEL_509bac9869834721a304c53f313b7a3b",
              "IPY_MODEL_4dac369b4288447ba6a0f911b9db8c89",
              "IPY_MODEL_49a7e5ae3666407e86e6760931af889f",
              "IPY_MODEL_682395eab921470fbb0d72f513da3de8",
              "IPY_MODEL_0627946c5721417496bdc0eb847bd5ab",
              "IPY_MODEL_8e770e336d5146d5ad7a2378e6974acb",
              "IPY_MODEL_7cff17af332147a3a25a9d01c4eeb860"
            ],
            "crs": {
              "name": "EPSG3857",
              "custom": false
            },
            "default_style": "IPY_MODEL_1539e1305a8e4f31af397bc8de08a381",
            "double_click_zoom": true,
            "dragging": true,
            "dragging_style": "IPY_MODEL_5a053f139cdd4d0eaba477b0e1992bff",
            "east": 135.83496093750003,
            "fullscreen": false,
            "inertia": true,
            "inertia_deceleration": 3000,
            "inertia_max_speed": 1500,
            "interpolation": "bilinear",
            "keyboard": true,
            "keyboard_pan_offset": 80,
            "keyboard_zoom_offset": 1,
            "layers": [
              "IPY_MODEL_39e068bdf7cf4e17a2bdd3a8a7649797",
              "IPY_MODEL_b3ad485ce891425cb7f1acbd652cf86a"
            ],
            "layout": "IPY_MODEL_b0d5e15e3ab04b3ea2c1b3a3f12726d6",
            "left": 13574,
            "max_zoom": 24,
            "min_zoom": null,
            "modisdate": "2024-05-25",
            "north": 39.095962936305476,
            "options": [
              "bounce_at_zoom_limits",
              "box_zoom",
              "center",
              "close_popup_on_click",
              "double_click_zoom",
              "dragging",
              "fullscreen",
              "inertia",
              "inertia_deceleration",
              "inertia_max_speed",
              "interpolation",
              "keyboard",
              "keyboard_pan_offset",
              "keyboard_zoom_offset",
              "max_zoom",
              "min_zoom",
              "prefer_canvas",
              "scroll_wheel_zoom",
              "tap",
              "tap_tolerance",
              "touch_zoom",
              "world_copy_jump",
              "zoom",
              "zoom_animation_threshold",
              "zoom_delta",
              "zoom_snap"
            ],
            "panes": {},
            "prefer_canvas": false,
            "right": 14374,
            "scroll_wheel_zoom": true,
            "south": 31.952162238024975,
            "style": "IPY_MODEL_1ab422aaca85474888d6f7da325a68b9",
            "tap": true,
            "tap_tolerance": 15,
            "top": 6256,
            "touch_zoom": true,
            "west": 118.25683593750001,
            "window_url": "https://ioysqj54nq-496ff2e9c6d22116-0-colab.googleusercontent.com/outputframe.html?vrz=colab_20240523-060110_RC00_636443439",
            "world_copy_jump": false,
            "zoom": 6,
            "zoom_animation_threshold": 4,
            "zoom_delta": 1,
            "zoom_snap": 1
          }
        },
        "0aec72569f7e459f94ec136af13dd53a": {
          "model_module": "jupyter-leaflet",
          "model_name": "LeafletWidgetControlModel",
          "model_module_version": "^0.18",
          "state": {
            "_model_module": "jupyter-leaflet",
            "_model_module_version": "^0.18",
            "_model_name": "LeafletWidgetControlModel",
            "_view_count": null,
            "_view_module": "jupyter-leaflet",
            "_view_module_version": "^0.18",
            "_view_name": "LeafletWidgetControlView",
            "max_height": null,
            "max_width": null,
            "min_height": null,
            "min_width": null,
            "options": [
              "position",
              "transparent_bg"
            ],
            "position": "topleft",
            "transparent_bg": false,
            "widget": "IPY_MODEL_40c42558b1694b798dd7a1404553b768"
          }
        },
        "ae15cf57514f48d4868bef53baab9190": {
          "model_module": "jupyter-leaflet",
          "model_name": "LeafletZoomControlModel",
          "model_module_version": "^0.18",
          "state": {
            "_model_module": "jupyter-leaflet",
            "_model_module_version": "^0.18",
            "_model_name": "LeafletZoomControlModel",
            "_view_count": null,
            "_view_module": "jupyter-leaflet",
            "_view_module_version": "^0.18",
            "_view_name": "LeafletZoomControlView",
            "options": [
              "position",
              "zoom_in_text",
              "zoom_in_title",
              "zoom_out_text",
              "zoom_out_title"
            ],
            "position": "topleft",
            "zoom_in_text": "+",
            "zoom_in_title": "Zoom in",
            "zoom_out_text": "-",
            "zoom_out_title": "Zoom out"
          }
        },
        "509bac9869834721a304c53f313b7a3b": {
          "model_module": "jupyter-leaflet",
          "model_name": "LeafletFullScreenControlModel",
          "model_module_version": "^0.18",
          "state": {
            "_model_module": "jupyter-leaflet",
            "_model_module_version": "^0.18",
            "_model_name": "LeafletFullScreenControlModel",
            "_view_count": null,
            "_view_module": "jupyter-leaflet",
            "_view_module_version": "^0.18",
            "_view_name": "LeafletFullScreenControlView",
            "options": [
              "position"
            ],
            "position": "topleft"
          }
        },
        "4dac369b4288447ba6a0f911b9db8c89": {
          "model_module": "jupyter-leaflet",
          "model_name": "LeafletDrawControlModel",
          "model_module_version": "^0.18",
          "state": {
            "_model_module": "jupyter-leaflet",
            "_model_module_version": "^0.18",
            "_model_name": "LeafletDrawControlModel",
            "_view_count": null,
            "_view_module": "jupyter-leaflet",
            "_view_module_version": "^0.18",
            "_view_name": "LeafletDrawControlView",
            "circle": {},
            "circlemarker": {},
            "data": [],
            "edit": true,
            "marker": {
              "shapeOptions": {
                "color": "#3388ff"
              }
            },
            "options": [
              "position"
            ],
            "polygon": {
              "shapeOptions": {}
            },
            "polyline": {
              "shapeOptions": {}
            },
            "position": "topleft",
            "rectangle": {
              "shapeOptions": {
                "color": "#3388ff"
              }
            },
            "remove": true
          }
        },
        "49a7e5ae3666407e86e6760931af889f": {
          "model_module": "jupyter-leaflet",
          "model_name": "LeafletScaleControlModel",
          "model_module_version": "^0.18",
          "state": {
            "_model_module": "jupyter-leaflet",
            "_model_module_version": "^0.18",
            "_model_name": "LeafletScaleControlModel",
            "_view_count": null,
            "_view_module": "jupyter-leaflet",
            "_view_module_version": "^0.18",
            "_view_name": "LeafletScaleControlView",
            "imperial": true,
            "max_width": 100,
            "metric": true,
            "options": [
              "imperial",
              "max_width",
              "metric",
              "position",
              "update_when_idle"
            ],
            "position": "bottomleft",
            "update_when_idle": false
          }
        },
        "682395eab921470fbb0d72f513da3de8": {
          "model_module": "jupyter-leaflet",
          "model_name": "LeafletMeasureControlModel",
          "model_module_version": "^0.18",
          "state": {
            "_custom_units": {},
            "_model_module": "jupyter-leaflet",
            "_model_module_version": "^0.18",
            "_model_name": "LeafletMeasureControlModel",
            "_view_count": null,
            "_view_module": "jupyter-leaflet",
            "_view_module_version": "^0.18",
            "_view_name": "LeafletMeasureControlView",
            "active_color": "orange",
            "capture_z_index": 10000,
            "completed_color": "#C8F2BE",
            "options": [
              "active_color",
              "capture_z_index",
              "completed_color",
              "popup_options",
              "position",
              "primary_area_unit",
              "primary_length_unit",
              "secondary_area_unit",
              "secondary_length_unit"
            ],
            "popup_options": {
              "className": "leaflet-measure-resultpopup",
              "autoPanPadding": [
                10,
                10
              ]
            },
            "position": "bottomleft",
            "primary_area_unit": "acres",
            "primary_length_unit": "kilometers",
            "secondary_area_unit": null,
            "secondary_length_unit": null
          }
        },
        "0627946c5721417496bdc0eb847bd5ab": {
          "model_module": "jupyter-leaflet",
          "model_name": "LeafletWidgetControlModel",
          "model_module_version": "^0.18",
          "state": {
            "_model_module": "jupyter-leaflet",
            "_model_module_version": "^0.18",
            "_model_name": "LeafletWidgetControlModel",
            "_view_count": null,
            "_view_module": "jupyter-leaflet",
            "_view_module_version": "^0.18",
            "_view_name": "LeafletWidgetControlView",
            "max_height": null,
            "max_width": null,
            "min_height": null,
            "min_width": null,
            "options": [
              "position",
              "transparent_bg"
            ],
            "position": "topright",
            "transparent_bg": false,
            "widget": "IPY_MODEL_72e833efc647479f8935fa2622578876"
          }
        },
        "8e770e336d5146d5ad7a2378e6974acb": {
          "model_module": "jupyter-leaflet",
          "model_name": "LeafletAttributionControlModel",
          "model_module_version": "^0.18",
          "state": {
            "_model_module": "jupyter-leaflet",
            "_model_module_version": "^0.18",
            "_model_name": "LeafletAttributionControlModel",
            "_view_count": null,
            "_view_module": "jupyter-leaflet",
            "_view_module_version": "^0.18",
            "_view_name": "LeafletAttributionControlView",
            "options": [
              "position",
              "prefix"
            ],
            "position": "bottomright",
            "prefix": "ipyleaflet"
          }
        },
        "7cff17af332147a3a25a9d01c4eeb860": {
          "model_module": "jupyter-leaflet",
          "model_name": "LeafletWidgetControlModel",
          "model_module_version": "^0.18",
          "state": {
            "_model_module": "jupyter-leaflet",
            "_model_module_version": "^0.18",
            "_model_name": "LeafletWidgetControlModel",
            "_view_count": null,
            "_view_module": "jupyter-leaflet",
            "_view_module_version": "^0.18",
            "_view_name": "LeafletWidgetControlView",
            "max_height": null,
            "max_width": null,
            "min_height": null,
            "min_width": null,
            "options": [
              "position",
              "transparent_bg"
            ],
            "position": "bottomright",
            "transparent_bg": false,
            "widget": "IPY_MODEL_b6955ddd008a45bfb1077a4ddb7208c8"
          }
        },
        "1539e1305a8e4f31af397bc8de08a381": {
          "model_module": "jupyter-leaflet",
          "model_name": "LeafletMapStyleModel",
          "model_module_version": "^0.18",
          "state": {
            "_model_module": "jupyter-leaflet",
            "_model_module_version": "^0.18",
            "_model_name": "LeafletMapStyleModel",
            "_view_count": null,
            "_view_module": "@jupyter-widgets/base",
            "_view_module_version": "1.2.0",
            "_view_name": "StyleView",
            "cursor": "grab"
          }
        },
        "5a053f139cdd4d0eaba477b0e1992bff": {
          "model_module": "jupyter-leaflet",
          "model_name": "LeafletMapStyleModel",
          "model_module_version": "^0.18",
          "state": {
            "_model_module": "jupyter-leaflet",
            "_model_module_version": "^0.18",
            "_model_name": "LeafletMapStyleModel",
            "_view_count": null,
            "_view_module": "@jupyter-widgets/base",
            "_view_module_version": "1.2.0",
            "_view_name": "StyleView",
            "cursor": "move"
          }
        },
        "39e068bdf7cf4e17a2bdd3a8a7649797": {
          "model_module": "jupyter-leaflet",
          "model_name": "LeafletTileLayerModel",
          "model_module_version": "^0.18",
          "state": {
            "_model_module": "jupyter-leaflet",
            "_model_module_version": "^0.18",
            "_model_name": "LeafletTileLayerModel",
            "_view_count": null,
            "_view_module": "jupyter-leaflet",
            "_view_module_version": "^0.18",
            "_view_name": "LeafletTileLayerView",
            "attribution": "&copy; <a href=\"https://www.openstreetmap.org/copyright\">OpenStreetMap</a> contributors",
            "base": true,
            "bottom": true,
            "bounds": null,
            "detect_retina": false,
            "loading": false,
            "max_native_zoom": null,
            "max_zoom": 19,
            "min_native_zoom": null,
            "min_zoom": 1,
            "name": "OpenStreetMap.Mapnik",
            "no_wrap": false,
            "opacity": 1,
            "options": [
              "attribution",
              "bounds",
              "detect_retina",
              "max_native_zoom",
              "max_zoom",
              "min_native_zoom",
              "min_zoom",
              "no_wrap",
              "tile_size",
              "tms",
              "zoom_offset"
            ],
            "pane": "",
            "popup": null,
            "popup_max_height": null,
            "popup_max_width": 300,
            "popup_min_width": 50,
            "show_loading": false,
            "subitems": [],
            "tile_size": 256,
            "tms": false,
            "url": "https://tile.openstreetmap.org/{z}/{x}/{y}.png",
            "visible": true,
            "zoom_offset": 0
          }
        },
        "b3ad485ce891425cb7f1acbd652cf86a": {
          "model_module": "jupyter-leaflet",
          "model_name": "LeafletTileLayerModel",
          "model_module_version": "^0.18",
          "state": {
            "_model_module": "jupyter-leaflet",
            "_model_module_version": "^0.18",
            "_model_name": "LeafletTileLayerModel",
            "_view_count": null,
            "_view_module": "jupyter-leaflet",
            "_view_module_version": "^0.18",
            "_view_name": "LeafletTileLayerView",
            "attribution": "Google Earth Engine",
            "base": false,
            "bottom": true,
            "bounds": null,
            "detect_retina": false,
            "loading": false,
            "max_native_zoom": null,
            "max_zoom": 24,
            "min_native_zoom": null,
            "min_zoom": 0,
            "name": "gHM",
            "no_wrap": false,
            "opacity": 1,
            "options": [
              "attribution",
              "bounds",
              "detect_retina",
              "max_native_zoom",
              "max_zoom",
              "min_native_zoom",
              "min_zoom",
              "no_wrap",
              "tile_size",
              "tms",
              "zoom_offset"
            ],
            "pane": "",
            "popup": null,
            "popup_max_height": null,
            "popup_max_width": 300,
            "popup_min_width": 50,
            "show_loading": false,
            "subitems": [],
            "tile_size": 256,
            "tms": false,
            "url": "https://earthengine.googleapis.com/v1/projects/ee-foss4g/maps/759b7059fecf8bbb540f4bc718128a99-b03110a90a17d5a5ab7e8de5737ebeb3/tiles/{z}/{x}/{y}",
            "visible": true,
            "zoom_offset": 0
          }
        },
        "b0d5e15e3ab04b3ea2c1b3a3f12726d6": {
          "model_module": "@jupyter-widgets/base",
          "model_name": "LayoutModel",
          "model_module_version": "1.2.0",
          "state": {
            "_model_module": "@jupyter-widgets/base",
            "_model_module_version": "1.2.0",
            "_model_name": "LayoutModel",
            "_view_count": null,
            "_view_module": "@jupyter-widgets/base",
            "_view_module_version": "1.2.0",
            "_view_name": "LayoutView",
            "align_content": null,
            "align_items": null,
            "align_self": null,
            "border": null,
            "bottom": null,
            "display": null,
            "flex": null,
            "flex_flow": null,
            "grid_area": null,
            "grid_auto_columns": null,
            "grid_auto_flow": null,
            "grid_auto_rows": null,
            "grid_column": null,
            "grid_gap": null,
            "grid_row": null,
            "grid_template_areas": null,
            "grid_template_columns": null,
            "grid_template_rows": null,
            "height": "400px",
            "justify_content": null,
            "justify_items": null,
            "left": null,
            "margin": null,
            "max_height": null,
            "max_width": null,
            "min_height": null,
            "min_width": null,
            "object_fit": null,
            "object_position": null,
            "order": null,
            "overflow": null,
            "overflow_x": null,
            "overflow_y": null,
            "padding": null,
            "right": null,
            "top": null,
            "visibility": null,
            "width": "800px"
          }
        },
        "1ab422aaca85474888d6f7da325a68b9": {
          "model_module": "jupyter-leaflet",
          "model_name": "LeafletMapStyleModel",
          "model_module_version": "^0.18",
          "state": {
            "_model_module": "jupyter-leaflet",
            "_model_module_version": "^0.18",
            "_model_name": "LeafletMapStyleModel",
            "_view_count": null,
            "_view_module": "@jupyter-widgets/base",
            "_view_module_version": "1.2.0",
            "_view_name": "StyleView",
            "cursor": "grab"
          }
        },
        "40c42558b1694b798dd7a1404553b768": {
          "model_module": "@jupyter-widgets/controls",
          "model_name": "HBoxModel",
          "model_module_version": "1.5.0",
          "state": {
            "_dom_classes": [
              "geemap-colab"
            ],
            "_model_module": "@jupyter-widgets/controls",
            "_model_module_version": "1.5.0",
            "_model_name": "HBoxModel",
            "_view_count": null,
            "_view_module": "@jupyter-widgets/controls",
            "_view_module_version": "1.5.0",
            "_view_name": "HBoxView",
            "box_style": "",
            "children": [
              "IPY_MODEL_0a52d694be5447f580eaa3748b72df3a"
            ],
            "layout": "IPY_MODEL_50d8d78b8ba14ab9b3c2f36d793fbc30"
          }
        },
        "72e833efc647479f8935fa2622578876": {
          "model_module": "@jupyter-widgets/controls",
          "model_name": "VBoxModel",
          "model_module_version": "1.5.0",
          "state": {
            "_dom_classes": [
              "geemap-colab"
            ],
            "_model_module": "@jupyter-widgets/controls",
            "_model_module_version": "1.5.0",
            "_model_name": "VBoxModel",
            "_view_count": null,
            "_view_module": "@jupyter-widgets/controls",
            "_view_module_version": "1.5.0",
            "_view_name": "VBoxView",
            "box_style": "",
            "children": [
              "IPY_MODEL_2ea1b6efb43f4ebca0ca47db8e973bf4"
            ],
            "layout": "IPY_MODEL_7a74e4ffe2564c4cbf819ce9cdcf444d"
          }
        },
        "b6955ddd008a45bfb1077a4ddb7208c8": {
          "model_module": "@jupyter-widgets/output",
          "model_name": "OutputModel",
          "model_module_version": "1.0.0",
          "state": {
            "_dom_classes": [
              "geemap-colab"
            ],
            "_model_module": "@jupyter-widgets/output",
            "_model_module_version": "1.0.0",
            "_model_name": "OutputModel",
            "_view_count": null,
            "_view_module": "@jupyter-widgets/output",
            "_view_module_version": "1.0.0",
            "_view_name": "OutputView",
            "layout": "IPY_MODEL_4c5a23dd58204b349dc79decedc5b9a2",
            "msg_id": "",
            "outputs": [
              {
                "output_type": "display_data",
                "data": {
                  "text/plain": "<Figure size 30x300 with 1 Axes>",
                  "image/png": "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\n"
                },
                "metadata": {}
              }
            ]
          }
        },
        "0a52d694be5447f580eaa3748b72df3a": {
          "model_module": "@jupyter-widgets/controls",
          "model_name": "ToggleButtonModel",
          "model_module_version": "1.5.0",
          "state": {
            "_dom_classes": [],
            "_model_module": "@jupyter-widgets/controls",
            "_model_module_version": "1.5.0",
            "_model_name": "ToggleButtonModel",
            "_view_count": null,
            "_view_module": "@jupyter-widgets/controls",
            "_view_module_version": "1.5.0",
            "_view_name": "ToggleButtonView",
            "button_style": "",
            "description": "",
            "description_tooltip": null,
            "disabled": false,
            "icon": "globe",
            "layout": "IPY_MODEL_fd8d35d1be884167975df27101524ef0",
            "style": "IPY_MODEL_c227a4120c734a84ace6252cf0a5f1c0",
            "tooltip": "Search location/data",
            "value": false
          }
        },
        "50d8d78b8ba14ab9b3c2f36d793fbc30": {
          "model_module": "@jupyter-widgets/base",
          "model_name": "LayoutModel",
          "model_module_version": "1.2.0",
          "state": {
            "_model_module": "@jupyter-widgets/base",
            "_model_module_version": "1.2.0",
            "_model_name": "LayoutModel",
            "_view_count": null,
            "_view_module": "@jupyter-widgets/base",
            "_view_module_version": "1.2.0",
            "_view_name": "LayoutView",
            "align_content": null,
            "align_items": null,
            "align_self": null,
            "border": null,
            "bottom": null,
            "display": null,
            "flex": null,
            "flex_flow": null,
            "grid_area": null,
            "grid_auto_columns": null,
            "grid_auto_flow": null,
            "grid_auto_rows": null,
            "grid_column": null,
            "grid_gap": null,
            "grid_row": null,
            "grid_template_areas": null,
            "grid_template_columns": null,
            "grid_template_rows": null,
            "height": null,
            "justify_content": null,
            "justify_items": null,
            "left": null,
            "margin": null,
            "max_height": null,
            "max_width": null,
            "min_height": null,
            "min_width": null,
            "object_fit": null,
            "object_position": null,
            "order": null,
            "overflow": null,
            "overflow_x": null,
            "overflow_y": null,
            "padding": null,
            "right": null,
            "top": null,
            "visibility": null,
            "width": null
          }
        },
        "2ea1b6efb43f4ebca0ca47db8e973bf4": {
          "model_module": "@jupyter-widgets/controls",
          "model_name": "ToggleButtonModel",
          "model_module_version": "1.5.0",
          "state": {
            "_dom_classes": [],
            "_model_module": "@jupyter-widgets/controls",
            "_model_module_version": "1.5.0",
            "_model_name": "ToggleButtonModel",
            "_view_count": null,
            "_view_module": "@jupyter-widgets/controls",
            "_view_module_version": "1.5.0",
            "_view_name": "ToggleButtonView",
            "button_style": "",
            "description": "",
            "description_tooltip": null,
            "disabled": false,
            "icon": "wrench",
            "layout": "IPY_MODEL_23e1d5803ef44ef9b4e04ce466988842",
            "style": "IPY_MODEL_245658d2f35d4724828f47643798f152",
            "tooltip": "Toolbar",
            "value": false
          }
        },
        "7a74e4ffe2564c4cbf819ce9cdcf444d": {
          "model_module": "@jupyter-widgets/base",
          "model_name": "LayoutModel",
          "model_module_version": "1.2.0",
          "state": {
            "_model_module": "@jupyter-widgets/base",
            "_model_module_version": "1.2.0",
            "_model_name": "LayoutModel",
            "_view_count": null,
            "_view_module": "@jupyter-widgets/base",
            "_view_module_version": "1.2.0",
            "_view_name": "LayoutView",
            "align_content": null,
            "align_items": null,
            "align_self": null,
            "border": null,
            "bottom": null,
            "display": null,
            "flex": null,
            "flex_flow": null,
            "grid_area": null,
            "grid_auto_columns": null,
            "grid_auto_flow": null,
            "grid_auto_rows": null,
            "grid_column": null,
            "grid_gap": null,
            "grid_row": null,
            "grid_template_areas": null,
            "grid_template_columns": null,
            "grid_template_rows": null,
            "height": null,
            "justify_content": null,
            "justify_items": null,
            "left": null,
            "margin": null,
            "max_height": null,
            "max_width": null,
            "min_height": null,
            "min_width": null,
            "object_fit": null,
            "object_position": null,
            "order": null,
            "overflow": null,
            "overflow_x": null,
            "overflow_y": null,
            "padding": null,
            "right": null,
            "top": null,
            "visibility": null,
            "width": null
          }
        },
        "4c5a23dd58204b349dc79decedc5b9a2": {
          "model_module": "@jupyter-widgets/base",
          "model_name": "LayoutModel",
          "model_module_version": "1.2.0",
          "state": {
            "_model_module": "@jupyter-widgets/base",
            "_model_module_version": "1.2.0",
            "_model_name": "LayoutModel",
            "_view_count": null,
            "_view_module": "@jupyter-widgets/base",
            "_view_module_version": "1.2.0",
            "_view_name": "LayoutView",
            "align_content": null,
            "align_items": null,
            "align_self": null,
            "border": null,
            "bottom": null,
            "display": null,
            "flex": null,
            "flex_flow": null,
            "grid_area": null,
            "grid_auto_columns": null,
            "grid_auto_flow": null,
            "grid_auto_rows": null,
            "grid_column": null,
            "grid_gap": null,
            "grid_row": null,
            "grid_template_areas": null,
            "grid_template_columns": null,
            "grid_template_rows": null,
            "height": null,
            "justify_content": null,
            "justify_items": null,
            "left": null,
            "margin": null,
            "max_height": null,
            "max_width": null,
            "min_height": null,
            "min_width": null,
            "object_fit": null,
            "object_position": null,
            "order": null,
            "overflow": null,
            "overflow_x": null,
            "overflow_y": null,
            "padding": null,
            "right": null,
            "top": null,
            "visibility": null,
            "width": "100px"
          }
        },
        "fd8d35d1be884167975df27101524ef0": {
          "model_module": "@jupyter-widgets/base",
          "model_name": "LayoutModel",
          "model_module_version": "1.2.0",
          "state": {
            "_model_module": "@jupyter-widgets/base",
            "_model_module_version": "1.2.0",
            "_model_name": "LayoutModel",
            "_view_count": null,
            "_view_module": "@jupyter-widgets/base",
            "_view_module_version": "1.2.0",
            "_view_name": "LayoutView",
            "align_content": null,
            "align_items": null,
            "align_self": null,
            "border": null,
            "bottom": null,
            "display": null,
            "flex": null,
            "flex_flow": null,
            "grid_area": null,
            "grid_auto_columns": null,
            "grid_auto_flow": null,
            "grid_auto_rows": null,
            "grid_column": null,
            "grid_gap": null,
            "grid_row": null,
            "grid_template_areas": null,
            "grid_template_columns": null,
            "grid_template_rows": null,
            "height": "28px",
            "justify_content": null,
            "justify_items": null,
            "left": null,
            "margin": null,
            "max_height": null,
            "max_width": null,
            "min_height": null,
            "min_width": null,
            "object_fit": null,
            "object_position": null,
            "order": null,
            "overflow": null,
            "overflow_x": null,
            "overflow_y": null,
            "padding": "0px 0px 0px 4px",
            "right": null,
            "top": null,
            "visibility": null,
            "width": "28px"
          }
        },
        "c227a4120c734a84ace6252cf0a5f1c0": {
          "model_module": "@jupyter-widgets/controls",
          "model_name": "DescriptionStyleModel",
          "model_module_version": "1.5.0",
          "state": {
            "_model_module": "@jupyter-widgets/controls",
            "_model_module_version": "1.5.0",
            "_model_name": "DescriptionStyleModel",
            "_view_count": null,
            "_view_module": "@jupyter-widgets/base",
            "_view_module_version": "1.2.0",
            "_view_name": "StyleView",
            "description_width": ""
          }
        },
        "23e1d5803ef44ef9b4e04ce466988842": {
          "model_module": "@jupyter-widgets/base",
          "model_name": "LayoutModel",
          "model_module_version": "1.2.0",
          "state": {
            "_model_module": "@jupyter-widgets/base",
            "_model_module_version": "1.2.0",
            "_model_name": "LayoutModel",
            "_view_count": null,
            "_view_module": "@jupyter-widgets/base",
            "_view_module_version": "1.2.0",
            "_view_name": "LayoutView",
            "align_content": null,
            "align_items": null,
            "align_self": null,
            "border": null,
            "bottom": null,
            "display": null,
            "flex": null,
            "flex_flow": null,
            "grid_area": null,
            "grid_auto_columns": null,
            "grid_auto_flow": null,
            "grid_auto_rows": null,
            "grid_column": null,
            "grid_gap": null,
            "grid_row": null,
            "grid_template_areas": null,
            "grid_template_columns": null,
            "grid_template_rows": null,
            "height": "28px",
            "justify_content": null,
            "justify_items": null,
            "left": null,
            "margin": null,
            "max_height": null,
            "max_width": null,
            "min_height": null,
            "min_width": null,
            "object_fit": null,
            "object_position": null,
            "order": null,
            "overflow": null,
            "overflow_x": null,
            "overflow_y": null,
            "padding": "0px 0px 0px 4px",
            "right": null,
            "top": null,
            "visibility": null,
            "width": "28px"
          }
        },
        "245658d2f35d4724828f47643798f152": {
          "model_module": "@jupyter-widgets/controls",
          "model_name": "DescriptionStyleModel",
          "model_module_version": "1.5.0",
          "state": {
            "_model_module": "@jupyter-widgets/controls",
            "_model_module_version": "1.5.0",
            "_model_name": "DescriptionStyleModel",
            "_view_count": null,
            "_view_module": "@jupyter-widgets/base",
            "_view_module_version": "1.2.0",
            "_view_name": "StyleView",
            "description_width": ""
          }
        },
        "41ff91dbe14b404db0992e04d10ece52": {
          "model_module": "jupyter-leaflet",
          "model_name": "LeafletMapModel",
          "model_module_version": "^0.18",
          "state": {
            "_dom_classes": [],
            "_model_module": "jupyter-leaflet",
            "_model_module_version": "^0.18",
            "_model_name": "LeafletMapModel",
            "_view_count": null,
            "_view_module": "jupyter-leaflet",
            "_view_module_version": "^0.18",
            "_view_name": "LeafletMapView",
            "bottom": 6656,
            "bounce_at_zoom_limits": true,
            "box_zoom": true,
            "center": [
              35.60541125576072,
              127.04873061439156
            ],
            "close_popup_on_click": true,
            "controls": [
              "IPY_MODEL_6653c03431e244a4a7273dbacae88113",
              "IPY_MODEL_deaffb7d72f442ba8f82896c98ddfdf9",
              "IPY_MODEL_d3567435a0234ea8842737b102557683",
              "IPY_MODEL_702219eae8804ff4a442d155afbd98ca",
              "IPY_MODEL_2e11d5fe07904587b5f149b2c4eaf846",
              "IPY_MODEL_e2ca98e047f24fb9ad4003a770ae0505",
              "IPY_MODEL_35b217a826614ab6bd71fb71875db511",
              "IPY_MODEL_b72775816c4d428d924a3b7d4114e28d"
            ],
            "crs": {
              "name": "EPSG3857",
              "custom": false
            },
            "default_style": "IPY_MODEL_b305005a783640edb79ae0d4ec9622f9",
            "double_click_zoom": true,
            "dragging": true,
            "dragging_style": "IPY_MODEL_3fa75263012a4d6ea19b599618cb91d9",
            "east": 135.83496093750003,
            "fullscreen": false,
            "inertia": true,
            "inertia_deceleration": 3000,
            "inertia_max_speed": 1500,
            "interpolation": "bilinear",
            "keyboard": true,
            "keyboard_pan_offset": 80,
            "keyboard_zoom_offset": 1,
            "layers": [
              "IPY_MODEL_15688df739214721a0806f7766428af3",
              "IPY_MODEL_615e8eb2ee2940419d9a6b4eb44cf622"
            ],
            "layout": "IPY_MODEL_e9d789a3e52b4b898de45b63da71378f",
            "left": 13574,
            "max_zoom": 24,
            "min_zoom": null,
            "modisdate": "2024-05-25",
            "north": 39.095962936305476,
            "options": [
              "bounce_at_zoom_limits",
              "box_zoom",
              "center",
              "close_popup_on_click",
              "double_click_zoom",
              "dragging",
              "fullscreen",
              "inertia",
              "inertia_deceleration",
              "inertia_max_speed",
              "interpolation",
              "keyboard",
              "keyboard_pan_offset",
              "keyboard_zoom_offset",
              "max_zoom",
              "min_zoom",
              "prefer_canvas",
              "scroll_wheel_zoom",
              "tap",
              "tap_tolerance",
              "touch_zoom",
              "world_copy_jump",
              "zoom",
              "zoom_animation_threshold",
              "zoom_delta",
              "zoom_snap"
            ],
            "panes": {},
            "prefer_canvas": false,
            "right": 14374,
            "scroll_wheel_zoom": true,
            "south": 31.952162238024975,
            "style": "IPY_MODEL_49fae19cd1c746a1a408d03eb49fbd79",
            "tap": true,
            "tap_tolerance": 15,
            "top": 6256,
            "touch_zoom": true,
            "west": 118.25683593750001,
            "window_url": "https://ioysqj54nq-496ff2e9c6d22116-0-colab.googleusercontent.com/outputframe.html?vrz=colab_20240523-060110_RC00_636443439",
            "world_copy_jump": false,
            "zoom": 6,
            "zoom_animation_threshold": 4,
            "zoom_delta": 1,
            "zoom_snap": 1
          }
        },
        "6653c03431e244a4a7273dbacae88113": {
          "model_module": "jupyter-leaflet",
          "model_name": "LeafletWidgetControlModel",
          "model_module_version": "^0.18",
          "state": {
            "_model_module": "jupyter-leaflet",
            "_model_module_version": "^0.18",
            "_model_name": "LeafletWidgetControlModel",
            "_view_count": null,
            "_view_module": "jupyter-leaflet",
            "_view_module_version": "^0.18",
            "_view_name": "LeafletWidgetControlView",
            "max_height": null,
            "max_width": null,
            "min_height": null,
            "min_width": null,
            "options": [
              "position",
              "transparent_bg"
            ],
            "position": "topleft",
            "transparent_bg": false,
            "widget": "IPY_MODEL_2e531c033e0544e5b567a4c0c85c50e0"
          }
        },
        "deaffb7d72f442ba8f82896c98ddfdf9": {
          "model_module": "jupyter-leaflet",
          "model_name": "LeafletZoomControlModel",
          "model_module_version": "^0.18",
          "state": {
            "_model_module": "jupyter-leaflet",
            "_model_module_version": "^0.18",
            "_model_name": "LeafletZoomControlModel",
            "_view_count": null,
            "_view_module": "jupyter-leaflet",
            "_view_module_version": "^0.18",
            "_view_name": "LeafletZoomControlView",
            "options": [
              "position",
              "zoom_in_text",
              "zoom_in_title",
              "zoom_out_text",
              "zoom_out_title"
            ],
            "position": "topleft",
            "zoom_in_text": "+",
            "zoom_in_title": "Zoom in",
            "zoom_out_text": "-",
            "zoom_out_title": "Zoom out"
          }
        },
        "d3567435a0234ea8842737b102557683": {
          "model_module": "jupyter-leaflet",
          "model_name": "LeafletFullScreenControlModel",
          "model_module_version": "^0.18",
          "state": {
            "_model_module": "jupyter-leaflet",
            "_model_module_version": "^0.18",
            "_model_name": "LeafletFullScreenControlModel",
            "_view_count": null,
            "_view_module": "jupyter-leaflet",
            "_view_module_version": "^0.18",
            "_view_name": "LeafletFullScreenControlView",
            "options": [
              "position"
            ],
            "position": "topleft"
          }
        },
        "702219eae8804ff4a442d155afbd98ca": {
          "model_module": "jupyter-leaflet",
          "model_name": "LeafletDrawControlModel",
          "model_module_version": "^0.18",
          "state": {
            "_model_module": "jupyter-leaflet",
            "_model_module_version": "^0.18",
            "_model_name": "LeafletDrawControlModel",
            "_view_count": null,
            "_view_module": "jupyter-leaflet",
            "_view_module_version": "^0.18",
            "_view_name": "LeafletDrawControlView",
            "circle": {},
            "circlemarker": {},
            "data": [],
            "edit": true,
            "marker": {
              "shapeOptions": {
                "color": "#3388ff"
              }
            },
            "options": [
              "position"
            ],
            "polygon": {
              "shapeOptions": {}
            },
            "polyline": {
              "shapeOptions": {}
            },
            "position": "topleft",
            "rectangle": {
              "shapeOptions": {
                "color": "#3388ff"
              }
            },
            "remove": true
          }
        },
        "2e11d5fe07904587b5f149b2c4eaf846": {
          "model_module": "jupyter-leaflet",
          "model_name": "LeafletScaleControlModel",
          "model_module_version": "^0.18",
          "state": {
            "_model_module": "jupyter-leaflet",
            "_model_module_version": "^0.18",
            "_model_name": "LeafletScaleControlModel",
            "_view_count": null,
            "_view_module": "jupyter-leaflet",
            "_view_module_version": "^0.18",
            "_view_name": "LeafletScaleControlView",
            "imperial": true,
            "max_width": 100,
            "metric": true,
            "options": [
              "imperial",
              "max_width",
              "metric",
              "position",
              "update_when_idle"
            ],
            "position": "bottomleft",
            "update_when_idle": false
          }
        },
        "e2ca98e047f24fb9ad4003a770ae0505": {
          "model_module": "jupyter-leaflet",
          "model_name": "LeafletMeasureControlModel",
          "model_module_version": "^0.18",
          "state": {
            "_custom_units": {},
            "_model_module": "jupyter-leaflet",
            "_model_module_version": "^0.18",
            "_model_name": "LeafletMeasureControlModel",
            "_view_count": null,
            "_view_module": "jupyter-leaflet",
            "_view_module_version": "^0.18",
            "_view_name": "LeafletMeasureControlView",
            "active_color": "orange",
            "capture_z_index": 10000,
            "completed_color": "#C8F2BE",
            "options": [
              "active_color",
              "capture_z_index",
              "completed_color",
              "popup_options",
              "position",
              "primary_area_unit",
              "primary_length_unit",
              "secondary_area_unit",
              "secondary_length_unit"
            ],
            "popup_options": {
              "className": "leaflet-measure-resultpopup",
              "autoPanPadding": [
                10,
                10
              ]
            },
            "position": "bottomleft",
            "primary_area_unit": "acres",
            "primary_length_unit": "kilometers",
            "secondary_area_unit": null,
            "secondary_length_unit": null
          }
        },
        "35b217a826614ab6bd71fb71875db511": {
          "model_module": "jupyter-leaflet",
          "model_name": "LeafletWidgetControlModel",
          "model_module_version": "^0.18",
          "state": {
            "_model_module": "jupyter-leaflet",
            "_model_module_version": "^0.18",
            "_model_name": "LeafletWidgetControlModel",
            "_view_count": null,
            "_view_module": "jupyter-leaflet",
            "_view_module_version": "^0.18",
            "_view_name": "LeafletWidgetControlView",
            "max_height": null,
            "max_width": null,
            "min_height": null,
            "min_width": null,
            "options": [
              "position",
              "transparent_bg"
            ],
            "position": "topright",
            "transparent_bg": false,
            "widget": "IPY_MODEL_9cbd846331364ab19d579efe1a944f42"
          }
        },
        "b72775816c4d428d924a3b7d4114e28d": {
          "model_module": "jupyter-leaflet",
          "model_name": "LeafletAttributionControlModel",
          "model_module_version": "^0.18",
          "state": {
            "_model_module": "jupyter-leaflet",
            "_model_module_version": "^0.18",
            "_model_name": "LeafletAttributionControlModel",
            "_view_count": null,
            "_view_module": "jupyter-leaflet",
            "_view_module_version": "^0.18",
            "_view_name": "LeafletAttributionControlView",
            "options": [
              "position",
              "prefix"
            ],
            "position": "bottomright",
            "prefix": "ipyleaflet"
          }
        },
        "b305005a783640edb79ae0d4ec9622f9": {
          "model_module": "jupyter-leaflet",
          "model_name": "LeafletMapStyleModel",
          "model_module_version": "^0.18",
          "state": {
            "_model_module": "jupyter-leaflet",
            "_model_module_version": "^0.18",
            "_model_name": "LeafletMapStyleModel",
            "_view_count": null,
            "_view_module": "@jupyter-widgets/base",
            "_view_module_version": "1.2.0",
            "_view_name": "StyleView",
            "cursor": "grab"
          }
        },
        "3fa75263012a4d6ea19b599618cb91d9": {
          "model_module": "jupyter-leaflet",
          "model_name": "LeafletMapStyleModel",
          "model_module_version": "^0.18",
          "state": {
            "_model_module": "jupyter-leaflet",
            "_model_module_version": "^0.18",
            "_model_name": "LeafletMapStyleModel",
            "_view_count": null,
            "_view_module": "@jupyter-widgets/base",
            "_view_module_version": "1.2.0",
            "_view_name": "StyleView",
            "cursor": "move"
          }
        },
        "15688df739214721a0806f7766428af3": {
          "model_module": "jupyter-leaflet",
          "model_name": "LeafletTileLayerModel",
          "model_module_version": "^0.18",
          "state": {
            "_model_module": "jupyter-leaflet",
            "_model_module_version": "^0.18",
            "_model_name": "LeafletTileLayerModel",
            "_view_count": null,
            "_view_module": "jupyter-leaflet",
            "_view_module_version": "^0.18",
            "_view_name": "LeafletTileLayerView",
            "attribution": "&copy; <a href=\"https://www.openstreetmap.org/copyright\">OpenStreetMap</a> contributors",
            "base": true,
            "bottom": true,
            "bounds": null,
            "detect_retina": false,
            "loading": false,
            "max_native_zoom": null,
            "max_zoom": 19,
            "min_native_zoom": null,
            "min_zoom": 1,
            "name": "OpenStreetMap.Mapnik",
            "no_wrap": false,
            "opacity": 1,
            "options": [
              "attribution",
              "bounds",
              "detect_retina",
              "max_native_zoom",
              "max_zoom",
              "min_native_zoom",
              "min_zoom",
              "no_wrap",
              "tile_size",
              "tms",
              "zoom_offset"
            ],
            "pane": "",
            "popup": null,
            "popup_max_height": null,
            "popup_max_width": 300,
            "popup_min_width": 50,
            "show_loading": false,
            "subitems": [],
            "tile_size": 256,
            "tms": false,
            "url": "https://tile.openstreetmap.org/{z}/{x}/{y}.png",
            "visible": true,
            "zoom_offset": 0
          }
        },
        "615e8eb2ee2940419d9a6b4eb44cf622": {
          "model_module": "jupyter-leaflet",
          "model_name": "LeafletTileLayerModel",
          "model_module_version": "^0.18",
          "state": {
            "_model_module": "jupyter-leaflet",
            "_model_module_version": "^0.18",
            "_model_name": "LeafletTileLayerModel",
            "_view_count": null,
            "_view_module": "jupyter-leaflet",
            "_view_module_version": "^0.18",
            "_view_name": "LeafletTileLayerView",
            "attribution": "Google Earth Engine",
            "base": false,
            "bottom": true,
            "bounds": null,
            "detect_retina": false,
            "loading": false,
            "max_native_zoom": null,
            "max_zoom": 24,
            "min_native_zoom": null,
            "min_zoom": 0,
            "name": "AreaForPA",
            "no_wrap": false,
            "opacity": 1,
            "options": [
              "attribution",
              "bounds",
              "detect_retina",
              "max_native_zoom",
              "max_zoom",
              "min_native_zoom",
              "min_zoom",
              "no_wrap",
              "tile_size",
              "tms",
              "zoom_offset"
            ],
            "pane": "",
            "popup": null,
            "popup_max_height": null,
            "popup_max_width": 300,
            "popup_min_width": 50,
            "show_loading": false,
            "subitems": [],
            "tile_size": 256,
            "tms": false,
            "url": "https://earthengine.googleapis.com/v1/projects/ee-foss4g/maps/c9155fb76b2da09776a181b09c9d72dd-906264f6440442fa5b3fae0ac15e0e16/tiles/{z}/{x}/{y}",
            "visible": true,
            "zoom_offset": 0
          }
        },
        "e9d789a3e52b4b898de45b63da71378f": {
          "model_module": "@jupyter-widgets/base",
          "model_name": "LayoutModel",
          "model_module_version": "1.2.0",
          "state": {
            "_model_module": "@jupyter-widgets/base",
            "_model_module_version": "1.2.0",
            "_model_name": "LayoutModel",
            "_view_count": null,
            "_view_module": "@jupyter-widgets/base",
            "_view_module_version": "1.2.0",
            "_view_name": "LayoutView",
            "align_content": null,
            "align_items": null,
            "align_self": null,
            "border": null,
            "bottom": null,
            "display": null,
            "flex": null,
            "flex_flow": null,
            "grid_area": null,
            "grid_auto_columns": null,
            "grid_auto_flow": null,
            "grid_auto_rows": null,
            "grid_column": null,
            "grid_gap": null,
            "grid_row": null,
            "grid_template_areas": null,
            "grid_template_columns": null,
            "grid_template_rows": null,
            "height": "400px",
            "justify_content": null,
            "justify_items": null,
            "left": null,
            "margin": null,
            "max_height": null,
            "max_width": null,
            "min_height": null,
            "min_width": null,
            "object_fit": null,
            "object_position": null,
            "order": null,
            "overflow": null,
            "overflow_x": null,
            "overflow_y": null,
            "padding": null,
            "right": null,
            "top": null,
            "visibility": null,
            "width": "800px"
          }
        },
        "49fae19cd1c746a1a408d03eb49fbd79": {
          "model_module": "jupyter-leaflet",
          "model_name": "LeafletMapStyleModel",
          "model_module_version": "^0.18",
          "state": {
            "_model_module": "jupyter-leaflet",
            "_model_module_version": "^0.18",
            "_model_name": "LeafletMapStyleModel",
            "_view_count": null,
            "_view_module": "@jupyter-widgets/base",
            "_view_module_version": "1.2.0",
            "_view_name": "StyleView",
            "cursor": "grab"
          }
        },
        "2e531c033e0544e5b567a4c0c85c50e0": {
          "model_module": "@jupyter-widgets/controls",
          "model_name": "HBoxModel",
          "model_module_version": "1.5.0",
          "state": {
            "_dom_classes": [
              "geemap-colab"
            ],
            "_model_module": "@jupyter-widgets/controls",
            "_model_module_version": "1.5.0",
            "_model_name": "HBoxModel",
            "_view_count": null,
            "_view_module": "@jupyter-widgets/controls",
            "_view_module_version": "1.5.0",
            "_view_name": "HBoxView",
            "box_style": "",
            "children": [
              "IPY_MODEL_686d92a1ec12437db63efc5c9d20f6ca"
            ],
            "layout": "IPY_MODEL_94e02b7ac63e47ea90cde171a43f05c2"
          }
        },
        "9cbd846331364ab19d579efe1a944f42": {
          "model_module": "@jupyter-widgets/controls",
          "model_name": "VBoxModel",
          "model_module_version": "1.5.0",
          "state": {
            "_dom_classes": [
              "geemap-colab"
            ],
            "_model_module": "@jupyter-widgets/controls",
            "_model_module_version": "1.5.0",
            "_model_name": "VBoxModel",
            "_view_count": null,
            "_view_module": "@jupyter-widgets/controls",
            "_view_module_version": "1.5.0",
            "_view_name": "VBoxView",
            "box_style": "",
            "children": [
              "IPY_MODEL_91869cd596724f66b8f7d232379c9c8b"
            ],
            "layout": "IPY_MODEL_bee98148cdf74a8a83dee12c5ce7393c"
          }
        },
        "686d92a1ec12437db63efc5c9d20f6ca": {
          "model_module": "@jupyter-widgets/controls",
          "model_name": "ToggleButtonModel",
          "model_module_version": "1.5.0",
          "state": {
            "_dom_classes": [],
            "_model_module": "@jupyter-widgets/controls",
            "_model_module_version": "1.5.0",
            "_model_name": "ToggleButtonModel",
            "_view_count": null,
            "_view_module": "@jupyter-widgets/controls",
            "_view_module_version": "1.5.0",
            "_view_name": "ToggleButtonView",
            "button_style": "",
            "description": "",
            "description_tooltip": null,
            "disabled": false,
            "icon": "globe",
            "layout": "IPY_MODEL_857634abc79c427db880946d473de362",
            "style": "IPY_MODEL_4eb6f7def76a457ca9aae82776bdac1b",
            "tooltip": "Search location/data",
            "value": false
          }
        },
        "94e02b7ac63e47ea90cde171a43f05c2": {
          "model_module": "@jupyter-widgets/base",
          "model_name": "LayoutModel",
          "model_module_version": "1.2.0",
          "state": {
            "_model_module": "@jupyter-widgets/base",
            "_model_module_version": "1.2.0",
            "_model_name": "LayoutModel",
            "_view_count": null,
            "_view_module": "@jupyter-widgets/base",
            "_view_module_version": "1.2.0",
            "_view_name": "LayoutView",
            "align_content": null,
            "align_items": null,
            "align_self": null,
            "border": null,
            "bottom": null,
            "display": null,
            "flex": null,
            "flex_flow": null,
            "grid_area": null,
            "grid_auto_columns": null,
            "grid_auto_flow": null,
            "grid_auto_rows": null,
            "grid_column": null,
            "grid_gap": null,
            "grid_row": null,
            "grid_template_areas": null,
            "grid_template_columns": null,
            "grid_template_rows": null,
            "height": null,
            "justify_content": null,
            "justify_items": null,
            "left": null,
            "margin": null,
            "max_height": null,
            "max_width": null,
            "min_height": null,
            "min_width": null,
            "object_fit": null,
            "object_position": null,
            "order": null,
            "overflow": null,
            "overflow_x": null,
            "overflow_y": null,
            "padding": null,
            "right": null,
            "top": null,
            "visibility": null,
            "width": null
          }
        },
        "91869cd596724f66b8f7d232379c9c8b": {
          "model_module": "@jupyter-widgets/controls",
          "model_name": "ToggleButtonModel",
          "model_module_version": "1.5.0",
          "state": {
            "_dom_classes": [],
            "_model_module": "@jupyter-widgets/controls",
            "_model_module_version": "1.5.0",
            "_model_name": "ToggleButtonModel",
            "_view_count": null,
            "_view_module": "@jupyter-widgets/controls",
            "_view_module_version": "1.5.0",
            "_view_name": "ToggleButtonView",
            "button_style": "",
            "description": "",
            "description_tooltip": null,
            "disabled": false,
            "icon": "wrench",
            "layout": "IPY_MODEL_b7130b192d664019bacbcc9790172fd5",
            "style": "IPY_MODEL_29fdb10edc074af88d19a41c1e30df44",
            "tooltip": "Toolbar",
            "value": false
          }
        },
        "bee98148cdf74a8a83dee12c5ce7393c": {
          "model_module": "@jupyter-widgets/base",
          "model_name": "LayoutModel",
          "model_module_version": "1.2.0",
          "state": {
            "_model_module": "@jupyter-widgets/base",
            "_model_module_version": "1.2.0",
            "_model_name": "LayoutModel",
            "_view_count": null,
            "_view_module": "@jupyter-widgets/base",
            "_view_module_version": "1.2.0",
            "_view_name": "LayoutView",
            "align_content": null,
            "align_items": null,
            "align_self": null,
            "border": null,
            "bottom": null,
            "display": null,
            "flex": null,
            "flex_flow": null,
            "grid_area": null,
            "grid_auto_columns": null,
            "grid_auto_flow": null,
            "grid_auto_rows": null,
            "grid_column": null,
            "grid_gap": null,
            "grid_row": null,
            "grid_template_areas": null,
            "grid_template_columns": null,
            "grid_template_rows": null,
            "height": null,
            "justify_content": null,
            "justify_items": null,
            "left": null,
            "margin": null,
            "max_height": null,
            "max_width": null,
            "min_height": null,
            "min_width": null,
            "object_fit": null,
            "object_position": null,
            "order": null,
            "overflow": null,
            "overflow_x": null,
            "overflow_y": null,
            "padding": null,
            "right": null,
            "top": null,
            "visibility": null,
            "width": null
          }
        },
        "857634abc79c427db880946d473de362": {
          "model_module": "@jupyter-widgets/base",
          "model_name": "LayoutModel",
          "model_module_version": "1.2.0",
          "state": {
            "_model_module": "@jupyter-widgets/base",
            "_model_module_version": "1.2.0",
            "_model_name": "LayoutModel",
            "_view_count": null,
            "_view_module": "@jupyter-widgets/base",
            "_view_module_version": "1.2.0",
            "_view_name": "LayoutView",
            "align_content": null,
            "align_items": null,
            "align_self": null,
            "border": null,
            "bottom": null,
            "display": null,
            "flex": null,
            "flex_flow": null,
            "grid_area": null,
            "grid_auto_columns": null,
            "grid_auto_flow": null,
            "grid_auto_rows": null,
            "grid_column": null,
            "grid_gap": null,
            "grid_row": null,
            "grid_template_areas": null,
            "grid_template_columns": null,
            "grid_template_rows": null,
            "height": "28px",
            "justify_content": null,
            "justify_items": null,
            "left": null,
            "margin": null,
            "max_height": null,
            "max_width": null,
            "min_height": null,
            "min_width": null,
            "object_fit": null,
            "object_position": null,
            "order": null,
            "overflow": null,
            "overflow_x": null,
            "overflow_y": null,
            "padding": "0px 0px 0px 4px",
            "right": null,
            "top": null,
            "visibility": null,
            "width": "28px"
          }
        },
        "4eb6f7def76a457ca9aae82776bdac1b": {
          "model_module": "@jupyter-widgets/controls",
          "model_name": "DescriptionStyleModel",
          "model_module_version": "1.5.0",
          "state": {
            "_model_module": "@jupyter-widgets/controls",
            "_model_module_version": "1.5.0",
            "_model_name": "DescriptionStyleModel",
            "_view_count": null,
            "_view_module": "@jupyter-widgets/base",
            "_view_module_version": "1.2.0",
            "_view_name": "StyleView",
            "description_width": ""
          }
        },
        "b7130b192d664019bacbcc9790172fd5": {
          "model_module": "@jupyter-widgets/base",
          "model_name": "LayoutModel",
          "model_module_version": "1.2.0",
          "state": {
            "_model_module": "@jupyter-widgets/base",
            "_model_module_version": "1.2.0",
            "_model_name": "LayoutModel",
            "_view_count": null,
            "_view_module": "@jupyter-widgets/base",
            "_view_module_version": "1.2.0",
            "_view_name": "LayoutView",
            "align_content": null,
            "align_items": null,
            "align_self": null,
            "border": null,
            "bottom": null,
            "display": null,
            "flex": null,
            "flex_flow": null,
            "grid_area": null,
            "grid_auto_columns": null,
            "grid_auto_flow": null,
            "grid_auto_rows": null,
            "grid_column": null,
            "grid_gap": null,
            "grid_row": null,
            "grid_template_areas": null,
            "grid_template_columns": null,
            "grid_template_rows": null,
            "height": "28px",
            "justify_content": null,
            "justify_items": null,
            "left": null,
            "margin": null,
            "max_height": null,
            "max_width": null,
            "min_height": null,
            "min_width": null,
            "object_fit": null,
            "object_position": null,
            "order": null,
            "overflow": null,
            "overflow_x": null,
            "overflow_y": null,
            "padding": "0px 0px 0px 4px",
            "right": null,
            "top": null,
            "visibility": null,
            "width": "28px"
          }
        },
        "29fdb10edc074af88d19a41c1e30df44": {
          "model_module": "@jupyter-widgets/controls",
          "model_name": "DescriptionStyleModel",
          "model_module_version": "1.5.0",
          "state": {
            "_model_module": "@jupyter-widgets/controls",
            "_model_module_version": "1.5.0",
            "_model_name": "DescriptionStyleModel",
            "_view_count": null,
            "_view_module": "@jupyter-widgets/base",
            "_view_module_version": "1.2.0",
            "_view_name": "StyleView",
            "description_width": ""
          }
        },
        "894af872cbfe45d694dcdb68f9bcfa92": {
          "model_module": "jupyter-leaflet",
          "model_name": "LeafletMapModel",
          "model_module_version": "^0.18",
          "state": {
            "_dom_classes": [],
            "_model_module": "jupyter-leaflet",
            "_model_module_version": "^0.18",
            "_model_name": "LeafletMapModel",
            "_view_count": null,
            "_view_module": "jupyter-leaflet",
            "_view_module_version": "^0.18",
            "_view_name": "LeafletMapView",
            "bottom": 6656,
            "bounce_at_zoom_limits": true,
            "box_zoom": true,
            "center": [
              35.60541125576072,
              127.04873061439156
            ],
            "close_popup_on_click": true,
            "controls": [
              "IPY_MODEL_487ab6736af849f99bd206f9b22257a4",
              "IPY_MODEL_0f50bf8c6a82439bb638992b26a6399b",
              "IPY_MODEL_3ae4978f16a248ddad395e8115a89b00",
              "IPY_MODEL_005fb30e9512480f8b141d056cffb744",
              "IPY_MODEL_c5fbaf175e9a42e3952ed1261e3ba5b3",
              "IPY_MODEL_8d529b8cec0c44c7a25ab748074f0476",
              "IPY_MODEL_f5cdfa6fbdd342e7a2d0747064e59075",
              "IPY_MODEL_a61f69de5b434edc970dab00d46f4eb0"
            ],
            "crs": {
              "name": "EPSG3857",
              "custom": false
            },
            "default_style": "IPY_MODEL_28a055763be74314a112881dfdf6418f",
            "double_click_zoom": true,
            "dragging": true,
            "dragging_style": "IPY_MODEL_45c7622cee89419db5ec8a23839a71e8",
            "east": 135.83496093750003,
            "fullscreen": false,
            "inertia": true,
            "inertia_deceleration": 3000,
            "inertia_max_speed": 1500,
            "interpolation": "bilinear",
            "keyboard": true,
            "keyboard_pan_offset": 80,
            "keyboard_zoom_offset": 1,
            "layers": [
              "IPY_MODEL_4a55a1d4e7b84ed291e6388f359e1daa",
              "IPY_MODEL_83f8c1d133ec43658d2b924f248a7b29"
            ],
            "layout": "IPY_MODEL_e093c1a4f54741069e7e3f365c3a5231",
            "left": 13574,
            "max_zoom": 24,
            "min_zoom": null,
            "modisdate": "2024-05-25",
            "north": 39.095962936305476,
            "options": [
              "bounce_at_zoom_limits",
              "box_zoom",
              "center",
              "close_popup_on_click",
              "double_click_zoom",
              "dragging",
              "fullscreen",
              "inertia",
              "inertia_deceleration",
              "inertia_max_speed",
              "interpolation",
              "keyboard",
              "keyboard_pan_offset",
              "keyboard_zoom_offset",
              "max_zoom",
              "min_zoom",
              "prefer_canvas",
              "scroll_wheel_zoom",
              "tap",
              "tap_tolerance",
              "touch_zoom",
              "world_copy_jump",
              "zoom",
              "zoom_animation_threshold",
              "zoom_delta",
              "zoom_snap"
            ],
            "panes": {},
            "prefer_canvas": false,
            "right": 14374,
            "scroll_wheel_zoom": true,
            "south": 31.952162238024975,
            "style": "IPY_MODEL_bc61cab11e24411c8e222921808d3d4a",
            "tap": true,
            "tap_tolerance": 15,
            "top": 6256,
            "touch_zoom": true,
            "west": 118.25683593750001,
            "window_url": "https://ioysqj54nq-496ff2e9c6d22116-0-colab.googleusercontent.com/outputframe.html?vrz=colab_20240523-060110_RC00_636443439",
            "world_copy_jump": false,
            "zoom": 6,
            "zoom_animation_threshold": 4,
            "zoom_delta": 1,
            "zoom_snap": 1
          }
        },
        "487ab6736af849f99bd206f9b22257a4": {
          "model_module": "jupyter-leaflet",
          "model_name": "LeafletWidgetControlModel",
          "model_module_version": "^0.18",
          "state": {
            "_model_module": "jupyter-leaflet",
            "_model_module_version": "^0.18",
            "_model_name": "LeafletWidgetControlModel",
            "_view_count": null,
            "_view_module": "jupyter-leaflet",
            "_view_module_version": "^0.18",
            "_view_name": "LeafletWidgetControlView",
            "max_height": null,
            "max_width": null,
            "min_height": null,
            "min_width": null,
            "options": [
              "position",
              "transparent_bg"
            ],
            "position": "topleft",
            "transparent_bg": false,
            "widget": "IPY_MODEL_bb51bb6e5b35495b80b1645e362ce33e"
          }
        },
        "0f50bf8c6a82439bb638992b26a6399b": {
          "model_module": "jupyter-leaflet",
          "model_name": "LeafletZoomControlModel",
          "model_module_version": "^0.18",
          "state": {
            "_model_module": "jupyter-leaflet",
            "_model_module_version": "^0.18",
            "_model_name": "LeafletZoomControlModel",
            "_view_count": null,
            "_view_module": "jupyter-leaflet",
            "_view_module_version": "^0.18",
            "_view_name": "LeafletZoomControlView",
            "options": [
              "position",
              "zoom_in_text",
              "zoom_in_title",
              "zoom_out_text",
              "zoom_out_title"
            ],
            "position": "topleft",
            "zoom_in_text": "+",
            "zoom_in_title": "Zoom in",
            "zoom_out_text": "-",
            "zoom_out_title": "Zoom out"
          }
        },
        "3ae4978f16a248ddad395e8115a89b00": {
          "model_module": "jupyter-leaflet",
          "model_name": "LeafletFullScreenControlModel",
          "model_module_version": "^0.18",
          "state": {
            "_model_module": "jupyter-leaflet",
            "_model_module_version": "^0.18",
            "_model_name": "LeafletFullScreenControlModel",
            "_view_count": null,
            "_view_module": "jupyter-leaflet",
            "_view_module_version": "^0.18",
            "_view_name": "LeafletFullScreenControlView",
            "options": [
              "position"
            ],
            "position": "topleft"
          }
        },
        "005fb30e9512480f8b141d056cffb744": {
          "model_module": "jupyter-leaflet",
          "model_name": "LeafletDrawControlModel",
          "model_module_version": "^0.18",
          "state": {
            "_model_module": "jupyter-leaflet",
            "_model_module_version": "^0.18",
            "_model_name": "LeafletDrawControlModel",
            "_view_count": null,
            "_view_module": "jupyter-leaflet",
            "_view_module_version": "^0.18",
            "_view_name": "LeafletDrawControlView",
            "circle": {},
            "circlemarker": {},
            "data": [],
            "edit": true,
            "marker": {
              "shapeOptions": {
                "color": "#3388ff"
              }
            },
            "options": [
              "position"
            ],
            "polygon": {
              "shapeOptions": {}
            },
            "polyline": {
              "shapeOptions": {}
            },
            "position": "topleft",
            "rectangle": {
              "shapeOptions": {
                "color": "#3388ff"
              }
            },
            "remove": true
          }
        },
        "c5fbaf175e9a42e3952ed1261e3ba5b3": {
          "model_module": "jupyter-leaflet",
          "model_name": "LeafletScaleControlModel",
          "model_module_version": "^0.18",
          "state": {
            "_model_module": "jupyter-leaflet",
            "_model_module_version": "^0.18",
            "_model_name": "LeafletScaleControlModel",
            "_view_count": null,
            "_view_module": "jupyter-leaflet",
            "_view_module_version": "^0.18",
            "_view_name": "LeafletScaleControlView",
            "imperial": true,
            "max_width": 100,
            "metric": true,
            "options": [
              "imperial",
              "max_width",
              "metric",
              "position",
              "update_when_idle"
            ],
            "position": "bottomleft",
            "update_when_idle": false
          }
        },
        "8d529b8cec0c44c7a25ab748074f0476": {
          "model_module": "jupyter-leaflet",
          "model_name": "LeafletMeasureControlModel",
          "model_module_version": "^0.18",
          "state": {
            "_custom_units": {},
            "_model_module": "jupyter-leaflet",
            "_model_module_version": "^0.18",
            "_model_name": "LeafletMeasureControlModel",
            "_view_count": null,
            "_view_module": "jupyter-leaflet",
            "_view_module_version": "^0.18",
            "_view_name": "LeafletMeasureControlView",
            "active_color": "orange",
            "capture_z_index": 10000,
            "completed_color": "#C8F2BE",
            "options": [
              "active_color",
              "capture_z_index",
              "completed_color",
              "popup_options",
              "position",
              "primary_area_unit",
              "primary_length_unit",
              "secondary_area_unit",
              "secondary_length_unit"
            ],
            "popup_options": {
              "className": "leaflet-measure-resultpopup",
              "autoPanPadding": [
                10,
                10
              ]
            },
            "position": "bottomleft",
            "primary_area_unit": "acres",
            "primary_length_unit": "kilometers",
            "secondary_area_unit": null,
            "secondary_length_unit": null
          }
        },
        "f5cdfa6fbdd342e7a2d0747064e59075": {
          "model_module": "jupyter-leaflet",
          "model_name": "LeafletWidgetControlModel",
          "model_module_version": "^0.18",
          "state": {
            "_model_module": "jupyter-leaflet",
            "_model_module_version": "^0.18",
            "_model_name": "LeafletWidgetControlModel",
            "_view_count": null,
            "_view_module": "jupyter-leaflet",
            "_view_module_version": "^0.18",
            "_view_name": "LeafletWidgetControlView",
            "max_height": null,
            "max_width": null,
            "min_height": null,
            "min_width": null,
            "options": [
              "position",
              "transparent_bg"
            ],
            "position": "topright",
            "transparent_bg": false,
            "widget": "IPY_MODEL_9d2c66c9d3194c05acc6ce570b8355fc"
          }
        },
        "a61f69de5b434edc970dab00d46f4eb0": {
          "model_module": "jupyter-leaflet",
          "model_name": "LeafletAttributionControlModel",
          "model_module_version": "^0.18",
          "state": {
            "_model_module": "jupyter-leaflet",
            "_model_module_version": "^0.18",
            "_model_name": "LeafletAttributionControlModel",
            "_view_count": null,
            "_view_module": "jupyter-leaflet",
            "_view_module_version": "^0.18",
            "_view_name": "LeafletAttributionControlView",
            "options": [
              "position",
              "prefix"
            ],
            "position": "bottomright",
            "prefix": "ipyleaflet"
          }
        },
        "28a055763be74314a112881dfdf6418f": {
          "model_module": "jupyter-leaflet",
          "model_name": "LeafletMapStyleModel",
          "model_module_version": "^0.18",
          "state": {
            "_model_module": "jupyter-leaflet",
            "_model_module_version": "^0.18",
            "_model_name": "LeafletMapStyleModel",
            "_view_count": null,
            "_view_module": "@jupyter-widgets/base",
            "_view_module_version": "1.2.0",
            "_view_name": "StyleView",
            "cursor": "grab"
          }
        },
        "45c7622cee89419db5ec8a23839a71e8": {
          "model_module": "jupyter-leaflet",
          "model_name": "LeafletMapStyleModel",
          "model_module_version": "^0.18",
          "state": {
            "_model_module": "jupyter-leaflet",
            "_model_module_version": "^0.18",
            "_model_name": "LeafletMapStyleModel",
            "_view_count": null,
            "_view_module": "@jupyter-widgets/base",
            "_view_module_version": "1.2.0",
            "_view_name": "StyleView",
            "cursor": "move"
          }
        },
        "4a55a1d4e7b84ed291e6388f359e1daa": {
          "model_module": "jupyter-leaflet",
          "model_name": "LeafletTileLayerModel",
          "model_module_version": "^0.18",
          "state": {
            "_model_module": "jupyter-leaflet",
            "_model_module_version": "^0.18",
            "_model_name": "LeafletTileLayerModel",
            "_view_count": null,
            "_view_module": "jupyter-leaflet",
            "_view_module_version": "^0.18",
            "_view_name": "LeafletTileLayerView",
            "attribution": "&copy; <a href=\"https://www.openstreetmap.org/copyright\">OpenStreetMap</a> contributors",
            "base": true,
            "bottom": true,
            "bounds": null,
            "detect_retina": false,
            "loading": false,
            "max_native_zoom": null,
            "max_zoom": 19,
            "min_native_zoom": null,
            "min_zoom": 1,
            "name": "OpenStreetMap.Mapnik",
            "no_wrap": false,
            "opacity": 1,
            "options": [
              "attribution",
              "bounds",
              "detect_retina",
              "max_native_zoom",
              "max_zoom",
              "min_native_zoom",
              "min_zoom",
              "no_wrap",
              "tile_size",
              "tms",
              "zoom_offset"
            ],
            "pane": "",
            "popup": null,
            "popup_max_height": null,
            "popup_max_width": 300,
            "popup_min_width": 50,
            "show_loading": false,
            "subitems": [],
            "tile_size": 256,
            "tms": false,
            "url": "https://tile.openstreetmap.org/{z}/{x}/{y}.png",
            "visible": true,
            "zoom_offset": 0
          }
        },
        "83f8c1d133ec43658d2b924f248a7b29": {
          "model_module": "jupyter-leaflet",
          "model_name": "LeafletTileLayerModel",
          "model_module_version": "^0.18",
          "state": {
            "_model_module": "jupyter-leaflet",
            "_model_module_version": "^0.18",
            "_model_name": "LeafletTileLayerModel",
            "_view_count": null,
            "_view_module": "jupyter-leaflet",
            "_view_module_version": "^0.18",
            "_view_name": "LeafletTileLayerView",
            "attribution": "Google Earth Engine",
            "base": false,
            "bottom": true,
            "bounds": null,
            "detect_retina": false,
            "loading": false,
            "max_native_zoom": null,
            "max_zoom": 24,
            "min_native_zoom": null,
            "min_zoom": 0,
            "name": "AreaForPA",
            "no_wrap": false,
            "opacity": 1,
            "options": [
              "attribution",
              "bounds",
              "detect_retina",
              "max_native_zoom",
              "max_zoom",
              "min_native_zoom",
              "min_zoom",
              "no_wrap",
              "tile_size",
              "tms",
              "zoom_offset"
            ],
            "pane": "",
            "popup": null,
            "popup_max_height": null,
            "popup_max_width": 300,
            "popup_min_width": 50,
            "show_loading": false,
            "subitems": [],
            "tile_size": 256,
            "tms": false,
            "url": "https://earthengine.googleapis.com/v1/projects/ee-foss4g/maps/c9155fb76b2da09776a181b09c9d72dd-84d76793dce01556a318aae3139c3316/tiles/{z}/{x}/{y}",
            "visible": true,
            "zoom_offset": 0
          }
        },
        "e093c1a4f54741069e7e3f365c3a5231": {
          "model_module": "@jupyter-widgets/base",
          "model_name": "LayoutModel",
          "model_module_version": "1.2.0",
          "state": {
            "_model_module": "@jupyter-widgets/base",
            "_model_module_version": "1.2.0",
            "_model_name": "LayoutModel",
            "_view_count": null,
            "_view_module": "@jupyter-widgets/base",
            "_view_module_version": "1.2.0",
            "_view_name": "LayoutView",
            "align_content": null,
            "align_items": null,
            "align_self": null,
            "border": null,
            "bottom": null,
            "display": null,
            "flex": null,
            "flex_flow": null,
            "grid_area": null,
            "grid_auto_columns": null,
            "grid_auto_flow": null,
            "grid_auto_rows": null,
            "grid_column": null,
            "grid_gap": null,
            "grid_row": null,
            "grid_template_areas": null,
            "grid_template_columns": null,
            "grid_template_rows": null,
            "height": "400px",
            "justify_content": null,
            "justify_items": null,
            "left": null,
            "margin": null,
            "max_height": null,
            "max_width": null,
            "min_height": null,
            "min_width": null,
            "object_fit": null,
            "object_position": null,
            "order": null,
            "overflow": null,
            "overflow_x": null,
            "overflow_y": null,
            "padding": null,
            "right": null,
            "top": null,
            "visibility": null,
            "width": "800px"
          }
        },
        "bc61cab11e24411c8e222921808d3d4a": {
          "model_module": "jupyter-leaflet",
          "model_name": "LeafletMapStyleModel",
          "model_module_version": "^0.18",
          "state": {
            "_model_module": "jupyter-leaflet",
            "_model_module_version": "^0.18",
            "_model_name": "LeafletMapStyleModel",
            "_view_count": null,
            "_view_module": "@jupyter-widgets/base",
            "_view_module_version": "1.2.0",
            "_view_name": "StyleView",
            "cursor": "grab"
          }
        },
        "bb51bb6e5b35495b80b1645e362ce33e": {
          "model_module": "@jupyter-widgets/controls",
          "model_name": "HBoxModel",
          "model_module_version": "1.5.0",
          "state": {
            "_dom_classes": [
              "geemap-colab"
            ],
            "_model_module": "@jupyter-widgets/controls",
            "_model_module_version": "1.5.0",
            "_model_name": "HBoxModel",
            "_view_count": null,
            "_view_module": "@jupyter-widgets/controls",
            "_view_module_version": "1.5.0",
            "_view_name": "HBoxView",
            "box_style": "",
            "children": [
              "IPY_MODEL_35fbd77c9c394264996b8b7dbf95d56d"
            ],
            "layout": "IPY_MODEL_7565067b85c242f0a524679a50a62ef2"
          }
        },
        "9d2c66c9d3194c05acc6ce570b8355fc": {
          "model_module": "@jupyter-widgets/controls",
          "model_name": "VBoxModel",
          "model_module_version": "1.5.0",
          "state": {
            "_dom_classes": [
              "geemap-colab"
            ],
            "_model_module": "@jupyter-widgets/controls",
            "_model_module_version": "1.5.0",
            "_model_name": "VBoxModel",
            "_view_count": null,
            "_view_module": "@jupyter-widgets/controls",
            "_view_module_version": "1.5.0",
            "_view_name": "VBoxView",
            "box_style": "",
            "children": [
              "IPY_MODEL_9e01a52c88fe41afab3ce82364f52dfe",
              "IPY_MODEL_027dfc5f49204f62a434bb9ae41e8478"
            ],
            "layout": "IPY_MODEL_4514163ba9e544bdb262de585477a972"
          }
        },
        "35fbd77c9c394264996b8b7dbf95d56d": {
          "model_module": "@jupyter-widgets/controls",
          "model_name": "ToggleButtonModel",
          "model_module_version": "1.5.0",
          "state": {
            "_dom_classes": [],
            "_model_module": "@jupyter-widgets/controls",
            "_model_module_version": "1.5.0",
            "_model_name": "ToggleButtonModel",
            "_view_count": null,
            "_view_module": "@jupyter-widgets/controls",
            "_view_module_version": "1.5.0",
            "_view_name": "ToggleButtonView",
            "button_style": "",
            "description": "",
            "description_tooltip": null,
            "disabled": false,
            "icon": "globe",
            "layout": "IPY_MODEL_89c3a7daade24df8970864459c2fb0db",
            "style": "IPY_MODEL_f8e3fe1a4d39462c877a1c25eaf109b6",
            "tooltip": "Search location/data",
            "value": false
          }
        },
        "7565067b85c242f0a524679a50a62ef2": {
          "model_module": "@jupyter-widgets/base",
          "model_name": "LayoutModel",
          "model_module_version": "1.2.0",
          "state": {
            "_model_module": "@jupyter-widgets/base",
            "_model_module_version": "1.2.0",
            "_model_name": "LayoutModel",
            "_view_count": null,
            "_view_module": "@jupyter-widgets/base",
            "_view_module_version": "1.2.0",
            "_view_name": "LayoutView",
            "align_content": null,
            "align_items": null,
            "align_self": null,
            "border": null,
            "bottom": null,
            "display": null,
            "flex": null,
            "flex_flow": null,
            "grid_area": null,
            "grid_auto_columns": null,
            "grid_auto_flow": null,
            "grid_auto_rows": null,
            "grid_column": null,
            "grid_gap": null,
            "grid_row": null,
            "grid_template_areas": null,
            "grid_template_columns": null,
            "grid_template_rows": null,
            "height": null,
            "justify_content": null,
            "justify_items": null,
            "left": null,
            "margin": null,
            "max_height": null,
            "max_width": null,
            "min_height": null,
            "min_width": null,
            "object_fit": null,
            "object_position": null,
            "order": null,
            "overflow": null,
            "overflow_x": null,
            "overflow_y": null,
            "padding": null,
            "right": null,
            "top": null,
            "visibility": null,
            "width": null
          }
        },
        "c91ef9ae608248ea9b6e4328052e4516": {
          "model_module": "@jupyter-widgets/controls",
          "model_name": "ToggleButtonModel",
          "model_module_version": "1.5.0",
          "state": {
            "_dom_classes": [],
            "_model_module": "@jupyter-widgets/controls",
            "_model_module_version": "1.5.0",
            "_model_name": "ToggleButtonModel",
            "_view_count": null,
            "_view_module": "@jupyter-widgets/controls",
            "_view_module_version": "1.5.0",
            "_view_name": "ToggleButtonView",
            "button_style": "",
            "description": "",
            "description_tooltip": null,
            "disabled": false,
            "icon": "wrench",
            "layout": "IPY_MODEL_e943a1e9e5a646709cd3a00d4f7d4c0a",
            "style": "IPY_MODEL_c497d2fc89f245ba97aa1ff8502b1d20",
            "tooltip": "Toolbar",
            "value": true
          }
        },
        "4514163ba9e544bdb262de585477a972": {
          "model_module": "@jupyter-widgets/base",
          "model_name": "LayoutModel",
          "model_module_version": "1.2.0",
          "state": {
            "_model_module": "@jupyter-widgets/base",
            "_model_module_version": "1.2.0",
            "_model_name": "LayoutModel",
            "_view_count": null,
            "_view_module": "@jupyter-widgets/base",
            "_view_module_version": "1.2.0",
            "_view_name": "LayoutView",
            "align_content": null,
            "align_items": null,
            "align_self": null,
            "border": null,
            "bottom": null,
            "display": null,
            "flex": null,
            "flex_flow": null,
            "grid_area": null,
            "grid_auto_columns": null,
            "grid_auto_flow": null,
            "grid_auto_rows": null,
            "grid_column": null,
            "grid_gap": null,
            "grid_row": null,
            "grid_template_areas": null,
            "grid_template_columns": null,
            "grid_template_rows": null,
            "height": null,
            "justify_content": null,
            "justify_items": null,
            "left": null,
            "margin": null,
            "max_height": null,
            "max_width": null,
            "min_height": null,
            "min_width": null,
            "object_fit": null,
            "object_position": null,
            "order": null,
            "overflow": null,
            "overflow_x": null,
            "overflow_y": null,
            "padding": null,
            "right": null,
            "top": null,
            "visibility": null,
            "width": null
          }
        },
        "89c3a7daade24df8970864459c2fb0db": {
          "model_module": "@jupyter-widgets/base",
          "model_name": "LayoutModel",
          "model_module_version": "1.2.0",
          "state": {
            "_model_module": "@jupyter-widgets/base",
            "_model_module_version": "1.2.0",
            "_model_name": "LayoutModel",
            "_view_count": null,
            "_view_module": "@jupyter-widgets/base",
            "_view_module_version": "1.2.0",
            "_view_name": "LayoutView",
            "align_content": null,
            "align_items": null,
            "align_self": null,
            "border": null,
            "bottom": null,
            "display": null,
            "flex": null,
            "flex_flow": null,
            "grid_area": null,
            "grid_auto_columns": null,
            "grid_auto_flow": null,
            "grid_auto_rows": null,
            "grid_column": null,
            "grid_gap": null,
            "grid_row": null,
            "grid_template_areas": null,
            "grid_template_columns": null,
            "grid_template_rows": null,
            "height": "28px",
            "justify_content": null,
            "justify_items": null,
            "left": null,
            "margin": null,
            "max_height": null,
            "max_width": null,
            "min_height": null,
            "min_width": null,
            "object_fit": null,
            "object_position": null,
            "order": null,
            "overflow": null,
            "overflow_x": null,
            "overflow_y": null,
            "padding": "0px 0px 0px 4px",
            "right": null,
            "top": null,
            "visibility": null,
            "width": "28px"
          }
        },
        "f8e3fe1a4d39462c877a1c25eaf109b6": {
          "model_module": "@jupyter-widgets/controls",
          "model_name": "DescriptionStyleModel",
          "model_module_version": "1.5.0",
          "state": {
            "_model_module": "@jupyter-widgets/controls",
            "_model_module_version": "1.5.0",
            "_model_name": "DescriptionStyleModel",
            "_view_count": null,
            "_view_module": "@jupyter-widgets/base",
            "_view_module_version": "1.2.0",
            "_view_name": "StyleView",
            "description_width": ""
          }
        },
        "e943a1e9e5a646709cd3a00d4f7d4c0a": {
          "model_module": "@jupyter-widgets/base",
          "model_name": "LayoutModel",
          "model_module_version": "1.2.0",
          "state": {
            "_model_module": "@jupyter-widgets/base",
            "_model_module_version": "1.2.0",
            "_model_name": "LayoutModel",
            "_view_count": null,
            "_view_module": "@jupyter-widgets/base",
            "_view_module_version": "1.2.0",
            "_view_name": "LayoutView",
            "align_content": null,
            "align_items": null,
            "align_self": null,
            "border": null,
            "bottom": null,
            "display": null,
            "flex": null,
            "flex_flow": null,
            "grid_area": null,
            "grid_auto_columns": null,
            "grid_auto_flow": null,
            "grid_auto_rows": null,
            "grid_column": null,
            "grid_gap": null,
            "grid_row": null,
            "grid_template_areas": null,
            "grid_template_columns": null,
            "grid_template_rows": null,
            "height": "28px",
            "justify_content": null,
            "justify_items": null,
            "left": null,
            "margin": null,
            "max_height": null,
            "max_width": null,
            "min_height": null,
            "min_width": null,
            "object_fit": null,
            "object_position": null,
            "order": null,
            "overflow": null,
            "overflow_x": null,
            "overflow_y": null,
            "padding": "0px 0px 0px 4px",
            "right": null,
            "top": null,
            "visibility": null,
            "width": "28px"
          }
        },
        "c497d2fc89f245ba97aa1ff8502b1d20": {
          "model_module": "@jupyter-widgets/controls",
          "model_name": "DescriptionStyleModel",
          "model_module_version": "1.5.0",
          "state": {
            "_model_module": "@jupyter-widgets/controls",
            "_model_module_version": "1.5.0",
            "_model_name": "DescriptionStyleModel",
            "_view_count": null,
            "_view_module": "@jupyter-widgets/base",
            "_view_module_version": "1.2.0",
            "_view_name": "StyleView",
            "description_width": ""
          }
        },
        "9e01a52c88fe41afab3ce82364f52dfe": {
          "model_module": "@jupyter-widgets/controls",
          "model_name": "HBoxModel",
          "model_module_version": "1.5.0",
          "state": {
            "_dom_classes": [],
            "_model_module": "@jupyter-widgets/controls",
            "_model_module_version": "1.5.0",
            "_model_name": "HBoxModel",
            "_view_count": null,
            "_view_module": "@jupyter-widgets/controls",
            "_view_module_version": "1.5.0",
            "_view_name": "HBoxView",
            "box_style": "",
            "children": [
              "IPY_MODEL_62235a46e5a9432e9070559f5fef444d",
              "IPY_MODEL_c91ef9ae608248ea9b6e4328052e4516"
            ],
            "layout": "IPY_MODEL_5e53562ad8844555b8aca14f778ee417"
          }
        },
        "027dfc5f49204f62a434bb9ae41e8478": {
          "model_module": "@jupyter-widgets/controls",
          "model_name": "VBoxModel",
          "model_module_version": "1.5.0",
          "state": {
            "_dom_classes": [],
            "_model_module": "@jupyter-widgets/controls",
            "_model_module_version": "1.5.0",
            "_model_name": "VBoxModel",
            "_view_count": null,
            "_view_module": "@jupyter-widgets/controls",
            "_view_module_version": "1.5.0",
            "_view_name": "VBoxView",
            "box_style": "",
            "children": [
              "IPY_MODEL_8d0f75f03c3c497ab15a5e6618500c89"
            ],
            "layout": "IPY_MODEL_d5990150ba48405bb8fac48ce6391e79"
          }
        },
        "62235a46e5a9432e9070559f5fef444d": {
          "model_module": "@jupyter-widgets/controls",
          "model_name": "ToggleButtonModel",
          "model_module_version": "1.5.0",
          "state": {
            "_dom_classes": [],
            "_model_module": "@jupyter-widgets/controls",
            "_model_module_version": "1.5.0",
            "_model_name": "ToggleButtonModel",
            "_view_count": null,
            "_view_module": "@jupyter-widgets/controls",
            "_view_module_version": "1.5.0",
            "_view_name": "ToggleButtonView",
            "button_style": "",
            "description": "",
            "description_tooltip": null,
            "disabled": false,
            "icon": "server",
            "layout": "IPY_MODEL_761a731c80a04167babcf82b09b4dc7c",
            "style": "IPY_MODEL_a726471e43b348ac9d5a62f1a4e363e0",
            "tooltip": "Layers",
            "value": true
          }
        },
        "5e53562ad8844555b8aca14f778ee417": {
          "model_module": "@jupyter-widgets/base",
          "model_name": "LayoutModel",
          "model_module_version": "1.2.0",
          "state": {
            "_model_module": "@jupyter-widgets/base",
            "_model_module_version": "1.2.0",
            "_model_name": "LayoutModel",
            "_view_count": null,
            "_view_module": "@jupyter-widgets/base",
            "_view_module_version": "1.2.0",
            "_view_name": "LayoutView",
            "align_content": null,
            "align_items": null,
            "align_self": null,
            "border": null,
            "bottom": null,
            "display": null,
            "flex": null,
            "flex_flow": null,
            "grid_area": null,
            "grid_auto_columns": null,
            "grid_auto_flow": null,
            "grid_auto_rows": null,
            "grid_column": null,
            "grid_gap": null,
            "grid_row": null,
            "grid_template_areas": null,
            "grid_template_columns": null,
            "grid_template_rows": null,
            "height": null,
            "justify_content": null,
            "justify_items": null,
            "left": null,
            "margin": null,
            "max_height": null,
            "max_width": null,
            "min_height": null,
            "min_width": null,
            "object_fit": null,
            "object_position": null,
            "order": null,
            "overflow": null,
            "overflow_x": null,
            "overflow_y": null,
            "padding": null,
            "right": null,
            "top": null,
            "visibility": null,
            "width": null
          }
        },
        "76fc8315a12c4e74abf6f6e73c9bb655": {
          "model_module": "@jupyter-widgets/controls",
          "model_name": "GridBoxModel",
          "model_module_version": "1.5.0",
          "state": {
            "_dom_classes": [],
            "_model_module": "@jupyter-widgets/controls",
            "_model_module_version": "1.5.0",
            "_model_name": "GridBoxModel",
            "_view_count": null,
            "_view_module": "@jupyter-widgets/controls",
            "_view_module_version": "1.5.0",
            "_view_name": "GridBoxView",
            "box_style": "",
            "children": [
              "IPY_MODEL_7fc82b12161d4e3298291f4061089907",
              "IPY_MODEL_988ae06a2d034061a63abede09765c4b",
              "IPY_MODEL_67832f13b7ef42e6a14f8a33551bc743",
              "IPY_MODEL_e469b4a9e7cf4fbba573c36de65335e5",
              "IPY_MODEL_e5fa2dac24fe4c1b98befbf17effae42",
              "IPY_MODEL_4f10503308eb46b2b1925a4cb4bacfe3"
            ],
            "layout": "IPY_MODEL_5140a8450b4040459e4b3ad253a9c653"
          }
        },
        "d5990150ba48405bb8fac48ce6391e79": {
          "model_module": "@jupyter-widgets/base",
          "model_name": "LayoutModel",
          "model_module_version": "1.2.0",
          "state": {
            "_model_module": "@jupyter-widgets/base",
            "_model_module_version": "1.2.0",
            "_model_name": "LayoutModel",
            "_view_count": null,
            "_view_module": "@jupyter-widgets/base",
            "_view_module_version": "1.2.0",
            "_view_name": "LayoutView",
            "align_content": null,
            "align_items": null,
            "align_self": null,
            "border": null,
            "bottom": null,
            "display": null,
            "flex": null,
            "flex_flow": null,
            "grid_area": null,
            "grid_auto_columns": null,
            "grid_auto_flow": null,
            "grid_auto_rows": null,
            "grid_column": null,
            "grid_gap": null,
            "grid_row": null,
            "grid_template_areas": null,
            "grid_template_columns": null,
            "grid_template_rows": null,
            "height": null,
            "justify_content": null,
            "justify_items": null,
            "left": null,
            "margin": null,
            "max_height": null,
            "max_width": null,
            "min_height": null,
            "min_width": null,
            "object_fit": null,
            "object_position": null,
            "order": null,
            "overflow": null,
            "overflow_x": null,
            "overflow_y": null,
            "padding": null,
            "right": null,
            "top": null,
            "visibility": null,
            "width": null
          }
        },
        "761a731c80a04167babcf82b09b4dc7c": {
          "model_module": "@jupyter-widgets/base",
          "model_name": "LayoutModel",
          "model_module_version": "1.2.0",
          "state": {
            "_model_module": "@jupyter-widgets/base",
            "_model_module_version": "1.2.0",
            "_model_name": "LayoutModel",
            "_view_count": null,
            "_view_module": "@jupyter-widgets/base",
            "_view_module_version": "1.2.0",
            "_view_name": "LayoutView",
            "align_content": null,
            "align_items": null,
            "align_self": null,
            "border": null,
            "bottom": null,
            "display": null,
            "flex": null,
            "flex_flow": null,
            "grid_area": null,
            "grid_auto_columns": null,
            "grid_auto_flow": null,
            "grid_auto_rows": null,
            "grid_column": null,
            "grid_gap": null,
            "grid_row": null,
            "grid_template_areas": null,
            "grid_template_columns": null,
            "grid_template_rows": null,
            "height": "28px",
            "justify_content": null,
            "justify_items": null,
            "left": null,
            "margin": null,
            "max_height": null,
            "max_width": null,
            "min_height": null,
            "min_width": null,
            "object_fit": null,
            "object_position": null,
            "order": null,
            "overflow": null,
            "overflow_x": null,
            "overflow_y": null,
            "padding": null,
            "right": null,
            "top": null,
            "visibility": null,
            "width": "72px"
          }
        },
        "a726471e43b348ac9d5a62f1a4e363e0": {
          "model_module": "@jupyter-widgets/controls",
          "model_name": "DescriptionStyleModel",
          "model_module_version": "1.5.0",
          "state": {
            "_model_module": "@jupyter-widgets/controls",
            "_model_module_version": "1.5.0",
            "_model_name": "DescriptionStyleModel",
            "_view_count": null,
            "_view_module": "@jupyter-widgets/base",
            "_view_module_version": "1.2.0",
            "_view_name": "StyleView",
            "description_width": ""
          }
        },
        "7fc82b12161d4e3298291f4061089907": {
          "model_module": "@jupyter-widgets/controls",
          "model_name": "ToggleButtonModel",
          "model_module_version": "1.5.0",
          "state": {
            "_dom_classes": [],
            "_model_module": "@jupyter-widgets/controls",
            "_model_module_version": "1.5.0",
            "_model_name": "ToggleButtonModel",
            "_view_count": null,
            "_view_module": "@jupyter-widgets/controls",
            "_view_module_version": "1.5.0",
            "_view_name": "ToggleButtonView",
            "button_style": "primary",
            "description": "",
            "description_tooltip": null,
            "disabled": false,
            "icon": "info",
            "layout": "IPY_MODEL_17192684de8f4b578ac60db9e4ae66ca",
            "style": "IPY_MODEL_1bc4bddb22274f71b84c22f0c5261219",
            "tooltip": "Inspector",
            "value": false
          }
        },
        "988ae06a2d034061a63abede09765c4b": {
          "model_module": "@jupyter-widgets/controls",
          "model_name": "ToggleButtonModel",
          "model_module_version": "1.5.0",
          "state": {
            "_dom_classes": [],
            "_model_module": "@jupyter-widgets/controls",
            "_model_module_version": "1.5.0",
            "_model_name": "ToggleButtonModel",
            "_view_count": null,
            "_view_module": "@jupyter-widgets/controls",
            "_view_module_version": "1.5.0",
            "_view_name": "ToggleButtonView",
            "button_style": "primary",
            "description": "",
            "description_tooltip": null,
            "disabled": false,
            "icon": "bar-chart",
            "layout": "IPY_MODEL_c1f25d04cc96469daa6ef33b883171a9",
            "style": "IPY_MODEL_df02a5774b4143ecb763d46b22f28f31",
            "tooltip": "Plotting",
            "value": false
          }
        },
        "67832f13b7ef42e6a14f8a33551bc743": {
          "model_module": "@jupyter-widgets/controls",
          "model_name": "ToggleButtonModel",
          "model_module_version": "1.5.0",
          "state": {
            "_dom_classes": [],
            "_model_module": "@jupyter-widgets/controls",
            "_model_module_version": "1.5.0",
            "_model_name": "ToggleButtonModel",
            "_view_count": null,
            "_view_module": "@jupyter-widgets/controls",
            "_view_module_version": "1.5.0",
            "_view_name": "ToggleButtonView",
            "button_style": "primary",
            "description": "",
            "description_tooltip": null,
            "disabled": false,
            "icon": "globe",
            "layout": "IPY_MODEL_363f697c64c248a4b36a29c8e095a504",
            "style": "IPY_MODEL_f7ec5d4932114c628a44bec4a0d060ce",
            "tooltip": "Create timelapse",
            "value": false
          }
        },
        "e469b4a9e7cf4fbba573c36de65335e5": {
          "model_module": "@jupyter-widgets/controls",
          "model_name": "ToggleButtonModel",
          "model_module_version": "1.5.0",
          "state": {
            "_dom_classes": [],
            "_model_module": "@jupyter-widgets/controls",
            "_model_module_version": "1.5.0",
            "_model_name": "ToggleButtonModel",
            "_view_count": null,
            "_view_module": "@jupyter-widgets/controls",
            "_view_module_version": "1.5.0",
            "_view_name": "ToggleButtonView",
            "button_style": "primary",
            "description": "",
            "description_tooltip": null,
            "disabled": false,
            "icon": "map",
            "layout": "IPY_MODEL_86537dd962ad44f89ea78a6aa16f0164",
            "style": "IPY_MODEL_c854fc893fcd4a41855877390cede828",
            "tooltip": "Change basemap",
            "value": false
          }
        },
        "e5fa2dac24fe4c1b98befbf17effae42": {
          "model_module": "@jupyter-widgets/controls",
          "model_name": "ToggleButtonModel",
          "model_module_version": "1.5.0",
          "state": {
            "_dom_classes": [],
            "_model_module": "@jupyter-widgets/controls",
            "_model_module_version": "1.5.0",
            "_model_name": "ToggleButtonModel",
            "_view_count": null,
            "_view_module": "@jupyter-widgets/controls",
            "_view_module_version": "1.5.0",
            "_view_name": "ToggleButtonView",
            "button_style": "primary",
            "description": "",
            "description_tooltip": null,
            "disabled": false,
            "icon": "retweet",
            "layout": "IPY_MODEL_0093318cf6da419089501cccbfae6934",
            "style": "IPY_MODEL_117dc3268fe3432ea1ad0e92c9f68c4e",
            "tooltip": "Convert Earth Engine JavaScript to Python",
            "value": false
          }
        },
        "4f10503308eb46b2b1925a4cb4bacfe3": {
          "model_module": "@jupyter-widgets/controls",
          "model_name": "ToggleButtonModel",
          "model_module_version": "1.5.0",
          "state": {
            "_dom_classes": [],
            "_model_module": "@jupyter-widgets/controls",
            "_model_module_version": "1.5.0",
            "_model_name": "ToggleButtonModel",
            "_view_count": null,
            "_view_module": "@jupyter-widgets/controls",
            "_view_module_version": "1.5.0",
            "_view_name": "ToggleButtonView",
            "button_style": "primary",
            "description": "",
            "description_tooltip": null,
            "disabled": false,
            "icon": "plus",
            "layout": "IPY_MODEL_3369ecd718e94b8c8b5cd6ec1939dd37",
            "style": "IPY_MODEL_2548f2a37d3d495998809e74f0f61e0b",
            "tooltip": "Expand toolbar",
            "value": false
          }
        },
        "5140a8450b4040459e4b3ad253a9c653": {
          "model_module": "@jupyter-widgets/base",
          "model_name": "LayoutModel",
          "model_module_version": "1.2.0",
          "state": {
            "_model_module": "@jupyter-widgets/base",
            "_model_module_version": "1.2.0",
            "_model_name": "LayoutModel",
            "_view_count": null,
            "_view_module": "@jupyter-widgets/base",
            "_view_module_version": "1.2.0",
            "_view_name": "LayoutView",
            "align_content": null,
            "align_items": null,
            "align_self": null,
            "border": null,
            "bottom": null,
            "display": null,
            "flex": null,
            "flex_flow": null,
            "grid_area": null,
            "grid_auto_columns": null,
            "grid_auto_flow": null,
            "grid_auto_rows": null,
            "grid_column": null,
            "grid_gap": "1px 1px",
            "grid_row": null,
            "grid_template_areas": null,
            "grid_template_columns": "32px 32px 32px ",
            "grid_template_rows": "32px 32px ",
            "height": null,
            "justify_content": null,
            "justify_items": null,
            "left": null,
            "margin": null,
            "max_height": null,
            "max_width": null,
            "min_height": null,
            "min_width": null,
            "object_fit": null,
            "object_position": null,
            "order": null,
            "overflow": null,
            "overflow_x": null,
            "overflow_y": null,
            "padding": "5px",
            "right": null,
            "top": null,
            "visibility": null,
            "width": "109px"
          }
        },
        "17192684de8f4b578ac60db9e4ae66ca": {
          "model_module": "@jupyter-widgets/base",
          "model_name": "LayoutModel",
          "model_module_version": "1.2.0",
          "state": {
            "_model_module": "@jupyter-widgets/base",
            "_model_module_version": "1.2.0",
            "_model_name": "LayoutModel",
            "_view_count": null,
            "_view_module": "@jupyter-widgets/base",
            "_view_module_version": "1.2.0",
            "_view_name": "LayoutView",
            "align_content": null,
            "align_items": null,
            "align_self": null,
            "border": null,
            "bottom": null,
            "display": null,
            "flex": null,
            "flex_flow": null,
            "grid_area": null,
            "grid_auto_columns": null,
            "grid_auto_flow": null,
            "grid_auto_rows": null,
            "grid_column": null,
            "grid_gap": null,
            "grid_row": null,
            "grid_template_areas": null,
            "grid_template_columns": null,
            "grid_template_rows": null,
            "height": "auto",
            "justify_content": null,
            "justify_items": null,
            "left": null,
            "margin": null,
            "max_height": null,
            "max_width": null,
            "min_height": null,
            "min_width": null,
            "object_fit": null,
            "object_position": null,
            "order": null,
            "overflow": null,
            "overflow_x": null,
            "overflow_y": null,
            "padding": "0px 0px 0px 4px",
            "right": null,
            "top": null,
            "visibility": null,
            "width": "auto"
          }
        },
        "1bc4bddb22274f71b84c22f0c5261219": {
          "model_module": "@jupyter-widgets/controls",
          "model_name": "DescriptionStyleModel",
          "model_module_version": "1.5.0",
          "state": {
            "_model_module": "@jupyter-widgets/controls",
            "_model_module_version": "1.5.0",
            "_model_name": "DescriptionStyleModel",
            "_view_count": null,
            "_view_module": "@jupyter-widgets/base",
            "_view_module_version": "1.2.0",
            "_view_name": "StyleView",
            "description_width": ""
          }
        },
        "c1f25d04cc96469daa6ef33b883171a9": {
          "model_module": "@jupyter-widgets/base",
          "model_name": "LayoutModel",
          "model_module_version": "1.2.0",
          "state": {
            "_model_module": "@jupyter-widgets/base",
            "_model_module_version": "1.2.0",
            "_model_name": "LayoutModel",
            "_view_count": null,
            "_view_module": "@jupyter-widgets/base",
            "_view_module_version": "1.2.0",
            "_view_name": "LayoutView",
            "align_content": null,
            "align_items": null,
            "align_self": null,
            "border": null,
            "bottom": null,
            "display": null,
            "flex": null,
            "flex_flow": null,
            "grid_area": null,
            "grid_auto_columns": null,
            "grid_auto_flow": null,
            "grid_auto_rows": null,
            "grid_column": null,
            "grid_gap": null,
            "grid_row": null,
            "grid_template_areas": null,
            "grid_template_columns": null,
            "grid_template_rows": null,
            "height": "auto",
            "justify_content": null,
            "justify_items": null,
            "left": null,
            "margin": null,
            "max_height": null,
            "max_width": null,
            "min_height": null,
            "min_width": null,
            "object_fit": null,
            "object_position": null,
            "order": null,
            "overflow": null,
            "overflow_x": null,
            "overflow_y": null,
            "padding": "0px 0px 0px 4px",
            "right": null,
            "top": null,
            "visibility": null,
            "width": "auto"
          }
        },
        "df02a5774b4143ecb763d46b22f28f31": {
          "model_module": "@jupyter-widgets/controls",
          "model_name": "DescriptionStyleModel",
          "model_module_version": "1.5.0",
          "state": {
            "_model_module": "@jupyter-widgets/controls",
            "_model_module_version": "1.5.0",
            "_model_name": "DescriptionStyleModel",
            "_view_count": null,
            "_view_module": "@jupyter-widgets/base",
            "_view_module_version": "1.2.0",
            "_view_name": "StyleView",
            "description_width": ""
          }
        },
        "363f697c64c248a4b36a29c8e095a504": {
          "model_module": "@jupyter-widgets/base",
          "model_name": "LayoutModel",
          "model_module_version": "1.2.0",
          "state": {
            "_model_module": "@jupyter-widgets/base",
            "_model_module_version": "1.2.0",
            "_model_name": "LayoutModel",
            "_view_count": null,
            "_view_module": "@jupyter-widgets/base",
            "_view_module_version": "1.2.0",
            "_view_name": "LayoutView",
            "align_content": null,
            "align_items": null,
            "align_self": null,
            "border": null,
            "bottom": null,
            "display": null,
            "flex": null,
            "flex_flow": null,
            "grid_area": null,
            "grid_auto_columns": null,
            "grid_auto_flow": null,
            "grid_auto_rows": null,
            "grid_column": null,
            "grid_gap": null,
            "grid_row": null,
            "grid_template_areas": null,
            "grid_template_columns": null,
            "grid_template_rows": null,
            "height": "auto",
            "justify_content": null,
            "justify_items": null,
            "left": null,
            "margin": null,
            "max_height": null,
            "max_width": null,
            "min_height": null,
            "min_width": null,
            "object_fit": null,
            "object_position": null,
            "order": null,
            "overflow": null,
            "overflow_x": null,
            "overflow_y": null,
            "padding": "0px 0px 0px 4px",
            "right": null,
            "top": null,
            "visibility": null,
            "width": "auto"
          }
        },
        "f7ec5d4932114c628a44bec4a0d060ce": {
          "model_module": "@jupyter-widgets/controls",
          "model_name": "DescriptionStyleModel",
          "model_module_version": "1.5.0",
          "state": {
            "_model_module": "@jupyter-widgets/controls",
            "_model_module_version": "1.5.0",
            "_model_name": "DescriptionStyleModel",
            "_view_count": null,
            "_view_module": "@jupyter-widgets/base",
            "_view_module_version": "1.2.0",
            "_view_name": "StyleView",
            "description_width": ""
          }
        },
        "86537dd962ad44f89ea78a6aa16f0164": {
          "model_module": "@jupyter-widgets/base",
          "model_name": "LayoutModel",
          "model_module_version": "1.2.0",
          "state": {
            "_model_module": "@jupyter-widgets/base",
            "_model_module_version": "1.2.0",
            "_model_name": "LayoutModel",
            "_view_count": null,
            "_view_module": "@jupyter-widgets/base",
            "_view_module_version": "1.2.0",
            "_view_name": "LayoutView",
            "align_content": null,
            "align_items": null,
            "align_self": null,
            "border": null,
            "bottom": null,
            "display": null,
            "flex": null,
            "flex_flow": null,
            "grid_area": null,
            "grid_auto_columns": null,
            "grid_auto_flow": null,
            "grid_auto_rows": null,
            "grid_column": null,
            "grid_gap": null,
            "grid_row": null,
            "grid_template_areas": null,
            "grid_template_columns": null,
            "grid_template_rows": null,
            "height": "auto",
            "justify_content": null,
            "justify_items": null,
            "left": null,
            "margin": null,
            "max_height": null,
            "max_width": null,
            "min_height": null,
            "min_width": null,
            "object_fit": null,
            "object_position": null,
            "order": null,
            "overflow": null,
            "overflow_x": null,
            "overflow_y": null,
            "padding": "0px 0px 0px 4px",
            "right": null,
            "top": null,
            "visibility": null,
            "width": "auto"
          }
        },
        "c854fc893fcd4a41855877390cede828": {
          "model_module": "@jupyter-widgets/controls",
          "model_name": "DescriptionStyleModel",
          "model_module_version": "1.5.0",
          "state": {
            "_model_module": "@jupyter-widgets/controls",
            "_model_module_version": "1.5.0",
            "_model_name": "DescriptionStyleModel",
            "_view_count": null,
            "_view_module": "@jupyter-widgets/base",
            "_view_module_version": "1.2.0",
            "_view_name": "StyleView",
            "description_width": ""
          }
        },
        "0093318cf6da419089501cccbfae6934": {
          "model_module": "@jupyter-widgets/base",
          "model_name": "LayoutModel",
          "model_module_version": "1.2.0",
          "state": {
            "_model_module": "@jupyter-widgets/base",
            "_model_module_version": "1.2.0",
            "_model_name": "LayoutModel",
            "_view_count": null,
            "_view_module": "@jupyter-widgets/base",
            "_view_module_version": "1.2.0",
            "_view_name": "LayoutView",
            "align_content": null,
            "align_items": null,
            "align_self": null,
            "border": null,
            "bottom": null,
            "display": null,
            "flex": null,
            "flex_flow": null,
            "grid_area": null,
            "grid_auto_columns": null,
            "grid_auto_flow": null,
            "grid_auto_rows": null,
            "grid_column": null,
            "grid_gap": null,
            "grid_row": null,
            "grid_template_areas": null,
            "grid_template_columns": null,
            "grid_template_rows": null,
            "height": "auto",
            "justify_content": null,
            "justify_items": null,
            "left": null,
            "margin": null,
            "max_height": null,
            "max_width": null,
            "min_height": null,
            "min_width": null,
            "object_fit": null,
            "object_position": null,
            "order": null,
            "overflow": null,
            "overflow_x": null,
            "overflow_y": null,
            "padding": "0px 0px 0px 4px",
            "right": null,
            "top": null,
            "visibility": null,
            "width": "auto"
          }
        },
        "117dc3268fe3432ea1ad0e92c9f68c4e": {
          "model_module": "@jupyter-widgets/controls",
          "model_name": "DescriptionStyleModel",
          "model_module_version": "1.5.0",
          "state": {
            "_model_module": "@jupyter-widgets/controls",
            "_model_module_version": "1.5.0",
            "_model_name": "DescriptionStyleModel",
            "_view_count": null,
            "_view_module": "@jupyter-widgets/base",
            "_view_module_version": "1.2.0",
            "_view_name": "StyleView",
            "description_width": ""
          }
        },
        "3369ecd718e94b8c8b5cd6ec1939dd37": {
          "model_module": "@jupyter-widgets/base",
          "model_name": "LayoutModel",
          "model_module_version": "1.2.0",
          "state": {
            "_model_module": "@jupyter-widgets/base",
            "_model_module_version": "1.2.0",
            "_model_name": "LayoutModel",
            "_view_count": null,
            "_view_module": "@jupyter-widgets/base",
            "_view_module_version": "1.2.0",
            "_view_name": "LayoutView",
            "align_content": null,
            "align_items": null,
            "align_self": null,
            "border": null,
            "bottom": null,
            "display": null,
            "flex": null,
            "flex_flow": null,
            "grid_area": null,
            "grid_auto_columns": null,
            "grid_auto_flow": null,
            "grid_auto_rows": null,
            "grid_column": null,
            "grid_gap": null,
            "grid_row": null,
            "grid_template_areas": null,
            "grid_template_columns": null,
            "grid_template_rows": null,
            "height": "auto",
            "justify_content": null,
            "justify_items": null,
            "left": null,
            "margin": null,
            "max_height": null,
            "max_width": null,
            "min_height": null,
            "min_width": null,
            "object_fit": null,
            "object_position": null,
            "order": null,
            "overflow": null,
            "overflow_x": null,
            "overflow_y": null,
            "padding": "0px 0px 0px 4px",
            "right": null,
            "top": null,
            "visibility": null,
            "width": "auto"
          }
        },
        "2548f2a37d3d495998809e74f0f61e0b": {
          "model_module": "@jupyter-widgets/controls",
          "model_name": "DescriptionStyleModel",
          "model_module_version": "1.5.0",
          "state": {
            "_model_module": "@jupyter-widgets/controls",
            "_model_module_version": "1.5.0",
            "_model_name": "DescriptionStyleModel",
            "_view_count": null,
            "_view_module": "@jupyter-widgets/base",
            "_view_module_version": "1.2.0",
            "_view_name": "StyleView",
            "description_width": ""
          }
        },
        "b0b7dbf1d93f4a27ba75723cfbee256a": {
          "model_module": "@jupyter-widgets/base",
          "model_name": "LayoutModel",
          "model_module_version": "1.2.0",
          "state": {
            "_model_module": "@jupyter-widgets/base",
            "_model_module_version": "1.2.0",
            "_model_name": "LayoutModel",
            "_view_count": null,
            "_view_module": "@jupyter-widgets/base",
            "_view_module_version": "1.2.0",
            "_view_name": "LayoutView",
            "align_content": null,
            "align_items": null,
            "align_self": null,
            "border": null,
            "bottom": null,
            "display": null,
            "flex": null,
            "flex_flow": null,
            "grid_area": null,
            "grid_auto_columns": null,
            "grid_auto_flow": null,
            "grid_auto_rows": null,
            "grid_column": null,
            "grid_gap": null,
            "grid_row": null,
            "grid_template_areas": null,
            "grid_template_columns": null,
            "grid_template_rows": null,
            "height": "28px",
            "justify_content": null,
            "justify_items": null,
            "left": null,
            "margin": null,
            "max_height": null,
            "max_width": null,
            "min_height": null,
            "min_width": null,
            "object_fit": null,
            "object_position": null,
            "order": null,
            "overflow": null,
            "overflow_x": null,
            "overflow_y": null,
            "padding": "0px 0px 0px 4px",
            "right": null,
            "top": null,
            "visibility": null,
            "width": "28px"
          }
        },
        "947a11164aa04115a7b3d2c97d60b7f7": {
          "model_module": "@jupyter-widgets/controls",
          "model_name": "DescriptionStyleModel",
          "model_module_version": "1.5.0",
          "state": {
            "_model_module": "@jupyter-widgets/controls",
            "_model_module_version": "1.5.0",
            "_model_name": "DescriptionStyleModel",
            "_view_count": null,
            "_view_module": "@jupyter-widgets/base",
            "_view_module_version": "1.2.0",
            "_view_name": "StyleView",
            "description_width": ""
          }
        },
        "0d8d0f71f27f44138f520f26b892a0d9": {
          "model_module": "@jupyter-widgets/base",
          "model_name": "LayoutModel",
          "model_module_version": "1.2.0",
          "state": {
            "_model_module": "@jupyter-widgets/base",
            "_model_module_version": "1.2.0",
            "_model_name": "LayoutModel",
            "_view_count": null,
            "_view_module": "@jupyter-widgets/base",
            "_view_module_version": "1.2.0",
            "_view_name": "LayoutView",
            "align_content": null,
            "align_items": null,
            "align_self": null,
            "border": null,
            "bottom": null,
            "display": null,
            "flex": null,
            "flex_flow": null,
            "grid_area": null,
            "grid_auto_columns": null,
            "grid_auto_flow": null,
            "grid_auto_rows": null,
            "grid_column": null,
            "grid_gap": null,
            "grid_row": null,
            "grid_template_areas": null,
            "grid_template_columns": null,
            "grid_template_rows": null,
            "height": "28px",
            "justify_content": null,
            "justify_items": null,
            "left": null,
            "margin": null,
            "max_height": null,
            "max_width": null,
            "min_height": null,
            "min_width": null,
            "object_fit": null,
            "object_position": null,
            "order": null,
            "overflow": null,
            "overflow_x": null,
            "overflow_y": null,
            "padding": "0px",
            "right": null,
            "top": null,
            "visibility": null,
            "width": "28px"
          }
        },
        "46ffb4540fbb4d8e8b6c978b97ecbfe3": {
          "model_module": "@jupyter-widgets/controls",
          "model_name": "ButtonStyleModel",
          "model_module_version": "1.5.0",
          "state": {
            "_model_module": "@jupyter-widgets/controls",
            "_model_module_version": "1.5.0",
            "_model_name": "ButtonStyleModel",
            "_view_count": null,
            "_view_module": "@jupyter-widgets/base",
            "_view_module_version": "1.2.0",
            "_view_name": "StyleView",
            "button_color": null,
            "font_weight": ""
          }
        },
        "16f855ca532148f3aa2c7f4b6c6891fd": {
          "model_module": "@jupyter-widgets/controls",
          "model_name": "ButtonModel",
          "model_module_version": "1.5.0",
          "state": {
            "_dom_classes": [],
            "_model_module": "@jupyter-widgets/controls",
            "_model_module_version": "1.5.0",
            "_model_name": "ButtonModel",
            "_view_count": null,
            "_view_module": "@jupyter-widgets/controls",
            "_view_module_version": "1.5.0",
            "_view_name": "ButtonView",
            "button_style": "primary",
            "description": "",
            "disabled": false,
            "icon": "times",
            "layout": "IPY_MODEL_0d8d0f71f27f44138f520f26b892a0d9",
            "style": "IPY_MODEL_46ffb4540fbb4d8e8b6c978b97ecbfe3",
            "tooltip": "Close the tool"
          }
        },
        "d255b4593e954f47a0aecc3fd6151563": {
          "model_module": "@jupyter-widgets/controls",
          "model_name": "ToggleButtonModel",
          "model_module_version": "1.5.0",
          "state": {
            "_dom_classes": [],
            "_model_module": "@jupyter-widgets/controls",
            "_model_module_version": "1.5.0",
            "_model_name": "ToggleButtonModel",
            "_view_count": null,
            "_view_module": "@jupyter-widgets/controls",
            "_view_module_version": "1.5.0",
            "_view_name": "ToggleButtonView",
            "button_style": "",
            "description": "",
            "description_tooltip": null,
            "disabled": false,
            "icon": "server",
            "layout": "IPY_MODEL_b0b7dbf1d93f4a27ba75723cfbee256a",
            "style": "IPY_MODEL_947a11164aa04115a7b3d2c97d60b7f7",
            "tooltip": "Layer Manager",
            "value": true
          }
        },
        "8a204baa9d5a42008473b459f058bc68": {
          "model_module": "@jupyter-widgets/base",
          "model_name": "LayoutModel",
          "model_module_version": "1.2.0",
          "state": {
            "_model_module": "@jupyter-widgets/base",
            "_model_module_version": "1.2.0",
            "_model_name": "LayoutModel",
            "_view_count": null,
            "_view_module": "@jupyter-widgets/base",
            "_view_module_version": "1.2.0",
            "_view_name": "LayoutView",
            "align_content": null,
            "align_items": null,
            "align_self": null,
            "border": null,
            "bottom": null,
            "display": "none",
            "flex": null,
            "flex_flow": null,
            "grid_area": null,
            "grid_auto_columns": null,
            "grid_auto_flow": null,
            "grid_auto_rows": null,
            "grid_column": null,
            "grid_gap": null,
            "grid_row": null,
            "grid_template_areas": null,
            "grid_template_columns": null,
            "grid_template_rows": null,
            "height": null,
            "justify_content": null,
            "justify_items": null,
            "left": null,
            "margin": null,
            "max_height": null,
            "max_width": null,
            "min_height": null,
            "min_width": null,
            "object_fit": null,
            "object_position": null,
            "order": null,
            "overflow": null,
            "overflow_x": null,
            "overflow_y": null,
            "padding": null,
            "right": null,
            "top": null,
            "visibility": null,
            "width": null
          }
        },
        "8e672c9b2ef04fcabb5f4aa58f5d0f62": {
          "model_module": "@jupyter-widgets/base",
          "model_name": "LayoutModel",
          "model_module_version": "1.2.0",
          "state": {
            "_model_module": "@jupyter-widgets/base",
            "_model_module_version": "1.2.0",
            "_model_name": "LayoutModel",
            "_view_count": null,
            "_view_module": "@jupyter-widgets/base",
            "_view_module_version": "1.2.0",
            "_view_name": "LayoutView",
            "align_content": null,
            "align_items": null,
            "align_self": null,
            "border": null,
            "bottom": null,
            "display": null,
            "flex": null,
            "flex_flow": null,
            "grid_area": null,
            "grid_auto_columns": null,
            "grid_auto_flow": null,
            "grid_auto_rows": null,
            "grid_column": null,
            "grid_gap": null,
            "grid_row": null,
            "grid_template_areas": null,
            "grid_template_columns": null,
            "grid_template_rows": null,
            "height": null,
            "justify_content": null,
            "justify_items": null,
            "left": null,
            "margin": null,
            "max_height": null,
            "max_width": null,
            "min_height": null,
            "min_width": null,
            "object_fit": null,
            "object_position": null,
            "order": null,
            "overflow": null,
            "overflow_x": null,
            "overflow_y": null,
            "padding": null,
            "right": null,
            "top": null,
            "visibility": null,
            "width": null
          }
        },
        "ee089c3bcde74989a24b0d531011513c": {
          "model_module": "@jupyter-widgets/base",
          "model_name": "LayoutModel",
          "model_module_version": "1.2.0",
          "state": {
            "_model_module": "@jupyter-widgets/base",
            "_model_module_version": "1.2.0",
            "_model_name": "LayoutModel",
            "_view_count": null,
            "_view_module": "@jupyter-widgets/base",
            "_view_module_version": "1.2.0",
            "_view_name": "LayoutView",
            "align_content": null,
            "align_items": null,
            "align_self": null,
            "border": null,
            "bottom": null,
            "display": null,
            "flex": null,
            "flex_flow": null,
            "grid_area": null,
            "grid_auto_columns": null,
            "grid_auto_flow": null,
            "grid_auto_rows": null,
            "grid_column": null,
            "grid_gap": null,
            "grid_row": null,
            "grid_template_areas": null,
            "grid_template_columns": null,
            "grid_template_rows": null,
            "height": "18px",
            "justify_content": null,
            "justify_items": null,
            "left": null,
            "margin": null,
            "max_height": null,
            "max_width": null,
            "min_height": null,
            "min_width": null,
            "object_fit": null,
            "object_position": null,
            "order": null,
            "overflow": null,
            "overflow_x": null,
            "overflow_y": null,
            "padding": "0px 8px 25px 8px",
            "right": null,
            "top": null,
            "visibility": null,
            "width": "30ex"
          }
        },
        "70f52a015e9d458c904ef9d3a3b28665": {
          "model_module": "@jupyter-widgets/controls",
          "model_name": "DescriptionStyleModel",
          "model_module_version": "1.5.0",
          "state": {
            "_model_module": "@jupyter-widgets/controls",
            "_model_module_version": "1.5.0",
            "_model_name": "DescriptionStyleModel",
            "_view_count": null,
            "_view_module": "@jupyter-widgets/base",
            "_view_module_version": "1.2.0",
            "_view_name": "StyleView",
            "description_width": ""
          }
        },
        "3663e8d04dc24e58bbcfb52a233219c6": {
          "model_module": "@jupyter-widgets/base",
          "model_name": "LayoutModel",
          "model_module_version": "1.2.0",
          "state": {
            "_model_module": "@jupyter-widgets/base",
            "_model_module_version": "1.2.0",
            "_model_name": "LayoutModel",
            "_view_count": null,
            "_view_module": "@jupyter-widgets/base",
            "_view_module_version": "1.2.0",
            "_view_name": "LayoutView",
            "align_content": null,
            "align_items": null,
            "align_self": null,
            "border": null,
            "bottom": null,
            "display": null,
            "flex": null,
            "flex_flow": null,
            "grid_area": null,
            "grid_auto_columns": null,
            "grid_auto_flow": null,
            "grid_auto_rows": null,
            "grid_column": null,
            "grid_gap": null,
            "grid_row": null,
            "grid_template_areas": null,
            "grid_template_columns": null,
            "grid_template_rows": null,
            "height": "18px",
            "justify_content": null,
            "justify_items": null,
            "left": null,
            "margin": null,
            "max_height": null,
            "max_width": null,
            "min_height": null,
            "min_width": null,
            "object_fit": null,
            "object_position": null,
            "order": null,
            "overflow": null,
            "overflow_x": null,
            "overflow_y": null,
            "padding": null,
            "right": null,
            "top": null,
            "visibility": null,
            "width": "140px"
          }
        },
        "534ccc20a38f449b80b26e8d554bd7d6": {
          "model_module": "@jupyter-widgets/controls",
          "model_name": "DescriptionStyleModel",
          "model_module_version": "1.5.0",
          "state": {
            "_model_module": "@jupyter-widgets/controls",
            "_model_module_version": "1.5.0",
            "_model_name": "DescriptionStyleModel",
            "_view_count": null,
            "_view_module": "@jupyter-widgets/base",
            "_view_module_version": "1.2.0",
            "_view_name": "StyleView",
            "description_width": ""
          }
        },
        "488ea1803033470b99d5f2e7362e3df8": {
          "model_module": "@jupyter-widgets/base",
          "model_name": "LayoutModel",
          "model_module_version": "1.2.0",
          "state": {
            "_model_module": "@jupyter-widgets/base",
            "_model_module_version": "1.2.0",
            "_model_name": "LayoutModel",
            "_view_count": null,
            "_view_module": "@jupyter-widgets/base",
            "_view_module_version": "1.2.0",
            "_view_name": "LayoutView",
            "align_content": null,
            "align_items": null,
            "align_self": null,
            "border": null,
            "bottom": null,
            "display": null,
            "flex": null,
            "flex_flow": null,
            "grid_area": null,
            "grid_auto_columns": null,
            "grid_auto_flow": null,
            "grid_auto_rows": null,
            "grid_column": null,
            "grid_gap": null,
            "grid_row": null,
            "grid_template_areas": null,
            "grid_template_columns": null,
            "grid_template_rows": null,
            "height": null,
            "justify_content": null,
            "justify_items": null,
            "left": null,
            "margin": null,
            "max_height": null,
            "max_width": null,
            "min_height": null,
            "min_width": null,
            "object_fit": null,
            "object_position": null,
            "order": null,
            "overflow": null,
            "overflow_x": null,
            "overflow_y": null,
            "padding": null,
            "right": null,
            "top": null,
            "visibility": null,
            "width": "80px"
          }
        },
        "82e90878b02d41b9aaf1f0249c054a22": {
          "model_module": "@jupyter-widgets/controls",
          "model_name": "SliderStyleModel",
          "model_module_version": "1.5.0",
          "state": {
            "_model_module": "@jupyter-widgets/controls",
            "_model_module_version": "1.5.0",
            "_model_name": "SliderStyleModel",
            "_view_count": null,
            "_view_module": "@jupyter-widgets/base",
            "_view_module_version": "1.2.0",
            "_view_name": "StyleView",
            "description_width": "",
            "handle_color": null
          }
        },
        "525fc4d135a44314bbec31ad203401b3": {
          "model_module": "@jupyter-widgets/base",
          "model_name": "LayoutModel",
          "model_module_version": "1.2.0",
          "state": {
            "_model_module": "@jupyter-widgets/base",
            "_model_module_version": "1.2.0",
            "_model_name": "LayoutModel",
            "_view_count": null,
            "_view_module": "@jupyter-widgets/base",
            "_view_module_version": "1.2.0",
            "_view_name": "LayoutView",
            "align_content": null,
            "align_items": null,
            "align_self": null,
            "border": null,
            "bottom": null,
            "display": null,
            "flex": null,
            "flex_flow": null,
            "grid_area": null,
            "grid_auto_columns": null,
            "grid_auto_flow": null,
            "grid_auto_rows": null,
            "grid_column": null,
            "grid_gap": null,
            "grid_row": null,
            "grid_template_areas": null,
            "grid_template_columns": null,
            "grid_template_rows": null,
            "height": "25px",
            "justify_content": null,
            "justify_items": null,
            "left": null,
            "margin": null,
            "max_height": null,
            "max_width": null,
            "min_height": null,
            "min_width": null,
            "object_fit": null,
            "object_position": null,
            "order": null,
            "overflow": null,
            "overflow_x": null,
            "overflow_y": null,
            "padding": "0px",
            "right": null,
            "top": null,
            "visibility": null,
            "width": "25px"
          }
        },
        "7fd343c24a10430a9f618a5ae1aaa153": {
          "model_module": "@jupyter-widgets/controls",
          "model_name": "ButtonStyleModel",
          "model_module_version": "1.5.0",
          "state": {
            "_model_module": "@jupyter-widgets/controls",
            "_model_module_version": "1.5.0",
            "_model_name": "ButtonStyleModel",
            "_view_count": null,
            "_view_module": "@jupyter-widgets/base",
            "_view_module_version": "1.2.0",
            "_view_name": "StyleView",
            "button_color": null,
            "font_weight": ""
          }
        },
        "53bacb01f14b493d9092f51abd9d22ed": {
          "model_module": "@jupyter-widgets/controls",
          "model_name": "CheckboxModel",
          "model_module_version": "1.5.0",
          "state": {
            "_dom_classes": [],
            "_model_module": "@jupyter-widgets/controls",
            "_model_module_version": "1.5.0",
            "_model_name": "CheckboxModel",
            "_view_count": null,
            "_view_module": "@jupyter-widgets/controls",
            "_view_module_version": "1.5.0",
            "_view_name": "CheckboxView",
            "description": "OpenStreetMap.Mapnik",
            "description_tooltip": null,
            "disabled": false,
            "indent": false,
            "layout": "IPY_MODEL_3663e8d04dc24e58bbcfb52a233219c6",
            "style": "IPY_MODEL_534ccc20a38f449b80b26e8d554bd7d6",
            "value": true
          }
        },
        "8d78357c58a944a7bf9a70419438331c": {
          "model_module": "@jupyter-widgets/controls",
          "model_name": "ButtonModel",
          "model_module_version": "1.5.0",
          "state": {
            "_dom_classes": [],
            "_model_module": "@jupyter-widgets/controls",
            "_model_module_version": "1.5.0",
            "_model_name": "ButtonModel",
            "_view_count": null,
            "_view_module": "@jupyter-widgets/controls",
            "_view_module_version": "1.5.0",
            "_view_name": "ButtonView",
            "button_style": "",
            "description": "",
            "disabled": false,
            "icon": "gear",
            "layout": "IPY_MODEL_525fc4d135a44314bbec31ad203401b3",
            "style": "IPY_MODEL_7fd343c24a10430a9f618a5ae1aaa153",
            "tooltip": "OpenStreetMap.Mapnik"
          }
        },
        "413ea5f4308341df99446318f4fd2fc6": {
          "model_module": "@jupyter-widgets/controls",
          "model_name": "FloatSliderModel",
          "model_module_version": "1.5.0",
          "state": {
            "_dom_classes": [],
            "_model_module": "@jupyter-widgets/controls",
            "_model_module_version": "1.5.0",
            "_model_name": "FloatSliderModel",
            "_view_count": null,
            "_view_module": "@jupyter-widgets/controls",
            "_view_module_version": "1.5.0",
            "_view_name": "FloatSliderView",
            "continuous_update": true,
            "description": "",
            "description_tooltip": null,
            "disabled": false,
            "layout": "IPY_MODEL_488ea1803033470b99d5f2e7362e3df8",
            "max": 1,
            "min": 0,
            "orientation": "horizontal",
            "readout": false,
            "readout_format": ".2f",
            "step": 0.01,
            "style": "IPY_MODEL_82e90878b02d41b9aaf1f0249c054a22",
            "value": 1
          }
        },
        "5a9b81e426ff4267be4689fa88239684": {
          "model_module": "@jupyter-widgets/base",
          "model_name": "LayoutModel",
          "model_module_version": "1.2.0",
          "state": {
            "_model_module": "@jupyter-widgets/base",
            "_model_module_version": "1.2.0",
            "_model_name": "LayoutModel",
            "_view_count": null,
            "_view_module": "@jupyter-widgets/base",
            "_view_module_version": "1.2.0",
            "_view_name": "LayoutView",
            "align_content": null,
            "align_items": null,
            "align_self": null,
            "border": null,
            "bottom": null,
            "display": null,
            "flex": null,
            "flex_flow": null,
            "grid_area": null,
            "grid_auto_columns": null,
            "grid_auto_flow": null,
            "grid_auto_rows": null,
            "grid_column": null,
            "grid_gap": null,
            "grid_row": null,
            "grid_template_areas": null,
            "grid_template_columns": null,
            "grid_template_rows": null,
            "height": null,
            "justify_content": null,
            "justify_items": null,
            "left": null,
            "margin": null,
            "max_height": null,
            "max_width": null,
            "min_height": null,
            "min_width": null,
            "object_fit": null,
            "object_position": null,
            "order": null,
            "overflow": null,
            "overflow_x": null,
            "overflow_y": null,
            "padding": "0px 8px 0px 8px",
            "right": null,
            "top": null,
            "visibility": null,
            "width": null
          }
        },
        "038515f5b01c43079ce217e831c09b0c": {
          "model_module": "@jupyter-widgets/base",
          "model_name": "LayoutModel",
          "model_module_version": "1.2.0",
          "state": {
            "_model_module": "@jupyter-widgets/base",
            "_model_module_version": "1.2.0",
            "_model_name": "LayoutModel",
            "_view_count": null,
            "_view_module": "@jupyter-widgets/base",
            "_view_module_version": "1.2.0",
            "_view_name": "LayoutView",
            "align_content": null,
            "align_items": null,
            "align_self": null,
            "border": null,
            "bottom": null,
            "display": null,
            "flex": null,
            "flex_flow": null,
            "grid_area": null,
            "grid_auto_columns": null,
            "grid_auto_flow": null,
            "grid_auto_rows": null,
            "grid_column": null,
            "grid_gap": null,
            "grid_row": null,
            "grid_template_areas": null,
            "grid_template_columns": null,
            "grid_template_rows": null,
            "height": "18px",
            "justify_content": null,
            "justify_items": null,
            "left": null,
            "margin": null,
            "max_height": null,
            "max_width": null,
            "min_height": null,
            "min_width": null,
            "object_fit": null,
            "object_position": null,
            "order": null,
            "overflow": null,
            "overflow_x": null,
            "overflow_y": null,
            "padding": null,
            "right": null,
            "top": null,
            "visibility": null,
            "width": "140px"
          }
        },
        "d4a3364df7a64e27a8064f0c5296e275": {
          "model_module": "@jupyter-widgets/controls",
          "model_name": "DescriptionStyleModel",
          "model_module_version": "1.5.0",
          "state": {
            "_model_module": "@jupyter-widgets/controls",
            "_model_module_version": "1.5.0",
            "_model_name": "DescriptionStyleModel",
            "_view_count": null,
            "_view_module": "@jupyter-widgets/base",
            "_view_module_version": "1.2.0",
            "_view_name": "StyleView",
            "description_width": ""
          }
        },
        "40b4a2ae013c42aa95ab8cfd5b4cbae3": {
          "model_module": "@jupyter-widgets/base",
          "model_name": "LayoutModel",
          "model_module_version": "1.2.0",
          "state": {
            "_model_module": "@jupyter-widgets/base",
            "_model_module_version": "1.2.0",
            "_model_name": "LayoutModel",
            "_view_count": null,
            "_view_module": "@jupyter-widgets/base",
            "_view_module_version": "1.2.0",
            "_view_name": "LayoutView",
            "align_content": null,
            "align_items": null,
            "align_self": null,
            "border": null,
            "bottom": null,
            "display": null,
            "flex": null,
            "flex_flow": null,
            "grid_area": null,
            "grid_auto_columns": null,
            "grid_auto_flow": null,
            "grid_auto_rows": null,
            "grid_column": null,
            "grid_gap": null,
            "grid_row": null,
            "grid_template_areas": null,
            "grid_template_columns": null,
            "grid_template_rows": null,
            "height": null,
            "justify_content": null,
            "justify_items": null,
            "left": null,
            "margin": null,
            "max_height": null,
            "max_width": null,
            "min_height": null,
            "min_width": null,
            "object_fit": null,
            "object_position": null,
            "order": null,
            "overflow": null,
            "overflow_x": null,
            "overflow_y": null,
            "padding": null,
            "right": null,
            "top": null,
            "visibility": null,
            "width": "80px"
          }
        },
        "cacf8c68c55d429ba76beddacd481680": {
          "model_module": "@jupyter-widgets/controls",
          "model_name": "SliderStyleModel",
          "model_module_version": "1.5.0",
          "state": {
            "_model_module": "@jupyter-widgets/controls",
            "_model_module_version": "1.5.0",
            "_model_name": "SliderStyleModel",
            "_view_count": null,
            "_view_module": "@jupyter-widgets/base",
            "_view_module_version": "1.2.0",
            "_view_name": "StyleView",
            "description_width": "",
            "handle_color": null
          }
        },
        "c2a9dd05e41349068cb636df2c4eb21d": {
          "model_module": "@jupyter-widgets/base",
          "model_name": "LayoutModel",
          "model_module_version": "1.2.0",
          "state": {
            "_model_module": "@jupyter-widgets/base",
            "_model_module_version": "1.2.0",
            "_model_name": "LayoutModel",
            "_view_count": null,
            "_view_module": "@jupyter-widgets/base",
            "_view_module_version": "1.2.0",
            "_view_name": "LayoutView",
            "align_content": null,
            "align_items": null,
            "align_self": null,
            "border": null,
            "bottom": null,
            "display": null,
            "flex": null,
            "flex_flow": null,
            "grid_area": null,
            "grid_auto_columns": null,
            "grid_auto_flow": null,
            "grid_auto_rows": null,
            "grid_column": null,
            "grid_gap": null,
            "grid_row": null,
            "grid_template_areas": null,
            "grid_template_columns": null,
            "grid_template_rows": null,
            "height": "25px",
            "justify_content": null,
            "justify_items": null,
            "left": null,
            "margin": null,
            "max_height": null,
            "max_width": null,
            "min_height": null,
            "min_width": null,
            "object_fit": null,
            "object_position": null,
            "order": null,
            "overflow": null,
            "overflow_x": null,
            "overflow_y": null,
            "padding": "0px",
            "right": null,
            "top": null,
            "visibility": null,
            "width": "25px"
          }
        },
        "3d29a38ab63a4c89a05fc53e2ffbdcae": {
          "model_module": "@jupyter-widgets/controls",
          "model_name": "ButtonStyleModel",
          "model_module_version": "1.5.0",
          "state": {
            "_model_module": "@jupyter-widgets/controls",
            "_model_module_version": "1.5.0",
            "_model_name": "ButtonStyleModel",
            "_view_count": null,
            "_view_module": "@jupyter-widgets/base",
            "_view_module_version": "1.2.0",
            "_view_name": "StyleView",
            "button_color": null,
            "font_weight": ""
          }
        },
        "d062ba56228b47919637fd8bd94c0628": {
          "model_module": "@jupyter-widgets/controls",
          "model_name": "CheckboxModel",
          "model_module_version": "1.5.0",
          "state": {
            "_dom_classes": [],
            "_model_module": "@jupyter-widgets/controls",
            "_model_module_version": "1.5.0",
            "_model_name": "CheckboxModel",
            "_view_count": null,
            "_view_module": "@jupyter-widgets/controls",
            "_view_module_version": "1.5.0",
            "_view_name": "CheckboxView",
            "description": "AreaForPA",
            "description_tooltip": null,
            "disabled": false,
            "indent": false,
            "layout": "IPY_MODEL_038515f5b01c43079ce217e831c09b0c",
            "style": "IPY_MODEL_d4a3364df7a64e27a8064f0c5296e275",
            "value": true
          }
        },
        "cc8ff633fe3e4198a1a4d440f5fe06f7": {
          "model_module": "@jupyter-widgets/controls",
          "model_name": "ButtonModel",
          "model_module_version": "1.5.0",
          "state": {
            "_dom_classes": [],
            "_model_module": "@jupyter-widgets/controls",
            "_model_module_version": "1.5.0",
            "_model_name": "ButtonModel",
            "_view_count": null,
            "_view_module": "@jupyter-widgets/controls",
            "_view_module_version": "1.5.0",
            "_view_name": "ButtonView",
            "button_style": "",
            "description": "",
            "disabled": false,
            "icon": "gear",
            "layout": "IPY_MODEL_c2a9dd05e41349068cb636df2c4eb21d",
            "style": "IPY_MODEL_3d29a38ab63a4c89a05fc53e2ffbdcae",
            "tooltip": "AreaForPA"
          }
        },
        "7efe1ca78a8042889deabea0e14eb97c": {
          "model_module": "@jupyter-widgets/controls",
          "model_name": "FloatSliderModel",
          "model_module_version": "1.5.0",
          "state": {
            "_dom_classes": [],
            "_model_module": "@jupyter-widgets/controls",
            "_model_module_version": "1.5.0",
            "_model_name": "FloatSliderModel",
            "_view_count": null,
            "_view_module": "@jupyter-widgets/controls",
            "_view_module_version": "1.5.0",
            "_view_name": "FloatSliderView",
            "continuous_update": true,
            "description": "",
            "description_tooltip": null,
            "disabled": false,
            "layout": "IPY_MODEL_40b4a2ae013c42aa95ab8cfd5b4cbae3",
            "max": 1,
            "min": 0,
            "orientation": "horizontal",
            "readout": false,
            "readout_format": ".2f",
            "step": 0.01,
            "style": "IPY_MODEL_cacf8c68c55d429ba76beddacd481680",
            "value": 1
          }
        },
        "1bee6f2c95304cf782af64f6e98fe85d": {
          "model_module": "@jupyter-widgets/base",
          "model_name": "LayoutModel",
          "model_module_version": "1.2.0",
          "state": {
            "_model_module": "@jupyter-widgets/base",
            "_model_module_version": "1.2.0",
            "_model_name": "LayoutModel",
            "_view_count": null,
            "_view_module": "@jupyter-widgets/base",
            "_view_module_version": "1.2.0",
            "_view_name": "LayoutView",
            "align_content": null,
            "align_items": null,
            "align_self": null,
            "border": null,
            "bottom": null,
            "display": null,
            "flex": null,
            "flex_flow": null,
            "grid_area": null,
            "grid_auto_columns": null,
            "grid_auto_flow": null,
            "grid_auto_rows": null,
            "grid_column": null,
            "grid_gap": null,
            "grid_row": null,
            "grid_template_areas": null,
            "grid_template_columns": null,
            "grid_template_rows": null,
            "height": null,
            "justify_content": null,
            "justify_items": null,
            "left": null,
            "margin": null,
            "max_height": null,
            "max_width": null,
            "min_height": null,
            "min_width": null,
            "object_fit": null,
            "object_position": null,
            "order": null,
            "overflow": null,
            "overflow_x": null,
            "overflow_y": null,
            "padding": "0px 8px 0px 8px",
            "right": null,
            "top": null,
            "visibility": null,
            "width": null
          }
        },
        "5b1e8e23227b4791b82507917e7e591c": {
          "model_module": "@jupyter-widgets/controls",
          "model_name": "HBoxModel",
          "model_module_version": "1.5.0",
          "state": {
            "_dom_classes": [],
            "_model_module": "@jupyter-widgets/controls",
            "_model_module_version": "1.5.0",
            "_model_name": "HBoxModel",
            "_view_count": null,
            "_view_module": "@jupyter-widgets/controls",
            "_view_module_version": "1.5.0",
            "_view_name": "HBoxView",
            "box_style": "",
            "children": [
              "IPY_MODEL_16f855ca532148f3aa2c7f4b6c6891fd",
              "IPY_MODEL_d255b4593e954f47a0aecc3fd6151563"
            ],
            "layout": "IPY_MODEL_8a204baa9d5a42008473b459f058bc68"
          }
        },
        "044b00d3cc504d6ca3f1c8230387fdd7": {
          "model_module": "@jupyter-widgets/controls",
          "model_name": "VBoxModel",
          "model_module_version": "1.5.0",
          "state": {
            "_dom_classes": [],
            "_model_module": "@jupyter-widgets/controls",
            "_model_module_version": "1.5.0",
            "_model_name": "VBoxModel",
            "_view_count": null,
            "_view_module": "@jupyter-widgets/controls",
            "_view_module_version": "1.5.0",
            "_view_name": "VBoxView",
            "box_style": "",
            "children": [
              "IPY_MODEL_5968003db03c478a8a80895303a8b50c",
              "IPY_MODEL_545d776d96f14d9fb8202372f866d9ed",
              "IPY_MODEL_0cc634de98774cd1ab75956bccf027da"
            ],
            "layout": "IPY_MODEL_8e672c9b2ef04fcabb5f4aa58f5d0f62"
          }
        },
        "fd68773bb14b4014b243f94862c1c4ed": {
          "model_module": "@jupyter-widgets/base",
          "model_name": "LayoutModel",
          "model_module_version": "1.2.0",
          "state": {
            "_model_module": "@jupyter-widgets/base",
            "_model_module_version": "1.2.0",
            "_model_name": "LayoutModel",
            "_view_count": null,
            "_view_module": "@jupyter-widgets/base",
            "_view_module_version": "1.2.0",
            "_view_name": "LayoutView",
            "align_content": null,
            "align_items": null,
            "align_self": null,
            "border": null,
            "bottom": null,
            "display": null,
            "flex": null,
            "flex_flow": null,
            "grid_area": null,
            "grid_auto_columns": null,
            "grid_auto_flow": null,
            "grid_auto_rows": null,
            "grid_column": null,
            "grid_gap": null,
            "grid_row": null,
            "grid_template_areas": null,
            "grid_template_columns": null,
            "grid_template_rows": null,
            "height": null,
            "justify_content": null,
            "justify_items": null,
            "left": null,
            "margin": null,
            "max_height": null,
            "max_width": null,
            "min_height": null,
            "min_width": null,
            "object_fit": null,
            "object_position": null,
            "order": null,
            "overflow": null,
            "overflow_x": null,
            "overflow_y": null,
            "padding": null,
            "right": null,
            "top": null,
            "visibility": null,
            "width": null
          }
        },
        "8d0f75f03c3c497ab15a5e6618500c89": {
          "model_module": "@jupyter-widgets/controls",
          "model_name": "VBoxModel",
          "model_module_version": "1.5.0",
          "state": {
            "_dom_classes": [
              "geemap-colab"
            ],
            "_model_module": "@jupyter-widgets/controls",
            "_model_module_version": "1.5.0",
            "_model_name": "VBoxModel",
            "_view_count": null,
            "_view_module": "@jupyter-widgets/controls",
            "_view_module_version": "1.5.0",
            "_view_name": "VBoxView",
            "box_style": "",
            "children": [
              "IPY_MODEL_5b1e8e23227b4791b82507917e7e591c",
              "IPY_MODEL_044b00d3cc504d6ca3f1c8230387fdd7"
            ],
            "layout": "IPY_MODEL_fd68773bb14b4014b243f94862c1c4ed"
          }
        },
        "5968003db03c478a8a80895303a8b50c": {
          "model_module": "@jupyter-widgets/controls",
          "model_name": "CheckboxModel",
          "model_module_version": "1.5.0",
          "state": {
            "_dom_classes": [],
            "_model_module": "@jupyter-widgets/controls",
            "_model_module_version": "1.5.0",
            "_model_name": "CheckboxModel",
            "_view_count": null,
            "_view_module": "@jupyter-widgets/controls",
            "_view_module_version": "1.5.0",
            "_view_name": "CheckboxView",
            "description": "All layers on/off",
            "description_tooltip": null,
            "disabled": false,
            "indent": false,
            "layout": "IPY_MODEL_ee089c3bcde74989a24b0d531011513c",
            "style": "IPY_MODEL_70f52a015e9d458c904ef9d3a3b28665",
            "value": false
          }
        },
        "545d776d96f14d9fb8202372f866d9ed": {
          "model_module": "@jupyter-widgets/controls",
          "model_name": "HBoxModel",
          "model_module_version": "1.5.0",
          "state": {
            "_dom_classes": [],
            "_model_module": "@jupyter-widgets/controls",
            "_model_module_version": "1.5.0",
            "_model_name": "HBoxModel",
            "_view_count": null,
            "_view_module": "@jupyter-widgets/controls",
            "_view_module_version": "1.5.0",
            "_view_name": "HBoxView",
            "box_style": "",
            "children": [
              "IPY_MODEL_53bacb01f14b493d9092f51abd9d22ed",
              "IPY_MODEL_8d78357c58a944a7bf9a70419438331c",
              "IPY_MODEL_413ea5f4308341df99446318f4fd2fc6"
            ],
            "layout": "IPY_MODEL_5a9b81e426ff4267be4689fa88239684"
          }
        },
        "0cc634de98774cd1ab75956bccf027da": {
          "model_module": "@jupyter-widgets/controls",
          "model_name": "HBoxModel",
          "model_module_version": "1.5.0",
          "state": {
            "_dom_classes": [],
            "_model_module": "@jupyter-widgets/controls",
            "_model_module_version": "1.5.0",
            "_model_name": "HBoxModel",
            "_view_count": null,
            "_view_module": "@jupyter-widgets/controls",
            "_view_module_version": "1.5.0",
            "_view_name": "HBoxView",
            "box_style": "",
            "children": [
              "IPY_MODEL_d062ba56228b47919637fd8bd94c0628",
              "IPY_MODEL_cc8ff633fe3e4198a1a4d440f5fe06f7",
              "IPY_MODEL_7efe1ca78a8042889deabea0e14eb97c"
            ],
            "layout": "IPY_MODEL_1bee6f2c95304cf782af64f6e98fe85d"
          }
        }
      }
    }
  },
  "nbformat": 4,
  "nbformat_minor": 0
}