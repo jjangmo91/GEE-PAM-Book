{
  "cells": [
    {
      "cell_type": "markdown",
      "metadata": {
        "id": "view-in-github",
        "colab_type": "text"
      },
      "source": [
        "<a href=\"https://colab.research.google.com/github/osgeokr/GEE-PAM-Book/blob/main/PS_202405_Species_Distribution_Modeling.ipynb\" target=\"_parent\"><img src=\"https://colab.research.google.com/assets/colab-badge.svg\" alt=\"Open In Colab\"/></a>"
      ]
    },
    {
      "cell_type": "code",
      "execution_count": 1,
      "metadata": {
        "id": "8kdsGkYJXXKc"
      },
      "outputs": [],
      "source": [
        "#@title Copyright 2023 The Earth Engine Community Authors { display-mode: \"form\" }\n",
        "#\n",
        "# Licensed under the Apache License, Version 2.0 (the \"License\");\n",
        "# you may not use this file except in compliance with the License.\n",
        "# You may obtain a copy of the License at\n",
        "#\n",
        "# https://www.apache.org/licenses/LICENSE-2.0\n",
        "#\n",
        "# Unless required by applicable law or agreed to in writing, software\n",
        "# distributed under the License is distributed on an \"AS IS\" BASIS,\n",
        "# WITHOUT WARRANTIES OR CONDITIONS OF ANY KIND, either express or implied.\n",
        "# See the License for the specific language governing permissions and\n",
        "# limitations under the License."
      ]
    },
    {
      "cell_type": "markdown",
      "metadata": {
        "id": "l18M9_r5XmAQ"
      },
      "source": [
        "# Species Distribution Modeling\n",
        "Author: osgeokr\n",
        "\n",
        "In this tutorial, the methodology of Species Distribution Modeling using Google Earth Engine will be introduced. A brief overview of Species Distribution Modeling  will be provided, followed by the process of predicting and analyzing the habitat of an endangered bird species known as the Fairy pitta (scientific name: *Pitta nympha*)."
      ]
    },
    {
      "cell_type": "markdown",
      "metadata": {
        "id": "U7i55vr_aKCB"
      },
      "source": [
        "### Run me first\n",
        "\n",
        "Run the following cell to initialize the API. The output will contain instructions on how to grant this notebook access to Earth Engine using your account."
      ]
    },
    {
      "cell_type": "code",
      "execution_count": 2,
      "metadata": {
        "id": "XeFsiSp2aDL6"
      },
      "outputs": [],
      "source": [
        "import ee\n",
        "\n",
        "# Trigger the authentication flow.\n",
        "ee.Authenticate()\n",
        "\n",
        "# Initialize the library.\n",
        "ee.Initialize(project='ee-foss4g')"
      ]
    },
    {
      "cell_type": "markdown",
      "metadata": {
        "id": "VOf_UnIcZKBJ"
      },
      "source": [
        "## A brief overview of Species Distribution Modeling\n",
        "\n",
        "Let's explore what species distribution models are, the advantages of using Google Earth Engine for their processing, the required data for the models, and how the workflow is structured.\n",
        "\n",
        "### What is Species Distribution Modeling?\n",
        "\n",
        "Species Distribution Modeling (SDM below) is the most common methodology used to estimate the actual or potential geographic distribution of a species. It involves characterizing the environmental conditions suitable for a particular species and then identifying where these suitable conditions are distributed geographically.\n",
        "\n",
        "SDM has emerged as a crucial component of conservation planning in recent years, and various modeling techniques have been developed for this purpose. Implementing SDM in Google Earth Engine (GEE below) provides easy access to large-scale environmental data, along with powerful computing capabilities and support for machine learning algorithms, allowing for rapid modeling.\n",
        "\n",
        "  > Note: Conservation biologist Dr. Ramiro D. Crego implemented SDM using the GEE JavaScript Code Editor and published his research findings [(Crego et al, 2022)](https://onlinelibrary.wiley.com/doi/10.1111/ddi.13491). The methodology of SDM introduced here has been translated and modified from the [JavaScript source code](https://smithsonian.github.io/SDMinGEE/) he shared into the Python language.\n",
        "\n",
        "### Data Required for SDM\n",
        "\n",
        "SDM typically utilizes the relationship between known species occurrence records and environmental variables to identify the conditions under which a population can sustain. In other words, two types of model input data are required:\n",
        "\n",
        "1. Occurrence records of known species\n",
        "1. Various environmental variables\n",
        "\n",
        "These data are input into algorithms to identify environmental conditions associated with the presence of species.\n",
        "\n",
        "### Workflow of SDM using GEE\n",
        "\n",
        "The workflow for SDM using GEE is as follows:\n",
        "\n",
        "1. Collection and preprocessing of species occurrence data\n",
        "1. Definition of the Area of Interest\n",
        "1. Addition of GEE environmental variables\n",
        "1. Generation of pseudo-absence data\n",
        "1. Model fitting and prediction\n",
        "1. Variable importance and accuracy assessment"
      ]
    },
    {
      "cell_type": "markdown",
      "metadata": {
        "id": "tjomxWfVcTmN"
      },
      "source": [
        "## Habitat Prediction and Analysis Using GEE\n",
        "\n",
        "The [Fairy pitta (*Pitta nympha*)](https://datazone.birdlife.org/species/factsheet/22698684) will be used as a case study to demonstrate the application of GEE-based SDM. While this specific species has been selected for one example, researchers can apply the methodology to any target species of interest with slight modifications to the provided source code.\n",
        "\n",
        "The Fairy pitta is a rare summer migrant and passage migrant in South Korea, whose distribution area is expanding due to recent climate warming on the Korean Peninsula. It is classified as a rare species, endangered wildlife of class II, Natural Monument No. 204, evaluated as Regionally Extinct (RE) in the National Red List, and Vulnerable (VU) according to the IUCN categories.\n",
        "\n",
        "Conducting SDM for the conservation planning of the Fairy pitta appears to be quite valuable. Now, let's proceed with habitat prediction and analysis through GEE."
      ]
    },
    {
      "cell_type": "markdown",
      "metadata": {
        "id": "pViK9PM-gLjh"
      },
      "source": [
        "First, the Python libraries are imported.The `import` statement brings in the entire contents of a module, while the `from import` statement allows for the importation of specific objects from a module."
      ]
    },
    {
      "cell_type": "code",
      "execution_count": 3,
      "metadata": {
        "id": "4jbM03uIrjST"
      },
      "outputs": [],
      "source": [
        "# Import libraries\n",
        "import geemap\n",
        "\n",
        "import geemap.colormaps as cm\n",
        "import pandas as pd, geopandas as gpd\n",
        "import numpy as np, matplotlib.pyplot as plt\n",
        "import os, requests, math, random\n",
        "\n",
        "from ipyleaflet import TileLayer\n",
        "from statsmodels.stats.outliers_influence import variance_inflation_factor"
      ]
    },
    {
      "cell_type": "markdown",
      "metadata": {
        "id": "SRrwa4ROghr9"
      },
      "source": [
        "### Collection and Preprocessing of Species Occurrence Data\n",
        "\n",
        "Now, let's collect occurrence data for the Fairy pitta. Even if you don't currently have access to occurrence data for the species of interest, you can obtain observational data about specific species through the GBIF API. The [GBIF API](https://techdocs.gbif.org/en/openapi/) is an interface that allows access to the species distribution data provided by GBIF, enabling users to search, filter, and download data, as well as acquire various information related to species.\n",
        "\n",
        "In the code below, the `species_name` variable is assigned the scientific name of the species (e.g., *Pitta nympha* for Fairy pitta), and the `country_code` variable is assigned the country code (e.g., KR for South Korea). The `base_url` variable stores the address of the GBIF API. `params` is a dictionary containing parameters to be used in the API request:\n",
        "\n",
        "* `scientificName`: Sets the scientific name of the species to be searched.\n",
        "* `country`: Limits the search to a specific country.\n",
        "* `hasCoordinate`: Ensures only data with coordinates (true) are searched.\n",
        "* `basisOfRecord`: Chooses only records of human observation (`HUMAN_OBSERVATION`).\n",
        "* `limit`: Sets the maximum number of results returned to 10000."
      ]
    },
    {
      "cell_type": "markdown",
      "metadata": {
        "id": "Zs5ZUfZUnjZ2"
      },
      "source": [
        "Using the parameters set previously, we query the GBIF API for observational records of the Fairy pitta (*Pitta nympha*), and load the results into a DataFrame to check the first row. A DataFrame is a data structure for handling table-formatted data, consisting of rows and columns. If necessary, the DataFrame can be saved as a CSV file and read back in."
      ]
    },
    {
      "cell_type": "code",
      "execution_count": 4,
      "metadata": {
        "id": "Mx-DjtGNnUXk",
        "colab": {
          "base_uri": "https://localhost:8080/",
          "height": 76
        },
        "outputId": "1d08c3df-885c-4fe3-c84b-8a6078f4a15e"
      },
      "outputs": [
        {
          "output_type": "display_data",
          "data": {
            "text/plain": [
              "<IPython.core.display.HTML object>"
            ],
            "text/html": [
              "\n",
              "            <style>\n",
              "                .geemap-dark {\n",
              "                    --jp-widgets-color: white;\n",
              "                    --jp-widgets-label-color: white;\n",
              "                    --jp-ui-font-color1: white;\n",
              "                    --jp-layout-color2: #454545;\n",
              "                    background-color: #383838;\n",
              "                }\n",
              "\n",
              "                .geemap-dark .jupyter-button {\n",
              "                    --jp-layout-color3: #383838;\n",
              "                }\n",
              "\n",
              "                .geemap-colab {\n",
              "                    background-color: var(--colab-primary-surface-color, white);\n",
              "                }\n",
              "\n",
              "                .geemap-colab .jupyter-button {\n",
              "                    --jp-layout-color3: var(--colab-primary-surface-color, white);\n",
              "                }\n",
              "            </style>\n",
              "            "
            ]
          },
          "metadata": {}
        },
        {
          "output_type": "display_data",
          "data": {
            "text/plain": [
              "<IPython.core.display.HTML object>"
            ],
            "text/html": [
              "\n",
              "     <input type=\"file\" id=\"files-253b6937-1410-4d5f-bc20-e9cfdd9bc46b\" name=\"files[]\" multiple disabled\n",
              "        style=\"border:none\" />\n",
              "     <output id=\"result-253b6937-1410-4d5f-bc20-e9cfdd9bc46b\">\n",
              "      Upload widget is only available when the cell has been executed in the\n",
              "      current browser session. Please rerun this cell to enable.\n",
              "      </output>\n",
              "      <script>// Copyright 2017 Google LLC\n",
              "//\n",
              "// Licensed under the Apache License, Version 2.0 (the \"License\");\n",
              "// you may not use this file except in compliance with the License.\n",
              "// You may obtain a copy of the License at\n",
              "//\n",
              "//      http://www.apache.org/licenses/LICENSE-2.0\n",
              "//\n",
              "// Unless required by applicable law or agreed to in writing, software\n",
              "// distributed under the License is distributed on an \"AS IS\" BASIS,\n",
              "// WITHOUT WARRANTIES OR CONDITIONS OF ANY KIND, either express or implied.\n",
              "// See the License for the specific language governing permissions and\n",
              "// limitations under the License.\n",
              "\n",
              "/**\n",
              " * @fileoverview Helpers for google.colab Python module.\n",
              " */\n",
              "(function(scope) {\n",
              "function span(text, styleAttributes = {}) {\n",
              "  const element = document.createElement('span');\n",
              "  element.textContent = text;\n",
              "  for (const key of Object.keys(styleAttributes)) {\n",
              "    element.style[key] = styleAttributes[key];\n",
              "  }\n",
              "  return element;\n",
              "}\n",
              "\n",
              "// Max number of bytes which will be uploaded at a time.\n",
              "const MAX_PAYLOAD_SIZE = 100 * 1024;\n",
              "\n",
              "function _uploadFiles(inputId, outputId) {\n",
              "  const steps = uploadFilesStep(inputId, outputId);\n",
              "  const outputElement = document.getElementById(outputId);\n",
              "  // Cache steps on the outputElement to make it available for the next call\n",
              "  // to uploadFilesContinue from Python.\n",
              "  outputElement.steps = steps;\n",
              "\n",
              "  return _uploadFilesContinue(outputId);\n",
              "}\n",
              "\n",
              "// This is roughly an async generator (not supported in the browser yet),\n",
              "// where there are multiple asynchronous steps and the Python side is going\n",
              "// to poll for completion of each step.\n",
              "// This uses a Promise to block the python side on completion of each step,\n",
              "// then passes the result of the previous step as the input to the next step.\n",
              "function _uploadFilesContinue(outputId) {\n",
              "  const outputElement = document.getElementById(outputId);\n",
              "  const steps = outputElement.steps;\n",
              "\n",
              "  const next = steps.next(outputElement.lastPromiseValue);\n",
              "  return Promise.resolve(next.value.promise).then((value) => {\n",
              "    // Cache the last promise value to make it available to the next\n",
              "    // step of the generator.\n",
              "    outputElement.lastPromiseValue = value;\n",
              "    return next.value.response;\n",
              "  });\n",
              "}\n",
              "\n",
              "/**\n",
              " * Generator function which is called between each async step of the upload\n",
              " * process.\n",
              " * @param {string} inputId Element ID of the input file picker element.\n",
              " * @param {string} outputId Element ID of the output display.\n",
              " * @return {!Iterable<!Object>} Iterable of next steps.\n",
              " */\n",
              "function* uploadFilesStep(inputId, outputId) {\n",
              "  const inputElement = document.getElementById(inputId);\n",
              "  inputElement.disabled = false;\n",
              "\n",
              "  const outputElement = document.getElementById(outputId);\n",
              "  outputElement.innerHTML = '';\n",
              "\n",
              "  const pickedPromise = new Promise((resolve) => {\n",
              "    inputElement.addEventListener('change', (e) => {\n",
              "      resolve(e.target.files);\n",
              "    });\n",
              "  });\n",
              "\n",
              "  const cancel = document.createElement('button');\n",
              "  inputElement.parentElement.appendChild(cancel);\n",
              "  cancel.textContent = 'Cancel upload';\n",
              "  const cancelPromise = new Promise((resolve) => {\n",
              "    cancel.onclick = () => {\n",
              "      resolve(null);\n",
              "    };\n",
              "  });\n",
              "\n",
              "  // Wait for the user to pick the files.\n",
              "  const files = yield {\n",
              "    promise: Promise.race([pickedPromise, cancelPromise]),\n",
              "    response: {\n",
              "      action: 'starting',\n",
              "    }\n",
              "  };\n",
              "\n",
              "  cancel.remove();\n",
              "\n",
              "  // Disable the input element since further picks are not allowed.\n",
              "  inputElement.disabled = true;\n",
              "\n",
              "  if (!files) {\n",
              "    return {\n",
              "      response: {\n",
              "        action: 'complete',\n",
              "      }\n",
              "    };\n",
              "  }\n",
              "\n",
              "  for (const file of files) {\n",
              "    const li = document.createElement('li');\n",
              "    li.append(span(file.name, {fontWeight: 'bold'}));\n",
              "    li.append(span(\n",
              "        `(${file.type || 'n/a'}) - ${file.size} bytes, ` +\n",
              "        `last modified: ${\n",
              "            file.lastModifiedDate ? file.lastModifiedDate.toLocaleDateString() :\n",
              "                                    'n/a'} - `));\n",
              "    const percent = span('0% done');\n",
              "    li.appendChild(percent);\n",
              "\n",
              "    outputElement.appendChild(li);\n",
              "\n",
              "    const fileDataPromise = new Promise((resolve) => {\n",
              "      const reader = new FileReader();\n",
              "      reader.onload = (e) => {\n",
              "        resolve(e.target.result);\n",
              "      };\n",
              "      reader.readAsArrayBuffer(file);\n",
              "    });\n",
              "    // Wait for the data to be ready.\n",
              "    let fileData = yield {\n",
              "      promise: fileDataPromise,\n",
              "      response: {\n",
              "        action: 'continue',\n",
              "      }\n",
              "    };\n",
              "\n",
              "    // Use a chunked sending to avoid message size limits. See b/62115660.\n",
              "    let position = 0;\n",
              "    do {\n",
              "      const length = Math.min(fileData.byteLength - position, MAX_PAYLOAD_SIZE);\n",
              "      const chunk = new Uint8Array(fileData, position, length);\n",
              "      position += length;\n",
              "\n",
              "      const base64 = btoa(String.fromCharCode.apply(null, chunk));\n",
              "      yield {\n",
              "        response: {\n",
              "          action: 'append',\n",
              "          file: file.name,\n",
              "          data: base64,\n",
              "        },\n",
              "      };\n",
              "\n",
              "      let percentDone = fileData.byteLength === 0 ?\n",
              "          100 :\n",
              "          Math.round((position / fileData.byteLength) * 100);\n",
              "      percent.textContent = `${percentDone}% done`;\n",
              "\n",
              "    } while (position < fileData.byteLength);\n",
              "  }\n",
              "\n",
              "  // All done.\n",
              "  yield {\n",
              "    response: {\n",
              "      action: 'complete',\n",
              "    }\n",
              "  };\n",
              "}\n",
              "\n",
              "scope.google = scope.google || {};\n",
              "scope.google.colab = scope.google.colab || {};\n",
              "scope.google.colab._files = {\n",
              "  _uploadFiles,\n",
              "  _uploadFilesContinue,\n",
              "};\n",
              "})(self);\n",
              "</script> "
            ]
          },
          "metadata": {}
        },
        {
          "output_type": "stream",
          "name": "stdout",
          "text": [
            "Saving pitta_nympha_data.csv to pitta_nympha_data.csv\n"
          ]
        }
      ],
      "source": [
        "from google.colab import files\n",
        "uploaded = files.upload()"
      ]
    },
    {
      "cell_type": "code",
      "source": [
        "df = pd.read_csv(\"pitta_nympha_data.csv\")\n",
        "df.head(1)  # Display the first row of the DataFrame"
      ],
      "metadata": {
        "colab": {
          "base_uri": "https://localhost:8080/",
          "height": 81
        },
        "id": "ONlY_nxFu05p",
        "outputId": "1ed8634f-8170-4986-bd2e-58e3127ccf5c"
      },
      "execution_count": 5,
      "outputs": [
        {
          "output_type": "display_data",
          "data": {
            "text/plain": [
              "<IPython.core.display.HTML object>"
            ],
            "text/html": [
              "\n",
              "            <style>\n",
              "                .geemap-dark {\n",
              "                    --jp-widgets-color: white;\n",
              "                    --jp-widgets-label-color: white;\n",
              "                    --jp-ui-font-color1: white;\n",
              "                    --jp-layout-color2: #454545;\n",
              "                    background-color: #383838;\n",
              "                }\n",
              "\n",
              "                .geemap-dark .jupyter-button {\n",
              "                    --jp-layout-color3: #383838;\n",
              "                }\n",
              "\n",
              "                .geemap-colab {\n",
              "                    background-color: var(--colab-primary-surface-color, white);\n",
              "                }\n",
              "\n",
              "                .geemap-colab .jupyter-button {\n",
              "                    --jp-layout-color3: var(--colab-primary-surface-color, white);\n",
              "                }\n",
              "            </style>\n",
              "            "
            ]
          },
          "metadata": {}
        },
        {
          "output_type": "execute_result",
          "data": {
            "text/plain": [
              "   fid       species  year  month      xcoord     ycoord\n",
              "0    1  Pitta nympha  2023      5  126.725144  33.203139"
            ],
            "text/html": [
              "\n",
              "  <div id=\"df-6ae522b8-15be-42ce-9d4b-1224b6b3ae61\" class=\"colab-df-container\">\n",
              "    <div>\n",
              "<style scoped>\n",
              "    .dataframe tbody tr th:only-of-type {\n",
              "        vertical-align: middle;\n",
              "    }\n",
              "\n",
              "    .dataframe tbody tr th {\n",
              "        vertical-align: top;\n",
              "    }\n",
              "\n",
              "    .dataframe thead th {\n",
              "        text-align: right;\n",
              "    }\n",
              "</style>\n",
              "<table border=\"1\" class=\"dataframe\">\n",
              "  <thead>\n",
              "    <tr style=\"text-align: right;\">\n",
              "      <th></th>\n",
              "      <th>fid</th>\n",
              "      <th>species</th>\n",
              "      <th>year</th>\n",
              "      <th>month</th>\n",
              "      <th>xcoord</th>\n",
              "      <th>ycoord</th>\n",
              "    </tr>\n",
              "  </thead>\n",
              "  <tbody>\n",
              "    <tr>\n",
              "      <th>0</th>\n",
              "      <td>1</td>\n",
              "      <td>Pitta nympha</td>\n",
              "      <td>2023</td>\n",
              "      <td>5</td>\n",
              "      <td>126.725144</td>\n",
              "      <td>33.203139</td>\n",
              "    </tr>\n",
              "  </tbody>\n",
              "</table>\n",
              "</div>\n",
              "    <div class=\"colab-df-buttons\">\n",
              "\n",
              "  <div class=\"colab-df-container\">\n",
              "    <button class=\"colab-df-convert\" onclick=\"convertToInteractive('df-6ae522b8-15be-42ce-9d4b-1224b6b3ae61')\"\n",
              "            title=\"Convert this dataframe to an interactive table.\"\n",
              "            style=\"display:none;\">\n",
              "\n",
              "  <svg xmlns=\"http://www.w3.org/2000/svg\" height=\"24px\" viewBox=\"0 -960 960 960\">\n",
              "    <path d=\"M120-120v-720h720v720H120Zm60-500h600v-160H180v160Zm220 220h160v-160H400v160Zm0 220h160v-160H400v160ZM180-400h160v-160H180v160Zm440 0h160v-160H620v160ZM180-180h160v-160H180v160Zm440 0h160v-160H620v160Z\"/>\n",
              "  </svg>\n",
              "    </button>\n",
              "\n",
              "  <style>\n",
              "    .colab-df-container {\n",
              "      display:flex;\n",
              "      gap: 12px;\n",
              "    }\n",
              "\n",
              "    .colab-df-convert {\n",
              "      background-color: #E8F0FE;\n",
              "      border: none;\n",
              "      border-radius: 50%;\n",
              "      cursor: pointer;\n",
              "      display: none;\n",
              "      fill: #1967D2;\n",
              "      height: 32px;\n",
              "      padding: 0 0 0 0;\n",
              "      width: 32px;\n",
              "    }\n",
              "\n",
              "    .colab-df-convert:hover {\n",
              "      background-color: #E2EBFA;\n",
              "      box-shadow: 0px 1px 2px rgba(60, 64, 67, 0.3), 0px 1px 3px 1px rgba(60, 64, 67, 0.15);\n",
              "      fill: #174EA6;\n",
              "    }\n",
              "\n",
              "    .colab-df-buttons div {\n",
              "      margin-bottom: 4px;\n",
              "    }\n",
              "\n",
              "    [theme=dark] .colab-df-convert {\n",
              "      background-color: #3B4455;\n",
              "      fill: #D2E3FC;\n",
              "    }\n",
              "\n",
              "    [theme=dark] .colab-df-convert:hover {\n",
              "      background-color: #434B5C;\n",
              "      box-shadow: 0px 1px 3px 1px rgba(0, 0, 0, 0.15);\n",
              "      filter: drop-shadow(0px 1px 2px rgba(0, 0, 0, 0.3));\n",
              "      fill: #FFFFFF;\n",
              "    }\n",
              "  </style>\n",
              "\n",
              "    <script>\n",
              "      const buttonEl =\n",
              "        document.querySelector('#df-6ae522b8-15be-42ce-9d4b-1224b6b3ae61 button.colab-df-convert');\n",
              "      buttonEl.style.display =\n",
              "        google.colab.kernel.accessAllowed ? 'block' : 'none';\n",
              "\n",
              "      async function convertToInteractive(key) {\n",
              "        const element = document.querySelector('#df-6ae522b8-15be-42ce-9d4b-1224b6b3ae61');\n",
              "        const dataTable =\n",
              "          await google.colab.kernel.invokeFunction('convertToInteractive',\n",
              "                                                    [key], {});\n",
              "        if (!dataTable) return;\n",
              "\n",
              "        const docLinkHtml = 'Like what you see? Visit the ' +\n",
              "          '<a target=\"_blank\" href=https://colab.research.google.com/notebooks/data_table.ipynb>data table notebook</a>'\n",
              "          + ' to learn more about interactive tables.';\n",
              "        element.innerHTML = '';\n",
              "        dataTable['output_type'] = 'display_data';\n",
              "        await google.colab.output.renderOutput(dataTable, element);\n",
              "        const docLink = document.createElement('div');\n",
              "        docLink.innerHTML = docLinkHtml;\n",
              "        element.appendChild(docLink);\n",
              "      }\n",
              "    </script>\n",
              "  </div>\n",
              "\n",
              "\n",
              "    </div>\n",
              "  </div>\n"
            ],
            "application/vnd.google.colaboratory.intrinsic+json": {
              "type": "dataframe",
              "variable_name": "df",
              "summary": "{\n  \"name\": \"df\",\n  \"rows\": 258,\n  \"fields\": [\n    {\n      \"column\": \"fid\",\n      \"properties\": {\n        \"dtype\": \"number\",\n        \"std\": 74,\n        \"min\": 1,\n        \"max\": 258,\n        \"num_unique_values\": 258,\n        \"samples\": [\n          67,\n          46,\n          10\n        ],\n        \"semantic_type\": \"\",\n        \"description\": \"\"\n      }\n    },\n    {\n      \"column\": \"species\",\n      \"properties\": {\n        \"dtype\": \"category\",\n        \"num_unique_values\": 1,\n        \"samples\": [\n          \"Pitta nympha\"\n        ],\n        \"semantic_type\": \"\",\n        \"description\": \"\"\n      }\n    },\n    {\n      \"column\": \"year\",\n      \"properties\": {\n        \"dtype\": \"number\",\n        \"std\": 3,\n        \"min\": 1980,\n        \"max\": 2023,\n        \"num_unique_values\": 14,\n        \"samples\": [\n          2014\n        ],\n        \"semantic_type\": \"\",\n        \"description\": \"\"\n      }\n    },\n    {\n      \"column\": \"month\",\n      \"properties\": {\n        \"dtype\": \"number\",\n        \"std\": 0,\n        \"min\": 5,\n        \"max\": 9,\n        \"num_unique_values\": 5,\n        \"samples\": [\n          6\n        ],\n        \"semantic_type\": \"\",\n        \"description\": \"\"\n      }\n    },\n    {\n      \"column\": \"xcoord\",\n      \"properties\": {\n        \"dtype\": \"number\",\n        \"std\": 0.7264509471113381,\n        \"min\": 124.6648,\n        \"max\": 129.43712,\n        \"num_unique_values\": 154,\n        \"samples\": [\n          126.507053\n        ],\n        \"semantic_type\": \"\",\n        \"description\": \"\"\n      }\n    },\n    {\n      \"column\": \"ycoord\",\n      \"properties\": {\n        \"dtype\": \"number\",\n        \"std\": 1.6976566029105251,\n        \"min\": 33.117916,\n        \"max\": 38.127472,\n        \"num_unique_values\": 154,\n        \"samples\": [\n          33.462731\n        ],\n        \"semantic_type\": \"\",\n        \"description\": \"\"\n      }\n    }\n  ]\n}"
            }
          },
          "metadata": {},
          "execution_count": 5
        }
      ]
    },
    {
      "cell_type": "markdown",
      "metadata": {
        "id": "TEjSEmK3pfe0"
      },
      "source": [
        "Next, we convert the DataFrame into a GeoDataFrame that includes a column for geographic information (`geometry`) and check the first row. A GeoDataFrame can be saved as a GeoPackage file (*.gpkg) and read back in."
      ]
    },
    {
      "cell_type": "code",
      "source": [
        "# Convert DataFrame to GeoDataFrame\n",
        "gdf = gpd.GeoDataFrame(\n",
        "    df,\n",
        "    geometry=gpd.points_from_xy(df.xcoord, df.ycoord),\n",
        "    crs=\"EPSG:4326\"\n",
        ")[[\"species\", \"year\", \"month\", \"geometry\"]]\n",
        "gdf.to_file(\"pitta_nympha_data.gpkg\", driver=\"GPKG\")\n",
        "gdf = gpd.read_file(\"pitta_nympha_data.gpkg\")\n",
        "gdf.head(1)  # Display the first row of the GeoDataFrame"
      ],
      "metadata": {
        "colab": {
          "base_uri": "https://localhost:8080/",
          "height": 81
        },
        "id": "G6dFKr4su635",
        "outputId": "b1d53f4b-9887-4764-ee6f-323270b8dcac"
      },
      "execution_count": 6,
      "outputs": [
        {
          "output_type": "display_data",
          "data": {
            "text/plain": [
              "<IPython.core.display.HTML object>"
            ],
            "text/html": [
              "\n",
              "            <style>\n",
              "                .geemap-dark {\n",
              "                    --jp-widgets-color: white;\n",
              "                    --jp-widgets-label-color: white;\n",
              "                    --jp-ui-font-color1: white;\n",
              "                    --jp-layout-color2: #454545;\n",
              "                    background-color: #383838;\n",
              "                }\n",
              "\n",
              "                .geemap-dark .jupyter-button {\n",
              "                    --jp-layout-color3: #383838;\n",
              "                }\n",
              "\n",
              "                .geemap-colab {\n",
              "                    background-color: var(--colab-primary-surface-color, white);\n",
              "                }\n",
              "\n",
              "                .geemap-colab .jupyter-button {\n",
              "                    --jp-layout-color3: var(--colab-primary-surface-color, white);\n",
              "                }\n",
              "            </style>\n",
              "            "
            ]
          },
          "metadata": {}
        },
        {
          "output_type": "execute_result",
          "data": {
            "text/plain": [
              "        species  year  month                    geometry\n",
              "0  Pitta nympha  2023      5  POINT (126.72514 33.20314)"
            ],
            "text/html": [
              "\n",
              "  <div id=\"df-a00a93c3-d775-4cfc-bfe3-b5d479418036\" class=\"colab-df-container\">\n",
              "    <div>\n",
              "<style scoped>\n",
              "    .dataframe tbody tr th:only-of-type {\n",
              "        vertical-align: middle;\n",
              "    }\n",
              "\n",
              "    .dataframe tbody tr th {\n",
              "        vertical-align: top;\n",
              "    }\n",
              "\n",
              "    .dataframe thead th {\n",
              "        text-align: right;\n",
              "    }\n",
              "</style>\n",
              "<table border=\"1\" class=\"dataframe\">\n",
              "  <thead>\n",
              "    <tr style=\"text-align: right;\">\n",
              "      <th></th>\n",
              "      <th>species</th>\n",
              "      <th>year</th>\n",
              "      <th>month</th>\n",
              "      <th>geometry</th>\n",
              "    </tr>\n",
              "  </thead>\n",
              "  <tbody>\n",
              "    <tr>\n",
              "      <th>0</th>\n",
              "      <td>Pitta nympha</td>\n",
              "      <td>2023</td>\n",
              "      <td>5</td>\n",
              "      <td>POINT (126.72514 33.20314)</td>\n",
              "    </tr>\n",
              "  </tbody>\n",
              "</table>\n",
              "</div>\n",
              "    <div class=\"colab-df-buttons\">\n",
              "\n",
              "  <div class=\"colab-df-container\">\n",
              "    <button class=\"colab-df-convert\" onclick=\"convertToInteractive('df-a00a93c3-d775-4cfc-bfe3-b5d479418036')\"\n",
              "            title=\"Convert this dataframe to an interactive table.\"\n",
              "            style=\"display:none;\">\n",
              "\n",
              "  <svg xmlns=\"http://www.w3.org/2000/svg\" height=\"24px\" viewBox=\"0 -960 960 960\">\n",
              "    <path d=\"M120-120v-720h720v720H120Zm60-500h600v-160H180v160Zm220 220h160v-160H400v160Zm0 220h160v-160H400v160ZM180-400h160v-160H180v160Zm440 0h160v-160H620v160ZM180-180h160v-160H180v160Zm440 0h160v-160H620v160Z\"/>\n",
              "  </svg>\n",
              "    </button>\n",
              "\n",
              "  <style>\n",
              "    .colab-df-container {\n",
              "      display:flex;\n",
              "      gap: 12px;\n",
              "    }\n",
              "\n",
              "    .colab-df-convert {\n",
              "      background-color: #E8F0FE;\n",
              "      border: none;\n",
              "      border-radius: 50%;\n",
              "      cursor: pointer;\n",
              "      display: none;\n",
              "      fill: #1967D2;\n",
              "      height: 32px;\n",
              "      padding: 0 0 0 0;\n",
              "      width: 32px;\n",
              "    }\n",
              "\n",
              "    .colab-df-convert:hover {\n",
              "      background-color: #E2EBFA;\n",
              "      box-shadow: 0px 1px 2px rgba(60, 64, 67, 0.3), 0px 1px 3px 1px rgba(60, 64, 67, 0.15);\n",
              "      fill: #174EA6;\n",
              "    }\n",
              "\n",
              "    .colab-df-buttons div {\n",
              "      margin-bottom: 4px;\n",
              "    }\n",
              "\n",
              "    [theme=dark] .colab-df-convert {\n",
              "      background-color: #3B4455;\n",
              "      fill: #D2E3FC;\n",
              "    }\n",
              "\n",
              "    [theme=dark] .colab-df-convert:hover {\n",
              "      background-color: #434B5C;\n",
              "      box-shadow: 0px 1px 3px 1px rgba(0, 0, 0, 0.15);\n",
              "      filter: drop-shadow(0px 1px 2px rgba(0, 0, 0, 0.3));\n",
              "      fill: #FFFFFF;\n",
              "    }\n",
              "  </style>\n",
              "\n",
              "    <script>\n",
              "      const buttonEl =\n",
              "        document.querySelector('#df-a00a93c3-d775-4cfc-bfe3-b5d479418036 button.colab-df-convert');\n",
              "      buttonEl.style.display =\n",
              "        google.colab.kernel.accessAllowed ? 'block' : 'none';\n",
              "\n",
              "      async function convertToInteractive(key) {\n",
              "        const element = document.querySelector('#df-a00a93c3-d775-4cfc-bfe3-b5d479418036');\n",
              "        const dataTable =\n",
              "          await google.colab.kernel.invokeFunction('convertToInteractive',\n",
              "                                                    [key], {});\n",
              "        if (!dataTable) return;\n",
              "\n",
              "        const docLinkHtml = 'Like what you see? Visit the ' +\n",
              "          '<a target=\"_blank\" href=https://colab.research.google.com/notebooks/data_table.ipynb>data table notebook</a>'\n",
              "          + ' to learn more about interactive tables.';\n",
              "        element.innerHTML = '';\n",
              "        dataTable['output_type'] = 'display_data';\n",
              "        await google.colab.output.renderOutput(dataTable, element);\n",
              "        const docLink = document.createElement('div');\n",
              "        docLink.innerHTML = docLinkHtml;\n",
              "        element.appendChild(docLink);\n",
              "      }\n",
              "    </script>\n",
              "  </div>\n",
              "\n",
              "\n",
              "    </div>\n",
              "  </div>\n"
            ],
            "application/vnd.google.colaboratory.intrinsic+json": {
              "type": "dataframe",
              "variable_name": "gdf",
              "summary": "{\n  \"name\": \"gdf\",\n  \"rows\": 258,\n  \"fields\": [\n    {\n      \"column\": \"species\",\n      \"properties\": {\n        \"dtype\": \"category\",\n        \"num_unique_values\": 1,\n        \"samples\": [\n          \"Pitta nympha\"\n        ],\n        \"semantic_type\": \"\",\n        \"description\": \"\"\n      }\n    },\n    {\n      \"column\": \"year\",\n      \"properties\": {\n        \"dtype\": \"number\",\n        \"std\": 3,\n        \"min\": 1980,\n        \"max\": 2023,\n        \"num_unique_values\": 14,\n        \"samples\": [\n          2014\n        ],\n        \"semantic_type\": \"\",\n        \"description\": \"\"\n      }\n    },\n    {\n      \"column\": \"month\",\n      \"properties\": {\n        \"dtype\": \"number\",\n        \"std\": 0,\n        \"min\": 5,\n        \"max\": 9,\n        \"num_unique_values\": 5,\n        \"samples\": [\n          6\n        ],\n        \"semantic_type\": \"\",\n        \"description\": \"\"\n      }\n    },\n    {\n      \"column\": \"geometry\",\n      \"properties\": {\n        \"dtype\": \"geometry\",\n        \"num_unique_values\": 154,\n        \"samples\": [\n          \"POINT (126.507053 33.462731)\"\n        ],\n        \"semantic_type\": \"\",\n        \"description\": \"\"\n      }\n    }\n  ]\n}"
            }
          },
          "metadata": {},
          "execution_count": 6
        }
      ]
    },
    {
      "cell_type": "markdown",
      "metadata": {
        "id": "5Lj919AaqmUq"
      },
      "source": [
        "This time, we have created a function to visualize the distribution of data by year and month from the GeoDataFrame and display it as a graph, which can then be saved as an image file. The use of a heatmap allows us to quickly grasp the frequency of species occurrence by year and month, providing an intuitive visualization of the temporal changes and patterns within the data. This allows for the identification of temporal patterns and seasonal variations in species occurrence data, as well as the rapid detection of outliers or quality issues within the data."
      ]
    },
    {
      "cell_type": "code",
      "execution_count": 7,
      "metadata": {
        "id": "Iju-dNZErzkJ",
        "colab": {
          "base_uri": "https://localhost:8080/",
          "height": 17
        },
        "outputId": "0b774c5d-76a4-489a-9107-93c1585af77e"
      },
      "outputs": [
        {
          "output_type": "display_data",
          "data": {
            "text/plain": [
              "<IPython.core.display.HTML object>"
            ],
            "text/html": [
              "\n",
              "            <style>\n",
              "                .geemap-dark {\n",
              "                    --jp-widgets-color: white;\n",
              "                    --jp-widgets-label-color: white;\n",
              "                    --jp-ui-font-color1: white;\n",
              "                    --jp-layout-color2: #454545;\n",
              "                    background-color: #383838;\n",
              "                }\n",
              "\n",
              "                .geemap-dark .jupyter-button {\n",
              "                    --jp-layout-color3: #383838;\n",
              "                }\n",
              "\n",
              "                .geemap-colab {\n",
              "                    background-color: var(--colab-primary-surface-color, white);\n",
              "                }\n",
              "\n",
              "                .geemap-colab .jupyter-button {\n",
              "                    --jp-layout-color3: var(--colab-primary-surface-color, white);\n",
              "                }\n",
              "            </style>\n",
              "            "
            ]
          },
          "metadata": {}
        }
      ],
      "source": [
        "# Yearly and monthly data distribution heatmap\n",
        "def plot_heatmap(gdf, h_size=8):\n",
        "\n",
        "    statistics = gdf.groupby([\"month\", \"year\"]).size().unstack(fill_value=0)\n",
        "\n",
        "    # Heatmap\n",
        "    plt.figure(figsize=(h_size, h_size - 6))\n",
        "    heatmap = plt.imshow(\n",
        "        statistics.values, cmap=\"YlOrBr\", origin=\"upper\", aspect=\"auto\"\n",
        "    )\n",
        "\n",
        "    # Display values above each pixel\n",
        "    for i in range(len(statistics.index)):\n",
        "        for j in range(len(statistics.columns)):\n",
        "            plt.text(\n",
        "                j, i, statistics.values[i, j], ha=\"center\", va=\"center\", color=\"black\"\n",
        "            )\n",
        "\n",
        "    plt.colorbar(heatmap, label=\"Count\")\n",
        "    plt.title(\"Monthly Species Count by Year\")\n",
        "    plt.xlabel(\"Year\")\n",
        "    plt.ylabel(\"Month\")\n",
        "    plt.xticks(range(len(statistics.columns)), statistics.columns)\n",
        "    plt.yticks(range(len(statistics.index)), statistics.index)\n",
        "    plt.tight_layout()\n",
        "    plt.savefig(\"heatmap_plot.png\")\n",
        "    plt.show()"
      ]
    },
    {
      "cell_type": "code",
      "execution_count": 8,
      "metadata": {
        "id": "dlW1nIQZrjx3",
        "colab": {
          "base_uri": "https://localhost:8080/",
          "height": 307
        },
        "outputId": "d3eb8e5e-b082-4e77-bbc6-dd9b7cc6fbd7"
      },
      "outputs": [
        {
          "output_type": "display_data",
          "data": {
            "text/plain": [
              "<IPython.core.display.HTML object>"
            ],
            "text/html": [
              "\n",
              "            <style>\n",
              "                .geemap-dark {\n",
              "                    --jp-widgets-color: white;\n",
              "                    --jp-widgets-label-color: white;\n",
              "                    --jp-ui-font-color1: white;\n",
              "                    --jp-layout-color2: #454545;\n",
              "                    background-color: #383838;\n",
              "                }\n",
              "\n",
              "                .geemap-dark .jupyter-button {\n",
              "                    --jp-layout-color3: #383838;\n",
              "                }\n",
              "\n",
              "                .geemap-colab {\n",
              "                    background-color: var(--colab-primary-surface-color, white);\n",
              "                }\n",
              "\n",
              "                .geemap-colab .jupyter-button {\n",
              "                    --jp-layout-color3: var(--colab-primary-surface-color, white);\n",
              "                }\n",
              "            </style>\n",
              "            "
            ]
          },
          "metadata": {}
        },
        {
          "output_type": "display_data",
          "data": {
            "text/plain": [
              "<Figure size 900x300 with 2 Axes>"
            ],
            "image/png": "[encoded data removed]"
          },
          "metadata": {}
        }
      ],
      "source": [
        "plot_heatmap(gdf, h_size=9)"
      ]
    },
    {
      "cell_type": "markdown",
      "metadata": {
        "id": "vIj9CO1RrCSs"
      },
      "source": [
        "The data from 1995 is very sparse, with significant gaps compared to other years, and the months of August and September also have limited samples and exhibit different seasonal characteristics compared to other periods. Excluding this data could contribute to improving the stability and predictive power of the model.\n",
        "\n",
        "However, it's important to note that excluding data may enhance the model's generalization ability, but it could also lead to the loss of valuable information relevant to the research objectives. Therefore, such decisions should be made with careful consideration."
      ]
    },
    {
      "cell_type": "code",
      "execution_count": 9,
      "metadata": {
        "id": "k1PpbNsGq9qh",
        "colab": {
          "base_uri": "https://localhost:8080/",
          "height": 53
        },
        "outputId": "5c237909-5fa2-4338-a002-7ae8ad1e5bef"
      },
      "outputs": [
        {
          "output_type": "display_data",
          "data": {
            "text/plain": [
              "<IPython.core.display.HTML object>"
            ],
            "text/html": [
              "\n",
              "            <style>\n",
              "                .geemap-dark {\n",
              "                    --jp-widgets-color: white;\n",
              "                    --jp-widgets-label-color: white;\n",
              "                    --jp-ui-font-color1: white;\n",
              "                    --jp-layout-color2: #454545;\n",
              "                    background-color: #383838;\n",
              "                }\n",
              "\n",
              "                .geemap-dark .jupyter-button {\n",
              "                    --jp-layout-color3: #383838;\n",
              "                }\n",
              "\n",
              "                .geemap-colab {\n",
              "                    background-color: var(--colab-primary-surface-color, white);\n",
              "                }\n",
              "\n",
              "                .geemap-colab .jupyter-button {\n",
              "                    --jp-layout-color3: var(--colab-primary-surface-color, white);\n",
              "                }\n",
              "            </style>\n",
              "            "
            ]
          },
          "metadata": {}
        },
        {
          "output_type": "stream",
          "name": "stdout",
          "text": [
            "Original data size: 258\n",
            "Filtered data size: 249\n"
          ]
        }
      ],
      "source": [
        "# Filtering data by year and month\n",
        "filtered_gdf = gdf[\n",
        "    (gdf['year'] > 1995) &\n",
        "    (gdf['month'].between(5, 7))\n",
        "]\n",
        "print(\"Original data size:\", len(gdf))\n",
        "print(\"Filtered data size:\", len(filtered_gdf))"
      ]
    },
    {
      "cell_type": "markdown",
      "metadata": {
        "id": "jy0BBd-6sdLz"
      },
      "source": [
        "Now, the filtered GeoDataFrame is converted into a Google Earth Engine object."
      ]
    },
    {
      "cell_type": "code",
      "execution_count": 10,
      "metadata": {
        "id": "Fxu0OsBksMKM",
        "colab": {
          "base_uri": "https://localhost:8080/",
          "height": 17
        },
        "outputId": "58287d3c-a96a-44a8-92d5-7b5b21f0fbec"
      },
      "outputs": [
        {
          "output_type": "display_data",
          "data": {
            "text/plain": [
              "<IPython.core.display.HTML object>"
            ],
            "text/html": [
              "\n",
              "            <style>\n",
              "                .geemap-dark {\n",
              "                    --jp-widgets-color: white;\n",
              "                    --jp-widgets-label-color: white;\n",
              "                    --jp-ui-font-color1: white;\n",
              "                    --jp-layout-color2: #454545;\n",
              "                    background-color: #383838;\n",
              "                }\n",
              "\n",
              "                .geemap-dark .jupyter-button {\n",
              "                    --jp-layout-color3: #383838;\n",
              "                }\n",
              "\n",
              "                .geemap-colab {\n",
              "                    background-color: var(--colab-primary-surface-color, white);\n",
              "                }\n",
              "\n",
              "                .geemap-colab .jupyter-button {\n",
              "                    --jp-layout-color3: var(--colab-primary-surface-color, white);\n",
              "                }\n",
              "            </style>\n",
              "            "
            ]
          },
          "metadata": {}
        }
      ],
      "source": [
        "# Convert GeoDataFrame to Earth Engine object\n",
        "data_raw = geemap.geopandas_to_ee(filtered_gdf)"
      ]
    },
    {
      "cell_type": "code",
      "source": [
        "# NASA SRTM Digital Elevation 30m\n",
        "terrain = ee.Algorithms.Terrain(ee.Image(\"USGS/SRTMGL1_003\"))\n",
        "elevation = terrain.select('elevation')\n",
        "\n",
        "# Add elevation to the points\n",
        "data_with_elevation = elevation.sampleRegions(\n",
        "    collection=data_raw,\n",
        "    scale=30,  # Resolution of SRTM data\n",
        "    geometries=True\n",
        ")\n",
        "\n",
        "# Filter points with elevation > 0\n",
        "filtered_data = data_with_elevation.filter(ee.Filter.gt('elevation', 0))\n",
        "print(\"Original data size:\", data_raw.size().getInfo())\n",
        "print(\"Final data size:\", filtered_data.size().getInfo())"
      ],
      "metadata": {
        "colab": {
          "base_uri": "https://localhost:8080/",
          "height": 53
        },
        "id": "u3GTgF0I7hOI",
        "outputId": "219a1195-3d90-4e16-ba9e-5ae20a40cbf3"
      },
      "execution_count": 11,
      "outputs": [
        {
          "output_type": "display_data",
          "data": {
            "text/plain": [
              "<IPython.core.display.HTML object>"
            ],
            "text/html": [
              "\n",
              "            <style>\n",
              "                .geemap-dark {\n",
              "                    --jp-widgets-color: white;\n",
              "                    --jp-widgets-label-color: white;\n",
              "                    --jp-ui-font-color1: white;\n",
              "                    --jp-layout-color2: #454545;\n",
              "                    background-color: #383838;\n",
              "                }\n",
              "\n",
              "                .geemap-dark .jupyter-button {\n",
              "                    --jp-layout-color3: #383838;\n",
              "                }\n",
              "\n",
              "                .geemap-colab {\n",
              "                    background-color: var(--colab-primary-surface-color, white);\n",
              "                }\n",
              "\n",
              "                .geemap-colab .jupyter-button {\n",
              "                    --jp-layout-color3: var(--colab-primary-surface-color, white);\n",
              "                }\n",
              "            </style>\n",
              "            "
            ]
          },
          "metadata": {}
        },
        {
          "output_type": "stream",
          "name": "stdout",
          "text": [
            "Original data size: 249\n",
            "Final data size: 237\n"
          ]
        }
      ]
    },
    {
      "cell_type": "markdown",
      "metadata": {
        "id": "55p_GfB6sv3U"
      },
      "source": [
        "Next, we will define the raster pixel size of the SDM results as 1km resolution."
      ]
    },
    {
      "cell_type": "markdown",
      "source": [],
      "metadata": {
        "id": "7x4rW58F7N45"
      }
    },
    {
      "cell_type": "code",
      "execution_count": 12,
      "metadata": {
        "id": "FsTbNQ17s1l-",
        "colab": {
          "base_uri": "https://localhost:8080/",
          "height": 17
        },
        "outputId": "315131e0-277e-49c9-970a-d7d44d5a351e"
      },
      "outputs": [
        {
          "output_type": "display_data",
          "data": {
            "text/plain": [
              "<IPython.core.display.HTML object>"
            ],
            "text/html": [
              "\n",
              "            <style>\n",
              "                .geemap-dark {\n",
              "                    --jp-widgets-color: white;\n",
              "                    --jp-widgets-label-color: white;\n",
              "                    --jp-ui-font-color1: white;\n",
              "                    --jp-layout-color2: #454545;\n",
              "                    background-color: #383838;\n",
              "                }\n",
              "\n",
              "                .geemap-dark .jupyter-button {\n",
              "                    --jp-layout-color3: #383838;\n",
              "                }\n",
              "\n",
              "                .geemap-colab {\n",
              "                    background-color: var(--colab-primary-surface-color, white);\n",
              "                }\n",
              "\n",
              "                .geemap-colab .jupyter-button {\n",
              "                    --jp-layout-color3: var(--colab-primary-surface-color, white);\n",
              "                }\n",
              "            </style>\n",
              "            "
            ]
          },
          "metadata": {}
        }
      ],
      "source": [
        "# Spatial resolution setting (meters)\n",
        "grain_size = 1000"
      ]
    },
    {
      "cell_type": "markdown",
      "metadata": {
        "id": "A20gAGUZtN6S"
      },
      "source": [
        "When multiple occurrence points are present within the same 1km resolution raster pixel, there is a high likelihood that they share the same environmental conditions at the same geographic location. Using such data directly in the analysis can introduce bias into the results.\n",
        "\n",
        "In other words, we need to limit the potential impact of geographic sampling bias. To achieve this, we will retain only one location within each 1km pixel and remove all others, allowing the model to more objectively reflect the environmental conditions."
      ]
    },
    {
      "cell_type": "code",
      "execution_count": 13,
      "metadata": {
        "id": "dHtyQyMQs82v",
        "colab": {
          "base_uri": "https://localhost:8080/",
          "height": 53
        },
        "outputId": "35216117-fbe6-4c45-9c94-d34010c5e5f5"
      },
      "outputs": [
        {
          "output_type": "display_data",
          "data": {
            "text/plain": [
              "<IPython.core.display.HTML object>"
            ],
            "text/html": [
              "\n",
              "            <style>\n",
              "                .geemap-dark {\n",
              "                    --jp-widgets-color: white;\n",
              "                    --jp-widgets-label-color: white;\n",
              "                    --jp-ui-font-color1: white;\n",
              "                    --jp-layout-color2: #454545;\n",
              "                    background-color: #383838;\n",
              "                }\n",
              "\n",
              "                .geemap-dark .jupyter-button {\n",
              "                    --jp-layout-color3: #383838;\n",
              "                }\n",
              "\n",
              "                .geemap-colab {\n",
              "                    background-color: var(--colab-primary-surface-color, white);\n",
              "                }\n",
              "\n",
              "                .geemap-colab .jupyter-button {\n",
              "                    --jp-layout-color3: var(--colab-primary-surface-color, white);\n",
              "                }\n",
              "            </style>\n",
              "            "
            ]
          },
          "metadata": {}
        },
        {
          "output_type": "stream",
          "name": "stdout",
          "text": [
            "Original data size: 237\n",
            "Final data size: 129\n"
          ]
        }
      ],
      "source": [
        "def remove_duplicates(data, grain_size):\n",
        "    # Select one occurrence record per pixel at the chosen spatial resolution\n",
        "    random_raster = ee.Image.random().reproject(\"EPSG:4326\", None, grain_size)\n",
        "    rand_point_vals = random_raster.sampleRegions(\n",
        "        collection=ee.FeatureCollection(data), geometries=True\n",
        "    )\n",
        "    return rand_point_vals.distinct(\"random\")\n",
        "\n",
        "data = remove_duplicates(filtered_data, grain_size)\n",
        "\n",
        "# Before selection and after selection\n",
        "print(\"Original data size:\", filtered_data.size().getInfo())\n",
        "print(\"Final data size:\", data.size().getInfo())"
      ]
    },
    {
      "cell_type": "markdown",
      "metadata": {
        "id": "Rhu4b4BxuMHE"
      },
      "source": [
        "The visualization comparing geographic sampling bias before preprocessing (in blue) and after preprocessing (in red) is shown below. To facilitate comparison, the map has been centered on the area with a high concentration of Fairy pitta occurrence coordinates in Hallasan National Park."
      ]
    },
    {
      "cell_type": "code",
      "execution_count": 14,
      "metadata": {
        "id": "d9pFgpUztsB-",
        "colab": {
          "base_uri": "https://localhost:8080/",
          "height": 421,
          "referenced_widgets": [
            "a8ed520004b54a6599528249a1987b19",
            "124ad22c594a4523974e7929a83aad34",
            "f0e5107f6e204405ac395795c32b43da",
            "8be92bb0516147e9a54882f3f5929751",
            "f22c2d351fba4bcc9de9ff252e478f0c",
            "91c606caa6ca41dfb23ba5f9b9ead9f1",
            "57d53ad9460b44b1800e6d7553699fbc",
            "1156c3bd389b41dc9467d36ae2f9ef96",
            "0d627b504960436b8f773c4307b49ac5",
            "7b41221e94d04db6afe3eab2142116aa",
            "f6be2e75b9ae4edc8e7817aa09a9f951",
            "00f6d07607c84e4786429e3a1bb367ed",
            "850e5ca7dab34a11a104bbfe70ad1752",
            "0464c9d60de64b18ad070f53bc8c3838",
            "669b6dbae31841e7b888afba059cd41a",
            "d8e67c550189413597c7efe98ac64012",
            "0b6c9f2182f84dff8af1c38d3c5f632d",
            "dfe899983ff64339bfe0e3f0d4f9c554",
            "9487f94973384ccd873760dcf3ed06fc",
            "8461f0f80fb641d2a94909b4614a2440",
            "94d14e12502241c5a27f227a8d6fe2c0",
            "8065ebb9b17e43dab28827eef6c9d2e0",
            "b1f676f3774043899c2b264b3d1aebd2",
            "192414a331214db29176692b2b3d510c",
            "f6b1780a5454422ca84a55d50bb2363f",
            "3e136b130ec24853b1e4f8f63580879c",
            "4460950f0ba14582ac7693718a7edba3"
          ]
        },
        "outputId": "506c3bde-b6b0-4dd4-cb97-9150d47b6ce1"
      },
      "outputs": [
        {
          "output_type": "display_data",
          "data": {
            "text/plain": [
              "<IPython.core.display.HTML object>"
            ],
            "text/html": [
              "\n",
              "            <style>\n",
              "                .geemap-dark {\n",
              "                    --jp-widgets-color: white;\n",
              "                    --jp-widgets-label-color: white;\n",
              "                    --jp-ui-font-color1: white;\n",
              "                    --jp-layout-color2: #454545;\n",
              "                    background-color: #383838;\n",
              "                }\n",
              "\n",
              "                .geemap-dark .jupyter-button {\n",
              "                    --jp-layout-color3: #383838;\n",
              "                }\n",
              "\n",
              "                .geemap-colab {\n",
              "                    background-color: var(--colab-primary-surface-color, white);\n",
              "                }\n",
              "\n",
              "                .geemap-colab .jupyter-button {\n",
              "                    --jp-layout-color3: var(--colab-primary-surface-color, white);\n",
              "                }\n",
              "            </style>\n",
              "            "
            ]
          },
          "metadata": {}
        },
        {
          "output_type": "display_data",
          "data": {
            "text/plain": [
              "Map(center=[33.516, 126.712], controls=(WidgetControl(options=['position', 'transparent_bg'], widget=SearchDat…"
            ],
            "application/vnd.jupyter.widget-view+json": {
              "version_major": 2,
              "version_minor": 0,
              "model_id": "a8ed520004b54a6599528249a1987b19"
            }
          },
          "metadata": {
            "application/vnd.jupyter.widget-view+json": {
              "colab": {
                "custom_widget_manager": {
                  "url": "https://ssl.gstatic.com/colaboratory-static/widgets/colab-cdn-widget-manager/2b70e893a8ba7c0f/manager.min.js"
                }
              }
            }
          }
        }
      ],
      "source": [
        "# Visualization of geographic sampling bias before (blue) and after (red) preprocessing\n",
        "Map = geemap.Map(layout={\"height\": \"400px\", \"width\": \"800px\"})\n",
        "\n",
        "# Add the random raster layer\n",
        "random_raster = ee.Image.random().reproject(\"EPSG:4326\", None, grain_size)\n",
        "Map.addLayer(\n",
        "    random_raster,\n",
        "    {\"min\": 0, \"max\": 1, \"palette\": [\"black\", \"white\"], \"opacity\": 0.5},\n",
        "    \"Random Raster\",\n",
        ")\n",
        "\n",
        "# Add the original data layer in blue\n",
        "Map.addLayer(data_raw, {\"color\": \"blue\"}, \"Original data\")\n",
        "\n",
        "# Add the final data layer in red\n",
        "Map.addLayer(data, {\"color\": \"red\"}, \"Final data\")\n",
        "\n",
        "# Set the center of the map to the coordinates\n",
        "Map.setCenter(126.712, 33.516, 14)\n",
        "Map"
      ]
    },
    {
      "cell_type": "markdown",
      "metadata": {
        "id": "3oPtTj_O6d3H"
      },
      "source": [
        "### Definition of the Area of Interest\n",
        "\n",
        "Defining the Area of Interest (AOI below) refers to the term used by researchers to denote the geographical area they want to analyze. It has a similar meaning to the term Study Area.\n",
        "\n",
        "In this context, we obtained the bounding box of the occurrence point layer geometry and created a 50-kilometer buffer around it (with a maximum tolerance of 1,000 meters) to define the AOI."
      ]
    },
    {
      "cell_type": "code",
      "execution_count": 15,
      "metadata": {
        "id": "XIyhhdzUvyZw",
        "colab": {
          "base_uri": "https://localhost:8080/",
          "height": 421,
          "referenced_widgets": [
            "a8ed520004b54a6599528249a1987b19",
            "124ad22c594a4523974e7929a83aad34",
            "f0e5107f6e204405ac395795c32b43da",
            "8be92bb0516147e9a54882f3f5929751",
            "f22c2d351fba4bcc9de9ff252e478f0c",
            "91c606caa6ca41dfb23ba5f9b9ead9f1",
            "57d53ad9460b44b1800e6d7553699fbc",
            "1156c3bd389b41dc9467d36ae2f9ef96",
            "0d627b504960436b8f773c4307b49ac5",
            "7b41221e94d04db6afe3eab2142116aa",
            "f6be2e75b9ae4edc8e7817aa09a9f951",
            "00f6d07607c84e4786429e3a1bb367ed",
            "850e5ca7dab34a11a104bbfe70ad1752",
            "0464c9d60de64b18ad070f53bc8c3838",
            "4460950f0ba14582ac7693718a7edba3",
            "669b6dbae31841e7b888afba059cd41a",
            "d8e67c550189413597c7efe98ac64012",
            "0b6c9f2182f84dff8af1c38d3c5f632d",
            "dfe899983ff64339bfe0e3f0d4f9c554",
            "9487f94973384ccd873760dcf3ed06fc",
            "8461f0f80fb641d2a94909b4614a2440",
            "94d14e12502241c5a27f227a8d6fe2c0",
            "8065ebb9b17e43dab28827eef6c9d2e0",
            "b1f676f3774043899c2b264b3d1aebd2",
            "192414a331214db29176692b2b3d510c",
            "f6b1780a5454422ca84a55d50bb2363f",
            "3e136b130ec24853b1e4f8f63580879c"
          ]
        },
        "outputId": "ccf7e15f-bdf2-4996-c3a7-fdcce38fbfc6"
      },
      "outputs": [
        {
          "output_type": "display_data",
          "data": {
            "text/plain": [
              "<IPython.core.display.HTML object>"
            ],
            "text/html": [
              "\n",
              "            <style>\n",
              "                .geemap-dark {\n",
              "                    --jp-widgets-color: white;\n",
              "                    --jp-widgets-label-color: white;\n",
              "                    --jp-ui-font-color1: white;\n",
              "                    --jp-layout-color2: #454545;\n",
              "                    background-color: #383838;\n",
              "                }\n",
              "\n",
              "                .geemap-dark .jupyter-button {\n",
              "                    --jp-layout-color3: #383838;\n",
              "                }\n",
              "\n",
              "                .geemap-colab {\n",
              "                    background-color: var(--colab-primary-surface-color, white);\n",
              "                }\n",
              "\n",
              "                .geemap-colab .jupyter-button {\n",
              "                    --jp-layout-color3: var(--colab-primary-surface-color, white);\n",
              "                }\n",
              "            </style>\n",
              "            "
            ]
          },
          "metadata": {}
        },
        {
          "output_type": "display_data",
          "data": {
            "text/plain": [
              "Map(center=[35.60541125576072, 127.04873061439156], controls=(WidgetControl(options=['position', 'transparent_…"
            ],
            "application/vnd.jupyter.widget-view+json": {
              "version_major": 2,
              "version_minor": 0,
              "model_id": "a8ed520004b54a6599528249a1987b19"
            }
          },
          "metadata": {
            "application/vnd.jupyter.widget-view+json": {
              "colab": {
                "custom_widget_manager": {
                  "url": "https://ssl.gstatic.com/colaboratory-static/widgets/colab-cdn-widget-manager/2b70e893a8ba7c0f/manager.min.js"
                }
              }
            }
          }
        }
      ],
      "source": [
        "# Define the AOI\n",
        "aoi = data.geometry().bounds().buffer(distance=50000, maxError=1000)\n",
        "\n",
        "# Add the AOI to the map\n",
        "outline = ee.Image().byte().paint(\n",
        "    featureCollection=aoi, color=1, width=3)\n",
        "\n",
        "Map.remove_layer(\"Random Raster\")\n",
        "Map.addLayer(outline, {'palette': 'FF0000'}, \"AOI\")\n",
        "Map.centerObject(aoi, 6)\n",
        "Map"
      ]
    },
    {
      "cell_type": "markdown",
      "metadata": {
        "id": "fWsplwHD8ZFd"
      },
      "source": [
        "### Addition of GEE environmental variables\n",
        "\n",
        "Now, let's add environmental variables to the analysis. GEE provides a wide range of datasets for environmental variables such as temperature, precipitation, elevation, land cover, and terrain. These datasets enable us to comprehensively analyze various factors that may influence the habitat preferences of the Fairy pitta.\n",
        "\n",
        "The selection of GEE environmental variables in SDM should reflect the habitat preference characteristics of the species. To do this, prior research and literature review on the Fairy pitta's habitat preferences should be conducted. This tutorial primarily focuses on the workflow of SDM using GEE, so some in-depth details are omitted.\n",
        "\n",
        "[**WorldClim V1 Bioclim**](https://developers.google.com/earth-engine/datasets/catalog/WORLDCLIM_V1_BIO): This dataset provides 19 bioclimatic variables derived from monthly temperature and precipitation data. It covers the period from 1960 to 1991 and has a resolution of 927.67 meters."
      ]
    },
    {
      "cell_type": "code",
      "execution_count": 16,
      "metadata": {
        "id": "TNW23qpX7shy",
        "colab": {
          "base_uri": "https://localhost:8080/",
          "height": 17
        },
        "outputId": "0c6d4484-cd0f-48d6-e825-1d5d51277fe0"
      },
      "outputs": [
        {
          "output_type": "display_data",
          "data": {
            "text/plain": [
              "<IPython.core.display.HTML object>"
            ],
            "text/html": [
              "\n",
              "            <style>\n",
              "                .geemap-dark {\n",
              "                    --jp-widgets-color: white;\n",
              "                    --jp-widgets-label-color: white;\n",
              "                    --jp-ui-font-color1: white;\n",
              "                    --jp-layout-color2: #454545;\n",
              "                    background-color: #383838;\n",
              "                }\n",
              "\n",
              "                .geemap-dark .jupyter-button {\n",
              "                    --jp-layout-color3: #383838;\n",
              "                }\n",
              "\n",
              "                .geemap-colab {\n",
              "                    background-color: var(--colab-primary-surface-color, white);\n",
              "                }\n",
              "\n",
              "                .geemap-colab .jupyter-button {\n",
              "                    --jp-layout-color3: var(--colab-primary-surface-color, white);\n",
              "                }\n",
              "            </style>\n",
              "            "
            ]
          },
          "metadata": {}
        }
      ],
      "source": [
        "# WorldClim V1 Bioclim\n",
        "bio = ee.Image(\"WORLDCLIM/V1/BIO\")"
      ]
    },
    {
      "cell_type": "markdown",
      "metadata": {
        "id": "AzrCwWu39iLw"
      },
      "source": [
        "[**NASA SRTM Digital Elevation 30m**](https://developers.google.com/earth-engine/datasets/catalog/USGS_SRTMGL1_003): This dataset contains digital elevation data from the Shuttle Radar Topography Mission (SRTM). The data was primarily collected around the year 2000 and is provided at a resolution of approximately 30 meters (1 arc-second). The following code calculates elevation, slope, aspect, and hillshade layers from the SRTM data."
      ]
    },
    {
      "cell_type": "code",
      "execution_count": 17,
      "metadata": {
        "id": "O8lPyhWv9hHn",
        "colab": {
          "base_uri": "https://localhost:8080/",
          "height": 17
        },
        "outputId": "b3191dfa-9918-4c1f-8b7a-8714d101cd9d"
      },
      "outputs": [
        {
          "output_type": "display_data",
          "data": {
            "text/plain": [
              "<IPython.core.display.HTML object>"
            ],
            "text/html": [
              "\n",
              "            <style>\n",
              "                .geemap-dark {\n",
              "                    --jp-widgets-color: white;\n",
              "                    --jp-widgets-label-color: white;\n",
              "                    --jp-ui-font-color1: white;\n",
              "                    --jp-layout-color2: #454545;\n",
              "                    background-color: #383838;\n",
              "                }\n",
              "\n",
              "                .geemap-dark .jupyter-button {\n",
              "                    --jp-layout-color3: #383838;\n",
              "                }\n",
              "\n",
              "                .geemap-colab {\n",
              "                    background-color: var(--colab-primary-surface-color, white);\n",
              "                }\n",
              "\n",
              "                .geemap-colab .jupyter-button {\n",
              "                    --jp-layout-color3: var(--colab-primary-surface-color, white);\n",
              "                }\n",
              "            </style>\n",
              "            "
            ]
          },
          "metadata": {}
        }
      ],
      "source": [
        "# NASA SRTM Digital Elevation 30m\n",
        "terrain = ee.Algorithms.Terrain(ee.Image(\"USGS/SRTMGL1_003\"))"
      ]
    },
    {
      "cell_type": "markdown",
      "metadata": {
        "id": "H-kFHdWP9_3N"
      },
      "source": [
        "[**Global Forest Cover Change (GFCC) Tree Cover Multi-Year Global 30m**](https://developers.google.com/earth-engine/datasets/catalog/NASA_MEASURES_GFCC_TC_v3): The Vegetation Continuous Fields (VCF) dataset from Landsat estimates the proportion of vertically projected vegetation cover when the vegetation height is greater than 5 meters. This dataset is provided for four time periods centered around the years 2000, 2005, 2010, and 2015, with a resolution of 30 meters. Here, the median values from these four time periods are used."
      ]
    },
    {
      "cell_type": "code",
      "execution_count": 18,
      "metadata": {
        "id": "-ymsifA098H6",
        "colab": {
          "base_uri": "https://localhost:8080/",
          "height": 17
        },
        "outputId": "6377ba21-2b30-45be-acf8-3df24f37cdbe"
      },
      "outputs": [
        {
          "output_type": "display_data",
          "data": {
            "text/plain": [
              "<IPython.core.display.HTML object>"
            ],
            "text/html": [
              "\n",
              "            <style>\n",
              "                .geemap-dark {\n",
              "                    --jp-widgets-color: white;\n",
              "                    --jp-widgets-label-color: white;\n",
              "                    --jp-ui-font-color1: white;\n",
              "                    --jp-layout-color2: #454545;\n",
              "                    background-color: #383838;\n",
              "                }\n",
              "\n",
              "                .geemap-dark .jupyter-button {\n",
              "                    --jp-layout-color3: #383838;\n",
              "                }\n",
              "\n",
              "                .geemap-colab {\n",
              "                    background-color: var(--colab-primary-surface-color, white);\n",
              "                }\n",
              "\n",
              "                .geemap-colab .jupyter-button {\n",
              "                    --jp-layout-color3: var(--colab-primary-surface-color, white);\n",
              "                }\n",
              "            </style>\n",
              "            "
            ]
          },
          "metadata": {}
        }
      ],
      "source": [
        "# Global Forest Cover Change (GFCC) Tree Cover Multi-Year Global 30m\n",
        "tcc = ee.ImageCollection(\"NASA/MEASURES/GFCC/TC/v3\")\n",
        "median_tcc = (\n",
        "    tcc.filterDate(\"2000-01-01\", \"2015-12-31\")\n",
        "    .select([\"tree_canopy_cover\"], [\"TCC\"])\n",
        "    .median()\n",
        ")"
      ]
    },
    {
      "cell_type": "code",
      "source": [
        "# CSP gHM: Global Human Modification\n",
        "ghm = ee.ImageCollection('CSP/HM/GlobalHumanModification').median()"
      ],
      "metadata": {
        "colab": {
          "base_uri": "https://localhost:8080/",
          "height": 17
        },
        "id": "hxx3Rqid5n05",
        "outputId": "0c7f6ca3-42e9-467e-9265-43ffe6830b42"
      },
      "execution_count": 19,
      "outputs": [
        {
          "output_type": "display_data",
          "data": {
            "text/plain": [
              "<IPython.core.display.HTML object>"
            ],
            "text/html": [
              "\n",
              "            <style>\n",
              "                .geemap-dark {\n",
              "                    --jp-widgets-color: white;\n",
              "                    --jp-widgets-label-color: white;\n",
              "                    --jp-ui-font-color1: white;\n",
              "                    --jp-layout-color2: #454545;\n",
              "                    background-color: #383838;\n",
              "                }\n",
              "\n",
              "                .geemap-dark .jupyter-button {\n",
              "                    --jp-layout-color3: #383838;\n",
              "                }\n",
              "\n",
              "                .geemap-colab {\n",
              "                    background-color: var(--colab-primary-surface-color, white);\n",
              "                }\n",
              "\n",
              "                .geemap-colab .jupyter-button {\n",
              "                    --jp-layout-color3: var(--colab-primary-surface-color, white);\n",
              "                }\n",
              "            </style>\n",
              "            "
            ]
          },
          "metadata": {}
        }
      ]
    },
    {
      "cell_type": "markdown",
      "metadata": {
        "id": "CMrmqQ5X-uOB"
      },
      "source": [
        "`bio` (Bioclimatic variables), `terrain` (topography), and `median_tcc` (tree canopy cover) are combined into a single multiband image. The `elevation` band is selected from `terrain`, and a `watermask` is created for locations where `elevation` is greater than `0`. This masks regions below sea level (e.g. the ocean) and prepares the researcher to analyze various environmental factors for the AOI comprehensively."
      ]
    },
    {
      "cell_type": "code",
      "execution_count": 20,
      "metadata": {
        "id": "gSbuqe6k-k6B",
        "colab": {
          "base_uri": "https://localhost:8080/",
          "height": 17
        },
        "outputId": "88b970ec-071e-4476-fc50-b7111af112f2"
      },
      "outputs": [
        {
          "output_type": "display_data",
          "data": {
            "text/plain": [
              "<IPython.core.display.HTML object>"
            ],
            "text/html": [
              "\n",
              "            <style>\n",
              "                .geemap-dark {\n",
              "                    --jp-widgets-color: white;\n",
              "                    --jp-widgets-label-color: white;\n",
              "                    --jp-ui-font-color1: white;\n",
              "                    --jp-layout-color2: #454545;\n",
              "                    background-color: #383838;\n",
              "                }\n",
              "\n",
              "                .geemap-dark .jupyter-button {\n",
              "                    --jp-layout-color3: #383838;\n",
              "                }\n",
              "\n",
              "                .geemap-colab {\n",
              "                    background-color: var(--colab-primary-surface-color, white);\n",
              "                }\n",
              "\n",
              "                .geemap-colab .jupyter-button {\n",
              "                    --jp-layout-color3: var(--colab-primary-surface-color, white);\n",
              "                }\n",
              "            </style>\n",
              "            "
            ]
          },
          "metadata": {}
        }
      ],
      "source": [
        "# Combine bands into a multi-band image\n",
        "predictors = bio.addBands(terrain).addBands(median_tcc).addBands(ghm)\n",
        "\n",
        "# Create a water mask\n",
        "watermask = terrain.select('elevation').gt(0)\n",
        "\n",
        "# Mask out ocean pixels and clip to the area of interest\n",
        "predictors = predictors.updateMask(watermask).clip(aoi)"
      ]
    },
    {
      "cell_type": "markdown",
      "metadata": {
        "id": "WmuXiScSAlxX"
      },
      "source": [
        "When highly correlated predictor variables are included together in a model, multicollinearity issues can arise. Multicollinearity is a phenomenon that occurs when there are strong linear relationships among independent variables in a model, leading to instability in the estimation of the model's coefficients (weights). This instability can reduce the model's reliability and make predictions or interpretations for new data challenging. Therefore, we will consider multicollinearity and proceed with the process of selecting predictor variables.\n",
        "\n",
        "First, we will generate 5,000 random points and then extract the predictor variable values of the single multiband image at those points."
      ]
    },
    {
      "cell_type": "code",
      "execution_count": 21,
      "metadata": {
        "id": "vYLvzPDwAeyk",
        "colab": {
          "base_uri": "https://localhost:8080/",
          "height": 17
        },
        "outputId": "384cef84-77b0-4362-fc4a-f292d4d563d1"
      },
      "outputs": [
        {
          "output_type": "display_data",
          "data": {
            "text/plain": [
              "<IPython.core.display.HTML object>"
            ],
            "text/html": [
              "\n",
              "            <style>\n",
              "                .geemap-dark {\n",
              "                    --jp-widgets-color: white;\n",
              "                    --jp-widgets-label-color: white;\n",
              "                    --jp-ui-font-color1: white;\n",
              "                    --jp-layout-color2: #454545;\n",
              "                    background-color: #383838;\n",
              "                }\n",
              "\n",
              "                .geemap-dark .jupyter-button {\n",
              "                    --jp-layout-color3: #383838;\n",
              "                }\n",
              "\n",
              "                .geemap-colab {\n",
              "                    background-color: var(--colab-primary-surface-color, white);\n",
              "                }\n",
              "\n",
              "                .geemap-colab .jupyter-button {\n",
              "                    --jp-layout-color3: var(--colab-primary-surface-color, white);\n",
              "                }\n",
              "            </style>\n",
              "            "
            ]
          },
          "metadata": {}
        }
      ],
      "source": [
        "# Generate 5,000 random points\n",
        "data_cor = predictors.sample(scale=grain_size, numPixels=5000, geometries=True)\n",
        "\n",
        "# Extract predictor variable values\n",
        "pvals = predictors.sampleRegions(collection=data_cor, scale=grain_size)"
      ]
    },
    {
      "cell_type": "markdown",
      "metadata": {
        "id": "oHWmXtTxCmfV"
      },
      "source": [
        "We will convert the extracted predictor values for each point into a DataFrame and then check the first row."
      ]
    },
    {
      "cell_type": "code",
      "execution_count": 22,
      "metadata": {
        "id": "x1Bv0knrBbWn",
        "colab": {
          "base_uri": "https://localhost:8080/",
          "height": 110
        },
        "outputId": "3937c79f-a59e-4f9c-ea35-715886decc98"
      },
      "outputs": [
        {
          "output_type": "display_data",
          "data": {
            "text/plain": [
              "<IPython.core.display.HTML object>"
            ],
            "text/html": [
              "\n",
              "            <style>\n",
              "                .geemap-dark {\n",
              "                    --jp-widgets-color: white;\n",
              "                    --jp-widgets-label-color: white;\n",
              "                    --jp-ui-font-color1: white;\n",
              "                    --jp-layout-color2: #454545;\n",
              "                    background-color: #383838;\n",
              "                }\n",
              "\n",
              "                .geemap-dark .jupyter-button {\n",
              "                    --jp-layout-color3: #383838;\n",
              "                }\n",
              "\n",
              "                .geemap-colab {\n",
              "                    background-color: var(--colab-primary-surface-color, white);\n",
              "                }\n",
              "\n",
              "                .geemap-colab .jupyter-button {\n",
              "                    --jp-layout-color3: var(--colab-primary-surface-color, white);\n",
              "                }\n",
              "            </style>\n",
              "            "
            ]
          },
          "metadata": {}
        },
        {
          "output_type": "execute_result",
          "data": {
            "text/plain": [
              "    TCC  aspect  bio01  bio02  bio03  bio04  bio05  bio06  bio07  bio08  ...  \\\n",
              "0  60.0     258     98    109     27  10278    281   -116    397    218  ...   \n",
              "\n",
              "   bio14  bio15  bio16  bio17  bio18  bio19  elevation       gHM  hillshade  \\\n",
              "0     20    101    915     71    892     71        362  0.487276        216   \n",
              "\n",
              "   slope  \n",
              "0     12  \n",
              "\n",
              "[1 rows x 25 columns]"
            ],
            "text/html": [
              "\n",
              "  <div id=\"df-595fb897-14f8-40b8-93f2-c83a77f8359c\" class=\"colab-df-container\">\n",
              "    <div>\n",
              "<style scoped>\n",
              "    .dataframe tbody tr th:only-of-type {\n",
              "        vertical-align: middle;\n",
              "    }\n",
              "\n",
              "    .dataframe tbody tr th {\n",
              "        vertical-align: top;\n",
              "    }\n",
              "\n",
              "    .dataframe thead th {\n",
              "        text-align: right;\n",
              "    }\n",
              "</style>\n",
              "<table border=\"1\" class=\"dataframe\">\n",
              "  <thead>\n",
              "    <tr style=\"text-align: right;\">\n",
              "      <th></th>\n",
              "      <th>TCC</th>\n",
              "      <th>aspect</th>\n",
              "      <th>bio01</th>\n",
              "      <th>bio02</th>\n",
              "      <th>bio03</th>\n",
              "      <th>bio04</th>\n",
              "      <th>bio05</th>\n",
              "      <th>bio06</th>\n",
              "      <th>bio07</th>\n",
              "      <th>bio08</th>\n",
              "      <th>...</th>\n",
              "      <th>bio14</th>\n",
              "      <th>bio15</th>\n",
              "      <th>bio16</th>\n",
              "      <th>bio17</th>\n",
              "      <th>bio18</th>\n",
              "      <th>bio19</th>\n",
              "      <th>elevation</th>\n",
              "      <th>gHM</th>\n",
              "      <th>hillshade</th>\n",
              "      <th>slope</th>\n",
              "    </tr>\n",
              "  </thead>\n",
              "  <tbody>\n",
              "    <tr>\n",
              "      <th>0</th>\n",
              "      <td>60.0</td>\n",
              "      <td>258</td>\n",
              "      <td>98</td>\n",
              "      <td>109</td>\n",
              "      <td>27</td>\n",
              "      <td>10278</td>\n",
              "      <td>281</td>\n",
              "      <td>-116</td>\n",
              "      <td>397</td>\n",
              "      <td>218</td>\n",
              "      <td>...</td>\n",
              "      <td>20</td>\n",
              "      <td>101</td>\n",
              "      <td>915</td>\n",
              "      <td>71</td>\n",
              "      <td>892</td>\n",
              "      <td>71</td>\n",
              "      <td>362</td>\n",
              "      <td>0.487276</td>\n",
              "      <td>216</td>\n",
              "      <td>12</td>\n",
              "    </tr>\n",
              "  </tbody>\n",
              "</table>\n",
              "<p>1 rows × 25 columns</p>\n",
              "</div>\n",
              "    <div class=\"colab-df-buttons\">\n",
              "\n",
              "  <div class=\"colab-df-container\">\n",
              "    <button class=\"colab-df-convert\" onclick=\"convertToInteractive('df-595fb897-14f8-40b8-93f2-c83a77f8359c')\"\n",
              "            title=\"Convert this dataframe to an interactive table.\"\n",
              "            style=\"display:none;\">\n",
              "\n",
              "  <svg xmlns=\"http://www.w3.org/2000/svg\" height=\"24px\" viewBox=\"0 -960 960 960\">\n",
              "    <path d=\"M120-120v-720h720v720H120Zm60-500h600v-160H180v160Zm220 220h160v-160H400v160Zm0 220h160v-160H400v160ZM180-400h160v-160H180v160Zm440 0h160v-160H620v160ZM180-180h160v-160H180v160Zm440 0h160v-160H620v160Z\"/>\n",
              "  </svg>\n",
              "    </button>\n",
              "\n",
              "  <style>\n",
              "    .colab-df-container {\n",
              "      display:flex;\n",
              "      gap: 12px;\n",
              "    }\n",
              "\n",
              "    .colab-df-convert {\n",
              "      background-color: #E8F0FE;\n",
              "      border: none;\n",
              "      border-radius: 50%;\n",
              "      cursor: pointer;\n",
              "      display: none;\n",
              "      fill: #1967D2;\n",
              "      height: 32px;\n",
              "      padding: 0 0 0 0;\n",
              "      width: 32px;\n",
              "    }\n",
              "\n",
              "    .colab-df-convert:hover {\n",
              "      background-color: #E2EBFA;\n",
              "      box-shadow: 0px 1px 2px rgba(60, 64, 67, 0.3), 0px 1px 3px 1px rgba(60, 64, 67, 0.15);\n",
              "      fill: #174EA6;\n",
              "    }\n",
              "\n",
              "    .colab-df-buttons div {\n",
              "      margin-bottom: 4px;\n",
              "    }\n",
              "\n",
              "    [theme=dark] .colab-df-convert {\n",
              "      background-color: #3B4455;\n",
              "      fill: #D2E3FC;\n",
              "    }\n",
              "\n",
              "    [theme=dark] .colab-df-convert:hover {\n",
              "      background-color: #434B5C;\n",
              "      box-shadow: 0px 1px 3px 1px rgba(0, 0, 0, 0.15);\n",
              "      filter: drop-shadow(0px 1px 2px rgba(0, 0, 0, 0.3));\n",
              "      fill: #FFFFFF;\n",
              "    }\n",
              "  </style>\n",
              "\n",
              "    <script>\n",
              "      const buttonEl =\n",
              "        document.querySelector('#df-595fb897-14f8-40b8-93f2-c83a77f8359c button.colab-df-convert');\n",
              "      buttonEl.style.display =\n",
              "        google.colab.kernel.accessAllowed ? 'block' : 'none';\n",
              "\n",
              "      async function convertToInteractive(key) {\n",
              "        const element = document.querySelector('#df-595fb897-14f8-40b8-93f2-c83a77f8359c');\n",
              "        const dataTable =\n",
              "          await google.colab.kernel.invokeFunction('convertToInteractive',\n",
              "                                                    [key], {});\n",
              "        if (!dataTable) return;\n",
              "\n",
              "        const docLinkHtml = 'Like what you see? Visit the ' +\n",
              "          '<a target=\"_blank\" href=https://colab.research.google.com/notebooks/data_table.ipynb>data table notebook</a>'\n",
              "          + ' to learn more about interactive tables.';\n",
              "        element.innerHTML = '';\n",
              "        dataTable['output_type'] = 'display_data';\n",
              "        await google.colab.output.renderOutput(dataTable, element);\n",
              "        const docLink = document.createElement('div');\n",
              "        docLink.innerHTML = docLinkHtml;\n",
              "        element.appendChild(docLink);\n",
              "      }\n",
              "    </script>\n",
              "  </div>\n",
              "\n",
              "\n",
              "    </div>\n",
              "  </div>\n"
            ],
            "application/vnd.google.colaboratory.intrinsic+json": {
              "type": "dataframe",
              "variable_name": "pvals_df"
            }
          },
          "metadata": {},
          "execution_count": 22
        }
      ],
      "source": [
        "# Converting predictor values from Earth Engine to a DataFrame\n",
        "pvals_df = geemap.ee_to_df(pvals)\n",
        "pvals_df.head(1)"
      ]
    },
    {
      "cell_type": "code",
      "source": [
        "\"\"\"\n",
        "from sklearn.preprocessing import StandardScaler\n",
        "\n",
        "# 피처 표준화\n",
        "scaler = StandardScaler()\n",
        "pvals_df = pd.DataFrame(scaler.fit_transform(pvals_df), columns=pvals_df.columns)\n",
        "pvals_df.head(1)\n",
        "\"\"\""
      ],
      "metadata": {
        "colab": {
          "base_uri": "https://localhost:8080/",
          "height": 35
        },
        "id": "scRJjRBR-gZ4",
        "outputId": "cea7c8b3-0901-42bf-8f0c-23c90c3a5073"
      },
      "execution_count": 23,
      "outputs": [
        {
          "output_type": "display_data",
          "data": {
            "text/plain": [
              "<IPython.core.display.HTML object>"
            ],
            "text/html": [
              "\n",
              "            <style>\n",
              "                .geemap-dark {\n",
              "                    --jp-widgets-color: white;\n",
              "                    --jp-widgets-label-color: white;\n",
              "                    --jp-ui-font-color1: white;\n",
              "                    --jp-layout-color2: #454545;\n",
              "                    background-color: #383838;\n",
              "                }\n",
              "\n",
              "                .geemap-dark .jupyter-button {\n",
              "                    --jp-layout-color3: #383838;\n",
              "                }\n",
              "\n",
              "                .geemap-colab {\n",
              "                    background-color: var(--colab-primary-surface-color, white);\n",
              "                }\n",
              "\n",
              "                .geemap-colab .jupyter-button {\n",
              "                    --jp-layout-color3: var(--colab-primary-surface-color, white);\n",
              "                }\n",
              "            </style>\n",
              "            "
            ]
          },
          "metadata": {}
        },
        {
          "output_type": "execute_result",
          "data": {
            "text/plain": [
              "'\\nfrom sklearn.preprocessing import StandardScaler\\n\\n# 피처 표준화\\nscaler = StandardScaler()\\npvals_df = pd.DataFrame(scaler.fit_transform(pvals_df), columns=pvals_df.columns)\\npvals_df.head(1)\\n'"
            ],
            "application/vnd.google.colaboratory.intrinsic+json": {
              "type": "string"
            }
          },
          "metadata": {},
          "execution_count": 23
        }
      ]
    },
    {
      "cell_type": "code",
      "execution_count": 24,
      "metadata": {
        "id": "H3K-knJnC65R",
        "colab": {
          "base_uri": "https://localhost:8080/",
          "height": 108
        },
        "outputId": "358ef122-c167-4712-a666-8d87b8e1c936"
      },
      "outputs": [
        {
          "output_type": "display_data",
          "data": {
            "text/plain": [
              "<IPython.core.display.HTML object>"
            ],
            "text/html": [
              "\n",
              "            <style>\n",
              "                .geemap-dark {\n",
              "                    --jp-widgets-color: white;\n",
              "                    --jp-widgets-label-color: white;\n",
              "                    --jp-ui-font-color1: white;\n",
              "                    --jp-layout-color2: #454545;\n",
              "                    background-color: #383838;\n",
              "                }\n",
              "\n",
              "                .geemap-dark .jupyter-button {\n",
              "                    --jp-layout-color3: #383838;\n",
              "                }\n",
              "\n",
              "                .geemap-colab {\n",
              "                    background-color: var(--colab-primary-surface-color, white);\n",
              "                }\n",
              "\n",
              "                .geemap-colab .jupyter-button {\n",
              "                    --jp-layout-color3: var(--colab-primary-surface-color, white);\n",
              "                }\n",
              "            </style>\n",
              "            "
            ]
          },
          "metadata": {}
        },
        {
          "output_type": "stream",
          "name": "stdout",
          "text": [
            "Index(['TCC', 'aspect', 'bio01', 'bio02', 'bio03', 'bio04', 'bio05', 'bio06',\n",
            "       'bio07', 'bio08', 'bio09', 'bio10', 'bio11', 'bio12', 'bio13', 'bio14',\n",
            "       'bio15', 'bio16', 'bio17', 'bio18', 'bio19', 'elevation', 'gHM',\n",
            "       'hillshade', 'slope'],\n",
            "      dtype='object')\n"
          ]
        }
      ],
      "source": [
        "# Displaying the columns\n",
        "columns = pvals_df.columns\n",
        "print(columns)"
      ]
    },
    {
      "cell_type": "markdown",
      "metadata": {
        "id": "f3YiwTb8DOzb"
      },
      "source": [
        "Calculating Spearman correlation coefficients between the given predictor variables and visualizing them in a heatmap."
      ]
    },
    {
      "cell_type": "code",
      "execution_count": 25,
      "metadata": {
        "id": "AWznao3k2mZX",
        "colab": {
          "base_uri": "https://localhost:8080/",
          "height": 17
        },
        "outputId": "56b21ea7-2051-4c8d-d4c4-d73676fb79cc"
      },
      "outputs": [
        {
          "output_type": "display_data",
          "data": {
            "text/plain": [
              "<IPython.core.display.HTML object>"
            ],
            "text/html": [
              "\n",
              "            <style>\n",
              "                .geemap-dark {\n",
              "                    --jp-widgets-color: white;\n",
              "                    --jp-widgets-label-color: white;\n",
              "                    --jp-ui-font-color1: white;\n",
              "                    --jp-layout-color2: #454545;\n",
              "                    background-color: #383838;\n",
              "                }\n",
              "\n",
              "                .geemap-dark .jupyter-button {\n",
              "                    --jp-layout-color3: #383838;\n",
              "                }\n",
              "\n",
              "                .geemap-colab {\n",
              "                    background-color: var(--colab-primary-surface-color, white);\n",
              "                }\n",
              "\n",
              "                .geemap-colab .jupyter-button {\n",
              "                    --jp-layout-color3: var(--colab-primary-surface-color, white);\n",
              "                }\n",
              "            </style>\n",
              "            "
            ]
          },
          "metadata": {}
        }
      ],
      "source": [
        "def plot_correlation_heatmap(dataframe, h_size=10, show_labels=False):\n",
        "    # Calculate Spearman correlation coefficients\n",
        "    correlation_matrix = dataframe.corr(method=\"spearman\")\n",
        "\n",
        "    # Create a heatmap\n",
        "    plt.figure(figsize=(h_size, h_size-2))\n",
        "    plt.imshow(correlation_matrix, cmap='coolwarm', interpolation='nearest')\n",
        "\n",
        "    # Optionally display values on the heatmap\n",
        "    if show_labels:\n",
        "        for i in range(correlation_matrix.shape[0]):\n",
        "            for j in range(correlation_matrix.shape[1]):\n",
        "                plt.text(j, i, f\"{correlation_matrix.iloc[i, j]:.2f}\",\n",
        "                         ha='center', va='center', color='white', fontsize=8)\n",
        "\n",
        "    columns = dataframe.columns.tolist()\n",
        "    plt.xticks(range(len(columns)), columns, rotation=90)\n",
        "    plt.yticks(range(len(columns)), columns)\n",
        "    plt.title(\"Variables Correlation Matrix\")\n",
        "    plt.colorbar(label=\"Spearman Correlation\")\n",
        "    plt.savefig('correlation_heatmap_plot.png')\n",
        "    plt.show()"
      ]
    },
    {
      "cell_type": "code",
      "execution_count": 26,
      "metadata": {
        "id": "DP5ect8cDb7C",
        "colab": {
          "base_uri": "https://localhost:8080/",
          "height": 749
        },
        "outputId": "e9e38785-a1f6-4fdb-e18f-ccbd00f858d2"
      },
      "outputs": [
        {
          "output_type": "display_data",
          "data": {
            "text/plain": [
              "<IPython.core.display.HTML object>"
            ],
            "text/html": [
              "\n",
              "            <style>\n",
              "                .geemap-dark {\n",
              "                    --jp-widgets-color: white;\n",
              "                    --jp-widgets-label-color: white;\n",
              "                    --jp-ui-font-color1: white;\n",
              "                    --jp-layout-color2: #454545;\n",
              "                    background-color: #383838;\n",
              "                }\n",
              "\n",
              "                .geemap-dark .jupyter-button {\n",
              "                    --jp-layout-color3: #383838;\n",
              "                }\n",
              "\n",
              "                .geemap-colab {\n",
              "                    background-color: var(--colab-primary-surface-color, white);\n",
              "                }\n",
              "\n",
              "                .geemap-colab .jupyter-button {\n",
              "                    --jp-layout-color3: var(--colab-primary-surface-color, white);\n",
              "                }\n",
              "            </style>\n",
              "            "
            ]
          },
          "metadata": {}
        },
        {
          "output_type": "display_data",
          "data": {
            "text/plain": [
              "<Figure size 1000x800 with 2 Axes>"
            ],
            "image/png": "[encoded data removed]"
          },
          "metadata": {}
        }
      ],
      "source": [
        "# Plot the correlation heatmap of variables\n",
        "plot_correlation_heatmap(pvals_df)"
      ]
    },
    {
      "cell_type": "markdown",
      "metadata": {
        "id": "07B62CNfDyGz"
      },
      "source": [
        "Spearman correlation coefficient is useful for understanding the general associations among predictor variables but does not directly assess how multiple variables interact, specifically detecting multicollinearity.\n",
        "\n",
        "The **Variance Inflation Factor (VIF below)** is a statistical metric used to evaluate multicollinearity and guide variable selection. It indicates the degree of linear relationship of each independent variable with the other independent variables, and high VIF values can be evidence of multicollinearity.\n",
        "\n",
        "Typically, when VIF values exceed 5 or 10, it suggests that the variable has a strong correlation with other variables, potentially compromising the stability and interpretability of the model. In this tutorial, a criterion of VIF values less than 10 was used for variable selection. The following 6 variables were selected based on VIF."
      ]
    },
    {
      "cell_type": "code",
      "execution_count": 27,
      "metadata": {
        "id": "TJdGzd3SDisO",
        "colab": {
          "base_uri": "https://localhost:8080/",
          "height": 17
        },
        "outputId": "3bd0a124-cbc4-482b-9270-ede50327b2d1"
      },
      "outputs": [
        {
          "output_type": "display_data",
          "data": {
            "text/plain": [
              "<IPython.core.display.HTML object>"
            ],
            "text/html": [
              "\n",
              "            <style>\n",
              "                .geemap-dark {\n",
              "                    --jp-widgets-color: white;\n",
              "                    --jp-widgets-label-color: white;\n",
              "                    --jp-ui-font-color1: white;\n",
              "                    --jp-layout-color2: #454545;\n",
              "                    background-color: #383838;\n",
              "                }\n",
              "\n",
              "                .geemap-dark .jupyter-button {\n",
              "                    --jp-layout-color3: #383838;\n",
              "                }\n",
              "\n",
              "                .geemap-colab {\n",
              "                    background-color: var(--colab-primary-surface-color, white);\n",
              "                }\n",
              "\n",
              "                .geemap-colab .jupyter-button {\n",
              "                    --jp-layout-color3: var(--colab-primary-surface-color, white);\n",
              "                }\n",
              "            </style>\n",
              "            "
            ]
          },
          "metadata": {}
        }
      ],
      "source": [
        "# Filter variables based on Variance Inflation Factor (VIF)\n",
        "def filter_variables_by_vif(dataframe, threshold=10):\n",
        "\n",
        "    original_columns = dataframe.columns.tolist()\n",
        "    remaining_columns = original_columns[:]\n",
        "\n",
        "    while True:\n",
        "        vif_data = dataframe[remaining_columns]\n",
        "        vif_values = [\n",
        "            variance_inflation_factor(vif_data.values, i)\n",
        "            for i in range(vif_data.shape[1])\n",
        "        ]\n",
        "\n",
        "        max_vif_index = vif_values.index(max(vif_values))\n",
        "        max_vif = max(vif_values)\n",
        "\n",
        "        if max_vif < threshold:\n",
        "            break\n",
        "\n",
        "        print(f\"Removing '{remaining_columns[max_vif_index]}' with VIF {max_vif:.2f}\")\n",
        "\n",
        "        del remaining_columns[max_vif_index]\n",
        "\n",
        "    filtered_data = dataframe[remaining_columns]\n",
        "    bands = filtered_data.columns.tolist()\n",
        "    print(\"Bands:\", bands)\n",
        "\n",
        "    return filtered_data, bands"
      ]
    },
    {
      "cell_type": "code",
      "execution_count": 28,
      "metadata": {
        "id": "e3iiKaK5Eg0q",
        "colab": {
          "base_uri": "https://localhost:8080/",
          "height": 363
        },
        "outputId": "d7ad01d8-a994-442f-a858-e60e07f03a0f"
      },
      "outputs": [
        {
          "output_type": "display_data",
          "data": {
            "text/plain": [
              "<IPython.core.display.HTML object>"
            ],
            "text/html": [
              "\n",
              "            <style>\n",
              "                .geemap-dark {\n",
              "                    --jp-widgets-color: white;\n",
              "                    --jp-widgets-label-color: white;\n",
              "                    --jp-ui-font-color1: white;\n",
              "                    --jp-layout-color2: #454545;\n",
              "                    background-color: #383838;\n",
              "                }\n",
              "\n",
              "                .geemap-dark .jupyter-button {\n",
              "                    --jp-layout-color3: #383838;\n",
              "                }\n",
              "\n",
              "                .geemap-colab {\n",
              "                    background-color: var(--colab-primary-surface-color, white);\n",
              "                }\n",
              "\n",
              "                .geemap-colab .jupyter-button {\n",
              "                    --jp-layout-color3: var(--colab-primary-surface-color, white);\n",
              "                }\n",
              "            </style>\n",
              "            "
            ]
          },
          "metadata": {}
        },
        {
          "output_type": "stream",
          "name": "stdout",
          "text": [
            "Removing 'bio05' with VIF inf\n",
            "Removing 'bio04' with VIF 192512.14\n",
            "Removing 'bio10' with VIF 66802.89\n",
            "Removing 'bio07' with VIF 45799.36\n",
            "Removing 'bio17' with VIF 29523.82\n",
            "Removing 'bio01' with VIF 9577.36\n",
            "Removing 'bio16' with VIF 3543.52\n",
            "Removing 'bio03' with VIF 2512.67\n",
            "Removing 'bio18' with VIF 1791.24\n",
            "Removing 'bio08' with VIF 1489.29\n",
            "Removing 'bio06' with VIF 1033.80\n",
            "Removing 'bio12' with VIF 669.19\n",
            "Removing 'bio19' with VIF 397.91\n",
            "Removing 'bio15' with VIF 375.28\n",
            "Removing 'hillshade' with VIF 138.80\n",
            "Removing 'bio02' with VIF 57.19\n",
            "Removing 'bio11' with VIF 53.52\n",
            "Removing 'bio13' with VIF 29.88\n",
            "Bands: ['TCC', 'aspect', 'bio09', 'bio14', 'elevation', 'gHM', 'slope']\n"
          ]
        }
      ],
      "source": [
        "filtered_pvals_df, bands = filter_variables_by_vif(pvals_df, threshold=13)"
      ]
    },
    {
      "cell_type": "code",
      "execution_count": 29,
      "metadata": {
        "id": "TEFmil6WErkl",
        "colab": {
          "base_uri": "https://localhost:8080/",
          "height": 441
        },
        "outputId": "c99d26c0-b18b-483e-f03f-59dd70f3f781"
      },
      "outputs": [
        {
          "output_type": "display_data",
          "data": {
            "text/plain": [
              "<IPython.core.display.HTML object>"
            ],
            "text/html": [
              "\n",
              "            <style>\n",
              "                .geemap-dark {\n",
              "                    --jp-widgets-color: white;\n",
              "                    --jp-widgets-label-color: white;\n",
              "                    --jp-ui-font-color1: white;\n",
              "                    --jp-layout-color2: #454545;\n",
              "                    background-color: #383838;\n",
              "                }\n",
              "\n",
              "                .geemap-dark .jupyter-button {\n",
              "                    --jp-layout-color3: #383838;\n",
              "                }\n",
              "\n",
              "                .geemap-colab {\n",
              "                    background-color: var(--colab-primary-surface-color, white);\n",
              "                }\n",
              "\n",
              "                .geemap-colab .jupyter-button {\n",
              "                    --jp-layout-color3: var(--colab-primary-surface-color, white);\n",
              "                }\n",
              "            </style>\n",
              "            "
            ]
          },
          "metadata": {}
        },
        {
          "output_type": "display_data",
          "data": {
            "text/plain": [
              "<Figure size 600x400 with 2 Axes>"
            ],
            "image/png": "[encoded data removed]"
          },
          "metadata": {}
        }
      ],
      "source": [
        "# Variable Selection Based on VIF\n",
        "predictors = predictors.select(bands)\n",
        "\n",
        "# Plot the correlation heatmap of variables\n",
        "plot_correlation_heatmap(filtered_pvals_df, h_size=6, show_labels=True)"
      ]
    },
    {
      "cell_type": "markdown",
      "metadata": {
        "id": "j0dc6evyFFhw"
      },
      "source": [
        "Next, let's visualize the 6 selected predictor variables on the map.\n",
        "![Predictor Variables for Analysis](https://github.com/google/earthengine-community/blob/master/tutorials/species-distribution-modeling/predictor_variables.png?raw=1)\n",
        "\n",
        "You can explore the available palettes for map visualization using the following code. For example, the `terrain` palette looks like this.\n",
        "```\n",
        "cm.plot_colormaps(width=8.0, height=0.2)\n",
        "```"
      ]
    },
    {
      "cell_type": "code",
      "execution_count": 30,
      "metadata": {
        "id": "H8uHX-83E8x7",
        "colab": {
          "base_uri": "https://localhost:8080/",
          "height": 52
        },
        "outputId": "6ea89b1a-9734-49ea-b425-13191ee6abf8"
      },
      "outputs": [
        {
          "output_type": "display_data",
          "data": {
            "text/plain": [
              "<IPython.core.display.HTML object>"
            ],
            "text/html": [
              "\n",
              "            <style>\n",
              "                .geemap-dark {\n",
              "                    --jp-widgets-color: white;\n",
              "                    --jp-widgets-label-color: white;\n",
              "                    --jp-ui-font-color1: white;\n",
              "                    --jp-layout-color2: #454545;\n",
              "                    background-color: #383838;\n",
              "                }\n",
              "\n",
              "                .geemap-dark .jupyter-button {\n",
              "                    --jp-layout-color3: #383838;\n",
              "                }\n",
              "\n",
              "                .geemap-colab {\n",
              "                    background-color: var(--colab-primary-surface-color, white);\n",
              "                }\n",
              "\n",
              "                .geemap-colab .jupyter-button {\n",
              "                    --jp-layout-color3: var(--colab-primary-surface-color, white);\n",
              "                }\n",
              "            </style>\n",
              "            "
            ]
          },
          "metadata": {}
        },
        {
          "output_type": "display_data",
          "data": {
            "text/plain": [
              "<Figure size 800x20 with 1 Axes>"
            ],
            "image/png": "[encoded data removed]"
          },
          "metadata": {}
        }
      ],
      "source": [
        "cm.plot_colormap('terrain', width=8.0, height=0.2, orientation='horizontal')"
      ]
    },
    {
      "cell_type": "code",
      "execution_count": 31,
      "metadata": {
        "id": "RswVTmLFFUb3",
        "colab": {
          "base_uri": "https://localhost:8080/",
          "height": 421,
          "referenced_widgets": [
            "549bbe8500d64fa0ba38e4a9b9ee8d2e",
            "be39e5f9f9284fb2a46bef2a03cac27e",
            "799528f0ca62436788c98632f2f91142",
            "2023589d9bb94d77affea3b573307242",
            "fb8a7013b888489ea3dea96746090a9c",
            "a092d25d3c01409aae442cd491920c61",
            "1395c581a84c46299fdbcb844c8d63af",
            "ec3ac51c0c4b4ed4b33b79c57fe1b1c7",
            "b669532c44c44759ad8ec1ba9da708fc",
            "ca1ee98f10914f37991c5330d5c80b4f",
            "1ef49e2373ba4fb388eee704ad98be7c",
            "0299df028d63455788071940803fe174",
            "592b4f3ed3b142359be9fd144dd7e177",
            "d1ecc17ecc6840c4a9e98652c9aca76a",
            "61934ce3d48e44e1af49462d1cf89132",
            "e7b2f67b383547f780b3674e4caf84ed",
            "ed22fa1dcb4c431f9af2045fed900c48",
            "43366c4a43ce4d9bb94ee39d37009a28",
            "cefb14c5400846388535085e3d5c9f64",
            "7ae11ef9ce7f47d5aff810cbeedc2696",
            "a869d574086344e7b6329a89c5b2761b",
            "ce53f412e31d48109fb6c0a319c3f7b9",
            "6ad4106f5fdc482fba8b315a2b4fca13",
            "bc9155811d5644e0a64edb8b3acd28cb",
            "47a512da27ab46a2bb470a0250377a7f",
            "3017087ff4bb49168f9feeb57fbd3a8d",
            "d4f3720fd8894fdc98520beac091d4ab",
            "3ac71b8737ba44d1a648bd1e7c2d9a40"
          ]
        },
        "outputId": "df4cc41a-9419-46e4-8ac6-20acf0951103"
      },
      "outputs": [
        {
          "output_type": "display_data",
          "data": {
            "text/plain": [
              "<IPython.core.display.HTML object>"
            ],
            "text/html": [
              "\n",
              "            <style>\n",
              "                .geemap-dark {\n",
              "                    --jp-widgets-color: white;\n",
              "                    --jp-widgets-label-color: white;\n",
              "                    --jp-ui-font-color1: white;\n",
              "                    --jp-layout-color2: #454545;\n",
              "                    background-color: #383838;\n",
              "                }\n",
              "\n",
              "                .geemap-dark .jupyter-button {\n",
              "                    --jp-layout-color3: #383838;\n",
              "                }\n",
              "\n",
              "                .geemap-colab {\n",
              "                    background-color: var(--colab-primary-surface-color, white);\n",
              "                }\n",
              "\n",
              "                .geemap-colab .jupyter-button {\n",
              "                    --jp-layout-color3: var(--colab-primary-surface-color, white);\n",
              "                }\n",
              "            </style>\n",
              "            "
            ]
          },
          "metadata": {}
        },
        {
          "output_type": "display_data",
          "data": {
            "text/plain": [
              "Map(center=[35.60541125576072, 127.04873061439156], controls=(WidgetControl(options=['position', 'transparent_…"
            ],
            "application/vnd.jupyter.widget-view+json": {
              "version_major": 2,
              "version_minor": 0,
              "model_id": "549bbe8500d64fa0ba38e4a9b9ee8d2e"
            }
          },
          "metadata": {
            "application/vnd.jupyter.widget-view+json": {
              "colab": {
                "custom_widget_manager": {
                  "url": "https://ssl.gstatic.com/colaboratory-static/widgets/colab-cdn-widget-manager/2b70e893a8ba7c0f/manager.min.js"
                }
              }
            }
          }
        }
      ],
      "source": [
        "# Elevation layer\n",
        "Map = geemap.Map(layout={'height':'400px', 'width':'800px'})\n",
        "\n",
        "vis_params = {'bands':['elevation'], 'min': 0, 'max': 1800, 'palette': cm.palettes.terrain}\n",
        "Map.addLayer(predictors, vis_params, 'elevation')\n",
        "Map.add_colorbar(vis_params, label=\"Elevation (m)\", orientation=\"vertical\", layer_name=\"elevation\")\n",
        "Map.centerObject(aoi, 6)\n",
        "Map"
      ]
    },
    {
      "cell_type": "code",
      "execution_count": 32,
      "metadata": {
        "id": "DOSMZpbsF8sH",
        "colab": {
          "base_uri": "https://localhost:8080/",
          "height": 421,
          "referenced_widgets": [
            "9abf387f6400490b82eed7adfdd71c04",
            "2eb17bd4dbb04590b8de6d2f83b0ee7c",
            "76aa0148e13641a093fe2f46596fffe3",
            "4c7a19152150479ab6749b97efeb7606",
            "aef9a4d6d35c45f0b2c9bc60573216ed",
            "879b58a072ca4417b818815343a58335",
            "14ae4467140d48dd8da1050a882e3d1f",
            "c652b38c08ad4c92b3f73028df91a0cd",
            "37f155298c6744e6a8b76b83580aaed7",
            "a03965f2572e4bf4bfde437ff7b4de29",
            "f6cbcb2108dd40c7b6b6d562bea318d5",
            "1b28a625dd8441d1b2cad26a934242a7",
            "92e02af3bc4749708525ba14aa2c0f4e",
            "b0d1dd4faec74e5ea24ce77f929c1340",
            "f0cb3dd39da642b99abf5052f440bacb",
            "46ad8678a6bd459cbc7d396ddee2b327",
            "5d0af4f078394157be6e92f0190b942c",
            "b69f2d6bd4a04ef3b6726ea471ca691c",
            "9a99776e1c584b06bbd61f37fe119633",
            "b557aa2ee46f4a60aee603aa5b5a3149",
            "f60327489fdb45ae94cd8ce13400d596",
            "8d42ec0b5c3946d98b10a4e96d166e75",
            "e2a4da0990e3425d94bc048f4060881f",
            "1925d36fceba457cb86afa48c9a1e0e2",
            "673225469b184456a53ecffe33e52a7d",
            "d4e7fb020e1d441e9ddcb647bde34305",
            "df5bc3c76f164d98be44c4be8e5cb02a",
            "a7c32d815169450a97d0affcc5928d84"
          ]
        },
        "outputId": "e81781f4-4de2-4791-e647-aa654adc71ad"
      },
      "outputs": [
        {
          "output_type": "display_data",
          "data": {
            "text/plain": [
              "<IPython.core.display.HTML object>"
            ],
            "text/html": [
              "\n",
              "            <style>\n",
              "                .geemap-dark {\n",
              "                    --jp-widgets-color: white;\n",
              "                    --jp-widgets-label-color: white;\n",
              "                    --jp-ui-font-color1: white;\n",
              "                    --jp-layout-color2: #454545;\n",
              "                    background-color: #383838;\n",
              "                }\n",
              "\n",
              "                .geemap-dark .jupyter-button {\n",
              "                    --jp-layout-color3: #383838;\n",
              "                }\n",
              "\n",
              "                .geemap-colab {\n",
              "                    background-color: var(--colab-primary-surface-color, white);\n",
              "                }\n",
              "\n",
              "                .geemap-colab .jupyter-button {\n",
              "                    --jp-layout-color3: var(--colab-primary-surface-color, white);\n",
              "                }\n",
              "            </style>\n",
              "            "
            ]
          },
          "metadata": {}
        },
        {
          "output_type": "display_data",
          "data": {
            "text/plain": [
              "Map(center=[35.60541125576072, 127.04873061439156], controls=(WidgetControl(options=['position', 'transparent_…"
            ],
            "application/vnd.jupyter.widget-view+json": {
              "version_major": 2,
              "version_minor": 0,
              "model_id": "9abf387f6400490b82eed7adfdd71c04"
            }
          },
          "metadata": {
            "application/vnd.jupyter.widget-view+json": {
              "colab": {
                "custom_widget_manager": {
                  "url": "https://ssl.gstatic.com/colaboratory-static/widgets/colab-cdn-widget-manager/2b70e893a8ba7c0f/manager.min.js"
                }
              }
            }
          }
        }
      ],
      "source": [
        "# Calculate the minimum and maximum values for bio09\n",
        "min_max_val = (\n",
        "    predictors.select(\"bio09\")\n",
        "    .multiply(0.1)\n",
        "    .reduceRegion(reducer=ee.Reducer.minMax(), scale=1000)\n",
        "    .getInfo()\n",
        ")\n",
        "\n",
        "# bio09 (Mean temperature of driest quarter) layer\n",
        "Map = geemap.Map(layout={\"height\": \"400px\", \"width\": \"800px\"})\n",
        "\n",
        "vis_params = {\n",
        "    \"min\": math.floor(min_max_val[\"bio09_min\"]),\n",
        "    \"max\": math.ceil(min_max_val[\"bio09_max\"]),\n",
        "    \"palette\": cm.palettes.hot,\n",
        "}\n",
        "Map.addLayer(predictors.select(\"bio09\").multiply(0.1), vis_params, \"bio09\")\n",
        "Map.add_colorbar(\n",
        "    vis_params,\n",
        "    label=\"Mean temperature of driest quarter (℃)\",\n",
        "    orientation=\"vertical\",\n",
        "    layer_name=\"bio09\",\n",
        ")\n",
        "Map.centerObject(aoi, 6)\n",
        "Map"
      ]
    },
    {
      "cell_type": "code",
      "execution_count": 33,
      "metadata": {
        "id": "cQpG8qRzIQcw",
        "colab": {
          "base_uri": "https://localhost:8080/",
          "height": 421,
          "referenced_widgets": [
            "43d011ee04344ac1844329fa726fe3bb",
            "4ed10ef3ad4f4065bcfd7c4ad9f1a843",
            "61e7b7ba61af4241954858a60ef8b3db",
            "70c5b3669ccc45718a5feecf4649a4dc",
            "ee499923dbc5486882f1b14b1af903bd",
            "9f673ec4908c40fd952c483a812c669c",
            "a5edd22b9ccf4d63bd280de5cdc868b1",
            "ee62e3429ce84b2e9e13e5bfa7216dac",
            "70c35dbb1387431d858f98d7f9ffd63b",
            "d7ebde893da64495a7f01176aec3f876",
            "548cc797436649caa083f4fff4fa25dc",
            "17ccc19410d74ee991acd4e0a9411ee5",
            "457014aed6b34f2c9aba02c3b3367d7c",
            "a345678a69b14f24ae0b169af613f78c",
            "9c973d412cc14f9ea415066d9cb34e48",
            "53f9ca75375e4ce3bf913d61acd5a490",
            "912a9adc32cd49e393e68d34f043bda4",
            "0d62582549ad45148f687348a333ddbf",
            "66a7f7c8533748a2a8415a1c5ff50c6a",
            "7adf6c58682b41518b6069254f429665",
            "b5b5caf7c9f547c78ceebd5ed1aa06aa",
            "1e81c4bec4a64245b12cfd11779a7b0a",
            "2070dc22c1a94e2c99d082e4761fe2e1",
            "65ad010deaf247aa8f65264b042f3e3b",
            "d77abc9c7d91412cafe5cd3cd2d87d15",
            "a60860fbdd8242ed866c54595bac7f50",
            "b90126c4ef5044008908d40fec5716d6",
            "3681f28fa3f4441293fbd22e004ee31d"
          ]
        },
        "outputId": "803a0b62-29c6-4333-88e7-d2d83b20274d"
      },
      "outputs": [
        {
          "output_type": "display_data",
          "data": {
            "text/plain": [
              "<IPython.core.display.HTML object>"
            ],
            "text/html": [
              "\n",
              "            <style>\n",
              "                .geemap-dark {\n",
              "                    --jp-widgets-color: white;\n",
              "                    --jp-widgets-label-color: white;\n",
              "                    --jp-ui-font-color1: white;\n",
              "                    --jp-layout-color2: #454545;\n",
              "                    background-color: #383838;\n",
              "                }\n",
              "\n",
              "                .geemap-dark .jupyter-button {\n",
              "                    --jp-layout-color3: #383838;\n",
              "                }\n",
              "\n",
              "                .geemap-colab {\n",
              "                    background-color: var(--colab-primary-surface-color, white);\n",
              "                }\n",
              "\n",
              "                .geemap-colab .jupyter-button {\n",
              "                    --jp-layout-color3: var(--colab-primary-surface-color, white);\n",
              "                }\n",
              "            </style>\n",
              "            "
            ]
          },
          "metadata": {}
        },
        {
          "output_type": "display_data",
          "data": {
            "text/plain": [
              "Map(center=[35.60541125576072, 127.04873061439156], controls=(WidgetControl(options=['position', 'transparent_…"
            ],
            "application/vnd.jupyter.widget-view+json": {
              "version_major": 2,
              "version_minor": 0,
              "model_id": "43d011ee04344ac1844329fa726fe3bb"
            }
          },
          "metadata": {
            "application/vnd.jupyter.widget-view+json": {
              "colab": {
                "custom_widget_manager": {
                  "url": "https://ssl.gstatic.com/colaboratory-static/widgets/colab-cdn-widget-manager/2b70e893a8ba7c0f/manager.min.js"
                }
              }
            }
          }
        }
      ],
      "source": [
        "# Slope layer\n",
        "Map = geemap.Map(layout={'height':'400px', 'width':'800px'})\n",
        "\n",
        "vis_params = {'bands':['slope'], 'min': 0, 'max': 25, 'palette': cm.palettes.RdYlGn_r}\n",
        "Map.addLayer(predictors, vis_params, 'slope')\n",
        "Map.add_colorbar(vis_params, label=\"Slope\", orientation=\"vertical\", layer_name=\"slope\")\n",
        "Map.centerObject(aoi, 6)\n",
        "Map"
      ]
    },
    {
      "cell_type": "code",
      "execution_count": 34,
      "metadata": {
        "id": "u1hW_wAXIvvG",
        "colab": {
          "base_uri": "https://localhost:8080/",
          "height": 421,
          "referenced_widgets": [
            "3136f74249f74704a94d711396cf63e7",
            "940b62b005ac4112bac431b8cb8436b4",
            "dfebb86675fb415db54d540ada20712a",
            "781a8af77ba04c3a85f6120703bbbdd6",
            "4cf2d4a70eaf4779bb3528ba45d91441",
            "c8ac4bcf71824c688a164471ff4c01ea",
            "a8ebfebcd2b14fec815244cc2e70963d",
            "d3526476941a4e9aa4dad90409c98e9f",
            "ea5a502e31914af89ef51164b6c15394",
            "9c35d8f65fc444eaa03b0d1fe9cb9fdc",
            "697f6be4b01b4b5590e36f293edf2b86",
            "2263c81c6a0d4d8db105bf173422352f",
            "2e909fde7074461999bc167d63e77443",
            "0f06933423624744aab2b15507190c5a",
            "cd5ff40826764218b35ae5859fe134b9",
            "ee65851cf1e54368a12a337444fb1729",
            "91813c4c3e0f4d2087735f2bff85fc0c",
            "951767dec7f1444297b0729ba97fa523",
            "af89ea46bf6a470785c64a637dbc719c",
            "5865c7e8ca0e48a9a0e16a260abe73b8",
            "b4c5f826f1fd475480bda2804984c534",
            "d02b3fb0f906494e96a4463803cd5258",
            "6a9dd997cee842bb8247cceaf7a5ae7b",
            "a784f7c7a5104d628fa4eaa5fda1fb84",
            "de5f46f4b76e4957839047ba522100f3",
            "31a78723589a463986a73dfe80ff4405",
            "503ab0a1e6e04dbf93623e4f7e984f8b",
            "bcd49cc673a7496cb5ee834bf5b495c4"
          ]
        },
        "outputId": "7fb9e779-1ae6-4f1f-b695-38d23162bb5d"
      },
      "outputs": [
        {
          "output_type": "display_data",
          "data": {
            "text/plain": [
              "<IPython.core.display.HTML object>"
            ],
            "text/html": [
              "\n",
              "            <style>\n",
              "                .geemap-dark {\n",
              "                    --jp-widgets-color: white;\n",
              "                    --jp-widgets-label-color: white;\n",
              "                    --jp-ui-font-color1: white;\n",
              "                    --jp-layout-color2: #454545;\n",
              "                    background-color: #383838;\n",
              "                }\n",
              "\n",
              "                .geemap-dark .jupyter-button {\n",
              "                    --jp-layout-color3: #383838;\n",
              "                }\n",
              "\n",
              "                .geemap-colab {\n",
              "                    background-color: var(--colab-primary-surface-color, white);\n",
              "                }\n",
              "\n",
              "                .geemap-colab .jupyter-button {\n",
              "                    --jp-layout-color3: var(--colab-primary-surface-color, white);\n",
              "                }\n",
              "            </style>\n",
              "            "
            ]
          },
          "metadata": {}
        },
        {
          "output_type": "display_data",
          "data": {
            "text/plain": [
              "Map(center=[35.60541125576072, 127.04873061439156], controls=(WidgetControl(options=['position', 'transparent_…"
            ],
            "application/vnd.jupyter.widget-view+json": {
              "version_major": 2,
              "version_minor": 0,
              "model_id": "3136f74249f74704a94d711396cf63e7"
            }
          },
          "metadata": {
            "application/vnd.jupyter.widget-view+json": {
              "colab": {
                "custom_widget_manager": {
                  "url": "https://ssl.gstatic.com/colaboratory-static/widgets/colab-cdn-widget-manager/2b70e893a8ba7c0f/manager.min.js"
                }
              }
            }
          }
        }
      ],
      "source": [
        "# Aspect layer\n",
        "Map = geemap.Map(layout={'height':'400px', 'width':'800px'})\n",
        "\n",
        "vis_params = {'bands':['aspect'], 'min': 0, 'max': 360, 'palette': cm.palettes.rainbow}\n",
        "Map.addLayer(predictors, vis_params, 'aspect')\n",
        "Map.add_colorbar(vis_params, label=\"Aspect\", orientation=\"vertical\", layer_name=\"aspect\")\n",
        "Map.centerObject(aoi, 6)\n",
        "Map"
      ]
    },
    {
      "cell_type": "code",
      "execution_count": 35,
      "metadata": {
        "id": "C49-BnnxJGUD",
        "colab": {
          "base_uri": "https://localhost:8080/",
          "height": 421,
          "referenced_widgets": [
            "3141d5798a094ab59fa7367f4cb3ab4b",
            "6d6f061bf2844dc5b9ae43b0ad513b38",
            "c5a6669b7e02445ba1593e92532357a3",
            "5e287e1562374946a8d87b00a544df63",
            "16936b72bcf645c6a45e6762810cab16",
            "0b6473b15d194f06876f8acb0447e56e",
            "5e7098057e9f4c14990720229ae6fe0b",
            "59e642f1f9af48e485940f129847a67e",
            "7cc1a05f022a4c518d854456579bfb97",
            "04136218dede4853a2dfb3f5b4c031bc",
            "8d6df838330f493094ca3933bf927cab",
            "6e553acacf854298a5a05c282c8484e3",
            "33983b1fb3c94f1b8fdda58f1a2fea94",
            "b6bb6e80b1a6458ab0f5f1bfc8ed2b73",
            "a653215b6aaa4cb98562e40731b2f456",
            "3c1991a04a034274a23301daa0df8def",
            "fad88e7a16ed49eb863edc36e87306a5",
            "4d1a5eca8e1741b1a64bbc86a130d858",
            "b6e0093d6c81487ab393c7a16a0f1a5f",
            "e77301b34b064c718036e8f733468540",
            "4114af11b72241079152b86bdb0ce7a1",
            "05b91655ccc143cfaeb60afd3db56f70",
            "6f52a55b1de54e08a7e03bcbd2859be4",
            "75411fd9f58c4946bf4c6e448ad180ff",
            "c0d4a75a84fb4d1a9e9db10acb50f1cc",
            "a382a6e14bde4c4b8d5f4a9f161bb25a",
            "e61f5b7c0f2847af95f6e35724de494e",
            "4795595e490e4a4884d3044000f9a729"
          ]
        },
        "outputId": "e9d352e4-a668-4b7e-fb89-39af3256da54"
      },
      "outputs": [
        {
          "output_type": "display_data",
          "data": {
            "text/plain": [
              "<IPython.core.display.HTML object>"
            ],
            "text/html": [
              "\n",
              "            <style>\n",
              "                .geemap-dark {\n",
              "                    --jp-widgets-color: white;\n",
              "                    --jp-widgets-label-color: white;\n",
              "                    --jp-ui-font-color1: white;\n",
              "                    --jp-layout-color2: #454545;\n",
              "                    background-color: #383838;\n",
              "                }\n",
              "\n",
              "                .geemap-dark .jupyter-button {\n",
              "                    --jp-layout-color3: #383838;\n",
              "                }\n",
              "\n",
              "                .geemap-colab {\n",
              "                    background-color: var(--colab-primary-surface-color, white);\n",
              "                }\n",
              "\n",
              "                .geemap-colab .jupyter-button {\n",
              "                    --jp-layout-color3: var(--colab-primary-surface-color, white);\n",
              "                }\n",
              "            </style>\n",
              "            "
            ]
          },
          "metadata": {}
        },
        {
          "output_type": "display_data",
          "data": {
            "text/plain": [
              "Map(center=[35.60541125576072, 127.04873061439156], controls=(WidgetControl(options=['position', 'transparent_…"
            ],
            "application/vnd.jupyter.widget-view+json": {
              "version_major": 2,
              "version_minor": 0,
              "model_id": "3141d5798a094ab59fa7367f4cb3ab4b"
            }
          },
          "metadata": {
            "application/vnd.jupyter.widget-view+json": {
              "colab": {
                "custom_widget_manager": {
                  "url": "https://ssl.gstatic.com/colaboratory-static/widgets/colab-cdn-widget-manager/2b70e893a8ba7c0f/manager.min.js"
                }
              }
            }
          }
        }
      ],
      "source": [
        "# Calculate the minimum and maximum values for bio14\n",
        "min_max_val = (\n",
        "    predictors.select(\"bio14\")\n",
        "    .reduceRegion(reducer=ee.Reducer.minMax(), scale=1000)\n",
        "    .getInfo()\n",
        ")\n",
        "\n",
        "# bio14 (Precipitation of driest month) layer\n",
        "Map = geemap.Map(layout={\"height\": \"400px\", \"width\": \"800px\"})\n",
        "\n",
        "vis_params = {\n",
        "    \"bands\": [\"bio14\"],\n",
        "    \"min\": math.floor(min_max_val[\"bio14_min\"]),\n",
        "    \"max\": math.ceil(min_max_val[\"bio14_max\"]),\n",
        "    \"palette\": cm.palettes.Blues,\n",
        "}\n",
        "Map.addLayer(predictors, vis_params, \"bio14\")\n",
        "Map.add_colorbar(\n",
        "    vis_params,\n",
        "    label=\"Precipitation of driest month (mm)\",\n",
        "    orientation=\"vertical\",\n",
        "    layer_name=\"bio14\",\n",
        ")\n",
        "Map.centerObject(aoi, 6)\n",
        "Map"
      ]
    },
    {
      "cell_type": "code",
      "execution_count": 36,
      "metadata": {
        "id": "zKVnKhLYJicg",
        "colab": {
          "base_uri": "https://localhost:8080/",
          "height": 421,
          "referenced_widgets": [
            "bc391947c589411495e97a2b9a4c3d78",
            "70026b0e04c049eab18b239b19fbf896",
            "631c6db3c69e460baf257df8b3384be8",
            "97707b5ea2a94f11a1ec8e3395e8204d",
            "6033ea52bae2495893d962c889b0af4f",
            "9d533c926bac4117a028628f0294b34c",
            "76c54fe0c1314b6081c225cf65060b5f",
            "ff0b620e3bb44cf4880fe8a5b31252c8",
            "3d71f81c0d5049dbb03754457985f45f",
            "c8b062ec1415472c960d201e37585970",
            "aac161e30f8341d3a166da1e8f1fd3ed",
            "3d44abd50ca14407b3df95be35f1e7b3",
            "669c2b123b06454b82f5b5f8471a10e5",
            "700fb73bc32b4843b443e4cf0d47acb6",
            "e65786a80a4d4beb866b8034fb1eb705",
            "ca82bf3f4c5d40b9ba9fc24cf67e60b0",
            "90e8c263dad1429bacfabb2398254fad",
            "cdfd9e560c5b4eb599f7a566c43d248d",
            "55699901fe744c9bad6fd50c8e6356d8",
            "f724de671f46458bb7d43d840a90f176",
            "f37cdcbbeed144c5b8b68af5079baef4",
            "4d820d3dcf154a36a55ec2c268b4d6c2",
            "fffd57265e6043cdbc984c312305a04e",
            "e839fd99f83249bf87c36bc1ba53f12a",
            "39369c07d78a4adda5c8fb55799adffe",
            "33795dd89b764f8f83806e1bfb2ce58c",
            "aa3a4c83b3214712859de706d6fb966a",
            "1aa7600e65684a51817207b20174fcf1"
          ]
        },
        "outputId": "88164470-51bd-4d89-d4fd-e0389fa8d914"
      },
      "outputs": [
        {
          "output_type": "display_data",
          "data": {
            "text/plain": [
              "<IPython.core.display.HTML object>"
            ],
            "text/html": [
              "\n",
              "            <style>\n",
              "                .geemap-dark {\n",
              "                    --jp-widgets-color: white;\n",
              "                    --jp-widgets-label-color: white;\n",
              "                    --jp-ui-font-color1: white;\n",
              "                    --jp-layout-color2: #454545;\n",
              "                    background-color: #383838;\n",
              "                }\n",
              "\n",
              "                .geemap-dark .jupyter-button {\n",
              "                    --jp-layout-color3: #383838;\n",
              "                }\n",
              "\n",
              "                .geemap-colab {\n",
              "                    background-color: var(--colab-primary-surface-color, white);\n",
              "                }\n",
              "\n",
              "                .geemap-colab .jupyter-button {\n",
              "                    --jp-layout-color3: var(--colab-primary-surface-color, white);\n",
              "                }\n",
              "            </style>\n",
              "            "
            ]
          },
          "metadata": {}
        },
        {
          "output_type": "display_data",
          "data": {
            "text/plain": [
              "Map(center=[35.60541125576072, 127.04873061439156], controls=(WidgetControl(options=['position', 'transparent_…"
            ],
            "application/vnd.jupyter.widget-view+json": {
              "version_major": 2,
              "version_minor": 0,
              "model_id": "bc391947c589411495e97a2b9a4c3d78"
            }
          },
          "metadata": {
            "application/vnd.jupyter.widget-view+json": {
              "colab": {
                "custom_widget_manager": {
                  "url": "https://ssl.gstatic.com/colaboratory-static/widgets/colab-cdn-widget-manager/2b70e893a8ba7c0f/manager.min.js"
                }
              }
            }
          }
        }
      ],
      "source": [
        "# TCC layer\n",
        "Map = geemap.Map(layout={\"height\": \"400px\", \"width\": \"800px\"})\n",
        "\n",
        "vis_params = {\n",
        "    \"bands\": [\"TCC\"],\n",
        "    \"min\": 0,\n",
        "    \"max\": 100,\n",
        "    \"palette\": [\"ffffff\", \"afce56\", \"5f9c00\", \"0e6a00\", \"003800\"],\n",
        "}\n",
        "Map.addLayer(predictors, vis_params, \"TCC\")\n",
        "Map.add_colorbar(\n",
        "    vis_params, label=\"Tree Canopy Cover (%)\", orientation=\"vertical\", layer_name=\"TCC\"\n",
        ")\n",
        "Map.centerObject(aoi, 6)\n",
        "Map"
      ]
    },
    {
      "cell_type": "code",
      "source": [
        "# gHM layer\n",
        "Map = geemap.Map(layout={\"height\": \"400px\", \"width\": \"800px\"})\n",
        "\n",
        "vis_params = {\n",
        "    \"bands\": [\"gHM\"],\n",
        "    'min': 0.0,\n",
        "    'max': 1.0,\n",
        "    'palette': ['0c0c0c', '071aff', 'ff0000', 'ffbd03', 'fbff05', 'fffdfd']}\n",
        "\n",
        "Map.addLayer(predictors, vis_params, \"gHM\")\n",
        "Map.add_colorbar(\n",
        "    vis_params, label=\"gHM (global Human Modification)\", orientation=\"vertical\", layer_name=\"TCC\"\n",
        ")\n",
        "Map.centerObject(aoi, 6)\n",
        "Map"
      ],
      "metadata": {
        "colab": {
          "base_uri": "https://localhost:8080/",
          "height": 421,
          "referenced_widgets": [
            "c0d9e6785cdd4f31a4e684fc6966ac27",
            "334cab410b9b4e03a0c204e8726e9479",
            "34bf834aaec64e019cdf864d885d03d4",
            "7cf1679eace745bcbe8d55936aa5c7fb",
            "828a23d712c64242ae94e8db7bb03c8f",
            "5881ee54aaf0475d8786533f337eb649",
            "14e1b924536a4486b6e7e0d42fb55968",
            "c119d6fe24cd4f578bd5f17fe73ac099",
            "df4fecd93fce43368166082d616a9fb7",
            "ebb8922174fb43a8a19da027ebfd3613",
            "d506d45a8f2648529d7e1ef7181d8282",
            "94481b0d90164053b1fd5c0e2988bd4d",
            "273442722df74d90b7082adaa42f85da",
            "c054a3cdcb8b45a3aa3059f22abd314f",
            "1db13d5079394cd0b84bf919133aeaec",
            "a97912eb20dd4cb883d91cb902523612",
            "4167fda19a9f47c790df4f9814854129",
            "e033072179ab48f7b17936044ecaac5f",
            "207947c092a44e6c885610f473b45b31",
            "7fb8f63c1b5446a887c335ce1d5f74b5",
            "dbf3b78f6d264d8fa52efc48bc653632",
            "9fbee614b9b54216a9001cef824c1526",
            "6fd4732e997a477eb473506c18cabd00",
            "cea4b744e3d84dcc80b9a0aa534819db",
            "85b45d9aae4a4a26bfb25a71e9e2b4e4",
            "288fb29c339f47dc94c6e8b00e2b5fd7",
            "4a670f1a882c401faf251d8409fc572a",
            "cf07a53cb1804d7a9d12577182854bbb"
          ]
        },
        "id": "RC6Fi9RuCz2F",
        "outputId": "150cae61-f313-4402-ce22-748948f32e44"
      },
      "execution_count": 37,
      "outputs": [
        {
          "output_type": "display_data",
          "data": {
            "text/plain": [
              "<IPython.core.display.HTML object>"
            ],
            "text/html": [
              "\n",
              "            <style>\n",
              "                .geemap-dark {\n",
              "                    --jp-widgets-color: white;\n",
              "                    --jp-widgets-label-color: white;\n",
              "                    --jp-ui-font-color1: white;\n",
              "                    --jp-layout-color2: #454545;\n",
              "                    background-color: #383838;\n",
              "                }\n",
              "\n",
              "                .geemap-dark .jupyter-button {\n",
              "                    --jp-layout-color3: #383838;\n",
              "                }\n",
              "\n",
              "                .geemap-colab {\n",
              "                    background-color: var(--colab-primary-surface-color, white);\n",
              "                }\n",
              "\n",
              "                .geemap-colab .jupyter-button {\n",
              "                    --jp-layout-color3: var(--colab-primary-surface-color, white);\n",
              "                }\n",
              "            </style>\n",
              "            "
            ]
          },
          "metadata": {}
        },
        {
          "output_type": "display_data",
          "data": {
            "text/plain": [
              "Map(center=[35.60541125576072, 127.04873061439156], controls=(WidgetControl(options=['position', 'transparent_…"
            ],
            "application/vnd.jupyter.widget-view+json": {
              "version_major": 2,
              "version_minor": 0,
              "model_id": "c0d9e6785cdd4f31a4e684fc6966ac27"
            }
          },
          "metadata": {
            "application/vnd.jupyter.widget-view+json": {
              "colab": {
                "custom_widget_manager": {
                  "url": "https://ssl.gstatic.com/colaboratory-static/widgets/colab-cdn-widget-manager/2b70e893a8ba7c0f/manager.min.js"
                }
              }
            }
          }
        }
      ]
    },
    {
      "cell_type": "markdown",
      "metadata": {
        "id": "xIFAutp6M16q"
      },
      "source": [
        "### Generation of pseudo-absence data\n",
        "\n",
        "In the process of SDM, the selection of input data for a species is mainly approached using two methods:\n",
        "\n",
        "1. **Presence-Background Method**: This method compares the locations where a particular species has been observed (presence) with other locations where the species has not been observed (background). Here, the background data does not necessarily mean areas where the species does not exist but rather is set up to reflect the overall environmental conditions of the study area. It is used to distinguish suitable environments where the species could exist from less suitable ones.\n",
        "\n",
        "2. **Presence-Absence Method**: This method compares locations where the species has been observed (presence) with locations where it has definitively not been observed (absence). Here, absence data represents specific locations where the species is known not to exist. It does not reflect the overall environmental conditions of the study area but rather points to locations where the species is estimated not to exist.\n",
        "\n",
        "In practice, it is often difficult to collect true absence data, so pseudo-absence data generated artificially is frequently used. However, it's important to acknowledge the limitations and potential errors of this method, as artificially generated pseudo-absence points may not accurately reflect true absence areas.\n",
        "\n",
        "The choice between these two methods depends on data availability, research objectives, model accuracy and reliability, as well as time and resources. Here, we will use occurrence data collected from GBIF and artificially generated pseudo-absence data to model using the \"Presence-Absence\" method.\n",
        "\n",
        "The generation of pseudo-absence data will be done through the \"environmental profiling approach\", and the specific steps are as follows:\n",
        "\n",
        "1. Environmental Classification Using k-means Clustering: The k-means clustering algorithm, based on Euclidean distance, will be used to divide the pixels within the study area into two clusters. One cluster will represent areas with similar environmental characteristics to randomly selected 100 presence locations, while the other cluster will represent areas with different characteristics.\n",
        "\n",
        "2. Generation of Pseudo-Absence Data within Dissimilar Clusters: Within the second cluster identified in the first step (which has different environmental characteristics from the presence data), randomly generated pseudo-absence points will be created. These pseudo-absence points will represent locations where the species is not expected to exist."
      ]
    },
    {
      "cell_type": "markdown",
      "source": [
        "#### Generate Random Pseudo-Absence Data in the Entire Area of Interest"
      ],
      "metadata": {
        "id": "VWRr7dKfERQ4"
      }
    },
    {
      "cell_type": "code",
      "source": [
        "presence_mask = data.reduceToImage(\n",
        "    properties=['random'],\n",
        "    reducer=ee.Reducer.first()\n",
        ").reproject('EPSG:4326', None, ee.Number(grain_size)).mask().neq(1).selfMask()\n",
        "area_for_pa = presence_mask.updateMask(watermask).clip(aoi)\n",
        "\n",
        "Map = geemap.Map(layout={\"height\": \"400px\", \"width\": \"800px\"})\n",
        "Map.addLayer(area_for_pa, {'palette': 'black'},'AreaForPA')\n",
        "Map.centerObject(aoi, 6)\n",
        "Map"
      ],
      "metadata": {
        "colab": {
          "base_uri": "https://localhost:8080/",
          "height": 421,
          "referenced_widgets": [
            "a4e20075abc14762bbd6836cccf6b3db",
            "bad37cad08034503ab94f82798502454",
            "320f145049b74358ab381aac1c2a7585",
            "0decf41fd673408ea1a709c58d88541e",
            "8b81923ac3a94e4cadcafc17e5b83e59",
            "68c4434c5ecc4e6a80db97682a9c155d",
            "438b7e9abfdb4d68bb4fbadb145f84ee",
            "fbbac76467354e0a8395e71934c36ed9",
            "aeade3a17d1f46d89a9a35c4fcdbfe22",
            "8755e0f7402345ba847bf065b6e7dd12",
            "8994af94ffb14bb58e2adea252c56cd8",
            "79a997f04edc460ca25bd923739fb623",
            "d4e9e33a96e74ef68f76f3bea74191ae",
            "26171e0c31054b04bc7e0e7a24e86ca1",
            "b9c76da016bd46adb1ffd52632f1821c",
            "28482410f3cd4aa39fdf5761c6df1077",
            "0192469ed5c84d14b1ca0bc96cfcbf97",
            "5dadba66c1c94dabba6e03beee310974",
            "7513bc8d397942f6a4f06bfc57ba3b35",
            "943ad4f8d67f4180984fb5b076923c72",
            "fd97ff012bbb42d3b7bece6b6cec6d46",
            "5e26b32156fc41a38c976126ea8b0cc8",
            "92c54d16c947458ca02b4d1c67262cb1",
            "e6e2c5a9df3d4eb8abb4f81fd487a53c",
            "9ca4644c03ba42af8a1e0762df64b713"
          ]
        },
        "id": "vT7ROUopDSVe",
        "outputId": "d1bc73ff-a062-48f2-9d69-34d3b35ea7b2"
      },
      "execution_count": 38,
      "outputs": [
        {
          "output_type": "display_data",
          "data": {
            "text/plain": [
              "<IPython.core.display.HTML object>"
            ],
            "text/html": [
              "\n",
              "            <style>\n",
              "                .geemap-dark {\n",
              "                    --jp-widgets-color: white;\n",
              "                    --jp-widgets-label-color: white;\n",
              "                    --jp-ui-font-color1: white;\n",
              "                    --jp-layout-color2: #454545;\n",
              "                    background-color: #383838;\n",
              "                }\n",
              "\n",
              "                .geemap-dark .jupyter-button {\n",
              "                    --jp-layout-color3: #383838;\n",
              "                }\n",
              "\n",
              "                .geemap-colab {\n",
              "                    background-color: var(--colab-primary-surface-color, white);\n",
              "                }\n",
              "\n",
              "                .geemap-colab .jupyter-button {\n",
              "                    --jp-layout-color3: var(--colab-primary-surface-color, white);\n",
              "                }\n",
              "            </style>\n",
              "            "
            ]
          },
          "metadata": {}
        },
        {
          "output_type": "display_data",
          "data": {
            "text/plain": [
              "Map(center=[35.60541125576072, 127.04873061439156], controls=(WidgetControl(options=['position', 'transparent_…"
            ],
            "application/vnd.jupyter.widget-view+json": {
              "version_major": 2,
              "version_minor": 0,
              "model_id": "a4e20075abc14762bbd6836cccf6b3db"
            }
          },
          "metadata": {
            "application/vnd.jupyter.widget-view+json": {
              "colab": {
                "custom_widget_manager": {
                  "url": "https://ssl.gstatic.com/colaboratory-static/widgets/colab-cdn-widget-manager/2b70e893a8ba7c0f/manager.min.js"
                }
              }
            }
          }
        }
      ]
    },
    {
      "cell_type": "markdown",
      "source": [
        "#### Generate Spatially Constrained Pseudo-Absence Data (Buffer around Occurrences)"
      ],
      "metadata": {
        "id": "pRv-ihYNEV3L"
      }
    },
    {
      "cell_type": "code",
      "source": [
        "presence_mask = data.reduceToImage(\n",
        "    properties=['random'],\n",
        "    reducer=ee.Reducer.first()\n",
        ").reproject('EPSG:4326', None, ee.Number(grain_size)).mask().neq(1).selfMask()\n",
        "presence_buffer_mask = data.geometry().buffer(distance=50000, maxError=1000)\n",
        "area_for_pa = presence_mask.clip(presence_buffer_mask).updateMask(watermask).clip(aoi)\n",
        "\n",
        "Map = geemap.Map(layout={\"height\": \"400px\", \"width\": \"800px\"})\n",
        "Map.addLayer(area_for_pa, {'palette': 'black'},'AreaForPA')\n",
        "Map.centerObject(aoi, 6)\n",
        "Map"
      ],
      "metadata": {
        "colab": {
          "base_uri": "https://localhost:8080/",
          "height": 421,
          "referenced_widgets": [
            "e0f0ec371cb14aab9b8fb9e3070fc94f",
            "0598ce41d05d47c5b38554a5dba834e4",
            "8697805b04484c81935b8e24e9ff217a",
            "73cdd0e411a847aebe3e88c282c978ac",
            "994d9d3f9ed4496a8de51c76d19f9c5a",
            "d4b9332892fc42bf8ef489ac58698add",
            "0f84f169769247e88df21f0787246366",
            "412182f572b24060a81e641c056a7060",
            "addbcfe4e5004e23b59ab9370af71525",
            "f70366255d0f4b29b158f0de98616580",
            "bd221d51196747f8b7c42373a41fa060",
            "87b05b6c4c3d4a689357db2039928b36",
            "7aded414608145f2bf97a56ee3a37bc9",
            "475e797cfa404aebb06e1075c188475e",
            "bf7619ae776f48ffb46c0aeb06ca9ae3",
            "d91a150e78f14ccc99caca1fcd29128e",
            "1bfb00b98fe64d26912a19b3a9c258ec",
            "0c9a9cd2cf354b03a07990794c8649b9",
            "424e6185457d4381b870eeb6260d129e",
            "12e069a026a84ffebd4a4a9a69f84a0d",
            "e34d7fc05306439097f66b71bb915a72",
            "a09c431c7c5c4ced9cbd2e5abb8d5bb9",
            "60c3b27947ce4c998470ca447627b664",
            "14029f3bd75a47aab50115b45f73ae96",
            "bfdabb5f24e84a79a5722a559cc7870d"
          ]
        },
        "id": "VVfA6NnpEq_m",
        "outputId": "1f79e46b-d50c-4665-9f55-1500ff490542"
      },
      "execution_count": 39,
      "outputs": [
        {
          "output_type": "display_data",
          "data": {
            "text/plain": [
              "<IPython.core.display.HTML object>"
            ],
            "text/html": [
              "\n",
              "            <style>\n",
              "                .geemap-dark {\n",
              "                    --jp-widgets-color: white;\n",
              "                    --jp-widgets-label-color: white;\n",
              "                    --jp-ui-font-color1: white;\n",
              "                    --jp-layout-color2: #454545;\n",
              "                    background-color: #383838;\n",
              "                }\n",
              "\n",
              "                .geemap-dark .jupyter-button {\n",
              "                    --jp-layout-color3: #383838;\n",
              "                }\n",
              "\n",
              "                .geemap-colab {\n",
              "                    background-color: var(--colab-primary-surface-color, white);\n",
              "                }\n",
              "\n",
              "                .geemap-colab .jupyter-button {\n",
              "                    --jp-layout-color3: var(--colab-primary-surface-color, white);\n",
              "                }\n",
              "            </style>\n",
              "            "
            ]
          },
          "metadata": {}
        },
        {
          "output_type": "display_data",
          "data": {
            "text/plain": [
              "Map(center=[35.60541125576072, 127.04873061439156], controls=(WidgetControl(options=['position', 'transparent_…"
            ],
            "application/vnd.jupyter.widget-view+json": {
              "version_major": 2,
              "version_minor": 0,
              "model_id": "e0f0ec371cb14aab9b8fb9e3070fc94f"
            }
          },
          "metadata": {
            "application/vnd.jupyter.widget-view+json": {
              "colab": {
                "custom_widget_manager": {
                  "url": "https://ssl.gstatic.com/colaboratory-static/widgets/colab-cdn-widget-manager/2b70e893a8ba7c0f/manager.min.js"
                }
              }
            }
          }
        }
      ]
    },
    {
      "cell_type": "markdown",
      "source": [
        "#### Generate Environmental Pseudo-Absence Data (Environmental Profiling)"
      ],
      "metadata": {
        "id": "QNUWx0iuEcLU"
      }
    },
    {
      "cell_type": "code",
      "execution_count": 40,
      "metadata": {
        "id": "hMnMjWpOYG_B",
        "colab": {
          "base_uri": "https://localhost:8080/",
          "height": 421,
          "referenced_widgets": [
            "5df744bec14c449fbab82bcffa26e857",
            "52ecc88a46ae4505a36d3a415ec340fd",
            "4312e221c35546f7b2be22105d60b8c8",
            "5bdccbab5c7f4ec58621d0da7140e126",
            "e221484c2470454a87f7dc1546ad7a15",
            "03ed51b8b13b4be69d260d15f753c946",
            "5a65b10e079d4fa9b17ed5e5ce43cc80",
            "17b7a0514db34771b49cfaf047e607de",
            "a2d19f09100b439ead122e2249353935",
            "1ab14e09846e4c3f9c742c36b0ad478f",
            "fa9bb57a152b44d89b1de85c4802d3f6",
            "6524124f025f4cde99c38d59beabde3e",
            "a88b205e7ce1490a95ea9d9e2f18f9c7",
            "ba0088cc9dd74bd3bee84bed240636d3",
            "6be3b7169d7142ab99ae0096ebe74c6c",
            "1e5e5633c60b4d8e9e272a870a3cd8df",
            "d2c15c0ff0084cf9ba6c6a2892460a01",
            "30d0db6ca0884c72b67cc1f46152ee00",
            "cced9b90f85340d59adba26e4699c9c6",
            "753fdc2e2387480c8ce3c788525f7985",
            "448de3d98c6d402fb9df57ba55535e09",
            "a27f71d497bb4c729ae13733b1c58198",
            "29c835def38e46d6be27579355f0634a",
            "e810cb526f5d4dc08e1908d511c85a13",
            "4b92b4cea32c40dfad5e1d4093d80939"
          ]
        },
        "outputId": "e2652cf2-468e-413e-b328-419fea108923"
      },
      "outputs": [
        {
          "output_type": "display_data",
          "data": {
            "text/plain": [
              "<IPython.core.display.HTML object>"
            ],
            "text/html": [
              "\n",
              "            <style>\n",
              "                .geemap-dark {\n",
              "                    --jp-widgets-color: white;\n",
              "                    --jp-widgets-label-color: white;\n",
              "                    --jp-ui-font-color1: white;\n",
              "                    --jp-layout-color2: #454545;\n",
              "                    background-color: #383838;\n",
              "                }\n",
              "\n",
              "                .geemap-dark .jupyter-button {\n",
              "                    --jp-layout-color3: #383838;\n",
              "                }\n",
              "\n",
              "                .geemap-colab {\n",
              "                    background-color: var(--colab-primary-surface-color, white);\n",
              "                }\n",
              "\n",
              "                .geemap-colab .jupyter-button {\n",
              "                    --jp-layout-color3: var(--colab-primary-surface-color, white);\n",
              "                }\n",
              "            </style>\n",
              "            "
            ]
          },
          "metadata": {}
        },
        {
          "output_type": "display_data",
          "data": {
            "text/plain": [
              "Map(center=[35.60541125576072, 127.04873061439156], controls=(WidgetControl(options=['position', 'transparent_…"
            ],
            "application/vnd.jupyter.widget-view+json": {
              "version_major": 2,
              "version_minor": 0,
              "model_id": "5df744bec14c449fbab82bcffa26e857"
            }
          },
          "metadata": {
            "application/vnd.jupyter.widget-view+json": {
              "colab": {
                "custom_widget_manager": {
                  "url": "https://ssl.gstatic.com/colaboratory-static/widgets/colab-cdn-widget-manager/2b70e893a8ba7c0f/manager.min.js"
                }
              }
            }
          }
        }
      ],
      "source": [
        "# Randomly select 100 locations for occurrence\n",
        "pvals = predictors.sampleRegions(\n",
        "    collection=data.randomColumn().sort('random').limit(100),\n",
        "    properties=[],\n",
        "    scale=grain_size\n",
        ")\n",
        "\n",
        "# Perform k-means clustering\n",
        "clusterer = ee.Clusterer.wekaKMeans(\n",
        "    nClusters=2,\n",
        "    distanceFunction=\"Euclidean\"\n",
        ").train(pvals)\n",
        "\n",
        "cl_result = predictors.cluster(clusterer)\n",
        "\n",
        "# Get cluster ID for locations similar to occurrence\n",
        "cl_id = cl_result.sampleRegions(\n",
        "    collection=data.randomColumn().sort('random').limit(200),\n",
        "    properties=[],\n",
        "    scale=grain_size\n",
        ")\n",
        "\n",
        "# Define non-occurrence areas in dissimilar clusters\n",
        "cl_id = ee.FeatureCollection(cl_id).reduceColumns(ee.Reducer.mode(),['cluster'])\n",
        "cl_id = ee.Number(cl_id.get('mode')).subtract(1).abs()\n",
        "cl_mask = cl_result.select(['cluster']).eq(cl_id)\n",
        "\n",
        "# Presence location mask\n",
        "presence_mask = data.reduceToImage(properties=['random'],\n",
        "reducer=ee.Reducer.first()\n",
        ").reproject('EPSG:4326', None,\n",
        "            grain_size).mask().neq(1).selfMask()\n",
        "\n",
        "# Masking presence locations in non-occurrence areas and clipping to AOI\n",
        "area_for_pa = presence_mask.updateMask(cl_mask).clip(aoi)\n",
        "\n",
        "# Area for Pseudo-absence\n",
        "Map = geemap.Map(layout={'height':'400px', 'width':'800px'})\n",
        "Map.addLayer(area_for_pa, {'palette': 'black'}, 'AreaForPA')\n",
        "Map.centerObject(aoi, 6)\n",
        "Map"
      ]
    },
    {
      "cell_type": "markdown",
      "metadata": {
        "id": "iTWaV5fQZPgA"
      },
      "source": [
        "### Model fitting and prediction\n",
        "\n",
        "We will now divide the data into training data and test data. The training data will be used to find the optimal parameters by training the model, while the test data will be used to evaluate the model trained beforehand. An important concept to consider in this context is spatial autocorrelation.\n",
        "\n",
        "**Spatial autocorrelation** is an essential element in SDM, associated with Tobler's law. It embodies the concept that \"everything is related to everything else, but near things are more related than distant things\". Spatial autocorrelation represents the significant relationship between the location of species and environmental variables. However, if spatial autocorrelation exists between the training and test data, the independence between the two data sets can be compromised. This significantly impacts the evaluation of the model's generalization ability.\n",
        "\n",
        "One method to address this issue is the spatial block cross-validation technique, which involves dividing the data into training and testing datasets. This technique involves dividing the data into multiple blocks, using each block independently as training and test datasets to reduce the impact of spatial autocorrelation. This enhances the independence between datasets, allowing for a more accurate evaluation of the model's generalization ability.\n",
        "\n",
        "The specific procedure is as follows:\n",
        "1. Creation of spatial blocks: Divide the entire dataset into spatial blocks of equal size (e.g., 50x50 km).\n",
        "2. Assignment of training and testing sets: Each spatial block is randomly assigned to either the training set (70%) or the test set (30%). This prevents the model from overfitting to data from specific areas and aims to achieve more generalized results.\n",
        "3. Iterative cross-validation: The entire process is repeated n times (e.g., 10 times). In each iteration, the blocks are randomly divided into training and test sets again, which is intended to improve the model's stability and reliability.\n",
        "4. Generation of pseudo-absence data: In each iteration, pseudo-absence data are randomly generated to evaluate the model's performance."
      ]
    },
    {
      "cell_type": "code",
      "execution_count": 41,
      "metadata": {
        "id": "HASln4gfb1pZ",
        "colab": {
          "base_uri": "https://localhost:8080/",
          "height": 421,
          "referenced_widgets": [
            "45e198eca3e747ef933838e80dcedca7",
            "ada26e89740f448db0ffc7c2a2091a68",
            "02ce0d7974ab4e118cd6d4173d86b434",
            "0d20d960e0aa44fea053654446218bac",
            "c8cf1fce219c47f8901e6c0e777a158c",
            "7b71eeb04e25406291149cda00712272",
            "13f6646eb52742f5bc73806c97963bf6",
            "d60a80efd2214026b44a5e772262c13e",
            "7a248bf10ba643428c7f5ba1693847c0",
            "9608a6ae3dfb4cf8ac32ebb23ae03a49",
            "395106446f3c4651853b320403598455",
            "e999629a0c1d4b1bbc4541c6bc51150f",
            "cb850724b8a8459c86b51c1e5d55a870",
            "2ecae3f0d5b744b3bf4f6df377c43310",
            "e032b15dcf754403b793e426e9b7e151",
            "b321f7a60edc439a8513fef92e14ec34",
            "6a681478c4fd4f38886784479d9bb393",
            "75c160264e2d46ccadda8041c0e61c72",
            "15f99363fb9a451eb24c4b0090053b4f",
            "01d188a1488c4831a170234346b81bde",
            "b6d72dd5687042ad93a9b5091f893dd3",
            "1d00ad9c3526417688aa0520dcd719ae",
            "855b2c34b67c4c11b3188a8de90f6fd7",
            "612340961d34467d806639301c914ce7",
            "24ae619ed66b4172be4b488a847fc3ca",
            "fa8aada3aac941069db84d270d8d6429"
          ]
        },
        "outputId": "d8b5116d-1eda-4fc9-f43a-062be0b225da"
      },
      "outputs": [
        {
          "output_type": "display_data",
          "data": {
            "text/plain": [
              "<IPython.core.display.HTML object>"
            ],
            "text/html": [
              "\n",
              "            <style>\n",
              "                .geemap-dark {\n",
              "                    --jp-widgets-color: white;\n",
              "                    --jp-widgets-label-color: white;\n",
              "                    --jp-ui-font-color1: white;\n",
              "                    --jp-layout-color2: #454545;\n",
              "                    background-color: #383838;\n",
              "                }\n",
              "\n",
              "                .geemap-dark .jupyter-button {\n",
              "                    --jp-layout-color3: #383838;\n",
              "                }\n",
              "\n",
              "                .geemap-colab {\n",
              "                    background-color: var(--colab-primary-surface-color, white);\n",
              "                }\n",
              "\n",
              "                .geemap-colab .jupyter-button {\n",
              "                    --jp-layout-color3: var(--colab-primary-surface-color, white);\n",
              "                }\n",
              "            </style>\n",
              "            "
            ]
          },
          "metadata": {}
        },
        {
          "output_type": "display_data",
          "data": {
            "text/plain": [
              "Map(center=[35.60541125576072, 127.04873061439156], controls=(WidgetControl(options=['position', 'transparent_…"
            ],
            "application/vnd.jupyter.widget-view+json": {
              "version_major": 2,
              "version_minor": 0,
              "model_id": "45e198eca3e747ef933838e80dcedca7"
            }
          },
          "metadata": {
            "application/vnd.jupyter.widget-view+json": {
              "colab": {
                "custom_widget_manager": {
                  "url": "https://ssl.gstatic.com/colaboratory-static/widgets/colab-cdn-widget-manager/2b70e893a8ba7c0f/manager.min.js"
                }
              }
            }
          }
        }
      ],
      "source": [
        "Scale = 50000\n",
        "grid = watermask.reduceRegions(\n",
        "    collection=aoi.coveringGrid(scale=Scale, proj='EPSG:4326'),\n",
        "    reducer=ee.Reducer.mean()).filter(ee.Filter.neq('mean', None))\n",
        "\n",
        "Map = geemap.Map(layout={'height':'400px', 'width':'800px'})\n",
        "Map.addLayer(grid, {}, \"Grid for spatial block cross validation\")\n",
        "Map.addLayer(outline, {'palette': 'FF0000'}, \"Study Area\")\n",
        "Map.centerObject(aoi, 6)\n",
        "Map"
      ]
    },
    {
      "cell_type": "markdown",
      "metadata": {
        "id": "EsPbyMZ-cJg2"
      },
      "source": [
        "Now we can fit the model. Fitting a model involves understanding the patterns in the data and adjusting the model's parameters (weights and biases) accordingly. This process enables the model to make more accurate predictions when presented with new data. For this purpose, we have defined a function called SDM() to fit the model.\n",
        "\n",
        "We will use the **Random Forest** algorithm."
      ]
    },
    {
      "cell_type": "code",
      "execution_count": 42,
      "metadata": {
        "id": "89R79JvGb6c8",
        "colab": {
          "base_uri": "https://localhost:8080/",
          "height": 17
        },
        "outputId": "f801d322-969f-4298-bdae-2bba50cd10d3"
      },
      "outputs": [
        {
          "output_type": "display_data",
          "data": {
            "text/plain": [
              "<IPython.core.display.HTML object>"
            ],
            "text/html": [
              "\n",
              "            <style>\n",
              "                .geemap-dark {\n",
              "                    --jp-widgets-color: white;\n",
              "                    --jp-widgets-label-color: white;\n",
              "                    --jp-ui-font-color1: white;\n",
              "                    --jp-layout-color2: #454545;\n",
              "                    background-color: #383838;\n",
              "                }\n",
              "\n",
              "                .geemap-dark .jupyter-button {\n",
              "                    --jp-layout-color3: #383838;\n",
              "                }\n",
              "\n",
              "                .geemap-colab {\n",
              "                    background-color: var(--colab-primary-surface-color, white);\n",
              "                }\n",
              "\n",
              "                .geemap-colab .jupyter-button {\n",
              "                    --jp-layout-color3: var(--colab-primary-surface-color, white);\n",
              "                }\n",
              "            </style>\n",
              "            "
            ]
          },
          "metadata": {}
        }
      ],
      "source": [
        "def sdm(x):\n",
        "    seed = ee.Number(x)\n",
        "\n",
        "    # Random block division for training and validation\n",
        "    rand_blk = ee.FeatureCollection(grid).randomColumn(seed=seed).sort(\"random\")\n",
        "    training_grid = rand_blk.filter(ee.Filter.lt(\"random\", split))  # Grid for training\n",
        "    testing_grid = rand_blk.filter(ee.Filter.gte(\"random\", split))  # Grid for testing\n",
        "\n",
        "    # Presence points\n",
        "    presence_points = ee.FeatureCollection(data)\n",
        "    presence_points = presence_points.map(lambda feature: feature.set(\"PresAbs\", 1))\n",
        "    tr_presence_points = presence_points.filter(\n",
        "        ee.Filter.bounds(training_grid)\n",
        "    )  # Presence points for training\n",
        "    te_presence_points = presence_points.filter(\n",
        "        ee.Filter.bounds(testing_grid)\n",
        "    )  # Presence points for testing\n",
        "\n",
        "    # Pseudo-absence points for training\n",
        "    tr_pseudo_abs_points = area_for_pa.sample(\n",
        "        region=training_grid,\n",
        "        scale=grain_size,\n",
        "        numPixels=tr_presence_points.size().add(300),\n",
        "        seed=seed,\n",
        "        geometries=True,\n",
        "    )\n",
        "    # Same number of pseudo-absence points as presence points for training\n",
        "    tr_pseudo_abs_points = (\n",
        "        tr_pseudo_abs_points.randomColumn()\n",
        "        .sort(\"random\")\n",
        "        .limit(ee.Number(tr_presence_points.size()))\n",
        "    )\n",
        "    tr_pseudo_abs_points = tr_pseudo_abs_points.map(lambda feature: feature.set(\"PresAbs\", 0))\n",
        "\n",
        "    te_pseudo_abs_points = area_for_pa.sample(\n",
        "        region=testing_grid,\n",
        "        scale=grain_size,\n",
        "        numPixels=te_presence_points.size().add(100),\n",
        "        seed=seed,\n",
        "        geometries=True,\n",
        "    )\n",
        "    # Same number of pseudo-absence points as presence points for testing\n",
        "    te_pseudo_abs_points = (\n",
        "        te_pseudo_abs_points.randomColumn()\n",
        "        .sort(\"random\")\n",
        "        .limit(ee.Number(te_presence_points.size()))\n",
        "    )\n",
        "    te_pseudo_abs_points = te_pseudo_abs_points.map(lambda feature: feature.set(\"PresAbs\", 0))\n",
        "\n",
        "    # Merge training and pseudo-absence points\n",
        "    training_partition = tr_presence_points.merge(tr_pseudo_abs_points)\n",
        "    testing_partition = te_presence_points.merge(te_pseudo_abs_points)\n",
        "\n",
        "    # Extract predictor variable values at training points\n",
        "    train_pvals = predictors.sampleRegions(\n",
        "        collection=training_partition,\n",
        "        properties=[\"PresAbs\"],\n",
        "        scale=grain_size,\n",
        "        geometries=True,\n",
        "    )\n",
        "\n",
        "    # Random Forest classifier\n",
        "    classifier = ee.Classifier.smileRandomForest(\n",
        "        numberOfTrees=500,\n",
        "        variablesPerSplit=None,\n",
        "        minLeafPopulation=10,\n",
        "        bagFraction=0.5,\n",
        "        maxNodes=None,\n",
        "        seed=seed,\n",
        "    )\n",
        "    # Presence probability: Habitat suitability map\n",
        "    classifier_pr = classifier.setOutputMode(\"PROBABILITY\").train(\n",
        "        train_pvals, \"PresAbs\", bands\n",
        "    )\n",
        "    classified_img_pr = predictors.select(bands).classify(classifier_pr)\n",
        "\n",
        "    # Binary presence/absence map: Potential distribution map\n",
        "    classifier_bin = classifier.setOutputMode(\"CLASSIFICATION\").train(\n",
        "        train_pvals, \"PresAbs\", bands\n",
        "    )\n",
        "    classified_img_bin = predictors.select(bands).classify(classifier_bin)\n",
        "\n",
        "    return [\n",
        "        classified_img_pr,\n",
        "        classified_img_bin,\n",
        "        training_partition,\n",
        "        testing_partition,\n",
        "    ], classifier_pr"
      ]
    },
    {
      "cell_type": "markdown",
      "metadata": {
        "id": "yCGB0Y6meW2B"
      },
      "source": [
        "Spatial blocks are divided into 70% for model training and 30% for model testing, respectively. Pseudo-absence data are randomly generated within each training and testing set in every iteration. As a result, each execution yields different sets of presence and pseudo-absence data for model training and testing."
      ]
    },
    {
      "cell_type": "code",
      "execution_count": 43,
      "metadata": {
        "id": "KV6Jg50AeA7B",
        "colab": {
          "base_uri": "https://localhost:8080/",
          "height": 17
        },
        "outputId": "b00eb814-c4b3-4bb4-e77c-c793c80de07b"
      },
      "outputs": [
        {
          "output_type": "display_data",
          "data": {
            "text/plain": [
              "<IPython.core.display.HTML object>"
            ],
            "text/html": [
              "\n",
              "            <style>\n",
              "                .geemap-dark {\n",
              "                    --jp-widgets-color: white;\n",
              "                    --jp-widgets-label-color: white;\n",
              "                    --jp-ui-font-color1: white;\n",
              "                    --jp-layout-color2: #454545;\n",
              "                    background-color: #383838;\n",
              "                }\n",
              "\n",
              "                .geemap-dark .jupyter-button {\n",
              "                    --jp-layout-color3: #383838;\n",
              "                }\n",
              "\n",
              "                .geemap-colab {\n",
              "                    background-color: var(--colab-primary-surface-color, white);\n",
              "                }\n",
              "\n",
              "                .geemap-colab .jupyter-button {\n",
              "                    --jp-layout-color3: var(--colab-primary-surface-color, white);\n",
              "                }\n",
              "            </style>\n",
              "            "
            ]
          },
          "metadata": {}
        }
      ],
      "source": [
        "split = 0.7\n",
        "numiter = 10\n",
        "\n",
        "# Random Seed\n",
        "# runif = lambda length: [random.randint(1, 1000) for _ in range(length)]\n",
        "# items = runif(numiter)\n",
        "\n",
        "# Fixed seed\n",
        "items = [287, 288, 553, 226, 151, 255, 902, 267, 419, 538]"
      ]
    },
    {
      "cell_type": "code",
      "execution_count": 44,
      "metadata": {
        "id": "BHCnkZvveq_Q",
        "colab": {
          "base_uri": "https://localhost:8080/",
          "height": 17
        },
        "outputId": "1a88fd0c-121f-46a0-8078-3313580e14fa"
      },
      "outputs": [
        {
          "output_type": "display_data",
          "data": {
            "text/plain": [
              "<IPython.core.display.HTML object>"
            ],
            "text/html": [
              "\n",
              "            <style>\n",
              "                .geemap-dark {\n",
              "                    --jp-widgets-color: white;\n",
              "                    --jp-widgets-label-color: white;\n",
              "                    --jp-ui-font-color1: white;\n",
              "                    --jp-layout-color2: #454545;\n",
              "                    background-color: #383838;\n",
              "                }\n",
              "\n",
              "                .geemap-dark .jupyter-button {\n",
              "                    --jp-layout-color3: #383838;\n",
              "                }\n",
              "\n",
              "                .geemap-colab {\n",
              "                    background-color: var(--colab-primary-surface-color, white);\n",
              "                }\n",
              "\n",
              "                .geemap-colab .jupyter-button {\n",
              "                    --jp-layout-color3: var(--colab-primary-surface-color, white);\n",
              "                }\n",
              "            </style>\n",
              "            "
            ]
          },
          "metadata": {}
        }
      ],
      "source": [
        "results_list = [] # Initialize SDM results list\n",
        "importances_list = [] # Initialize variable importance list\n",
        "\n",
        "for item in items:\n",
        "    result, trained = sdm(item)\n",
        "    # Accumulate SDM results into the list\n",
        "    results_list.extend(result)\n",
        "\n",
        "    # Accumulate variable importance into the list\n",
        "    importance = ee.Dictionary(trained.explain()).get('importance')\n",
        "    importances_list.extend(importance.getInfo().items())\n",
        "\n",
        "# Flatten the SDM results list\n",
        "results = ee.List(results_list).flatten()"
      ]
    },
    {
      "cell_type": "markdown",
      "metadata": {
        "id": "UHQ6Hx07gG2m"
      },
      "source": [
        "Now we can visualize the **habitat suitability map** and **potential distribution map** for the Fairy pitta. In this case, the habitat suitability map is created by using the `mean()` function to calculate the average for each pixel location across all images, and the potential distribution map is generated by using the `mode()` function to determine the most frequently occurring value at each pixel location across all images.\n",
        "\n",
        "![SDM results](https://github.com/google/earthengine-community/blob/master/tutorials/species-distribution-modeling/sdm_results.png?raw=1)"
      ]
    },
    {
      "cell_type": "code",
      "execution_count": 45,
      "metadata": {
        "id": "J_QUmonhfuSM",
        "colab": {
          "base_uri": "https://localhost:8080/",
          "height": 421,
          "referenced_widgets": [
            "68e48a267bbd43dd8949c47d959c5a1a",
            "c792c1ca59a04bb39e57b5c8665b867a",
            "37e744b384ca42459831a3434de6c1d9",
            "a585bcd6d3984d1b834d93f33f178d2a",
            "8542f464e5b34d8a87a7903ddd329d4f",
            "e69e8f0a34ec44c3bec9b123b1f2e1d2",
            "86821c8315ce453099b65db7517bdbd3",
            "2712eda67ce7448d857ee98ae902a74f",
            "af1c3439498640abace722a6f2916abf",
            "c6bbb3fbe5df4ac9bcc2e89db0f69911",
            "5429eb6814194b41babe33f46f83f539",
            "b33cdc875404490d8d208ba3cc053fe8",
            "b740ac72e1b94c1996fb1bd7a96d78c0",
            "b78331e55ac041688e6934ef87641a2e",
            "787c1034c1dd49cf8f8b97ed970b459a",
            "adbcc93b2d8a44709f47851c88c1a086",
            "c4c5f3dfaf8d4e83bdd2103aee75f0b4",
            "7bac80e25f984c1e8cc6b4a1dd23b8f4",
            "d89ce1391622424a91e541a714f9383c",
            "c8590bea47794da3a75ece669176ab16",
            "798006d7a5814f9d829f72df2375cd1f",
            "85f3eba7194e4bc38d9235fc043467ca",
            "859cc7c56bb14c6880c1ac78cabd76c9",
            "f93126291ba54593976206309c7d58c5",
            "759830e6972a44d2b774f80257924cfb",
            "77a32c8c62c048f1b5660f0a7c0386d5",
            "abc883b7854e41ffb548c8146543a139",
            "75f5a1f4b4ad40c5ad8cf5929de33d6e",
            "95254dda27d44394aa2b03401884c100"
          ]
        },
        "outputId": "6e1992ec-8dff-465c-8542-25d21391582c"
      },
      "outputs": [
        {
          "output_type": "display_data",
          "data": {
            "text/plain": [
              "<IPython.core.display.HTML object>"
            ],
            "text/html": [
              "\n",
              "            <style>\n",
              "                .geemap-dark {\n",
              "                    --jp-widgets-color: white;\n",
              "                    --jp-widgets-label-color: white;\n",
              "                    --jp-ui-font-color1: white;\n",
              "                    --jp-layout-color2: #454545;\n",
              "                    background-color: #383838;\n",
              "                }\n",
              "\n",
              "                .geemap-dark .jupyter-button {\n",
              "                    --jp-layout-color3: #383838;\n",
              "                }\n",
              "\n",
              "                .geemap-colab {\n",
              "                    background-color: var(--colab-primary-surface-color, white);\n",
              "                }\n",
              "\n",
              "                .geemap-colab .jupyter-button {\n",
              "                    --jp-layout-color3: var(--colab-primary-surface-color, white);\n",
              "                }\n",
              "            </style>\n",
              "            "
            ]
          },
          "metadata": {}
        },
        {
          "output_type": "display_data",
          "data": {
            "text/plain": [
              "Map(center=[35.60541125576072, 127.04873061439156], controls=(WidgetControl(options=['position', 'transparent_…"
            ],
            "application/vnd.jupyter.widget-view+json": {
              "version_major": 2,
              "version_minor": 0,
              "model_id": "68e48a267bbd43dd8949c47d959c5a1a"
            }
          },
          "metadata": {
            "application/vnd.jupyter.widget-view+json": {
              "colab": {
                "custom_widget_manager": {
                  "url": "https://ssl.gstatic.com/colaboratory-static/widgets/colab-cdn-widget-manager/2b70e893a8ba7c0f/manager.min.js"
                }
              }
            }
          }
        }
      ],
      "source": [
        "# Habitat suitability map\n",
        "images = ee.List.sequence(\n",
        "    0, ee.Number(numiter).multiply(4).subtract(1), 4).map(\n",
        "    lambda x: results.get(x))\n",
        "model_average = ee.ImageCollection.fromImages(images).mean()\n",
        "\n",
        "Map = geemap.Map(layout={'height':'400px', 'width':'800px'}, basemap='Esri.WorldImagery')\n",
        "\n",
        "vis_params = {\n",
        "    'min': 0,\n",
        "    'max': 1,\n",
        "    'palette': cm.palettes.viridis_r}\n",
        "Map.addLayer(model_average, vis_params, 'Habitat suitability')\n",
        "Map.add_colorbar(vis_params, label=\"Habitat suitability\",\n",
        "                 orientation=\"horizontal\",\n",
        "                 layer_name=\"Habitat suitability\")\n",
        "Map.addLayer(data, {'color':'red'}, 'Presence')\n",
        "Map.centerObject(aoi, 6)\n",
        "Map"
      ]
    },
    {
      "cell_type": "code",
      "source": [
        "\"\"\"\n",
        "# Save the Habitat Suitability Map as a GeoTIFF\n",
        "out_file = 'habitat_suitability.tif'\n",
        "geemap.ee_export_image(model_average, filename=out_file, region=aoi, scale=1000)\n",
        "\n",
        "from google.colab import files\n",
        "files.download(out_file)\n",
        "\"\"\""
      ],
      "metadata": {
        "colab": {
          "base_uri": "https://localhost:8080/",
          "height": 53
        },
        "id": "P3YwrkQGJaUX",
        "outputId": "3c7d80a7-2cd7-4bf9-c088-4bb6323c5ee4"
      },
      "execution_count": 46,
      "outputs": [
        {
          "output_type": "display_data",
          "data": {
            "text/plain": [
              "<IPython.core.display.HTML object>"
            ],
            "text/html": [
              "\n",
              "            <style>\n",
              "                .geemap-dark {\n",
              "                    --jp-widgets-color: white;\n",
              "                    --jp-widgets-label-color: white;\n",
              "                    --jp-ui-font-color1: white;\n",
              "                    --jp-layout-color2: #454545;\n",
              "                    background-color: #383838;\n",
              "                }\n",
              "\n",
              "                .geemap-dark .jupyter-button {\n",
              "                    --jp-layout-color3: #383838;\n",
              "                }\n",
              "\n",
              "                .geemap-colab {\n",
              "                    background-color: var(--colab-primary-surface-color, white);\n",
              "                }\n",
              "\n",
              "                .geemap-colab .jupyter-button {\n",
              "                    --jp-layout-color3: var(--colab-primary-surface-color, white);\n",
              "                }\n",
              "            </style>\n",
              "            "
            ]
          },
          "metadata": {}
        },
        {
          "output_type": "execute_result",
          "data": {
            "text/plain": [
              "\"\\n# Save the Habitat Suitability Map as a GeoTIFF\\nout_file = 'habitat_suitability.tif'\\ngeemap.ee_export_image(model_average, filename=out_file, region=aoi, scale=1000)\\n\\nfrom google.colab import files\\nfiles.download(out_file)\\n\""
            ],
            "application/vnd.google.colaboratory.intrinsic+json": {
              "type": "string"
            }
          },
          "metadata": {},
          "execution_count": 46
        }
      ]
    },
    {
      "cell_type": "code",
      "execution_count": 47,
      "metadata": {
        "id": "cBZa-J43jAL2",
        "colab": {
          "base_uri": "https://localhost:8080/",
          "height": 421,
          "referenced_widgets": [
            "18b6f713b69d47c99844313de05a9936",
            "eecac3521e444f0a92bacd8065d3e3da",
            "b51770b6c114447d8a76e3508edffed1",
            "6a441670363d473982731852fc95b829",
            "ff3ef55b1c7a4e6d921fe7a3c98780c2",
            "2b497c28daa8418a8a4cf9feedaa74ea",
            "82da0aa01ac549cfbf94ff6d8fee6276",
            "720758452bb643e8a8cb2c18b29e8e5d",
            "724f4f5fc384477dae984300b7a265a8",
            "f1db9642205d43cb85a6de04ed90de11",
            "0d2dfa49e1324a12b51d9e52111faf4f",
            "9458fa16876845bab35be2ba5c4acd62",
            "d7e6f25eb9564971adee17aea6414eb7",
            "df001e9fb82b4cd7b4585f9dd0381eb9",
            "f4e74090bf7944c68701bb9b46197c0b",
            "e5f18284a8fe4f21bfb6acc55d90a037",
            "3eadceb4ce9d4896a4500b2d9f321683",
            "66dc049e46354d9eb0171e006d8c3bdc",
            "d85b227877a74141be61978ec0ba19ea",
            "2f2d578f72f04baba41b3614cebdaedb",
            "3b554e29481946a68743d0c19336a6d9",
            "25bcfc582ee64040b49f797bf62b4053",
            "d8dd9415ffb942e3aa3aa8aad88574be",
            "d4930b8584854b1ca56ccd37ebcf4536",
            "0c63893689a044d28355bf80b1a3b767",
            "c6f736bca9eb431ba51b6d6067edbf88",
            "ba36577eeda34c0bb6cf249de9e19ad6",
            "851d6041b0004448b30d400e9ea3d4d9",
            "3c490fad6f8d461a8d0bcfa29fc5a09b"
          ]
        },
        "outputId": "89154cc7-e20c-4ccb-eaf1-c14d1031a854"
      },
      "outputs": [
        {
          "output_type": "display_data",
          "data": {
            "text/plain": [
              "<IPython.core.display.HTML object>"
            ],
            "text/html": [
              "\n",
              "            <style>\n",
              "                .geemap-dark {\n",
              "                    --jp-widgets-color: white;\n",
              "                    --jp-widgets-label-color: white;\n",
              "                    --jp-ui-font-color1: white;\n",
              "                    --jp-layout-color2: #454545;\n",
              "                    background-color: #383838;\n",
              "                }\n",
              "\n",
              "                .geemap-dark .jupyter-button {\n",
              "                    --jp-layout-color3: #383838;\n",
              "                }\n",
              "\n",
              "                .geemap-colab {\n",
              "                    background-color: var(--colab-primary-surface-color, white);\n",
              "                }\n",
              "\n",
              "                .geemap-colab .jupyter-button {\n",
              "                    --jp-layout-color3: var(--colab-primary-surface-color, white);\n",
              "                }\n",
              "            </style>\n",
              "            "
            ]
          },
          "metadata": {}
        },
        {
          "output_type": "display_data",
          "data": {
            "text/plain": [
              "Map(center=[35.50809806587966, 126.98920121934266], controls=(WidgetControl(options=['position', 'transparent_…"
            ],
            "application/vnd.jupyter.widget-view+json": {
              "version_major": 2,
              "version_minor": 0,
              "model_id": "18b6f713b69d47c99844313de05a9936"
            }
          },
          "metadata": {
            "application/vnd.jupyter.widget-view+json": {
              "colab": {
                "custom_widget_manager": {
                  "url": "https://ssl.gstatic.com/colaboratory-static/widgets/colab-cdn-widget-manager/2b70e893a8ba7c0f/manager.min.js"
                }
              }
            }
          }
        }
      ],
      "source": [
        "# Potential distribution map\n",
        "images2 = ee.List.sequence(1, ee.Number(numiter).multiply(4).subtract(1), 4).map(\n",
        "    lambda x: results.get(x)\n",
        ")\n",
        "distribution_map = ee.ImageCollection.fromImages(images2).mode()\n",
        "\n",
        "Map = geemap.Map(\n",
        "    layout={\"height\": \"400px\", \"width\": \"800px\"}, basemap=\"Esri.WorldImagery\"\n",
        ")\n",
        "\n",
        "vis_params = {\"min\": 0, \"max\": 1, \"palette\": [\"white\", \"green\"]}\n",
        "Map.addLayer(distribution_map, vis_params, \"Potential distribution\")\n",
        "Map.addLayer(data, {\"color\": \"red\"}, \"Presence\")\n",
        "Map.add_colorbar(\n",
        "    vis_params,\n",
        "    label=\"Potential distribution\",\n",
        "    discrete=True,\n",
        "    orientation=\"horizontal\",\n",
        "    layer_name=\"Potential distribution\",\n",
        ")\n",
        "Map.centerObject(data.geometry(), 6)\n",
        "Map"
      ]
    },
    {
      "cell_type": "code",
      "source": [
        "# Save the Potential Distribution Map as a GeoTIFF\n",
        "out_file = 'distribution_map.tif'\n",
        "geemap.ee_export_image(model_average, filename=out_file, region=aoi, scale=1000)\n",
        "\n",
        "from google.colab import files\n",
        "files.download(out_file)"
      ],
      "metadata": {
        "colab": {
          "base_uri": "https://localhost:8080/",
          "height": 90
        },
        "id": "9pu6vN11MHOD",
        "outputId": "a6df63cf-f0ec-4c8b-852c-bf3254f8509a"
      },
      "execution_count": 48,
      "outputs": [
        {
          "output_type": "display_data",
          "data": {
            "text/plain": [
              "<IPython.core.display.HTML object>"
            ],
            "text/html": [
              "\n",
              "            <style>\n",
              "                .geemap-dark {\n",
              "                    --jp-widgets-color: white;\n",
              "                    --jp-widgets-label-color: white;\n",
              "                    --jp-ui-font-color1: white;\n",
              "                    --jp-layout-color2: #454545;\n",
              "                    background-color: #383838;\n",
              "                }\n",
              "\n",
              "                .geemap-dark .jupyter-button {\n",
              "                    --jp-layout-color3: #383838;\n",
              "                }\n",
              "\n",
              "                .geemap-colab {\n",
              "                    background-color: var(--colab-primary-surface-color, white);\n",
              "                }\n",
              "\n",
              "                .geemap-colab .jupyter-button {\n",
              "                    --jp-layout-color3: var(--colab-primary-surface-color, white);\n",
              "                }\n",
              "            </style>\n",
              "            "
            ]
          },
          "metadata": {}
        },
        {
          "output_type": "stream",
          "name": "stdout",
          "text": [
            "Generating URL ...\n",
            "Downloading data from https://earthengine.googleapis.com/v1/projects/ee-foss4g/thumbnails/7f845a1e9d48fde8f0eea61f59b99bd2-981c358d6808537baa069352d56da231:getPixels\n",
            "Please wait ...\n",
            "Data downloaded to /content/distribution_map.tif\n"
          ]
        },
        {
          "output_type": "display_data",
          "data": {
            "text/plain": [
              "<IPython.core.display.Javascript object>"
            ],
            "application/javascript": [
              "\n",
              "    async function download(id, filename, size) {\n",
              "      if (!google.colab.kernel.accessAllowed) {\n",
              "        return;\n",
              "      }\n",
              "      const div = document.createElement('div');\n",
              "      const label = document.createElement('label');\n",
              "      label.textContent = `Downloading \"${filename}\": `;\n",
              "      div.appendChild(label);\n",
              "      const progress = document.createElement('progress');\n",
              "      progress.max = size;\n",
              "      div.appendChild(progress);\n",
              "      document.body.appendChild(div);\n",
              "\n",
              "      const buffers = [];\n",
              "      let downloaded = 0;\n",
              "\n",
              "      const channel = await google.colab.kernel.comms.open(id);\n",
              "      // Send a message to notify the kernel that we're ready.\n",
              "      channel.send({})\n",
              "\n",
              "      for await (const message of channel.messages) {\n",
              "        // Send a message to notify the kernel that we're ready.\n",
              "        channel.send({})\n",
              "        if (message.buffers) {\n",
              "          for (const buffer of message.buffers) {\n",
              "            buffers.push(buffer);\n",
              "            downloaded += buffer.byteLength;\n",
              "            progress.value = downloaded;\n",
              "          }\n",
              "        }\n",
              "      }\n",
              "      const blob = new Blob(buffers, {type: 'application/binary'});\n",
              "      const a = document.createElement('a');\n",
              "      a.href = window.URL.createObjectURL(blob);\n",
              "      a.download = filename;\n",
              "      div.appendChild(a);\n",
              "      a.click();\n",
              "      div.remove();\n",
              "    }\n",
              "  "
            ]
          },
          "metadata": {}
        },
        {
          "output_type": "display_data",
          "data": {
            "text/plain": [
              "<IPython.core.display.Javascript object>"
            ],
            "application/javascript": [
              "download(\"download_a58bee93-e56e-4d79-9116-9408b1c836ed\", \"distribution_map.tif\", 521840)"
            ]
          },
          "metadata": {}
        }
      ]
    },
    {
      "cell_type": "markdown",
      "metadata": {
        "id": "B5cjWyzAmd4Z"
      },
      "source": [
        "### Variable importance and accuracy assessment\n",
        "\n",
        "Random Forest (`ee.Classifier.smileRandomForest`) is one of the ensemble learning methods, which operates by constructing multiple decision trees to make predictions. Each decision tree independently learns from different subsets of the data, and their results are aggregated to enable more accurate and stable predictions.\n",
        "\n",
        "Variable importance is a measure that evaluates the impact of each variable on the predictions within the Random Forest model. We will use the previously defined `importances_list` to calculate and print the average variable importance."
      ]
    },
    {
      "cell_type": "code",
      "execution_count": 49,
      "metadata": {
        "id": "uoJ0mBeRme-E",
        "colab": {
          "base_uri": "https://localhost:8080/",
          "height": 17
        },
        "outputId": "23cb8960-346f-4c52-9100-18142da3e12c"
      },
      "outputs": [
        {
          "output_type": "display_data",
          "data": {
            "text/plain": [
              "<IPython.core.display.HTML object>"
            ],
            "text/html": [
              "\n",
              "            <style>\n",
              "                .geemap-dark {\n",
              "                    --jp-widgets-color: white;\n",
              "                    --jp-widgets-label-color: white;\n",
              "                    --jp-ui-font-color1: white;\n",
              "                    --jp-layout-color2: #454545;\n",
              "                    background-color: #383838;\n",
              "                }\n",
              "\n",
              "                .geemap-dark .jupyter-button {\n",
              "                    --jp-layout-color3: #383838;\n",
              "                }\n",
              "\n",
              "                .geemap-colab {\n",
              "                    background-color: var(--colab-primary-surface-color, white);\n",
              "                }\n",
              "\n",
              "                .geemap-colab .jupyter-button {\n",
              "                    --jp-layout-color3: var(--colab-primary-surface-color, white);\n",
              "                }\n",
              "            </style>\n",
              "            "
            ]
          },
          "metadata": {}
        }
      ],
      "source": [
        "def plot_variable_importance(importances_list):\n",
        "    # Extract each variable importance value into a list\n",
        "    variables = [item[0] for item in importances_list]\n",
        "    importances = [item[1] for item in importances_list]\n",
        "\n",
        "    # Calculate the average importance for each variable\n",
        "    average_importances = {}\n",
        "    for variable in set(variables):\n",
        "        indices = [i for i, var in enumerate(variables) if var == variable]\n",
        "        average_importance = np.mean([importances[i] for i in indices])\n",
        "        average_importances[variable] = average_importance\n",
        "\n",
        "    # Sort the importances in descending order of importance\n",
        "    sorted_importances = sorted(average_importances.items(),\n",
        "                                key=lambda x: x[1], reverse=False)\n",
        "    variables = [item[0] for item in sorted_importances]\n",
        "    avg_importances = [item[1] for item in sorted_importances]\n",
        "\n",
        "    # Adjust the graph size\n",
        "    plt.figure(figsize=(8, 4))\n",
        "\n",
        "    # Plot the average importance as a horizontal bar chart\n",
        "    plt.barh(variables, avg_importances)\n",
        "    plt.xlabel('Importance')\n",
        "    plt.ylabel('Variables')\n",
        "    plt.title('Average Variable Importance')\n",
        "\n",
        "    # Display values above the bars\n",
        "    for i, v in enumerate(avg_importances):\n",
        "        plt.text(v + 0.02, i, f\"{v:.2f}\", va='center')\n",
        "\n",
        "    # Adjust the x-axis range\n",
        "    plt.xlim(0, max(avg_importances) + 5)  # Adjust to the desired range\n",
        "\n",
        "    plt.tight_layout()\n",
        "    plt.savefig('variable_importance.png')\n",
        "    plt.show()"
      ]
    },
    {
      "cell_type": "code",
      "execution_count": 50,
      "metadata": {
        "id": "2nhhAUydurwm",
        "colab": {
          "base_uri": "https://localhost:8080/",
          "height": 407
        },
        "outputId": "23be6915-0d07-487e-b550-da205f3e123e"
      },
      "outputs": [
        {
          "output_type": "display_data",
          "data": {
            "text/plain": [
              "<IPython.core.display.HTML object>"
            ],
            "text/html": [
              "\n",
              "            <style>\n",
              "                .geemap-dark {\n",
              "                    --jp-widgets-color: white;\n",
              "                    --jp-widgets-label-color: white;\n",
              "                    --jp-ui-font-color1: white;\n",
              "                    --jp-layout-color2: #454545;\n",
              "                    background-color: #383838;\n",
              "                }\n",
              "\n",
              "                .geemap-dark .jupyter-button {\n",
              "                    --jp-layout-color3: #383838;\n",
              "                }\n",
              "\n",
              "                .geemap-colab {\n",
              "                    background-color: var(--colab-primary-surface-color, white);\n",
              "                }\n",
              "\n",
              "                .geemap-colab .jupyter-button {\n",
              "                    --jp-layout-color3: var(--colab-primary-surface-color, white);\n",
              "                }\n",
              "            </style>\n",
              "            "
            ]
          },
          "metadata": {}
        },
        {
          "output_type": "display_data",
          "data": {
            "text/plain": [
              "<Figure size 800x400 with 1 Axes>"
            ],
            "image/png": "[encoded data removed]"
          },
          "metadata": {}
        }
      ],
      "source": [
        "plot_variable_importance(importances_list)"
      ]
    },
    {
      "cell_type": "markdown",
      "metadata": {
        "id": "m889_YCzwNhR"
      },
      "source": [
        "Using the Testing Datasets, we calculate AUC-ROC and AUC-PR for each run. Then, we compute the average AUC-ROC and AUC-PR over n iterations.\n",
        "\n",
        "**AUC-ROC** represents the area under the curve of the 'Sensitivity (Recall) vs. 1-Specificity' graph, illustrating the relationship between sensitivity and specificity as the threshold changes. Specificity is based on all observed non-occurrences. Therefore, AUC-ROC encompasses all quadrants of the confusion matrix.\n",
        "\n",
        "**AUC-PR** represents the area under the curve of the 'Precision vs. Recall (Sensitivity)' graph, showing the relationship between precision and recall as the threshold varies. Precision is based on all predicted occurrences. Hence, AUC-PR does not include the true negatives (TN).\n",
        "\n",
        "> Note: It's important to ensure that each run has a sufficient number of points for model validation. The final number of points may vary due to the random partitioning of spatial blocks, so it's crucial to verify if there are enough presence and pseudo-absence points for model validation. In the case of endangered or rare species, there might be a shortage of occurrence data, leading to an insufficient test dataset. In such cases, alternatives may include additional data collection based on expert knowledge and experience or utilizing relevant alternative data sources."
      ]
    },
    {
      "cell_type": "code",
      "execution_count": 51,
      "metadata": {
        "id": "sdyvrG7swBUp",
        "colab": {
          "base_uri": "https://localhost:8080/",
          "height": 17
        },
        "outputId": "29df7600-ba6f-4890-cb35-ae64bb824a3e"
      },
      "outputs": [
        {
          "output_type": "display_data",
          "data": {
            "text/plain": [
              "<IPython.core.display.HTML object>"
            ],
            "text/html": [
              "\n",
              "            <style>\n",
              "                .geemap-dark {\n",
              "                    --jp-widgets-color: white;\n",
              "                    --jp-widgets-label-color: white;\n",
              "                    --jp-ui-font-color1: white;\n",
              "                    --jp-layout-color2: #454545;\n",
              "                    background-color: #383838;\n",
              "                }\n",
              "\n",
              "                .geemap-dark .jupyter-button {\n",
              "                    --jp-layout-color3: #383838;\n",
              "                }\n",
              "\n",
              "                .geemap-colab {\n",
              "                    background-color: var(--colab-primary-surface-color, white);\n",
              "                }\n",
              "\n",
              "                .geemap-colab .jupyter-button {\n",
              "                    --jp-layout-color3: var(--colab-primary-surface-color, white);\n",
              "                }\n",
              "            </style>\n",
              "            "
            ]
          },
          "metadata": {}
        }
      ],
      "source": [
        "def print_pres_abs_sizes(TestingDatasets, numiter):\n",
        "    # Check and print the sizes of presence and pseudo-absence coordinates\n",
        "    def get_pres_abs_size(x):\n",
        "        fc = ee.FeatureCollection(TestingDatasets.get(x))\n",
        "        presence_size = fc.filter(ee.Filter.eq(\"PresAbs\", 1)).size()\n",
        "        pseudo_absence_size = fc.filter(ee.Filter.eq(\"PresAbs\", 0)).size()\n",
        "        return ee.List([presence_size, pseudo_absence_size])\n",
        "\n",
        "    sizes_info = (\n",
        "        ee.List.sequence(0, ee.Number(numiter).subtract(1), 1)\n",
        "        .map(get_pres_abs_size)\n",
        "        .getInfo()\n",
        "    )\n",
        "\n",
        "    for i, sizes in enumerate(sizes_info):\n",
        "        presence_size = sizes[0]\n",
        "        pseudo_absence_size = sizes[1]\n",
        "        print(\n",
        "            f\"Iteration {i + 1}: Presence Size = {presence_size}, Pseudo-absence Size = {pseudo_absence_size}\"\n",
        "        )"
      ]
    },
    {
      "cell_type": "code",
      "execution_count": 52,
      "metadata": {
        "id": "MccWAsdTxjUS",
        "colab": {
          "base_uri": "https://localhost:8080/",
          "height": 199
        },
        "outputId": "67913114-a83a-4d26-8dde-4d449dc17f22"
      },
      "outputs": [
        {
          "output_type": "display_data",
          "data": {
            "text/plain": [
              "<IPython.core.display.HTML object>"
            ],
            "text/html": [
              "\n",
              "            <style>\n",
              "                .geemap-dark {\n",
              "                    --jp-widgets-color: white;\n",
              "                    --jp-widgets-label-color: white;\n",
              "                    --jp-ui-font-color1: white;\n",
              "                    --jp-layout-color2: #454545;\n",
              "                    background-color: #383838;\n",
              "                }\n",
              "\n",
              "                .geemap-dark .jupyter-button {\n",
              "                    --jp-layout-color3: #383838;\n",
              "                }\n",
              "\n",
              "                .geemap-colab {\n",
              "                    background-color: var(--colab-primary-surface-color, white);\n",
              "                }\n",
              "\n",
              "                .geemap-colab .jupyter-button {\n",
              "                    --jp-layout-color3: var(--colab-primary-surface-color, white);\n",
              "                }\n",
              "            </style>\n",
              "            "
            ]
          },
          "metadata": {}
        },
        {
          "output_type": "stream",
          "name": "stdout",
          "text": [
            "Iteration 1: Presence Size = 32, Pseudo-absence Size = 27\n",
            "Iteration 2: Presence Size = 39, Pseudo-absence Size = 30\n",
            "Iteration 3: Presence Size = 55, Pseudo-absence Size = 35\n",
            "Iteration 4: Presence Size = 35, Pseudo-absence Size = 29\n",
            "Iteration 5: Presence Size = 53, Pseudo-absence Size = 35\n",
            "Iteration 6: Presence Size = 28, Pseudo-absence Size = 28\n",
            "Iteration 7: Presence Size = 33, Pseudo-absence Size = 26\n",
            "Iteration 8: Presence Size = 12, Pseudo-absence Size = 12\n",
            "Iteration 9: Presence Size = 28, Pseudo-absence Size = 27\n",
            "Iteration 10: Presence Size = 12, Pseudo-absence Size = 11\n"
          ]
        }
      ],
      "source": [
        "# Extracting the Testing Datasets\n",
        "testing_datasets = ee.List.sequence(\n",
        "    3, ee.Number(numiter).multiply(4).subtract(1), 4\n",
        ").map(lambda x: results.get(x))\n",
        "\n",
        "print_pres_abs_sizes(testing_datasets, numiter)"
      ]
    },
    {
      "cell_type": "code",
      "execution_count": 53,
      "metadata": {
        "id": "GvEH7C9SzI0M",
        "colab": {
          "base_uri": "https://localhost:8080/",
          "height": 17
        },
        "outputId": "711d3d10-5732-4ea9-cc1c-25c4c673cd5b"
      },
      "outputs": [
        {
          "output_type": "display_data",
          "data": {
            "text/plain": [
              "<IPython.core.display.HTML object>"
            ],
            "text/html": [
              "\n",
              "            <style>\n",
              "                .geemap-dark {\n",
              "                    --jp-widgets-color: white;\n",
              "                    --jp-widgets-label-color: white;\n",
              "                    --jp-ui-font-color1: white;\n",
              "                    --jp-layout-color2: #454545;\n",
              "                    background-color: #383838;\n",
              "                }\n",
              "\n",
              "                .geemap-dark .jupyter-button {\n",
              "                    --jp-layout-color3: #383838;\n",
              "                }\n",
              "\n",
              "                .geemap-colab {\n",
              "                    background-color: var(--colab-primary-surface-color, white);\n",
              "                }\n",
              "\n",
              "                .geemap-colab .jupyter-button {\n",
              "                    --jp-layout-color3: var(--colab-primary-surface-color, white);\n",
              "                }\n",
              "            </style>\n",
              "            "
            ]
          },
          "metadata": {}
        }
      ],
      "source": [
        "def get_acc(hsm, t_data, grain_size):\n",
        "    pr_prob_vals = hsm.sampleRegions(\n",
        "        collection=t_data, properties=[\"PresAbs\"], scale=grain_size\n",
        "    )\n",
        "    seq = ee.List.sequence(start=0, end=1, count=25)  # Divide 0 to 1 into 25 intervals\n",
        "\n",
        "    def calculate_metrics(cutoff):\n",
        "        # Each element of the seq list is passed as cutoff(threshold value)\n",
        "\n",
        "        # Observed present = TP + FN\n",
        "        pres = pr_prob_vals.filterMetadata(\"PresAbs\", \"equals\", 1)\n",
        "\n",
        "        # TP (True Positive)\n",
        "        tp = ee.Number(\n",
        "            pres.filterMetadata(\"classification\", \"greater_than\", cutoff).size()\n",
        "        )\n",
        "\n",
        "        # TPR (True Positive Rate) = Recall = Sensitivity = TP / (TP + FN) = TP / Observed present\n",
        "        tpr = tp.divide(pres.size())\n",
        "\n",
        "        # Observed absent = FP + TN\n",
        "        abs = pr_prob_vals.filterMetadata(\"PresAbs\", \"equals\", 0)\n",
        "\n",
        "        # FN (False Negative)\n",
        "        fn = ee.Number(\n",
        "            pres.filterMetadata(\"classification\", \"less_than\", cutoff).size()\n",
        "        )\n",
        "\n",
        "        # TNR (True Negative Rate) = Specificity = TN  / (FP + TN) = TN / Observed absent\n",
        "        tn = ee.Number(abs.filterMetadata(\"classification\", \"less_than\", cutoff).size())\n",
        "        tnr = tn.divide(abs.size())\n",
        "\n",
        "        # FP (False Positive)\n",
        "        fp = ee.Number(\n",
        "            abs.filterMetadata(\"classification\", \"greater_than\", cutoff).size()\n",
        "        )\n",
        "\n",
        "        # FPR (False Positive Rate) = FP / (FP + TN) = FP / Observed absent\n",
        "        fpr = fp.divide(abs.size())\n",
        "\n",
        "        # Precision = TP / (TP + FP) = TP / Predicted present\n",
        "        precision = tp.divide(tp.add(fp))\n",
        "\n",
        "        # SUMSS = SUM of Sensitivity and Specificity\n",
        "        sumss = tpr.add(tnr)\n",
        "\n",
        "        return ee.Feature(\n",
        "            None,\n",
        "            {\n",
        "                \"cutoff\": cutoff,\n",
        "                \"TP\": tp,\n",
        "                \"TN\": tn,\n",
        "                \"FP\": fp,\n",
        "                \"FN\": fn,\n",
        "                \"TPR\": tpr,\n",
        "                \"TNR\": tnr,\n",
        "                \"FPR\": fpr,\n",
        "                \"Precision\": precision,\n",
        "                \"SUMSS\": sumss,\n",
        "            },\n",
        "        )\n",
        "\n",
        "    return ee.FeatureCollection(seq.map(calculate_metrics))"
      ]
    },
    {
      "cell_type": "code",
      "execution_count": 57,
      "metadata": {
        "id": "O6JACvJbzrn7",
        "colab": {
          "base_uri": "https://localhost:8080/",
          "height": 17
        },
        "outputId": "4a50db44-5da2-4d71-a31a-53b9dbd73148"
      },
      "outputs": [
        {
          "output_type": "display_data",
          "data": {
            "text/plain": [
              "<IPython.core.display.HTML object>"
            ],
            "text/html": [
              "\n",
              "            <style>\n",
              "                .geemap-dark {\n",
              "                    --jp-widgets-color: white;\n",
              "                    --jp-widgets-label-color: white;\n",
              "                    --jp-ui-font-color1: white;\n",
              "                    --jp-layout-color2: #454545;\n",
              "                    background-color: #383838;\n",
              "                }\n",
              "\n",
              "                .geemap-dark .jupyter-button {\n",
              "                    --jp-layout-color3: #383838;\n",
              "                }\n",
              "\n",
              "                .geemap-colab {\n",
              "                    background-color: var(--colab-primary-surface-color, white);\n",
              "                }\n",
              "\n",
              "                .geemap-colab .jupyter-button {\n",
              "                    --jp-layout-color3: var(--colab-primary-surface-color, white);\n",
              "                }\n",
              "            </style>\n",
              "            "
            ]
          },
          "metadata": {}
        }
      ],
      "source": [
        "def calculate_and_print_auc_metrics(images, testing_datasets, grain_size, numiter):\n",
        "    # Calculate AUC-ROC and AUC-PR\n",
        "    def calculate_auc_metrics(x):\n",
        "        hsm = ee.Image(images.get(x))\n",
        "        t_data = ee.FeatureCollection(testing_datasets.get(x))\n",
        "        acc = get_acc(hsm, t_data, grain_size)\n",
        "\n",
        "        # Calculate AUC-ROC\n",
        "        x = ee.Array(acc.aggregate_array(\"FPR\"))\n",
        "        y = ee.Array(acc.aggregate_array(\"TPR\"))\n",
        "        x1 = x.slice(0, 1).subtract(x.slice(0, 0, -1))\n",
        "        y1 = y.slice(0, 1).add(y.slice(0, 0, -1))\n",
        "        auc_roc = x1.multiply(y1).multiply(0.5).reduce(\"sum\", [0]).abs().toList().get(0)\n",
        "\n",
        "        # Calculate AUC-PR\n",
        "        x = ee.Array(acc.aggregate_array(\"TPR\"))\n",
        "        y = ee.Array(acc.aggregate_array(\"Precision\"))\n",
        "        x1 = x.slice(0, 1).subtract(x.slice(0, 0, -1))\n",
        "        y1 = y.slice(0, 1).add(y.slice(0, 0, -1))\n",
        "        auc_pr = x1.multiply(y1).multiply(0.5).reduce(\"sum\", [0]).abs().toList().get(0)\n",
        "\n",
        "        return (auc_roc, auc_pr)\n",
        "\n",
        "    auc_metrics = (\n",
        "        ee.List.sequence(0, ee.Number(numiter).subtract(1), 1)\n",
        "        .map(calculate_auc_metrics)\n",
        "        .getInfo()\n",
        "    )\n",
        "\n",
        "    # Print AUC-ROC and AUC-PR for each iteration\n",
        "    df = pd.DataFrame(auc_metrics, columns=[\"AUC-ROC\", \"AUC-PR\"])\n",
        "    df.index = [f\"Iteration {i + 1}\" for i in range(len(df))]\n",
        "    df.to_csv(\"auc_metrics.csv\", index_label=\"Iteration\")\n",
        "    print(df)\n",
        "\n",
        "    # Calculate mean and standard deviation of AUC-ROC and AUC-PR\n",
        "    mean_auc_roc, std_auc_roc = df[\"AUC-ROC\"].mean(), df[\"AUC-ROC\"].std()\n",
        "    mean_auc_pr, std_auc_pr = df[\"AUC-PR\"].mean(), df[\"AUC-PR\"].std()\n",
        "    print(f\"Mean AUC-ROC = {mean_auc_roc:.4f} ± {std_auc_roc:.4f}\")\n",
        "    print(f\"Mean AUC-PR = {mean_auc_pr:.4f} ± {std_auc_pr:.4f}\")"
      ]
    },
    {
      "cell_type": "code",
      "source": [
        "\"\"\"\n",
        "def calculate_auc_metrics(x, images, testing_datasets, grain_size):\n",
        "    hsm = ee.Image(images.get(x))\n",
        "    t_data = ee.FeatureCollection(testing_datasets.get(x))\n",
        "    acc = get_acc(hsm, t_data, grain_size)\n",
        "\n",
        "    # Calculate AUC-ROC\n",
        "    x = ee.Array(acc.aggregate_array(\"FPR\"))\n",
        "    y = ee.Array(acc.aggregate_array(\"TPR\"))\n",
        "    x1 = x.slice(0, 1).subtract(x.slice(0, 0, -1))\n",
        "    y1 = y.slice(0, 1).add(y.slice(0, 0, -1))\n",
        "    auc_roc = x1.multiply(y1).multiply(0.5).reduce(\"sum\", [0]).abs().toList().get(0)\n",
        "\n",
        "    # Calculate AUC-PR\n",
        "    x = ee.Array(acc.aggregate_array(\"TPR\"))\n",
        "    y = ee.Array(acc.aggregate_array(\"Precision\"))\n",
        "    x1 = x.slice(0, 1).subtract(x.slice(0, 0, -1))\n",
        "    y1 = y.slice(0, 1).add(y.slice(0, 0, -1))\n",
        "    auc_pr = x1.multiply(y1).multiply(0.5).reduce(\"sum\", [0]).abs().toList().get(0)\n",
        "\n",
        "    return auc_roc.getInfo(), auc_pr.getInfo()\n",
        "\n",
        "def calculate_and_print_auc_metrics(images, testing_datasets, grain_size, numiter):\n",
        "    auc_metrics = []\n",
        "\n",
        "    for i in range(numiter):\n",
        "        auc_roc, auc_pr = calculate_auc_metrics(i, images, testing_datasets, grain_size)\n",
        "        auc_metrics.append((auc_roc, auc_pr))\n",
        "\n",
        "    # Print AUC-ROC and AUC-PR for each iteration\n",
        "    df = pd.DataFrame(auc_metrics, columns=[\"AUC-ROC\", \"AUC-PR\"])\n",
        "    df.index = [f\"Iteration {i + 1}\" for i in range(len(df))]\n",
        "    df.to_csv(\"auc_metrics.csv\", index_label=\"Iteration\")\n",
        "    print(df)\n",
        "\n",
        "    # Calculate mean and standard deviation of AUC-ROC and AUC-PR\n",
        "    mean_auc_roc, std_auc_roc = df[\"AUC-ROC\"].mean(), df[\"AUC-ROC\"].std()\n",
        "    mean_auc_pr, std_auc_pr = df[\"AUC-PR\"].mean(), df[\"AUC-PR\"].std()\n",
        "    print(f\"Mean AUC-ROC = {mean_auc_roc:.4f} ± {std_auc_roc:.4f}\")\n",
        "    print(f\"Mean AUC-PR = {mean_auc_pr:.4f} ± {std_auc_pr:.4f}\")\n",
        "\n",
        "# Example usage:\n",
        "# ee.Initialize()\n",
        "# images = ee.List([...])\n",
        "# testing_datasets = ee.List([...])\n",
        "# grain_size = ...\n",
        "# numiter = ...\n",
        "# calculate_and_print_auc_metrics(images, testing_datasets, grain_size, numiter)\n",
        "\"\"\""
      ],
      "metadata": {
        "colab": {
          "base_uri": "https://localhost:8080/",
          "height": 17
        },
        "id": "4Yl3W3ogOWfp",
        "outputId": "72046576-59fd-4014-be08-1aafc928ce74"
      },
      "execution_count": 55,
      "outputs": [
        {
          "output_type": "display_data",
          "data": {
            "text/plain": [
              "<IPython.core.display.HTML object>"
            ],
            "text/html": [
              "\n",
              "            <style>\n",
              "                .geemap-dark {\n",
              "                    --jp-widgets-color: white;\n",
              "                    --jp-widgets-label-color: white;\n",
              "                    --jp-ui-font-color1: white;\n",
              "                    --jp-layout-color2: #454545;\n",
              "                    background-color: #383838;\n",
              "                }\n",
              "\n",
              "                .geemap-dark .jupyter-button {\n",
              "                    --jp-layout-color3: #383838;\n",
              "                }\n",
              "\n",
              "                .geemap-colab {\n",
              "                    background-color: var(--colab-primary-surface-color, white);\n",
              "                }\n",
              "\n",
              "                .geemap-colab .jupyter-button {\n",
              "                    --jp-layout-color3: var(--colab-primary-surface-color, white);\n",
              "                }\n",
              "            </style>\n",
              "            "
            ]
          },
          "metadata": {}
        }
      ]
    },
    {
      "cell_type": "code",
      "execution_count": 58,
      "metadata": {
        "id": "WVM4DTduz41j",
        "colab": {
          "base_uri": "https://localhost:8080/",
          "height": 291
        },
        "outputId": "1477f1b4-4264-428a-f876-071b15e33298"
      },
      "outputs": [
        {
          "output_type": "display_data",
          "data": {
            "text/plain": [
              "<IPython.core.display.HTML object>"
            ],
            "text/html": [
              "\n",
              "            <style>\n",
              "                .geemap-dark {\n",
              "                    --jp-widgets-color: white;\n",
              "                    --jp-widgets-label-color: white;\n",
              "                    --jp-ui-font-color1: white;\n",
              "                    --jp-layout-color2: #454545;\n",
              "                    background-color: #383838;\n",
              "                }\n",
              "\n",
              "                .geemap-dark .jupyter-button {\n",
              "                    --jp-layout-color3: #383838;\n",
              "                }\n",
              "\n",
              "                .geemap-colab {\n",
              "                    background-color: var(--colab-primary-surface-color, white);\n",
              "                }\n",
              "\n",
              "                .geemap-colab .jupyter-button {\n",
              "                    --jp-layout-color3: var(--colab-primary-surface-color, white);\n",
              "                }\n",
              "            </style>\n",
              "            "
            ]
          },
          "metadata": {}
        },
        {
          "output_type": "stream",
          "name": "stdout",
          "text": [
            "               AUC-ROC    AUC-PR\n",
            "Iteration 1   0.862222  0.711642\n",
            "Iteration 2   0.934409  0.731781\n",
            "Iteration 3   0.846571  0.740414\n",
            "Iteration 4   0.819540  0.840741\n",
            "Iteration 5   0.903207  0.792225\n",
            "Iteration 6   0.697751  0.652757\n",
            "Iteration 7   0.925729  0.754399\n",
            "Iteration 8   0.995370  0.883333\n",
            "Iteration 9   0.935897  0.888030\n",
            "Iteration 10  0.715909  0.734364\n",
            "Mean AUC-ROC = 0.8637 ± 0.0969\n",
            "Mean AUC-PR = 0.7730 ± 0.0769\n",
            "CPU times: user 1.17 s, sys: 169 ms, total: 1.34 s\n",
            "Wall time: 4min 57s\n"
          ]
        }
      ],
      "source": [
        "%%time\n",
        "\n",
        "# Calculate AUC-ROC and AUC-PR\n",
        "\n",
        "calculate_and_print_auc_metrics(images, testing_datasets, grain_size, numiter)"
      ]
    },
    {
      "cell_type": "markdown",
      "metadata": {
        "id": "QDlaa47s1WjC"
      },
      "source": [
        "This tutorial has provided a practical example of using Google Earth Engine (GEE) for Species Distribution Modeling (SDM). An important takeaway is the versatility and flexibility of GEE in the field of SDM. Leveraging Earth Engine's powerful geospatial data processing capabilities opens up endless possibilities for researchers and conservationists to understand and preserve biodiversity on our planet. By applying the knowledge and skills gained from this tutorial, individuals can explore and contribute to this fascinating field of ecological research."
      ]
    }
  ],
  "metadata": {
    "colab": {
      "provenance": [],
      "machine_shape": "hm",
      "gpuType": "A100",
      "include_colab_link": true
    },
    "kernelspec": {
      "display_name": "Python 3",
      "name": "python3"
    },
    "language_info": {
      "codemirror_mode": {
        "name": "ipython",
        "version": 3
      },
      "file_extension": ".py",
      "mimetype": "text/x-python",
      "name": "python",
      "nbconvert_exporter": "python",
      "pygments_lexer": "ipython3",
      "version": "3.10.11"
    },
    "accelerator": "GPU",
    "widgets": {
      "application/vnd.jupyter.widget-state+json": {
        "a8ed520004b54a6599528249a1987b19": {
          "model_module": "jupyter-leaflet",
          "model_name": "LeafletMapModel",
          "model_module_version": "^0.18",
          "state": {
            "_dom_classes": [],
            "_model_module": "jupyter-leaflet",
            "_model_module_version": "^0.18",
            "_model_name": "LeafletMapModel",
            "_view_count": null,
            "_view_module": "jupyter-leaflet",
            "_view_module_version": "^0.18",
            "_view_name": "LeafletMapView",
            "bottom": 6656,
            "bounce_at_zoom_limits": true,
            "box_zoom": true,
            "center": [
              35.60541125576072,
              127.04873061439156
            ],
            "close_popup_on_click": true,
            "controls": [
              "IPY_MODEL_124ad22c594a4523974e7929a83aad34",
              "IPY_MODEL_f0e5107f6e204405ac395795c32b43da",
              "IPY_MODEL_8be92bb0516147e9a54882f3f5929751",
              "IPY_MODEL_f22c2d351fba4bcc9de9ff252e478f0c",
              "IPY_MODEL_91c606caa6ca41dfb23ba5f9b9ead9f1",
              "IPY_MODEL_57d53ad9460b44b1800e6d7553699fbc",
              "IPY_MODEL_1156c3bd389b41dc9467d36ae2f9ef96",
              "IPY_MODEL_0d627b504960436b8f773c4307b49ac5"
            ],
            "crs": {
              "name": "EPSG3857",
              "custom": false
            },
            "default_style": "IPY_MODEL_7b41221e94d04db6afe3eab2142116aa",
            "double_click_zoom": true,
            "dragging": true,
            "dragging_style": "IPY_MODEL_f6be2e75b9ae4edc8e7817aa09a9f951",
            "east": 135.83496093750003,
            "fullscreen": false,
            "inertia": true,
            "inertia_deceleration": 3000,
            "inertia_max_speed": 1500,
            "interpolation": "bilinear",
            "keyboard": true,
            "keyboard_pan_offset": 80,
            "keyboard_zoom_offset": 1,
            "layers": [
              "IPY_MODEL_00f6d07607c84e4786429e3a1bb367ed",
              "IPY_MODEL_850e5ca7dab34a11a104bbfe70ad1752",
              "IPY_MODEL_0464c9d60de64b18ad070f53bc8c3838",
              "IPY_MODEL_4460950f0ba14582ac7693718a7edba3"
            ],
            "layout": "IPY_MODEL_669b6dbae31841e7b888afba059cd41a",
            "left": 13574,
            "max_zoom": 24,
            "min_zoom": null,
            "modisdate": "2024-05-25",
            "north": 39.095962936305476,
            "options": [
              "bounce_at_zoom_limits",
              "box_zoom",
              "center",
              "close_popup_on_click",
              "double_click_zoom",
              "dragging",
              "fullscreen",
              "inertia",
              "inertia_deceleration",
              "inertia_max_speed",
              "interpolation",
              "keyboard",
              "keyboard_pan_offset",
              "keyboard_zoom_offset",
              "max_zoom",
              "min_zoom",
              "prefer_canvas",
              "scroll_wheel_zoom",
              "tap",
              "tap_tolerance",
              "touch_zoom",
              "world_copy_jump",
              "zoom",
              "zoom_animation_threshold",
              "zoom_delta",
              "zoom_snap"
            ],
            "panes": {},
            "prefer_canvas": false,
            "right": 14374,
            "scroll_wheel_zoom": true,
            "south": 31.952162238024975,
            "style": "IPY_MODEL_f6be2e75b9ae4edc8e7817aa09a9f951",
            "tap": true,
            "tap_tolerance": 15,
            "top": 6256,
            "touch_zoom": true,
            "west": 118.25683593750001,
            "window_url": "https://ioysqj54nq-496ff2e9c6d22116-0-colab.googleusercontent.com/outputframe.html?vrz=colab_20240523-060110_RC00_636443439",
            "world_copy_jump": false,
            "zoom": 6,
            "zoom_animation_threshold": 4,
            "zoom_delta": 1,
            "zoom_snap": 1
          }
        },
        "124ad22c594a4523974e7929a83aad34": {
          "model_module": "jupyter-leaflet",
          "model_name": "LeafletWidgetControlModel",
          "model_module_version": "^0.18",
          "state": {
            "_model_module": "jupyter-leaflet",
            "_model_module_version": "^0.18",
            "_model_name": "LeafletWidgetControlModel",
            "_view_count": null,
            "_view_module": "jupyter-leaflet",
            "_view_module_version": "^0.18",
            "_view_name": "LeafletWidgetControlView",
            "max_height": null,
            "max_width": null,
            "min_height": null,
            "min_width": null,
            "options": [
              "position",
              "transparent_bg"
            ],
            "position": "topleft",
            "transparent_bg": false,
            "widget": "IPY_MODEL_0b6c9f2182f84dff8af1c38d3c5f632d"
          }
        },
        "f0e5107f6e204405ac395795c32b43da": {
          "model_module": "jupyter-leaflet",
          "model_name": "LeafletZoomControlModel",
          "model_module_version": "^0.18",
          "state": {
            "_model_module": "jupyter-leaflet",
            "_model_module_version": "^0.18",
            "_model_name": "LeafletZoomControlModel",
            "_view_count": null,
            "_view_module": "jupyter-leaflet",
            "_view_module_version": "^0.18",
            "_view_name": "LeafletZoomControlView",
            "options": [
              "position",
              "zoom_in_text",
              "zoom_in_title",
              "zoom_out_text",
              "zoom_out_title"
            ],
            "position": "topleft",
            "zoom_in_text": "+",
            "zoom_in_title": "Zoom in",
            "zoom_out_text": "-",
            "zoom_out_title": "Zoom out"
          }
        },
        "8be92bb0516147e9a54882f3f5929751": {
          "model_module": "jupyter-leaflet",
          "model_name": "LeafletFullScreenControlModel",
          "model_module_version": "^0.18",
          "state": {
            "_model_module": "jupyter-leaflet",
            "_model_module_version": "^0.18",
            "_model_name": "LeafletFullScreenControlModel",
            "_view_count": null,
            "_view_module": "jupyter-leaflet",
            "_view_module_version": "^0.18",
            "_view_name": "LeafletFullScreenControlView",
            "options": [
              "position"
            ],
            "position": "topleft"
          }
        },
        "f22c2d351fba4bcc9de9ff252e478f0c": {
          "model_module": "jupyter-leaflet",
          "model_name": "LeafletDrawControlModel",
          "model_module_version": "^0.18",
          "state": {
            "_model_module": "jupyter-leaflet",
            "_model_module_version": "^0.18",
            "_model_name": "LeafletDrawControlModel",
            "_view_count": null,
            "_view_module": "jupyter-leaflet",
            "_view_module_version": "^0.18",
            "_view_name": "LeafletDrawControlView",
            "circle": {},
            "circlemarker": {},
            "data": [],
            "edit": true,
            "marker": {
              "shapeOptions": {
                "color": "#3388ff"
              }
            },
            "options": [
              "position"
            ],
            "polygon": {
              "shapeOptions": {}
            },
            "polyline": {
              "shapeOptions": {}
            },
            "position": "topleft",
            "rectangle": {
              "shapeOptions": {
                "color": "#3388ff"
              }
            },
            "remove": true
          }
        },
        "91c606caa6ca41dfb23ba5f9b9ead9f1": {
          "model_module": "jupyter-leaflet",
          "model_name": "LeafletScaleControlModel",
          "model_module_version": "^0.18",
          "state": {
            "_model_module": "jupyter-leaflet",
            "_model_module_version": "^0.18",
            "_model_name": "LeafletScaleControlModel",
            "_view_count": null,
            "_view_module": "jupyter-leaflet",
            "_view_module_version": "^0.18",
            "_view_name": "LeafletScaleControlView",
            "imperial": true,
            "max_width": 100,
            "metric": true,
            "options": [
              "imperial",
              "max_width",
              "metric",
              "position",
              "update_when_idle"
            ],
            "position": "bottomleft",
            "update_when_idle": false
          }
        },
        "57d53ad9460b44b1800e6d7553699fbc": {
          "model_module": "jupyter-leaflet",
          "model_name": "LeafletMeasureControlModel",
          "model_module_version": "^0.18",
          "state": {
            "_custom_units": {},
            "_model_module": "jupyter-leaflet",
            "_model_module_version": "^0.18",
            "_model_name": "LeafletMeasureControlModel",
            "_view_count": null,
            "_view_module": "jupyter-leaflet",
            "_view_module_version": "^0.18",
            "_view_name": "LeafletMeasureControlView",
            "active_color": "orange",
            "capture_z_index": 10000,
            "completed_color": "#C8F2BE",
            "options": [
              "active_color",
              "capture_z_index",
              "completed_color",
              "popup_options",
              "position",
              "primary_area_unit",
              "primary_length_unit",
              "secondary_area_unit",
              "secondary_length_unit"
            ],
            "popup_options": {
              "className": "leaflet-measure-resultpopup",
              "autoPanPadding": [
                10,
                10
              ]
            },
            "position": "bottomleft",
            "primary_area_unit": "acres",
            "primary_length_unit": "kilometers",
            "secondary_area_unit": null,
            "secondary_length_unit": null
          }
        },
        "1156c3bd389b41dc9467d36ae2f9ef96": {
          "model_module": "jupyter-leaflet",
          "model_name": "LeafletWidgetControlModel",
          "model_module_version": "^0.18",
          "state": {
            "_model_module": "jupyter-leaflet",
            "_model_module_version": "^0.18",
            "_model_name": "LeafletWidgetControlModel",
            "_view_count": null,
            "_view_module": "jupyter-leaflet",
            "_view_module_version": "^0.18",
            "_view_name": "LeafletWidgetControlView",
            "max_height": null,
            "max_width": null,
            "min_height": null,
            "min_width": null,
            "options": [
              "position",
              "transparent_bg"
            ],
            "position": "topright",
            "transparent_bg": false,
            "widget": "IPY_MODEL_dfe899983ff64339bfe0e3f0d4f9c554"
          }
        },
        "0d627b504960436b8f773c4307b49ac5": {
          "model_module": "jupyter-leaflet",
          "model_name": "LeafletAttributionControlModel",
          "model_module_version": "^0.18",
          "state": {
            "_model_module": "jupyter-leaflet",
            "_model_module_version": "^0.18",
            "_model_name": "LeafletAttributionControlModel",
            "_view_count": null,
            "_view_module": "jupyter-leaflet",
            "_view_module_version": "^0.18",
            "_view_name": "LeafletAttributionControlView",
            "options": [
              "position",
              "prefix"
            ],
            "position": "bottomright",
            "prefix": "ipyleaflet"
          }
        },
        "7b41221e94d04db6afe3eab2142116aa": {
          "model_module": "jupyter-leaflet",
          "model_name": "LeafletMapStyleModel",
          "model_module_version": "^0.18",
          "state": {
            "_model_module": "jupyter-leaflet",
            "_model_module_version": "^0.18",
            "_model_name": "LeafletMapStyleModel",
            "_view_count": null,
            "_view_module": "@jupyter-widgets/base",
            "_view_module_version": "1.2.0",
            "_view_name": "StyleView",
            "cursor": "grab"
          }
        },
        "f6be2e75b9ae4edc8e7817aa09a9f951": {
          "model_module": "jupyter-leaflet",
          "model_name": "LeafletMapStyleModel",
          "model_module_version": "^0.18",
          "state": {
            "_model_module": "jupyter-leaflet",
            "_model_module_version": "^0.18",
            "_model_name": "LeafletMapStyleModel",
            "_view_count": null,
            "_view_module": "@jupyter-widgets/base",
            "_view_module_version": "1.2.0",
            "_view_name": "StyleView",
            "cursor": "move"
          }
        },
        "00f6d07607c84e4786429e3a1bb367ed": {
          "model_module": "jupyter-leaflet",
          "model_name": "LeafletTileLayerModel",
          "model_module_version": "^0.18",
          "state": {
            "_model_module": "jupyter-leaflet",
            "_model_module_version": "^0.18",
            "_model_name": "LeafletTileLayerModel",
            "_view_count": null,
            "_view_module": "jupyter-leaflet",
            "_view_module_version": "^0.18",
            "_view_name": "LeafletTileLayerView",
            "attribution": "&copy; <a href=\"https://www.openstreetmap.org/copyright\">OpenStreetMap</a> contributors",
            "base": true,
            "bottom": true,
            "bounds": null,
            "detect_retina": false,
            "loading": false,
            "max_native_zoom": null,
            "max_zoom": 19,
            "min_native_zoom": null,
            "min_zoom": 1,
            "name": "OpenStreetMap.Mapnik",
            "no_wrap": false,
            "opacity": 1,
            "options": [
              "attribution",
              "bounds",
              "detect_retina",
              "max_native_zoom",
              "max_zoom",
              "min_native_zoom",
              "min_zoom",
              "no_wrap",
              "tile_size",
              "tms",
              "zoom_offset"
            ],
            "pane": "",
            "popup": null,
            "popup_max_height": null,
            "popup_max_width": 300,
            "popup_min_width": 50,
            "show_loading": false,
            "subitems": [],
            "tile_size": 256,
            "tms": false,
            "url": "https://tile.openstreetmap.org/{z}/{x}/{y}.png",
            "visible": true,
            "zoom_offset": 0
          }
        },
        "850e5ca7dab34a11a104bbfe70ad1752": {
          "model_module": "jupyter-leaflet",
          "model_name": "LeafletTileLayerModel",
          "model_module_version": "^0.18",
          "state": {
            "_model_module": "jupyter-leaflet",
            "_model_module_version": "^0.18",
            "_model_name": "LeafletTileLayerModel",
            "_view_count": null,
            "_view_module": "jupyter-leaflet",
            "_view_module_version": "^0.18",
            "_view_name": "LeafletTileLayerView",
            "attribution": "Google Earth Engine",
            "base": false,
            "bottom": true,
            "bounds": null,
            "detect_retina": false,
            "loading": false,
            "max_native_zoom": null,
            "max_zoom": 24,
            "min_native_zoom": null,
            "min_zoom": 0,
            "name": "Original data",
            "no_wrap": false,
            "opacity": 1,
            "options": [
              "attribution",
              "bounds",
              "detect_retina",
              "max_native_zoom",
              "max_zoom",
              "min_native_zoom",
              "min_zoom",
              "no_wrap",
              "tile_size",
              "tms",
              "zoom_offset"
            ],
            "pane": "",
            "popup": null,
            "popup_max_height": null,
            "popup_max_width": 300,
            "popup_min_width": 50,
            "show_loading": false,
            "subitems": [],
            "tile_size": 256,
            "tms": false,
            "url": "https://earthengine.googleapis.com/v1/projects/ee-foss4g/maps/12a51794bb17795ee02de3ac7f499d65-b096427274f7223529870907673d8000/tiles/{z}/{x}/{y}",
            "visible": true,
            "zoom_offset": 0
          }
        },
        "0464c9d60de64b18ad070f53bc8c3838": {
          "model_module": "jupyter-leaflet",
          "model_name": "LeafletTileLayerModel",
          "model_module_version": "^0.18",
          "state": {
            "_model_module": "jupyter-leaflet",
            "_model_module_version": "^0.18",
            "_model_name": "LeafletTileLayerModel",
            "_view_count": null,
            "_view_module": "jupyter-leaflet",
            "_view_module_version": "^0.18",
            "_view_name": "LeafletTileLayerView",
            "attribution": "Google Earth Engine",
            "base": false,
            "bottom": true,
            "bounds": null,
            "detect_retina": false,
            "loading": false,
            "max_native_zoom": null,
            "max_zoom": 24,
            "min_native_zoom": null,
            "min_zoom": 0,
            "name": "Final data",
            "no_wrap": false,
            "opacity": 1,
            "options": [
              "attribution",
              "bounds",
              "detect_retina",
              "max_native_zoom",
              "max_zoom",
              "min_native_zoom",
              "min_zoom",
              "no_wrap",
              "tile_size",
              "tms",
              "zoom_offset"
            ],
            "pane": "",
            "popup": null,
            "popup_max_height": null,
            "popup_max_width": 300,
            "popup_min_width": 50,
            "show_loading": false,
            "subitems": [],
            "tile_size": 256,
            "tms": false,
            "url": "https://earthengine.googleapis.com/v1/projects/ee-foss4g/maps/aca19b9dbfa4c299870379e4cf992dc5-44e40a515975100929cfaa855b055832/tiles/{z}/{x}/{y}",
            "visible": true,
            "zoom_offset": 0
          }
        },
        "669b6dbae31841e7b888afba059cd41a": {
          "model_module": "@jupyter-widgets/base",
          "model_name": "LayoutModel",
          "model_module_version": "1.2.0",
          "state": {
            "_model_module": "@jupyter-widgets/base",
            "_model_module_version": "1.2.0",
            "_model_name": "LayoutModel",
            "_view_count": null,
            "_view_module": "@jupyter-widgets/base",
            "_view_module_version": "1.2.0",
            "_view_name": "LayoutView",
            "align_content": null,
            "align_items": null,
            "align_self": null,
            "border": null,
            "bottom": null,
            "display": null,
            "flex": null,
            "flex_flow": null,
            "grid_area": null,
            "grid_auto_columns": null,
            "grid_auto_flow": null,
            "grid_auto_rows": null,
            "grid_column": null,
            "grid_gap": null,
            "grid_row": null,
            "grid_template_areas": null,
            "grid_template_columns": null,
            "grid_template_rows": null,
            "height": "400px",
            "justify_content": null,
            "justify_items": null,
            "left": null,
            "margin": null,
            "max_height": null,
            "max_width": null,
            "min_height": null,
            "min_width": null,
            "object_fit": null,
            "object_position": null,
            "order": null,
            "overflow": null,
            "overflow_x": null,
            "overflow_y": null,
            "padding": null,
            "right": null,
            "top": null,
            "visibility": null,
            "width": "800px"
          }
        },
        "d8e67c550189413597c7efe98ac64012": {
          "model_module": "jupyter-leaflet",
          "model_name": "LeafletMapStyleModel",
          "model_module_version": "^0.18",
          "state": {
            "_model_module": "jupyter-leaflet",
            "_model_module_version": "^0.18",
            "_model_name": "LeafletMapStyleModel",
            "_view_count": null,
            "_view_module": "@jupyter-widgets/base",
            "_view_module_version": "1.2.0",
            "_view_name": "StyleView",
            "cursor": "grab"
          }
        },
        "0b6c9f2182f84dff8af1c38d3c5f632d": {
          "model_module": "@jupyter-widgets/controls",
          "model_name": "HBoxModel",
          "model_module_version": "1.5.0",
          "state": {
            "_dom_classes": [
              "geemap-colab"
            ],
            "_model_module": "@jupyter-widgets/controls",
            "_model_module_version": "1.5.0",
            "_model_name": "HBoxModel",
            "_view_count": null,
            "_view_module": "@jupyter-widgets/controls",
            "_view_module_version": "1.5.0",
            "_view_name": "HBoxView",
            "box_style": "",
            "children": [
              "IPY_MODEL_9487f94973384ccd873760dcf3ed06fc"
            ],
            "layout": "IPY_MODEL_8461f0f80fb641d2a94909b4614a2440"
          }
        },
        "dfe899983ff64339bfe0e3f0d4f9c554": {
          "model_module": "@jupyter-widgets/controls",
          "model_name": "VBoxModel",
          "model_module_version": "1.5.0",
          "state": {
            "_dom_classes": [
              "geemap-colab"
            ],
            "_model_module": "@jupyter-widgets/controls",
            "_model_module_version": "1.5.0",
            "_model_name": "VBoxModel",
            "_view_count": null,
            "_view_module": "@jupyter-widgets/controls",
            "_view_module_version": "1.5.0",
            "_view_name": "VBoxView",
            "box_style": "",
            "children": [
              "IPY_MODEL_94d14e12502241c5a27f227a8d6fe2c0"
            ],
            "layout": "IPY_MODEL_8065ebb9b17e43dab28827eef6c9d2e0"
          }
        },
        "9487f94973384ccd873760dcf3ed06fc": {
          "model_module": "@jupyter-widgets/controls",
          "model_name": "ToggleButtonModel",
          "model_module_version": "1.5.0",
          "state": {
            "_dom_classes": [],
            "_model_module": "@jupyter-widgets/controls",
            "_model_module_version": "1.5.0",
            "_model_name": "ToggleButtonModel",
            "_view_count": null,
            "_view_module": "@jupyter-widgets/controls",
            "_view_module_version": "1.5.0",
            "_view_name": "ToggleButtonView",
            "button_style": "",
            "description": "",
            "description_tooltip": null,
            "disabled": false,
            "icon": "globe",
            "layout": "IPY_MODEL_b1f676f3774043899c2b264b3d1aebd2",
            "style": "IPY_MODEL_192414a331214db29176692b2b3d510c",
            "tooltip": "Search location/data",
            "value": false
          }
        },
        "8461f0f80fb641d2a94909b4614a2440": {
          "model_module": "@jupyter-widgets/base",
          "model_name": "LayoutModel",
          "model_module_version": "1.2.0",
          "state": {
            "_model_module": "@jupyter-widgets/base",
            "_model_module_version": "1.2.0",
            "_model_name": "LayoutModel",
            "_view_count": null,
            "_view_module": "@jupyter-widgets/base",
            "_view_module_version": "1.2.0",
            "_view_name": "LayoutView",
            "align_content": null,
            "align_items": null,
            "align_self": null,
            "border": null,
            "bottom": null,
            "display": null,
            "flex": null,
            "flex_flow": null,
            "grid_area": null,
            "grid_auto_columns": null,
            "grid_auto_flow": null,
            "grid_auto_rows": null,
            "grid_column": null,
            "grid_gap": null,
            "grid_row": null,
            "grid_template_areas": null,
            "grid_template_columns": null,
            "grid_template_rows": null,
            "height": null,
            "justify_content": null,
            "justify_items": null,
            "left": null,
            "margin": null,
            "max_height": null,
            "max_width": null,
            "min_height": null,
            "min_width": null,
            "object_fit": null,
            "object_position": null,
            "order": null,
            "overflow": null,
            "overflow_x": null,
            "overflow_y": null,
            "padding": null,
            "right": null,
            "top": null,
            "visibility": null,
            "width": null
          }
        },
        "94d14e12502241c5a27f227a8d6fe2c0": {
          "model_module": "@jupyter-widgets/controls",
          "model_name": "ToggleButtonModel",
          "model_module_version": "1.5.0",
          "state": {
            "_dom_classes": [],
            "_model_module": "@jupyter-widgets/controls",
            "_model_module_version": "1.5.0",
            "_model_name": "ToggleButtonModel",
            "_view_count": null,
            "_view_module": "@jupyter-widgets/controls",
            "_view_module_version": "1.5.0",
            "_view_name": "ToggleButtonView",
            "button_style": "",
            "description": "",
            "description_tooltip": null,
            "disabled": false,
            "icon": "wrench",
            "layout": "IPY_MODEL_f6b1780a5454422ca84a55d50bb2363f",
            "style": "IPY_MODEL_3e136b130ec24853b1e4f8f63580879c",
            "tooltip": "Toolbar",
            "value": false
          }
        },
        "8065ebb9b17e43dab28827eef6c9d2e0": {
          "model_module": "@jupyter-widgets/base",
          "model_name": "LayoutModel",
          "model_module_version": "1.2.0",
          "state": {
            "_model_module": "@jupyter-widgets/base",
            "_model_module_version": "1.2.0",
            "_model_name": "LayoutModel",
            "_view_count": null,
            "_view_module": "@jupyter-widgets/base",
            "_view_module_version": "1.2.0",
            "_view_name": "LayoutView",
            "align_content": null,
            "align_items": null,
            "align_self": null,
            "border": null,
            "bottom": null,
            "display": null,
            "flex": null,
            "flex_flow": null,
            "grid_area": null,
            "grid_auto_columns": null,
            "grid_auto_flow": null,
            "grid_auto_rows": null,
            "grid_column": null,
            "grid_gap": null,
            "grid_row": null,
            "grid_template_areas": null,
            "grid_template_columns": null,
            "grid_template_rows": null,
            "height": null,
            "justify_content": null,
            "justify_items": null,
            "left": null,
            "margin": null,
            "max_height": null,
            "max_width": null,
            "min_height": null,
            "min_width": null,
            "object_fit": null,
            "object_position": null,
            "order": null,
            "overflow": null,
            "overflow_x": null,
            "overflow_y": null,
            "padding": null,
            "right": null,
            "top": null,
            "visibility": null,
            "width": null
          }
        },
        "b1f676f3774043899c2b264b3d1aebd2": {
          "model_module": "@jupyter-widgets/base",
          "model_name": "LayoutModel",
          "model_module_version": "1.2.0",
          "state": {
            "_model_module": "@jupyter-widgets/base",
            "_model_module_version": "1.2.0",
            "_model_name": "LayoutModel",
            "_view_count": null,
            "_view_module": "@jupyter-widgets/base",
            "_view_module_version": "1.2.0",
            "_view_name": "LayoutView",
            "align_content": null,
            "align_items": null,
            "align_self": null,
            "border": null,
            "bottom": null,
            "display": null,
            "flex": null,
            "flex_flow": null,
            "grid_area": null,
            "grid_auto_columns": null,
            "grid_auto_flow": null,
            "grid_auto_rows": null,
            "grid_column": null,
            "grid_gap": null,
            "grid_row": null,
            "grid_template_areas": null,
            "grid_template_columns": null,
            "grid_template_rows": null,
            "height": "28px",
            "justify_content": null,
            "justify_items": null,
            "left": null,
            "margin": null,
            "max_height": null,
            "max_width": null,
            "min_height": null,
            "min_width": null,
            "object_fit": null,
            "object_position": null,
            "order": null,
            "overflow": null,
            "overflow_x": null,
            "overflow_y": null,
            "padding": "0px 0px 0px 4px",
            "right": null,
            "top": null,
            "visibility": null,
            "width": "28px"
          }
        },
        "192414a331214db29176692b2b3d510c": {
          "model_module": "@jupyter-widgets/controls",
          "model_name": "DescriptionStyleModel",
          "model_module_version": "1.5.0",
          "state": {
            "_model_module": "@jupyter-widgets/controls",
            "_model_module_version": "1.5.0",
            "_model_name": "DescriptionStyleModel",
            "_view_count": null,
            "_view_module": "@jupyter-widgets/base",
            "_view_module_version": "1.2.0",
            "_view_name": "StyleView",
            "description_width": ""
          }
        },
        "f6b1780a5454422ca84a55d50bb2363f": {
          "model_module": "@jupyter-widgets/base",
          "model_name": "LayoutModel",
          "model_module_version": "1.2.0",
          "state": {
            "_model_module": "@jupyter-widgets/base",
            "_model_module_version": "1.2.0",
            "_model_name": "LayoutModel",
            "_view_count": null,
            "_view_module": "@jupyter-widgets/base",
            "_view_module_version": "1.2.0",
            "_view_name": "LayoutView",
            "align_content": null,
            "align_items": null,
            "align_self": null,
            "border": null,
            "bottom": null,
            "display": null,
            "flex": null,
            "flex_flow": null,
            "grid_area": null,
            "grid_auto_columns": null,
            "grid_auto_flow": null,
            "grid_auto_rows": null,
            "grid_column": null,
            "grid_gap": null,
            "grid_row": null,
            "grid_template_areas": null,
            "grid_template_columns": null,
            "grid_template_rows": null,
            "height": "28px",
            "justify_content": null,
            "justify_items": null,
            "left": null,
            "margin": null,
            "max_height": null,
            "max_width": null,
            "min_height": null,
            "min_width": null,
            "object_fit": null,
            "object_position": null,
            "order": null,
            "overflow": null,
            "overflow_x": null,
            "overflow_y": null,
            "padding": "0px 0px 0px 4px",
            "right": null,
            "top": null,
            "visibility": null,
            "width": "28px"
          }
        },
        "3e136b130ec24853b1e4f8f63580879c": {
          "model_module": "@jupyter-widgets/controls",
          "model_name": "DescriptionStyleModel",
          "model_module_version": "1.5.0",
          "state": {
            "_model_module": "@jupyter-widgets/controls",
            "_model_module_version": "1.5.0",
            "_model_name": "DescriptionStyleModel",
            "_view_count": null,
            "_view_module": "@jupyter-widgets/base",
            "_view_module_version": "1.2.0",
            "_view_name": "StyleView",
            "description_width": ""
          }
        },
        "4460950f0ba14582ac7693718a7edba3": {
          "model_module": "jupyter-leaflet",
          "model_name": "LeafletTileLayerModel",
          "model_module_version": "^0.18",
          "state": {
            "_model_module": "jupyter-leaflet",
            "_model_module_version": "^0.18",
            "_model_name": "LeafletTileLayerModel",
            "_view_count": null,
            "_view_module": "jupyter-leaflet",
            "_view_module_version": "^0.18",
            "_view_name": "LeafletTileLayerView",
            "attribution": "Google Earth Engine",
            "base": false,
            "bottom": true,
            "bounds": null,
            "detect_retina": false,
            "loading": false,
            "max_native_zoom": null,
            "max_zoom": 24,
            "min_native_zoom": null,
            "min_zoom": 0,
            "name": "AOI",
            "no_wrap": false,
            "opacity": 1,
            "options": [
              "attribution",
              "bounds",
              "detect_retina",
              "max_native_zoom",
              "max_zoom",
              "min_native_zoom",
              "min_zoom",
              "no_wrap",
              "tile_size",
              "tms",
              "zoom_offset"
            ],
            "pane": "",
            "popup": null,
            "popup_max_height": null,
            "popup_max_width": 300,
            "popup_min_width": 50,
            "show_loading": false,
            "subitems": [],
            "tile_size": 256,
            "tms": false,
            "url": "https://earthengine.googleapis.com/v1/projects/ee-foss4g/maps/26f550f5fac434ef57d4baae741843d8-3f1957b221f7268430e8aefa742a4ace/tiles/{z}/{x}/{y}",
            "visible": true,
            "zoom_offset": 0
          }
        },
        "549bbe8500d64fa0ba38e4a9b9ee8d2e": {
          "model_module": "jupyter-leaflet",
          "model_name": "LeafletMapModel",
          "model_module_version": "^0.18",
          "state": {
            "_dom_classes": [],
            "_model_module": "jupyter-leaflet",
            "_model_module_version": "^0.18",
            "_model_name": "LeafletMapModel",
            "_view_count": null,
            "_view_module": "jupyter-leaflet",
            "_view_module_version": "^0.18",
            "_view_name": "LeafletMapView",
            "bottom": 6656,
            "bounce_at_zoom_limits": true,
            "box_zoom": true,
            "center": [
              35.60541125576072,
              127.04873061439156
            ],
            "close_popup_on_click": true,
            "controls": [
              "IPY_MODEL_be39e5f9f9284fb2a46bef2a03cac27e",
              "IPY_MODEL_799528f0ca62436788c98632f2f91142",
              "IPY_MODEL_2023589d9bb94d77affea3b573307242",
              "IPY_MODEL_fb8a7013b888489ea3dea96746090a9c",
              "IPY_MODEL_a092d25d3c01409aae442cd491920c61",
              "IPY_MODEL_1395c581a84c46299fdbcb844c8d63af",
              "IPY_MODEL_ec3ac51c0c4b4ed4b33b79c57fe1b1c7",
              "IPY_MODEL_b669532c44c44759ad8ec1ba9da708fc",
              "IPY_MODEL_ca1ee98f10914f37991c5330d5c80b4f"
            ],
            "crs": {
              "name": "EPSG3857",
              "custom": false
            },
            "default_style": "IPY_MODEL_1ef49e2373ba4fb388eee704ad98be7c",
            "double_click_zoom": true,
            "dragging": true,
            "dragging_style": "IPY_MODEL_0299df028d63455788071940803fe174",
            "east": 135.83496093750003,
            "fullscreen": false,
            "inertia": true,
            "inertia_deceleration": 3000,
            "inertia_max_speed": 1500,
            "interpolation": "bilinear",
            "keyboard": true,
            "keyboard_pan_offset": 80,
            "keyboard_zoom_offset": 1,
            "layers": [
              "IPY_MODEL_592b4f3ed3b142359be9fd144dd7e177",
              "IPY_MODEL_d1ecc17ecc6840c4a9e98652c9aca76a"
            ],
            "layout": "IPY_MODEL_61934ce3d48e44e1af49462d1cf89132",
            "left": 13574,
            "max_zoom": 24,
            "min_zoom": null,
            "modisdate": "2024-05-25",
            "north": 39.095962936305476,
            "options": [
              "bounce_at_zoom_limits",
              "box_zoom",
              "center",
              "close_popup_on_click",
              "double_click_zoom",
              "dragging",
              "fullscreen",
              "inertia",
              "inertia_deceleration",
              "inertia_max_speed",
              "interpolation",
              "keyboard",
              "keyboard_pan_offset",
              "keyboard_zoom_offset",
              "max_zoom",
              "min_zoom",
              "prefer_canvas",
              "scroll_wheel_zoom",
              "tap",
              "tap_tolerance",
              "touch_zoom",
              "world_copy_jump",
              "zoom",
              "zoom_animation_threshold",
              "zoom_delta",
              "zoom_snap"
            ],
            "panes": {},
            "prefer_canvas": false,
            "right": 14374,
            "scroll_wheel_zoom": true,
            "south": 31.952162238024975,
            "style": "IPY_MODEL_e7b2f67b383547f780b3674e4caf84ed",
            "tap": true,
            "tap_tolerance": 15,
            "top": 6256,
            "touch_zoom": true,
            "west": 118.25683593750001,
            "window_url": "https://ioysqj54nq-496ff2e9c6d22116-0-colab.googleusercontent.com/outputframe.html?vrz=colab_20240523-060110_RC00_636443439",
            "world_copy_jump": false,
            "zoom": 6,
            "zoom_animation_threshold": 4,
            "zoom_delta": 1,
            "zoom_snap": 1
          }
        },
        "be39e5f9f9284fb2a46bef2a03cac27e": {
          "model_module": "jupyter-leaflet",
          "model_name": "LeafletWidgetControlModel",
          "model_module_version": "^0.18",
          "state": {
            "_model_module": "jupyter-leaflet",
            "_model_module_version": "^0.18",
            "_model_name": "LeafletWidgetControlModel",
            "_view_count": null,
            "_view_module": "jupyter-leaflet",
            "_view_module_version": "^0.18",
            "_view_name": "LeafletWidgetControlView",
            "max_height": null,
            "max_width": null,
            "min_height": null,
            "min_width": null,
            "options": [
              "position",
              "transparent_bg"
            ],
            "position": "topleft",
            "transparent_bg": false,
            "widget": "IPY_MODEL_ed22fa1dcb4c431f9af2045fed900c48"
          }
        },
        "799528f0ca62436788c98632f2f91142": {
          "model_module": "jupyter-leaflet",
          "model_name": "LeafletZoomControlModel",
          "model_module_version": "^0.18",
          "state": {
            "_model_module": "jupyter-leaflet",
            "_model_module_version": "^0.18",
            "_model_name": "LeafletZoomControlModel",
            "_view_count": null,
            "_view_module": "jupyter-leaflet",
            "_view_module_version": "^0.18",
            "_view_name": "LeafletZoomControlView",
            "options": [
              "position",
              "zoom_in_text",
              "zoom_in_title",
              "zoom_out_text",
              "zoom_out_title"
            ],
            "position": "topleft",
            "zoom_in_text": "+",
            "zoom_in_title": "Zoom in",
            "zoom_out_text": "-",
            "zoom_out_title": "Zoom out"
          }
        },
        "2023589d9bb94d77affea3b573307242": {
          "model_module": "jupyter-leaflet",
          "model_name": "LeafletFullScreenControlModel",
          "model_module_version": "^0.18",
          "state": {
            "_model_module": "jupyter-leaflet",
            "_model_module_version": "^0.18",
            "_model_name": "LeafletFullScreenControlModel",
            "_view_count": null,
            "_view_module": "jupyter-leaflet",
            "_view_module_version": "^0.18",
            "_view_name": "LeafletFullScreenControlView",
            "options": [
              "position"
            ],
            "position": "topleft"
          }
        },
        "fb8a7013b888489ea3dea96746090a9c": {
          "model_module": "jupyter-leaflet",
          "model_name": "LeafletDrawControlModel",
          "model_module_version": "^0.18",
          "state": {
            "_model_module": "jupyter-leaflet",
            "_model_module_version": "^0.18",
            "_model_name": "LeafletDrawControlModel",
            "_view_count": null,
            "_view_module": "jupyter-leaflet",
            "_view_module_version": "^0.18",
            "_view_name": "LeafletDrawControlView",
            "circle": {},
            "circlemarker": {},
            "data": [],
            "edit": true,
            "marker": {
              "shapeOptions": {
                "color": "#3388ff"
              }
            },
            "options": [
              "position"
            ],
            "polygon": {
              "shapeOptions": {}
            },
            "polyline": {
              "shapeOptions": {}
            },
            "position": "topleft",
            "rectangle": {
              "shapeOptions": {
                "color": "#3388ff"
              }
            },
            "remove": true
          }
        },
        "a092d25d3c01409aae442cd491920c61": {
          "model_module": "jupyter-leaflet",
          "model_name": "LeafletScaleControlModel",
          "model_module_version": "^0.18",
          "state": {
            "_model_module": "jupyter-leaflet",
            "_model_module_version": "^0.18",
            "_model_name": "LeafletScaleControlModel",
            "_view_count": null,
            "_view_module": "jupyter-leaflet",
            "_view_module_version": "^0.18",
            "_view_name": "LeafletScaleControlView",
            "imperial": true,
            "max_width": 100,
            "metric": true,
            "options": [
              "imperial",
              "max_width",
              "metric",
              "position",
              "update_when_idle"
            ],
            "position": "bottomleft",
            "update_when_idle": false
          }
        },
        "1395c581a84c46299fdbcb844c8d63af": {
          "model_module": "jupyter-leaflet",
          "model_name": "LeafletMeasureControlModel",
          "model_module_version": "^0.18",
          "state": {
            "_custom_units": {},
            "_model_module": "jupyter-leaflet",
            "_model_module_version": "^0.18",
            "_model_name": "LeafletMeasureControlModel",
            "_view_count": null,
            "_view_module": "jupyter-leaflet",
            "_view_module_version": "^0.18",
            "_view_name": "LeafletMeasureControlView",
            "active_color": "orange",
            "capture_z_index": 10000,
            "completed_color": "#C8F2BE",
            "options": [
              "active_color",
              "capture_z_index",
              "completed_color",
              "popup_options",
              "position",
              "primary_area_unit",
              "primary_length_unit",
              "secondary_area_unit",
              "secondary_length_unit"
            ],
            "popup_options": {
              "className": "leaflet-measure-resultpopup",
              "autoPanPadding": [
                10,
                10
              ]
            },
            "position": "bottomleft",
            "primary_area_unit": "acres",
            "primary_length_unit": "kilometers",
            "secondary_area_unit": null,
            "secondary_length_unit": null
          }
        },
        "ec3ac51c0c4b4ed4b33b79c57fe1b1c7": {
          "model_module": "jupyter-leaflet",
          "model_name": "LeafletWidgetControlModel",
          "model_module_version": "^0.18",
          "state": {
            "_model_module": "jupyter-leaflet",
            "_model_module_version": "^0.18",
            "_model_name": "LeafletWidgetControlModel",
            "_view_count": null,
            "_view_module": "jupyter-leaflet",
            "_view_module_version": "^0.18",
            "_view_name": "LeafletWidgetControlView",
            "max_height": null,
            "max_width": null,
            "min_height": null,
            "min_width": null,
            "options": [
              "position",
              "transparent_bg"
            ],
            "position": "topright",
            "transparent_bg": false,
            "widget": "IPY_MODEL_43366c4a43ce4d9bb94ee39d37009a28"
          }
        },
        "b669532c44c44759ad8ec1ba9da708fc": {
          "model_module": "jupyter-leaflet",
          "model_name": "LeafletAttributionControlModel",
          "model_module_version": "^0.18",
          "state": {
            "_model_module": "jupyter-leaflet",
            "_model_module_version": "^0.18",
            "_model_name": "LeafletAttributionControlModel",
            "_view_count": null,
            "_view_module": "jupyter-leaflet",
            "_view_module_version": "^0.18",
            "_view_name": "LeafletAttributionControlView",
            "options": [
              "position",
              "prefix"
            ],
            "position": "bottomright",
            "prefix": "ipyleaflet"
          }
        },
        "ca1ee98f10914f37991c5330d5c80b4f": {
          "model_module": "jupyter-leaflet",
          "model_name": "LeafletWidgetControlModel",
          "model_module_version": "^0.18",
          "state": {
            "_model_module": "jupyter-leaflet",
            "_model_module_version": "^0.18",
            "_model_name": "LeafletWidgetControlModel",
            "_view_count": null,
            "_view_module": "jupyter-leaflet",
            "_view_module_version": "^0.18",
            "_view_name": "LeafletWidgetControlView",
            "max_height": null,
            "max_width": null,
            "min_height": null,
            "min_width": null,
            "options": [
              "position",
              "transparent_bg"
            ],
            "position": "bottomright",
            "transparent_bg": false,
            "widget": "IPY_MODEL_cefb14c5400846388535085e3d5c9f64"
          }
        },
        "1ef49e2373ba4fb388eee704ad98be7c": {
          "model_module": "jupyter-leaflet",
          "model_name": "LeafletMapStyleModel",
          "model_module_version": "^0.18",
          "state": {
            "_model_module": "jupyter-leaflet",
            "_model_module_version": "^0.18",
            "_model_name": "LeafletMapStyleModel",
            "_view_count": null,
            "_view_module": "@jupyter-widgets/base",
            "_view_module_version": "1.2.0",
            "_view_name": "StyleView",
            "cursor": "grab"
          }
        },
        "0299df028d63455788071940803fe174": {
          "model_module": "jupyter-leaflet",
          "model_name": "LeafletMapStyleModel",
          "model_module_version": "^0.18",
          "state": {
            "_model_module": "jupyter-leaflet",
            "_model_module_version": "^0.18",
            "_model_name": "LeafletMapStyleModel",
            "_view_count": null,
            "_view_module": "@jupyter-widgets/base",
            "_view_module_version": "1.2.0",
            "_view_name": "StyleView",
            "cursor": "move"
          }
        },
        "592b4f3ed3b142359be9fd144dd7e177": {
          "model_module": "jupyter-leaflet",
          "model_name": "LeafletTileLayerModel",
          "model_module_version": "^0.18",
          "state": {
            "_model_module": "jupyter-leaflet",
            "_model_module_version": "^0.18",
            "_model_name": "LeafletTileLayerModel",
            "_view_count": null,
            "_view_module": "jupyter-leaflet",
            "_view_module_version": "^0.18",
            "_view_name": "LeafletTileLayerView",
            "attribution": "&copy; <a href=\"https://www.openstreetmap.org/copyright\">OpenStreetMap</a> contributors",
            "base": true,
            "bottom": true,
            "bounds": null,
            "detect_retina": false,
            "loading": false,
            "max_native_zoom": null,
            "max_zoom": 19,
            "min_native_zoom": null,
            "min_zoom": 1,
            "name": "OpenStreetMap.Mapnik",
            "no_wrap": false,
            "opacity": 1,
            "options": [
              "attribution",
              "bounds",
              "detect_retina",
              "max_native_zoom",
              "max_zoom",
              "min_native_zoom",
              "min_zoom",
              "no_wrap",
              "tile_size",
              "tms",
              "zoom_offset"
            ],
            "pane": "",
            "popup": null,
            "popup_max_height": null,
            "popup_max_width": 300,
            "popup_min_width": 50,
            "show_loading": false,
            "subitems": [],
            "tile_size": 256,
            "tms": false,
            "url": "https://tile.openstreetmap.org/{z}/{x}/{y}.png",
            "visible": true,
            "zoom_offset": 0
          }
        },
        "d1ecc17ecc6840c4a9e98652c9aca76a": {
          "model_module": "jupyter-leaflet",
          "model_name": "LeafletTileLayerModel",
          "model_module_version": "^0.18",
          "state": {
            "_model_module": "jupyter-leaflet",
            "_model_module_version": "^0.18",
            "_model_name": "LeafletTileLayerModel",
            "_view_count": null,
            "_view_module": "jupyter-leaflet",
            "_view_module_version": "^0.18",
            "_view_name": "LeafletTileLayerView",
            "attribution": "Google Earth Engine",
            "base": false,
            "bottom": true,
            "bounds": null,
            "detect_retina": false,
            "loading": false,
            "max_native_zoom": null,
            "max_zoom": 24,
            "min_native_zoom": null,
            "min_zoom": 0,
            "name": "elevation",
            "no_wrap": false,
            "opacity": 1,
            "options": [
              "attribution",
              "bounds",
              "detect_retina",
              "max_native_zoom",
              "max_zoom",
              "min_native_zoom",
              "min_zoom",
              "no_wrap",
              "tile_size",
              "tms",
              "zoom_offset"
            ],
            "pane": "",
            "popup": null,
            "popup_max_height": null,
            "popup_max_width": 300,
            "popup_min_width": 50,
            "show_loading": false,
            "subitems": [],
            "tile_size": 256,
            "tms": false,
            "url": "https://earthengine.googleapis.com/v1/projects/ee-foss4g/maps/887b7e761ff62b51ce065c2b3fbad3e6-cae737b34226b16673274b0d2277a283/tiles/{z}/{x}/{y}",
            "visible": true,
            "zoom_offset": 0
          }
        },
        "61934ce3d48e44e1af49462d1cf89132": {
          "model_module": "@jupyter-widgets/base",
          "model_name": "LayoutModel",
          "model_module_version": "1.2.0",
          "state": {
            "_model_module": "@jupyter-widgets/base",
            "_model_module_version": "1.2.0",
            "_model_name": "LayoutModel",
            "_view_count": null,
            "_view_module": "@jupyter-widgets/base",
            "_view_module_version": "1.2.0",
            "_view_name": "LayoutView",
            "align_content": null,
            "align_items": null,
            "align_self": null,
            "border": null,
            "bottom": null,
            "display": null,
            "flex": null,
            "flex_flow": null,
            "grid_area": null,
            "grid_auto_columns": null,
            "grid_auto_flow": null,
            "grid_auto_rows": null,
            "grid_column": null,
            "grid_gap": null,
            "grid_row": null,
            "grid_template_areas": null,
            "grid_template_columns": null,
            "grid_template_rows": null,
            "height": "400px",
            "justify_content": null,
            "justify_items": null,
            "left": null,
            "margin": null,
            "max_height": null,
            "max_width": null,
            "min_height": null,
            "min_width": null,
            "object_fit": null,
            "object_position": null,
            "order": null,
            "overflow": null,
            "overflow_x": null,
            "overflow_y": null,
            "padding": null,
            "right": null,
            "top": null,
            "visibility": null,
            "width": "800px"
          }
        },
        "e7b2f67b383547f780b3674e4caf84ed": {
          "model_module": "jupyter-leaflet",
          "model_name": "LeafletMapStyleModel",
          "model_module_version": "^0.18",
          "state": {
            "_model_module": "jupyter-leaflet",
            "_model_module_version": "^0.18",
            "_model_name": "LeafletMapStyleModel",
            "_view_count": null,
            "_view_module": "@jupyter-widgets/base",
            "_view_module_version": "1.2.0",
            "_view_name": "StyleView",
            "cursor": "grab"
          }
        },
        "ed22fa1dcb4c431f9af2045fed900c48": {
          "model_module": "@jupyter-widgets/controls",
          "model_name": "HBoxModel",
          "model_module_version": "1.5.0",
          "state": {
            "_dom_classes": [
              "geemap-colab"
            ],
            "_model_module": "@jupyter-widgets/controls",
            "_model_module_version": "1.5.0",
            "_model_name": "HBoxModel",
            "_view_count": null,
            "_view_module": "@jupyter-widgets/controls",
            "_view_module_version": "1.5.0",
            "_view_name": "HBoxView",
            "box_style": "",
            "children": [
              "IPY_MODEL_7ae11ef9ce7f47d5aff810cbeedc2696"
            ],
            "layout": "IPY_MODEL_a869d574086344e7b6329a89c5b2761b"
          }
        },
        "43366c4a43ce4d9bb94ee39d37009a28": {
          "model_module": "@jupyter-widgets/controls",
          "model_name": "VBoxModel",
          "model_module_version": "1.5.0",
          "state": {
            "_dom_classes": [
              "geemap-colab"
            ],
            "_model_module": "@jupyter-widgets/controls",
            "_model_module_version": "1.5.0",
            "_model_name": "VBoxModel",
            "_view_count": null,
            "_view_module": "@jupyter-widgets/controls",
            "_view_module_version": "1.5.0",
            "_view_name": "VBoxView",
            "box_style": "",
            "children": [
              "IPY_MODEL_ce53f412e31d48109fb6c0a319c3f7b9"
            ],
            "layout": "IPY_MODEL_6ad4106f5fdc482fba8b315a2b4fca13"
          }
        },
        "cefb14c5400846388535085e3d5c9f64": {
          "model_module": "@jupyter-widgets/output",
          "model_name": "OutputModel",
          "model_module_version": "1.0.0",
          "state": {
            "_dom_classes": [
              "geemap-colab"
            ],
            "_model_module": "@jupyter-widgets/output",
            "_model_module_version": "1.0.0",
            "_model_name": "OutputModel",
            "_view_count": null,
            "_view_module": "@jupyter-widgets/output",
            "_view_module_version": "1.0.0",
            "_view_name": "OutputView",
            "layout": "IPY_MODEL_bc9155811d5644e0a64edb8b3acd28cb",
            "msg_id": "",
            "outputs": [
              {
                "output_type": "display_data",
                "data": {
                  "text/plain": "<Figure size 30x300 with 1 Axes>",
                  "image/png": "iVBORw0KGgoAAAANSUhEUgAAAGcAAAEICAYAAABClOrCAAAAOXRFWHRTb2Z0d2FyZQBNYXRwbG90bGliIHZlcnNpb24zLjcuMSwgaHR0cHM6Ly9tYXRwbG90bGliLm9yZy/bCgiHAAAACXBIWXMAAA9hAAAPYQGoP6dpAAAaSklEQVR4nO2dfVRUx/nHv4u8LrsLS1CErCJRwEpVSNKjlqqnxxQraiRE8SXE+AJqFDyNpzW+lmiARG1rW6I1irY19odprYqpnrTBRg8Qo0nsqtXURFRQUDYJ2+VlxX27vz9wb11h2Z27c9m7m/mcMydwH3Zy7z7OzDMz3/uMjOM4DgxJEuDtG2A4hzlHwjDnSBjmHAnDnCNhmHMkDHOOhGHOkTDMORKGOUfC+Jxz3nrrLTz99NMICQlBVlaWg+3KlSuYNGkS1Go1Bg4ciCVLlsBoNPL21tZWzJs3DyqVCjExMXj99dcdPu/K3tf4nHPi4uKwYcMG5Ofnd7PNmzcPycnJaG5uxqVLl3DhwgWHL7iwsBAtLS1oaGhAdXU19uzZg/3797tt73M4H6WoqIibMWOGwzWlUsnV1tbyvxcXF3NTp07lOI7jOjo6uODgYO6TTz7h7Vu3buUmTJjglt0bBLrrxM7OTphMJrH+gUAmkzlcCwkJQUhICFE9P/3pT7F//36kpaXBYDDgyJEjfAu7evUqTCYTUlNT+b9PTU1FaWmpW3Zv4JZzOjs7kZCQgLt374pyEwqFAu3t7Q7XioqK8NprrxHVM2XKFCxcuBBKpRJWqxVZWVlYtGgRAKC9vR3h4eEIDPzfI0dGRqKtrc0tuzdwyzkmkwl3795F/c2bUKlUVG+gtbUV8UOG4NatWw51k7YavV6PZ555Bps3b8bLL7+Mjo4OFBYWIjc3F++++y4UCgWMRiMsFgvvAIPBAKVSCQAu7d7A7W4N6HoAhUJB9QZsNhsAQKVSeeT4uro63Lt3DytXroRMJkNwcDCWLl2KKVOmAACSk5MRFBSECxcu4KmnngIAaLVajBw50i27NyCK1mxWqyiFBIvFgs7OTlgsFthsNn4sHD58OBQKBXbu3AmLxYK2tjbs2bMHaWlpAAC5XI7Zs2dj48aNMBgM+PLLL1FWVoa8vDy37F7BnajBYDBwALjmO03cvY52qqX5ThMHgDMYDG5FMEVFRRwAhzJx4kSO4ziupqaGS09P5yIiIrioqChu+vTpXF1dncNzzJkzh1MoFFz//v25TZs2dXvO3ux9jYzjXGsIWltbERERgcaGelHGnMcHx8NgMFCv29chGnNsVhtxN+ROnYyeIXMOZ+MHcFrYOOYcZxC2HPIB3J06GT1D5BxOBOdwzDlOIWs5NhG6Ncr1+ROsW5MwhC3HCpuNsnMo1+dPsFBawhA5x2Ixw2I2U70Bi4Vuff4EG3MkDIvWJAyb50gYFq1JGMIxh6MeXdms7MU6ZxAufIrQcjjWcpzBojUJQ7ZN/SBao11I6E3xCQDl5eVITk5GeHg4hgwZgsrKSt7W1NSEzMxMhIeHY/DgwdizZ4/DZ13Z+xqySajJBEtQENUbsBBq4eyKz6qqKty+fdvBtnv3bmzfvh0HDx5EamoqdDodOjo6ePvcuXMxdOhQ6HQ6/Pvf/8bkyZORlJSEiRMnumXva4i2qU8eOQRFeDjVG2jv6MCk52YSb1O/9tpr0Gq1OHr0KADAarXi8ccfx/79+5GRkdHt7+vq6pCUlISmpibExMQAAFasWIH29nb88Y9/dGn3BkTdGvdgbY1m4R5Ef62trQ7l/v37RA9y9epVNDc34/z58xgyZAg0Gg3y8/PR2toKALh48SJiY2P5Lx7oUnRevHjRLbs3IBtzHkRrVMuDaG3QoEGIiIjgyxtvvEH0IC0tLQCAqqoqfPrpp9Bqtbhx4wZeeeUVAF2KzsjISIfPPKr47M3uDQSsStOe53TV56ni0y52XLt2LaKjo/mf586dy9sNBoPDZx5VfPZm9waSWSHwVPGZnJyM0NBQp/ZRo0ahqakJOp0OAwYMAOCo6HRl9wZ+o/gMCwtDbm4utmzZAr1ej//+97/YsmULZsyYAQAYOnQo0tPTsW7dOhiNRpw7dw5/+tOfsHjxYrfs3sDn5jnFxcUICwtDSUkJ3nvvPYSFhfHR2a9//WvExcUhISEBycnJiI+Px69+9Sv+sxUVFWhsbET//v3x/PPPY+vWrQ5hsit7X0MUSh/dtxvhcjnVG+gwGpG1aAlTfPYA4U6oRYSdUAvV+vwJtp8jYSQTrTG6w1alJQzTEEgYpluTMKxbkzDs/RwJw1qOhGGhtIQhco7VbIalXz+qN2ClvOLgT7BoTcKweY6EIR9zaLccNuY4hUVrEsbnNttciQoBoLm5GVFRUQ650wA/FxVKoeX0Jiq0U1BQgLS0NHzzzTcO131NVEjYckSQRhGOOdnZ2cjKyuIVNo9SWVmJlpYWvPjiiw7X6+rqUFNTgzfeeAPh4eEYM2YMXnjhBezbt88tuzcgFBVyvDyKVuEevALiqagQ6JIyrVq1Crt27epm83tRocVigsVMuVi6tNKeigoBYPXq1ViwYAESExO72fxfVCjiPMdTUWF1dTVqa2tx/vz5Hu3+LyoUMSDwVFR48uRJXL9+HXFxcQCA+/fv4969e4iOjsalS5eYqNCbosJVq1bhiy++gFarhVarxebNm5GcnAytVosBAwb4pKhQMt2auxQXF2PTpk3872FhYZg4cSJOnTrl0PLUajWCgoKg0Wj4axUVFcjLy0P//v0RFRXVo6iwN3tfQyQqXD9vJkKD6b481Wkyo+T/DjFRYQ8I2M+he/wBW1tzDpmo0GYDR7lbo12fP0HknIB+AQjoR7fl0K7PnyByTmBQAAKD6H6ZgRxzjjMIW44MAf1krv+QsE5Gz5A5J0CGgADKzqFcnz/BWo6EIXOOjP6/dNZwnMNajoQhco5MhDFHxpqOU1jLkTDMORLG+5NQymt1/gRhtBaAgADKyzcy5hxnsG5NwrAVAglD1KfYWw7tQoIzxadOp8MLL7wAjUYDlUqFtLQ0HDt2zOGzfq34lInQrckI63Om+Gxvb0daWhq2bNmCuLg4HD9+HHPmzMEnn3yCESNGAPA9xSfRNnV5yWLIQ4Op3oCx04S89Xs9TiPZE08++SQKCgqwaNEi0dJIms1mHDp0CMeOHYNWq4Ver4darUZqaiqmTZuGWbNmIThY2HcmmW6NhuLzYXQ6HT7//HOMGjUKgDiKz/LycgwZMgR79uxBSkoKSkpKcODAAZSUlCAlJQV79+5FQkKCYEkvYSgtQkDw4DT3QYMGOVwXcnC4HZPJhDlz5iAnJwdPP/00AHEUn+fOncNHH32E+Pj4brbs7Gxs2LAB9fX1KC0t5Q8wJ0EyobSnik87JpMJM2fOhFwudxjQxVB87t692+X9xMfH4+233yZ5BB7CFQIZ/RUCS5dzPFV8Al2OmTVrFkwmEyorKx36+r5SfFosFhiNRodrQp+LbMx5MM+hXUhwpvg0m83IyclBR0cHjh492q3lia34/PjjjzF69GiEhoZCrVZDrVYjMjISarWa6PkeRjLdmrs4U3xu2rQJlZWVCA0NdXh3Z926dVi3bh0AcRWfL730EubOnYuDBw9CTimbI1EofejtFZCHCRsLnGG8dx8zl+7wecWnWq1GS0sLZDJ6/3iJujWZjH6XRvNhvMm8efO6rUh4is91a1KluLgYY8eOxdatWx3mSgBw+PBhQXWyhU9K5ObmIjg4GD/4wQ+ojTms5VDi9OnTuHPnDtU34VjLocSIESPQ1tbmPeeIsk1NuT5vkZ2djWnTpuHll1/uNuY8++yzgupk3Rol7Es0paWlDtdlMlkfOSdABOf4Sbd248YN6nUyUaGEkcx+ji8ybtw4nDhxAs4WWTiOw/Hjx/H9739fUP2E3ZoI0ijK9fUl27dvx5o1a5CXl4cJEyZg+PDhUKlUaG1txX/+8x9UV1cjMTHR4ZgYEggDAvoDeADdlKF9ytixY3Hq1Clcvny5x23q9evXe5Rkgs1zKJCSkoKUlBTq9bJQWsKQTUIDRZiEBvrumCM2rOVIGLL9HBG2qEnnOb3l+GxtbcW8efOgUqkQExOD119/naq9r/G5ltNbjs/CwkK0tLSgoaEBOp0OzzzzDOLj4zF//nwqdnfQ6/Xd5FSDBw8mekY7PhetZWdnA+hSxjzsHKPRiIMHD6K2thaRkZGIjIxEYWEh9u7di/nz53tsd8Xp06exYMECNDQ0gOM4yGQy/r9WgTnqJLNCQOPgcJPJ5JCu+GHFpqd2Vyxbtgx5eXm4desW9Ho9Wlpa+P8KxW8Un+3t7QgPD0dg4P8e6VFFpyd2VzQ2NmLdunVUNRGSGXNoHBxuNBphsVj4L/hRRacndldMnToVNTU1GD9+PNF994ZkskbRODg8KCgIFy5cwFNPPQXAUbHpqd0VSqUS06dPR2ZmJgYOHOhgE7q2RvRN23dCaRcSnCk+5XI5Zs+ejY0bN8JgMODLL79EWVkZ8vLyAMBjuyvMZjOee+45hISEQK/XOxSh+Nx+Tm85Pt966y0sXboUGo0GYWFhKCgocIi0PLX3xu9//3ui53AHIsVnw40tUClDqd5Aa1snBie86vOKTwCor69HRUUFbt++DY1Gg7lz5/b4eoi7kIXSMhHE7H6yenPy5EmMGDECH374IaxWK06fPo2UlBRUVVUJrlMy0Zqv8+qrr2L//v14/vnn+WuHDx/G6tWrnWaJd4XPvQIiVerq6vDcc885XJsxYwauX78uuE7JrBD4OgkJCXjvvfccrp04cQIJCQmC62TdGiXefPNNZGVl4Yc//CGGDBmCmzdv4tSpU4JF7ADr1qiRkZGBixcvIj09HRzHIT09HRcvXsTkyZMF18laDkWGDRvGv0VHAyLnmB8Umvjy+bq7du3CsmXLAAC//e1vnf7dypUrBdVP5BwLx8Hies5KBO36+pJjx47xzjly5EiPfyOTyZhzvMGJEyf4nz/88EPq9ZOd2fbAObSLP+Bs9frRs0pJIDvVHYBF8P/KeZ3+wM2bN3u83tDQILhO1q15yKpVqwB0bRnYf7Zz/fp1PPHEE4LrZs7xEPt+jc1mc9i7CQgIwIgRIwRvtAHMOR5j38d58sknUVhYSLVuooDAytEPCqwCfNPY2IisrCw89thjiI6ORk5ODr766isAXd1LQUEB1Go1oqKiUFhYCIvlfyOlK7tQHnZMW1ubg5JIKETO6eQ4UQopK1asANC1uXXjxg10dnbyc4ni4mLU1NTgypUruHz5Mqqrqx3e03RlF0pDQwMyMjIgl8v5hET2IhSfDKWvX7+OnJwcKBQKKJVKzJ49G5cuXQIA7Nu3Dxs2bEBsbCxiY2Oxfv167N27l/+sK7tQli9fDrVajY8++ggKhQLnz5/Hs88+KzjXGiChMefR5h8SEuJUHrVq1Sr85S9/wdSpU8FxHCoqKjB9+nTo9Xrcvn27mzCwoaEBBoMBNputV3tERITg5zhz5gzq6+uhUCggk8kwevRolJeXY/z48W6LRB6FcMyh32qsD5xDcnB4eno6dDodP27o9XqsXbsW7e3tAOCQDtL+c1tbm0u7J/Tr14//x6RSqdDS0oKIiAjcunVLcJ1k3ZpIBegSFRoMBr6sXbu2x3uw2Wz40Y9+hPT0dLS3t6O9vR3p6enIyMiAQqEAAId0kPaflUqlS7snpKam4p///CcA8K1lwYIFfNpkIUhmzLGLCu3FWZfW0tKC+vp6rFy5EnK5HHK5HIWFhTh79iysVis0Gg20Wi3/91qtlm+VarW6V7sn7N27F8OHDwcA/OY3v8Fjjz0Gs9nca9pjV0hmzHGX6OhoDBs2DDt27EBRUREAYMeOHdBoNIiOjsbChQtRUlKC9PR0AF0ZNR7u813ZhRITE8PnFI2OjqaSzZ1sbU0E51gF1FdZWYlXXnkFjz/+OGw2m0Nq/I0bN+Kbb77Bd77zHQBdqbYe3gBzZRdKTEwMcnJy8NJLLwnOO/AoRKLCivpNkKvoigqNrZ2YG1/k86LCs2fP4sCBA3j33XehUqmQm5uL+fPne7S25pOTUCkyZswYlJWVoampCb/85S9x+fJljBw50qO3DnxuzJE6gYGByMzMhNVqxddff43q6mrhdZH8sRUijDnwH+ecOXMG77zzDv785z8jOjoaL774Iv7whz8Iro+1HEoMGzYMBoMBOTk5OH78OMaMGeNxnWTOAf2dUNr1eYtf/OIXmDp1KoKCgqjVyVoOJbKysqDX63HixAk0NjZi9erVaGpqgs1mg0ajEVSnZNbWfJ0zZ84gMTERv/vd7/jkEp9//jm/vSEEySzf+Do/+clPUF5ejpqaGv6F33HjxuHcuXOC62TdGiW++OILPt2L/XV3uVzu0QlaRM7p5DiA8pfpL5PQwYMH48KFCxg9ejR/7fz58333CohdQ0ATIRoCKbJ27VpMnz4dP/vZz2A2m7F7925s27YNb775puA6ibu1fqxb65E5c+ZApVJh586diI+Px5EjR7B9+3ZMmzZNcJ3MORTJzMxEZmYmtfqIJ6G086X68iTU3aRF9uMwSfHJ/RypkJqayqfucoYnKb2Iu7UA1q3x2Gw2Uev32UnosWPHkJqaivDwcMTFxWHXrl0ApJcqss9y30il5bz//vtYvnw5Dhw4gPHjx6O1tRXNzc0A+iZV5MMMGDAAOp2O/33y5Mn4+9//zv8eHx8vWJJLtE0988IrCFLSPe3Q3HYfh0ZvJ9qm/t73vof8/HwsWbLE4brRaIRarUZtbS1/7PG2bdvwt7/9DadPn3ZpF4JSqXTQvEVFRTlkJ3zUToJkujV300h2dHTgs88+Q2NjI5KSkjBw4EDMmjULd+7cET1VZE+4ykzoSeZCyTjHXcWnXq8Hx3E4evQoPvjgA1y7dg0hISHIzc0VPVVkX0M85shEGnPcTSNpV22uXLmST5e1adMmJCYmYvPmzaKmiuwJk8nk8Jp7Z2enw+9ms/CX+YknobRTOtgnoe6mkYyMjHSap3nkyJGiporsibFjxzq85j5mzBiH38eOHSu4bmKBB+2WI0TgsWTJEpSVleHHP/4xoqKisHnzZkyaNAkqlYpPBVlRUQGdToeysjI+XH44VWRPdiGcOnVK8GddIZkxh4Q1a9Zg0qRJGD16NAYNGgSj0Yh33nkHQFcqyIiICGg0GqSnp2Px4sXdUkX2ZpcSRKH0uE9XIFBBN5S2tN/Hmad9/+BwMSAOCGhvtvny8o3YECeJoI2/JIkQA7JtapsN/Sgv9llFXjz0ZYi7NTeGKCJ8ectAbAidAxGcQ7U6v4J4zKH9XbJOzTle3zKwsW7NKcw5EoY5R8IQCzxof5m0Awx/wuur0sw1ziGehMooTxo5Ngl1itc321i35hwi54ALAsfRe62uq07mHGeQOccWCNgoO4d1a04hdE4IYKW7n8OWCJxDdtSgLVicIpB79+5h2LBhDvnTpKb49ATCMScQoD7mCN/R+fnPf474+Hh8/fXX/LW+VnyKCVnLsQaLUwTw2Wef4f3338err77KX7Mf/l1cXIzIyEgkJSXxh3+7Y5cahN1aiDgFZAeHWywW5OfnY8eOHXyOM0D8w8H7GsKWEw5YFZRLOACyHJ/btm1DWloaJkyY4HD9W634hDWoq9DE2iUrdFfxee3aNezatQv/+te/utnEPhy8ryEMCIL5bogaDwICdxWfNTU1aG5uRlJSEoAuuWtbWxuio6Px17/+tc8Vn2JCOOYEiVMIyMnJwbVr16DVaqHValFeXg6lUgmtVotx48aJejh4X0M4CfVsXtJznWSv7Noz4trp378/ZDIZn/xHzMPB+xoixSf+7zAgD6d7B8YOYF42U3z2gARaji+fdyguhM4hHyPcqpPRIwJaDu2FT9ZynEHmHIuiq9DEl1N4iIwE9nPIbuHbhIBJKOWAgKNcnx8hgWiNOccZEggIhKdZ9HdYKC1hWLcmYQREa5SjKxatOYXom5GJpPhkyrWeIXOO1QqZwKx7TrH60zkgdCFyTj+LGTIPcrn0BGcxM+maEyTRchg9Q7QTancO7ULC/fv3kZ+fj4SEBCiVSgwfPhz79u3j7d9aUWGAjRMhICAbcSwWC2JjY1FVVYUnnngCZ8+exZQpU6DRaJCRkeFXokKinVD5+muQhdJVqnCdbTCWDPNoJzQ7Oxvf/e53sWbNmj5PIykmkunWSESFD9PZ2Ylz585h1KhR325RYQBnQ4CNcuG6ukkSUaEdjuOQl5eHxMREZGdnf7tFhWJGa+6KCu1wHIfly5fj6tWrqKqqQkBAgN+JCiXTrbl7cDjQ5ZgVK1bg7Nmz+Mc//sEf+v2waNCOM1FhT3apQdatmS3oZzZTLQFm8n3qgoIC1NbW4oMPPoBareavuxIN+pqoUDItx13q6+uxc+dOXL16FfHx8VAoFFAoFFi2bBmAb3EayeilHyMghK7Aw3a/HV+/PZaJCnuAcFWafkAgs7HlG2d4PVqjHv35EYTLN11zE6qwV92dwlqOhCF0jk0E57CW4wzWrUkYMueYTQgAZSmT2US3Pj+CtRwJQx4QBLCAoK8gDwioO4e1HGcQ69Zod2ssU6FzWLcmYdjamoTxerTGujXnkHdrMtat9RVkclyzGf04ym8/W9jb1M4g3Am1ibATSt6tmc1mFBQUQK1WIyoqCoWFhbBY/O+1bJ/bpgaA4uJi1NTU4MqVK7h8+TKqq6tRWlpKXI/UkYxujYR9+/Zhw4YNiI2NRWxsLNavXy/ZVJCeQDTm2EwdkPWjO4DbrJ0A0O1Y+pCQkB7lUXq9Hrdv3+6m2mxoaIDBYOBlUn4B5wb37t3jBg4cyKHrXAjqRaFQdLtWVFTU4700NDRwALivvvqKv6bT6TgA3K1bt9x5HJ/BrZYTGhqKGzduwGQSZ3mf47huR9O7OjjcYDAgOjqa/xmAZJWbQnG7WwsNDUVoaKiY9+IWarUaGo0GWq0WQ4cOBdCl2rRrrf0JsjSSEmHhwoUoKSnB3bt3cffuXZSWlkpWtekR3u5XhWAymbjly5dzkZGRXGRkJFdQUMCZzWZv3xZ13FJ8MryDT3Zr3xaYcyQMc46EYc6RMMw5EoY5R8Iw50gY5hwJw5wjYZhzJAxzjoRhzpEw/w+VSmW9p9RXMwAAAABJRU5ErkJggg==\n"
                },
                "metadata": {}
              }
            ]
          }
        },
        "7ae11ef9ce7f47d5aff810cbeedc2696": {
          "model_module": "@jupyter-widgets/controls",
          "model_name": "ToggleButtonModel",
          "model_module_version": "1.5.0",
          "state": {
            "_dom_classes": [],
            "_model_module": "@jupyter-widgets/controls",
            "_model_module_version": "1.5.0",
            "_model_name": "ToggleButtonModel",
            "_view_count": null,
            "_view_module": "@jupyter-widgets/controls",
            "_view_module_version": "1.5.0",
            "_view_name": "ToggleButtonView",
            "button_style": "",
            "description": "",
            "description_tooltip": null,
            "disabled": false,
            "icon": "globe",
            "layout": "IPY_MODEL_47a512da27ab46a2bb470a0250377a7f",
            "style": "IPY_MODEL_3017087ff4bb49168f9feeb57fbd3a8d",
            "tooltip": "Search location/data",
            "value": false
          }
        },
        "a869d574086344e7b6329a89c5b2761b": {
          "model_module": "@jupyter-widgets/base",
          "model_name": "LayoutModel",
          "model_module_version": "1.2.0",
          "state": {
            "_model_module": "@jupyter-widgets/base",
            "_model_module_version": "1.2.0",
            "_model_name": "LayoutModel",
            "_view_count": null,
            "_view_module": "@jupyter-widgets/base",
            "_view_module_version": "1.2.0",
            "_view_name": "LayoutView",
            "align_content": null,
            "align_items": null,
            "align_self": null,
            "border": null,
            "bottom": null,
            "display": null,
            "flex": null,
            "flex_flow": null,
            "grid_area": null,
            "grid_auto_columns": null,
            "grid_auto_flow": null,
            "grid_auto_rows": null,
            "grid_column": null,
            "grid_gap": null,
            "grid_row": null,
            "grid_template_areas": null,
            "grid_template_columns": null,
            "grid_template_rows": null,
            "height": null,
            "justify_content": null,
            "justify_items": null,
            "left": null,
            "margin": null,
            "max_height": null,
            "max_width": null,
            "min_height": null,
            "min_width": null,
            "object_fit": null,
            "object_position": null,
            "order": null,
            "overflow": null,
            "overflow_x": null,
            "overflow_y": null,
            "padding": null,
            "right": null,
            "top": null,
            "visibility": null,
            "width": null
          }
        },
        "ce53f412e31d48109fb6c0a319c3f7b9": {
          "model_module": "@jupyter-widgets/controls",
          "model_name": "ToggleButtonModel",
          "model_module_version": "1.5.0",
          "state": {
            "_dom_classes": [],
            "_model_module": "@jupyter-widgets/controls",
            "_model_module_version": "1.5.0",
            "_model_name": "ToggleButtonModel",
            "_view_count": null,
            "_view_module": "@jupyter-widgets/controls",
            "_view_module_version": "1.5.0",
            "_view_name": "ToggleButtonView",
            "button_style": "",
            "description": "",
            "description_tooltip": null,
            "disabled": false,
            "icon": "wrench",
            "layout": "IPY_MODEL_d4f3720fd8894fdc98520beac091d4ab",
            "style": "IPY_MODEL_3ac71b8737ba44d1a648bd1e7c2d9a40",
            "tooltip": "Toolbar",
            "value": false
          }
        },
        "6ad4106f5fdc482fba8b315a2b4fca13": {
          "model_module": "@jupyter-widgets/base",
          "model_name": "LayoutModel",
          "model_module_version": "1.2.0",
          "state": {
            "_model_module": "@jupyter-widgets/base",
            "_model_module_version": "1.2.0",
            "_model_name": "LayoutModel",
            "_view_count": null,
            "_view_module": "@jupyter-widgets/base",
            "_view_module_version": "1.2.0",
            "_view_name": "LayoutView",
            "align_content": null,
            "align_items": null,
            "align_self": null,
            "border": null,
            "bottom": null,
            "display": null,
            "flex": null,
            "flex_flow": null,
            "grid_area": null,
            "grid_auto_columns": null,
            "grid_auto_flow": null,
            "grid_auto_rows": null,
            "grid_column": null,
            "grid_gap": null,
            "grid_row": null,
            "grid_template_areas": null,
            "grid_template_columns": null,
            "grid_template_rows": null,
            "height": null,
            "justify_content": null,
            "justify_items": null,
            "left": null,
            "margin": null,
            "max_height": null,
            "max_width": null,
            "min_height": null,
            "min_width": null,
            "object_fit": null,
            "object_position": null,
            "order": null,
            "overflow": null,
            "overflow_x": null,
            "overflow_y": null,
            "padding": null,
            "right": null,
            "top": null,
            "visibility": null,
            "width": null
          }
        },
        "bc9155811d5644e0a64edb8b3acd28cb": {
          "model_module": "@jupyter-widgets/base",
          "model_name": "LayoutModel",
          "model_module_version": "1.2.0",
          "state": {
            "_model_module": "@jupyter-widgets/base",
            "_model_module_version": "1.2.0",
            "_model_name": "LayoutModel",
            "_view_count": null,
            "_view_module": "@jupyter-widgets/base",
            "_view_module_version": "1.2.0",
            "_view_name": "LayoutView",
            "align_content": null,
            "align_items": null,
            "align_self": null,
            "border": null,
            "bottom": null,
            "display": null,
            "flex": null,
            "flex_flow": null,
            "grid_area": null,
            "grid_auto_columns": null,
            "grid_auto_flow": null,
            "grid_auto_rows": null,
            "grid_column": null,
            "grid_gap": null,
            "grid_row": null,
            "grid_template_areas": null,
            "grid_template_columns": null,
            "grid_template_rows": null,
            "height": null,
            "justify_content": null,
            "justify_items": null,
            "left": null,
            "margin": null,
            "max_height": null,
            "max_width": null,
            "min_height": null,
            "min_width": null,
            "object_fit": null,
            "object_position": null,
            "order": null,
            "overflow": null,
            "overflow_x": null,
            "overflow_y": null,
            "padding": null,
            "right": null,
            "top": null,
            "visibility": null,
            "width": "100px"
          }
        },
        "47a512da27ab46a2bb470a0250377a7f": {
          "model_module": "@jupyter-widgets/base",
          "model_name": "LayoutModel",
          "model_module_version": "1.2.0",
          "state": {
            "_model_module": "@jupyter-widgets/base",
            "_model_module_version": "1.2.0",
            "_model_name": "LayoutModel",
            "_view_count": null,
            "_view_module": "@jupyter-widgets/base",
            "_view_module_version": "1.2.0",
            "_view_name": "LayoutView",
            "align_content": null,
            "align_items": null,
            "align_self": null,
            "border": null,
            "bottom": null,
            "display": null,
            "flex": null,
            "flex_flow": null,
            "grid_area": null,
            "grid_auto_columns": null,
            "grid_auto_flow": null,
            "grid_auto_rows": null,
            "grid_column": null,
            "grid_gap": null,
            "grid_row": null,
            "grid_template_areas": null,
            "grid_template_columns": null,
            "grid_template_rows": null,
            "height": "28px",
            "justify_content": null,
            "justify_items": null,
            "left": null,
            "margin": null,
            "max_height": null,
            "max_width": null,
            "min_height": null,
            "min_width": null,
            "object_fit": null,
            "object_position": null,
            "order": null,
            "overflow": null,
            "overflow_x": null,
            "overflow_y": null,
            "padding": "0px 0px 0px 4px",
            "right": null,
            "top": null,
            "visibility": null,
            "width": "28px"
          }
        },
        "3017087ff4bb49168f9feeb57fbd3a8d": {
          "model_module": "@jupyter-widgets/controls",
          "model_name": "DescriptionStyleModel",
          "model_module_version": "1.5.0",
          "state": {
            "_model_module": "@jupyter-widgets/controls",
            "_model_module_version": "1.5.0",
            "_model_name": "DescriptionStyleModel",
            "_view_count": null,
            "_view_module": "@jupyter-widgets/base",
            "_view_module_version": "1.2.0",
            "_view_name": "StyleView",
            "description_width": ""
          }
        },
        "d4f3720fd8894fdc98520beac091d4ab": {
          "model_module": "@jupyter-widgets/base",
          "model_name": "LayoutModel",
          "model_module_version": "1.2.0",
          "state": {
            "_model_module": "@jupyter-widgets/base",
            "_model_module_version": "1.2.0",
            "_model_name": "LayoutModel",
            "_view_count": null,
            "_view_module": "@jupyter-widgets/base",
            "_view_module_version": "1.2.0",
            "_view_name": "LayoutView",
            "align_content": null,
            "align_items": null,
            "align_self": null,
            "border": null,
            "bottom": null,
            "display": null,
            "flex": null,
            "flex_flow": null,
            "grid_area": null,
            "grid_auto_columns": null,
            "grid_auto_flow": null,
            "grid_auto_rows": null,
            "grid_column": null,
            "grid_gap": null,
            "grid_row": null,
            "grid_template_areas": null,
            "grid_template_columns": null,
            "grid_template_rows": null,
            "height": "28px",
            "justify_content": null,
            "justify_items": null,
            "left": null,
            "margin": null,
            "max_height": null,
            "max_width": null,
            "min_height": null,
            "min_width": null,
            "object_fit": null,
            "object_position": null,
            "order": null,
            "overflow": null,
            "overflow_x": null,
            "overflow_y": null,
            "padding": "0px 0px 0px 4px",
            "right": null,
            "top": null,
            "visibility": null,
            "width": "28px"
          }
        },
        "3ac71b8737ba44d1a648bd1e7c2d9a40": {
          "model_module": "@jupyter-widgets/controls",
          "model_name": "DescriptionStyleModel",
          "model_module_version": "1.5.0",
          "state": {
            "_model_module": "@jupyter-widgets/controls",
            "_model_module_version": "1.5.0",
            "_model_name": "DescriptionStyleModel",
            "_view_count": null,
            "_view_module": "@jupyter-widgets/base",
            "_view_module_version": "1.2.0",
            "_view_name": "StyleView",
            "description_width": ""
          }
        },
        "9abf387f6400490b82eed7adfdd71c04": {
          "model_module": "jupyter-leaflet",
          "model_name": "LeafletMapModel",
          "model_module_version": "^0.18",
          "state": {
            "_dom_classes": [],
            "_model_module": "jupyter-leaflet",
            "_model_module_version": "^0.18",
            "_model_name": "LeafletMapModel",
            "_view_count": null,
            "_view_module": "jupyter-leaflet",
            "_view_module_version": "^0.18",
            "_view_name": "LeafletMapView",
            "bottom": 6656,
            "bounce_at_zoom_limits": true,
            "box_zoom": true,
            "center": [
              35.60541125576072,
              127.04873061439156
            ],
            "close_popup_on_click": true,
            "controls": [
              "IPY_MODEL_2eb17bd4dbb04590b8de6d2f83b0ee7c",
              "IPY_MODEL_76aa0148e13641a093fe2f46596fffe3",
              "IPY_MODEL_4c7a19152150479ab6749b97efeb7606",
              "IPY_MODEL_aef9a4d6d35c45f0b2c9bc60573216ed",
              "IPY_MODEL_879b58a072ca4417b818815343a58335",
              "IPY_MODEL_14ae4467140d48dd8da1050a882e3d1f",
              "IPY_MODEL_c652b38c08ad4c92b3f73028df91a0cd",
              "IPY_MODEL_37f155298c6744e6a8b76b83580aaed7",
              "IPY_MODEL_a03965f2572e4bf4bfde437ff7b4de29"
            ],
            "crs": {
              "name": "EPSG3857",
              "custom": false
            },
            "default_style": "IPY_MODEL_f6cbcb2108dd40c7b6b6d562bea318d5",
            "double_click_zoom": true,
            "dragging": true,
            "dragging_style": "IPY_MODEL_1b28a625dd8441d1b2cad26a934242a7",
            "east": 135.83496093750003,
            "fullscreen": false,
            "inertia": true,
            "inertia_deceleration": 3000,
            "inertia_max_speed": 1500,
            "interpolation": "bilinear",
            "keyboard": true,
            "keyboard_pan_offset": 80,
            "keyboard_zoom_offset": 1,
            "layers": [
              "IPY_MODEL_92e02af3bc4749708525ba14aa2c0f4e",
              "IPY_MODEL_b0d1dd4faec74e5ea24ce77f929c1340"
            ],
            "layout": "IPY_MODEL_f0cb3dd39da642b99abf5052f440bacb",
            "left": 13574,
            "max_zoom": 24,
            "min_zoom": null,
            "modisdate": "2024-05-25",
            "north": 39.095962936305476,
            "options": [
              "bounce_at_zoom_limits",
              "box_zoom",
              "center",
              "close_popup_on_click",
              "double_click_zoom",
              "dragging",
              "fullscreen",
              "inertia",
              "inertia_deceleration",
              "inertia_max_speed",
              "interpolation",
              "keyboard",
              "keyboard_pan_offset",
              "keyboard_zoom_offset",
              "max_zoom",
              "min_zoom",
              "prefer_canvas",
              "scroll_wheel_zoom",
              "tap",
              "tap_tolerance",
              "touch_zoom",
              "world_copy_jump",
              "zoom",
              "zoom_animation_threshold",
              "zoom_delta",
              "zoom_snap"
            ],
            "panes": {},
            "prefer_canvas": false,
            "right": 14374,
            "scroll_wheel_zoom": true,
            "south": 31.952162238024975,
            "style": "IPY_MODEL_46ad8678a6bd459cbc7d396ddee2b327",
            "tap": true,
            "tap_tolerance": 15,
            "top": 6256,
            "touch_zoom": true,
            "west": 118.25683593750001,
            "window_url": "https://ioysqj54nq-496ff2e9c6d22116-0-colab.googleusercontent.com/outputframe.html?vrz=colab_20240523-060110_RC00_636443439",
            "world_copy_jump": false,
            "zoom": 6,
            "zoom_animation_threshold": 4,
            "zoom_delta": 1,
            "zoom_snap": 1
          }
        },
        "2eb17bd4dbb04590b8de6d2f83b0ee7c": {
          "model_module": "jupyter-leaflet",
          "model_name": "LeafletWidgetControlModel",
          "model_module_version": "^0.18",
          "state": {
            "_model_module": "jupyter-leaflet",
            "_model_module_version": "^0.18",
            "_model_name": "LeafletWidgetControlModel",
            "_view_count": null,
            "_view_module": "jupyter-leaflet",
            "_view_module_version": "^0.18",
            "_view_name": "LeafletWidgetControlView",
            "max_height": null,
            "max_width": null,
            "min_height": null,
            "min_width": null,
            "options": [
              "position",
              "transparent_bg"
            ],
            "position": "topleft",
            "transparent_bg": false,
            "widget": "IPY_MODEL_5d0af4f078394157be6e92f0190b942c"
          }
        },
        "76aa0148e13641a093fe2f46596fffe3": {
          "model_module": "jupyter-leaflet",
          "model_name": "LeafletZoomControlModel",
          "model_module_version": "^0.18",
          "state": {
            "_model_module": "jupyter-leaflet",
            "_model_module_version": "^0.18",
            "_model_name": "LeafletZoomControlModel",
            "_view_count": null,
            "_view_module": "jupyter-leaflet",
            "_view_module_version": "^0.18",
            "_view_name": "LeafletZoomControlView",
            "options": [
              "position",
              "zoom_in_text",
              "zoom_in_title",
              "zoom_out_text",
              "zoom_out_title"
            ],
            "position": "topleft",
            "zoom_in_text": "+",
            "zoom_in_title": "Zoom in",
            "zoom_out_text": "-",
            "zoom_out_title": "Zoom out"
          }
        },
        "4c7a19152150479ab6749b97efeb7606": {
          "model_module": "jupyter-leaflet",
          "model_name": "LeafletFullScreenControlModel",
          "model_module_version": "^0.18",
          "state": {
            "_model_module": "jupyter-leaflet",
            "_model_module_version": "^0.18",
            "_model_name": "LeafletFullScreenControlModel",
            "_view_count": null,
            "_view_module": "jupyter-leaflet",
            "_view_module_version": "^0.18",
            "_view_name": "LeafletFullScreenControlView",
            "options": [
              "position"
            ],
            "position": "topleft"
          }
        },
        "aef9a4d6d35c45f0b2c9bc60573216ed": {
          "model_module": "jupyter-leaflet",
          "model_name": "LeafletDrawControlModel",
          "model_module_version": "^0.18",
          "state": {
            "_model_module": "jupyter-leaflet",
            "_model_module_version": "^0.18",
            "_model_name": "LeafletDrawControlModel",
            "_view_count": null,
            "_view_module": "jupyter-leaflet",
            "_view_module_version": "^0.18",
            "_view_name": "LeafletDrawControlView",
            "circle": {},
            "circlemarker": {},
            "data": [],
            "edit": true,
            "marker": {
              "shapeOptions": {
                "color": "#3388ff"
              }
            },
            "options": [
              "position"
            ],
            "polygon": {
              "shapeOptions": {}
            },
            "polyline": {
              "shapeOptions": {}
            },
            "position": "topleft",
            "rectangle": {
              "shapeOptions": {
                "color": "#3388ff"
              }
            },
            "remove": true
          }
        },
        "879b58a072ca4417b818815343a58335": {
          "model_module": "jupyter-leaflet",
          "model_name": "LeafletScaleControlModel",
          "model_module_version": "^0.18",
          "state": {
            "_model_module": "jupyter-leaflet",
            "_model_module_version": "^0.18",
            "_model_name": "LeafletScaleControlModel",
            "_view_count": null,
            "_view_module": "jupyter-leaflet",
            "_view_module_version": "^0.18",
            "_view_name": "LeafletScaleControlView",
            "imperial": true,
            "max_width": 100,
            "metric": true,
            "options": [
              "imperial",
              "max_width",
              "metric",
              "position",
              "update_when_idle"
            ],
            "position": "bottomleft",
            "update_when_idle": false
          }
        },
        "14ae4467140d48dd8da1050a882e3d1f": {
          "model_module": "jupyter-leaflet",
          "model_name": "LeafletMeasureControlModel",
          "model_module_version": "^0.18",
          "state": {
            "_custom_units": {},
            "_model_module": "jupyter-leaflet",
            "_model_module_version": "^0.18",
            "_model_name": "LeafletMeasureControlModel",
            "_view_count": null,
            "_view_module": "jupyter-leaflet",
            "_view_module_version": "^0.18",
            "_view_name": "LeafletMeasureControlView",
            "active_color": "orange",
            "capture_z_index": 10000,
            "completed_color": "#C8F2BE",
            "options": [
              "active_color",
              "capture_z_index",
              "completed_color",
              "popup_options",
              "position",
              "primary_area_unit",
              "primary_length_unit",
              "secondary_area_unit",
              "secondary_length_unit"
            ],
            "popup_options": {
              "className": "leaflet-measure-resultpopup",
              "autoPanPadding": [
                10,
                10
              ]
            },
            "position": "bottomleft",
            "primary_area_unit": "acres",
            "primary_length_unit": "kilometers",
            "secondary_area_unit": null,
            "secondary_length_unit": null
          }
        },
        "c652b38c08ad4c92b3f73028df91a0cd": {
          "model_module": "jupyter-leaflet",
          "model_name": "LeafletWidgetControlModel",
          "model_module_version": "^0.18",
          "state": {
            "_model_module": "jupyter-leaflet",
            "_model_module_version": "^0.18",
            "_model_name": "LeafletWidgetControlModel",
            "_view_count": null,
            "_view_module": "jupyter-leaflet",
            "_view_module_version": "^0.18",
            "_view_name": "LeafletWidgetControlView",
            "max_height": null,
            "max_width": null,
            "min_height": null,
            "min_width": null,
            "options": [
              "position",
              "transparent_bg"
            ],
            "position": "topright",
            "transparent_bg": false,
            "widget": "IPY_MODEL_b69f2d6bd4a04ef3b6726ea471ca691c"
          }
        },
        "37f155298c6744e6a8b76b83580aaed7": {
          "model_module": "jupyter-leaflet",
          "model_name": "LeafletAttributionControlModel",
          "model_module_version": "^0.18",
          "state": {
            "_model_module": "jupyter-leaflet",
            "_model_module_version": "^0.18",
            "_model_name": "LeafletAttributionControlModel",
            "_view_count": null,
            "_view_module": "jupyter-leaflet",
            "_view_module_version": "^0.18",
            "_view_name": "LeafletAttributionControlView",
            "options": [
              "position",
              "prefix"
            ],
            "position": "bottomright",
            "prefix": "ipyleaflet"
          }
        },
        "a03965f2572e4bf4bfde437ff7b4de29": {
          "model_module": "jupyter-leaflet",
          "model_name": "LeafletWidgetControlModel",
          "model_module_version": "^0.18",
          "state": {
            "_model_module": "jupyter-leaflet",
            "_model_module_version": "^0.18",
            "_model_name": "LeafletWidgetControlModel",
            "_view_count": null,
            "_view_module": "jupyter-leaflet",
            "_view_module_version": "^0.18",
            "_view_name": "LeafletWidgetControlView",
            "max_height": null,
            "max_width": null,
            "min_height": null,
            "min_width": null,
            "options": [
              "position",
              "transparent_bg"
            ],
            "position": "bottomright",
            "transparent_bg": false,
            "widget": "IPY_MODEL_9a99776e1c584b06bbd61f37fe119633"
          }
        },
        "f6cbcb2108dd40c7b6b6d562bea318d5": {
          "model_module": "jupyter-leaflet",
          "model_name": "LeafletMapStyleModel",
          "model_module_version": "^0.18",
          "state": {
            "_model_module": "jupyter-leaflet",
            "_model_module_version": "^0.18",
            "_model_name": "LeafletMapStyleModel",
            "_view_count": null,
            "_view_module": "@jupyter-widgets/base",
            "_view_module_version": "1.2.0",
            "_view_name": "StyleView",
            "cursor": "grab"
          }
        },
        "1b28a625dd8441d1b2cad26a934242a7": {
          "model_module": "jupyter-leaflet",
          "model_name": "LeafletMapStyleModel",
          "model_module_version": "^0.18",
          "state": {
            "_model_module": "jupyter-leaflet",
            "_model_module_version": "^0.18",
            "_model_name": "LeafletMapStyleModel",
            "_view_count": null,
            "_view_module": "@jupyter-widgets/base",
            "_view_module_version": "1.2.0",
            "_view_name": "StyleView",
            "cursor": "move"
          }
        },
        "92e02af3bc4749708525ba14aa2c0f4e": {
          "model_module": "jupyter-leaflet",
          "model_name": "LeafletTileLayerModel",
          "model_module_version": "^0.18",
          "state": {
            "_model_module": "jupyter-leaflet",
            "_model_module_version": "^0.18",
            "_model_name": "LeafletTileLayerModel",
            "_view_count": null,
            "_view_module": "jupyter-leaflet",
            "_view_module_version": "^0.18",
            "_view_name": "LeafletTileLayerView",
            "attribution": "&copy; <a href=\"https://www.openstreetmap.org/copyright\">OpenStreetMap</a> contributors",
            "base": true,
            "bottom": true,
            "bounds": null,
            "detect_retina": false,
            "loading": false,
            "max_native_zoom": null,
            "max_zoom": 19,
            "min_native_zoom": null,
            "min_zoom": 1,
            "name": "OpenStreetMap.Mapnik",
            "no_wrap": false,
            "opacity": 1,
            "options": [
              "attribution",
              "bounds",
              "detect_retina",
              "max_native_zoom",
              "max_zoom",
              "min_native_zoom",
              "min_zoom",
              "no_wrap",
              "tile_size",
              "tms",
              "zoom_offset"
            ],
            "pane": "",
            "popup": null,
            "popup_max_height": null,
            "popup_max_width": 300,
            "popup_min_width": 50,
            "show_loading": false,
            "subitems": [],
            "tile_size": 256,
            "tms": false,
            "url": "https://tile.openstreetmap.org/{z}/{x}/{y}.png",
            "visible": true,
            "zoom_offset": 0
          }
        },
        "b0d1dd4faec74e5ea24ce77f929c1340": {
          "model_module": "jupyter-leaflet",
          "model_name": "LeafletTileLayerModel",
          "model_module_version": "^0.18",
          "state": {
            "_model_module": "jupyter-leaflet",
            "_model_module_version": "^0.18",
            "_model_name": "LeafletTileLayerModel",
            "_view_count": null,
            "_view_module": "jupyter-leaflet",
            "_view_module_version": "^0.18",
            "_view_name": "LeafletTileLayerView",
            "attribution": "Google Earth Engine",
            "base": false,
            "bottom": true,
            "bounds": null,
            "detect_retina": false,
            "loading": false,
            "max_native_zoom": null,
            "max_zoom": 24,
            "min_native_zoom": null,
            "min_zoom": 0,
            "name": "bio09",
            "no_wrap": false,
            "opacity": 1,
            "options": [
              "attribution",
              "bounds",
              "detect_retina",
              "max_native_zoom",
              "max_zoom",
              "min_native_zoom",
              "min_zoom",
              "no_wrap",
              "tile_size",
              "tms",
              "zoom_offset"
            ],
            "pane": "",
            "popup": null,
            "popup_max_height": null,
            "popup_max_width": 300,
            "popup_min_width": 50,
            "show_loading": false,
            "subitems": [],
            "tile_size": 256,
            "tms": false,
            "url": "https://earthengine.googleapis.com/v1/projects/ee-foss4g/maps/938080672f0c72dfc9017dfa9d60ce90-be7d2ab132935daa7b78633324d42fad/tiles/{z}/{x}/{y}",
            "visible": true,
            "zoom_offset": 0
          }
        },
        "f0cb3dd39da642b99abf5052f440bacb": {
          "model_module": "@jupyter-widgets/base",
          "model_name": "LayoutModel",
          "model_module_version": "1.2.0",
          "state": {
            "_model_module": "@jupyter-widgets/base",
            "_model_module_version": "1.2.0",
            "_model_name": "LayoutModel",
            "_view_count": null,
            "_view_module": "@jupyter-widgets/base",
            "_view_module_version": "1.2.0",
            "_view_name": "LayoutView",
            "align_content": null,
            "align_items": null,
            "align_self": null,
            "border": null,
            "bottom": null,
            "display": null,
            "flex": null,
            "flex_flow": null,
            "grid_area": null,
            "grid_auto_columns": null,
            "grid_auto_flow": null,
            "grid_auto_rows": null,
            "grid_column": null,
            "grid_gap": null,
            "grid_row": null,
            "grid_template_areas": null,
            "grid_template_columns": null,
            "grid_template_rows": null,
            "height": "400px",
            "justify_content": null,
            "justify_items": null,
            "left": null,
            "margin": null,
            "max_height": null,
            "max_width": null,
            "min_height": null,
            "min_width": null,
            "object_fit": null,
            "object_position": null,
            "order": null,
            "overflow": null,
            "overflow_x": null,
            "overflow_y": null,
            "padding": null,
            "right": null,
            "top": null,
            "visibility": null,
            "width": "800px"
          }
        },
        "46ad8678a6bd459cbc7d396ddee2b327": {
          "model_module": "jupyter-leaflet",
          "model_name": "LeafletMapStyleModel",
          "model_module_version": "^0.18",
          "state": {
            "_model_module": "jupyter-leaflet",
            "_model_module_version": "^0.18",
            "_model_name": "LeafletMapStyleModel",
            "_view_count": null,
            "_view_module": "@jupyter-widgets/base",
            "_view_module_version": "1.2.0",
            "_view_name": "StyleView",
            "cursor": "grab"
          }
        },
        "5d0af4f078394157be6e92f0190b942c": {
          "model_module": "@jupyter-widgets/controls",
          "model_name": "HBoxModel",
          "model_module_version": "1.5.0",
          "state": {
            "_dom_classes": [
              "geemap-colab"
            ],
            "_model_module": "@jupyter-widgets/controls",
            "_model_module_version": "1.5.0",
            "_model_name": "HBoxModel",
            "_view_count": null,
            "_view_module": "@jupyter-widgets/controls",
            "_view_module_version": "1.5.0",
            "_view_name": "HBoxView",
            "box_style": "",
            "children": [
              "IPY_MODEL_b557aa2ee46f4a60aee603aa5b5a3149"
            ],
            "layout": "IPY_MODEL_f60327489fdb45ae94cd8ce13400d596"
          }
        },
        "b69f2d6bd4a04ef3b6726ea471ca691c": {
          "model_module": "@jupyter-widgets/controls",
          "model_name": "VBoxModel",
          "model_module_version": "1.5.0",
          "state": {
            "_dom_classes": [
              "geemap-colab"
            ],
            "_model_module": "@jupyter-widgets/controls",
            "_model_module_version": "1.5.0",
            "_model_name": "VBoxModel",
            "_view_count": null,
            "_view_module": "@jupyter-widgets/controls",
            "_view_module_version": "1.5.0",
            "_view_name": "VBoxView",
            "box_style": "",
            "children": [
              "IPY_MODEL_8d42ec0b5c3946d98b10a4e96d166e75"
            ],
            "layout": "IPY_MODEL_e2a4da0990e3425d94bc048f4060881f"
          }
        },
        "9a99776e1c584b06bbd61f37fe119633": {
          "model_module": "@jupyter-widgets/output",
          "model_name": "OutputModel",
          "model_module_version": "1.0.0",
          "state": {
            "_dom_classes": [
              "geemap-colab"
            ],
            "_model_module": "@jupyter-widgets/output",
            "_model_module_version": "1.0.0",
            "_model_name": "OutputModel",
            "_view_count": null,
            "_view_module": "@jupyter-widgets/output",
            "_view_module_version": "1.0.0",
            "_view_name": "OutputView",
            "layout": "IPY_MODEL_1925d36fceba457cb86afa48c9a1e0e2",
            "msg_id": "",
            "outputs": [
              {
                "output_type": "display_data",
                "data": {
                  "text/plain": "<Figure size 30x300 with 1 Axes>",
                  "image/png": "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\n"
                },
                "metadata": {}
              }
            ]
          }
        },
        "b557aa2ee46f4a60aee603aa5b5a3149": {
          "model_module": "@jupyter-widgets/controls",
          "model_name": "ToggleButtonModel",
          "model_module_version": "1.5.0",
          "state": {
            "_dom_classes": [],
            "_model_module": "@jupyter-widgets/controls",
            "_model_module_version": "1.5.0",
            "_model_name": "ToggleButtonModel",
            "_view_count": null,
            "_view_module": "@jupyter-widgets/controls",
            "_view_module_version": "1.5.0",
            "_view_name": "ToggleButtonView",
            "button_style": "",
            "description": "",
            "description_tooltip": null,
            "disabled": false,
            "icon": "globe",
            "layout": "IPY_MODEL_673225469b184456a53ecffe33e52a7d",
            "style": "IPY_MODEL_d4e7fb020e1d441e9ddcb647bde34305",
            "tooltip": "Search location/data",
            "value": false
          }
        },
        "f60327489fdb45ae94cd8ce13400d596": {
          "model_module": "@jupyter-widgets/base",
          "model_name": "LayoutModel",
          "model_module_version": "1.2.0",
          "state": {
            "_model_module": "@jupyter-widgets/base",
            "_model_module_version": "1.2.0",
            "_model_name": "LayoutModel",
            "_view_count": null,
            "_view_module": "@jupyter-widgets/base",
            "_view_module_version": "1.2.0",
            "_view_name": "LayoutView",
            "align_content": null,
            "align_items": null,
            "align_self": null,
            "border": null,
            "bottom": null,
            "display": null,
            "flex": null,
            "flex_flow": null,
            "grid_area": null,
            "grid_auto_columns": null,
            "grid_auto_flow": null,
            "grid_auto_rows": null,
            "grid_column": null,
            "grid_gap": null,
            "grid_row": null,
            "grid_template_areas": null,
            "grid_template_columns": null,
            "grid_template_rows": null,
            "height": null,
            "justify_content": null,
            "justify_items": null,
            "left": null,
            "margin": null,
            "max_height": null,
            "max_width": null,
            "min_height": null,
            "min_width": null,
            "object_fit": null,
            "object_position": null,
            "order": null,
            "overflow": null,
            "overflow_x": null,
            "overflow_y": null,
            "padding": null,
            "right": null,
            "top": null,
            "visibility": null,
            "width": null
          }
        },
        "8d42ec0b5c3946d98b10a4e96d166e75": {
          "model_module": "@jupyter-widgets/controls",
          "model_name": "ToggleButtonModel",
          "model_module_version": "1.5.0",
          "state": {
            "_dom_classes": [],
            "_model_module": "@jupyter-widgets/controls",
            "_model_module_version": "1.5.0",
            "_model_name": "ToggleButtonModel",
            "_view_count": null,
            "_view_module": "@jupyter-widgets/controls",
            "_view_module_version": "1.5.0",
            "_view_name": "ToggleButtonView",
            "button_style": "",
            "description": "",
            "description_tooltip": null,
            "disabled": false,
            "icon": "wrench",
            "layout": "IPY_MODEL_df5bc3c76f164d98be44c4be8e5cb02a",
            "style": "IPY_MODEL_a7c32d815169450a97d0affcc5928d84",
            "tooltip": "Toolbar",
            "value": false
          }
        },
        "e2a4da0990e3425d94bc048f4060881f": {
          "model_module": "@jupyter-widgets/base",
          "model_name": "LayoutModel",
          "model_module_version": "1.2.0",
          "state": {
            "_model_module": "@jupyter-widgets/base",
            "_model_module_version": "1.2.0",
            "_model_name": "LayoutModel",
            "_view_count": null,
            "_view_module": "@jupyter-widgets/base",
            "_view_module_version": "1.2.0",
            "_view_name": "LayoutView",
            "align_content": null,
            "align_items": null,
            "align_self": null,
            "border": null,
            "bottom": null,
            "display": null,
            "flex": null,
            "flex_flow": null,
            "grid_area": null,
            "grid_auto_columns": null,
            "grid_auto_flow": null,
            "grid_auto_rows": null,
            "grid_column": null,
            "grid_gap": null,
            "grid_row": null,
            "grid_template_areas": null,
            "grid_template_columns": null,
            "grid_template_rows": null,
            "height": null,
            "justify_content": null,
            "justify_items": null,
            "left": null,
            "margin": null,
            "max_height": null,
            "max_width": null,
            "min_height": null,
            "min_width": null,
            "object_fit": null,
            "object_position": null,
            "order": null,
            "overflow": null,
            "overflow_x": null,
            "overflow_y": null,
            "padding": null,
            "right": null,
            "top": null,
            "visibility": null,
            "width": null
          }
        },
        "1925d36fceba457cb86afa48c9a1e0e2": {
          "model_module": "@jupyter-widgets/base",
          "model_name": "LayoutModel",
          "model_module_version": "1.2.0",
          "state": {
            "_model_module": "@jupyter-widgets/base",
            "_model_module_version": "1.2.0",
            "_model_name": "LayoutModel",
            "_view_count": null,
            "_view_module": "@jupyter-widgets/base",
            "_view_module_version": "1.2.0",
            "_view_name": "LayoutView",
            "align_content": null,
            "align_items": null,
            "align_self": null,
            "border": null,
            "bottom": null,
            "display": null,
            "flex": null,
            "flex_flow": null,
            "grid_area": null,
            "grid_auto_columns": null,
            "grid_auto_flow": null,
            "grid_auto_rows": null,
            "grid_column": null,
            "grid_gap": null,
            "grid_row": null,
            "grid_template_areas": null,
            "grid_template_columns": null,
            "grid_template_rows": null,
            "height": null,
            "justify_content": null,
            "justify_items": null,
            "left": null,
            "margin": null,
            "max_height": null,
            "max_width": null,
            "min_height": null,
            "min_width": null,
            "object_fit": null,
            "object_position": null,
            "order": null,
            "overflow": null,
            "overflow_x": null,
            "overflow_y": null,
            "padding": null,
            "right": null,
            "top": null,
            "visibility": null,
            "width": "100px"
          }
        },
        "673225469b184456a53ecffe33e52a7d": {
          "model_module": "@jupyter-widgets/base",
          "model_name": "LayoutModel",
          "model_module_version": "1.2.0",
          "state": {
            "_model_module": "@jupyter-widgets/base",
            "_model_module_version": "1.2.0",
            "_model_name": "LayoutModel",
            "_view_count": null,
            "_view_module": "@jupyter-widgets/base",
            "_view_module_version": "1.2.0",
            "_view_name": "LayoutView",
            "align_content": null,
            "align_items": null,
            "align_self": null,
            "border": null,
            "bottom": null,
            "display": null,
            "flex": null,
            "flex_flow": null,
            "grid_area": null,
            "grid_auto_columns": null,
            "grid_auto_flow": null,
            "grid_auto_rows": null,
            "grid_column": null,
            "grid_gap": null,
            "grid_row": null,
            "grid_template_areas": null,
            "grid_template_columns": null,
            "grid_template_rows": null,
            "height": "28px",
            "justify_content": null,
            "justify_items": null,
            "left": null,
            "margin": null,
            "max_height": null,
            "max_width": null,
            "min_height": null,
            "min_width": null,
            "object_fit": null,
            "object_position": null,
            "order": null,
            "overflow": null,
            "overflow_x": null,
            "overflow_y": null,
            "padding": "0px 0px 0px 4px",
            "right": null,
            "top": null,
            "visibility": null,
            "width": "28px"
          }
        },
        "d4e7fb020e1d441e9ddcb647bde34305": {
          "model_module": "@jupyter-widgets/controls",
          "model_name": "DescriptionStyleModel",
          "model_module_version": "1.5.0",
          "state": {
            "_model_module": "@jupyter-widgets/controls",
            "_model_module_version": "1.5.0",
            "_model_name": "DescriptionStyleModel",
            "_view_count": null,
            "_view_module": "@jupyter-widgets/base",
            "_view_module_version": "1.2.0",
            "_view_name": "StyleView",
            "description_width": ""
          }
        },
        "df5bc3c76f164d98be44c4be8e5cb02a": {
          "model_module": "@jupyter-widgets/base",
          "model_name": "LayoutModel",
          "model_module_version": "1.2.0",
          "state": {
            "_model_module": "@jupyter-widgets/base",
            "_model_module_version": "1.2.0",
            "_model_name": "LayoutModel",
            "_view_count": null,
            "_view_module": "@jupyter-widgets/base",
            "_view_module_version": "1.2.0",
            "_view_name": "LayoutView",
            "align_content": null,
            "align_items": null,
            "align_self": null,
            "border": null,
            "bottom": null,
            "display": null,
            "flex": null,
            "flex_flow": null,
            "grid_area": null,
            "grid_auto_columns": null,
            "grid_auto_flow": null,
            "grid_auto_rows": null,
            "grid_column": null,
            "grid_gap": null,
            "grid_row": null,
            "grid_template_areas": null,
            "grid_template_columns": null,
            "grid_template_rows": null,
            "height": "28px",
            "justify_content": null,
            "justify_items": null,
            "left": null,
            "margin": null,
            "max_height": null,
            "max_width": null,
            "min_height": null,
            "min_width": null,
            "object_fit": null,
            "object_position": null,
            "order": null,
            "overflow": null,
            "overflow_x": null,
            "overflow_y": null,
            "padding": "0px 0px 0px 4px",
            "right": null,
            "top": null,
            "visibility": null,
            "width": "28px"
          }
        },
        "a7c32d815169450a97d0affcc5928d84": {
          "model_module": "@jupyter-widgets/controls",
          "model_name": "DescriptionStyleModel",
          "model_module_version": "1.5.0",
          "state": {
            "_model_module": "@jupyter-widgets/controls",
            "_model_module_version": "1.5.0",
            "_model_name": "DescriptionStyleModel",
            "_view_count": null,
            "_view_module": "@jupyter-widgets/base",
            "_view_module_version": "1.2.0",
            "_view_name": "StyleView",
            "description_width": ""
          }
        },
        "43d011ee04344ac1844329fa726fe3bb": {
          "model_module": "jupyter-leaflet",
          "model_name": "LeafletMapModel",
          "model_module_version": "^0.18",
          "state": {
            "_dom_classes": [],
            "_model_module": "jupyter-leaflet",
            "_model_module_version": "^0.18",
            "_model_name": "LeafletMapModel",
            "_view_count": null,
            "_view_module": "jupyter-leaflet",
            "_view_module_version": "^0.18",
            "_view_name": "LeafletMapView",
            "bottom": 6656,
            "bounce_at_zoom_limits": true,
            "box_zoom": true,
            "center": [
              35.60541125576072,
              127.04873061439156
            ],
            "close_popup_on_click": true,
            "controls": [
              "IPY_MODEL_4ed10ef3ad4f4065bcfd7c4ad9f1a843",
              "IPY_MODEL_61e7b7ba61af4241954858a60ef8b3db",
              "IPY_MODEL_70c5b3669ccc45718a5feecf4649a4dc",
              "IPY_MODEL_ee499923dbc5486882f1b14b1af903bd",
              "IPY_MODEL_9f673ec4908c40fd952c483a812c669c",
              "IPY_MODEL_a5edd22b9ccf4d63bd280de5cdc868b1",
              "IPY_MODEL_ee62e3429ce84b2e9e13e5bfa7216dac",
              "IPY_MODEL_70c35dbb1387431d858f98d7f9ffd63b",
              "IPY_MODEL_d7ebde893da64495a7f01176aec3f876"
            ],
            "crs": {
              "name": "EPSG3857",
              "custom": false
            },
            "default_style": "IPY_MODEL_548cc797436649caa083f4fff4fa25dc",
            "double_click_zoom": true,
            "dragging": true,
            "dragging_style": "IPY_MODEL_17ccc19410d74ee991acd4e0a9411ee5",
            "east": 135.83496093750003,
            "fullscreen": false,
            "inertia": true,
            "inertia_deceleration": 3000,
            "inertia_max_speed": 1500,
            "interpolation": "bilinear",
            "keyboard": true,
            "keyboard_pan_offset": 80,
            "keyboard_zoom_offset": 1,
            "layers": [
              "IPY_MODEL_457014aed6b34f2c9aba02c3b3367d7c",
              "IPY_MODEL_a345678a69b14f24ae0b169af613f78c"
            ],
            "layout": "IPY_MODEL_9c973d412cc14f9ea415066d9cb34e48",
            "left": 13574,
            "max_zoom": 24,
            "min_zoom": null,
            "modisdate": "2024-05-25",
            "north": 39.095962936305476,
            "options": [
              "bounce_at_zoom_limits",
              "box_zoom",
              "center",
              "close_popup_on_click",
              "double_click_zoom",
              "dragging",
              "fullscreen",
              "inertia",
              "inertia_deceleration",
              "inertia_max_speed",
              "interpolation",
              "keyboard",
              "keyboard_pan_offset",
              "keyboard_zoom_offset",
              "max_zoom",
              "min_zoom",
              "prefer_canvas",
              "scroll_wheel_zoom",
              "tap",
              "tap_tolerance",
              "touch_zoom",
              "world_copy_jump",
              "zoom",
              "zoom_animation_threshold",
              "zoom_delta",
              "zoom_snap"
            ],
            "panes": {},
            "prefer_canvas": false,
            "right": 14374,
            "scroll_wheel_zoom": true,
            "south": 31.952162238024975,
            "style": "IPY_MODEL_53f9ca75375e4ce3bf913d61acd5a490",
            "tap": true,
            "tap_tolerance": 15,
            "top": 6256,
            "touch_zoom": true,
            "west": 118.25683593750001,
            "window_url": "https://ioysqj54nq-496ff2e9c6d22116-0-colab.googleusercontent.com/outputframe.html?vrz=colab_20240523-060110_RC00_636443439",
            "world_copy_jump": false,
            "zoom": 6,
            "zoom_animation_threshold": 4,
            "zoom_delta": 1,
            "zoom_snap": 1
          }
        },
        "4ed10ef3ad4f4065bcfd7c4ad9f1a843": {
          "model_module": "jupyter-leaflet",
          "model_name": "LeafletWidgetControlModel",
          "model_module_version": "^0.18",
          "state": {
            "_model_module": "jupyter-leaflet",
            "_model_module_version": "^0.18",
            "_model_name": "LeafletWidgetControlModel",
            "_view_count": null,
            "_view_module": "jupyter-leaflet",
            "_view_module_version": "^0.18",
            "_view_name": "LeafletWidgetControlView",
            "max_height": null,
            "max_width": null,
            "min_height": null,
            "min_width": null,
            "options": [
              "position",
              "transparent_bg"
            ],
            "position": "topleft",
            "transparent_bg": false,
            "widget": "IPY_MODEL_912a9adc32cd49e393e68d34f043bda4"
          }
        },
        "61e7b7ba61af4241954858a60ef8b3db": {
          "model_module": "jupyter-leaflet",
          "model_name": "LeafletZoomControlModel",
          "model_module_version": "^0.18",
          "state": {
            "_model_module": "jupyter-leaflet",
            "_model_module_version": "^0.18",
            "_model_name": "LeafletZoomControlModel",
            "_view_count": null,
            "_view_module": "jupyter-leaflet",
            "_view_module_version": "^0.18",
            "_view_name": "LeafletZoomControlView",
            "options": [
              "position",
              "zoom_in_text",
              "zoom_in_title",
              "zoom_out_text",
              "zoom_out_title"
            ],
            "position": "topleft",
            "zoom_in_text": "+",
            "zoom_in_title": "Zoom in",
            "zoom_out_text": "-",
            "zoom_out_title": "Zoom out"
          }
        },
        "70c5b3669ccc45718a5feecf4649a4dc": {
          "model_module": "jupyter-leaflet",
          "model_name": "LeafletFullScreenControlModel",
          "model_module_version": "^0.18",
          "state": {
            "_model_module": "jupyter-leaflet",
            "_model_module_version": "^0.18",
            "_model_name": "LeafletFullScreenControlModel",
            "_view_count": null,
            "_view_module": "jupyter-leaflet",
            "_view_module_version": "^0.18",
            "_view_name": "LeafletFullScreenControlView",
            "options": [
              "position"
            ],
            "position": "topleft"
          }
        },
        "ee499923dbc5486882f1b14b1af903bd": {
          "model_module": "jupyter-leaflet",
          "model_name": "LeafletDrawControlModel",
          "model_module_version": "^0.18",
          "state": {
            "_model_module": "jupyter-leaflet",
            "_model_module_version": "^0.18",
            "_model_name": "LeafletDrawControlModel",
            "_view_count": null,
            "_view_module": "jupyter-leaflet",
            "_view_module_version": "^0.18",
            "_view_name": "LeafletDrawControlView",
            "circle": {},
            "circlemarker": {},
            "data": [],
            "edit": true,
            "marker": {
              "shapeOptions": {
                "color": "#3388ff"
              }
            },
            "options": [
              "position"
            ],
            "polygon": {
              "shapeOptions": {}
            },
            "polyline": {
              "shapeOptions": {}
            },
            "position": "topleft",
            "rectangle": {
              "shapeOptions": {
                "color": "#3388ff"
              }
            },
            "remove": true
          }
        },
        "9f673ec4908c40fd952c483a812c669c": {
          "model_module": "jupyter-leaflet",
          "model_name": "LeafletScaleControlModel",
          "model_module_version": "^0.18",
          "state": {
            "_model_module": "jupyter-leaflet",
            "_model_module_version": "^0.18",
            "_model_name": "LeafletScaleControlModel",
            "_view_count": null,
            "_view_module": "jupyter-leaflet",
            "_view_module_version": "^0.18",
            "_view_name": "LeafletScaleControlView",
            "imperial": true,
            "max_width": 100,
            "metric": true,
            "options": [
              "imperial",
              "max_width",
              "metric",
              "position",
              "update_when_idle"
            ],
            "position": "bottomleft",
            "update_when_idle": false
          }
        },
        "a5edd22b9ccf4d63bd280de5cdc868b1": {
          "model_module": "jupyter-leaflet",
          "model_name": "LeafletMeasureControlModel",
          "model_module_version": "^0.18",
          "state": {
            "_custom_units": {},
            "_model_module": "jupyter-leaflet",
            "_model_module_version": "^0.18",
            "_model_name": "LeafletMeasureControlModel",
            "_view_count": null,
            "_view_module": "jupyter-leaflet",
            "_view_module_version": "^0.18",
            "_view_name": "LeafletMeasureControlView",
            "active_color": "orange",
            "capture_z_index": 10000,
            "completed_color": "#C8F2BE",
            "options": [
              "active_color",
              "capture_z_index",
              "completed_color",
              "popup_options",
              "position",
              "primary_area_unit",
              "primary_length_unit",
              "secondary_area_unit",
              "secondary_length_unit"
            ],
            "popup_options": {
              "className": "leaflet-measure-resultpopup",
              "autoPanPadding": [
                10,
                10
              ]
            },
            "position": "bottomleft",
            "primary_area_unit": "acres",
            "primary_length_unit": "kilometers",
            "secondary_area_unit": null,
            "secondary_length_unit": null
          }
        },
        "ee62e3429ce84b2e9e13e5bfa7216dac": {
          "model_module": "jupyter-leaflet",
          "model_name": "LeafletWidgetControlModel",
          "model_module_version": "^0.18",
          "state": {
            "_model_module": "jupyter-leaflet",
            "_model_module_version": "^0.18",
            "_model_name": "LeafletWidgetControlModel",
            "_view_count": null,
            "_view_module": "jupyter-leaflet",
            "_view_module_version": "^0.18",
            "_view_name": "LeafletWidgetControlView",
            "max_height": null,
            "max_width": null,
            "min_height": null,
            "min_width": null,
            "options": [
              "position",
              "transparent_bg"
            ],
            "position": "topright",
            "transparent_bg": false,
            "widget": "IPY_MODEL_0d62582549ad45148f687348a333ddbf"
          }
        },
        "70c35dbb1387431d858f98d7f9ffd63b": {
          "model_module": "jupyter-leaflet",
          "model_name": "LeafletAttributionControlModel",
          "model_module_version": "^0.18",
          "state": {
            "_model_module": "jupyter-leaflet",
            "_model_module_version": "^0.18",
            "_model_name": "LeafletAttributionControlModel",
            "_view_count": null,
            "_view_module": "jupyter-leaflet",
            "_view_module_version": "^0.18",
            "_view_name": "LeafletAttributionControlView",
            "options": [
              "position",
              "prefix"
            ],
            "position": "bottomright",
            "prefix": "ipyleaflet"
          }
        },
        "d7ebde893da64495a7f01176aec3f876": {
          "model_module": "jupyter-leaflet",
          "model_name": "LeafletWidgetControlModel",
          "model_module_version": "^0.18",
          "state": {
            "_model_module": "jupyter-leaflet",
            "_model_module_version": "^0.18",
            "_model_name": "LeafletWidgetControlModel",
            "_view_count": null,
            "_view_module": "jupyter-leaflet",
            "_view_module_version": "^0.18",
            "_view_name": "LeafletWidgetControlView",
            "max_height": null,
            "max_width": null,
            "min_height": null,
            "min_width": null,
            "options": [
              "position",
              "transparent_bg"
            ],
            "position": "bottomright",
            "transparent_bg": false,
            "widget": "IPY_MODEL_66a7f7c8533748a2a8415a1c5ff50c6a"
          }
        },
        "548cc797436649caa083f4fff4fa25dc": {
          "model_module": "jupyter-leaflet",
          "model_name": "LeafletMapStyleModel",
          "model_module_version": "^0.18",
          "state": {
            "_model_module": "jupyter-leaflet",
            "_model_module_version": "^0.18",
            "_model_name": "LeafletMapStyleModel",
            "_view_count": null,
            "_view_module": "@jupyter-widgets/base",
            "_view_module_version": "1.2.0",
            "_view_name": "StyleView",
            "cursor": "grab"
          }
        },
        "17ccc19410d74ee991acd4e0a9411ee5": {
          "model_module": "jupyter-leaflet",
          "model_name": "LeafletMapStyleModel",
          "model_module_version": "^0.18",
          "state": {
            "_model_module": "jupyter-leaflet",
            "_model_module_version": "^0.18",
            "_model_name": "LeafletMapStyleModel",
            "_view_count": null,
            "_view_module": "@jupyter-widgets/base",
            "_view_module_version": "1.2.0",
            "_view_name": "StyleView",
            "cursor": "move"
          }
        },
        "457014aed6b34f2c9aba02c3b3367d7c": {
          "model_module": "jupyter-leaflet",
          "model_name": "LeafletTileLayerModel",
          "model_module_version": "^0.18",
          "state": {
            "_model_module": "jupyter-leaflet",
            "_model_module_version": "^0.18",
            "_model_name": "LeafletTileLayerModel",
            "_view_count": null,
            "_view_module": "jupyter-leaflet",
            "_view_module_version": "^0.18",
            "_view_name": "LeafletTileLayerView",
            "attribution": "&copy; <a href=\"https://www.openstreetmap.org/copyright\">OpenStreetMap</a> contributors",
            "base": true,
            "bottom": true,
            "bounds": null,
            "detect_retina": false,
            "loading": false,
            "max_native_zoom": null,
            "max_zoom": 19,
            "min_native_zoom": null,
            "min_zoom": 1,
            "name": "OpenStreetMap.Mapnik",
            "no_wrap": false,
            "opacity": 1,
            "options": [
              "attribution",
              "bounds",
              "detect_retina",
              "max_native_zoom",
              "max_zoom",
              "min_native_zoom",
              "min_zoom",
              "no_wrap",
              "tile_size",
              "tms",
              "zoom_offset"
            ],
            "pane": "",
            "popup": null,
            "popup_max_height": null,
            "popup_max_width": 300,
            "popup_min_width": 50,
            "show_loading": false,
            "subitems": [],
            "tile_size": 256,
            "tms": false,
            "url": "https://tile.openstreetmap.org/{z}/{x}/{y}.png",
            "visible": true,
            "zoom_offset": 0
          }
        },
        "a345678a69b14f24ae0b169af613f78c": {
          "model_module": "jupyter-leaflet",
          "model_name": "LeafletTileLayerModel",
          "model_module_version": "^0.18",
          "state": {
            "_model_module": "jupyter-leaflet",
            "_model_module_version": "^0.18",
            "_model_name": "LeafletTileLayerModel",
            "_view_count": null,
            "_view_module": "jupyter-leaflet",
            "_view_module_version": "^0.18",
            "_view_name": "LeafletTileLayerView",
            "attribution": "Google Earth Engine",
            "base": false,
            "bottom": true,
            "bounds": null,
            "detect_retina": false,
            "loading": false,
            "max_native_zoom": null,
            "max_zoom": 24,
            "min_native_zoom": null,
            "min_zoom": 0,
            "name": "slope",
            "no_wrap": false,
            "opacity": 1,
            "options": [
              "attribution",
              "bounds",
              "detect_retina",
              "max_native_zoom",
              "max_zoom",
              "min_native_zoom",
              "min_zoom",
              "no_wrap",
              "tile_size",
              "tms",
              "zoom_offset"
            ],
            "pane": "",
            "popup": null,
            "popup_max_height": null,
            "popup_max_width": 300,
            "popup_min_width": 50,
            "show_loading": false,
            "subitems": [],
            "tile_size": 256,
            "tms": false,
            "url": "https://earthengine.googleapis.com/v1/projects/ee-foss4g/maps/bd058a526b8dae9c5a2819f765e06aa2-4f34b6c78c1a9259ef32c101a292843d/tiles/{z}/{x}/{y}",
            "visible": true,
            "zoom_offset": 0
          }
        },
        "9c973d412cc14f9ea415066d9cb34e48": {
          "model_module": "@jupyter-widgets/base",
          "model_name": "LayoutModel",
          "model_module_version": "1.2.0",
          "state": {
            "_model_module": "@jupyter-widgets/base",
            "_model_module_version": "1.2.0",
            "_model_name": "LayoutModel",
            "_view_count": null,
            "_view_module": "@jupyter-widgets/base",
            "_view_module_version": "1.2.0",
            "_view_name": "LayoutView",
            "align_content": null,
            "align_items": null,
            "align_self": null,
            "border": null,
            "bottom": null,
            "display": null,
            "flex": null,
            "flex_flow": null,
            "grid_area": null,
            "grid_auto_columns": null,
            "grid_auto_flow": null,
            "grid_auto_rows": null,
            "grid_column": null,
            "grid_gap": null,
            "grid_row": null,
            "grid_template_areas": null,
            "grid_template_columns": null,
            "grid_template_rows": null,
            "height": "400px",
            "justify_content": null,
            "justify_items": null,
            "left": null,
            "margin": null,
            "max_height": null,
            "max_width": null,
            "min_height": null,
            "min_width": null,
            "object_fit": null,
            "object_position": null,
            "order": null,
            "overflow": null,
            "overflow_x": null,
            "overflow_y": null,
            "padding": null,
            "right": null,
            "top": null,
            "visibility": null,
            "width": "800px"
          }
        },
        "53f9ca75375e4ce3bf913d61acd5a490": {
          "model_module": "jupyter-leaflet",
          "model_name": "LeafletMapStyleModel",
          "model_module_version": "^0.18",
          "state": {
            "_model_module": "jupyter-leaflet",
            "_model_module_version": "^0.18",
            "_model_name": "LeafletMapStyleModel",
            "_view_count": null,
            "_view_module": "@jupyter-widgets/base",
            "_view_module_version": "1.2.0",
            "_view_name": "StyleView",
            "cursor": "grab"
          }
        },
        "912a9adc32cd49e393e68d34f043bda4": {
          "model_module": "@jupyter-widgets/controls",
          "model_name": "HBoxModel",
          "model_module_version": "1.5.0",
          "state": {
            "_dom_classes": [
              "geemap-colab"
            ],
            "_model_module": "@jupyter-widgets/controls",
            "_model_module_version": "1.5.0",
            "_model_name": "HBoxModel",
            "_view_count": null,
            "_view_module": "@jupyter-widgets/controls",
            "_view_module_version": "1.5.0",
            "_view_name": "HBoxView",
            "box_style": "",
            "children": [
              "IPY_MODEL_7adf6c58682b41518b6069254f429665"
            ],
            "layout": "IPY_MODEL_b5b5caf7c9f547c78ceebd5ed1aa06aa"
          }
        },
        "0d62582549ad45148f687348a333ddbf": {
          "model_module": "@jupyter-widgets/controls",
          "model_name": "VBoxModel",
          "model_module_version": "1.5.0",
          "state": {
            "_dom_classes": [
              "geemap-colab"
            ],
            "_model_module": "@jupyter-widgets/controls",
            "_model_module_version": "1.5.0",
            "_model_name": "VBoxModel",
            "_view_count": null,
            "_view_module": "@jupyter-widgets/controls",
            "_view_module_version": "1.5.0",
            "_view_name": "VBoxView",
            "box_style": "",
            "children": [
              "IPY_MODEL_1e81c4bec4a64245b12cfd11779a7b0a"
            ],
            "layout": "IPY_MODEL_2070dc22c1a94e2c99d082e4761fe2e1"
          }
        },
        "66a7f7c8533748a2a8415a1c5ff50c6a": {
          "model_module": "@jupyter-widgets/output",
          "model_name": "OutputModel",
          "model_module_version": "1.0.0",
          "state": {
            "_dom_classes": [
              "geemap-colab"
            ],
            "_model_module": "@jupyter-widgets/output",
            "_model_module_version": "1.0.0",
            "_model_name": "OutputModel",
            "_view_count": null,
            "_view_module": "@jupyter-widgets/output",
            "_view_module_version": "1.0.0",
            "_view_name": "OutputView",
            "layout": "IPY_MODEL_65ad010deaf247aa8f65264b042f3e3b",
            "msg_id": "",
            "outputs": [
              {
                "output_type": "display_data",
                "data": {
                  "text/plain": "<Figure size 30x300 with 1 Axes>",
                  "image/png": "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\n"
                },
                "metadata": {}
              }
            ]
          }
        },
        "7adf6c58682b41518b6069254f429665": {
          "model_module": "@jupyter-widgets/controls",
          "model_name": "ToggleButtonModel",
          "model_module_version": "1.5.0",
          "state": {
            "_dom_classes": [],
            "_model_module": "@jupyter-widgets/controls",
            "_model_module_version": "1.5.0",
            "_model_name": "ToggleButtonModel",
            "_view_count": null,
            "_view_module": "@jupyter-widgets/controls",
            "_view_module_version": "1.5.0",
            "_view_name": "ToggleButtonView",
            "button_style": "",
            "description": "",
            "description_tooltip": null,
            "disabled": false,
            "icon": "globe",
            "layout": "IPY_MODEL_d77abc9c7d91412cafe5cd3cd2d87d15",
            "style": "IPY_MODEL_a60860fbdd8242ed866c54595bac7f50",
            "tooltip": "Search location/data",
            "value": false
          }
        },
        "b5b5caf7c9f547c78ceebd5ed1aa06aa": {
          "model_module": "@jupyter-widgets/base",
          "model_name": "LayoutModel",
          "model_module_version": "1.2.0",
          "state": {
            "_model_module": "@jupyter-widgets/base",
            "_model_module_version": "1.2.0",
            "_model_name": "LayoutModel",
            "_view_count": null,
            "_view_module": "@jupyter-widgets/base",
            "_view_module_version": "1.2.0",
            "_view_name": "LayoutView",
            "align_content": null,
            "align_items": null,
            "align_self": null,
            "border": null,
            "bottom": null,
            "display": null,
            "flex": null,
            "flex_flow": null,
            "grid_area": null,
            "grid_auto_columns": null,
            "grid_auto_flow": null,
            "grid_auto_rows": null,
            "grid_column": null,
            "grid_gap": null,
            "grid_row": null,
            "grid_template_areas": null,
            "grid_template_columns": null,
            "grid_template_rows": null,
            "height": null,
            "justify_content": null,
            "justify_items": null,
            "left": null,
            "margin": null,
            "max_height": null,
            "max_width": null,
            "min_height": null,
            "min_width": null,
            "object_fit": null,
            "object_position": null,
            "order": null,
            "overflow": null,
            "overflow_x": null,
            "overflow_y": null,
            "padding": null,
            "right": null,
            "top": null,
            "visibility": null,
            "width": null
          }
        },
        "1e81c4bec4a64245b12cfd11779a7b0a": {
          "model_module": "@jupyter-widgets/controls",
          "model_name": "ToggleButtonModel",
          "model_module_version": "1.5.0",
          "state": {
            "_dom_classes": [],
            "_model_module": "@jupyter-widgets/controls",
            "_model_module_version": "1.5.0",
            "_model_name": "ToggleButtonModel",
            "_view_count": null,
            "_view_module": "@jupyter-widgets/controls",
            "_view_module_version": "1.5.0",
            "_view_name": "ToggleButtonView",
            "button_style": "",
            "description": "",
            "description_tooltip": null,
            "disabled": false,
            "icon": "wrench",
            "layout": "IPY_MODEL_b90126c4ef5044008908d40fec5716d6",
            "style": "IPY_MODEL_3681f28fa3f4441293fbd22e004ee31d",
            "tooltip": "Toolbar",
            "value": false
          }
        },
        "2070dc22c1a94e2c99d082e4761fe2e1": {
          "model_module": "@jupyter-widgets/base",
          "model_name": "LayoutModel",
          "model_module_version": "1.2.0",
          "state": {
            "_model_module": "@jupyter-widgets/base",
            "_model_module_version": "1.2.0",
            "_model_name": "LayoutModel",
            "_view_count": null,
            "_view_module": "@jupyter-widgets/base",
            "_view_module_version": "1.2.0",
            "_view_name": "LayoutView",
            "align_content": null,
            "align_items": null,
            "align_self": null,
            "border": null,
            "bottom": null,
            "display": null,
            "flex": null,
            "flex_flow": null,
            "grid_area": null,
            "grid_auto_columns": null,
            "grid_auto_flow": null,
            "grid_auto_rows": null,
            "grid_column": null,
            "grid_gap": null,
            "grid_row": null,
            "grid_template_areas": null,
            "grid_template_columns": null,
            "grid_template_rows": null,
            "height": null,
            "justify_content": null,
            "justify_items": null,
            "left": null,
            "margin": null,
            "max_height": null,
            "max_width": null,
            "min_height": null,
            "min_width": null,
            "object_fit": null,
            "object_position": null,
            "order": null,
            "overflow": null,
            "overflow_x": null,
            "overflow_y": null,
            "padding": null,
            "right": null,
            "top": null,
            "visibility": null,
            "width": null
          }
        },
        "65ad010deaf247aa8f65264b042f3e3b": {
          "model_module": "@jupyter-widgets/base",
          "model_name": "LayoutModel",
          "model_module_version": "1.2.0",
          "state": {
            "_model_module": "@jupyter-widgets/base",
            "_model_module_version": "1.2.0",
            "_model_name": "LayoutModel",
            "_view_count": null,
            "_view_module": "@jupyter-widgets/base",
            "_view_module_version": "1.2.0",
            "_view_name": "LayoutView",
            "align_content": null,
            "align_items": null,
            "align_self": null,
            "border": null,
            "bottom": null,
            "display": null,
            "flex": null,
            "flex_flow": null,
            "grid_area": null,
            "grid_auto_columns": null,
            "grid_auto_flow": null,
            "grid_auto_rows": null,
            "grid_column": null,
            "grid_gap": null,
            "grid_row": null,
            "grid_template_areas": null,
            "grid_template_columns": null,
            "grid_template_rows": null,
            "height": null,
            "justify_content": null,
            "justify_items": null,
            "left": null,
            "margin": null,
            "max_height": null,
            "max_width": null,
            "min_height": null,
            "min_width": null,
            "object_fit": null,
            "object_position": null,
            "order": null,
            "overflow": null,
            "overflow_x": null,
            "overflow_y": null,
            "padding": null,
            "right": null,
            "top": null,
            "visibility": null,
            "width": "100px"
          }
        },
        "d77abc9c7d91412cafe5cd3cd2d87d15": {
          "model_module": "@jupyter-widgets/base",
          "model_name": "LayoutModel",
          "model_module_version": "1.2.0",
          "state": {
            "_model_module": "@jupyter-widgets/base",
            "_model_module_version": "1.2.0",
            "_model_name": "LayoutModel",
            "_view_count": null,
            "_view_module": "@jupyter-widgets/base",
            "_view_module_version": "1.2.0",
            "_view_name": "LayoutView",
            "align_content": null,
            "align_items": null,
            "align_self": null,
            "border": null,
            "bottom": null,
            "display": null,
            "flex": null,
            "flex_flow": null,
            "grid_area": null,
            "grid_auto_columns": null,
            "grid_auto_flow": null,
            "grid_auto_rows": null,
            "grid_column": null,
            "grid_gap": null,
            "grid_row": null,
            "grid_template_areas": null,
            "grid_template_columns": null,
            "grid_template_rows": null,
            "height": "28px",
            "justify_content": null,
            "justify_items": null,
            "left": null,
            "margin": null,
            "max_height": null,
            "max_width": null,
            "min_height": null,
            "min_width": null,
            "object_fit": null,
            "object_position": null,
            "order": null,
            "overflow": null,
            "overflow_x": null,
            "overflow_y": null,
            "padding": "0px 0px 0px 4px",
            "right": null,
            "top": null,
            "visibility": null,
            "width": "28px"
          }
        },
        "a60860fbdd8242ed866c54595bac7f50": {
          "model_module": "@jupyter-widgets/controls",
          "model_name": "DescriptionStyleModel",
          "model_module_version": "1.5.0",
          "state": {
            "_model_module": "@jupyter-widgets/controls",
            "_model_module_version": "1.5.0",
            "_model_name": "DescriptionStyleModel",
            "_view_count": null,
            "_view_module": "@jupyter-widgets/base",
            "_view_module_version": "1.2.0",
            "_view_name": "StyleView",
            "description_width": ""
          }
        },
        "b90126c4ef5044008908d40fec5716d6": {
          "model_module": "@jupyter-widgets/base",
          "model_name": "LayoutModel",
          "model_module_version": "1.2.0",
          "state": {
            "_model_module": "@jupyter-widgets/base",
            "_model_module_version": "1.2.0",
            "_model_name": "LayoutModel",
            "_view_count": null,
            "_view_module": "@jupyter-widgets/base",
            "_view_module_version": "1.2.0",
            "_view_name": "LayoutView",
            "align_content": null,
            "align_items": null,
            "align_self": null,
            "border": null,
            "bottom": null,
            "display": null,
            "flex": null,
            "flex_flow": null,
            "grid_area": null,
            "grid_auto_columns": null,
            "grid_auto_flow": null,
            "grid_auto_rows": null,
            "grid_column": null,
            "grid_gap": null,
            "grid_row": null,
            "grid_template_areas": null,
            "grid_template_columns": null,
            "grid_template_rows": null,
            "height": "28px",
            "justify_content": null,
            "justify_items": null,
            "left": null,
            "margin": null,
            "max_height": null,
            "max_width": null,
            "min_height": null,
            "min_width": null,
            "object_fit": null,
            "object_position": null,
            "order": null,
            "overflow": null,
            "overflow_x": null,
            "overflow_y": null,
            "padding": "0px 0px 0px 4px",
            "right": null,
            "top": null,
            "visibility": null,
            "width": "28px"
          }
        },
        "3681f28fa3f4441293fbd22e004ee31d": {
          "model_module": "@jupyter-widgets/controls",
          "model_name": "DescriptionStyleModel",
          "model_module_version": "1.5.0",
          "state": {
            "_model_module": "@jupyter-widgets/controls",
            "_model_module_version": "1.5.0",
            "_model_name": "DescriptionStyleModel",
            "_view_count": null,
            "_view_module": "@jupyter-widgets/base",
            "_view_module_version": "1.2.0",
            "_view_name": "StyleView",
            "description_width": ""
          }
        },
        "3136f74249f74704a94d711396cf63e7": {
          "model_module": "jupyter-leaflet",
          "model_name": "LeafletMapModel",
          "model_module_version": "^0.18",
          "state": {
            "_dom_classes": [],
            "_model_module": "jupyter-leaflet",
            "_model_module_version": "^0.18",
            "_model_name": "LeafletMapModel",
            "_view_count": null,
            "_view_module": "jupyter-leaflet",
            "_view_module_version": "^0.18",
            "_view_name": "LeafletMapView",
            "bottom": 6656,
            "bounce_at_zoom_limits": true,
            "box_zoom": true,
            "center": [
              35.60541125576072,
              127.04873061439156
            ],
            "close_popup_on_click": true,
            "controls": [
              "IPY_MODEL_940b62b005ac4112bac431b8cb8436b4",
              "IPY_MODEL_dfebb86675fb415db54d540ada20712a",
              "IPY_MODEL_781a8af77ba04c3a85f6120703bbbdd6",
              "IPY_MODEL_4cf2d4a70eaf4779bb3528ba45d91441",
              "IPY_MODEL_c8ac4bcf71824c688a164471ff4c01ea",
              "IPY_MODEL_a8ebfebcd2b14fec815244cc2e70963d",
              "IPY_MODEL_d3526476941a4e9aa4dad90409c98e9f",
              "IPY_MODEL_ea5a502e31914af89ef51164b6c15394",
              "IPY_MODEL_9c35d8f65fc444eaa03b0d1fe9cb9fdc"
            ],
            "crs": {
              "name": "EPSG3857",
              "custom": false
            },
            "default_style": "IPY_MODEL_697f6be4b01b4b5590e36f293edf2b86",
            "double_click_zoom": true,
            "dragging": true,
            "dragging_style": "IPY_MODEL_2263c81c6a0d4d8db105bf173422352f",
            "east": 135.83496093750003,
            "fullscreen": false,
            "inertia": true,
            "inertia_deceleration": 3000,
            "inertia_max_speed": 1500,
            "interpolation": "bilinear",
            "keyboard": true,
            "keyboard_pan_offset": 80,
            "keyboard_zoom_offset": 1,
            "layers": [
              "IPY_MODEL_2e909fde7074461999bc167d63e77443",
              "IPY_MODEL_0f06933423624744aab2b15507190c5a"
            ],
            "layout": "IPY_MODEL_cd5ff40826764218b35ae5859fe134b9",
            "left": 13574,
            "max_zoom": 24,
            "min_zoom": null,
            "modisdate": "2024-05-25",
            "north": 39.095962936305476,
            "options": [
              "bounce_at_zoom_limits",
              "box_zoom",
              "center",
              "close_popup_on_click",
              "double_click_zoom",
              "dragging",
              "fullscreen",
              "inertia",
              "inertia_deceleration",
              "inertia_max_speed",
              "interpolation",
              "keyboard",
              "keyboard_pan_offset",
              "keyboard_zoom_offset",
              "max_zoom",
              "min_zoom",
              "prefer_canvas",
              "scroll_wheel_zoom",
              "tap",
              "tap_tolerance",
              "touch_zoom",
              "world_copy_jump",
              "zoom",
              "zoom_animation_threshold",
              "zoom_delta",
              "zoom_snap"
            ],
            "panes": {},
            "prefer_canvas": false,
            "right": 14374,
            "scroll_wheel_zoom": true,
            "south": 31.952162238024975,
            "style": "IPY_MODEL_ee65851cf1e54368a12a337444fb1729",
            "tap": true,
            "tap_tolerance": 15,
            "top": 6256,
            "touch_zoom": true,
            "west": 118.25683593750001,
            "window_url": "https://ioysqj54nq-496ff2e9c6d22116-0-colab.googleusercontent.com/outputframe.html?vrz=colab_20240523-060110_RC00_636443439",
            "world_copy_jump": false,
            "zoom": 6,
            "zoom_animation_threshold": 4,
            "zoom_delta": 1,
            "zoom_snap": 1
          }
        },
        "940b62b005ac4112bac431b8cb8436b4": {
          "model_module": "jupyter-leaflet",
          "model_name": "LeafletWidgetControlModel",
          "model_module_version": "^0.18",
          "state": {
            "_model_module": "jupyter-leaflet",
            "_model_module_version": "^0.18",
            "_model_name": "LeafletWidgetControlModel",
            "_view_count": null,
            "_view_module": "jupyter-leaflet",
            "_view_module_version": "^0.18",
            "_view_name": "LeafletWidgetControlView",
            "max_height": null,
            "max_width": null,
            "min_height": null,
            "min_width": null,
            "options": [
              "position",
              "transparent_bg"
            ],
            "position": "topleft",
            "transparent_bg": false,
            "widget": "IPY_MODEL_91813c4c3e0f4d2087735f2bff85fc0c"
          }
        },
        "dfebb86675fb415db54d540ada20712a": {
          "model_module": "jupyter-leaflet",
          "model_name": "LeafletZoomControlModel",
          "model_module_version": "^0.18",
          "state": {
            "_model_module": "jupyter-leaflet",
            "_model_module_version": "^0.18",
            "_model_name": "LeafletZoomControlModel",
            "_view_count": null,
            "_view_module": "jupyter-leaflet",
            "_view_module_version": "^0.18",
            "_view_name": "LeafletZoomControlView",
            "options": [
              "position",
              "zoom_in_text",
              "zoom_in_title",
              "zoom_out_text",
              "zoom_out_title"
            ],
            "position": "topleft",
            "zoom_in_text": "+",
            "zoom_in_title": "Zoom in",
            "zoom_out_text": "-",
            "zoom_out_title": "Zoom out"
          }
        },
        "781a8af77ba04c3a85f6120703bbbdd6": {
          "model_module": "jupyter-leaflet",
          "model_name": "LeafletFullScreenControlModel",
          "model_module_version": "^0.18",
          "state": {
            "_model_module": "jupyter-leaflet",
            "_model_module_version": "^0.18",
            "_model_name": "LeafletFullScreenControlModel",
            "_view_count": null,
            "_view_module": "jupyter-leaflet",
            "_view_module_version": "^0.18",
            "_view_name": "LeafletFullScreenControlView",
            "options": [
              "position"
            ],
            "position": "topleft"
          }
        },
        "4cf2d4a70eaf4779bb3528ba45d91441": {
          "model_module": "jupyter-leaflet",
          "model_name": "LeafletDrawControlModel",
          "model_module_version": "^0.18",
          "state": {
            "_model_module": "jupyter-leaflet",
            "_model_module_version": "^0.18",
            "_model_name": "LeafletDrawControlModel",
            "_view_count": null,
            "_view_module": "jupyter-leaflet",
            "_view_module_version": "^0.18",
            "_view_name": "LeafletDrawControlView",
            "circle": {},
            "circlemarker": {},
            "data": [],
            "edit": true,
            "marker": {
              "shapeOptions": {
                "color": "#3388ff"
              }
            },
            "options": [
              "position"
            ],
            "polygon": {
              "shapeOptions": {}
            },
            "polyline": {
              "shapeOptions": {}
            },
            "position": "topleft",
            "rectangle": {
              "shapeOptions": {
                "color": "#3388ff"
              }
            },
            "remove": true
          }
        },
        "c8ac4bcf71824c688a164471ff4c01ea": {
          "model_module": "jupyter-leaflet",
          "model_name": "LeafletScaleControlModel",
          "model_module_version": "^0.18",
          "state": {
            "_model_module": "jupyter-leaflet",
            "_model_module_version": "^0.18",
            "_model_name": "LeafletScaleControlModel",
            "_view_count": null,
            "_view_module": "jupyter-leaflet",
            "_view_module_version": "^0.18",
            "_view_name": "LeafletScaleControlView",
            "imperial": true,
            "max_width": 100,
            "metric": true,
            "options": [
              "imperial",
              "max_width",
              "metric",
              "position",
              "update_when_idle"
            ],
            "position": "bottomleft",
            "update_when_idle": false
          }
        },
        "a8ebfebcd2b14fec815244cc2e70963d": {
          "model_module": "jupyter-leaflet",
          "model_name": "LeafletMeasureControlModel",
          "model_module_version": "^0.18",
          "state": {
            "_custom_units": {},
            "_model_module": "jupyter-leaflet",
            "_model_module_version": "^0.18",
            "_model_name": "LeafletMeasureControlModel",
            "_view_count": null,
            "_view_module": "jupyter-leaflet",
            "_view_module_version": "^0.18",
            "_view_name": "LeafletMeasureControlView",
            "active_color": "orange",
            "capture_z_index": 10000,
            "completed_color": "#C8F2BE",
            "options": [
              "active_color",
              "capture_z_index",
              "completed_color",
              "popup_options",
              "position",
              "primary_area_unit",
              "primary_length_unit",
              "secondary_area_unit",
              "secondary_length_unit"
            ],
            "popup_options": {
              "className": "leaflet-measure-resultpopup",
              "autoPanPadding": [
                10,
                10
              ]
            },
            "position": "bottomleft",
            "primary_area_unit": "acres",
            "primary_length_unit": "kilometers",
            "secondary_area_unit": null,
            "secondary_length_unit": null
          }
        },
        "d3526476941a4e9aa4dad90409c98e9f": {
          "model_module": "jupyter-leaflet",
          "model_name": "LeafletWidgetControlModel",
          "model_module_version": "^0.18",
          "state": {
            "_model_module": "jupyter-leaflet",
            "_model_module_version": "^0.18",
            "_model_name": "LeafletWidgetControlModel",
            "_view_count": null,
            "_view_module": "jupyter-leaflet",
            "_view_module_version": "^0.18",
            "_view_name": "LeafletWidgetControlView",
            "max_height": null,
            "max_width": null,
            "min_height": null,
            "min_width": null,
            "options": [
              "position",
              "transparent_bg"
            ],
            "position": "topright",
            "transparent_bg": false,
            "widget": "IPY_MODEL_951767dec7f1444297b0729ba97fa523"
          }
        },
        "ea5a502e31914af89ef51164b6c15394": {
          "model_module": "jupyter-leaflet",
          "model_name": "LeafletAttributionControlModel",
          "model_module_version": "^0.18",
          "state": {
            "_model_module": "jupyter-leaflet",
            "_model_module_version": "^0.18",
            "_model_name": "LeafletAttributionControlModel",
            "_view_count": null,
            "_view_module": "jupyter-leaflet",
            "_view_module_version": "^0.18",
            "_view_name": "LeafletAttributionControlView",
            "options": [
              "position",
              "prefix"
            ],
            "position": "bottomright",
            "prefix": "ipyleaflet"
          }
        },
        "9c35d8f65fc444eaa03b0d1fe9cb9fdc": {
          "model_module": "jupyter-leaflet",
          "model_name": "LeafletWidgetControlModel",
          "model_module_version": "^0.18",
          "state": {
            "_model_module": "jupyter-leaflet",
            "_model_module_version": "^0.18",
            "_model_name": "LeafletWidgetControlModel",
            "_view_count": null,
            "_view_module": "jupyter-leaflet",
            "_view_module_version": "^0.18",
            "_view_name": "LeafletWidgetControlView",
            "max_height": null,
            "max_width": null,
            "min_height": null,
            "min_width": null,
            "options": [
              "position",
              "transparent_bg"
            ],
            "position": "bottomright",
            "transparent_bg": false,
            "widget": "IPY_MODEL_af89ea46bf6a470785c64a637dbc719c"
          }
        },
        "697f6be4b01b4b5590e36f293edf2b86": {
          "model_module": "jupyter-leaflet",
          "model_name": "LeafletMapStyleModel",
          "model_module_version": "^0.18",
          "state": {
            "_model_module": "jupyter-leaflet",
            "_model_module_version": "^0.18",
            "_model_name": "LeafletMapStyleModel",
            "_view_count": null,
            "_view_module": "@jupyter-widgets/base",
            "_view_module_version": "1.2.0",
            "_view_name": "StyleView",
            "cursor": "grab"
          }
        },
        "2263c81c6a0d4d8db105bf173422352f": {
          "model_module": "jupyter-leaflet",
          "model_name": "LeafletMapStyleModel",
          "model_module_version": "^0.18",
          "state": {
            "_model_module": "jupyter-leaflet",
            "_model_module_version": "^0.18",
            "_model_name": "LeafletMapStyleModel",
            "_view_count": null,
            "_view_module": "@jupyter-widgets/base",
            "_view_module_version": "1.2.0",
            "_view_name": "StyleView",
            "cursor": "move"
          }
        },
        "2e909fde7074461999bc167d63e77443": {
          "model_module": "jupyter-leaflet",
          "model_name": "LeafletTileLayerModel",
          "model_module_version": "^0.18",
          "state": {
            "_model_module": "jupyter-leaflet",
            "_model_module_version": "^0.18",
            "_model_name": "LeafletTileLayerModel",
            "_view_count": null,
            "_view_module": "jupyter-leaflet",
            "_view_module_version": "^0.18",
            "_view_name": "LeafletTileLayerView",
            "attribution": "&copy; <a href=\"https://www.openstreetmap.org/copyright\">OpenStreetMap</a> contributors",
            "base": true,
            "bottom": true,
            "bounds": null,
            "detect_retina": false,
            "loading": false,
            "max_native_zoom": null,
            "max_zoom": 19,
            "min_native_zoom": null,
            "min_zoom": 1,
            "name": "OpenStreetMap.Mapnik",
            "no_wrap": false,
            "opacity": 1,
            "options": [
              "attribution",
              "bounds",
              "detect_retina",
              "max_native_zoom",
              "max_zoom",
              "min_native_zoom",
              "min_zoom",
              "no_wrap",
              "tile_size",
              "tms",
              "zoom_offset"
            ],
            "pane": "",
            "popup": null,
            "popup_max_height": null,
            "popup_max_width": 300,
            "popup_min_width": 50,
            "show_loading": false,
            "subitems": [],
            "tile_size": 256,
            "tms": false,
            "url": "https://tile.openstreetmap.org/{z}/{x}/{y}.png",
            "visible": true,
            "zoom_offset": 0
          }
        },
        "0f06933423624744aab2b15507190c5a": {
          "model_module": "jupyter-leaflet",
          "model_name": "LeafletTileLayerModel",
          "model_module_version": "^0.18",
          "state": {
            "_model_module": "jupyter-leaflet",
            "_model_module_version": "^0.18",
            "_model_name": "LeafletTileLayerModel",
            "_view_count": null,
            "_view_module": "jupyter-leaflet",
            "_view_module_version": "^0.18",
            "_view_name": "LeafletTileLayerView",
            "attribution": "Google Earth Engine",
            "base": false,
            "bottom": true,
            "bounds": null,
            "detect_retina": false,
            "loading": false,
            "max_native_zoom": null,
            "max_zoom": 24,
            "min_native_zoom": null,
            "min_zoom": 0,
            "name": "aspect",
            "no_wrap": false,
            "opacity": 1,
            "options": [
              "attribution",
              "bounds",
              "detect_retina",
              "max_native_zoom",
              "max_zoom",
              "min_native_zoom",
              "min_zoom",
              "no_wrap",
              "tile_size",
              "tms",
              "zoom_offset"
            ],
            "pane": "",
            "popup": null,
            "popup_max_height": null,
            "popup_max_width": 300,
            "popup_min_width": 50,
            "show_loading": false,
            "subitems": [],
            "tile_size": 256,
            "tms": false,
            "url": "https://earthengine.googleapis.com/v1/projects/ee-foss4g/maps/96fe0167d168f70fa8c299957aa593e5-9a7529e729b229577fdce1c263d5f8b2/tiles/{z}/{x}/{y}",
            "visible": true,
            "zoom_offset": 0
          }
        },
        "cd5ff40826764218b35ae5859fe134b9": {
          "model_module": "@jupyter-widgets/base",
          "model_name": "LayoutModel",
          "model_module_version": "1.2.0",
          "state": {
            "_model_module": "@jupyter-widgets/base",
            "_model_module_version": "1.2.0",
            "_model_name": "LayoutModel",
            "_view_count": null,
            "_view_module": "@jupyter-widgets/base",
            "_view_module_version": "1.2.0",
            "_view_name": "LayoutView",
            "align_content": null,
            "align_items": null,
            "align_self": null,
            "border": null,
            "bottom": null,
            "display": null,
            "flex": null,
            "flex_flow": null,
            "grid_area": null,
            "grid_auto_columns": null,
            "grid_auto_flow": null,
            "grid_auto_rows": null,
            "grid_column": null,
            "grid_gap": null,
            "grid_row": null,
            "grid_template_areas": null,
            "grid_template_columns": null,
            "grid_template_rows": null,
            "height": "400px",
            "justify_content": null,
            "justify_items": null,
            "left": null,
            "margin": null,
            "max_height": null,
            "max_width": null,
            "min_height": null,
            "min_width": null,
            "object_fit": null,
            "object_position": null,
            "order": null,
            "overflow": null,
            "overflow_x": null,
            "overflow_y": null,
            "padding": null,
            "right": null,
            "top": null,
            "visibility": null,
            "width": "800px"
          }
        },
        "ee65851cf1e54368a12a337444fb1729": {
          "model_module": "jupyter-leaflet",
          "model_name": "LeafletMapStyleModel",
          "model_module_version": "^0.18",
          "state": {
            "_model_module": "jupyter-leaflet",
            "_model_module_version": "^0.18",
            "_model_name": "LeafletMapStyleModel",
            "_view_count": null,
            "_view_module": "@jupyter-widgets/base",
            "_view_module_version": "1.2.0",
            "_view_name": "StyleView",
            "cursor": "grab"
          }
        },
        "91813c4c3e0f4d2087735f2bff85fc0c": {
          "model_module": "@jupyter-widgets/controls",
          "model_name": "HBoxModel",
          "model_module_version": "1.5.0",
          "state": {
            "_dom_classes": [
              "geemap-colab"
            ],
            "_model_module": "@jupyter-widgets/controls",
            "_model_module_version": "1.5.0",
            "_model_name": "HBoxModel",
            "_view_count": null,
            "_view_module": "@jupyter-widgets/controls",
            "_view_module_version": "1.5.0",
            "_view_name": "HBoxView",
            "box_style": "",
            "children": [
              "IPY_MODEL_5865c7e8ca0e48a9a0e16a260abe73b8"
            ],
            "layout": "IPY_MODEL_b4c5f826f1fd475480bda2804984c534"
          }
        },
        "951767dec7f1444297b0729ba97fa523": {
          "model_module": "@jupyter-widgets/controls",
          "model_name": "VBoxModel",
          "model_module_version": "1.5.0",
          "state": {
            "_dom_classes": [
              "geemap-colab"
            ],
            "_model_module": "@jupyter-widgets/controls",
            "_model_module_version": "1.5.0",
            "_model_name": "VBoxModel",
            "_view_count": null,
            "_view_module": "@jupyter-widgets/controls",
            "_view_module_version": "1.5.0",
            "_view_name": "VBoxView",
            "box_style": "",
            "children": [
              "IPY_MODEL_d02b3fb0f906494e96a4463803cd5258"
            ],
            "layout": "IPY_MODEL_6a9dd997cee842bb8247cceaf7a5ae7b"
          }
        },
        "af89ea46bf6a470785c64a637dbc719c": {
          "model_module": "@jupyter-widgets/output",
          "model_name": "OutputModel",
          "model_module_version": "1.0.0",
          "state": {
            "_dom_classes": [
              "geemap-colab"
            ],
            "_model_module": "@jupyter-widgets/output",
            "_model_module_version": "1.0.0",
            "_model_name": "OutputModel",
            "_view_count": null,
            "_view_module": "@jupyter-widgets/output",
            "_view_module_version": "1.0.0",
            "_view_name": "OutputView",
            "layout": "IPY_MODEL_a784f7c7a5104d628fa4eaa5fda1fb84",
            "msg_id": "",
            "outputs": [
              {
                "output_type": "display_data",
                "data": {
                  "text/plain": "<Figure size 30x300 with 1 Axes>",
                  "image/png": "iVBORw0KGgoAAAANSUhEUgAAAF8AAAEDCAYAAABTd9jNAAAAOXRFWHRTb2Z0d2FyZQBNYXRwbG90bGliIHZlcnNpb24zLjcuMSwgaHR0cHM6Ly9tYXRwbG90bGliLm9yZy/bCgiHAAAACXBIWXMAAA9hAAAPYQGoP6dpAAAT/0lEQVR4nO2dfWwU1bvHvzPb0vdtt1CgL0tBQC2IIC8G4o3+kDcRRIGrEN+CCKKlNRANtwqkVAqlGFQC8oOQgmIQlBvhKipXC4nSloD80YpUG1BCi7aUK7JLLcu+nfvHsmNX2t15tmeYHfd8khPKTOfZsw8PzzxzzveckRhjDAJdkPXuQDQjnK8jwvk6IpyvI8L5OiKcryPC+ToinK8jMWp/0eFwwOl0atKJHj16ID4+XhPbkYwq5zscDgxISECLRp3o27cvzp07F3X/AKqc73Q60QKgSZZg5twBOwBrSwucTmfUOZ+U880mCeYYmW8zSeROFxYWwmq1wmw2Izs7G0uWLFFS4r/+9S/ExcUhOTlZab/99ptyrd1ux5NPPgmz2Yw+ffpg9erV5M/nBe2Ga5K1aUTy8/Px008/wW63o66uDnV1dVi/fr1yvry8HG1tbUrLyspSzhUWFuLy5ctobGzE0aNHsX37duzatYvcBx6ovuH6flsCJHqkBiWMMdW8vLy/LmcMsizjzJkzIa9rb2/H3r17UV1djbS0NKSlpaGwsBAVFRV49tln6R3pJrSwizUBPTi3WBMAXzro2K5fvx60K+vWrUNycjJ69+6Nuro6FBYWKudKS0uRnp6Oe+65JyCqGxoa4HQ6MWLECOXYiBEj8P3335PcwA2mApvNxgAwW69ExnoncW22XokMvvgPaMXFxWq6xurr69ny5ctZU1MTY4yxmpoaduXKFeZ0OtmhQ4eY2Wxmn3zyCWOMsW+//ZYlJSUFXH/ixAlmMplUfRZvaGnHJAMy57Qj+fJOU1MTzOa/aqm4uDhVl+fl5WH48OGYN28eKisrMW7cOOXclClTsGjRInz00UeYOXMmkpOT0d7eDrfbjZgY31e32WxISUnh+IXUQ3S+pIHzfX+YzeYA51NwuVxd5nxZ/iuz3nHHHYiNjUVdXR1GjRoFAKitrcWwYcPC+tzuYrhqp62tDTt37sSVK1fAGMOpU6dQWlqKKVOm4MqVK/jiiy/Q3t4Oj8eDw4cPY+vWrZg9ezYAIDExEXPmzMHKlSths9lw5swZbNq0CQsWLCD1gRtqcpOS8/unMXabhWuz9U/z2bbZVOXJtrY2NnHiRJaens6SkpLYgAED2Kuvvsr+/PNP1trayu69916WkpLCUlJS2LBhw1hFRcVN32Xu3LksOTmZZWRksJKSEnKu5oXEWOgJdLvdjtTUVNgGWmAOoy4PatvjRerPf8Bms4WddowKPeeH8UQaHN72jAO92uEc+dEMzfk9TPyd7xGRrw4R+VyhOV/WIOczEfnq0CLyo1isqH+1IyJfJSLyuSIiX0dE5OtIGNUOZ+d7o9f79IesGzNP3IjerBMBOd8bvd7XP+eLtKMSEflcId5wNYh8j4h8dWgR+dznB4yD/jnfJCJfHSLyuSIiX0dozo+V+T9kRfECeP2rHTl6Z8ZEztcRwynWgOCLI0ItfjDw4ghJm0Yk2OKIUIsfjLs4Qpb55+gb9ux2e8DhuLi4LpXKXS2OCLX4wdiLIzSMfKvVitTUVKWVlZUF7UpniyNCLX6ItMUREVPtUPX5RUVFKCoqwo8//ojdu3cry0mTkpIU7T0ApKWl4erVqwB8Cudg5281ERP5fn2+v4WzOKLj4gc/HRc/hDp/q6E535/zebdu4l8c0XHxg5+Oix9Cnb/V0L55D5n/grge/BZHhFr8EGmLI4iRL2nTCEiShA8//BADBw5ESkoKHn30UUybNg3vvPMOAGDz5s1ITU1FTk4O7rvvPjz//PMBlUyo87cS2uKI8ikwx8dy7YDd4ULqf/2vWBwREkmLBXHRO7wQAUPKYmBNHWHkaFU2oxQR+ToiIl9HROTrCHHLFw20mi4vX3sGQqQdHYmY8fxohJjzocEcLl9zRkJEvo6InK8jQjqiIyTnM1kG45wmeNszEiTneyUJXs5pwitGNdXhiTHBE8O3POFtz0jQnG+S4eE8HMDbnpGgpR1Zg7Qjqh11eGUZXs43SN72jISIfB0RztcRYp0vcU8TLIqdT/IkkyQwmXMj1vnXr1/HwoULMWDAAKSkpODOO+/Ejh07lPNGenkBrdSUZHgkzqUm0Z7b7UZmZiYqKytx22234fjx45g6dSpycnIwefJkAL6XFyxZsqTT6zvq81tbWzFx4kTk5ubqIpwiOd8dI8Mdw9f5VHtJSUl44403lL+PHTsW48ePR1VVleL8rjC0Pt9favJuAP3lBX4cDgdOnDiBu+++WzlmlJcXREy1Y7VaA44XFxdj1apVQa9ljGHBggUYPHgwZs2aBQAoKyvDkCFDkJiYiCNHjuCJJ55ASkoKZs6cGXH6/Ih5yKIujmCMIT8/Hw0NDaisrFT2yf/HvrzAK0ncRyH99igvL2CMYfHixTh+/DgOHz6M1NTULn/3H/PyAu5l5o1GpaCgANXV1fj6669hsViU40Z7eQHR+fxvttTJlPPnz2PLli1oaGhAbm6uUsu/+OKLcLlcKCkpQd++fWGxWLB06VK89dZbePzxx5XrI0mfT6vzIcHDOe14iDvc5ebmItiSguPHjwe93mw2Y8+ePaTP1Iowqh3eN9zoHV6ImBtuNEJ7wjWZ4Dbxnfbjbc9IRMxDVjRCG1KW6KOQamxGK+QnXI+YRuSGuOHqiHC+jkTMwFo0IiJfR4TzdYQ4h2uCR+as1ZTEQ5YqvBL/SI3iHdzpT7ge8YTLDWLky/Bylo7wtmckxA1XR2jOhwQv59f78LZnJETk64jI+TpCF8pq0IxAdXV1p8dramrCtkmKfJcsw8V5LIa3Pa2YOnXqTfs9A8D06dNx+fLlsGwSb7gyvMTdINXYNAKdKSYuXboEUzemQclpx8u58dbn894/32KxID09He3t7UhPTw9oWVlZiiArHAxX7YTS54fS31P1+QcOHABjDA8//DD279+vHJdlGX369MHtt98e9ncnbWr67v9tQ4I5IewP64xr9mtY3GtRtzY1nTVrFu666y4UFRXBYrGguroao0ePBgC8+eabOHjwIL755hu0t7cHPR+My5cvIz09Paz+dQVNny9JSrnJr/kin4c+X8v980tKSm6qeKqqqrB06VJV/ewMWs6HpEkD6C8vAG7W54fS33dHn793715F2exn1KhR3ZIeRkzO56HPD6W/744+3+12B8jNAcBkMqn+H9oZpMj3QNKkAbSXF3TU53/11VeKPl/L/fNHjBiBnTt3Bhx77733ApYjUaHJBSUZbs7DAeHY8+vzjxw5EqDP76i/37NnD1pbW7Fp0yalnAx1Phjr16/HhAkTsG/fPgwePBhnz57FiRMncPjwYXL//RDrfN43WxmM6Pxg+nxAu/3zR40ahdOnT2Py5MmQZRmTJk1CfX29UjWFA6nUXHtlF+LNiWF/WGc47O14Pe3ZqNw/n1Zq3hjP592MgMvlQnFxMQYNGqTcYw4dOoR33303bJsRU2pGOsuWLUNVVRW2bt0K6UaFlpeXh23btoVtkygd0WBZkEGGlPft24dTp07BYrEoJWdubi4aGxvDtimmEVXi9XqRmBh4v2tra+vWGl5izpc1aUbgwQcfxMqVKwOOlZeXY9KkSWHbFJGvkrfffhszZsxARkYG7HY7srOzYbVacfDgwbBtEpeCynBzjlSPQSI/IyMDx44dw3fffYfz58/DarVizJgxNw05UKAtC9KgOjFKteMnOztb+bM7jgfIYztajO8Yg+bmZkyYMAE5OTm4//77YbVaMX78+IBdrKiIhyyVzJ8/H1arFS0tLbh27Rqam5vRv39/zJ8/P2yb4oarkpqaGly8eBHx8fEAgN69e2PLli3IzMwM2yYt8pmkSTMCgwYNQlNTU8CxpqYmDBw4MGybIvJVMnv2bDz00EPIz89Hv379cP78eWzbtg3z58/Hp59+qvzejBkzVNskjWq+dOV/EGdOCq/3XXDd/if+nfZoxI9qDhgwIOTvSJKEX375RbVNIZpSyblz57jbpL22g0lgvHO0QXK+w+FATEyMMve7f/9+xMbGYvr06WHbJIWdi8maNCMwadIknDx5EoBPRpKfn4+XXnoJJSUlYdsUdb5K6uvrMWbMGADA+++/j8rKStTU1KCioiJsm7Scr0FpaJRS0+PxQJIknD17Fl6vF0OHDgWAsBXKgCg1VTNmzBgUFBSgubkZ06ZNA+Cr8zuqJ6iIhyyVbN++HTabDampqUqeP3bsGLKyssK2KSJfJf3798fu3bsB+AbZysrKUFFRgebm5rBt0ibQb5SavBuFzZs3Y/To0YiLi8Njjz0WcE7LvfM9Hg8OHDiARx55BP369cOKFSvw1FNPdWsOl5x2PJwbNe1kZWVhxYoVWLhwYafny8vL0dbWprSOaaGjNv/o0aPYvn17wC7jndHQ0IBly5YhOzsbzzzzDCwWC7788ktkZGRg8eLF6NmzJ6n/HSGmHf5pgvoeaP9u4bW1tbhw4YLq68LdOz8vLw89e/ZEeXk55syZg6Qk3/CKxEF1QYp8t1fWpAHh6/P/Du+98+fNmweHw4Hly5dj1apV+OGHH8LqV2cQ0442DQhPn/93ysrK8PPPP+PixYtYt24dCgsLlaU84Wrzd+zYgebmZqxevRrV1dUYPnw4Ro4ciatXr8Jms5H72JGIKTWbmppgs9mU9tprr5G/zLhx45CamorY2NiAvfOBQG2+H7Xa/OTkZCxYsAA1NTU4deoUxo8fj6SkJAwfPrxbO5BHjPMp+nzVX66LvfP9hLN3/pAhQ7Bhwwb8+uuv+OCDD25hqRkBWk232w2HwwG32w2v1wuHwwGn03nL986PiYnB7Nmz8fnnn4d1PUDV7TAJMucnUg/RXmlpacBIYkJCAh544AHs27cPJSUlmDt3LgDfQ1Fne+cvWrQIOTk5SEhIQEFBgW575wPEmayJTVWIMSdz7YDb3oZK639E/EyWFtDqfK8EL+dN0XjbMxJiSFlHaAvimAx4OS+IM8hMlhbQtJoazOFynxM2EMS089cTKS942zMStFLTK0HifIP0iBuuOsQNly8i5+sIuc7nnSZEna8SL5MgibTDDWLkAxJ16kmFzWiFVu14JMDDeUGcR0S+KjxM4i5spY5q/pMg33B51/nihqsSBiD0ADSNKH7ApUc+7/dsiMhXiXA+X8h1Pu8brqjzVcK8vsYT3vaMhEg7OkIeUmbC+dygOd8tgbk5O5+zPSNB23VEA4k49Qk3mD6f9975WkMez+edJqjj+X59fmVl5U0Scd5752uN7qOa1GqnK31+KP19uPp8LaFpNW/ccHk3oPv6fC33ztcKmkr5hmKNdwO6r8/Xcu98rSCWmtqlHer++X9Hy73ztSJiIr+7+nwt987XClrO90iaNApd6fND6e956/N5QNt1xC1p0iiUlpYiISEBa9aswWeffYaEhARMnjwZgHZ752sFSZ+Pfb8AiZxzZPtV4PHbhD4/JBpMI/IeKzISJOebPIDEWW3APDDMxqa8ITlf1qjUFM5XgSzSDldIzpc8vsaVaA17UHO+iHyuRETOj1Zoke+WIbn4ajWZWyyIU4Xs8TWeeEXOV4fslSDzztEi56tDi8gX1Y5KJA2qHd72jAR5eIF35HN/bjAQtLTDfOUmV6JYI07M+RJk3st4xLIgdUgaPGTxtmckSM6PcUowyZzXZDlF5KtCizpfjO2oRItRTVHtqMTklWDifYMUka8OLZ5wmYh8dche/nV+NA8pk8ZzJY+kSaMwb9489OjRI2CP/GPHjinnXS4XCgoKYLFYkJ6ejsLCwoAtfCMJkvNNHm0alfz8/IA98seNG6ecKy0tRVVVFerr63H69GkcPXoUa9eupX/ILYDkfH/O5914smPHDqxYsQKZmZnIzMzE8uXLu/U6JS2hpR2vpAwx8Gr+UU2KPn/Xrl1IT0/H0KFDsWHDBnhv7Bvzxx9/4MKFCzdp8BsbG7u93boWkJwf49KmAer1+S+//DIaGhpw6dIlVFRUYOPGjdi4cSMAnwYf8Onu/fh/1lOH3xW6D6z57anV548cOVL5eezYsSgqKsKuXbuwdOlSJCf79nm22Wzo1auX8jMAXXX4XaF7ne+359flk6/vsEe+xWJBTk4OamtrlZcE19bWKv+rIg3D3XA//vhj2O12MMZw8uRJrFu3TtkjHwCee+45rFmzBi0tLWhpacHatWt11eAHI2LSjlo2b96MF154AW63G9nZ2cjPz8crr7yinF+5ciV+//135OXlAQCefvppvP7661z7zAuSPv/B//wdMbF8NfRulx1H/run0OeHQvYAMmeNE3c1hIEgDynzdr4YUlaJ7JEgc57J4j4nbCCI04hADO8N7lx87RkJ+pAy7zo/ioeU6WmHwwsZ/24zWqFXO5x9JaodlQjn80U4X0fodT5n54s6XyWyV4OxHSEdUYfsIQ6DqrQZrdAfskx8OyDWZKlERD5fhPN1hO58zmM7YnhBJbKH/5ugRbWjEkmDyBcrU1Qi0g5fhPN1RDhfR2gPWS4ghvdK0Cheh0sTTbm1aVSMpMEPhuEUa4CxNPjBMKTzjaTBDwYp5zu9dvB+JHLCDsCniutIXFxcp0rlUBr8SBTEdglTwbVr11jfvn0ZbrwekXdLTk6+6VhxcXGnfWlsbGQA2KVLl5Rjra2tDABrampS83UiBlWRHx8fj3PnzsHpdPL4974Jxhikv6kiutLnG02DHwzVaSc+Ph7x8fFa9kUVRtPgB8OQW/sZSYMfFL3zXjg4nU6Wn5/P0tLSWFpaGisoKGAul0vvbpFRpc8XaIMh084/BeF8HRHO1xHhfB0RztcR4XwdEc7XEeF8HRHO1xHhfB0RztcR4Xwd+X8TPFhvWadF5QAAAABJRU5ErkJggg==\n"
                },
                "metadata": {}
              }
            ]
          }
        },
        "5865c7e8ca0e48a9a0e16a260abe73b8": {
          "model_module": "@jupyter-widgets/controls",
          "model_name": "ToggleButtonModel",
          "model_module_version": "1.5.0",
          "state": {
            "_dom_classes": [],
            "_model_module": "@jupyter-widgets/controls",
            "_model_module_version": "1.5.0",
            "_model_name": "ToggleButtonModel",
            "_view_count": null,
            "_view_module": "@jupyter-widgets/controls",
            "_view_module_version": "1.5.0",
            "_view_name": "ToggleButtonView",
            "button_style": "",
            "description": "",
            "description_tooltip": null,
            "disabled": false,
            "icon": "globe",
            "layout": "IPY_MODEL_de5f46f4b76e4957839047ba522100f3",
            "style": "IPY_MODEL_31a78723589a463986a73dfe80ff4405",
            "tooltip": "Search location/data",
            "value": false
          }
        },
        "b4c5f826f1fd475480bda2804984c534": {
          "model_module": "@jupyter-widgets/base",
          "model_name": "LayoutModel",
          "model_module_version": "1.2.0",
          "state": {
            "_model_module": "@jupyter-widgets/base",
            "_model_module_version": "1.2.0",
            "_model_name": "LayoutModel",
            "_view_count": null,
            "_view_module": "@jupyter-widgets/base",
            "_view_module_version": "1.2.0",
            "_view_name": "LayoutView",
            "align_content": null,
            "align_items": null,
            "align_self": null,
            "border": null,
            "bottom": null,
            "display": null,
            "flex": null,
            "flex_flow": null,
            "grid_area": null,
            "grid_auto_columns": null,
            "grid_auto_flow": null,
            "grid_auto_rows": null,
            "grid_column": null,
            "grid_gap": null,
            "grid_row": null,
            "grid_template_areas": null,
            "grid_template_columns": null,
            "grid_template_rows": null,
            "height": null,
            "justify_content": null,
            "justify_items": null,
            "left": null,
            "margin": null,
            "max_height": null,
            "max_width": null,
            "min_height": null,
            "min_width": null,
            "object_fit": null,
            "object_position": null,
            "order": null,
            "overflow": null,
            "overflow_x": null,
            "overflow_y": null,
            "padding": null,
            "right": null,
            "top": null,
            "visibility": null,
            "width": null
          }
        },
        "d02b3fb0f906494e96a4463803cd5258": {
          "model_module": "@jupyter-widgets/controls",
          "model_name": "ToggleButtonModel",
          "model_module_version": "1.5.0",
          "state": {
            "_dom_classes": [],
            "_model_module": "@jupyter-widgets/controls",
            "_model_module_version": "1.5.0",
            "_model_name": "ToggleButtonModel",
            "_view_count": null,
            "_view_module": "@jupyter-widgets/controls",
            "_view_module_version": "1.5.0",
            "_view_name": "ToggleButtonView",
            "button_style": "",
            "description": "",
            "description_tooltip": null,
            "disabled": false,
            "icon": "wrench",
            "layout": "IPY_MODEL_503ab0a1e6e04dbf93623e4f7e984f8b",
            "style": "IPY_MODEL_bcd49cc673a7496cb5ee834bf5b495c4",
            "tooltip": "Toolbar",
            "value": false
          }
        },
        "6a9dd997cee842bb8247cceaf7a5ae7b": {
          "model_module": "@jupyter-widgets/base",
          "model_name": "LayoutModel",
          "model_module_version": "1.2.0",
          "state": {
            "_model_module": "@jupyter-widgets/base",
            "_model_module_version": "1.2.0",
            "_model_name": "LayoutModel",
            "_view_count": null,
            "_view_module": "@jupyter-widgets/base",
            "_view_module_version": "1.2.0",
            "_view_name": "LayoutView",
            "align_content": null,
            "align_items": null,
            "align_self": null,
            "border": null,
            "bottom": null,
            "display": null,
            "flex": null,
            "flex_flow": null,
            "grid_area": null,
            "grid_auto_columns": null,
            "grid_auto_flow": null,
            "grid_auto_rows": null,
            "grid_column": null,
            "grid_gap": null,
            "grid_row": null,
            "grid_template_areas": null,
            "grid_template_columns": null,
            "grid_template_rows": null,
            "height": null,
            "justify_content": null,
            "justify_items": null,
            "left": null,
            "margin": null,
            "max_height": null,
            "max_width": null,
            "min_height": null,
            "min_width": null,
            "object_fit": null,
            "object_position": null,
            "order": null,
            "overflow": null,
            "overflow_x": null,
            "overflow_y": null,
            "padding": null,
            "right": null,
            "top": null,
            "visibility": null,
            "width": null
          }
        },
        "a784f7c7a5104d628fa4eaa5fda1fb84": {
          "model_module": "@jupyter-widgets/base",
          "model_name": "LayoutModel",
          "model_module_version": "1.2.0",
          "state": {
            "_model_module": "@jupyter-widgets/base",
            "_model_module_version": "1.2.0",
            "_model_name": "LayoutModel",
            "_view_count": null,
            "_view_module": "@jupyter-widgets/base",
            "_view_module_version": "1.2.0",
            "_view_name": "LayoutView",
            "align_content": null,
            "align_items": null,
            "align_self": null,
            "border": null,
            "bottom": null,
            "display": null,
            "flex": null,
            "flex_flow": null,
            "grid_area": null,
            "grid_auto_columns": null,
            "grid_auto_flow": null,
            "grid_auto_rows": null,
            "grid_column": null,
            "grid_gap": null,
            "grid_row": null,
            "grid_template_areas": null,
            "grid_template_columns": null,
            "grid_template_rows": null,
            "height": null,
            "justify_content": null,
            "justify_items": null,
            "left": null,
            "margin": null,
            "max_height": null,
            "max_width": null,
            "min_height": null,
            "min_width": null,
            "object_fit": null,
            "object_position": null,
            "order": null,
            "overflow": null,
            "overflow_x": null,
            "overflow_y": null,
            "padding": null,
            "right": null,
            "top": null,
            "visibility": null,
            "width": "100px"
          }
        },
        "de5f46f4b76e4957839047ba522100f3": {
          "model_module": "@jupyter-widgets/base",
          "model_name": "LayoutModel",
          "model_module_version": "1.2.0",
          "state": {
            "_model_module": "@jupyter-widgets/base",
            "_model_module_version": "1.2.0",
            "_model_name": "LayoutModel",
            "_view_count": null,
            "_view_module": "@jupyter-widgets/base",
            "_view_module_version": "1.2.0",
            "_view_name": "LayoutView",
            "align_content": null,
            "align_items": null,
            "align_self": null,
            "border": null,
            "bottom": null,
            "display": null,
            "flex": null,
            "flex_flow": null,
            "grid_area": null,
            "grid_auto_columns": null,
            "grid_auto_flow": null,
            "grid_auto_rows": null,
            "grid_column": null,
            "grid_gap": null,
            "grid_row": null,
            "grid_template_areas": null,
            "grid_template_columns": null,
            "grid_template_rows": null,
            "height": "28px",
            "justify_content": null,
            "justify_items": null,
            "left": null,
            "margin": null,
            "max_height": null,
            "max_width": null,
            "min_height": null,
            "min_width": null,
            "object_fit": null,
            "object_position": null,
            "order": null,
            "overflow": null,
            "overflow_x": null,
            "overflow_y": null,
            "padding": "0px 0px 0px 4px",
            "right": null,
            "top": null,
            "visibility": null,
            "width": "28px"
          }
        },
        "31a78723589a463986a73dfe80ff4405": {
          "model_module": "@jupyter-widgets/controls",
          "model_name": "DescriptionStyleModel",
          "model_module_version": "1.5.0",
          "state": {
            "_model_module": "@jupyter-widgets/controls",
            "_model_module_version": "1.5.0",
            "_model_name": "DescriptionStyleModel",
            "_view_count": null,
            "_view_module": "@jupyter-widgets/base",
            "_view_module_version": "1.2.0",
            "_view_name": "StyleView",
            "description_width": ""
          }
        },
        "503ab0a1e6e04dbf93623e4f7e984f8b": {
          "model_module": "@jupyter-widgets/base",
          "model_name": "LayoutModel",
          "model_module_version": "1.2.0",
          "state": {
            "_model_module": "@jupyter-widgets/base",
            "_model_module_version": "1.2.0",
            "_model_name": "LayoutModel",
            "_view_count": null,
            "_view_module": "@jupyter-widgets/base",
            "_view_module_version": "1.2.0",
            "_view_name": "LayoutView",
            "align_content": null,
            "align_items": null,
            "align_self": null,
            "border": null,
            "bottom": null,
            "display": null,
            "flex": null,
            "flex_flow": null,
            "grid_area": null,
            "grid_auto_columns": null,
            "grid_auto_flow": null,
            "grid_auto_rows": null,
            "grid_column": null,
            "grid_gap": null,
            "grid_row": null,
            "grid_template_areas": null,
            "grid_template_columns": null,
            "grid_template_rows": null,
            "height": "28px",
            "justify_content": null,
            "justify_items": null,
            "left": null,
            "margin": null,
            "max_height": null,
            "max_width": null,
            "min_height": null,
            "min_width": null,
            "object_fit": null,
            "object_position": null,
            "order": null,
            "overflow": null,
            "overflow_x": null,
            "overflow_y": null,
            "padding": "0px 0px 0px 4px",
            "right": null,
            "top": null,
            "visibility": null,
            "width": "28px"
          }
        },
        "bcd49cc673a7496cb5ee834bf5b495c4": {
          "model_module": "@jupyter-widgets/controls",
          "model_name": "DescriptionStyleModel",
          "model_module_version": "1.5.0",
          "state": {
            "_model_module": "@jupyter-widgets/controls",
            "_model_module_version": "1.5.0",
            "_model_name": "DescriptionStyleModel",
            "_view_count": null,
            "_view_module": "@jupyter-widgets/base",
            "_view_module_version": "1.2.0",
            "_view_name": "StyleView",
            "description_width": ""
          }
        },
        "3141d5798a094ab59fa7367f4cb3ab4b": {
          "model_module": "jupyter-leaflet",
          "model_name": "LeafletMapModel",
          "model_module_version": "^0.18",
          "state": {
            "_dom_classes": [],
            "_model_module": "jupyter-leaflet",
            "_model_module_version": "^0.18",
            "_model_name": "LeafletMapModel",
            "_view_count": null,
            "_view_module": "jupyter-leaflet",
            "_view_module_version": "^0.18",
            "_view_name": "LeafletMapView",
            "bottom": 6656,
            "bounce_at_zoom_limits": true,
            "box_zoom": true,
            "center": [
              35.60541125576072,
              127.04873061439156
            ],
            "close_popup_on_click": true,
            "controls": [
              "IPY_MODEL_6d6f061bf2844dc5b9ae43b0ad513b38",
              "IPY_MODEL_c5a6669b7e02445ba1593e92532357a3",
              "IPY_MODEL_5e287e1562374946a8d87b00a544df63",
              "IPY_MODEL_16936b72bcf645c6a45e6762810cab16",
              "IPY_MODEL_0b6473b15d194f06876f8acb0447e56e",
              "IPY_MODEL_5e7098057e9f4c14990720229ae6fe0b",
              "IPY_MODEL_59e642f1f9af48e485940f129847a67e",
              "IPY_MODEL_7cc1a05f022a4c518d854456579bfb97",
              "IPY_MODEL_04136218dede4853a2dfb3f5b4c031bc"
            ],
            "crs": {
              "name": "EPSG3857",
              "custom": false
            },
            "default_style": "IPY_MODEL_8d6df838330f493094ca3933bf927cab",
            "double_click_zoom": true,
            "dragging": true,
            "dragging_style": "IPY_MODEL_6e553acacf854298a5a05c282c8484e3",
            "east": 135.83496093750003,
            "fullscreen": false,
            "inertia": true,
            "inertia_deceleration": 3000,
            "inertia_max_speed": 1500,
            "interpolation": "bilinear",
            "keyboard": true,
            "keyboard_pan_offset": 80,
            "keyboard_zoom_offset": 1,
            "layers": [
              "IPY_MODEL_33983b1fb3c94f1b8fdda58f1a2fea94",
              "IPY_MODEL_b6bb6e80b1a6458ab0f5f1bfc8ed2b73"
            ],
            "layout": "IPY_MODEL_a653215b6aaa4cb98562e40731b2f456",
            "left": 13574,
            "max_zoom": 24,
            "min_zoom": null,
            "modisdate": "2024-05-25",
            "north": 39.095962936305476,
            "options": [
              "bounce_at_zoom_limits",
              "box_zoom",
              "center",
              "close_popup_on_click",
              "double_click_zoom",
              "dragging",
              "fullscreen",
              "inertia",
              "inertia_deceleration",
              "inertia_max_speed",
              "interpolation",
              "keyboard",
              "keyboard_pan_offset",
              "keyboard_zoom_offset",
              "max_zoom",
              "min_zoom",
              "prefer_canvas",
              "scroll_wheel_zoom",
              "tap",
              "tap_tolerance",
              "touch_zoom",
              "world_copy_jump",
              "zoom",
              "zoom_animation_threshold",
              "zoom_delta",
              "zoom_snap"
            ],
            "panes": {},
            "prefer_canvas": false,
            "right": 14374,
            "scroll_wheel_zoom": true,
            "south": 31.952162238024975,
            "style": "IPY_MODEL_3c1991a04a034274a23301daa0df8def",
            "tap": true,
            "tap_tolerance": 15,
            "top": 6256,
            "touch_zoom": true,
            "west": 118.25683593750001,
            "window_url": "https://ioysqj54nq-496ff2e9c6d22116-0-colab.googleusercontent.com/outputframe.html?vrz=colab_20240523-060110_RC00_636443439",
            "world_copy_jump": false,
            "zoom": 6,
            "zoom_animation_threshold": 4,
            "zoom_delta": 1,
            "zoom_snap": 1
          }
        },
        "6d6f061bf2844dc5b9ae43b0ad513b38": {
          "model_module": "jupyter-leaflet",
          "model_name": "LeafletWidgetControlModel",
          "model_module_version": "^0.18",
          "state": {
            "_model_module": "jupyter-leaflet",
            "_model_module_version": "^0.18",
            "_model_name": "LeafletWidgetControlModel",
            "_view_count": null,
            "_view_module": "jupyter-leaflet",
            "_view_module_version": "^0.18",
            "_view_name": "LeafletWidgetControlView",
            "max_height": null,
            "max_width": null,
            "min_height": null,
            "min_width": null,
            "options": [
              "position",
              "transparent_bg"
            ],
            "position": "topleft",
            "transparent_bg": false,
            "widget": "IPY_MODEL_fad88e7a16ed49eb863edc36e87306a5"
          }
        },
        "c5a6669b7e02445ba1593e92532357a3": {
          "model_module": "jupyter-leaflet",
          "model_name": "LeafletZoomControlModel",
          "model_module_version": "^0.18",
          "state": {
            "_model_module": "jupyter-leaflet",
            "_model_module_version": "^0.18",
            "_model_name": "LeafletZoomControlModel",
            "_view_count": null,
            "_view_module": "jupyter-leaflet",
            "_view_module_version": "^0.18",
            "_view_name": "LeafletZoomControlView",
            "options": [
              "position",
              "zoom_in_text",
              "zoom_in_title",
              "zoom_out_text",
              "zoom_out_title"
            ],
            "position": "topleft",
            "zoom_in_text": "+",
            "zoom_in_title": "Zoom in",
            "zoom_out_text": "-",
            "zoom_out_title": "Zoom out"
          }
        },
        "5e287e1562374946a8d87b00a544df63": {
          "model_module": "jupyter-leaflet",
          "model_name": "LeafletFullScreenControlModel",
          "model_module_version": "^0.18",
          "state": {
            "_model_module": "jupyter-leaflet",
            "_model_module_version": "^0.18",
            "_model_name": "LeafletFullScreenControlModel",
            "_view_count": null,
            "_view_module": "jupyter-leaflet",
            "_view_module_version": "^0.18",
            "_view_name": "LeafletFullScreenControlView",
            "options": [
              "position"
            ],
            "position": "topleft"
          }
        },
        "16936b72bcf645c6a45e6762810cab16": {
          "model_module": "jupyter-leaflet",
          "model_name": "LeafletDrawControlModel",
          "model_module_version": "^0.18",
          "state": {
            "_model_module": "jupyter-leaflet",
            "_model_module_version": "^0.18",
            "_model_name": "LeafletDrawControlModel",
            "_view_count": null,
            "_view_module": "jupyter-leaflet",
            "_view_module_version": "^0.18",
            "_view_name": "LeafletDrawControlView",
            "circle": {},
            "circlemarker": {},
            "data": [],
            "edit": true,
            "marker": {
              "shapeOptions": {
                "color": "#3388ff"
              }
            },
            "options": [
              "position"
            ],
            "polygon": {
              "shapeOptions": {}
            },
            "polyline": {
              "shapeOptions": {}
            },
            "position": "topleft",
            "rectangle": {
              "shapeOptions": {
                "color": "#3388ff"
              }
            },
            "remove": true
          }
        },
        "0b6473b15d194f06876f8acb0447e56e": {
          "model_module": "jupyter-leaflet",
          "model_name": "LeafletScaleControlModel",
          "model_module_version": "^0.18",
          "state": {
            "_model_module": "jupyter-leaflet",
            "_model_module_version": "^0.18",
            "_model_name": "LeafletScaleControlModel",
            "_view_count": null,
            "_view_module": "jupyter-leaflet",
            "_view_module_version": "^0.18",
            "_view_name": "LeafletScaleControlView",
            "imperial": true,
            "max_width": 100,
            "metric": true,
            "options": [
              "imperial",
              "max_width",
              "metric",
              "position",
              "update_when_idle"
            ],
            "position": "bottomleft",
            "update_when_idle": false
          }
        },
        "5e7098057e9f4c14990720229ae6fe0b": {
          "model_module": "jupyter-leaflet",
          "model_name": "LeafletMeasureControlModel",
          "model_module_version": "^0.18",
          "state": {
            "_custom_units": {},
            "_model_module": "jupyter-leaflet",
            "_model_module_version": "^0.18",
            "_model_name": "LeafletMeasureControlModel",
            "_view_count": null,
            "_view_module": "jupyter-leaflet",
            "_view_module_version": "^0.18",
            "_view_name": "LeafletMeasureControlView",
            "active_color": "orange",
            "capture_z_index": 10000,
            "completed_color": "#C8F2BE",
            "options": [
              "active_color",
              "capture_z_index",
              "completed_color",
              "popup_options",
              "position",
              "primary_area_unit",
              "primary_length_unit",
              "secondary_area_unit",
              "secondary_length_unit"
            ],
            "popup_options": {
              "className": "leaflet-measure-resultpopup",
              "autoPanPadding": [
                10,
                10
              ]
            },
            "position": "bottomleft",
            "primary_area_unit": "acres",
            "primary_length_unit": "kilometers",
            "secondary_area_unit": null,
            "secondary_length_unit": null
          }
        },
        "59e642f1f9af48e485940f129847a67e": {
          "model_module": "jupyter-leaflet",
          "model_name": "LeafletWidgetControlModel",
          "model_module_version": "^0.18",
          "state": {
            "_model_module": "jupyter-leaflet",
            "_model_module_version": "^0.18",
            "_model_name": "LeafletWidgetControlModel",
            "_view_count": null,
            "_view_module": "jupyter-leaflet",
            "_view_module_version": "^0.18",
            "_view_name": "LeafletWidgetControlView",
            "max_height": null,
            "max_width": null,
            "min_height": null,
            "min_width": null,
            "options": [
              "position",
              "transparent_bg"
            ],
            "position": "topright",
            "transparent_bg": false,
            "widget": "IPY_MODEL_4d1a5eca8e1741b1a64bbc86a130d858"
          }
        },
        "7cc1a05f022a4c518d854456579bfb97": {
          "model_module": "jupyter-leaflet",
          "model_name": "LeafletAttributionControlModel",
          "model_module_version": "^0.18",
          "state": {
            "_model_module": "jupyter-leaflet",
            "_model_module_version": "^0.18",
            "_model_name": "LeafletAttributionControlModel",
            "_view_count": null,
            "_view_module": "jupyter-leaflet",
            "_view_module_version": "^0.18",
            "_view_name": "LeafletAttributionControlView",
            "options": [
              "position",
              "prefix"
            ],
            "position": "bottomright",
            "prefix": "ipyleaflet"
          }
        },
        "04136218dede4853a2dfb3f5b4c031bc": {
          "model_module": "jupyter-leaflet",
          "model_name": "LeafletWidgetControlModel",
          "model_module_version": "^0.18",
          "state": {
            "_model_module": "jupyter-leaflet",
            "_model_module_version": "^0.18",
            "_model_name": "LeafletWidgetControlModel",
            "_view_count": null,
            "_view_module": "jupyter-leaflet",
            "_view_module_version": "^0.18",
            "_view_name": "LeafletWidgetControlView",
            "max_height": null,
            "max_width": null,
            "min_height": null,
            "min_width": null,
            "options": [
              "position",
              "transparent_bg"
            ],
            "position": "bottomright",
            "transparent_bg": false,
            "widget": "IPY_MODEL_b6e0093d6c81487ab393c7a16a0f1a5f"
          }
        },
        "8d6df838330f493094ca3933bf927cab": {
          "model_module": "jupyter-leaflet",
          "model_name": "LeafletMapStyleModel",
          "model_module_version": "^0.18",
          "state": {
            "_model_module": "jupyter-leaflet",
            "_model_module_version": "^0.18",
            "_model_name": "LeafletMapStyleModel",
            "_view_count": null,
            "_view_module": "@jupyter-widgets/base",
            "_view_module_version": "1.2.0",
            "_view_name": "StyleView",
            "cursor": "grab"
          }
        },
        "6e553acacf854298a5a05c282c8484e3": {
          "model_module": "jupyter-leaflet",
          "model_name": "LeafletMapStyleModel",
          "model_module_version": "^0.18",
          "state": {
            "_model_module": "jupyter-leaflet",
            "_model_module_version": "^0.18",
            "_model_name": "LeafletMapStyleModel",
            "_view_count": null,
            "_view_module": "@jupyter-widgets/base",
            "_view_module_version": "1.2.0",
            "_view_name": "StyleView",
            "cursor": "move"
          }
        },
        "33983b1fb3c94f1b8fdda58f1a2fea94": {
          "model_module": "jupyter-leaflet",
          "model_name": "LeafletTileLayerModel",
          "model_module_version": "^0.18",
          "state": {
            "_model_module": "jupyter-leaflet",
            "_model_module_version": "^0.18",
            "_model_name": "LeafletTileLayerModel",
            "_view_count": null,
            "_view_module": "jupyter-leaflet",
            "_view_module_version": "^0.18",
            "_view_name": "LeafletTileLayerView",
            "attribution": "&copy; <a href=\"https://www.openstreetmap.org/copyright\">OpenStreetMap</a> contributors",
            "base": true,
            "bottom": true,
            "bounds": null,
            "detect_retina": false,
            "loading": false,
            "max_native_zoom": null,
            "max_zoom": 19,
            "min_native_zoom": null,
            "min_zoom": 1,
            "name": "OpenStreetMap.Mapnik",
            "no_wrap": false,
            "opacity": 1,
            "options": [
              "attribution",
              "bounds",
              "detect_retina",
              "max_native_zoom",
              "max_zoom",
              "min_native_zoom",
              "min_zoom",
              "no_wrap",
              "tile_size",
              "tms",
              "zoom_offset"
            ],
            "pane": "",
            "popup": null,
            "popup_max_height": null,
            "popup_max_width": 300,
            "popup_min_width": 50,
            "show_loading": false,
            "subitems": [],
            "tile_size": 256,
            "tms": false,
            "url": "https://tile.openstreetmap.org/{z}/{x}/{y}.png",
            "visible": true,
            "zoom_offset": 0
          }
        },
        "b6bb6e80b1a6458ab0f5f1bfc8ed2b73": {
          "model_module": "jupyter-leaflet",
          "model_name": "LeafletTileLayerModel",
          "model_module_version": "^0.18",
          "state": {
            "_model_module": "jupyter-leaflet",
            "_model_module_version": "^0.18",
            "_model_name": "LeafletTileLayerModel",
            "_view_count": null,
            "_view_module": "jupyter-leaflet",
            "_view_module_version": "^0.18",
            "_view_name": "LeafletTileLayerView",
            "attribution": "Google Earth Engine",
            "base": false,
            "bottom": true,
            "bounds": null,
            "detect_retina": false,
            "loading": false,
            "max_native_zoom": null,
            "max_zoom": 24,
            "min_native_zoom": null,
            "min_zoom": 0,
            "name": "bio14",
            "no_wrap": false,
            "opacity": 1,
            "options": [
              "attribution",
              "bounds",
              "detect_retina",
              "max_native_zoom",
              "max_zoom",
              "min_native_zoom",
              "min_zoom",
              "no_wrap",
              "tile_size",
              "tms",
              "zoom_offset"
            ],
            "pane": "",
            "popup": null,
            "popup_max_height": null,
            "popup_max_width": 300,
            "popup_min_width": 50,
            "show_loading": false,
            "subitems": [],
            "tile_size": 256,
            "tms": false,
            "url": "https://earthengine.googleapis.com/v1/projects/ee-foss4g/maps/d4aaa44996eacd49bdd039269194bec8-c66921aabdf5b54c1a66a86dc63e27e2/tiles/{z}/{x}/{y}",
            "visible": true,
            "zoom_offset": 0
          }
        },
        "a653215b6aaa4cb98562e40731b2f456": {
          "model_module": "@jupyter-widgets/base",
          "model_name": "LayoutModel",
          "model_module_version": "1.2.0",
          "state": {
            "_model_module": "@jupyter-widgets/base",
            "_model_module_version": "1.2.0",
            "_model_name": "LayoutModel",
            "_view_count": null,
            "_view_module": "@jupyter-widgets/base",
            "_view_module_version": "1.2.0",
            "_view_name": "LayoutView",
            "align_content": null,
            "align_items": null,
            "align_self": null,
            "border": null,
            "bottom": null,
            "display": null,
            "flex": null,
            "flex_flow": null,
            "grid_area": null,
            "grid_auto_columns": null,
            "grid_auto_flow": null,
            "grid_auto_rows": null,
            "grid_column": null,
            "grid_gap": null,
            "grid_row": null,
            "grid_template_areas": null,
            "grid_template_columns": null,
            "grid_template_rows": null,
            "height": "400px",
            "justify_content": null,
            "justify_items": null,
            "left": null,
            "margin": null,
            "max_height": null,
            "max_width": null,
            "min_height": null,
            "min_width": null,
            "object_fit": null,
            "object_position": null,
            "order": null,
            "overflow": null,
            "overflow_x": null,
            "overflow_y": null,
            "padding": null,
            "right": null,
            "top": null,
            "visibility": null,
            "width": "800px"
          }
        },
        "3c1991a04a034274a23301daa0df8def": {
          "model_module": "jupyter-leaflet",
          "model_name": "LeafletMapStyleModel",
          "model_module_version": "^0.18",
          "state": {
            "_model_module": "jupyter-leaflet",
            "_model_module_version": "^0.18",
            "_model_name": "LeafletMapStyleModel",
            "_view_count": null,
            "_view_module": "@jupyter-widgets/base",
            "_view_module_version": "1.2.0",
            "_view_name": "StyleView",
            "cursor": "grab"
          }
        },
        "fad88e7a16ed49eb863edc36e87306a5": {
          "model_module": "@jupyter-widgets/controls",
          "model_name": "HBoxModel",
          "model_module_version": "1.5.0",
          "state": {
            "_dom_classes": [
              "geemap-colab"
            ],
            "_model_module": "@jupyter-widgets/controls",
            "_model_module_version": "1.5.0",
            "_model_name": "HBoxModel",
            "_view_count": null,
            "_view_module": "@jupyter-widgets/controls",
            "_view_module_version": "1.5.0",
            "_view_name": "HBoxView",
            "box_style": "",
            "children": [
              "IPY_MODEL_e77301b34b064c718036e8f733468540"
            ],
            "layout": "IPY_MODEL_4114af11b72241079152b86bdb0ce7a1"
          }
        },
        "4d1a5eca8e1741b1a64bbc86a130d858": {
          "model_module": "@jupyter-widgets/controls",
          "model_name": "VBoxModel",
          "model_module_version": "1.5.0",
          "state": {
            "_dom_classes": [
              "geemap-colab"
            ],
            "_model_module": "@jupyter-widgets/controls",
            "_model_module_version": "1.5.0",
            "_model_name": "VBoxModel",
            "_view_count": null,
            "_view_module": "@jupyter-widgets/controls",
            "_view_module_version": "1.5.0",
            "_view_name": "VBoxView",
            "box_style": "",
            "children": [
              "IPY_MODEL_05b91655ccc143cfaeb60afd3db56f70"
            ],
            "layout": "IPY_MODEL_6f52a55b1de54e08a7e03bcbd2859be4"
          }
        },
        "b6e0093d6c81487ab393c7a16a0f1a5f": {
          "model_module": "@jupyter-widgets/output",
          "model_name": "OutputModel",
          "model_module_version": "1.0.0",
          "state": {
            "_dom_classes": [
              "geemap-colab"
            ],
            "_model_module": "@jupyter-widgets/output",
            "_model_module_version": "1.0.0",
            "_model_name": "OutputModel",
            "_view_count": null,
            "_view_module": "@jupyter-widgets/output",
            "_view_module_version": "1.0.0",
            "_view_name": "OutputView",
            "layout": "IPY_MODEL_75411fd9f58c4946bf4c6e448ad180ff",
            "msg_id": "",
            "outputs": [
              {
                "output_type": "display_data",
                "data": {
                  "text/plain": "<Figure size 30x300 with 1 Axes>",
                  "image/png": "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\n"
                },
                "metadata": {}
              }
            ]
          }
        },
        "e77301b34b064c718036e8f733468540": {
          "model_module": "@jupyter-widgets/controls",
          "model_name": "ToggleButtonModel",
          "model_module_version": "1.5.0",
          "state": {
            "_dom_classes": [],
            "_model_module": "@jupyter-widgets/controls",
            "_model_module_version": "1.5.0",
            "_model_name": "ToggleButtonModel",
            "_view_count": null,
            "_view_module": "@jupyter-widgets/controls",
            "_view_module_version": "1.5.0",
            "_view_name": "ToggleButtonView",
            "button_style": "",
            "description": "",
            "description_tooltip": null,
            "disabled": false,
            "icon": "globe",
            "layout": "IPY_MODEL_c0d4a75a84fb4d1a9e9db10acb50f1cc",
            "style": "IPY_MODEL_a382a6e14bde4c4b8d5f4a9f161bb25a",
            "tooltip": "Search location/data",
            "value": false
          }
        },
        "4114af11b72241079152b86bdb0ce7a1": {
          "model_module": "@jupyter-widgets/base",
          "model_name": "LayoutModel",
          "model_module_version": "1.2.0",
          "state": {
            "_model_module": "@jupyter-widgets/base",
            "_model_module_version": "1.2.0",
            "_model_name": "LayoutModel",
            "_view_count": null,
            "_view_module": "@jupyter-widgets/base",
            "_view_module_version": "1.2.0",
            "_view_name": "LayoutView",
            "align_content": null,
            "align_items": null,
            "align_self": null,
            "border": null,
            "bottom": null,
            "display": null,
            "flex": null,
            "flex_flow": null,
            "grid_area": null,
            "grid_auto_columns": null,
            "grid_auto_flow": null,
            "grid_auto_rows": null,
            "grid_column": null,
            "grid_gap": null,
            "grid_row": null,
            "grid_template_areas": null,
            "grid_template_columns": null,
            "grid_template_rows": null,
            "height": null,
            "justify_content": null,
            "justify_items": null,
            "left": null,
            "margin": null,
            "max_height": null,
            "max_width": null,
            "min_height": null,
            "min_width": null,
            "object_fit": null,
            "object_position": null,
            "order": null,
            "overflow": null,
            "overflow_x": null,
            "overflow_y": null,
            "padding": null,
            "right": null,
            "top": null,
            "visibility": null,
            "width": null
          }
        },
        "05b91655ccc143cfaeb60afd3db56f70": {
          "model_module": "@jupyter-widgets/controls",
          "model_name": "ToggleButtonModel",
          "model_module_version": "1.5.0",
          "state": {
            "_dom_classes": [],
            "_model_module": "@jupyter-widgets/controls",
            "_model_module_version": "1.5.0",
            "_model_name": "ToggleButtonModel",
            "_view_count": null,
            "_view_module": "@jupyter-widgets/controls",
            "_view_module_version": "1.5.0",
            "_view_name": "ToggleButtonView",
            "button_style": "",
            "description": "",
            "description_tooltip": null,
            "disabled": false,
            "icon": "wrench",
            "layout": "IPY_MODEL_e61f5b7c0f2847af95f6e35724de494e",
            "style": "IPY_MODEL_4795595e490e4a4884d3044000f9a729",
            "tooltip": "Toolbar",
            "value": false
          }
        },
        "6f52a55b1de54e08a7e03bcbd2859be4": {
          "model_module": "@jupyter-widgets/base",
          "model_name": "LayoutModel",
          "model_module_version": "1.2.0",
          "state": {
            "_model_module": "@jupyter-widgets/base",
            "_model_module_version": "1.2.0",
            "_model_name": "LayoutModel",
            "_view_count": null,
            "_view_module": "@jupyter-widgets/base",
            "_view_module_version": "1.2.0",
            "_view_name": "LayoutView",
            "align_content": null,
            "align_items": null,
            "align_self": null,
            "border": null,
            "bottom": null,
            "display": null,
            "flex": null,
            "flex_flow": null,
            "grid_area": null,
            "grid_auto_columns": null,
            "grid_auto_flow": null,
            "grid_auto_rows": null,
            "grid_column": null,
            "grid_gap": null,
            "grid_row": null,
            "grid_template_areas": null,
            "grid_template_columns": null,
            "grid_template_rows": null,
            "height": null,
            "justify_content": null,
            "justify_items": null,
            "left": null,
            "margin": null,
            "max_height": null,
            "max_width": null,
            "min_height": null,
            "min_width": null,
            "object_fit": null,
            "object_position": null,
            "order": null,
            "overflow": null,
            "overflow_x": null,
            "overflow_y": null,
            "padding": null,
            "right": null,
            "top": null,
            "visibility": null,
            "width": null
          }
        },
        "75411fd9f58c4946bf4c6e448ad180ff": {
          "model_module": "@jupyter-widgets/base",
          "model_name": "LayoutModel",
          "model_module_version": "1.2.0",
          "state": {
            "_model_module": "@jupyter-widgets/base",
            "_model_module_version": "1.2.0",
            "_model_name": "LayoutModel",
            "_view_count": null,
            "_view_module": "@jupyter-widgets/base",
            "_view_module_version": "1.2.0",
            "_view_name": "LayoutView",
            "align_content": null,
            "align_items": null,
            "align_self": null,
            "border": null,
            "bottom": null,
            "display": null,
            "flex": null,
            "flex_flow": null,
            "grid_area": null,
            "grid_auto_columns": null,
            "grid_auto_flow": null,
            "grid_auto_rows": null,
            "grid_column": null,
            "grid_gap": null,
            "grid_row": null,
            "grid_template_areas": null,
            "grid_template_columns": null,
            "grid_template_rows": null,
            "height": null,
            "justify_content": null,
            "justify_items": null,
            "left": null,
            "margin": null,
            "max_height": null,
            "max_width": null,
            "min_height": null,
            "min_width": null,
            "object_fit": null,
            "object_position": null,
            "order": null,
            "overflow": null,
            "overflow_x": null,
            "overflow_y": null,
            "padding": null,
            "right": null,
            "top": null,
            "visibility": null,
            "width": "100px"
          }
        },
        "c0d4a75a84fb4d1a9e9db10acb50f1cc": {
          "model_module": "@jupyter-widgets/base",
          "model_name": "LayoutModel",
          "model_module_version": "1.2.0",
          "state": {
            "_model_module": "@jupyter-widgets/base",
            "_model_module_version": "1.2.0",
            "_model_name": "LayoutModel",
            "_view_count": null,
            "_view_module": "@jupyter-widgets/base",
            "_view_module_version": "1.2.0",
            "_view_name": "LayoutView",
            "align_content": null,
            "align_items": null,
            "align_self": null,
            "border": null,
            "bottom": null,
            "display": null,
            "flex": null,
            "flex_flow": null,
            "grid_area": null,
            "grid_auto_columns": null,
            "grid_auto_flow": null,
            "grid_auto_rows": null,
            "grid_column": null,
            "grid_gap": null,
            "grid_row": null,
            "grid_template_areas": null,
            "grid_template_columns": null,
            "grid_template_rows": null,
            "height": "28px",
            "justify_content": null,
            "justify_items": null,
            "left": null,
            "margin": null,
            "max_height": null,
            "max_width": null,
            "min_height": null,
            "min_width": null,
            "object_fit": null,
            "object_position": null,
            "order": null,
            "overflow": null,
            "overflow_x": null,
            "overflow_y": null,
            "padding": "0px 0px 0px 4px",
            "right": null,
            "top": null,
            "visibility": null,
            "width": "28px"
          }
        },
        "a382a6e14bde4c4b8d5f4a9f161bb25a": {
          "model_module": "@jupyter-widgets/controls",
          "model_name": "DescriptionStyleModel",
          "model_module_version": "1.5.0",
          "state": {
            "_model_module": "@jupyter-widgets/controls",
            "_model_module_version": "1.5.0",
            "_model_name": "DescriptionStyleModel",
            "_view_count": null,
            "_view_module": "@jupyter-widgets/base",
            "_view_module_version": "1.2.0",
            "_view_name": "StyleView",
            "description_width": ""
          }
        },
        "e61f5b7c0f2847af95f6e35724de494e": {
          "model_module": "@jupyter-widgets/base",
          "model_name": "LayoutModel",
          "model_module_version": "1.2.0",
          "state": {
            "_model_module": "@jupyter-widgets/base",
            "_model_module_version": "1.2.0",
            "_model_name": "LayoutModel",
            "_view_count": null,
            "_view_module": "@jupyter-widgets/base",
            "_view_module_version": "1.2.0",
            "_view_name": "LayoutView",
            "align_content": null,
            "align_items": null,
            "align_self": null,
            "border": null,
            "bottom": null,
            "display": null,
            "flex": null,
            "flex_flow": null,
            "grid_area": null,
            "grid_auto_columns": null,
            "grid_auto_flow": null,
            "grid_auto_rows": null,
            "grid_column": null,
            "grid_gap": null,
            "grid_row": null,
            "grid_template_areas": null,
            "grid_template_columns": null,
            "grid_template_rows": null,
            "height": "28px",
            "justify_content": null,
            "justify_items": null,
            "left": null,
            "margin": null,
            "max_height": null,
            "max_width": null,
            "min_height": null,
            "min_width": null,
            "object_fit": null,
            "object_position": null,
            "order": null,
            "overflow": null,
            "overflow_x": null,
            "overflow_y": null,
            "padding": "0px 0px 0px 4px",
            "right": null,
            "top": null,
            "visibility": null,
            "width": "28px"
          }
        },
        "4795595e490e4a4884d3044000f9a729": {
          "model_module": "@jupyter-widgets/controls",
          "model_name": "DescriptionStyleModel",
          "model_module_version": "1.5.0",
          "state": {
            "_model_module": "@jupyter-widgets/controls",
            "_model_module_version": "1.5.0",
            "_model_name": "DescriptionStyleModel",
            "_view_count": null,
            "_view_module": "@jupyter-widgets/base",
            "_view_module_version": "1.2.0",
            "_view_name": "StyleView",
            "description_width": ""
          }
        },
        "bc391947c589411495e97a2b9a4c3d78": {
          "model_module": "jupyter-leaflet",
          "model_name": "LeafletMapModel",
          "model_module_version": "^0.18",
          "state": {
            "_dom_classes": [],
            "_model_module": "jupyter-leaflet",
            "_model_module_version": "^0.18",
            "_model_name": "LeafletMapModel",
            "_view_count": null,
            "_view_module": "jupyter-leaflet",
            "_view_module_version": "^0.18",
            "_view_name": "LeafletMapView",
            "bottom": 6656,
            "bounce_at_zoom_limits": true,
            "box_zoom": true,
            "center": [
              35.60541125576072,
              127.04873061439156
            ],
            "close_popup_on_click": true,
            "controls": [
              "IPY_MODEL_70026b0e04c049eab18b239b19fbf896",
              "IPY_MODEL_631c6db3c69e460baf257df8b3384be8",
              "IPY_MODEL_97707b5ea2a94f11a1ec8e3395e8204d",
              "IPY_MODEL_6033ea52bae2495893d962c889b0af4f",
              "IPY_MODEL_9d533c926bac4117a028628f0294b34c",
              "IPY_MODEL_76c54fe0c1314b6081c225cf65060b5f",
              "IPY_MODEL_ff0b620e3bb44cf4880fe8a5b31252c8",
              "IPY_MODEL_3d71f81c0d5049dbb03754457985f45f",
              "IPY_MODEL_c8b062ec1415472c960d201e37585970"
            ],
            "crs": {
              "name": "EPSG3857",
              "custom": false
            },
            "default_style": "IPY_MODEL_aac161e30f8341d3a166da1e8f1fd3ed",
            "double_click_zoom": true,
            "dragging": true,
            "dragging_style": "IPY_MODEL_3d44abd50ca14407b3df95be35f1e7b3",
            "east": 135.83496093750003,
            "fullscreen": false,
            "inertia": true,
            "inertia_deceleration": 3000,
            "inertia_max_speed": 1500,
            "interpolation": "bilinear",
            "keyboard": true,
            "keyboard_pan_offset": 80,
            "keyboard_zoom_offset": 1,
            "layers": [
              "IPY_MODEL_669c2b123b06454b82f5b5f8471a10e5",
              "IPY_MODEL_700fb73bc32b4843b443e4cf0d47acb6"
            ],
            "layout": "IPY_MODEL_e65786a80a4d4beb866b8034fb1eb705",
            "left": 13574,
            "max_zoom": 24,
            "min_zoom": null,
            "modisdate": "2024-05-25",
            "north": 39.095962936305476,
            "options": [
              "bounce_at_zoom_limits",
              "box_zoom",
              "center",
              "close_popup_on_click",
              "double_click_zoom",
              "dragging",
              "fullscreen",
              "inertia",
              "inertia_deceleration",
              "inertia_max_speed",
              "interpolation",
              "keyboard",
              "keyboard_pan_offset",
              "keyboard_zoom_offset",
              "max_zoom",
              "min_zoom",
              "prefer_canvas",
              "scroll_wheel_zoom",
              "tap",
              "tap_tolerance",
              "touch_zoom",
              "world_copy_jump",
              "zoom",
              "zoom_animation_threshold",
              "zoom_delta",
              "zoom_snap"
            ],
            "panes": {},
            "prefer_canvas": false,
            "right": 14374,
            "scroll_wheel_zoom": true,
            "south": 31.952162238024975,
            "style": "IPY_MODEL_ca82bf3f4c5d40b9ba9fc24cf67e60b0",
            "tap": true,
            "tap_tolerance": 15,
            "top": 6256,
            "touch_zoom": true,
            "west": 118.25683593750001,
            "window_url": "https://ioysqj54nq-496ff2e9c6d22116-0-colab.googleusercontent.com/outputframe.html?vrz=colab_20240523-060110_RC00_636443439",
            "world_copy_jump": false,
            "zoom": 6,
            "zoom_animation_threshold": 4,
            "zoom_delta": 1,
            "zoom_snap": 1
          }
        },
        "70026b0e04c049eab18b239b19fbf896": {
          "model_module": "jupyter-leaflet",
          "model_name": "LeafletWidgetControlModel",
          "model_module_version": "^0.18",
          "state": {
            "_model_module": "jupyter-leaflet",
            "_model_module_version": "^0.18",
            "_model_name": "LeafletWidgetControlModel",
            "_view_count": null,
            "_view_module": "jupyter-leaflet",
            "_view_module_version": "^0.18",
            "_view_name": "LeafletWidgetControlView",
            "max_height": null,
            "max_width": null,
            "min_height": null,
            "min_width": null,
            "options": [
              "position",
              "transparent_bg"
            ],
            "position": "topleft",
            "transparent_bg": false,
            "widget": "IPY_MODEL_90e8c263dad1429bacfabb2398254fad"
          }
        },
        "631c6db3c69e460baf257df8b3384be8": {
          "model_module": "jupyter-leaflet",
          "model_name": "LeafletZoomControlModel",
          "model_module_version": "^0.18",
          "state": {
            "_model_module": "jupyter-leaflet",
            "_model_module_version": "^0.18",
            "_model_name": "LeafletZoomControlModel",
            "_view_count": null,
            "_view_module": "jupyter-leaflet",
            "_view_module_version": "^0.18",
            "_view_name": "LeafletZoomControlView",
            "options": [
              "position",
              "zoom_in_text",
              "zoom_in_title",
              "zoom_out_text",
              "zoom_out_title"
            ],
            "position": "topleft",
            "zoom_in_text": "+",
            "zoom_in_title": "Zoom in",
            "zoom_out_text": "-",
            "zoom_out_title": "Zoom out"
          }
        },
        "97707b5ea2a94f11a1ec8e3395e8204d": {
          "model_module": "jupyter-leaflet",
          "model_name": "LeafletFullScreenControlModel",
          "model_module_version": "^0.18",
          "state": {
            "_model_module": "jupyter-leaflet",
            "_model_module_version": "^0.18",
            "_model_name": "LeafletFullScreenControlModel",
            "_view_count": null,
            "_view_module": "jupyter-leaflet",
            "_view_module_version": "^0.18",
            "_view_name": "LeafletFullScreenControlView",
            "options": [
              "position"
            ],
            "position": "topleft"
          }
        },
        "6033ea52bae2495893d962c889b0af4f": {
          "model_module": "jupyter-leaflet",
          "model_name": "LeafletDrawControlModel",
          "model_module_version": "^0.18",
          "state": {
            "_model_module": "jupyter-leaflet",
            "_model_module_version": "^0.18",
            "_model_name": "LeafletDrawControlModel",
            "_view_count": null,
            "_view_module": "jupyter-leaflet",
            "_view_module_version": "^0.18",
            "_view_name": "LeafletDrawControlView",
            "circle": {},
            "circlemarker": {},
            "data": [],
            "edit": true,
            "marker": {
              "shapeOptions": {
                "color": "#3388ff"
              }
            },
            "options": [
              "position"
            ],
            "polygon": {
              "shapeOptions": {}
            },
            "polyline": {
              "shapeOptions": {}
            },
            "position": "topleft",
            "rectangle": {
              "shapeOptions": {
                "color": "#3388ff"
              }
            },
            "remove": true
          }
        },
        "9d533c926bac4117a028628f0294b34c": {
          "model_module": "jupyter-leaflet",
          "model_name": "LeafletScaleControlModel",
          "model_module_version": "^0.18",
          "state": {
            "_model_module": "jupyter-leaflet",
            "_model_module_version": "^0.18",
            "_model_name": "LeafletScaleControlModel",
            "_view_count": null,
            "_view_module": "jupyter-leaflet",
            "_view_module_version": "^0.18",
            "_view_name": "LeafletScaleControlView",
            "imperial": true,
            "max_width": 100,
            "metric": true,
            "options": [
              "imperial",
              "max_width",
              "metric",
              "position",
              "update_when_idle"
            ],
            "position": "bottomleft",
            "update_when_idle": false
          }
        },
        "76c54fe0c1314b6081c225cf65060b5f": {
          "model_module": "jupyter-leaflet",
          "model_name": "LeafletMeasureControlModel",
          "model_module_version": "^0.18",
          "state": {
            "_custom_units": {},
            "_model_module": "jupyter-leaflet",
            "_model_module_version": "^0.18",
            "_model_name": "LeafletMeasureControlModel",
            "_view_count": null,
            "_view_module": "jupyter-leaflet",
            "_view_module_version": "^0.18",
            "_view_name": "LeafletMeasureControlView",
            "active_color": "orange",
            "capture_z_index": 10000,
            "completed_color": "#C8F2BE",
            "options": [
              "active_color",
              "capture_z_index",
              "completed_color",
              "popup_options",
              "position",
              "primary_area_unit",
              "primary_length_unit",
              "secondary_area_unit",
              "secondary_length_unit"
            ],
            "popup_options": {
              "className": "leaflet-measure-resultpopup",
              "autoPanPadding": [
                10,
                10
              ]
            },
            "position": "bottomleft",
            "primary_area_unit": "acres",
            "primary_length_unit": "kilometers",
            "secondary_area_unit": null,
            "secondary_length_unit": null
          }
        },
        "ff0b620e3bb44cf4880fe8a5b31252c8": {
          "model_module": "jupyter-leaflet",
          "model_name": "LeafletWidgetControlModel",
          "model_module_version": "^0.18",
          "state": {
            "_model_module": "jupyter-leaflet",
            "_model_module_version": "^0.18",
            "_model_name": "LeafletWidgetControlModel",
            "_view_count": null,
            "_view_module": "jupyter-leaflet",
            "_view_module_version": "^0.18",
            "_view_name": "LeafletWidgetControlView",
            "max_height": null,
            "max_width": null,
            "min_height": null,
            "min_width": null,
            "options": [
              "position",
              "transparent_bg"
            ],
            "position": "topright",
            "transparent_bg": false,
            "widget": "IPY_MODEL_cdfd9e560c5b4eb599f7a566c43d248d"
          }
        },
        "3d71f81c0d5049dbb03754457985f45f": {
          "model_module": "jupyter-leaflet",
          "model_name": "LeafletAttributionControlModel",
          "model_module_version": "^0.18",
          "state": {
            "_model_module": "jupyter-leaflet",
            "_model_module_version": "^0.18",
            "_model_name": "LeafletAttributionControlModel",
            "_view_count": null,
            "_view_module": "jupyter-leaflet",
            "_view_module_version": "^0.18",
            "_view_name": "LeafletAttributionControlView",
            "options": [
              "position",
              "prefix"
            ],
            "position": "bottomright",
            "prefix": "ipyleaflet"
          }
        },
        "c8b062ec1415472c960d201e37585970": {
          "model_module": "jupyter-leaflet",
          "model_name": "LeafletWidgetControlModel",
          "model_module_version": "^0.18",
          "state": {
            "_model_module": "jupyter-leaflet",
            "_model_module_version": "^0.18",
            "_model_name": "LeafletWidgetControlModel",
            "_view_count": null,
            "_view_module": "jupyter-leaflet",
            "_view_module_version": "^0.18",
            "_view_name": "LeafletWidgetControlView",
            "max_height": null,
            "max_width": null,
            "min_height": null,
            "min_width": null,
            "options": [
              "position",
              "transparent_bg"
            ],
            "position": "bottomright",
            "transparent_bg": false,
            "widget": "IPY_MODEL_55699901fe744c9bad6fd50c8e6356d8"
          }
        },
        "aac161e30f8341d3a166da1e8f1fd3ed": {
          "model_module": "jupyter-leaflet",
          "model_name": "LeafletMapStyleModel",
          "model_module_version": "^0.18",
          "state": {
            "_model_module": "jupyter-leaflet",
            "_model_module_version": "^0.18",
            "_model_name": "LeafletMapStyleModel",
            "_view_count": null,
            "_view_module": "@jupyter-widgets/base",
            "_view_module_version": "1.2.0",
            "_view_name": "StyleView",
            "cursor": "grab"
          }
        },
        "3d44abd50ca14407b3df95be35f1e7b3": {
          "model_module": "jupyter-leaflet",
          "model_name": "LeafletMapStyleModel",
          "model_module_version": "^0.18",
          "state": {
            "_model_module": "jupyter-leaflet",
            "_model_module_version": "^0.18",
            "_model_name": "LeafletMapStyleModel",
            "_view_count": null,
            "_view_module": "@jupyter-widgets/base",
            "_view_module_version": "1.2.0",
            "_view_name": "StyleView",
            "cursor": "move"
          }
        },
        "669c2b123b06454b82f5b5f8471a10e5": {
          "model_module": "jupyter-leaflet",
          "model_name": "LeafletTileLayerModel",
          "model_module_version": "^0.18",
          "state": {
            "_model_module": "jupyter-leaflet",
            "_model_module_version": "^0.18",
            "_model_name": "LeafletTileLayerModel",
            "_view_count": null,
            "_view_module": "jupyter-leaflet",
            "_view_module_version": "^0.18",
            "_view_name": "LeafletTileLayerView",
            "attribution": "&copy; <a href=\"https://www.openstreetmap.org/copyright\">OpenStreetMap</a> contributors",
            "base": true,
            "bottom": true,
            "bounds": null,
            "detect_retina": false,
            "loading": false,
            "max_native_zoom": null,
            "max_zoom": 19,
            "min_native_zoom": null,
            "min_zoom": 1,
            "name": "OpenStreetMap.Mapnik",
            "no_wrap": false,
            "opacity": 1,
            "options": [
              "attribution",
              "bounds",
              "detect_retina",
              "max_native_zoom",
              "max_zoom",
              "min_native_zoom",
              "min_zoom",
              "no_wrap",
              "tile_size",
              "tms",
              "zoom_offset"
            ],
            "pane": "",
            "popup": null,
            "popup_max_height": null,
            "popup_max_width": 300,
            "popup_min_width": 50,
            "show_loading": false,
            "subitems": [],
            "tile_size": 256,
            "tms": false,
            "url": "https://tile.openstreetmap.org/{z}/{x}/{y}.png",
            "visible": true,
            "zoom_offset": 0
          }
        },
        "700fb73bc32b4843b443e4cf0d47acb6": {
          "model_module": "jupyter-leaflet",
          "model_name": "LeafletTileLayerModel",
          "model_module_version": "^0.18",
          "state": {
            "_model_module": "jupyter-leaflet",
            "_model_module_version": "^0.18",
            "_model_name": "LeafletTileLayerModel",
            "_view_count": null,
            "_view_module": "jupyter-leaflet",
            "_view_module_version": "^0.18",
            "_view_name": "LeafletTileLayerView",
            "attribution": "Google Earth Engine",
            "base": false,
            "bottom": true,
            "bounds": null,
            "detect_retina": false,
            "loading": false,
            "max_native_zoom": null,
            "max_zoom": 24,
            "min_native_zoom": null,
            "min_zoom": 0,
            "name": "TCC",
            "no_wrap": false,
            "opacity": 1,
            "options": [
              "attribution",
              "bounds",
              "detect_retina",
              "max_native_zoom",
              "max_zoom",
              "min_native_zoom",
              "min_zoom",
              "no_wrap",
              "tile_size",
              "tms",
              "zoom_offset"
            ],
            "pane": "",
            "popup": null,
            "popup_max_height": null,
            "popup_max_width": 300,
            "popup_min_width": 50,
            "show_loading": false,
            "subitems": [],
            "tile_size": 256,
            "tms": false,
            "url": "https://earthengine.googleapis.com/v1/projects/ee-foss4g/maps/d68205895779d8a257c28b2ed9ad2ad5-a64a18b33e47df264b166bd1ea566a1a/tiles/{z}/{x}/{y}",
            "visible": true,
            "zoom_offset": 0
          }
        },
        "e65786a80a4d4beb866b8034fb1eb705": {
          "model_module": "@jupyter-widgets/base",
          "model_name": "LayoutModel",
          "model_module_version": "1.2.0",
          "state": {
            "_model_module": "@jupyter-widgets/base",
            "_model_module_version": "1.2.0",
            "_model_name": "LayoutModel",
            "_view_count": null,
            "_view_module": "@jupyter-widgets/base",
            "_view_module_version": "1.2.0",
            "_view_name": "LayoutView",
            "align_content": null,
            "align_items": null,
            "align_self": null,
            "border": null,
            "bottom": null,
            "display": null,
            "flex": null,
            "flex_flow": null,
            "grid_area": null,
            "grid_auto_columns": null,
            "grid_auto_flow": null,
            "grid_auto_rows": null,
            "grid_column": null,
            "grid_gap": null,
            "grid_row": null,
            "grid_template_areas": null,
            "grid_template_columns": null,
            "grid_template_rows": null,
            "height": "400px",
            "justify_content": null,
            "justify_items": null,
            "left": null,
            "margin": null,
            "max_height": null,
            "max_width": null,
            "min_height": null,
            "min_width": null,
            "object_fit": null,
            "object_position": null,
            "order": null,
            "overflow": null,
            "overflow_x": null,
            "overflow_y": null,
            "padding": null,
            "right": null,
            "top": null,
            "visibility": null,
            "width": "800px"
          }
        },
        "ca82bf3f4c5d40b9ba9fc24cf67e60b0": {
          "model_module": "jupyter-leaflet",
          "model_name": "LeafletMapStyleModel",
          "model_module_version": "^0.18",
          "state": {
            "_model_module": "jupyter-leaflet",
            "_model_module_version": "^0.18",
            "_model_name": "LeafletMapStyleModel",
            "_view_count": null,
            "_view_module": "@jupyter-widgets/base",
            "_view_module_version": "1.2.0",
            "_view_name": "StyleView",
            "cursor": "grab"
          }
        },
        "90e8c263dad1429bacfabb2398254fad": {
          "model_module": "@jupyter-widgets/controls",
          "model_name": "HBoxModel",
          "model_module_version": "1.5.0",
          "state": {
            "_dom_classes": [
              "geemap-colab"
            ],
            "_model_module": "@jupyter-widgets/controls",
            "_model_module_version": "1.5.0",
            "_model_name": "HBoxModel",
            "_view_count": null,
            "_view_module": "@jupyter-widgets/controls",
            "_view_module_version": "1.5.0",
            "_view_name": "HBoxView",
            "box_style": "",
            "children": [
              "IPY_MODEL_f724de671f46458bb7d43d840a90f176"
            ],
            "layout": "IPY_MODEL_f37cdcbbeed144c5b8b68af5079baef4"
          }
        },
        "cdfd9e560c5b4eb599f7a566c43d248d": {
          "model_module": "@jupyter-widgets/controls",
          "model_name": "VBoxModel",
          "model_module_version": "1.5.0",
          "state": {
            "_dom_classes": [
              "geemap-colab"
            ],
            "_model_module": "@jupyter-widgets/controls",
            "_model_module_version": "1.5.0",
            "_model_name": "VBoxModel",
            "_view_count": null,
            "_view_module": "@jupyter-widgets/controls",
            "_view_module_version": "1.5.0",
            "_view_name": "VBoxView",
            "box_style": "",
            "children": [
              "IPY_MODEL_4d820d3dcf154a36a55ec2c268b4d6c2"
            ],
            "layout": "IPY_MODEL_fffd57265e6043cdbc984c312305a04e"
          }
        },
        "55699901fe744c9bad6fd50c8e6356d8": {
          "model_module": "@jupyter-widgets/output",
          "model_name": "OutputModel",
          "model_module_version": "1.0.0",
          "state": {
            "_dom_classes": [
              "geemap-colab"
            ],
            "_model_module": "@jupyter-widgets/output",
            "_model_module_version": "1.0.0",
            "_model_name": "OutputModel",
            "_view_count": null,
            "_view_module": "@jupyter-widgets/output",
            "_view_module_version": "1.0.0",
            "_view_name": "OutputView",
            "layout": "IPY_MODEL_e839fd99f83249bf87c36bc1ba53f12a",
            "msg_id": "",
            "outputs": [
              {
                "output_type": "display_data",
                "data": {
                  "text/plain": "<Figure size 30x300 with 1 Axes>",
                  "image/png": "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\n"
                },
                "metadata": {}
              }
            ]
          }
        },
        "f724de671f46458bb7d43d840a90f176": {
          "model_module": "@jupyter-widgets/controls",
          "model_name": "ToggleButtonModel",
          "model_module_version": "1.5.0",
          "state": {
            "_dom_classes": [],
            "_model_module": "@jupyter-widgets/controls",
            "_model_module_version": "1.5.0",
            "_model_name": "ToggleButtonModel",
            "_view_count": null,
            "_view_module": "@jupyter-widgets/controls",
            "_view_module_version": "1.5.0",
            "_view_name": "ToggleButtonView",
            "button_style": "",
            "description": "",
            "description_tooltip": null,
            "disabled": false,
            "icon": "globe",
            "layout": "IPY_MODEL_39369c07d78a4adda5c8fb55799adffe",
            "style": "IPY_MODEL_33795dd89b764f8f83806e1bfb2ce58c",
            "tooltip": "Search location/data",
            "value": false
          }
        },
        "f37cdcbbeed144c5b8b68af5079baef4": {
          "model_module": "@jupyter-widgets/base",
          "model_name": "LayoutModel",
          "model_module_version": "1.2.0",
          "state": {
            "_model_module": "@jupyter-widgets/base",
            "_model_module_version": "1.2.0",
            "_model_name": "LayoutModel",
            "_view_count": null,
            "_view_module": "@jupyter-widgets/base",
            "_view_module_version": "1.2.0",
            "_view_name": "LayoutView",
            "align_content": null,
            "align_items": null,
            "align_self": null,
            "border": null,
            "bottom": null,
            "display": null,
            "flex": null,
            "flex_flow": null,
            "grid_area": null,
            "grid_auto_columns": null,
            "grid_auto_flow": null,
            "grid_auto_rows": null,
            "grid_column": null,
            "grid_gap": null,
            "grid_row": null,
            "grid_template_areas": null,
            "grid_template_columns": null,
            "grid_template_rows": null,
            "height": null,
            "justify_content": null,
            "justify_items": null,
            "left": null,
            "margin": null,
            "max_height": null,
            "max_width": null,
            "min_height": null,
            "min_width": null,
            "object_fit": null,
            "object_position": null,
            "order": null,
            "overflow": null,
            "overflow_x": null,
            "overflow_y": null,
            "padding": null,
            "right": null,
            "top": null,
            "visibility": null,
            "width": null
          }
        },
        "4d820d3dcf154a36a55ec2c268b4d6c2": {
          "model_module": "@jupyter-widgets/controls",
          "model_name": "ToggleButtonModel",
          "model_module_version": "1.5.0",
          "state": {
            "_dom_classes": [],
            "_model_module": "@jupyter-widgets/controls",
            "_model_module_version": "1.5.0",
            "_model_name": "ToggleButtonModel",
            "_view_count": null,
            "_view_module": "@jupyter-widgets/controls",
            "_view_module_version": "1.5.0",
            "_view_name": "ToggleButtonView",
            "button_style": "",
            "description": "",
            "description_tooltip": null,
            "disabled": false,
            "icon": "wrench",
            "layout": "IPY_MODEL_aa3a4c83b3214712859de706d6fb966a",
            "style": "IPY_MODEL_1aa7600e65684a51817207b20174fcf1",
            "tooltip": "Toolbar",
            "value": false
          }
        },
        "fffd57265e6043cdbc984c312305a04e": {
          "model_module": "@jupyter-widgets/base",
          "model_name": "LayoutModel",
          "model_module_version": "1.2.0",
          "state": {
            "_model_module": "@jupyter-widgets/base",
            "_model_module_version": "1.2.0",
            "_model_name": "LayoutModel",
            "_view_count": null,
            "_view_module": "@jupyter-widgets/base",
            "_view_module_version": "1.2.0",
            "_view_name": "LayoutView",
            "align_content": null,
            "align_items": null,
            "align_self": null,
            "border": null,
            "bottom": null,
            "display": null,
            "flex": null,
            "flex_flow": null,
            "grid_area": null,
            "grid_auto_columns": null,
            "grid_auto_flow": null,
            "grid_auto_rows": null,
            "grid_column": null,
            "grid_gap": null,
            "grid_row": null,
            "grid_template_areas": null,
            "grid_template_columns": null,
            "grid_template_rows": null,
            "height": null,
            "justify_content": null,
            "justify_items": null,
            "left": null,
            "margin": null,
            "max_height": null,
            "max_width": null,
            "min_height": null,
            "min_width": null,
            "object_fit": null,
            "object_position": null,
            "order": null,
            "overflow": null,
            "overflow_x": null,
            "overflow_y": null,
            "padding": null,
            "right": null,
            "top": null,
            "visibility": null,
            "width": null
          }
        },
        "e839fd99f83249bf87c36bc1ba53f12a": {
          "model_module": "@jupyter-widgets/base",
          "model_name": "LayoutModel",
          "model_module_version": "1.2.0",
          "state": {
            "_model_module": "@jupyter-widgets/base",
            "_model_module_version": "1.2.0",
            "_model_name": "LayoutModel",
            "_view_count": null,
            "_view_module": "@jupyter-widgets/base",
            "_view_module_version": "1.2.0",
            "_view_name": "LayoutView",
            "align_content": null,
            "align_items": null,
            "align_self": null,
            "border": null,
            "bottom": null,
            "display": null,
            "flex": null,
            "flex_flow": null,
            "grid_area": null,
            "grid_auto_columns": null,
            "grid_auto_flow": null,
            "grid_auto_rows": null,
            "grid_column": null,
            "grid_gap": null,
            "grid_row": null,
            "grid_template_areas": null,
            "grid_template_columns": null,
            "grid_template_rows": null,
            "height": null,
            "justify_content": null,
            "justify_items": null,
            "left": null,
            "margin": null,
            "max_height": null,
            "max_width": null,
            "min_height": null,
            "min_width": null,
            "object_fit": null,
            "object_position": null,
            "order": null,
            "overflow": null,
            "overflow_x": null,
            "overflow_y": null,
            "padding": null,
            "right": null,
            "top": null,
            "visibility": null,
            "width": "100px"
          }
        },
        "39369c07d78a4adda5c8fb55799adffe": {
          "model_module": "@jupyter-widgets/base",
          "model_name": "LayoutModel",
          "model_module_version": "1.2.0",
          "state": {
            "_model_module": "@jupyter-widgets/base",
            "_model_module_version": "1.2.0",
            "_model_name": "LayoutModel",
            "_view_count": null,
            "_view_module": "@jupyter-widgets/base",
            "_view_module_version": "1.2.0",
            "_view_name": "LayoutView",
            "align_content": null,
            "align_items": null,
            "align_self": null,
            "border": null,
            "bottom": null,
            "display": null,
            "flex": null,
            "flex_flow": null,
            "grid_area": null,
            "grid_auto_columns": null,
            "grid_auto_flow": null,
            "grid_auto_rows": null,
            "grid_column": null,
            "grid_gap": null,
            "grid_row": null,
            "grid_template_areas": null,
            "grid_template_columns": null,
            "grid_template_rows": null,
            "height": "28px",
            "justify_content": null,
            "justify_items": null,
            "left": null,
            "margin": null,
            "max_height": null,
            "max_width": null,
            "min_height": null,
            "min_width": null,
            "object_fit": null,
            "object_position": null,
            "order": null,
            "overflow": null,
            "overflow_x": null,
            "overflow_y": null,
            "padding": "0px 0px 0px 4px",
            "right": null,
            "top": null,
            "visibility": null,
            "width": "28px"
          }
        },
        "33795dd89b764f8f83806e1bfb2ce58c": {
          "model_module": "@jupyter-widgets/controls",
          "model_name": "DescriptionStyleModel",
          "model_module_version": "1.5.0",
          "state": {
            "_model_module": "@jupyter-widgets/controls",
            "_model_module_version": "1.5.0",
            "_model_name": "DescriptionStyleModel",
            "_view_count": null,
            "_view_module": "@jupyter-widgets/base",
            "_view_module_version": "1.2.0",
            "_view_name": "StyleView",
            "description_width": ""
          }
        },
        "aa3a4c83b3214712859de706d6fb966a": {
          "model_module": "@jupyter-widgets/base",
          "model_name": "LayoutModel",
          "model_module_version": "1.2.0",
          "state": {
            "_model_module": "@jupyter-widgets/base",
            "_model_module_version": "1.2.0",
            "_model_name": "LayoutModel",
            "_view_count": null,
            "_view_module": "@jupyter-widgets/base",
            "_view_module_version": "1.2.0",
            "_view_name": "LayoutView",
            "align_content": null,
            "align_items": null,
            "align_self": null,
            "border": null,
            "bottom": null,
            "display": null,
            "flex": null,
            "flex_flow": null,
            "grid_area": null,
            "grid_auto_columns": null,
            "grid_auto_flow": null,
            "grid_auto_rows": null,
            "grid_column": null,
            "grid_gap": null,
            "grid_row": null,
            "grid_template_areas": null,
            "grid_template_columns": null,
            "grid_template_rows": null,
            "height": "28px",
            "justify_content": null,
            "justify_items": null,
            "left": null,
            "margin": null,
            "max_height": null,
            "max_width": null,
            "min_height": null,
            "min_width": null,
            "object_fit": null,
            "object_position": null,
            "order": null,
            "overflow": null,
            "overflow_x": null,
            "overflow_y": null,
            "padding": "0px 0px 0px 4px",
            "right": null,
            "top": null,
            "visibility": null,
            "width": "28px"
          }
        },
        "1aa7600e65684a51817207b20174fcf1": {
          "model_module": "@jupyter-widgets/controls",
          "model_name": "DescriptionStyleModel",
          "model_module_version": "1.5.0",
          "state": {
            "_model_module": "@jupyter-widgets/controls",
            "_model_module_version": "1.5.0",
            "_model_name": "DescriptionStyleModel",
            "_view_count": null,
            "_view_module": "@jupyter-widgets/base",
            "_view_module_version": "1.2.0",
            "_view_name": "StyleView",
            "description_width": ""
          }
        },
        "c0d9e6785cdd4f31a4e684fc6966ac27": {
          "model_module": "jupyter-leaflet",
          "model_name": "LeafletMapModel",
          "model_module_version": "^0.18",
          "state": {
            "_dom_classes": [],
            "_model_module": "jupyter-leaflet",
            "_model_module_version": "^0.18",
            "_model_name": "LeafletMapModel",
            "_view_count": null,
            "_view_module": "jupyter-leaflet",
            "_view_module_version": "^0.18",
            "_view_name": "LeafletMapView",
            "bottom": 6656,
            "bounce_at_zoom_limits": true,
            "box_zoom": true,
            "center": [
              35.60541125576072,
              127.04873061439156
            ],
            "close_popup_on_click": true,
            "controls": [
              "IPY_MODEL_334cab410b9b4e03a0c204e8726e9479",
              "IPY_MODEL_34bf834aaec64e019cdf864d885d03d4",
              "IPY_MODEL_7cf1679eace745bcbe8d55936aa5c7fb",
              "IPY_MODEL_828a23d712c64242ae94e8db7bb03c8f",
              "IPY_MODEL_5881ee54aaf0475d8786533f337eb649",
              "IPY_MODEL_14e1b924536a4486b6e7e0d42fb55968",
              "IPY_MODEL_c119d6fe24cd4f578bd5f17fe73ac099",
              "IPY_MODEL_df4fecd93fce43368166082d616a9fb7",
              "IPY_MODEL_ebb8922174fb43a8a19da027ebfd3613"
            ],
            "crs": {
              "name": "EPSG3857",
              "custom": false
            },
            "default_style": "IPY_MODEL_d506d45a8f2648529d7e1ef7181d8282",
            "double_click_zoom": true,
            "dragging": true,
            "dragging_style": "IPY_MODEL_94481b0d90164053b1fd5c0e2988bd4d",
            "east": 135.83496093750003,
            "fullscreen": false,
            "inertia": true,
            "inertia_deceleration": 3000,
            "inertia_max_speed": 1500,
            "interpolation": "bilinear",
            "keyboard": true,
            "keyboard_pan_offset": 80,
            "keyboard_zoom_offset": 1,
            "layers": [
              "IPY_MODEL_273442722df74d90b7082adaa42f85da",
              "IPY_MODEL_c054a3cdcb8b45a3aa3059f22abd314f"
            ],
            "layout": "IPY_MODEL_1db13d5079394cd0b84bf919133aeaec",
            "left": 13574,
            "max_zoom": 24,
            "min_zoom": null,
            "modisdate": "2024-05-25",
            "north": 39.095962936305476,
            "options": [
              "bounce_at_zoom_limits",
              "box_zoom",
              "center",
              "close_popup_on_click",
              "double_click_zoom",
              "dragging",
              "fullscreen",
              "inertia",
              "inertia_deceleration",
              "inertia_max_speed",
              "interpolation",
              "keyboard",
              "keyboard_pan_offset",
              "keyboard_zoom_offset",
              "max_zoom",
              "min_zoom",
              "prefer_canvas",
              "scroll_wheel_zoom",
              "tap",
              "tap_tolerance",
              "touch_zoom",
              "world_copy_jump",
              "zoom",
              "zoom_animation_threshold",
              "zoom_delta",
              "zoom_snap"
            ],
            "panes": {},
            "prefer_canvas": false,
            "right": 14374,
            "scroll_wheel_zoom": true,
            "south": 31.952162238024975,
            "style": "IPY_MODEL_a97912eb20dd4cb883d91cb902523612",
            "tap": true,
            "tap_tolerance": 15,
            "top": 6256,
            "touch_zoom": true,
            "west": 118.25683593750001,
            "window_url": "https://ioysqj54nq-496ff2e9c6d22116-0-colab.googleusercontent.com/outputframe.html?vrz=colab_20240523-060110_RC00_636443439",
            "world_copy_jump": false,
            "zoom": 6,
            "zoom_animation_threshold": 4,
            "zoom_delta": 1,
            "zoom_snap": 1
          }
        },
        "334cab410b9b4e03a0c204e8726e9479": {
          "model_module": "jupyter-leaflet",
          "model_name": "LeafletWidgetControlModel",
          "model_module_version": "^0.18",
          "state": {
            "_model_module": "jupyter-leaflet",
            "_model_module_version": "^0.18",
            "_model_name": "LeafletWidgetControlModel",
            "_view_count": null,
            "_view_module": "jupyter-leaflet",
            "_view_module_version": "^0.18",
            "_view_name": "LeafletWidgetControlView",
            "max_height": null,
            "max_width": null,
            "min_height": null,
            "min_width": null,
            "options": [
              "position",
              "transparent_bg"
            ],
            "position": "topleft",
            "transparent_bg": false,
            "widget": "IPY_MODEL_4167fda19a9f47c790df4f9814854129"
          }
        },
        "34bf834aaec64e019cdf864d885d03d4": {
          "model_module": "jupyter-leaflet",
          "model_name": "LeafletZoomControlModel",
          "model_module_version": "^0.18",
          "state": {
            "_model_module": "jupyter-leaflet",
            "_model_module_version": "^0.18",
            "_model_name": "LeafletZoomControlModel",
            "_view_count": null,
            "_view_module": "jupyter-leaflet",
            "_view_module_version": "^0.18",
            "_view_name": "LeafletZoomControlView",
            "options": [
              "position",
              "zoom_in_text",
              "zoom_in_title",
              "zoom_out_text",
              "zoom_out_title"
            ],
            "position": "topleft",
            "zoom_in_text": "+",
            "zoom_in_title": "Zoom in",
            "zoom_out_text": "-",
            "zoom_out_title": "Zoom out"
          }
        },
        "7cf1679eace745bcbe8d55936aa5c7fb": {
          "model_module": "jupyter-leaflet",
          "model_name": "LeafletFullScreenControlModel",
          "model_module_version": "^0.18",
          "state": {
            "_model_module": "jupyter-leaflet",
            "_model_module_version": "^0.18",
            "_model_name": "LeafletFullScreenControlModel",
            "_view_count": null,
            "_view_module": "jupyter-leaflet",
            "_view_module_version": "^0.18",
            "_view_name": "LeafletFullScreenControlView",
            "options": [
              "position"
            ],
            "position": "topleft"
          }
        },
        "828a23d712c64242ae94e8db7bb03c8f": {
          "model_module": "jupyter-leaflet",
          "model_name": "LeafletDrawControlModel",
          "model_module_version": "^0.18",
          "state": {
            "_model_module": "jupyter-leaflet",
            "_model_module_version": "^0.18",
            "_model_name": "LeafletDrawControlModel",
            "_view_count": null,
            "_view_module": "jupyter-leaflet",
            "_view_module_version": "^0.18",
            "_view_name": "LeafletDrawControlView",
            "circle": {},
            "circlemarker": {},
            "data": [],
            "edit": true,
            "marker": {
              "shapeOptions": {
                "color": "#3388ff"
              }
            },
            "options": [
              "position"
            ],
            "polygon": {
              "shapeOptions": {}
            },
            "polyline": {
              "shapeOptions": {}
            },
            "position": "topleft",
            "rectangle": {
              "shapeOptions": {
                "color": "#3388ff"
              }
            },
            "remove": true
          }
        },
        "5881ee54aaf0475d8786533f337eb649": {
          "model_module": "jupyter-leaflet",
          "model_name": "LeafletScaleControlModel",
          "model_module_version": "^0.18",
          "state": {
            "_model_module": "jupyter-leaflet",
            "_model_module_version": "^0.18",
            "_model_name": "LeafletScaleControlModel",
            "_view_count": null,
            "_view_module": "jupyter-leaflet",
            "_view_module_version": "^0.18",
            "_view_name": "LeafletScaleControlView",
            "imperial": true,
            "max_width": 100,
            "metric": true,
            "options": [
              "imperial",
              "max_width",
              "metric",
              "position",
              "update_when_idle"
            ],
            "position": "bottomleft",
            "update_when_idle": false
          }
        },
        "14e1b924536a4486b6e7e0d42fb55968": {
          "model_module": "jupyter-leaflet",
          "model_name": "LeafletMeasureControlModel",
          "model_module_version": "^0.18",
          "state": {
            "_custom_units": {},
            "_model_module": "jupyter-leaflet",
            "_model_module_version": "^0.18",
            "_model_name": "LeafletMeasureControlModel",
            "_view_count": null,
            "_view_module": "jupyter-leaflet",
            "_view_module_version": "^0.18",
            "_view_name": "LeafletMeasureControlView",
            "active_color": "orange",
            "capture_z_index": 10000,
            "completed_color": "#C8F2BE",
            "options": [
              "active_color",
              "capture_z_index",
              "completed_color",
              "popup_options",
              "position",
              "primary_area_unit",
              "primary_length_unit",
              "secondary_area_unit",
              "secondary_length_unit"
            ],
            "popup_options": {
              "className": "leaflet-measure-resultpopup",
              "autoPanPadding": [
                10,
                10
              ]
            },
            "position": "bottomleft",
            "primary_area_unit": "acres",
            "primary_length_unit": "kilometers",
            "secondary_area_unit": null,
            "secondary_length_unit": null
          }
        },
        "c119d6fe24cd4f578bd5f17fe73ac099": {
          "model_module": "jupyter-leaflet",
          "model_name": "LeafletWidgetControlModel",
          "model_module_version": "^0.18",
          "state": {
            "_model_module": "jupyter-leaflet",
            "_model_module_version": "^0.18",
            "_model_name": "LeafletWidgetControlModel",
            "_view_count": null,
            "_view_module": "jupyter-leaflet",
            "_view_module_version": "^0.18",
            "_view_name": "LeafletWidgetControlView",
            "max_height": null,
            "max_width": null,
            "min_height": null,
            "min_width": null,
            "options": [
              "position",
              "transparent_bg"
            ],
            "position": "topright",
            "transparent_bg": false,
            "widget": "IPY_MODEL_e033072179ab48f7b17936044ecaac5f"
          }
        },
        "df4fecd93fce43368166082d616a9fb7": {
          "model_module": "jupyter-leaflet",
          "model_name": "LeafletAttributionControlModel",
          "model_module_version": "^0.18",
          "state": {
            "_model_module": "jupyter-leaflet",
            "_model_module_version": "^0.18",
            "_model_name": "LeafletAttributionControlModel",
            "_view_count": null,
            "_view_module": "jupyter-leaflet",
            "_view_module_version": "^0.18",
            "_view_name": "LeafletAttributionControlView",
            "options": [
              "position",
              "prefix"
            ],
            "position": "bottomright",
            "prefix": "ipyleaflet"
          }
        },
        "ebb8922174fb43a8a19da027ebfd3613": {
          "model_module": "jupyter-leaflet",
          "model_name": "LeafletWidgetControlModel",
          "model_module_version": "^0.18",
          "state": {
            "_model_module": "jupyter-leaflet",
            "_model_module_version": "^0.18",
            "_model_name": "LeafletWidgetControlModel",
            "_view_count": null,
            "_view_module": "jupyter-leaflet",
            "_view_module_version": "^0.18",
            "_view_name": "LeafletWidgetControlView",
            "max_height": null,
            "max_width": null,
            "min_height": null,
            "min_width": null,
            "options": [
              "position",
              "transparent_bg"
            ],
            "position": "bottomright",
            "transparent_bg": false,
            "widget": "IPY_MODEL_207947c092a44e6c885610f473b45b31"
          }
        },
        "d506d45a8f2648529d7e1ef7181d8282": {
          "model_module": "jupyter-leaflet",
          "model_name": "LeafletMapStyleModel",
          "model_module_version": "^0.18",
          "state": {
            "_model_module": "jupyter-leaflet",
            "_model_module_version": "^0.18",
            "_model_name": "LeafletMapStyleModel",
            "_view_count": null,
            "_view_module": "@jupyter-widgets/base",
            "_view_module_version": "1.2.0",
            "_view_name": "StyleView",
            "cursor": "grab"
          }
        },
        "94481b0d90164053b1fd5c0e2988bd4d": {
          "model_module": "jupyter-leaflet",
          "model_name": "LeafletMapStyleModel",
          "model_module_version": "^0.18",
          "state": {
            "_model_module": "jupyter-leaflet",
            "_model_module_version": "^0.18",
            "_model_name": "LeafletMapStyleModel",
            "_view_count": null,
            "_view_module": "@jupyter-widgets/base",
            "_view_module_version": "1.2.0",
            "_view_name": "StyleView",
            "cursor": "move"
          }
        },
        "273442722df74d90b7082adaa42f85da": {
          "model_module": "jupyter-leaflet",
          "model_name": "LeafletTileLayerModel",
          "model_module_version": "^0.18",
          "state": {
            "_model_module": "jupyter-leaflet",
            "_model_module_version": "^0.18",
            "_model_name": "LeafletTileLayerModel",
            "_view_count": null,
            "_view_module": "jupyter-leaflet",
            "_view_module_version": "^0.18",
            "_view_name": "LeafletTileLayerView",
            "attribution": "&copy; <a href=\"https://www.openstreetmap.org/copyright\">OpenStreetMap</a> contributors",
            "base": true,
            "bottom": true,
            "bounds": null,
            "detect_retina": false,
            "loading": false,
            "max_native_zoom": null,
            "max_zoom": 19,
            "min_native_zoom": null,
            "min_zoom": 1,
            "name": "OpenStreetMap.Mapnik",
            "no_wrap": false,
            "opacity": 1,
            "options": [
              "attribution",
              "bounds",
              "detect_retina",
              "max_native_zoom",
              "max_zoom",
              "min_native_zoom",
              "min_zoom",
              "no_wrap",
              "tile_size",
              "tms",
              "zoom_offset"
            ],
            "pane": "",
            "popup": null,
            "popup_max_height": null,
            "popup_max_width": 300,
            "popup_min_width": 50,
            "show_loading": false,
            "subitems": [],
            "tile_size": 256,
            "tms": false,
            "url": "https://tile.openstreetmap.org/{z}/{x}/{y}.png",
            "visible": true,
            "zoom_offset": 0
          }
        },
        "c054a3cdcb8b45a3aa3059f22abd314f": {
          "model_module": "jupyter-leaflet",
          "model_name": "LeafletTileLayerModel",
          "model_module_version": "^0.18",
          "state": {
            "_model_module": "jupyter-leaflet",
            "_model_module_version": "^0.18",
            "_model_name": "LeafletTileLayerModel",
            "_view_count": null,
            "_view_module": "jupyter-leaflet",
            "_view_module_version": "^0.18",
            "_view_name": "LeafletTileLayerView",
            "attribution": "Google Earth Engine",
            "base": false,
            "bottom": true,
            "bounds": null,
            "detect_retina": false,
            "loading": false,
            "max_native_zoom": null,
            "max_zoom": 24,
            "min_native_zoom": null,
            "min_zoom": 0,
            "name": "gHM",
            "no_wrap": false,
            "opacity": 1,
            "options": [
              "attribution",
              "bounds",
              "detect_retina",
              "max_native_zoom",
              "max_zoom",
              "min_native_zoom",
              "min_zoom",
              "no_wrap",
              "tile_size",
              "tms",
              "zoom_offset"
            ],
            "pane": "",
            "popup": null,
            "popup_max_height": null,
            "popup_max_width": 300,
            "popup_min_width": 50,
            "show_loading": false,
            "subitems": [],
            "tile_size": 256,
            "tms": false,
            "url": "https://earthengine.googleapis.com/v1/projects/ee-foss4g/maps/759b7059fecf8bbb540f4bc718128a99-72e02c3f0811824905a69a8ca9acc886/tiles/{z}/{x}/{y}",
            "visible": true,
            "zoom_offset": 0
          }
        },
        "1db13d5079394cd0b84bf919133aeaec": {
          "model_module": "@jupyter-widgets/base",
          "model_name": "LayoutModel",
          "model_module_version": "1.2.0",
          "state": {
            "_model_module": "@jupyter-widgets/base",
            "_model_module_version": "1.2.0",
            "_model_name": "LayoutModel",
            "_view_count": null,
            "_view_module": "@jupyter-widgets/base",
            "_view_module_version": "1.2.0",
            "_view_name": "LayoutView",
            "align_content": null,
            "align_items": null,
            "align_self": null,
            "border": null,
            "bottom": null,
            "display": null,
            "flex": null,
            "flex_flow": null,
            "grid_area": null,
            "grid_auto_columns": null,
            "grid_auto_flow": null,
            "grid_auto_rows": null,
            "grid_column": null,
            "grid_gap": null,
            "grid_row": null,
            "grid_template_areas": null,
            "grid_template_columns": null,
            "grid_template_rows": null,
            "height": "400px",
            "justify_content": null,
            "justify_items": null,
            "left": null,
            "margin": null,
            "max_height": null,
            "max_width": null,
            "min_height": null,
            "min_width": null,
            "object_fit": null,
            "object_position": null,
            "order": null,
            "overflow": null,
            "overflow_x": null,
            "overflow_y": null,
            "padding": null,
            "right": null,
            "top": null,
            "visibility": null,
            "width": "800px"
          }
        },
        "a97912eb20dd4cb883d91cb902523612": {
          "model_module": "jupyter-leaflet",
          "model_name": "LeafletMapStyleModel",
          "model_module_version": "^0.18",
          "state": {
            "_model_module": "jupyter-leaflet",
            "_model_module_version": "^0.18",
            "_model_name": "LeafletMapStyleModel",
            "_view_count": null,
            "_view_module": "@jupyter-widgets/base",
            "_view_module_version": "1.2.0",
            "_view_name": "StyleView",
            "cursor": "grab"
          }
        },
        "4167fda19a9f47c790df4f9814854129": {
          "model_module": "@jupyter-widgets/controls",
          "model_name": "HBoxModel",
          "model_module_version": "1.5.0",
          "state": {
            "_dom_classes": [
              "geemap-colab"
            ],
            "_model_module": "@jupyter-widgets/controls",
            "_model_module_version": "1.5.0",
            "_model_name": "HBoxModel",
            "_view_count": null,
            "_view_module": "@jupyter-widgets/controls",
            "_view_module_version": "1.5.0",
            "_view_name": "HBoxView",
            "box_style": "",
            "children": [
              "IPY_MODEL_7fb8f63c1b5446a887c335ce1d5f74b5"
            ],
            "layout": "IPY_MODEL_dbf3b78f6d264d8fa52efc48bc653632"
          }
        },
        "e033072179ab48f7b17936044ecaac5f": {
          "model_module": "@jupyter-widgets/controls",
          "model_name": "VBoxModel",
          "model_module_version": "1.5.0",
          "state": {
            "_dom_classes": [
              "geemap-colab"
            ],
            "_model_module": "@jupyter-widgets/controls",
            "_model_module_version": "1.5.0",
            "_model_name": "VBoxModel",
            "_view_count": null,
            "_view_module": "@jupyter-widgets/controls",
            "_view_module_version": "1.5.0",
            "_view_name": "VBoxView",
            "box_style": "",
            "children": [
              "IPY_MODEL_9fbee614b9b54216a9001cef824c1526"
            ],
            "layout": "IPY_MODEL_6fd4732e997a477eb473506c18cabd00"
          }
        },
        "207947c092a44e6c885610f473b45b31": {
          "model_module": "@jupyter-widgets/output",
          "model_name": "OutputModel",
          "model_module_version": "1.0.0",
          "state": {
            "_dom_classes": [
              "geemap-colab"
            ],
            "_model_module": "@jupyter-widgets/output",
            "_model_module_version": "1.0.0",
            "_model_name": "OutputModel",
            "_view_count": null,
            "_view_module": "@jupyter-widgets/output",
            "_view_module_version": "1.0.0",
            "_view_name": "OutputView",
            "layout": "IPY_MODEL_cea4b744e3d84dcc80b9a0aa534819db",
            "msg_id": "",
            "outputs": [
              {
                "output_type": "display_data",
                "data": {
                  "text/plain": "<Figure size 30x300 with 1 Axes>",
                  "image/png": "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\n"
                },
                "metadata": {}
              }
            ]
          }
        },
        "7fb8f63c1b5446a887c335ce1d5f74b5": {
          "model_module": "@jupyter-widgets/controls",
          "model_name": "ToggleButtonModel",
          "model_module_version": "1.5.0",
          "state": {
            "_dom_classes": [],
            "_model_module": "@jupyter-widgets/controls",
            "_model_module_version": "1.5.0",
            "_model_name": "ToggleButtonModel",
            "_view_count": null,
            "_view_module": "@jupyter-widgets/controls",
            "_view_module_version": "1.5.0",
            "_view_name": "ToggleButtonView",
            "button_style": "",
            "description": "",
            "description_tooltip": null,
            "disabled": false,
            "icon": "globe",
            "layout": "IPY_MODEL_85b45d9aae4a4a26bfb25a71e9e2b4e4",
            "style": "IPY_MODEL_288fb29c339f47dc94c6e8b00e2b5fd7",
            "tooltip": "Search location/data",
            "value": false
          }
        },
        "dbf3b78f6d264d8fa52efc48bc653632": {
          "model_module": "@jupyter-widgets/base",
          "model_name": "LayoutModel",
          "model_module_version": "1.2.0",
          "state": {
            "_model_module": "@jupyter-widgets/base",
            "_model_module_version": "1.2.0",
            "_model_name": "LayoutModel",
            "_view_count": null,
            "_view_module": "@jupyter-widgets/base",
            "_view_module_version": "1.2.0",
            "_view_name": "LayoutView",
            "align_content": null,
            "align_items": null,
            "align_self": null,
            "border": null,
            "bottom": null,
            "display": null,
            "flex": null,
            "flex_flow": null,
            "grid_area": null,
            "grid_auto_columns": null,
            "grid_auto_flow": null,
            "grid_auto_rows": null,
            "grid_column": null,
            "grid_gap": null,
            "grid_row": null,
            "grid_template_areas": null,
            "grid_template_columns": null,
            "grid_template_rows": null,
            "height": null,
            "justify_content": null,
            "justify_items": null,
            "left": null,
            "margin": null,
            "max_height": null,
            "max_width": null,
            "min_height": null,
            "min_width": null,
            "object_fit": null,
            "object_position": null,
            "order": null,
            "overflow": null,
            "overflow_x": null,
            "overflow_y": null,
            "padding": null,
            "right": null,
            "top": null,
            "visibility": null,
            "width": null
          }
        },
        "9fbee614b9b54216a9001cef824c1526": {
          "model_module": "@jupyter-widgets/controls",
          "model_name": "ToggleButtonModel",
          "model_module_version": "1.5.0",
          "state": {
            "_dom_classes": [],
            "_model_module": "@jupyter-widgets/controls",
            "_model_module_version": "1.5.0",
            "_model_name": "ToggleButtonModel",
            "_view_count": null,
            "_view_module": "@jupyter-widgets/controls",
            "_view_module_version": "1.5.0",
            "_view_name": "ToggleButtonView",
            "button_style": "",
            "description": "",
            "description_tooltip": null,
            "disabled": false,
            "icon": "wrench",
            "layout": "IPY_MODEL_4a670f1a882c401faf251d8409fc572a",
            "style": "IPY_MODEL_cf07a53cb1804d7a9d12577182854bbb",
            "tooltip": "Toolbar",
            "value": false
          }
        },
        "6fd4732e997a477eb473506c18cabd00": {
          "model_module": "@jupyter-widgets/base",
          "model_name": "LayoutModel",
          "model_module_version": "1.2.0",
          "state": {
            "_model_module": "@jupyter-widgets/base",
            "_model_module_version": "1.2.0",
            "_model_name": "LayoutModel",
            "_view_count": null,
            "_view_module": "@jupyter-widgets/base",
            "_view_module_version": "1.2.0",
            "_view_name": "LayoutView",
            "align_content": null,
            "align_items": null,
            "align_self": null,
            "border": null,
            "bottom": null,
            "display": null,
            "flex": null,
            "flex_flow": null,
            "grid_area": null,
            "grid_auto_columns": null,
            "grid_auto_flow": null,
            "grid_auto_rows": null,
            "grid_column": null,
            "grid_gap": null,
            "grid_row": null,
            "grid_template_areas": null,
            "grid_template_columns": null,
            "grid_template_rows": null,
            "height": null,
            "justify_content": null,
            "justify_items": null,
            "left": null,
            "margin": null,
            "max_height": null,
            "max_width": null,
            "min_height": null,
            "min_width": null,
            "object_fit": null,
            "object_position": null,
            "order": null,
            "overflow": null,
            "overflow_x": null,
            "overflow_y": null,
            "padding": null,
            "right": null,
            "top": null,
            "visibility": null,
            "width": null
          }
        },
        "cea4b744e3d84dcc80b9a0aa534819db": {
          "model_module": "@jupyter-widgets/base",
          "model_name": "LayoutModel",
          "model_module_version": "1.2.0",
          "state": {
            "_model_module": "@jupyter-widgets/base",
            "_model_module_version": "1.2.0",
            "_model_name": "LayoutModel",
            "_view_count": null,
            "_view_module": "@jupyter-widgets/base",
            "_view_module_version": "1.2.0",
            "_view_name": "LayoutView",
            "align_content": null,
            "align_items": null,
            "align_self": null,
            "border": null,
            "bottom": null,
            "display": null,
            "flex": null,
            "flex_flow": null,
            "grid_area": null,
            "grid_auto_columns": null,
            "grid_auto_flow": null,
            "grid_auto_rows": null,
            "grid_column": null,
            "grid_gap": null,
            "grid_row": null,
            "grid_template_areas": null,
            "grid_template_columns": null,
            "grid_template_rows": null,
            "height": null,
            "justify_content": null,
            "justify_items": null,
            "left": null,
            "margin": null,
            "max_height": null,
            "max_width": null,
            "min_height": null,
            "min_width": null,
            "object_fit": null,
            "object_position": null,
            "order": null,
            "overflow": null,
            "overflow_x": null,
            "overflow_y": null,
            "padding": null,
            "right": null,
            "top": null,
            "visibility": null,
            "width": "100px"
          }
        },
        "85b45d9aae4a4a26bfb25a71e9e2b4e4": {
          "model_module": "@jupyter-widgets/base",
          "model_name": "LayoutModel",
          "model_module_version": "1.2.0",
          "state": {
            "_model_module": "@jupyter-widgets/base",
            "_model_module_version": "1.2.0",
            "_model_name": "LayoutModel",
            "_view_count": null,
            "_view_module": "@jupyter-widgets/base",
            "_view_module_version": "1.2.0",
            "_view_name": "LayoutView",
            "align_content": null,
            "align_items": null,
            "align_self": null,
            "border": null,
            "bottom": null,
            "display": null,
            "flex": null,
            "flex_flow": null,
            "grid_area": null,
            "grid_auto_columns": null,
            "grid_auto_flow": null,
            "grid_auto_rows": null,
            "grid_column": null,
            "grid_gap": null,
            "grid_row": null,
            "grid_template_areas": null,
            "grid_template_columns": null,
            "grid_template_rows": null,
            "height": "28px",
            "justify_content": null,
            "justify_items": null,
            "left": null,
            "margin": null,
            "max_height": null,
            "max_width": null,
            "min_height": null,
            "min_width": null,
            "object_fit": null,
            "object_position": null,
            "order": null,
            "overflow": null,
            "overflow_x": null,
            "overflow_y": null,
            "padding": "0px 0px 0px 4px",
            "right": null,
            "top": null,
            "visibility": null,
            "width": "28px"
          }
        },
        "288fb29c339f47dc94c6e8b00e2b5fd7": {
          "model_module": "@jupyter-widgets/controls",
          "model_name": "DescriptionStyleModel",
          "model_module_version": "1.5.0",
          "state": {
            "_model_module": "@jupyter-widgets/controls",
            "_model_module_version": "1.5.0",
            "_model_name": "DescriptionStyleModel",
            "_view_count": null,
            "_view_module": "@jupyter-widgets/base",
            "_view_module_version": "1.2.0",
            "_view_name": "StyleView",
            "description_width": ""
          }
        },
        "4a670f1a882c401faf251d8409fc572a": {
          "model_module": "@jupyter-widgets/base",
          "model_name": "LayoutModel",
          "model_module_version": "1.2.0",
          "state": {
            "_model_module": "@jupyter-widgets/base",
            "_model_module_version": "1.2.0",
            "_model_name": "LayoutModel",
            "_view_count": null,
            "_view_module": "@jupyter-widgets/base",
            "_view_module_version": "1.2.0",
            "_view_name": "LayoutView",
            "align_content": null,
            "align_items": null,
            "align_self": null,
            "border": null,
            "bottom": null,
            "display": null,
            "flex": null,
            "flex_flow": null,
            "grid_area": null,
            "grid_auto_columns": null,
            "grid_auto_flow": null,
            "grid_auto_rows": null,
            "grid_column": null,
            "grid_gap": null,
            "grid_row": null,
            "grid_template_areas": null,
            "grid_template_columns": null,
            "grid_template_rows": null,
            "height": "28px",
            "justify_content": null,
            "justify_items": null,
            "left": null,
            "margin": null,
            "max_height": null,
            "max_width": null,
            "min_height": null,
            "min_width": null,
            "object_fit": null,
            "object_position": null,
            "order": null,
            "overflow": null,
            "overflow_x": null,
            "overflow_y": null,
            "padding": "0px 0px 0px 4px",
            "right": null,
            "top": null,
            "visibility": null,
            "width": "28px"
          }
        },
        "cf07a53cb1804d7a9d12577182854bbb": {
          "model_module": "@jupyter-widgets/controls",
          "model_name": "DescriptionStyleModel",
          "model_module_version": "1.5.0",
          "state": {
            "_model_module": "@jupyter-widgets/controls",
            "_model_module_version": "1.5.0",
            "_model_name": "DescriptionStyleModel",
            "_view_count": null,
            "_view_module": "@jupyter-widgets/base",
            "_view_module_version": "1.2.0",
            "_view_name": "StyleView",
            "description_width": ""
          }
        },
        "a4e20075abc14762bbd6836cccf6b3db": {
          "model_module": "jupyter-leaflet",
          "model_name": "LeafletMapModel",
          "model_module_version": "^0.18",
          "state": {
            "_dom_classes": [],
            "_model_module": "jupyter-leaflet",
            "_model_module_version": "^0.18",
            "_model_name": "LeafletMapModel",
            "_view_count": null,
            "_view_module": "jupyter-leaflet",
            "_view_module_version": "^0.18",
            "_view_name": "LeafletMapView",
            "bottom": 6656,
            "bounce_at_zoom_limits": true,
            "box_zoom": true,
            "center": [
              35.60541125576072,
              127.04873061439156
            ],
            "close_popup_on_click": true,
            "controls": [
              "IPY_MODEL_bad37cad08034503ab94f82798502454",
              "IPY_MODEL_320f145049b74358ab381aac1c2a7585",
              "IPY_MODEL_0decf41fd673408ea1a709c58d88541e",
              "IPY_MODEL_8b81923ac3a94e4cadcafc17e5b83e59",
              "IPY_MODEL_68c4434c5ecc4e6a80db97682a9c155d",
              "IPY_MODEL_438b7e9abfdb4d68bb4fbadb145f84ee",
              "IPY_MODEL_fbbac76467354e0a8395e71934c36ed9",
              "IPY_MODEL_aeade3a17d1f46d89a9a35c4fcdbfe22"
            ],
            "crs": {
              "name": "EPSG3857",
              "custom": false
            },
            "default_style": "IPY_MODEL_8755e0f7402345ba847bf065b6e7dd12",
            "double_click_zoom": true,
            "dragging": true,
            "dragging_style": "IPY_MODEL_8994af94ffb14bb58e2adea252c56cd8",
            "east": 135.83496093750003,
            "fullscreen": false,
            "inertia": true,
            "inertia_deceleration": 3000,
            "inertia_max_speed": 1500,
            "interpolation": "bilinear",
            "keyboard": true,
            "keyboard_pan_offset": 80,
            "keyboard_zoom_offset": 1,
            "layers": [
              "IPY_MODEL_79a997f04edc460ca25bd923739fb623",
              "IPY_MODEL_d4e9e33a96e74ef68f76f3bea74191ae"
            ],
            "layout": "IPY_MODEL_26171e0c31054b04bc7e0e7a24e86ca1",
            "left": 13574,
            "max_zoom": 24,
            "min_zoom": null,
            "modisdate": "2024-05-25",
            "north": 39.095962936305476,
            "options": [
              "bounce_at_zoom_limits",
              "box_zoom",
              "center",
              "close_popup_on_click",
              "double_click_zoom",
              "dragging",
              "fullscreen",
              "inertia",
              "inertia_deceleration",
              "inertia_max_speed",
              "interpolation",
              "keyboard",
              "keyboard_pan_offset",
              "keyboard_zoom_offset",
              "max_zoom",
              "min_zoom",
              "prefer_canvas",
              "scroll_wheel_zoom",
              "tap",
              "tap_tolerance",
              "touch_zoom",
              "world_copy_jump",
              "zoom",
              "zoom_animation_threshold",
              "zoom_delta",
              "zoom_snap"
            ],
            "panes": {},
            "prefer_canvas": false,
            "right": 14374,
            "scroll_wheel_zoom": true,
            "south": 31.952162238024975,
            "style": "IPY_MODEL_b9c76da016bd46adb1ffd52632f1821c",
            "tap": true,
            "tap_tolerance": 15,
            "top": 6256,
            "touch_zoom": true,
            "west": 118.25683593750001,
            "window_url": "https://ioysqj54nq-496ff2e9c6d22116-0-colab.googleusercontent.com/outputframe.html?vrz=colab_20240523-060110_RC00_636443439",
            "world_copy_jump": false,
            "zoom": 6,
            "zoom_animation_threshold": 4,
            "zoom_delta": 1,
            "zoom_snap": 1
          }
        },
        "bad37cad08034503ab94f82798502454": {
          "model_module": "jupyter-leaflet",
          "model_name": "LeafletWidgetControlModel",
          "model_module_version": "^0.18",
          "state": {
            "_model_module": "jupyter-leaflet",
            "_model_module_version": "^0.18",
            "_model_name": "LeafletWidgetControlModel",
            "_view_count": null,
            "_view_module": "jupyter-leaflet",
            "_view_module_version": "^0.18",
            "_view_name": "LeafletWidgetControlView",
            "max_height": null,
            "max_width": null,
            "min_height": null,
            "min_width": null,
            "options": [
              "position",
              "transparent_bg"
            ],
            "position": "topleft",
            "transparent_bg": false,
            "widget": "IPY_MODEL_28482410f3cd4aa39fdf5761c6df1077"
          }
        },
        "320f145049b74358ab381aac1c2a7585": {
          "model_module": "jupyter-leaflet",
          "model_name": "LeafletZoomControlModel",
          "model_module_version": "^0.18",
          "state": {
            "_model_module": "jupyter-leaflet",
            "_model_module_version": "^0.18",
            "_model_name": "LeafletZoomControlModel",
            "_view_count": null,
            "_view_module": "jupyter-leaflet",
            "_view_module_version": "^0.18",
            "_view_name": "LeafletZoomControlView",
            "options": [
              "position",
              "zoom_in_text",
              "zoom_in_title",
              "zoom_out_text",
              "zoom_out_title"
            ],
            "position": "topleft",
            "zoom_in_text": "+",
            "zoom_in_title": "Zoom in",
            "zoom_out_text": "-",
            "zoom_out_title": "Zoom out"
          }
        },
        "0decf41fd673408ea1a709c58d88541e": {
          "model_module": "jupyter-leaflet",
          "model_name": "LeafletFullScreenControlModel",
          "model_module_version": "^0.18",
          "state": {
            "_model_module": "jupyter-leaflet",
            "_model_module_version": "^0.18",
            "_model_name": "LeafletFullScreenControlModel",
            "_view_count": null,
            "_view_module": "jupyter-leaflet",
            "_view_module_version": "^0.18",
            "_view_name": "LeafletFullScreenControlView",
            "options": [
              "position"
            ],
            "position": "topleft"
          }
        },
        "8b81923ac3a94e4cadcafc17e5b83e59": {
          "model_module": "jupyter-leaflet",
          "model_name": "LeafletDrawControlModel",
          "model_module_version": "^0.18",
          "state": {
            "_model_module": "jupyter-leaflet",
            "_model_module_version": "^0.18",
            "_model_name": "LeafletDrawControlModel",
            "_view_count": null,
            "_view_module": "jupyter-leaflet",
            "_view_module_version": "^0.18",
            "_view_name": "LeafletDrawControlView",
            "circle": {},
            "circlemarker": {},
            "data": [],
            "edit": true,
            "marker": {
              "shapeOptions": {
                "color": "#3388ff"
              }
            },
            "options": [
              "position"
            ],
            "polygon": {
              "shapeOptions": {}
            },
            "polyline": {
              "shapeOptions": {}
            },
            "position": "topleft",
            "rectangle": {
              "shapeOptions": {
                "color": "#3388ff"
              }
            },
            "remove": true
          }
        },
        "68c4434c5ecc4e6a80db97682a9c155d": {
          "model_module": "jupyter-leaflet",
          "model_name": "LeafletScaleControlModel",
          "model_module_version": "^0.18",
          "state": {
            "_model_module": "jupyter-leaflet",
            "_model_module_version": "^0.18",
            "_model_name": "LeafletScaleControlModel",
            "_view_count": null,
            "_view_module": "jupyter-leaflet",
            "_view_module_version": "^0.18",
            "_view_name": "LeafletScaleControlView",
            "imperial": true,
            "max_width": 100,
            "metric": true,
            "options": [
              "imperial",
              "max_width",
              "metric",
              "position",
              "update_when_idle"
            ],
            "position": "bottomleft",
            "update_when_idle": false
          }
        },
        "438b7e9abfdb4d68bb4fbadb145f84ee": {
          "model_module": "jupyter-leaflet",
          "model_name": "LeafletMeasureControlModel",
          "model_module_version": "^0.18",
          "state": {
            "_custom_units": {},
            "_model_module": "jupyter-leaflet",
            "_model_module_version": "^0.18",
            "_model_name": "LeafletMeasureControlModel",
            "_view_count": null,
            "_view_module": "jupyter-leaflet",
            "_view_module_version": "^0.18",
            "_view_name": "LeafletMeasureControlView",
            "active_color": "orange",
            "capture_z_index": 10000,
            "completed_color": "#C8F2BE",
            "options": [
              "active_color",
              "capture_z_index",
              "completed_color",
              "popup_options",
              "position",
              "primary_area_unit",
              "primary_length_unit",
              "secondary_area_unit",
              "secondary_length_unit"
            ],
            "popup_options": {
              "className": "leaflet-measure-resultpopup",
              "autoPanPadding": [
                10,
                10
              ]
            },
            "position": "bottomleft",
            "primary_area_unit": "acres",
            "primary_length_unit": "kilometers",
            "secondary_area_unit": null,
            "secondary_length_unit": null
          }
        },
        "fbbac76467354e0a8395e71934c36ed9": {
          "model_module": "jupyter-leaflet",
          "model_name": "LeafletWidgetControlModel",
          "model_module_version": "^0.18",
          "state": {
            "_model_module": "jupyter-leaflet",
            "_model_module_version": "^0.18",
            "_model_name": "LeafletWidgetControlModel",
            "_view_count": null,
            "_view_module": "jupyter-leaflet",
            "_view_module_version": "^0.18",
            "_view_name": "LeafletWidgetControlView",
            "max_height": null,
            "max_width": null,
            "min_height": null,
            "min_width": null,
            "options": [
              "position",
              "transparent_bg"
            ],
            "position": "topright",
            "transparent_bg": false,
            "widget": "IPY_MODEL_0192469ed5c84d14b1ca0bc96cfcbf97"
          }
        },
        "aeade3a17d1f46d89a9a35c4fcdbfe22": {
          "model_module": "jupyter-leaflet",
          "model_name": "LeafletAttributionControlModel",
          "model_module_version": "^0.18",
          "state": {
            "_model_module": "jupyter-leaflet",
            "_model_module_version": "^0.18",
            "_model_name": "LeafletAttributionControlModel",
            "_view_count": null,
            "_view_module": "jupyter-leaflet",
            "_view_module_version": "^0.18",
            "_view_name": "LeafletAttributionControlView",
            "options": [
              "position",
              "prefix"
            ],
            "position": "bottomright",
            "prefix": "ipyleaflet"
          }
        },
        "8755e0f7402345ba847bf065b6e7dd12": {
          "model_module": "jupyter-leaflet",
          "model_name": "LeafletMapStyleModel",
          "model_module_version": "^0.18",
          "state": {
            "_model_module": "jupyter-leaflet",
            "_model_module_version": "^0.18",
            "_model_name": "LeafletMapStyleModel",
            "_view_count": null,
            "_view_module": "@jupyter-widgets/base",
            "_view_module_version": "1.2.0",
            "_view_name": "StyleView",
            "cursor": "grab"
          }
        },
        "8994af94ffb14bb58e2adea252c56cd8": {
          "model_module": "jupyter-leaflet",
          "model_name": "LeafletMapStyleModel",
          "model_module_version": "^0.18",
          "state": {
            "_model_module": "jupyter-leaflet",
            "_model_module_version": "^0.18",
            "_model_name": "LeafletMapStyleModel",
            "_view_count": null,
            "_view_module": "@jupyter-widgets/base",
            "_view_module_version": "1.2.0",
            "_view_name": "StyleView",
            "cursor": "move"
          }
        },
        "79a997f04edc460ca25bd923739fb623": {
          "model_module": "jupyter-leaflet",
          "model_name": "LeafletTileLayerModel",
          "model_module_version": "^0.18",
          "state": {
            "_model_module": "jupyter-leaflet",
            "_model_module_version": "^0.18",
            "_model_name": "LeafletTileLayerModel",
            "_view_count": null,
            "_view_module": "jupyter-leaflet",
            "_view_module_version": "^0.18",
            "_view_name": "LeafletTileLayerView",
            "attribution": "&copy; <a href=\"https://www.openstreetmap.org/copyright\">OpenStreetMap</a> contributors",
            "base": true,
            "bottom": true,
            "bounds": null,
            "detect_retina": false,
            "loading": false,
            "max_native_zoom": null,
            "max_zoom": 19,
            "min_native_zoom": null,
            "min_zoom": 1,
            "name": "OpenStreetMap.Mapnik",
            "no_wrap": false,
            "opacity": 1,
            "options": [
              "attribution",
              "bounds",
              "detect_retina",
              "max_native_zoom",
              "max_zoom",
              "min_native_zoom",
              "min_zoom",
              "no_wrap",
              "tile_size",
              "tms",
              "zoom_offset"
            ],
            "pane": "",
            "popup": null,
            "popup_max_height": null,
            "popup_max_width": 300,
            "popup_min_width": 50,
            "show_loading": false,
            "subitems": [],
            "tile_size": 256,
            "tms": false,
            "url": "https://tile.openstreetmap.org/{z}/{x}/{y}.png",
            "visible": true,
            "zoom_offset": 0
          }
        },
        "d4e9e33a96e74ef68f76f3bea74191ae": {
          "model_module": "jupyter-leaflet",
          "model_name": "LeafletTileLayerModel",
          "model_module_version": "^0.18",
          "state": {
            "_model_module": "jupyter-leaflet",
            "_model_module_version": "^0.18",
            "_model_name": "LeafletTileLayerModel",
            "_view_count": null,
            "_view_module": "jupyter-leaflet",
            "_view_module_version": "^0.18",
            "_view_name": "LeafletTileLayerView",
            "attribution": "Google Earth Engine",
            "base": false,
            "bottom": true,
            "bounds": null,
            "detect_retina": false,
            "loading": false,
            "max_native_zoom": null,
            "max_zoom": 24,
            "min_native_zoom": null,
            "min_zoom": 0,
            "name": "AreaForPA",
            "no_wrap": false,
            "opacity": 1,
            "options": [
              "attribution",
              "bounds",
              "detect_retina",
              "max_native_zoom",
              "max_zoom",
              "min_native_zoom",
              "min_zoom",
              "no_wrap",
              "tile_size",
              "tms",
              "zoom_offset"
            ],
            "pane": "",
            "popup": null,
            "popup_max_height": null,
            "popup_max_width": 300,
            "popup_min_width": 50,
            "show_loading": false,
            "subitems": [],
            "tile_size": 256,
            "tms": false,
            "url": "https://earthengine.googleapis.com/v1/projects/ee-foss4g/maps/2852c37f258ecbdd2101820a8193ddde-ad6e128f8f0e1745b4e622f656e84619/tiles/{z}/{x}/{y}",
            "visible": true,
            "zoom_offset": 0
          }
        },
        "26171e0c31054b04bc7e0e7a24e86ca1": {
          "model_module": "@jupyter-widgets/base",
          "model_name": "LayoutModel",
          "model_module_version": "1.2.0",
          "state": {
            "_model_module": "@jupyter-widgets/base",
            "_model_module_version": "1.2.0",
            "_model_name": "LayoutModel",
            "_view_count": null,
            "_view_module": "@jupyter-widgets/base",
            "_view_module_version": "1.2.0",
            "_view_name": "LayoutView",
            "align_content": null,
            "align_items": null,
            "align_self": null,
            "border": null,
            "bottom": null,
            "display": null,
            "flex": null,
            "flex_flow": null,
            "grid_area": null,
            "grid_auto_columns": null,
            "grid_auto_flow": null,
            "grid_auto_rows": null,
            "grid_column": null,
            "grid_gap": null,
            "grid_row": null,
            "grid_template_areas": null,
            "grid_template_columns": null,
            "grid_template_rows": null,
            "height": "400px",
            "justify_content": null,
            "justify_items": null,
            "left": null,
            "margin": null,
            "max_height": null,
            "max_width": null,
            "min_height": null,
            "min_width": null,
            "object_fit": null,
            "object_position": null,
            "order": null,
            "overflow": null,
            "overflow_x": null,
            "overflow_y": null,
            "padding": null,
            "right": null,
            "top": null,
            "visibility": null,
            "width": "800px"
          }
        },
        "b9c76da016bd46adb1ffd52632f1821c": {
          "model_module": "jupyter-leaflet",
          "model_name": "LeafletMapStyleModel",
          "model_module_version": "^0.18",
          "state": {
            "_model_module": "jupyter-leaflet",
            "_model_module_version": "^0.18",
            "_model_name": "LeafletMapStyleModel",
            "_view_count": null,
            "_view_module": "@jupyter-widgets/base",
            "_view_module_version": "1.2.0",
            "_view_name": "StyleView",
            "cursor": "grab"
          }
        },
        "28482410f3cd4aa39fdf5761c6df1077": {
          "model_module": "@jupyter-widgets/controls",
          "model_name": "HBoxModel",
          "model_module_version": "1.5.0",
          "state": {
            "_dom_classes": [
              "geemap-colab"
            ],
            "_model_module": "@jupyter-widgets/controls",
            "_model_module_version": "1.5.0",
            "_model_name": "HBoxModel",
            "_view_count": null,
            "_view_module": "@jupyter-widgets/controls",
            "_view_module_version": "1.5.0",
            "_view_name": "HBoxView",
            "box_style": "",
            "children": [
              "IPY_MODEL_5dadba66c1c94dabba6e03beee310974"
            ],
            "layout": "IPY_MODEL_7513bc8d397942f6a4f06bfc57ba3b35"
          }
        },
        "0192469ed5c84d14b1ca0bc96cfcbf97": {
          "model_module": "@jupyter-widgets/controls",
          "model_name": "VBoxModel",
          "model_module_version": "1.5.0",
          "state": {
            "_dom_classes": [
              "geemap-colab"
            ],
            "_model_module": "@jupyter-widgets/controls",
            "_model_module_version": "1.5.0",
            "_model_name": "VBoxModel",
            "_view_count": null,
            "_view_module": "@jupyter-widgets/controls",
            "_view_module_version": "1.5.0",
            "_view_name": "VBoxView",
            "box_style": "",
            "children": [
              "IPY_MODEL_943ad4f8d67f4180984fb5b076923c72"
            ],
            "layout": "IPY_MODEL_fd97ff012bbb42d3b7bece6b6cec6d46"
          }
        },
        "5dadba66c1c94dabba6e03beee310974": {
          "model_module": "@jupyter-widgets/controls",
          "model_name": "ToggleButtonModel",
          "model_module_version": "1.5.0",
          "state": {
            "_dom_classes": [],
            "_model_module": "@jupyter-widgets/controls",
            "_model_module_version": "1.5.0",
            "_model_name": "ToggleButtonModel",
            "_view_count": null,
            "_view_module": "@jupyter-widgets/controls",
            "_view_module_version": "1.5.0",
            "_view_name": "ToggleButtonView",
            "button_style": "",
            "description": "",
            "description_tooltip": null,
            "disabled": false,
            "icon": "globe",
            "layout": "IPY_MODEL_5e26b32156fc41a38c976126ea8b0cc8",
            "style": "IPY_MODEL_92c54d16c947458ca02b4d1c67262cb1",
            "tooltip": "Search location/data",
            "value": false
          }
        },
        "7513bc8d397942f6a4f06bfc57ba3b35": {
          "model_module": "@jupyter-widgets/base",
          "model_name": "LayoutModel",
          "model_module_version": "1.2.0",
          "state": {
            "_model_module": "@jupyter-widgets/base",
            "_model_module_version": "1.2.0",
            "_model_name": "LayoutModel",
            "_view_count": null,
            "_view_module": "@jupyter-widgets/base",
            "_view_module_version": "1.2.0",
            "_view_name": "LayoutView",
            "align_content": null,
            "align_items": null,
            "align_self": null,
            "border": null,
            "bottom": null,
            "display": null,
            "flex": null,
            "flex_flow": null,
            "grid_area": null,
            "grid_auto_columns": null,
            "grid_auto_flow": null,
            "grid_auto_rows": null,
            "grid_column": null,
            "grid_gap": null,
            "grid_row": null,
            "grid_template_areas": null,
            "grid_template_columns": null,
            "grid_template_rows": null,
            "height": null,
            "justify_content": null,
            "justify_items": null,
            "left": null,
            "margin": null,
            "max_height": null,
            "max_width": null,
            "min_height": null,
            "min_width": null,
            "object_fit": null,
            "object_position": null,
            "order": null,
            "overflow": null,
            "overflow_x": null,
            "overflow_y": null,
            "padding": null,
            "right": null,
            "top": null,
            "visibility": null,
            "width": null
          }
        },
        "943ad4f8d67f4180984fb5b076923c72": {
          "model_module": "@jupyter-widgets/controls",
          "model_name": "ToggleButtonModel",
          "model_module_version": "1.5.0",
          "state": {
            "_dom_classes": [],
            "_model_module": "@jupyter-widgets/controls",
            "_model_module_version": "1.5.0",
            "_model_name": "ToggleButtonModel",
            "_view_count": null,
            "_view_module": "@jupyter-widgets/controls",
            "_view_module_version": "1.5.0",
            "_view_name": "ToggleButtonView",
            "button_style": "",
            "description": "",
            "description_tooltip": null,
            "disabled": false,
            "icon": "wrench",
            "layout": "IPY_MODEL_e6e2c5a9df3d4eb8abb4f81fd487a53c",
            "style": "IPY_MODEL_9ca4644c03ba42af8a1e0762df64b713",
            "tooltip": "Toolbar",
            "value": false
          }
        },
        "fd97ff012bbb42d3b7bece6b6cec6d46": {
          "model_module": "@jupyter-widgets/base",
          "model_name": "LayoutModel",
          "model_module_version": "1.2.0",
          "state": {
            "_model_module": "@jupyter-widgets/base",
            "_model_module_version": "1.2.0",
            "_model_name": "LayoutModel",
            "_view_count": null,
            "_view_module": "@jupyter-widgets/base",
            "_view_module_version": "1.2.0",
            "_view_name": "LayoutView",
            "align_content": null,
            "align_items": null,
            "align_self": null,
            "border": null,
            "bottom": null,
            "display": null,
            "flex": null,
            "flex_flow": null,
            "grid_area": null,
            "grid_auto_columns": null,
            "grid_auto_flow": null,
            "grid_auto_rows": null,
            "grid_column": null,
            "grid_gap": null,
            "grid_row": null,
            "grid_template_areas": null,
            "grid_template_columns": null,
            "grid_template_rows": null,
            "height": null,
            "justify_content": null,
            "justify_items": null,
            "left": null,
            "margin": null,
            "max_height": null,
            "max_width": null,
            "min_height": null,
            "min_width": null,
            "object_fit": null,
            "object_position": null,
            "order": null,
            "overflow": null,
            "overflow_x": null,
            "overflow_y": null,
            "padding": null,
            "right": null,
            "top": null,
            "visibility": null,
            "width": null
          }
        },
        "5e26b32156fc41a38c976126ea8b0cc8": {
          "model_module": "@jupyter-widgets/base",
          "model_name": "LayoutModel",
          "model_module_version": "1.2.0",
          "state": {
            "_model_module": "@jupyter-widgets/base",
            "_model_module_version": "1.2.0",
            "_model_name": "LayoutModel",
            "_view_count": null,
            "_view_module": "@jupyter-widgets/base",
            "_view_module_version": "1.2.0",
            "_view_name": "LayoutView",
            "align_content": null,
            "align_items": null,
            "align_self": null,
            "border": null,
            "bottom": null,
            "display": null,
            "flex": null,
            "flex_flow": null,
            "grid_area": null,
            "grid_auto_columns": null,
            "grid_auto_flow": null,
            "grid_auto_rows": null,
            "grid_column": null,
            "grid_gap": null,
            "grid_row": null,
            "grid_template_areas": null,
            "grid_template_columns": null,
            "grid_template_rows": null,
            "height": "28px",
            "justify_content": null,
            "justify_items": null,
            "left": null,
            "margin": null,
            "max_height": null,
            "max_width": null,
            "min_height": null,
            "min_width": null,
            "object_fit": null,
            "object_position": null,
            "order": null,
            "overflow": null,
            "overflow_x": null,
            "overflow_y": null,
            "padding": "0px 0px 0px 4px",
            "right": null,
            "top": null,
            "visibility": null,
            "width": "28px"
          }
        },
        "92c54d16c947458ca02b4d1c67262cb1": {
          "model_module": "@jupyter-widgets/controls",
          "model_name": "DescriptionStyleModel",
          "model_module_version": "1.5.0",
          "state": {
            "_model_module": "@jupyter-widgets/controls",
            "_model_module_version": "1.5.0",
            "_model_name": "DescriptionStyleModel",
            "_view_count": null,
            "_view_module": "@jupyter-widgets/base",
            "_view_module_version": "1.2.0",
            "_view_name": "StyleView",
            "description_width": ""
          }
        },
        "e6e2c5a9df3d4eb8abb4f81fd487a53c": {
          "model_module": "@jupyter-widgets/base",
          "model_name": "LayoutModel",
          "model_module_version": "1.2.0",
          "state": {
            "_model_module": "@jupyter-widgets/base",
            "_model_module_version": "1.2.0",
            "_model_name": "LayoutModel",
            "_view_count": null,
            "_view_module": "@jupyter-widgets/base",
            "_view_module_version": "1.2.0",
            "_view_name": "LayoutView",
            "align_content": null,
            "align_items": null,
            "align_self": null,
            "border": null,
            "bottom": null,
            "display": null,
            "flex": null,
            "flex_flow": null,
            "grid_area": null,
            "grid_auto_columns": null,
            "grid_auto_flow": null,
            "grid_auto_rows": null,
            "grid_column": null,
            "grid_gap": null,
            "grid_row": null,
            "grid_template_areas": null,
            "grid_template_columns": null,
            "grid_template_rows": null,
            "height": "28px",
            "justify_content": null,
            "justify_items": null,
            "left": null,
            "margin": null,
            "max_height": null,
            "max_width": null,
            "min_height": null,
            "min_width": null,
            "object_fit": null,
            "object_position": null,
            "order": null,
            "overflow": null,
            "overflow_x": null,
            "overflow_y": null,
            "padding": "0px 0px 0px 4px",
            "right": null,
            "top": null,
            "visibility": null,
            "width": "28px"
          }
        },
        "9ca4644c03ba42af8a1e0762df64b713": {
          "model_module": "@jupyter-widgets/controls",
          "model_name": "DescriptionStyleModel",
          "model_module_version": "1.5.0",
          "state": {
            "_model_module": "@jupyter-widgets/controls",
            "_model_module_version": "1.5.0",
            "_model_name": "DescriptionStyleModel",
            "_view_count": null,
            "_view_module": "@jupyter-widgets/base",
            "_view_module_version": "1.2.0",
            "_view_name": "StyleView",
            "description_width": ""
          }
        },
        "e0f0ec371cb14aab9b8fb9e3070fc94f": {
          "model_module": "jupyter-leaflet",
          "model_name": "LeafletMapModel",
          "model_module_version": "^0.18",
          "state": {
            "_dom_classes": [],
            "_model_module": "jupyter-leaflet",
            "_model_module_version": "^0.18",
            "_model_name": "LeafletMapModel",
            "_view_count": null,
            "_view_module": "jupyter-leaflet",
            "_view_module_version": "^0.18",
            "_view_name": "LeafletMapView",
            "bottom": 6656,
            "bounce_at_zoom_limits": true,
            "box_zoom": true,
            "center": [
              35.60541125576072,
              127.04873061439156
            ],
            "close_popup_on_click": true,
            "controls": [
              "IPY_MODEL_0598ce41d05d47c5b38554a5dba834e4",
              "IPY_MODEL_8697805b04484c81935b8e24e9ff217a",
              "IPY_MODEL_73cdd0e411a847aebe3e88c282c978ac",
              "IPY_MODEL_994d9d3f9ed4496a8de51c76d19f9c5a",
              "IPY_MODEL_d4b9332892fc42bf8ef489ac58698add",
              "IPY_MODEL_0f84f169769247e88df21f0787246366",
              "IPY_MODEL_412182f572b24060a81e641c056a7060",
              "IPY_MODEL_addbcfe4e5004e23b59ab9370af71525"
            ],
            "crs": {
              "name": "EPSG3857",
              "custom": false
            },
            "default_style": "IPY_MODEL_f70366255d0f4b29b158f0de98616580",
            "double_click_zoom": true,
            "dragging": true,
            "dragging_style": "IPY_MODEL_bd221d51196747f8b7c42373a41fa060",
            "east": 135.83496093750003,
            "fullscreen": false,
            "inertia": true,
            "inertia_deceleration": 3000,
            "inertia_max_speed": 1500,
            "interpolation": "bilinear",
            "keyboard": true,
            "keyboard_pan_offset": 80,
            "keyboard_zoom_offset": 1,
            "layers": [
              "IPY_MODEL_87b05b6c4c3d4a689357db2039928b36",
              "IPY_MODEL_7aded414608145f2bf97a56ee3a37bc9"
            ],
            "layout": "IPY_MODEL_475e797cfa404aebb06e1075c188475e",
            "left": 13574,
            "max_zoom": 24,
            "min_zoom": null,
            "modisdate": "2024-05-25",
            "north": 39.095962936305476,
            "options": [
              "bounce_at_zoom_limits",
              "box_zoom",
              "center",
              "close_popup_on_click",
              "double_click_zoom",
              "dragging",
              "fullscreen",
              "inertia",
              "inertia_deceleration",
              "inertia_max_speed",
              "interpolation",
              "keyboard",
              "keyboard_pan_offset",
              "keyboard_zoom_offset",
              "max_zoom",
              "min_zoom",
              "prefer_canvas",
              "scroll_wheel_zoom",
              "tap",
              "tap_tolerance",
              "touch_zoom",
              "world_copy_jump",
              "zoom",
              "zoom_animation_threshold",
              "zoom_delta",
              "zoom_snap"
            ],
            "panes": {},
            "prefer_canvas": false,
            "right": 14374,
            "scroll_wheel_zoom": true,
            "south": 31.952162238024975,
            "style": "IPY_MODEL_bf7619ae776f48ffb46c0aeb06ca9ae3",
            "tap": true,
            "tap_tolerance": 15,
            "top": 6256,
            "touch_zoom": true,
            "west": 118.25683593750001,
            "window_url": "https://ioysqj54nq-496ff2e9c6d22116-0-colab.googleusercontent.com/outputframe.html?vrz=colab_20240523-060110_RC00_636443439",
            "world_copy_jump": false,
            "zoom": 6,
            "zoom_animation_threshold": 4,
            "zoom_delta": 1,
            "zoom_snap": 1
          }
        },
        "0598ce41d05d47c5b38554a5dba834e4": {
          "model_module": "jupyter-leaflet",
          "model_name": "LeafletWidgetControlModel",
          "model_module_version": "^0.18",
          "state": {
            "_model_module": "jupyter-leaflet",
            "_model_module_version": "^0.18",
            "_model_name": "LeafletWidgetControlModel",
            "_view_count": null,
            "_view_module": "jupyter-leaflet",
            "_view_module_version": "^0.18",
            "_view_name": "LeafletWidgetControlView",
            "max_height": null,
            "max_width": null,
            "min_height": null,
            "min_width": null,
            "options": [
              "position",
              "transparent_bg"
            ],
            "position": "topleft",
            "transparent_bg": false,
            "widget": "IPY_MODEL_d91a150e78f14ccc99caca1fcd29128e"
          }
        },
        "8697805b04484c81935b8e24e9ff217a": {
          "model_module": "jupyter-leaflet",
          "model_name": "LeafletZoomControlModel",
          "model_module_version": "^0.18",
          "state": {
            "_model_module": "jupyter-leaflet",
            "_model_module_version": "^0.18",
            "_model_name": "LeafletZoomControlModel",
            "_view_count": null,
            "_view_module": "jupyter-leaflet",
            "_view_module_version": "^0.18",
            "_view_name": "LeafletZoomControlView",
            "options": [
              "position",
              "zoom_in_text",
              "zoom_in_title",
              "zoom_out_text",
              "zoom_out_title"
            ],
            "position": "topleft",
            "zoom_in_text": "+",
            "zoom_in_title": "Zoom in",
            "zoom_out_text": "-",
            "zoom_out_title": "Zoom out"
          }
        },
        "73cdd0e411a847aebe3e88c282c978ac": {
          "model_module": "jupyter-leaflet",
          "model_name": "LeafletFullScreenControlModel",
          "model_module_version": "^0.18",
          "state": {
            "_model_module": "jupyter-leaflet",
            "_model_module_version": "^0.18",
            "_model_name": "LeafletFullScreenControlModel",
            "_view_count": null,
            "_view_module": "jupyter-leaflet",
            "_view_module_version": "^0.18",
            "_view_name": "LeafletFullScreenControlView",
            "options": [
              "position"
            ],
            "position": "topleft"
          }
        },
        "994d9d3f9ed4496a8de51c76d19f9c5a": {
          "model_module": "jupyter-leaflet",
          "model_name": "LeafletDrawControlModel",
          "model_module_version": "^0.18",
          "state": {
            "_model_module": "jupyter-leaflet",
            "_model_module_version": "^0.18",
            "_model_name": "LeafletDrawControlModel",
            "_view_count": null,
            "_view_module": "jupyter-leaflet",
            "_view_module_version": "^0.18",
            "_view_name": "LeafletDrawControlView",
            "circle": {},
            "circlemarker": {},
            "data": [],
            "edit": true,
            "marker": {
              "shapeOptions": {
                "color": "#3388ff"
              }
            },
            "options": [
              "position"
            ],
            "polygon": {
              "shapeOptions": {}
            },
            "polyline": {
              "shapeOptions": {}
            },
            "position": "topleft",
            "rectangle": {
              "shapeOptions": {
                "color": "#3388ff"
              }
            },
            "remove": true
          }
        },
        "d4b9332892fc42bf8ef489ac58698add": {
          "model_module": "jupyter-leaflet",
          "model_name": "LeafletScaleControlModel",
          "model_module_version": "^0.18",
          "state": {
            "_model_module": "jupyter-leaflet",
            "_model_module_version": "^0.18",
            "_model_name": "LeafletScaleControlModel",
            "_view_count": null,
            "_view_module": "jupyter-leaflet",
            "_view_module_version": "^0.18",
            "_view_name": "LeafletScaleControlView",
            "imperial": true,
            "max_width": 100,
            "metric": true,
            "options": [
              "imperial",
              "max_width",
              "metric",
              "position",
              "update_when_idle"
            ],
            "position": "bottomleft",
            "update_when_idle": false
          }
        },
        "0f84f169769247e88df21f0787246366": {
          "model_module": "jupyter-leaflet",
          "model_name": "LeafletMeasureControlModel",
          "model_module_version": "^0.18",
          "state": {
            "_custom_units": {},
            "_model_module": "jupyter-leaflet",
            "_model_module_version": "^0.18",
            "_model_name": "LeafletMeasureControlModel",
            "_view_count": null,
            "_view_module": "jupyter-leaflet",
            "_view_module_version": "^0.18",
            "_view_name": "LeafletMeasureControlView",
            "active_color": "orange",
            "capture_z_index": 10000,
            "completed_color": "#C8F2BE",
            "options": [
              "active_color",
              "capture_z_index",
              "completed_color",
              "popup_options",
              "position",
              "primary_area_unit",
              "primary_length_unit",
              "secondary_area_unit",
              "secondary_length_unit"
            ],
            "popup_options": {
              "className": "leaflet-measure-resultpopup",
              "autoPanPadding": [
                10,
                10
              ]
            },
            "position": "bottomleft",
            "primary_area_unit": "acres",
            "primary_length_unit": "kilometers",
            "secondary_area_unit": null,
            "secondary_length_unit": null
          }
        },
        "412182f572b24060a81e641c056a7060": {
          "model_module": "jupyter-leaflet",
          "model_name": "LeafletWidgetControlModel",
          "model_module_version": "^0.18",
          "state": {
            "_model_module": "jupyter-leaflet",
            "_model_module_version": "^0.18",
            "_model_name": "LeafletWidgetControlModel",
            "_view_count": null,
            "_view_module": "jupyter-leaflet",
            "_view_module_version": "^0.18",
            "_view_name": "LeafletWidgetControlView",
            "max_height": null,
            "max_width": null,
            "min_height": null,
            "min_width": null,
            "options": [
              "position",
              "transparent_bg"
            ],
            "position": "topright",
            "transparent_bg": false,
            "widget": "IPY_MODEL_1bfb00b98fe64d26912a19b3a9c258ec"
          }
        },
        "addbcfe4e5004e23b59ab9370af71525": {
          "model_module": "jupyter-leaflet",
          "model_name": "LeafletAttributionControlModel",
          "model_module_version": "^0.18",
          "state": {
            "_model_module": "jupyter-leaflet",
            "_model_module_version": "^0.18",
            "_model_name": "LeafletAttributionControlModel",
            "_view_count": null,
            "_view_module": "jupyter-leaflet",
            "_view_module_version": "^0.18",
            "_view_name": "LeafletAttributionControlView",
            "options": [
              "position",
              "prefix"
            ],
            "position": "bottomright",
            "prefix": "ipyleaflet"
          }
        },
        "f70366255d0f4b29b158f0de98616580": {
          "model_module": "jupyter-leaflet",
          "model_name": "LeafletMapStyleModel",
          "model_module_version": "^0.18",
          "state": {
            "_model_module": "jupyter-leaflet",
            "_model_module_version": "^0.18",
            "_model_name": "LeafletMapStyleModel",
            "_view_count": null,
            "_view_module": "@jupyter-widgets/base",
            "_view_module_version": "1.2.0",
            "_view_name": "StyleView",
            "cursor": "grab"
          }
        },
        "bd221d51196747f8b7c42373a41fa060": {
          "model_module": "jupyter-leaflet",
          "model_name": "LeafletMapStyleModel",
          "model_module_version": "^0.18",
          "state": {
            "_model_module": "jupyter-leaflet",
            "_model_module_version": "^0.18",
            "_model_name": "LeafletMapStyleModel",
            "_view_count": null,
            "_view_module": "@jupyter-widgets/base",
            "_view_module_version": "1.2.0",
            "_view_name": "StyleView",
            "cursor": "move"
          }
        },
        "87b05b6c4c3d4a689357db2039928b36": {
          "model_module": "jupyter-leaflet",
          "model_name": "LeafletTileLayerModel",
          "model_module_version": "^0.18",
          "state": {
            "_model_module": "jupyter-leaflet",
            "_model_module_version": "^0.18",
            "_model_name": "LeafletTileLayerModel",
            "_view_count": null,
            "_view_module": "jupyter-leaflet",
            "_view_module_version": "^0.18",
            "_view_name": "LeafletTileLayerView",
            "attribution": "&copy; <a href=\"https://www.openstreetmap.org/copyright\">OpenStreetMap</a> contributors",
            "base": true,
            "bottom": true,
            "bounds": null,
            "detect_retina": false,
            "loading": false,
            "max_native_zoom": null,
            "max_zoom": 19,
            "min_native_zoom": null,
            "min_zoom": 1,
            "name": "OpenStreetMap.Mapnik",
            "no_wrap": false,
            "opacity": 1,
            "options": [
              "attribution",
              "bounds",
              "detect_retina",
              "max_native_zoom",
              "max_zoom",
              "min_native_zoom",
              "min_zoom",
              "no_wrap",
              "tile_size",
              "tms",
              "zoom_offset"
            ],
            "pane": "",
            "popup": null,
            "popup_max_height": null,
            "popup_max_width": 300,
            "popup_min_width": 50,
            "show_loading": false,
            "subitems": [],
            "tile_size": 256,
            "tms": false,
            "url": "https://tile.openstreetmap.org/{z}/{x}/{y}.png",
            "visible": true,
            "zoom_offset": 0
          }
        },
        "7aded414608145f2bf97a56ee3a37bc9": {
          "model_module": "jupyter-leaflet",
          "model_name": "LeafletTileLayerModel",
          "model_module_version": "^0.18",
          "state": {
            "_model_module": "jupyter-leaflet",
            "_model_module_version": "^0.18",
            "_model_name": "LeafletTileLayerModel",
            "_view_count": null,
            "_view_module": "jupyter-leaflet",
            "_view_module_version": "^0.18",
            "_view_name": "LeafletTileLayerView",
            "attribution": "Google Earth Engine",
            "base": false,
            "bottom": true,
            "bounds": null,
            "detect_retina": false,
            "loading": false,
            "max_native_zoom": null,
            "max_zoom": 24,
            "min_native_zoom": null,
            "min_zoom": 0,
            "name": "AreaForPA",
            "no_wrap": false,
            "opacity": 1,
            "options": [
              "attribution",
              "bounds",
              "detect_retina",
              "max_native_zoom",
              "max_zoom",
              "min_native_zoom",
              "min_zoom",
              "no_wrap",
              "tile_size",
              "tms",
              "zoom_offset"
            ],
            "pane": "",
            "popup": null,
            "popup_max_height": null,
            "popup_max_width": 300,
            "popup_min_width": 50,
            "show_loading": false,
            "subitems": [],
            "tile_size": 256,
            "tms": false,
            "url": "https://earthengine.googleapis.com/v1/projects/ee-foss4g/maps/431d64ca5109c2df1aa3da9b576683e7-4333ced44895ae410288306e90165f1c/tiles/{z}/{x}/{y}",
            "visible": true,
            "zoom_offset": 0
          }
        },
        "475e797cfa404aebb06e1075c188475e": {
          "model_module": "@jupyter-widgets/base",
          "model_name": "LayoutModel",
          "model_module_version": "1.2.0",
          "state": {
            "_model_module": "@jupyter-widgets/base",
            "_model_module_version": "1.2.0",
            "_model_name": "LayoutModel",
            "_view_count": null,
            "_view_module": "@jupyter-widgets/base",
            "_view_module_version": "1.2.0",
            "_view_name": "LayoutView",
            "align_content": null,
            "align_items": null,
            "align_self": null,
            "border": null,
            "bottom": null,
            "display": null,
            "flex": null,
            "flex_flow": null,
            "grid_area": null,
            "grid_auto_columns": null,
            "grid_auto_flow": null,
            "grid_auto_rows": null,
            "grid_column": null,
            "grid_gap": null,
            "grid_row": null,
            "grid_template_areas": null,
            "grid_template_columns": null,
            "grid_template_rows": null,
            "height": "400px",
            "justify_content": null,
            "justify_items": null,
            "left": null,
            "margin": null,
            "max_height": null,
            "max_width": null,
            "min_height": null,
            "min_width": null,
            "object_fit": null,
            "object_position": null,
            "order": null,
            "overflow": null,
            "overflow_x": null,
            "overflow_y": null,
            "padding": null,
            "right": null,
            "top": null,
            "visibility": null,
            "width": "800px"
          }
        },
        "bf7619ae776f48ffb46c0aeb06ca9ae3": {
          "model_module": "jupyter-leaflet",
          "model_name": "LeafletMapStyleModel",
          "model_module_version": "^0.18",
          "state": {
            "_model_module": "jupyter-leaflet",
            "_model_module_version": "^0.18",
            "_model_name": "LeafletMapStyleModel",
            "_view_count": null,
            "_view_module": "@jupyter-widgets/base",
            "_view_module_version": "1.2.0",
            "_view_name": "StyleView",
            "cursor": "grab"
          }
        },
        "d91a150e78f14ccc99caca1fcd29128e": {
          "model_module": "@jupyter-widgets/controls",
          "model_name": "HBoxModel",
          "model_module_version": "1.5.0",
          "state": {
            "_dom_classes": [
              "geemap-colab"
            ],
            "_model_module": "@jupyter-widgets/controls",
            "_model_module_version": "1.5.0",
            "_model_name": "HBoxModel",
            "_view_count": null,
            "_view_module": "@jupyter-widgets/controls",
            "_view_module_version": "1.5.0",
            "_view_name": "HBoxView",
            "box_style": "",
            "children": [
              "IPY_MODEL_0c9a9cd2cf354b03a07990794c8649b9"
            ],
            "layout": "IPY_MODEL_424e6185457d4381b870eeb6260d129e"
          }
        },
        "1bfb00b98fe64d26912a19b3a9c258ec": {
          "model_module": "@jupyter-widgets/controls",
          "model_name": "VBoxModel",
          "model_module_version": "1.5.0",
          "state": {
            "_dom_classes": [
              "geemap-colab"
            ],
            "_model_module": "@jupyter-widgets/controls",
            "_model_module_version": "1.5.0",
            "_model_name": "VBoxModel",
            "_view_count": null,
            "_view_module": "@jupyter-widgets/controls",
            "_view_module_version": "1.5.0",
            "_view_name": "VBoxView",
            "box_style": "",
            "children": [
              "IPY_MODEL_12e069a026a84ffebd4a4a9a69f84a0d"
            ],
            "layout": "IPY_MODEL_e34d7fc05306439097f66b71bb915a72"
          }
        },
        "0c9a9cd2cf354b03a07990794c8649b9": {
          "model_module": "@jupyter-widgets/controls",
          "model_name": "ToggleButtonModel",
          "model_module_version": "1.5.0",
          "state": {
            "_dom_classes": [],
            "_model_module": "@jupyter-widgets/controls",
            "_model_module_version": "1.5.0",
            "_model_name": "ToggleButtonModel",
            "_view_count": null,
            "_view_module": "@jupyter-widgets/controls",
            "_view_module_version": "1.5.0",
            "_view_name": "ToggleButtonView",
            "button_style": "",
            "description": "",
            "description_tooltip": null,
            "disabled": false,
            "icon": "globe",
            "layout": "IPY_MODEL_a09c431c7c5c4ced9cbd2e5abb8d5bb9",
            "style": "IPY_MODEL_60c3b27947ce4c998470ca447627b664",
            "tooltip": "Search location/data",
            "value": false
          }
        },
        "424e6185457d4381b870eeb6260d129e": {
          "model_module": "@jupyter-widgets/base",
          "model_name": "LayoutModel",
          "model_module_version": "1.2.0",
          "state": {
            "_model_module": "@jupyter-widgets/base",
            "_model_module_version": "1.2.0",
            "_model_name": "LayoutModel",
            "_view_count": null,
            "_view_module": "@jupyter-widgets/base",
            "_view_module_version": "1.2.0",
            "_view_name": "LayoutView",
            "align_content": null,
            "align_items": null,
            "align_self": null,
            "border": null,
            "bottom": null,
            "display": null,
            "flex": null,
            "flex_flow": null,
            "grid_area": null,
            "grid_auto_columns": null,
            "grid_auto_flow": null,
            "grid_auto_rows": null,
            "grid_column": null,
            "grid_gap": null,
            "grid_row": null,
            "grid_template_areas": null,
            "grid_template_columns": null,
            "grid_template_rows": null,
            "height": null,
            "justify_content": null,
            "justify_items": null,
            "left": null,
            "margin": null,
            "max_height": null,
            "max_width": null,
            "min_height": null,
            "min_width": null,
            "object_fit": null,
            "object_position": null,
            "order": null,
            "overflow": null,
            "overflow_x": null,
            "overflow_y": null,
            "padding": null,
            "right": null,
            "top": null,
            "visibility": null,
            "width": null
          }
        },
        "12e069a026a84ffebd4a4a9a69f84a0d": {
          "model_module": "@jupyter-widgets/controls",
          "model_name": "ToggleButtonModel",
          "model_module_version": "1.5.0",
          "state": {
            "_dom_classes": [],
            "_model_module": "@jupyter-widgets/controls",
            "_model_module_version": "1.5.0",
            "_model_name": "ToggleButtonModel",
            "_view_count": null,
            "_view_module": "@jupyter-widgets/controls",
            "_view_module_version": "1.5.0",
            "_view_name": "ToggleButtonView",
            "button_style": "",
            "description": "",
            "description_tooltip": null,
            "disabled": false,
            "icon": "wrench",
            "layout": "IPY_MODEL_14029f3bd75a47aab50115b45f73ae96",
            "style": "IPY_MODEL_bfdabb5f24e84a79a5722a559cc7870d",
            "tooltip": "Toolbar",
            "value": false
          }
        },
        "e34d7fc05306439097f66b71bb915a72": {
          "model_module": "@jupyter-widgets/base",
          "model_name": "LayoutModel",
          "model_module_version": "1.2.0",
          "state": {
            "_model_module": "@jupyter-widgets/base",
            "_model_module_version": "1.2.0",
            "_model_name": "LayoutModel",
            "_view_count": null,
            "_view_module": "@jupyter-widgets/base",
            "_view_module_version": "1.2.0",
            "_view_name": "LayoutView",
            "align_content": null,
            "align_items": null,
            "align_self": null,
            "border": null,
            "bottom": null,
            "display": null,
            "flex": null,
            "flex_flow": null,
            "grid_area": null,
            "grid_auto_columns": null,
            "grid_auto_flow": null,
            "grid_auto_rows": null,
            "grid_column": null,
            "grid_gap": null,
            "grid_row": null,
            "grid_template_areas": null,
            "grid_template_columns": null,
            "grid_template_rows": null,
            "height": null,
            "justify_content": null,
            "justify_items": null,
            "left": null,
            "margin": null,
            "max_height": null,
            "max_width": null,
            "min_height": null,
            "min_width": null,
            "object_fit": null,
            "object_position": null,
            "order": null,
            "overflow": null,
            "overflow_x": null,
            "overflow_y": null,
            "padding": null,
            "right": null,
            "top": null,
            "visibility": null,
            "width": null
          }
        },
        "a09c431c7c5c4ced9cbd2e5abb8d5bb9": {
          "model_module": "@jupyter-widgets/base",
          "model_name": "LayoutModel",
          "model_module_version": "1.2.0",
          "state": {
            "_model_module": "@jupyter-widgets/base",
            "_model_module_version": "1.2.0",
            "_model_name": "LayoutModel",
            "_view_count": null,
            "_view_module": "@jupyter-widgets/base",
            "_view_module_version": "1.2.0",
            "_view_name": "LayoutView",
            "align_content": null,
            "align_items": null,
            "align_self": null,
            "border": null,
            "bottom": null,
            "display": null,
            "flex": null,
            "flex_flow": null,
            "grid_area": null,
            "grid_auto_columns": null,
            "grid_auto_flow": null,
            "grid_auto_rows": null,
            "grid_column": null,
            "grid_gap": null,
            "grid_row": null,
            "grid_template_areas": null,
            "grid_template_columns": null,
            "grid_template_rows": null,
            "height": "28px",
            "justify_content": null,
            "justify_items": null,
            "left": null,
            "margin": null,
            "max_height": null,
            "max_width": null,
            "min_height": null,
            "min_width": null,
            "object_fit": null,
            "object_position": null,
            "order": null,
            "overflow": null,
            "overflow_x": null,
            "overflow_y": null,
            "padding": "0px 0px 0px 4px",
            "right": null,
            "top": null,
            "visibility": null,
            "width": "28px"
          }
        },
        "60c3b27947ce4c998470ca447627b664": {
          "model_module": "@jupyter-widgets/controls",
          "model_name": "DescriptionStyleModel",
          "model_module_version": "1.5.0",
          "state": {
            "_model_module": "@jupyter-widgets/controls",
            "_model_module_version": "1.5.0",
            "_model_name": "DescriptionStyleModel",
            "_view_count": null,
            "_view_module": "@jupyter-widgets/base",
            "_view_module_version": "1.2.0",
            "_view_name": "StyleView",
            "description_width": ""
          }
        },
        "14029f3bd75a47aab50115b45f73ae96": {
          "model_module": "@jupyter-widgets/base",
          "model_name": "LayoutModel",
          "model_module_version": "1.2.0",
          "state": {
            "_model_module": "@jupyter-widgets/base",
            "_model_module_version": "1.2.0",
            "_model_name": "LayoutModel",
            "_view_count": null,
            "_view_module": "@jupyter-widgets/base",
            "_view_module_version": "1.2.0",
            "_view_name": "LayoutView",
            "align_content": null,
            "align_items": null,
            "align_self": null,
            "border": null,
            "bottom": null,
            "display": null,
            "flex": null,
            "flex_flow": null,
            "grid_area": null,
            "grid_auto_columns": null,
            "grid_auto_flow": null,
            "grid_auto_rows": null,
            "grid_column": null,
            "grid_gap": null,
            "grid_row": null,
            "grid_template_areas": null,
            "grid_template_columns": null,
            "grid_template_rows": null,
            "height": "28px",
            "justify_content": null,
            "justify_items": null,
            "left": null,
            "margin": null,
            "max_height": null,
            "max_width": null,
            "min_height": null,
            "min_width": null,
            "object_fit": null,
            "object_position": null,
            "order": null,
            "overflow": null,
            "overflow_x": null,
            "overflow_y": null,
            "padding": "0px 0px 0px 4px",
            "right": null,
            "top": null,
            "visibility": null,
            "width": "28px"
          }
        },
        "bfdabb5f24e84a79a5722a559cc7870d": {
          "model_module": "@jupyter-widgets/controls",
          "model_name": "DescriptionStyleModel",
          "model_module_version": "1.5.0",
          "state": {
            "_model_module": "@jupyter-widgets/controls",
            "_model_module_version": "1.5.0",
            "_model_name": "DescriptionStyleModel",
            "_view_count": null,
            "_view_module": "@jupyter-widgets/base",
            "_view_module_version": "1.2.0",
            "_view_name": "StyleView",
            "description_width": ""
          }
        },
        "5df744bec14c449fbab82bcffa26e857": {
          "model_module": "jupyter-leaflet",
          "model_name": "LeafletMapModel",
          "model_module_version": "^0.18",
          "state": {
            "_dom_classes": [],
            "_model_module": "jupyter-leaflet",
            "_model_module_version": "^0.18",
            "_model_name": "LeafletMapModel",
            "_view_count": null,
            "_view_module": "jupyter-leaflet",
            "_view_module_version": "^0.18",
            "_view_name": "LeafletMapView",
            "bottom": 6656,
            "bounce_at_zoom_limits": true,
            "box_zoom": true,
            "center": [
              35.60541125576072,
              127.04873061439156
            ],
            "close_popup_on_click": true,
            "controls": [
              "IPY_MODEL_52ecc88a46ae4505a36d3a415ec340fd",
              "IPY_MODEL_4312e221c35546f7b2be22105d60b8c8",
              "IPY_MODEL_5bdccbab5c7f4ec58621d0da7140e126",
              "IPY_MODEL_e221484c2470454a87f7dc1546ad7a15",
              "IPY_MODEL_03ed51b8b13b4be69d260d15f753c946",
              "IPY_MODEL_5a65b10e079d4fa9b17ed5e5ce43cc80",
              "IPY_MODEL_17b7a0514db34771b49cfaf047e607de",
              "IPY_MODEL_a2d19f09100b439ead122e2249353935"
            ],
            "crs": {
              "name": "EPSG3857",
              "custom": false
            },
            "default_style": "IPY_MODEL_1ab14e09846e4c3f9c742c36b0ad478f",
            "double_click_zoom": true,
            "dragging": true,
            "dragging_style": "IPY_MODEL_fa9bb57a152b44d89b1de85c4802d3f6",
            "east": 135.83496093750003,
            "fullscreen": false,
            "inertia": true,
            "inertia_deceleration": 3000,
            "inertia_max_speed": 1500,
            "interpolation": "bilinear",
            "keyboard": true,
            "keyboard_pan_offset": 80,
            "keyboard_zoom_offset": 1,
            "layers": [
              "IPY_MODEL_6524124f025f4cde99c38d59beabde3e",
              "IPY_MODEL_a88b205e7ce1490a95ea9d9e2f18f9c7"
            ],
            "layout": "IPY_MODEL_ba0088cc9dd74bd3bee84bed240636d3",
            "left": 13574,
            "max_zoom": 24,
            "min_zoom": null,
            "modisdate": "2024-05-25",
            "north": 39.095962936305476,
            "options": [
              "bounce_at_zoom_limits",
              "box_zoom",
              "center",
              "close_popup_on_click",
              "double_click_zoom",
              "dragging",
              "fullscreen",
              "inertia",
              "inertia_deceleration",
              "inertia_max_speed",
              "interpolation",
              "keyboard",
              "keyboard_pan_offset",
              "keyboard_zoom_offset",
              "max_zoom",
              "min_zoom",
              "prefer_canvas",
              "scroll_wheel_zoom",
              "tap",
              "tap_tolerance",
              "touch_zoom",
              "world_copy_jump",
              "zoom",
              "zoom_animation_threshold",
              "zoom_delta",
              "zoom_snap"
            ],
            "panes": {},
            "prefer_canvas": false,
            "right": 14374,
            "scroll_wheel_zoom": true,
            "south": 31.952162238024975,
            "style": "IPY_MODEL_6be3b7169d7142ab99ae0096ebe74c6c",
            "tap": true,
            "tap_tolerance": 15,
            "top": 6256,
            "touch_zoom": true,
            "west": 118.25683593750001,
            "window_url": "https://ioysqj54nq-496ff2e9c6d22116-0-colab.googleusercontent.com/outputframe.html?vrz=colab_20240523-060110_RC00_636443439",
            "world_copy_jump": false,
            "zoom": 6,
            "zoom_animation_threshold": 4,
            "zoom_delta": 1,
            "zoom_snap": 1
          }
        },
        "52ecc88a46ae4505a36d3a415ec340fd": {
          "model_module": "jupyter-leaflet",
          "model_name": "LeafletWidgetControlModel",
          "model_module_version": "^0.18",
          "state": {
            "_model_module": "jupyter-leaflet",
            "_model_module_version": "^0.18",
            "_model_name": "LeafletWidgetControlModel",
            "_view_count": null,
            "_view_module": "jupyter-leaflet",
            "_view_module_version": "^0.18",
            "_view_name": "LeafletWidgetControlView",
            "max_height": null,
            "max_width": null,
            "min_height": null,
            "min_width": null,
            "options": [
              "position",
              "transparent_bg"
            ],
            "position": "topleft",
            "transparent_bg": false,
            "widget": "IPY_MODEL_1e5e5633c60b4d8e9e272a870a3cd8df"
          }
        },
        "4312e221c35546f7b2be22105d60b8c8": {
          "model_module": "jupyter-leaflet",
          "model_name": "LeafletZoomControlModel",
          "model_module_version": "^0.18",
          "state": {
            "_model_module": "jupyter-leaflet",
            "_model_module_version": "^0.18",
            "_model_name": "LeafletZoomControlModel",
            "_view_count": null,
            "_view_module": "jupyter-leaflet",
            "_view_module_version": "^0.18",
            "_view_name": "LeafletZoomControlView",
            "options": [
              "position",
              "zoom_in_text",
              "zoom_in_title",
              "zoom_out_text",
              "zoom_out_title"
            ],
            "position": "topleft",
            "zoom_in_text": "+",
            "zoom_in_title": "Zoom in",
            "zoom_out_text": "-",
            "zoom_out_title": "Zoom out"
          }
        },
        "5bdccbab5c7f4ec58621d0da7140e126": {
          "model_module": "jupyter-leaflet",
          "model_name": "LeafletFullScreenControlModel",
          "model_module_version": "^0.18",
          "state": {
            "_model_module": "jupyter-leaflet",
            "_model_module_version": "^0.18",
            "_model_name": "LeafletFullScreenControlModel",
            "_view_count": null,
            "_view_module": "jupyter-leaflet",
            "_view_module_version": "^0.18",
            "_view_name": "LeafletFullScreenControlView",
            "options": [
              "position"
            ],
            "position": "topleft"
          }
        },
        "e221484c2470454a87f7dc1546ad7a15": {
          "model_module": "jupyter-leaflet",
          "model_name": "LeafletDrawControlModel",
          "model_module_version": "^0.18",
          "state": {
            "_model_module": "jupyter-leaflet",
            "_model_module_version": "^0.18",
            "_model_name": "LeafletDrawControlModel",
            "_view_count": null,
            "_view_module": "jupyter-leaflet",
            "_view_module_version": "^0.18",
            "_view_name": "LeafletDrawControlView",
            "circle": {},
            "circlemarker": {},
            "data": [],
            "edit": true,
            "marker": {
              "shapeOptions": {
                "color": "#3388ff"
              }
            },
            "options": [
              "position"
            ],
            "polygon": {
              "shapeOptions": {}
            },
            "polyline": {
              "shapeOptions": {}
            },
            "position": "topleft",
            "rectangle": {
              "shapeOptions": {
                "color": "#3388ff"
              }
            },
            "remove": true
          }
        },
        "03ed51b8b13b4be69d260d15f753c946": {
          "model_module": "jupyter-leaflet",
          "model_name": "LeafletScaleControlModel",
          "model_module_version": "^0.18",
          "state": {
            "_model_module": "jupyter-leaflet",
            "_model_module_version": "^0.18",
            "_model_name": "LeafletScaleControlModel",
            "_view_count": null,
            "_view_module": "jupyter-leaflet",
            "_view_module_version": "^0.18",
            "_view_name": "LeafletScaleControlView",
            "imperial": true,
            "max_width": 100,
            "metric": true,
            "options": [
              "imperial",
              "max_width",
              "metric",
              "position",
              "update_when_idle"
            ],
            "position": "bottomleft",
            "update_when_idle": false
          }
        },
        "5a65b10e079d4fa9b17ed5e5ce43cc80": {
          "model_module": "jupyter-leaflet",
          "model_name": "LeafletMeasureControlModel",
          "model_module_version": "^0.18",
          "state": {
            "_custom_units": {},
            "_model_module": "jupyter-leaflet",
            "_model_module_version": "^0.18",
            "_model_name": "LeafletMeasureControlModel",
            "_view_count": null,
            "_view_module": "jupyter-leaflet",
            "_view_module_version": "^0.18",
            "_view_name": "LeafletMeasureControlView",
            "active_color": "orange",
            "capture_z_index": 10000,
            "completed_color": "#C8F2BE",
            "options": [
              "active_color",
              "capture_z_index",
              "completed_color",
              "popup_options",
              "position",
              "primary_area_unit",
              "primary_length_unit",
              "secondary_area_unit",
              "secondary_length_unit"
            ],
            "popup_options": {
              "className": "leaflet-measure-resultpopup",
              "autoPanPadding": [
                10,
                10
              ]
            },
            "position": "bottomleft",
            "primary_area_unit": "acres",
            "primary_length_unit": "kilometers",
            "secondary_area_unit": null,
            "secondary_length_unit": null
          }
        },
        "17b7a0514db34771b49cfaf047e607de": {
          "model_module": "jupyter-leaflet",
          "model_name": "LeafletWidgetControlModel",
          "model_module_version": "^0.18",
          "state": {
            "_model_module": "jupyter-leaflet",
            "_model_module_version": "^0.18",
            "_model_name": "LeafletWidgetControlModel",
            "_view_count": null,
            "_view_module": "jupyter-leaflet",
            "_view_module_version": "^0.18",
            "_view_name": "LeafletWidgetControlView",
            "max_height": null,
            "max_width": null,
            "min_height": null,
            "min_width": null,
            "options": [
              "position",
              "transparent_bg"
            ],
            "position": "topright",
            "transparent_bg": false,
            "widget": "IPY_MODEL_d2c15c0ff0084cf9ba6c6a2892460a01"
          }
        },
        "a2d19f09100b439ead122e2249353935": {
          "model_module": "jupyter-leaflet",
          "model_name": "LeafletAttributionControlModel",
          "model_module_version": "^0.18",
          "state": {
            "_model_module": "jupyter-leaflet",
            "_model_module_version": "^0.18",
            "_model_name": "LeafletAttributionControlModel",
            "_view_count": null,
            "_view_module": "jupyter-leaflet",
            "_view_module_version": "^0.18",
            "_view_name": "LeafletAttributionControlView",
            "options": [
              "position",
              "prefix"
            ],
            "position": "bottomright",
            "prefix": "ipyleaflet"
          }
        },
        "1ab14e09846e4c3f9c742c36b0ad478f": {
          "model_module": "jupyter-leaflet",
          "model_name": "LeafletMapStyleModel",
          "model_module_version": "^0.18",
          "state": {
            "_model_module": "jupyter-leaflet",
            "_model_module_version": "^0.18",
            "_model_name": "LeafletMapStyleModel",
            "_view_count": null,
            "_view_module": "@jupyter-widgets/base",
            "_view_module_version": "1.2.0",
            "_view_name": "StyleView",
            "cursor": "grab"
          }
        },
        "fa9bb57a152b44d89b1de85c4802d3f6": {
          "model_module": "jupyter-leaflet",
          "model_name": "LeafletMapStyleModel",
          "model_module_version": "^0.18",
          "state": {
            "_model_module": "jupyter-leaflet",
            "_model_module_version": "^0.18",
            "_model_name": "LeafletMapStyleModel",
            "_view_count": null,
            "_view_module": "@jupyter-widgets/base",
            "_view_module_version": "1.2.0",
            "_view_name": "StyleView",
            "cursor": "move"
          }
        },
        "6524124f025f4cde99c38d59beabde3e": {
          "model_module": "jupyter-leaflet",
          "model_name": "LeafletTileLayerModel",
          "model_module_version": "^0.18",
          "state": {
            "_model_module": "jupyter-leaflet",
            "_model_module_version": "^0.18",
            "_model_name": "LeafletTileLayerModel",
            "_view_count": null,
            "_view_module": "jupyter-leaflet",
            "_view_module_version": "^0.18",
            "_view_name": "LeafletTileLayerView",
            "attribution": "&copy; <a href=\"https://www.openstreetmap.org/copyright\">OpenStreetMap</a> contributors",
            "base": true,
            "bottom": true,
            "bounds": null,
            "detect_retina": false,
            "loading": false,
            "max_native_zoom": null,
            "max_zoom": 19,
            "min_native_zoom": null,
            "min_zoom": 1,
            "name": "OpenStreetMap.Mapnik",
            "no_wrap": false,
            "opacity": 1,
            "options": [
              "attribution",
              "bounds",
              "detect_retina",
              "max_native_zoom",
              "max_zoom",
              "min_native_zoom",
              "min_zoom",
              "no_wrap",
              "tile_size",
              "tms",
              "zoom_offset"
            ],
            "pane": "",
            "popup": null,
            "popup_max_height": null,
            "popup_max_width": 300,
            "popup_min_width": 50,
            "show_loading": false,
            "subitems": [],
            "tile_size": 256,
            "tms": false,
            "url": "https://tile.openstreetmap.org/{z}/{x}/{y}.png",
            "visible": true,
            "zoom_offset": 0
          }
        },
        "a88b205e7ce1490a95ea9d9e2f18f9c7": {
          "model_module": "jupyter-leaflet",
          "model_name": "LeafletTileLayerModel",
          "model_module_version": "^0.18",
          "state": {
            "_model_module": "jupyter-leaflet",
            "_model_module_version": "^0.18",
            "_model_name": "LeafletTileLayerModel",
            "_view_count": null,
            "_view_module": "jupyter-leaflet",
            "_view_module_version": "^0.18",
            "_view_name": "LeafletTileLayerView",
            "attribution": "Google Earth Engine",
            "base": false,
            "bottom": true,
            "bounds": null,
            "detect_retina": false,
            "loading": false,
            "max_native_zoom": null,
            "max_zoom": 24,
            "min_native_zoom": null,
            "min_zoom": 0,
            "name": "AreaForPA",
            "no_wrap": false,
            "opacity": 1,
            "options": [
              "attribution",
              "bounds",
              "detect_retina",
              "max_native_zoom",
              "max_zoom",
              "min_native_zoom",
              "min_zoom",
              "no_wrap",
              "tile_size",
              "tms",
              "zoom_offset"
            ],
            "pane": "",
            "popup": null,
            "popup_max_height": null,
            "popup_max_width": 300,
            "popup_min_width": 50,
            "show_loading": false,
            "subitems": [],
            "tile_size": 256,
            "tms": false,
            "url": "https://earthengine.googleapis.com/v1/projects/ee-foss4g/maps/6d01a15d9febd8cde3cb668e0ceada28-e33f93377fb666ffd79d19d5900396a3/tiles/{z}/{x}/{y}",
            "visible": true,
            "zoom_offset": 0
          }
        },
        "ba0088cc9dd74bd3bee84bed240636d3": {
          "model_module": "@jupyter-widgets/base",
          "model_name": "LayoutModel",
          "model_module_version": "1.2.0",
          "state": {
            "_model_module": "@jupyter-widgets/base",
            "_model_module_version": "1.2.0",
            "_model_name": "LayoutModel",
            "_view_count": null,
            "_view_module": "@jupyter-widgets/base",
            "_view_module_version": "1.2.0",
            "_view_name": "LayoutView",
            "align_content": null,
            "align_items": null,
            "align_self": null,
            "border": null,
            "bottom": null,
            "display": null,
            "flex": null,
            "flex_flow": null,
            "grid_area": null,
            "grid_auto_columns": null,
            "grid_auto_flow": null,
            "grid_auto_rows": null,
            "grid_column": null,
            "grid_gap": null,
            "grid_row": null,
            "grid_template_areas": null,
            "grid_template_columns": null,
            "grid_template_rows": null,
            "height": "400px",
            "justify_content": null,
            "justify_items": null,
            "left": null,
            "margin": null,
            "max_height": null,
            "max_width": null,
            "min_height": null,
            "min_width": null,
            "object_fit": null,
            "object_position": null,
            "order": null,
            "overflow": null,
            "overflow_x": null,
            "overflow_y": null,
            "padding": null,
            "right": null,
            "top": null,
            "visibility": null,
            "width": "800px"
          }
        },
        "6be3b7169d7142ab99ae0096ebe74c6c": {
          "model_module": "jupyter-leaflet",
          "model_name": "LeafletMapStyleModel",
          "model_module_version": "^0.18",
          "state": {
            "_model_module": "jupyter-leaflet",
            "_model_module_version": "^0.18",
            "_model_name": "LeafletMapStyleModel",
            "_view_count": null,
            "_view_module": "@jupyter-widgets/base",
            "_view_module_version": "1.2.0",
            "_view_name": "StyleView",
            "cursor": "grab"
          }
        },
        "1e5e5633c60b4d8e9e272a870a3cd8df": {
          "model_module": "@jupyter-widgets/controls",
          "model_name": "HBoxModel",
          "model_module_version": "1.5.0",
          "state": {
            "_dom_classes": [
              "geemap-colab"
            ],
            "_model_module": "@jupyter-widgets/controls",
            "_model_module_version": "1.5.0",
            "_model_name": "HBoxModel",
            "_view_count": null,
            "_view_module": "@jupyter-widgets/controls",
            "_view_module_version": "1.5.0",
            "_view_name": "HBoxView",
            "box_style": "",
            "children": [
              "IPY_MODEL_30d0db6ca0884c72b67cc1f46152ee00"
            ],
            "layout": "IPY_MODEL_cced9b90f85340d59adba26e4699c9c6"
          }
        },
        "d2c15c0ff0084cf9ba6c6a2892460a01": {
          "model_module": "@jupyter-widgets/controls",
          "model_name": "VBoxModel",
          "model_module_version": "1.5.0",
          "state": {
            "_dom_classes": [
              "geemap-colab"
            ],
            "_model_module": "@jupyter-widgets/controls",
            "_model_module_version": "1.5.0",
            "_model_name": "VBoxModel",
            "_view_count": null,
            "_view_module": "@jupyter-widgets/controls",
            "_view_module_version": "1.5.0",
            "_view_name": "VBoxView",
            "box_style": "",
            "children": [
              "IPY_MODEL_753fdc2e2387480c8ce3c788525f7985"
            ],
            "layout": "IPY_MODEL_448de3d98c6d402fb9df57ba55535e09"
          }
        },
        "30d0db6ca0884c72b67cc1f46152ee00": {
          "model_module": "@jupyter-widgets/controls",
          "model_name": "ToggleButtonModel",
          "model_module_version": "1.5.0",
          "state": {
            "_dom_classes": [],
            "_model_module": "@jupyter-widgets/controls",
            "_model_module_version": "1.5.0",
            "_model_name": "ToggleButtonModel",
            "_view_count": null,
            "_view_module": "@jupyter-widgets/controls",
            "_view_module_version": "1.5.0",
            "_view_name": "ToggleButtonView",
            "button_style": "",
            "description": "",
            "description_tooltip": null,
            "disabled": false,
            "icon": "globe",
            "layout": "IPY_MODEL_a27f71d497bb4c729ae13733b1c58198",
            "style": "IPY_MODEL_29c835def38e46d6be27579355f0634a",
            "tooltip": "Search location/data",
            "value": false
          }
        },
        "cced9b90f85340d59adba26e4699c9c6": {
          "model_module": "@jupyter-widgets/base",
          "model_name": "LayoutModel",
          "model_module_version": "1.2.0",
          "state": {
            "_model_module": "@jupyter-widgets/base",
            "_model_module_version": "1.2.0",
            "_model_name": "LayoutModel",
            "_view_count": null,
            "_view_module": "@jupyter-widgets/base",
            "_view_module_version": "1.2.0",
            "_view_name": "LayoutView",
            "align_content": null,
            "align_items": null,
            "align_self": null,
            "border": null,
            "bottom": null,
            "display": null,
            "flex": null,
            "flex_flow": null,
            "grid_area": null,
            "grid_auto_columns": null,
            "grid_auto_flow": null,
            "grid_auto_rows": null,
            "grid_column": null,
            "grid_gap": null,
            "grid_row": null,
            "grid_template_areas": null,
            "grid_template_columns": null,
            "grid_template_rows": null,
            "height": null,
            "justify_content": null,
            "justify_items": null,
            "left": null,
            "margin": null,
            "max_height": null,
            "max_width": null,
            "min_height": null,
            "min_width": null,
            "object_fit": null,
            "object_position": null,
            "order": null,
            "overflow": null,
            "overflow_x": null,
            "overflow_y": null,
            "padding": null,
            "right": null,
            "top": null,
            "visibility": null,
            "width": null
          }
        },
        "753fdc2e2387480c8ce3c788525f7985": {
          "model_module": "@jupyter-widgets/controls",
          "model_name": "ToggleButtonModel",
          "model_module_version": "1.5.0",
          "state": {
            "_dom_classes": [],
            "_model_module": "@jupyter-widgets/controls",
            "_model_module_version": "1.5.0",
            "_model_name": "ToggleButtonModel",
            "_view_count": null,
            "_view_module": "@jupyter-widgets/controls",
            "_view_module_version": "1.5.0",
            "_view_name": "ToggleButtonView",
            "button_style": "",
            "description": "",
            "description_tooltip": null,
            "disabled": false,
            "icon": "wrench",
            "layout": "IPY_MODEL_e810cb526f5d4dc08e1908d511c85a13",
            "style": "IPY_MODEL_4b92b4cea32c40dfad5e1d4093d80939",
            "tooltip": "Toolbar",
            "value": false
          }
        },
        "448de3d98c6d402fb9df57ba55535e09": {
          "model_module": "@jupyter-widgets/base",
          "model_name": "LayoutModel",
          "model_module_version": "1.2.0",
          "state": {
            "_model_module": "@jupyter-widgets/base",
            "_model_module_version": "1.2.0",
            "_model_name": "LayoutModel",
            "_view_count": null,
            "_view_module": "@jupyter-widgets/base",
            "_view_module_version": "1.2.0",
            "_view_name": "LayoutView",
            "align_content": null,
            "align_items": null,
            "align_self": null,
            "border": null,
            "bottom": null,
            "display": null,
            "flex": null,
            "flex_flow": null,
            "grid_area": null,
            "grid_auto_columns": null,
            "grid_auto_flow": null,
            "grid_auto_rows": null,
            "grid_column": null,
            "grid_gap": null,
            "grid_row": null,
            "grid_template_areas": null,
            "grid_template_columns": null,
            "grid_template_rows": null,
            "height": null,
            "justify_content": null,
            "justify_items": null,
            "left": null,
            "margin": null,
            "max_height": null,
            "max_width": null,
            "min_height": null,
            "min_width": null,
            "object_fit": null,
            "object_position": null,
            "order": null,
            "overflow": null,
            "overflow_x": null,
            "overflow_y": null,
            "padding": null,
            "right": null,
            "top": null,
            "visibility": null,
            "width": null
          }
        },
        "a27f71d497bb4c729ae13733b1c58198": {
          "model_module": "@jupyter-widgets/base",
          "model_name": "LayoutModel",
          "model_module_version": "1.2.0",
          "state": {
            "_model_module": "@jupyter-widgets/base",
            "_model_module_version": "1.2.0",
            "_model_name": "LayoutModel",
            "_view_count": null,
            "_view_module": "@jupyter-widgets/base",
            "_view_module_version": "1.2.0",
            "_view_name": "LayoutView",
            "align_content": null,
            "align_items": null,
            "align_self": null,
            "border": null,
            "bottom": null,
            "display": null,
            "flex": null,
            "flex_flow": null,
            "grid_area": null,
            "grid_auto_columns": null,
            "grid_auto_flow": null,
            "grid_auto_rows": null,
            "grid_column": null,
            "grid_gap": null,
            "grid_row": null,
            "grid_template_areas": null,
            "grid_template_columns": null,
            "grid_template_rows": null,
            "height": "28px",
            "justify_content": null,
            "justify_items": null,
            "left": null,
            "margin": null,
            "max_height": null,
            "max_width": null,
            "min_height": null,
            "min_width": null,
            "object_fit": null,
            "object_position": null,
            "order": null,
            "overflow": null,
            "overflow_x": null,
            "overflow_y": null,
            "padding": "0px 0px 0px 4px",
            "right": null,
            "top": null,
            "visibility": null,
            "width": "28px"
          }
        },
        "29c835def38e46d6be27579355f0634a": {
          "model_module": "@jupyter-widgets/controls",
          "model_name": "DescriptionStyleModel",
          "model_module_version": "1.5.0",
          "state": {
            "_model_module": "@jupyter-widgets/controls",
            "_model_module_version": "1.5.0",
            "_model_name": "DescriptionStyleModel",
            "_view_count": null,
            "_view_module": "@jupyter-widgets/base",
            "_view_module_version": "1.2.0",
            "_view_name": "StyleView",
            "description_width": ""
          }
        },
        "e810cb526f5d4dc08e1908d511c85a13": {
          "model_module": "@jupyter-widgets/base",
          "model_name": "LayoutModel",
          "model_module_version": "1.2.0",
          "state": {
            "_model_module": "@jupyter-widgets/base",
            "_model_module_version": "1.2.0",
            "_model_name": "LayoutModel",
            "_view_count": null,
            "_view_module": "@jupyter-widgets/base",
            "_view_module_version": "1.2.0",
            "_view_name": "LayoutView",
            "align_content": null,
            "align_items": null,
            "align_self": null,
            "border": null,
            "bottom": null,
            "display": null,
            "flex": null,
            "flex_flow": null,
            "grid_area": null,
            "grid_auto_columns": null,
            "grid_auto_flow": null,
            "grid_auto_rows": null,
            "grid_column": null,
            "grid_gap": null,
            "grid_row": null,
            "grid_template_areas": null,
            "grid_template_columns": null,
            "grid_template_rows": null,
            "height": "28px",
            "justify_content": null,
            "justify_items": null,
            "left": null,
            "margin": null,
            "max_height": null,
            "max_width": null,
            "min_height": null,
            "min_width": null,
            "object_fit": null,
            "object_position": null,
            "order": null,
            "overflow": null,
            "overflow_x": null,
            "overflow_y": null,
            "padding": "0px 0px 0px 4px",
            "right": null,
            "top": null,
            "visibility": null,
            "width": "28px"
          }
        },
        "4b92b4cea32c40dfad5e1d4093d80939": {
          "model_module": "@jupyter-widgets/controls",
          "model_name": "DescriptionStyleModel",
          "model_module_version": "1.5.0",
          "state": {
            "_model_module": "@jupyter-widgets/controls",
            "_model_module_version": "1.5.0",
            "_model_name": "DescriptionStyleModel",
            "_view_count": null,
            "_view_module": "@jupyter-widgets/base",
            "_view_module_version": "1.2.0",
            "_view_name": "StyleView",
            "description_width": ""
          }
        },
        "45e198eca3e747ef933838e80dcedca7": {
          "model_module": "jupyter-leaflet",
          "model_name": "LeafletMapModel",
          "model_module_version": "^0.18",
          "state": {
            "_dom_classes": [],
            "_model_module": "jupyter-leaflet",
            "_model_module_version": "^0.18",
            "_model_name": "LeafletMapModel",
            "_view_count": null,
            "_view_module": "jupyter-leaflet",
            "_view_module_version": "^0.18",
            "_view_name": "LeafletMapView",
            "bottom": 6656,
            "bounce_at_zoom_limits": true,
            "box_zoom": true,
            "center": [
              35.60541125576072,
              127.04873061439156
            ],
            "close_popup_on_click": true,
            "controls": [
              "IPY_MODEL_ada26e89740f448db0ffc7c2a2091a68",
              "IPY_MODEL_02ce0d7974ab4e118cd6d4173d86b434",
              "IPY_MODEL_0d20d960e0aa44fea053654446218bac",
              "IPY_MODEL_c8cf1fce219c47f8901e6c0e777a158c",
              "IPY_MODEL_7b71eeb04e25406291149cda00712272",
              "IPY_MODEL_13f6646eb52742f5bc73806c97963bf6",
              "IPY_MODEL_d60a80efd2214026b44a5e772262c13e",
              "IPY_MODEL_7a248bf10ba643428c7f5ba1693847c0"
            ],
            "crs": {
              "name": "EPSG3857",
              "custom": false
            },
            "default_style": "IPY_MODEL_9608a6ae3dfb4cf8ac32ebb23ae03a49",
            "double_click_zoom": true,
            "dragging": true,
            "dragging_style": "IPY_MODEL_395106446f3c4651853b320403598455",
            "east": 135.83496093750003,
            "fullscreen": false,
            "inertia": true,
            "inertia_deceleration": 3000,
            "inertia_max_speed": 1500,
            "interpolation": "bilinear",
            "keyboard": true,
            "keyboard_pan_offset": 80,
            "keyboard_zoom_offset": 1,
            "layers": [
              "IPY_MODEL_e999629a0c1d4b1bbc4541c6bc51150f",
              "IPY_MODEL_cb850724b8a8459c86b51c1e5d55a870",
              "IPY_MODEL_2ecae3f0d5b744b3bf4f6df377c43310"
            ],
            "layout": "IPY_MODEL_e032b15dcf754403b793e426e9b7e151",
            "left": 13574,
            "max_zoom": 24,
            "min_zoom": null,
            "modisdate": "2024-05-25",
            "north": 39.095962936305476,
            "options": [
              "bounce_at_zoom_limits",
              "box_zoom",
              "center",
              "close_popup_on_click",
              "double_click_zoom",
              "dragging",
              "fullscreen",
              "inertia",
              "inertia_deceleration",
              "inertia_max_speed",
              "interpolation",
              "keyboard",
              "keyboard_pan_offset",
              "keyboard_zoom_offset",
              "max_zoom",
              "min_zoom",
              "prefer_canvas",
              "scroll_wheel_zoom",
              "tap",
              "tap_tolerance",
              "touch_zoom",
              "world_copy_jump",
              "zoom",
              "zoom_animation_threshold",
              "zoom_delta",
              "zoom_snap"
            ],
            "panes": {},
            "prefer_canvas": false,
            "right": 14374,
            "scroll_wheel_zoom": true,
            "south": 31.952162238024975,
            "style": "IPY_MODEL_b321f7a60edc439a8513fef92e14ec34",
            "tap": true,
            "tap_tolerance": 15,
            "top": 6256,
            "touch_zoom": true,
            "west": 118.25683593750001,
            "window_url": "https://ioysqj54nq-496ff2e9c6d22116-0-colab.googleusercontent.com/outputframe.html?vrz=colab_20240523-060110_RC00_636443439",
            "world_copy_jump": false,
            "zoom": 6,
            "zoom_animation_threshold": 4,
            "zoom_delta": 1,
            "zoom_snap": 1
          }
        },
        "ada26e89740f448db0ffc7c2a2091a68": {
          "model_module": "jupyter-leaflet",
          "model_name": "LeafletWidgetControlModel",
          "model_module_version": "^0.18",
          "state": {
            "_model_module": "jupyter-leaflet",
            "_model_module_version": "^0.18",
            "_model_name": "LeafletWidgetControlModel",
            "_view_count": null,
            "_view_module": "jupyter-leaflet",
            "_view_module_version": "^0.18",
            "_view_name": "LeafletWidgetControlView",
            "max_height": null,
            "max_width": null,
            "min_height": null,
            "min_width": null,
            "options": [
              "position",
              "transparent_bg"
            ],
            "position": "topleft",
            "transparent_bg": false,
            "widget": "IPY_MODEL_6a681478c4fd4f38886784479d9bb393"
          }
        },
        "02ce0d7974ab4e118cd6d4173d86b434": {
          "model_module": "jupyter-leaflet",
          "model_name": "LeafletZoomControlModel",
          "model_module_version": "^0.18",
          "state": {
            "_model_module": "jupyter-leaflet",
            "_model_module_version": "^0.18",
            "_model_name": "LeafletZoomControlModel",
            "_view_count": null,
            "_view_module": "jupyter-leaflet",
            "_view_module_version": "^0.18",
            "_view_name": "LeafletZoomControlView",
            "options": [
              "position",
              "zoom_in_text",
              "zoom_in_title",
              "zoom_out_text",
              "zoom_out_title"
            ],
            "position": "topleft",
            "zoom_in_text": "+",
            "zoom_in_title": "Zoom in",
            "zoom_out_text": "-",
            "zoom_out_title": "Zoom out"
          }
        },
        "0d20d960e0aa44fea053654446218bac": {
          "model_module": "jupyter-leaflet",
          "model_name": "LeafletFullScreenControlModel",
          "model_module_version": "^0.18",
          "state": {
            "_model_module": "jupyter-leaflet",
            "_model_module_version": "^0.18",
            "_model_name": "LeafletFullScreenControlModel",
            "_view_count": null,
            "_view_module": "jupyter-leaflet",
            "_view_module_version": "^0.18",
            "_view_name": "LeafletFullScreenControlView",
            "options": [
              "position"
            ],
            "position": "topleft"
          }
        },
        "c8cf1fce219c47f8901e6c0e777a158c": {
          "model_module": "jupyter-leaflet",
          "model_name": "LeafletDrawControlModel",
          "model_module_version": "^0.18",
          "state": {
            "_model_module": "jupyter-leaflet",
            "_model_module_version": "^0.18",
            "_model_name": "LeafletDrawControlModel",
            "_view_count": null,
            "_view_module": "jupyter-leaflet",
            "_view_module_version": "^0.18",
            "_view_name": "LeafletDrawControlView",
            "circle": {},
            "circlemarker": {},
            "data": [],
            "edit": true,
            "marker": {
              "shapeOptions": {
                "color": "#3388ff"
              }
            },
            "options": [
              "position"
            ],
            "polygon": {
              "shapeOptions": {}
            },
            "polyline": {
              "shapeOptions": {}
            },
            "position": "topleft",
            "rectangle": {
              "shapeOptions": {
                "color": "#3388ff"
              }
            },
            "remove": true
          }
        },
        "7b71eeb04e25406291149cda00712272": {
          "model_module": "jupyter-leaflet",
          "model_name": "LeafletScaleControlModel",
          "model_module_version": "^0.18",
          "state": {
            "_model_module": "jupyter-leaflet",
            "_model_module_version": "^0.18",
            "_model_name": "LeafletScaleControlModel",
            "_view_count": null,
            "_view_module": "jupyter-leaflet",
            "_view_module_version": "^0.18",
            "_view_name": "LeafletScaleControlView",
            "imperial": true,
            "max_width": 100,
            "metric": true,
            "options": [
              "imperial",
              "max_width",
              "metric",
              "position",
              "update_when_idle"
            ],
            "position": "bottomleft",
            "update_when_idle": false
          }
        },
        "13f6646eb52742f5bc73806c97963bf6": {
          "model_module": "jupyter-leaflet",
          "model_name": "LeafletMeasureControlModel",
          "model_module_version": "^0.18",
          "state": {
            "_custom_units": {},
            "_model_module": "jupyter-leaflet",
            "_model_module_version": "^0.18",
            "_model_name": "LeafletMeasureControlModel",
            "_view_count": null,
            "_view_module": "jupyter-leaflet",
            "_view_module_version": "^0.18",
            "_view_name": "LeafletMeasureControlView",
            "active_color": "orange",
            "capture_z_index": 10000,
            "completed_color": "#C8F2BE",
            "options": [
              "active_color",
              "capture_z_index",
              "completed_color",
              "popup_options",
              "position",
              "primary_area_unit",
              "primary_length_unit",
              "secondary_area_unit",
              "secondary_length_unit"
            ],
            "popup_options": {
              "className": "leaflet-measure-resultpopup",
              "autoPanPadding": [
                10,
                10
              ]
            },
            "position": "bottomleft",
            "primary_area_unit": "acres",
            "primary_length_unit": "kilometers",
            "secondary_area_unit": null,
            "secondary_length_unit": null
          }
        },
        "d60a80efd2214026b44a5e772262c13e": {
          "model_module": "jupyter-leaflet",
          "model_name": "LeafletWidgetControlModel",
          "model_module_version": "^0.18",
          "state": {
            "_model_module": "jupyter-leaflet",
            "_model_module_version": "^0.18",
            "_model_name": "LeafletWidgetControlModel",
            "_view_count": null,
            "_view_module": "jupyter-leaflet",
            "_view_module_version": "^0.18",
            "_view_name": "LeafletWidgetControlView",
            "max_height": null,
            "max_width": null,
            "min_height": null,
            "min_width": null,
            "options": [
              "position",
              "transparent_bg"
            ],
            "position": "topright",
            "transparent_bg": false,
            "widget": "IPY_MODEL_75c160264e2d46ccadda8041c0e61c72"
          }
        },
        "7a248bf10ba643428c7f5ba1693847c0": {
          "model_module": "jupyter-leaflet",
          "model_name": "LeafletAttributionControlModel",
          "model_module_version": "^0.18",
          "state": {
            "_model_module": "jupyter-leaflet",
            "_model_module_version": "^0.18",
            "_model_name": "LeafletAttributionControlModel",
            "_view_count": null,
            "_view_module": "jupyter-leaflet",
            "_view_module_version": "^0.18",
            "_view_name": "LeafletAttributionControlView",
            "options": [
              "position",
              "prefix"
            ],
            "position": "bottomright",
            "prefix": "ipyleaflet"
          }
        },
        "9608a6ae3dfb4cf8ac32ebb23ae03a49": {
          "model_module": "jupyter-leaflet",
          "model_name": "LeafletMapStyleModel",
          "model_module_version": "^0.18",
          "state": {
            "_model_module": "jupyter-leaflet",
            "_model_module_version": "^0.18",
            "_model_name": "LeafletMapStyleModel",
            "_view_count": null,
            "_view_module": "@jupyter-widgets/base",
            "_view_module_version": "1.2.0",
            "_view_name": "StyleView",
            "cursor": "grab"
          }
        },
        "395106446f3c4651853b320403598455": {
          "model_module": "jupyter-leaflet",
          "model_name": "LeafletMapStyleModel",
          "model_module_version": "^0.18",
          "state": {
            "_model_module": "jupyter-leaflet",
            "_model_module_version": "^0.18",
            "_model_name": "LeafletMapStyleModel",
            "_view_count": null,
            "_view_module": "@jupyter-widgets/base",
            "_view_module_version": "1.2.0",
            "_view_name": "StyleView",
            "cursor": "move"
          }
        },
        "e999629a0c1d4b1bbc4541c6bc51150f": {
          "model_module": "jupyter-leaflet",
          "model_name": "LeafletTileLayerModel",
          "model_module_version": "^0.18",
          "state": {
            "_model_module": "jupyter-leaflet",
            "_model_module_version": "^0.18",
            "_model_name": "LeafletTileLayerModel",
            "_view_count": null,
            "_view_module": "jupyter-leaflet",
            "_view_module_version": "^0.18",
            "_view_name": "LeafletTileLayerView",
            "attribution": "&copy; <a href=\"https://www.openstreetmap.org/copyright\">OpenStreetMap</a> contributors",
            "base": true,
            "bottom": true,
            "bounds": null,
            "detect_retina": false,
            "loading": false,
            "max_native_zoom": null,
            "max_zoom": 19,
            "min_native_zoom": null,
            "min_zoom": 1,
            "name": "OpenStreetMap.Mapnik",
            "no_wrap": false,
            "opacity": 1,
            "options": [
              "attribution",
              "bounds",
              "detect_retina",
              "max_native_zoom",
              "max_zoom",
              "min_native_zoom",
              "min_zoom",
              "no_wrap",
              "tile_size",
              "tms",
              "zoom_offset"
            ],
            "pane": "",
            "popup": null,
            "popup_max_height": null,
            "popup_max_width": 300,
            "popup_min_width": 50,
            "show_loading": false,
            "subitems": [],
            "tile_size": 256,
            "tms": false,
            "url": "https://tile.openstreetmap.org/{z}/{x}/{y}.png",
            "visible": true,
            "zoom_offset": 0
          }
        },
        "cb850724b8a8459c86b51c1e5d55a870": {
          "model_module": "jupyter-leaflet",
          "model_name": "LeafletTileLayerModel",
          "model_module_version": "^0.18",
          "state": {
            "_model_module": "jupyter-leaflet",
            "_model_module_version": "^0.18",
            "_model_name": "LeafletTileLayerModel",
            "_view_count": null,
            "_view_module": "jupyter-leaflet",
            "_view_module_version": "^0.18",
            "_view_name": "LeafletTileLayerView",
            "attribution": "Google Earth Engine",
            "base": false,
            "bottom": true,
            "bounds": null,
            "detect_retina": false,
            "loading": false,
            "max_native_zoom": null,
            "max_zoom": 24,
            "min_native_zoom": null,
            "min_zoom": 0,
            "name": "Grid for spatial block cross validation",
            "no_wrap": false,
            "opacity": 1,
            "options": [
              "attribution",
              "bounds",
              "detect_retina",
              "max_native_zoom",
              "max_zoom",
              "min_native_zoom",
              "min_zoom",
              "no_wrap",
              "tile_size",
              "tms",
              "zoom_offset"
            ],
            "pane": "",
            "popup": null,
            "popup_max_height": null,
            "popup_max_width": 300,
            "popup_min_width": 50,
            "show_loading": false,
            "subitems": [],
            "tile_size": 256,
            "tms": false,
            "url": "https://earthengine.googleapis.com/v1/projects/ee-foss4g/maps/14db2804499bcefb22a7c60b1ac4e713-6b7e6c0a22c2591eca17fbe3ec1c5d79/tiles/{z}/{x}/{y}",
            "visible": true,
            "zoom_offset": 0
          }
        },
        "2ecae3f0d5b744b3bf4f6df377c43310": {
          "model_module": "jupyter-leaflet",
          "model_name": "LeafletTileLayerModel",
          "model_module_version": "^0.18",
          "state": {
            "_model_module": "jupyter-leaflet",
            "_model_module_version": "^0.18",
            "_model_name": "LeafletTileLayerModel",
            "_view_count": null,
            "_view_module": "jupyter-leaflet",
            "_view_module_version": "^0.18",
            "_view_name": "LeafletTileLayerView",
            "attribution": "Google Earth Engine",
            "base": false,
            "bottom": true,
            "bounds": null,
            "detect_retina": false,
            "loading": false,
            "max_native_zoom": null,
            "max_zoom": 24,
            "min_native_zoom": null,
            "min_zoom": 0,
            "name": "Study Area",
            "no_wrap": false,
            "opacity": 1,
            "options": [
              "attribution",
              "bounds",
              "detect_retina",
              "max_native_zoom",
              "max_zoom",
              "min_native_zoom",
              "min_zoom",
              "no_wrap",
              "tile_size",
              "tms",
              "zoom_offset"
            ],
            "pane": "",
            "popup": null,
            "popup_max_height": null,
            "popup_max_width": 300,
            "popup_min_width": 50,
            "show_loading": false,
            "subitems": [],
            "tile_size": 256,
            "tms": false,
            "url": "https://earthengine.googleapis.com/v1/projects/ee-foss4g/maps/26f550f5fac434ef57d4baae741843d8-4278b934d032a1f0cb87a35673a818e4/tiles/{z}/{x}/{y}",
            "visible": true,
            "zoom_offset": 0
          }
        },
        "e032b15dcf754403b793e426e9b7e151": {
          "model_module": "@jupyter-widgets/base",
          "model_name": "LayoutModel",
          "model_module_version": "1.2.0",
          "state": {
            "_model_module": "@jupyter-widgets/base",
            "_model_module_version": "1.2.0",
            "_model_name": "LayoutModel",
            "_view_count": null,
            "_view_module": "@jupyter-widgets/base",
            "_view_module_version": "1.2.0",
            "_view_name": "LayoutView",
            "align_content": null,
            "align_items": null,
            "align_self": null,
            "border": null,
            "bottom": null,
            "display": null,
            "flex": null,
            "flex_flow": null,
            "grid_area": null,
            "grid_auto_columns": null,
            "grid_auto_flow": null,
            "grid_auto_rows": null,
            "grid_column": null,
            "grid_gap": null,
            "grid_row": null,
            "grid_template_areas": null,
            "grid_template_columns": null,
            "grid_template_rows": null,
            "height": "400px",
            "justify_content": null,
            "justify_items": null,
            "left": null,
            "margin": null,
            "max_height": null,
            "max_width": null,
            "min_height": null,
            "min_width": null,
            "object_fit": null,
            "object_position": null,
            "order": null,
            "overflow": null,
            "overflow_x": null,
            "overflow_y": null,
            "padding": null,
            "right": null,
            "top": null,
            "visibility": null,
            "width": "800px"
          }
        },
        "b321f7a60edc439a8513fef92e14ec34": {
          "model_module": "jupyter-leaflet",
          "model_name": "LeafletMapStyleModel",
          "model_module_version": "^0.18",
          "state": {
            "_model_module": "jupyter-leaflet",
            "_model_module_version": "^0.18",
            "_model_name": "LeafletMapStyleModel",
            "_view_count": null,
            "_view_module": "@jupyter-widgets/base",
            "_view_module_version": "1.2.0",
            "_view_name": "StyleView",
            "cursor": "grab"
          }
        },
        "6a681478c4fd4f38886784479d9bb393": {
          "model_module": "@jupyter-widgets/controls",
          "model_name": "HBoxModel",
          "model_module_version": "1.5.0",
          "state": {
            "_dom_classes": [
              "geemap-colab"
            ],
            "_model_module": "@jupyter-widgets/controls",
            "_model_module_version": "1.5.0",
            "_model_name": "HBoxModel",
            "_view_count": null,
            "_view_module": "@jupyter-widgets/controls",
            "_view_module_version": "1.5.0",
            "_view_name": "HBoxView",
            "box_style": "",
            "children": [
              "IPY_MODEL_15f99363fb9a451eb24c4b0090053b4f"
            ],
            "layout": "IPY_MODEL_01d188a1488c4831a170234346b81bde"
          }
        },
        "75c160264e2d46ccadda8041c0e61c72": {
          "model_module": "@jupyter-widgets/controls",
          "model_name": "VBoxModel",
          "model_module_version": "1.5.0",
          "state": {
            "_dom_classes": [
              "geemap-colab"
            ],
            "_model_module": "@jupyter-widgets/controls",
            "_model_module_version": "1.5.0",
            "_model_name": "VBoxModel",
            "_view_count": null,
            "_view_module": "@jupyter-widgets/controls",
            "_view_module_version": "1.5.0",
            "_view_name": "VBoxView",
            "box_style": "",
            "children": [
              "IPY_MODEL_b6d72dd5687042ad93a9b5091f893dd3"
            ],
            "layout": "IPY_MODEL_1d00ad9c3526417688aa0520dcd719ae"
          }
        },
        "15f99363fb9a451eb24c4b0090053b4f": {
          "model_module": "@jupyter-widgets/controls",
          "model_name": "ToggleButtonModel",
          "model_module_version": "1.5.0",
          "state": {
            "_dom_classes": [],
            "_model_module": "@jupyter-widgets/controls",
            "_model_module_version": "1.5.0",
            "_model_name": "ToggleButtonModel",
            "_view_count": null,
            "_view_module": "@jupyter-widgets/controls",
            "_view_module_version": "1.5.0",
            "_view_name": "ToggleButtonView",
            "button_style": "",
            "description": "",
            "description_tooltip": null,
            "disabled": false,
            "icon": "globe",
            "layout": "IPY_MODEL_855b2c34b67c4c11b3188a8de90f6fd7",
            "style": "IPY_MODEL_612340961d34467d806639301c914ce7",
            "tooltip": "Search location/data",
            "value": false
          }
        },
        "01d188a1488c4831a170234346b81bde": {
          "model_module": "@jupyter-widgets/base",
          "model_name": "LayoutModel",
          "model_module_version": "1.2.0",
          "state": {
            "_model_module": "@jupyter-widgets/base",
            "_model_module_version": "1.2.0",
            "_model_name": "LayoutModel",
            "_view_count": null,
            "_view_module": "@jupyter-widgets/base",
            "_view_module_version": "1.2.0",
            "_view_name": "LayoutView",
            "align_content": null,
            "align_items": null,
            "align_self": null,
            "border": null,
            "bottom": null,
            "display": null,
            "flex": null,
            "flex_flow": null,
            "grid_area": null,
            "grid_auto_columns": null,
            "grid_auto_flow": null,
            "grid_auto_rows": null,
            "grid_column": null,
            "grid_gap": null,
            "grid_row": null,
            "grid_template_areas": null,
            "grid_template_columns": null,
            "grid_template_rows": null,
            "height": null,
            "justify_content": null,
            "justify_items": null,
            "left": null,
            "margin": null,
            "max_height": null,
            "max_width": null,
            "min_height": null,
            "min_width": null,
            "object_fit": null,
            "object_position": null,
            "order": null,
            "overflow": null,
            "overflow_x": null,
            "overflow_y": null,
            "padding": null,
            "right": null,
            "top": null,
            "visibility": null,
            "width": null
          }
        },
        "b6d72dd5687042ad93a9b5091f893dd3": {
          "model_module": "@jupyter-widgets/controls",
          "model_name": "ToggleButtonModel",
          "model_module_version": "1.5.0",
          "state": {
            "_dom_classes": [],
            "_model_module": "@jupyter-widgets/controls",
            "_model_module_version": "1.5.0",
            "_model_name": "ToggleButtonModel",
            "_view_count": null,
            "_view_module": "@jupyter-widgets/controls",
            "_view_module_version": "1.5.0",
            "_view_name": "ToggleButtonView",
            "button_style": "",
            "description": "",
            "description_tooltip": null,
            "disabled": false,
            "icon": "wrench",
            "layout": "IPY_MODEL_24ae619ed66b4172be4b488a847fc3ca",
            "style": "IPY_MODEL_fa8aada3aac941069db84d270d8d6429",
            "tooltip": "Toolbar",
            "value": false
          }
        },
        "1d00ad9c3526417688aa0520dcd719ae": {
          "model_module": "@jupyter-widgets/base",
          "model_name": "LayoutModel",
          "model_module_version": "1.2.0",
          "state": {
            "_model_module": "@jupyter-widgets/base",
            "_model_module_version": "1.2.0",
            "_model_name": "LayoutModel",
            "_view_count": null,
            "_view_module": "@jupyter-widgets/base",
            "_view_module_version": "1.2.0",
            "_view_name": "LayoutView",
            "align_content": null,
            "align_items": null,
            "align_self": null,
            "border": null,
            "bottom": null,
            "display": null,
            "flex": null,
            "flex_flow": null,
            "grid_area": null,
            "grid_auto_columns": null,
            "grid_auto_flow": null,
            "grid_auto_rows": null,
            "grid_column": null,
            "grid_gap": null,
            "grid_row": null,
            "grid_template_areas": null,
            "grid_template_columns": null,
            "grid_template_rows": null,
            "height": null,
            "justify_content": null,
            "justify_items": null,
            "left": null,
            "margin": null,
            "max_height": null,
            "max_width": null,
            "min_height": null,
            "min_width": null,
            "object_fit": null,
            "object_position": null,
            "order": null,
            "overflow": null,
            "overflow_x": null,
            "overflow_y": null,
            "padding": null,
            "right": null,
            "top": null,
            "visibility": null,
            "width": null
          }
        },
        "855b2c34b67c4c11b3188a8de90f6fd7": {
          "model_module": "@jupyter-widgets/base",
          "model_name": "LayoutModel",
          "model_module_version": "1.2.0",
          "state": {
            "_model_module": "@jupyter-widgets/base",
            "_model_module_version": "1.2.0",
            "_model_name": "LayoutModel",
            "_view_count": null,
            "_view_module": "@jupyter-widgets/base",
            "_view_module_version": "1.2.0",
            "_view_name": "LayoutView",
            "align_content": null,
            "align_items": null,
            "align_self": null,
            "border": null,
            "bottom": null,
            "display": null,
            "flex": null,
            "flex_flow": null,
            "grid_area": null,
            "grid_auto_columns": null,
            "grid_auto_flow": null,
            "grid_auto_rows": null,
            "grid_column": null,
            "grid_gap": null,
            "grid_row": null,
            "grid_template_areas": null,
            "grid_template_columns": null,
            "grid_template_rows": null,
            "height": "28px",
            "justify_content": null,
            "justify_items": null,
            "left": null,
            "margin": null,
            "max_height": null,
            "max_width": null,
            "min_height": null,
            "min_width": null,
            "object_fit": null,
            "object_position": null,
            "order": null,
            "overflow": null,
            "overflow_x": null,
            "overflow_y": null,
            "padding": "0px 0px 0px 4px",
            "right": null,
            "top": null,
            "visibility": null,
            "width": "28px"
          }
        },
        "612340961d34467d806639301c914ce7": {
          "model_module": "@jupyter-widgets/controls",
          "model_name": "DescriptionStyleModel",
          "model_module_version": "1.5.0",
          "state": {
            "_model_module": "@jupyter-widgets/controls",
            "_model_module_version": "1.5.0",
            "_model_name": "DescriptionStyleModel",
            "_view_count": null,
            "_view_module": "@jupyter-widgets/base",
            "_view_module_version": "1.2.0",
            "_view_name": "StyleView",
            "description_width": ""
          }
        },
        "24ae619ed66b4172be4b488a847fc3ca": {
          "model_module": "@jupyter-widgets/base",
          "model_name": "LayoutModel",
          "model_module_version": "1.2.0",
          "state": {
            "_model_module": "@jupyter-widgets/base",
            "_model_module_version": "1.2.0",
            "_model_name": "LayoutModel",
            "_view_count": null,
            "_view_module": "@jupyter-widgets/base",
            "_view_module_version": "1.2.0",
            "_view_name": "LayoutView",
            "align_content": null,
            "align_items": null,
            "align_self": null,
            "border": null,
            "bottom": null,
            "display": null,
            "flex": null,
            "flex_flow": null,
            "grid_area": null,
            "grid_auto_columns": null,
            "grid_auto_flow": null,
            "grid_auto_rows": null,
            "grid_column": null,
            "grid_gap": null,
            "grid_row": null,
            "grid_template_areas": null,
            "grid_template_columns": null,
            "grid_template_rows": null,
            "height": "28px",
            "justify_content": null,
            "justify_items": null,
            "left": null,
            "margin": null,
            "max_height": null,
            "max_width": null,
            "min_height": null,
            "min_width": null,
            "object_fit": null,
            "object_position": null,
            "order": null,
            "overflow": null,
            "overflow_x": null,
            "overflow_y": null,
            "padding": "0px 0px 0px 4px",
            "right": null,
            "top": null,
            "visibility": null,
            "width": "28px"
          }
        },
        "fa8aada3aac941069db84d270d8d6429": {
          "model_module": "@jupyter-widgets/controls",
          "model_name": "DescriptionStyleModel",
          "model_module_version": "1.5.0",
          "state": {
            "_model_module": "@jupyter-widgets/controls",
            "_model_module_version": "1.5.0",
            "_model_name": "DescriptionStyleModel",
            "_view_count": null,
            "_view_module": "@jupyter-widgets/base",
            "_view_module_version": "1.2.0",
            "_view_name": "StyleView",
            "description_width": ""
          }
        },
        "68e48a267bbd43dd8949c47d959c5a1a": {
          "model_module": "jupyter-leaflet",
          "model_name": "LeafletMapModel",
          "model_module_version": "^0.18",
          "state": {
            "_dom_classes": [],
            "_model_module": "jupyter-leaflet",
            "_model_module_version": "^0.18",
            "_model_name": "LeafletMapModel",
            "_view_count": null,
            "_view_module": "jupyter-leaflet",
            "_view_module_version": "^0.18",
            "_view_name": "LeafletMapView",
            "bottom": 6656,
            "bounce_at_zoom_limits": true,
            "box_zoom": true,
            "center": [
              35.60541125576072,
              127.04873061439156
            ],
            "close_popup_on_click": true,
            "controls": [
              "IPY_MODEL_c792c1ca59a04bb39e57b5c8665b867a",
              "IPY_MODEL_37e744b384ca42459831a3434de6c1d9",
              "IPY_MODEL_a585bcd6d3984d1b834d93f33f178d2a",
              "IPY_MODEL_8542f464e5b34d8a87a7903ddd329d4f",
              "IPY_MODEL_e69e8f0a34ec44c3bec9b123b1f2e1d2",
              "IPY_MODEL_86821c8315ce453099b65db7517bdbd3",
              "IPY_MODEL_2712eda67ce7448d857ee98ae902a74f",
              "IPY_MODEL_af1c3439498640abace722a6f2916abf",
              "IPY_MODEL_c6bbb3fbe5df4ac9bcc2e89db0f69911"
            ],
            "crs": {
              "name": "EPSG3857",
              "custom": false
            },
            "default_style": "IPY_MODEL_5429eb6814194b41babe33f46f83f539",
            "double_click_zoom": true,
            "dragging": true,
            "dragging_style": "IPY_MODEL_b33cdc875404490d8d208ba3cc053fe8",
            "east": 135.83496093750003,
            "fullscreen": false,
            "inertia": true,
            "inertia_deceleration": 3000,
            "inertia_max_speed": 1500,
            "interpolation": "bilinear",
            "keyboard": true,
            "keyboard_pan_offset": 80,
            "keyboard_zoom_offset": 1,
            "layers": [
              "IPY_MODEL_b740ac72e1b94c1996fb1bd7a96d78c0",
              "IPY_MODEL_b78331e55ac041688e6934ef87641a2e",
              "IPY_MODEL_787c1034c1dd49cf8f8b97ed970b459a"
            ],
            "layout": "IPY_MODEL_adbcc93b2d8a44709f47851c88c1a086",
            "left": 13574,
            "max_zoom": 24,
            "min_zoom": null,
            "modisdate": "2024-05-25",
            "north": 39.095962936305476,
            "options": [
              "bounce_at_zoom_limits",
              "box_zoom",
              "center",
              "close_popup_on_click",
              "double_click_zoom",
              "dragging",
              "fullscreen",
              "inertia",
              "inertia_deceleration",
              "inertia_max_speed",
              "interpolation",
              "keyboard",
              "keyboard_pan_offset",
              "keyboard_zoom_offset",
              "max_zoom",
              "min_zoom",
              "prefer_canvas",
              "scroll_wheel_zoom",
              "tap",
              "tap_tolerance",
              "touch_zoom",
              "world_copy_jump",
              "zoom",
              "zoom_animation_threshold",
              "zoom_delta",
              "zoom_snap"
            ],
            "panes": {},
            "prefer_canvas": false,
            "right": 14374,
            "scroll_wheel_zoom": true,
            "south": 31.952162238024975,
            "style": "IPY_MODEL_c4c5f3dfaf8d4e83bdd2103aee75f0b4",
            "tap": true,
            "tap_tolerance": 15,
            "top": 6256,
            "touch_zoom": true,
            "west": 118.25683593750001,
            "window_url": "https://ioysqj54nq-496ff2e9c6d22116-0-colab.googleusercontent.com/outputframe.html?vrz=colab_20240523-060110_RC00_636443439",
            "world_copy_jump": false,
            "zoom": 6,
            "zoom_animation_threshold": 4,
            "zoom_delta": 1,
            "zoom_snap": 1
          }
        },
        "c792c1ca59a04bb39e57b5c8665b867a": {
          "model_module": "jupyter-leaflet",
          "model_name": "LeafletWidgetControlModel",
          "model_module_version": "^0.18",
          "state": {
            "_model_module": "jupyter-leaflet",
            "_model_module_version": "^0.18",
            "_model_name": "LeafletWidgetControlModel",
            "_view_count": null,
            "_view_module": "jupyter-leaflet",
            "_view_module_version": "^0.18",
            "_view_name": "LeafletWidgetControlView",
            "max_height": null,
            "max_width": null,
            "min_height": null,
            "min_width": null,
            "options": [
              "position",
              "transparent_bg"
            ],
            "position": "topleft",
            "transparent_bg": false,
            "widget": "IPY_MODEL_7bac80e25f984c1e8cc6b4a1dd23b8f4"
          }
        },
        "37e744b384ca42459831a3434de6c1d9": {
          "model_module": "jupyter-leaflet",
          "model_name": "LeafletZoomControlModel",
          "model_module_version": "^0.18",
          "state": {
            "_model_module": "jupyter-leaflet",
            "_model_module_version": "^0.18",
            "_model_name": "LeafletZoomControlModel",
            "_view_count": null,
            "_view_module": "jupyter-leaflet",
            "_view_module_version": "^0.18",
            "_view_name": "LeafletZoomControlView",
            "options": [
              "position",
              "zoom_in_text",
              "zoom_in_title",
              "zoom_out_text",
              "zoom_out_title"
            ],
            "position": "topleft",
            "zoom_in_text": "+",
            "zoom_in_title": "Zoom in",
            "zoom_out_text": "-",
            "zoom_out_title": "Zoom out"
          }
        },
        "a585bcd6d3984d1b834d93f33f178d2a": {
          "model_module": "jupyter-leaflet",
          "model_name": "LeafletFullScreenControlModel",
          "model_module_version": "^0.18",
          "state": {
            "_model_module": "jupyter-leaflet",
            "_model_module_version": "^0.18",
            "_model_name": "LeafletFullScreenControlModel",
            "_view_count": null,
            "_view_module": "jupyter-leaflet",
            "_view_module_version": "^0.18",
            "_view_name": "LeafletFullScreenControlView",
            "options": [
              "position"
            ],
            "position": "topleft"
          }
        },
        "8542f464e5b34d8a87a7903ddd329d4f": {
          "model_module": "jupyter-leaflet",
          "model_name": "LeafletDrawControlModel",
          "model_module_version": "^0.18",
          "state": {
            "_model_module": "jupyter-leaflet",
            "_model_module_version": "^0.18",
            "_model_name": "LeafletDrawControlModel",
            "_view_count": null,
            "_view_module": "jupyter-leaflet",
            "_view_module_version": "^0.18",
            "_view_name": "LeafletDrawControlView",
            "circle": {},
            "circlemarker": {},
            "data": [],
            "edit": true,
            "marker": {
              "shapeOptions": {
                "color": "#3388ff"
              }
            },
            "options": [
              "position"
            ],
            "polygon": {
              "shapeOptions": {}
            },
            "polyline": {
              "shapeOptions": {}
            },
            "position": "topleft",
            "rectangle": {
              "shapeOptions": {
                "color": "#3388ff"
              }
            },
            "remove": true
          }
        },
        "e69e8f0a34ec44c3bec9b123b1f2e1d2": {
          "model_module": "jupyter-leaflet",
          "model_name": "LeafletScaleControlModel",
          "model_module_version": "^0.18",
          "state": {
            "_model_module": "jupyter-leaflet",
            "_model_module_version": "^0.18",
            "_model_name": "LeafletScaleControlModel",
            "_view_count": null,
            "_view_module": "jupyter-leaflet",
            "_view_module_version": "^0.18",
            "_view_name": "LeafletScaleControlView",
            "imperial": true,
            "max_width": 100,
            "metric": true,
            "options": [
              "imperial",
              "max_width",
              "metric",
              "position",
              "update_when_idle"
            ],
            "position": "bottomleft",
            "update_when_idle": false
          }
        },
        "86821c8315ce453099b65db7517bdbd3": {
          "model_module": "jupyter-leaflet",
          "model_name": "LeafletMeasureControlModel",
          "model_module_version": "^0.18",
          "state": {
            "_custom_units": {},
            "_model_module": "jupyter-leaflet",
            "_model_module_version": "^0.18",
            "_model_name": "LeafletMeasureControlModel",
            "_view_count": null,
            "_view_module": "jupyter-leaflet",
            "_view_module_version": "^0.18",
            "_view_name": "LeafletMeasureControlView",
            "active_color": "orange",
            "capture_z_index": 10000,
            "completed_color": "#C8F2BE",
            "options": [
              "active_color",
              "capture_z_index",
              "completed_color",
              "popup_options",
              "position",
              "primary_area_unit",
              "primary_length_unit",
              "secondary_area_unit",
              "secondary_length_unit"
            ],
            "popup_options": {
              "className": "leaflet-measure-resultpopup",
              "autoPanPadding": [
                10,
                10
              ]
            },
            "position": "bottomleft",
            "primary_area_unit": "acres",
            "primary_length_unit": "kilometers",
            "secondary_area_unit": null,
            "secondary_length_unit": null
          }
        },
        "2712eda67ce7448d857ee98ae902a74f": {
          "model_module": "jupyter-leaflet",
          "model_name": "LeafletWidgetControlModel",
          "model_module_version": "^0.18",
          "state": {
            "_model_module": "jupyter-leaflet",
            "_model_module_version": "^0.18",
            "_model_name": "LeafletWidgetControlModel",
            "_view_count": null,
            "_view_module": "jupyter-leaflet",
            "_view_module_version": "^0.18",
            "_view_name": "LeafletWidgetControlView",
            "max_height": null,
            "max_width": null,
            "min_height": null,
            "min_width": null,
            "options": [
              "position",
              "transparent_bg"
            ],
            "position": "topright",
            "transparent_bg": false,
            "widget": "IPY_MODEL_d89ce1391622424a91e541a714f9383c"
          }
        },
        "af1c3439498640abace722a6f2916abf": {
          "model_module": "jupyter-leaflet",
          "model_name": "LeafletAttributionControlModel",
          "model_module_version": "^0.18",
          "state": {
            "_model_module": "jupyter-leaflet",
            "_model_module_version": "^0.18",
            "_model_name": "LeafletAttributionControlModel",
            "_view_count": null,
            "_view_module": "jupyter-leaflet",
            "_view_module_version": "^0.18",
            "_view_name": "LeafletAttributionControlView",
            "options": [
              "position",
              "prefix"
            ],
            "position": "bottomright",
            "prefix": "ipyleaflet"
          }
        },
        "c6bbb3fbe5df4ac9bcc2e89db0f69911": {
          "model_module": "jupyter-leaflet",
          "model_name": "LeafletWidgetControlModel",
          "model_module_version": "^0.18",
          "state": {
            "_model_module": "jupyter-leaflet",
            "_model_module_version": "^0.18",
            "_model_name": "LeafletWidgetControlModel",
            "_view_count": null,
            "_view_module": "jupyter-leaflet",
            "_view_module_version": "^0.18",
            "_view_name": "LeafletWidgetControlView",
            "max_height": null,
            "max_width": null,
            "min_height": null,
            "min_width": null,
            "options": [
              "position",
              "transparent_bg"
            ],
            "position": "bottomright",
            "transparent_bg": false,
            "widget": "IPY_MODEL_c8590bea47794da3a75ece669176ab16"
          }
        },
        "5429eb6814194b41babe33f46f83f539": {
          "model_module": "jupyter-leaflet",
          "model_name": "LeafletMapStyleModel",
          "model_module_version": "^0.18",
          "state": {
            "_model_module": "jupyter-leaflet",
            "_model_module_version": "^0.18",
            "_model_name": "LeafletMapStyleModel",
            "_view_count": null,
            "_view_module": "@jupyter-widgets/base",
            "_view_module_version": "1.2.0",
            "_view_name": "StyleView",
            "cursor": "grab"
          }
        },
        "b33cdc875404490d8d208ba3cc053fe8": {
          "model_module": "jupyter-leaflet",
          "model_name": "LeafletMapStyleModel",
          "model_module_version": "^0.18",
          "state": {
            "_model_module": "jupyter-leaflet",
            "_model_module_version": "^0.18",
            "_model_name": "LeafletMapStyleModel",
            "_view_count": null,
            "_view_module": "@jupyter-widgets/base",
            "_view_module_version": "1.2.0",
            "_view_name": "StyleView",
            "cursor": "move"
          }
        },
        "b740ac72e1b94c1996fb1bd7a96d78c0": {
          "model_module": "jupyter-leaflet",
          "model_name": "LeafletTileLayerModel",
          "model_module_version": "^0.18",
          "state": {
            "_model_module": "jupyter-leaflet",
            "_model_module_version": "^0.18",
            "_model_name": "LeafletTileLayerModel",
            "_view_count": null,
            "_view_module": "jupyter-leaflet",
            "_view_module_version": "^0.18",
            "_view_name": "LeafletTileLayerView",
            "attribution": "Esri",
            "base": true,
            "bottom": true,
            "bounds": null,
            "detect_retina": false,
            "loading": false,
            "max_native_zoom": null,
            "max_zoom": 24,
            "min_native_zoom": null,
            "min_zoom": 0,
            "name": "Esri.WorldImagery",
            "no_wrap": false,
            "opacity": 1,
            "options": [
              "attribution",
              "bounds",
              "detect_retina",
              "max_native_zoom",
              "max_zoom",
              "min_native_zoom",
              "min_zoom",
              "no_wrap",
              "tile_size",
              "tms",
              "zoom_offset"
            ],
            "pane": "",
            "popup": null,
            "popup_max_height": null,
            "popup_max_width": 300,
            "popup_min_width": 50,
            "show_loading": false,
            "subitems": [],
            "tile_size": 256,
            "tms": false,
            "url": "https://server.arcgisonline.com/ArcGIS/rest/services/World_Imagery/MapServer/tile/{z}/{y}/{x}",
            "visible": true,
            "zoom_offset": 0
          }
        },
        "b78331e55ac041688e6934ef87641a2e": {
          "model_module": "jupyter-leaflet",
          "model_name": "LeafletTileLayerModel",
          "model_module_version": "^0.18",
          "state": {
            "_model_module": "jupyter-leaflet",
            "_model_module_version": "^0.18",
            "_model_name": "LeafletTileLayerModel",
            "_view_count": null,
            "_view_module": "jupyter-leaflet",
            "_view_module_version": "^0.18",
            "_view_name": "LeafletTileLayerView",
            "attribution": "Google Earth Engine",
            "base": false,
            "bottom": true,
            "bounds": null,
            "detect_retina": false,
            "loading": false,
            "max_native_zoom": null,
            "max_zoom": 24,
            "min_native_zoom": null,
            "min_zoom": 0,
            "name": "Habitat suitability",
            "no_wrap": false,
            "opacity": 1,
            "options": [
              "attribution",
              "bounds",
              "detect_retina",
              "max_native_zoom",
              "max_zoom",
              "min_native_zoom",
              "min_zoom",
              "no_wrap",
              "tile_size",
              "tms",
              "zoom_offset"
            ],
            "pane": "",
            "popup": null,
            "popup_max_height": null,
            "popup_max_width": 300,
            "popup_min_width": 50,
            "show_loading": false,
            "subitems": [],
            "tile_size": 256,
            "tms": false,
            "url": "https://earthengine.googleapis.com/v1/projects/ee-foss4g/maps/02fdd708e5035b9f6ef88c0783d4b449-9ef9e610fd674cb0e776e46e857f760a/tiles/{z}/{x}/{y}",
            "visible": true,
            "zoom_offset": 0
          }
        },
        "787c1034c1dd49cf8f8b97ed970b459a": {
          "model_module": "jupyter-leaflet",
          "model_name": "LeafletTileLayerModel",
          "model_module_version": "^0.18",
          "state": {
            "_model_module": "jupyter-leaflet",
            "_model_module_version": "^0.18",
            "_model_name": "LeafletTileLayerModel",
            "_view_count": null,
            "_view_module": "jupyter-leaflet",
            "_view_module_version": "^0.18",
            "_view_name": "LeafletTileLayerView",
            "attribution": "Google Earth Engine",
            "base": false,
            "bottom": true,
            "bounds": null,
            "detect_retina": false,
            "loading": false,
            "max_native_zoom": null,
            "max_zoom": 24,
            "min_native_zoom": null,
            "min_zoom": 0,
            "name": "Presence",
            "no_wrap": false,
            "opacity": 1,
            "options": [
              "attribution",
              "bounds",
              "detect_retina",
              "max_native_zoom",
              "max_zoom",
              "min_native_zoom",
              "min_zoom",
              "no_wrap",
              "tile_size",
              "tms",
              "zoom_offset"
            ],
            "pane": "",
            "popup": null,
            "popup_max_height": null,
            "popup_max_width": 300,
            "popup_min_width": 50,
            "show_loading": false,
            "subitems": [],
            "tile_size": 256,
            "tms": false,
            "url": "https://earthengine.googleapis.com/v1/projects/ee-foss4g/maps/aca19b9dbfa4c299870379e4cf992dc5-17ae10345b873435dcc4f7d2114997d7/tiles/{z}/{x}/{y}",
            "visible": true,
            "zoom_offset": 0
          }
        },
        "adbcc93b2d8a44709f47851c88c1a086": {
          "model_module": "@jupyter-widgets/base",
          "model_name": "LayoutModel",
          "model_module_version": "1.2.0",
          "state": {
            "_model_module": "@jupyter-widgets/base",
            "_model_module_version": "1.2.0",
            "_model_name": "LayoutModel",
            "_view_count": null,
            "_view_module": "@jupyter-widgets/base",
            "_view_module_version": "1.2.0",
            "_view_name": "LayoutView",
            "align_content": null,
            "align_items": null,
            "align_self": null,
            "border": null,
            "bottom": null,
            "display": null,
            "flex": null,
            "flex_flow": null,
            "grid_area": null,
            "grid_auto_columns": null,
            "grid_auto_flow": null,
            "grid_auto_rows": null,
            "grid_column": null,
            "grid_gap": null,
            "grid_row": null,
            "grid_template_areas": null,
            "grid_template_columns": null,
            "grid_template_rows": null,
            "height": "400px",
            "justify_content": null,
            "justify_items": null,
            "left": null,
            "margin": null,
            "max_height": null,
            "max_width": null,
            "min_height": null,
            "min_width": null,
            "object_fit": null,
            "object_position": null,
            "order": null,
            "overflow": null,
            "overflow_x": null,
            "overflow_y": null,
            "padding": null,
            "right": null,
            "top": null,
            "visibility": null,
            "width": "800px"
          }
        },
        "c4c5f3dfaf8d4e83bdd2103aee75f0b4": {
          "model_module": "jupyter-leaflet",
          "model_name": "LeafletMapStyleModel",
          "model_module_version": "^0.18",
          "state": {
            "_model_module": "jupyter-leaflet",
            "_model_module_version": "^0.18",
            "_model_name": "LeafletMapStyleModel",
            "_view_count": null,
            "_view_module": "@jupyter-widgets/base",
            "_view_module_version": "1.2.0",
            "_view_name": "StyleView",
            "cursor": "grab"
          }
        },
        "7bac80e25f984c1e8cc6b4a1dd23b8f4": {
          "model_module": "@jupyter-widgets/controls",
          "model_name": "HBoxModel",
          "model_module_version": "1.5.0",
          "state": {
            "_dom_classes": [
              "geemap-colab"
            ],
            "_model_module": "@jupyter-widgets/controls",
            "_model_module_version": "1.5.0",
            "_model_name": "HBoxModel",
            "_view_count": null,
            "_view_module": "@jupyter-widgets/controls",
            "_view_module_version": "1.5.0",
            "_view_name": "HBoxView",
            "box_style": "",
            "children": [
              "IPY_MODEL_798006d7a5814f9d829f72df2375cd1f"
            ],
            "layout": "IPY_MODEL_85f3eba7194e4bc38d9235fc043467ca"
          }
        },
        "d89ce1391622424a91e541a714f9383c": {
          "model_module": "@jupyter-widgets/controls",
          "model_name": "VBoxModel",
          "model_module_version": "1.5.0",
          "state": {
            "_dom_classes": [
              "geemap-colab"
            ],
            "_model_module": "@jupyter-widgets/controls",
            "_model_module_version": "1.5.0",
            "_model_name": "VBoxModel",
            "_view_count": null,
            "_view_module": "@jupyter-widgets/controls",
            "_view_module_version": "1.5.0",
            "_view_name": "VBoxView",
            "box_style": "",
            "children": [
              "IPY_MODEL_859cc7c56bb14c6880c1ac78cabd76c9"
            ],
            "layout": "IPY_MODEL_f93126291ba54593976206309c7d58c5"
          }
        },
        "c8590bea47794da3a75ece669176ab16": {
          "model_module": "@jupyter-widgets/output",
          "model_name": "OutputModel",
          "model_module_version": "1.0.0",
          "state": {
            "_dom_classes": [
              "geemap-colab"
            ],
            "_model_module": "@jupyter-widgets/output",
            "_model_module_version": "1.0.0",
            "_model_name": "OutputModel",
            "_view_count": null,
            "_view_module": "@jupyter-widgets/output",
            "_view_module_version": "1.0.0",
            "_view_name": "OutputView",
            "layout": "IPY_MODEL_759830e6972a44d2b774f80257924cfb",
            "msg_id": "",
            "outputs": [
              {
                "output_type": "display_data",
                "data": {
                  "text/plain": "<Figure size 300x30 with 1 Axes>",
                  "image/png": "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\n"
                },
                "metadata": {}
              }
            ]
          }
        },
        "798006d7a5814f9d829f72df2375cd1f": {
          "model_module": "@jupyter-widgets/controls",
          "model_name": "ToggleButtonModel",
          "model_module_version": "1.5.0",
          "state": {
            "_dom_classes": [],
            "_model_module": "@jupyter-widgets/controls",
            "_model_module_version": "1.5.0",
            "_model_name": "ToggleButtonModel",
            "_view_count": null,
            "_view_module": "@jupyter-widgets/controls",
            "_view_module_version": "1.5.0",
            "_view_name": "ToggleButtonView",
            "button_style": "",
            "description": "",
            "description_tooltip": null,
            "disabled": false,
            "icon": "globe",
            "layout": "IPY_MODEL_77a32c8c62c048f1b5660f0a7c0386d5",
            "style": "IPY_MODEL_abc883b7854e41ffb548c8146543a139",
            "tooltip": "Search location/data",
            "value": false
          }
        },
        "85f3eba7194e4bc38d9235fc043467ca": {
          "model_module": "@jupyter-widgets/base",
          "model_name": "LayoutModel",
          "model_module_version": "1.2.0",
          "state": {
            "_model_module": "@jupyter-widgets/base",
            "_model_module_version": "1.2.0",
            "_model_name": "LayoutModel",
            "_view_count": null,
            "_view_module": "@jupyter-widgets/base",
            "_view_module_version": "1.2.0",
            "_view_name": "LayoutView",
            "align_content": null,
            "align_items": null,
            "align_self": null,
            "border": null,
            "bottom": null,
            "display": null,
            "flex": null,
            "flex_flow": null,
            "grid_area": null,
            "grid_auto_columns": null,
            "grid_auto_flow": null,
            "grid_auto_rows": null,
            "grid_column": null,
            "grid_gap": null,
            "grid_row": null,
            "grid_template_areas": null,
            "grid_template_columns": null,
            "grid_template_rows": null,
            "height": null,
            "justify_content": null,
            "justify_items": null,
            "left": null,
            "margin": null,
            "max_height": null,
            "max_width": null,
            "min_height": null,
            "min_width": null,
            "object_fit": null,
            "object_position": null,
            "order": null,
            "overflow": null,
            "overflow_x": null,
            "overflow_y": null,
            "padding": null,
            "right": null,
            "top": null,
            "visibility": null,
            "width": null
          }
        },
        "859cc7c56bb14c6880c1ac78cabd76c9": {
          "model_module": "@jupyter-widgets/controls",
          "model_name": "ToggleButtonModel",
          "model_module_version": "1.5.0",
          "state": {
            "_dom_classes": [],
            "_model_module": "@jupyter-widgets/controls",
            "_model_module_version": "1.5.0",
            "_model_name": "ToggleButtonModel",
            "_view_count": null,
            "_view_module": "@jupyter-widgets/controls",
            "_view_module_version": "1.5.0",
            "_view_name": "ToggleButtonView",
            "button_style": "",
            "description": "",
            "description_tooltip": null,
            "disabled": false,
            "icon": "wrench",
            "layout": "IPY_MODEL_75f5a1f4b4ad40c5ad8cf5929de33d6e",
            "style": "IPY_MODEL_95254dda27d44394aa2b03401884c100",
            "tooltip": "Toolbar",
            "value": false
          }
        },
        "f93126291ba54593976206309c7d58c5": {
          "model_module": "@jupyter-widgets/base",
          "model_name": "LayoutModel",
          "model_module_version": "1.2.0",
          "state": {
            "_model_module": "@jupyter-widgets/base",
            "_model_module_version": "1.2.0",
            "_model_name": "LayoutModel",
            "_view_count": null,
            "_view_module": "@jupyter-widgets/base",
            "_view_module_version": "1.2.0",
            "_view_name": "LayoutView",
            "align_content": null,
            "align_items": null,
            "align_self": null,
            "border": null,
            "bottom": null,
            "display": null,
            "flex": null,
            "flex_flow": null,
            "grid_area": null,
            "grid_auto_columns": null,
            "grid_auto_flow": null,
            "grid_auto_rows": null,
            "grid_column": null,
            "grid_gap": null,
            "grid_row": null,
            "grid_template_areas": null,
            "grid_template_columns": null,
            "grid_template_rows": null,
            "height": null,
            "justify_content": null,
            "justify_items": null,
            "left": null,
            "margin": null,
            "max_height": null,
            "max_width": null,
            "min_height": null,
            "min_width": null,
            "object_fit": null,
            "object_position": null,
            "order": null,
            "overflow": null,
            "overflow_x": null,
            "overflow_y": null,
            "padding": null,
            "right": null,
            "top": null,
            "visibility": null,
            "width": null
          }
        },
        "759830e6972a44d2b774f80257924cfb": {
          "model_module": "@jupyter-widgets/base",
          "model_name": "LayoutModel",
          "model_module_version": "1.2.0",
          "state": {
            "_model_module": "@jupyter-widgets/base",
            "_model_module_version": "1.2.0",
            "_model_name": "LayoutModel",
            "_view_count": null,
            "_view_module": "@jupyter-widgets/base",
            "_view_module_version": "1.2.0",
            "_view_name": "LayoutView",
            "align_content": null,
            "align_items": null,
            "align_self": null,
            "border": null,
            "bottom": null,
            "display": null,
            "flex": null,
            "flex_flow": null,
            "grid_area": null,
            "grid_auto_columns": null,
            "grid_auto_flow": null,
            "grid_auto_rows": null,
            "grid_column": null,
            "grid_gap": null,
            "grid_row": null,
            "grid_template_areas": null,
            "grid_template_columns": null,
            "grid_template_rows": null,
            "height": null,
            "justify_content": null,
            "justify_items": null,
            "left": null,
            "margin": null,
            "max_height": null,
            "max_width": null,
            "min_height": null,
            "min_width": null,
            "object_fit": null,
            "object_position": null,
            "order": null,
            "overflow": null,
            "overflow_x": null,
            "overflow_y": null,
            "padding": null,
            "right": null,
            "top": null,
            "visibility": null,
            "width": "270px"
          }
        },
        "77a32c8c62c048f1b5660f0a7c0386d5": {
          "model_module": "@jupyter-widgets/base",
          "model_name": "LayoutModel",
          "model_module_version": "1.2.0",
          "state": {
            "_model_module": "@jupyter-widgets/base",
            "_model_module_version": "1.2.0",
            "_model_name": "LayoutModel",
            "_view_count": null,
            "_view_module": "@jupyter-widgets/base",
            "_view_module_version": "1.2.0",
            "_view_name": "LayoutView",
            "align_content": null,
            "align_items": null,
            "align_self": null,
            "border": null,
            "bottom": null,
            "display": null,
            "flex": null,
            "flex_flow": null,
            "grid_area": null,
            "grid_auto_columns": null,
            "grid_auto_flow": null,
            "grid_auto_rows": null,
            "grid_column": null,
            "grid_gap": null,
            "grid_row": null,
            "grid_template_areas": null,
            "grid_template_columns": null,
            "grid_template_rows": null,
            "height": "28px",
            "justify_content": null,
            "justify_items": null,
            "left": null,
            "margin": null,
            "max_height": null,
            "max_width": null,
            "min_height": null,
            "min_width": null,
            "object_fit": null,
            "object_position": null,
            "order": null,
            "overflow": null,
            "overflow_x": null,
            "overflow_y": null,
            "padding": "0px 0px 0px 4px",
            "right": null,
            "top": null,
            "visibility": null,
            "width": "28px"
          }
        },
        "abc883b7854e41ffb548c8146543a139": {
          "model_module": "@jupyter-widgets/controls",
          "model_name": "DescriptionStyleModel",
          "model_module_version": "1.5.0",
          "state": {
            "_model_module": "@jupyter-widgets/controls",
            "_model_module_version": "1.5.0",
            "_model_name": "DescriptionStyleModel",
            "_view_count": null,
            "_view_module": "@jupyter-widgets/base",
            "_view_module_version": "1.2.0",
            "_view_name": "StyleView",
            "description_width": ""
          }
        },
        "75f5a1f4b4ad40c5ad8cf5929de33d6e": {
          "model_module": "@jupyter-widgets/base",
          "model_name": "LayoutModel",
          "model_module_version": "1.2.0",
          "state": {
            "_model_module": "@jupyter-widgets/base",
            "_model_module_version": "1.2.0",
            "_model_name": "LayoutModel",
            "_view_count": null,
            "_view_module": "@jupyter-widgets/base",
            "_view_module_version": "1.2.0",
            "_view_name": "LayoutView",
            "align_content": null,
            "align_items": null,
            "align_self": null,
            "border": null,
            "bottom": null,
            "display": null,
            "flex": null,
            "flex_flow": null,
            "grid_area": null,
            "grid_auto_columns": null,
            "grid_auto_flow": null,
            "grid_auto_rows": null,
            "grid_column": null,
            "grid_gap": null,
            "grid_row": null,
            "grid_template_areas": null,
            "grid_template_columns": null,
            "grid_template_rows": null,
            "height": "28px",
            "justify_content": null,
            "justify_items": null,
            "left": null,
            "margin": null,
            "max_height": null,
            "max_width": null,
            "min_height": null,
            "min_width": null,
            "object_fit": null,
            "object_position": null,
            "order": null,
            "overflow": null,
            "overflow_x": null,
            "overflow_y": null,
            "padding": "0px 0px 0px 4px",
            "right": null,
            "top": null,
            "visibility": null,
            "width": "28px"
          }
        },
        "95254dda27d44394aa2b03401884c100": {
          "model_module": "@jupyter-widgets/controls",
          "model_name": "DescriptionStyleModel",
          "model_module_version": "1.5.0",
          "state": {
            "_model_module": "@jupyter-widgets/controls",
            "_model_module_version": "1.5.0",
            "_model_name": "DescriptionStyleModel",
            "_view_count": null,
            "_view_module": "@jupyter-widgets/base",
            "_view_module_version": "1.2.0",
            "_view_name": "StyleView",
            "description_width": ""
          }
        },
        "18b6f713b69d47c99844313de05a9936": {
          "model_module": "jupyter-leaflet",
          "model_name": "LeafletMapModel",
          "model_module_version": "^0.18",
          "state": {
            "_dom_classes": [],
            "_model_module": "jupyter-leaflet",
            "_model_module_version": "^0.18",
            "_model_name": "LeafletMapModel",
            "_view_count": null,
            "_view_module": "jupyter-leaflet",
            "_view_module_version": "^0.18",
            "_view_name": "LeafletMapView",
            "bottom": 6661,
            "bounce_at_zoom_limits": true,
            "box_zoom": true,
            "center": [
              35.50809806587966,
              126.98920121934266
            ],
            "close_popup_on_click": true,
            "controls": [
              "IPY_MODEL_eecac3521e444f0a92bacd8065d3e3da",
              "IPY_MODEL_b51770b6c114447d8a76e3508edffed1",
              "IPY_MODEL_6a441670363d473982731852fc95b829",
              "IPY_MODEL_ff3ef55b1c7a4e6d921fe7a3c98780c2",
              "IPY_MODEL_2b497c28daa8418a8a4cf9feedaa74ea",
              "IPY_MODEL_82da0aa01ac549cfbf94ff6d8fee6276",
              "IPY_MODEL_720758452bb643e8a8cb2c18b29e8e5d",
              "IPY_MODEL_724f4f5fc384477dae984300b7a265a8",
              "IPY_MODEL_f1db9642205d43cb85a6de04ed90de11"
            ],
            "crs": {
              "name": "EPSG3857",
              "custom": false
            },
            "default_style": "IPY_MODEL_0d2dfa49e1324a12b51d9e52111faf4f",
            "double_click_zoom": true,
            "dragging": true,
            "dragging_style": "IPY_MODEL_9458fa16876845bab35be2ba5c4acd62",
            "east": 135.76904296875003,
            "fullscreen": false,
            "inertia": true,
            "inertia_deceleration": 3000,
            "inertia_max_speed": 1500,
            "interpolation": "bilinear",
            "keyboard": true,
            "keyboard_pan_offset": 80,
            "keyboard_zoom_offset": 1,
            "layers": [
              "IPY_MODEL_d7e6f25eb9564971adee17aea6414eb7",
              "IPY_MODEL_df001e9fb82b4cd7b4585f9dd0381eb9",
              "IPY_MODEL_f4e74090bf7944c68701bb9b46197c0b"
            ],
            "layout": "IPY_MODEL_e5f18284a8fe4f21bfb6acc55d90a037",
            "left": 13571,
            "max_zoom": 24,
            "min_zoom": null,
            "modisdate": "2024-05-25",
            "north": 39.01064750994083,
            "options": [
              "bounce_at_zoom_limits",
              "box_zoom",
              "center",
              "close_popup_on_click",
              "double_click_zoom",
              "dragging",
              "fullscreen",
              "inertia",
              "inertia_deceleration",
              "inertia_max_speed",
              "interpolation",
              "keyboard",
              "keyboard_pan_offset",
              "keyboard_zoom_offset",
              "max_zoom",
              "min_zoom",
              "prefer_canvas",
              "scroll_wheel_zoom",
              "tap",
              "tap_tolerance",
              "touch_zoom",
              "world_copy_jump",
              "zoom",
              "zoom_animation_threshold",
              "zoom_delta",
              "zoom_snap"
            ],
            "panes": {},
            "prefer_canvas": false,
            "right": 14371,
            "scroll_wheel_zoom": true,
            "south": 31.85889704445453,
            "style": "IPY_MODEL_3eadceb4ce9d4896a4500b2d9f321683",
            "tap": true,
            "tap_tolerance": 15,
            "top": 6261,
            "touch_zoom": true,
            "west": 118.19091796875,
            "window_url": "https://ioysqj54nq-496ff2e9c6d22116-0-colab.googleusercontent.com/outputframe.html?vrz=colab_20240523-060110_RC00_636443439",
            "world_copy_jump": false,
            "zoom": 6,
            "zoom_animation_threshold": 4,
            "zoom_delta": 1,
            "zoom_snap": 1
          }
        },
        "eecac3521e444f0a92bacd8065d3e3da": {
          "model_module": "jupyter-leaflet",
          "model_name": "LeafletWidgetControlModel",
          "model_module_version": "^0.18",
          "state": {
            "_model_module": "jupyter-leaflet",
            "_model_module_version": "^0.18",
            "_model_name": "LeafletWidgetControlModel",
            "_view_count": null,
            "_view_module": "jupyter-leaflet",
            "_view_module_version": "^0.18",
            "_view_name": "LeafletWidgetControlView",
            "max_height": null,
            "max_width": null,
            "min_height": null,
            "min_width": null,
            "options": [
              "position",
              "transparent_bg"
            ],
            "position": "topleft",
            "transparent_bg": false,
            "widget": "IPY_MODEL_66dc049e46354d9eb0171e006d8c3bdc"
          }
        },
        "b51770b6c114447d8a76e3508edffed1": {
          "model_module": "jupyter-leaflet",
          "model_name": "LeafletZoomControlModel",
          "model_module_version": "^0.18",
          "state": {
            "_model_module": "jupyter-leaflet",
            "_model_module_version": "^0.18",
            "_model_name": "LeafletZoomControlModel",
            "_view_count": null,
            "_view_module": "jupyter-leaflet",
            "_view_module_version": "^0.18",
            "_view_name": "LeafletZoomControlView",
            "options": [
              "position",
              "zoom_in_text",
              "zoom_in_title",
              "zoom_out_text",
              "zoom_out_title"
            ],
            "position": "topleft",
            "zoom_in_text": "+",
            "zoom_in_title": "Zoom in",
            "zoom_out_text": "-",
            "zoom_out_title": "Zoom out"
          }
        },
        "6a441670363d473982731852fc95b829": {
          "model_module": "jupyter-leaflet",
          "model_name": "LeafletFullScreenControlModel",
          "model_module_version": "^0.18",
          "state": {
            "_model_module": "jupyter-leaflet",
            "_model_module_version": "^0.18",
            "_model_name": "LeafletFullScreenControlModel",
            "_view_count": null,
            "_view_module": "jupyter-leaflet",
            "_view_module_version": "^0.18",
            "_view_name": "LeafletFullScreenControlView",
            "options": [
              "position"
            ],
            "position": "topleft"
          }
        },
        "ff3ef55b1c7a4e6d921fe7a3c98780c2": {
          "model_module": "jupyter-leaflet",
          "model_name": "LeafletDrawControlModel",
          "model_module_version": "^0.18",
          "state": {
            "_model_module": "jupyter-leaflet",
            "_model_module_version": "^0.18",
            "_model_name": "LeafletDrawControlModel",
            "_view_count": null,
            "_view_module": "jupyter-leaflet",
            "_view_module_version": "^0.18",
            "_view_name": "LeafletDrawControlView",
            "circle": {},
            "circlemarker": {},
            "data": [],
            "edit": true,
            "marker": {
              "shapeOptions": {
                "color": "#3388ff"
              }
            },
            "options": [
              "position"
            ],
            "polygon": {
              "shapeOptions": {}
            },
            "polyline": {
              "shapeOptions": {}
            },
            "position": "topleft",
            "rectangle": {
              "shapeOptions": {
                "color": "#3388ff"
              }
            },
            "remove": true
          }
        },
        "2b497c28daa8418a8a4cf9feedaa74ea": {
          "model_module": "jupyter-leaflet",
          "model_name": "LeafletScaleControlModel",
          "model_module_version": "^0.18",
          "state": {
            "_model_module": "jupyter-leaflet",
            "_model_module_version": "^0.18",
            "_model_name": "LeafletScaleControlModel",
            "_view_count": null,
            "_view_module": "jupyter-leaflet",
            "_view_module_version": "^0.18",
            "_view_name": "LeafletScaleControlView",
            "imperial": true,
            "max_width": 100,
            "metric": true,
            "options": [
              "imperial",
              "max_width",
              "metric",
              "position",
              "update_when_idle"
            ],
            "position": "bottomleft",
            "update_when_idle": false
          }
        },
        "82da0aa01ac549cfbf94ff6d8fee6276": {
          "model_module": "jupyter-leaflet",
          "model_name": "LeafletMeasureControlModel",
          "model_module_version": "^0.18",
          "state": {
            "_custom_units": {},
            "_model_module": "jupyter-leaflet",
            "_model_module_version": "^0.18",
            "_model_name": "LeafletMeasureControlModel",
            "_view_count": null,
            "_view_module": "jupyter-leaflet",
            "_view_module_version": "^0.18",
            "_view_name": "LeafletMeasureControlView",
            "active_color": "orange",
            "capture_z_index": 10000,
            "completed_color": "#C8F2BE",
            "options": [
              "active_color",
              "capture_z_index",
              "completed_color",
              "popup_options",
              "position",
              "primary_area_unit",
              "primary_length_unit",
              "secondary_area_unit",
              "secondary_length_unit"
            ],
            "popup_options": {
              "className": "leaflet-measure-resultpopup",
              "autoPanPadding": [
                10,
                10
              ]
            },
            "position": "bottomleft",
            "primary_area_unit": "acres",
            "primary_length_unit": "kilometers",
            "secondary_area_unit": null,
            "secondary_length_unit": null
          }
        },
        "720758452bb643e8a8cb2c18b29e8e5d": {
          "model_module": "jupyter-leaflet",
          "model_name": "LeafletWidgetControlModel",
          "model_module_version": "^0.18",
          "state": {
            "_model_module": "jupyter-leaflet",
            "_model_module_version": "^0.18",
            "_model_name": "LeafletWidgetControlModel",
            "_view_count": null,
            "_view_module": "jupyter-leaflet",
            "_view_module_version": "^0.18",
            "_view_name": "LeafletWidgetControlView",
            "max_height": null,
            "max_width": null,
            "min_height": null,
            "min_width": null,
            "options": [
              "position",
              "transparent_bg"
            ],
            "position": "topright",
            "transparent_bg": false,
            "widget": "IPY_MODEL_d85b227877a74141be61978ec0ba19ea"
          }
        },
        "724f4f5fc384477dae984300b7a265a8": {
          "model_module": "jupyter-leaflet",
          "model_name": "LeafletAttributionControlModel",
          "model_module_version": "^0.18",
          "state": {
            "_model_module": "jupyter-leaflet",
            "_model_module_version": "^0.18",
            "_model_name": "LeafletAttributionControlModel",
            "_view_count": null,
            "_view_module": "jupyter-leaflet",
            "_view_module_version": "^0.18",
            "_view_name": "LeafletAttributionControlView",
            "options": [
              "position",
              "prefix"
            ],
            "position": "bottomright",
            "prefix": "ipyleaflet"
          }
        },
        "f1db9642205d43cb85a6de04ed90de11": {
          "model_module": "jupyter-leaflet",
          "model_name": "LeafletWidgetControlModel",
          "model_module_version": "^0.18",
          "state": {
            "_model_module": "jupyter-leaflet",
            "_model_module_version": "^0.18",
            "_model_name": "LeafletWidgetControlModel",
            "_view_count": null,
            "_view_module": "jupyter-leaflet",
            "_view_module_version": "^0.18",
            "_view_name": "LeafletWidgetControlView",
            "max_height": null,
            "max_width": null,
            "min_height": null,
            "min_width": null,
            "options": [
              "position",
              "transparent_bg"
            ],
            "position": "bottomright",
            "transparent_bg": false,
            "widget": "IPY_MODEL_2f2d578f72f04baba41b3614cebdaedb"
          }
        },
        "0d2dfa49e1324a12b51d9e52111faf4f": {
          "model_module": "jupyter-leaflet",
          "model_name": "LeafletMapStyleModel",
          "model_module_version": "^0.18",
          "state": {
            "_model_module": "jupyter-leaflet",
            "_model_module_version": "^0.18",
            "_model_name": "LeafletMapStyleModel",
            "_view_count": null,
            "_view_module": "@jupyter-widgets/base",
            "_view_module_version": "1.2.0",
            "_view_name": "StyleView",
            "cursor": "grab"
          }
        },
        "9458fa16876845bab35be2ba5c4acd62": {
          "model_module": "jupyter-leaflet",
          "model_name": "LeafletMapStyleModel",
          "model_module_version": "^0.18",
          "state": {
            "_model_module": "jupyter-leaflet",
            "_model_module_version": "^0.18",
            "_model_name": "LeafletMapStyleModel",
            "_view_count": null,
            "_view_module": "@jupyter-widgets/base",
            "_view_module_version": "1.2.0",
            "_view_name": "StyleView",
            "cursor": "move"
          }
        },
        "d7e6f25eb9564971adee17aea6414eb7": {
          "model_module": "jupyter-leaflet",
          "model_name": "LeafletTileLayerModel",
          "model_module_version": "^0.18",
          "state": {
            "_model_module": "jupyter-leaflet",
            "_model_module_version": "^0.18",
            "_model_name": "LeafletTileLayerModel",
            "_view_count": null,
            "_view_module": "jupyter-leaflet",
            "_view_module_version": "^0.18",
            "_view_name": "LeafletTileLayerView",
            "attribution": "Esri",
            "base": true,
            "bottom": true,
            "bounds": null,
            "detect_retina": false,
            "loading": false,
            "max_native_zoom": null,
            "max_zoom": 24,
            "min_native_zoom": null,
            "min_zoom": 0,
            "name": "Esri.WorldImagery",
            "no_wrap": false,
            "opacity": 1,
            "options": [
              "attribution",
              "bounds",
              "detect_retina",
              "max_native_zoom",
              "max_zoom",
              "min_native_zoom",
              "min_zoom",
              "no_wrap",
              "tile_size",
              "tms",
              "zoom_offset"
            ],
            "pane": "",
            "popup": null,
            "popup_max_height": null,
            "popup_max_width": 300,
            "popup_min_width": 50,
            "show_loading": false,
            "subitems": [],
            "tile_size": 256,
            "tms": false,
            "url": "https://server.arcgisonline.com/ArcGIS/rest/services/World_Imagery/MapServer/tile/{z}/{y}/{x}",
            "visible": true,
            "zoom_offset": 0
          }
        },
        "df001e9fb82b4cd7b4585f9dd0381eb9": {
          "model_module": "jupyter-leaflet",
          "model_name": "LeafletTileLayerModel",
          "model_module_version": "^0.18",
          "state": {
            "_model_module": "jupyter-leaflet",
            "_model_module_version": "^0.18",
            "_model_name": "LeafletTileLayerModel",
            "_view_count": null,
            "_view_module": "jupyter-leaflet",
            "_view_module_version": "^0.18",
            "_view_name": "LeafletTileLayerView",
            "attribution": "Google Earth Engine",
            "base": false,
            "bottom": true,
            "bounds": null,
            "detect_retina": false,
            "loading": false,
            "max_native_zoom": null,
            "max_zoom": 24,
            "min_native_zoom": null,
            "min_zoom": 0,
            "name": "Potential distribution",
            "no_wrap": false,
            "opacity": 1,
            "options": [
              "attribution",
              "bounds",
              "detect_retina",
              "max_native_zoom",
              "max_zoom",
              "min_native_zoom",
              "min_zoom",
              "no_wrap",
              "tile_size",
              "tms",
              "zoom_offset"
            ],
            "pane": "",
            "popup": null,
            "popup_max_height": null,
            "popup_max_width": 300,
            "popup_min_width": 50,
            "show_loading": false,
            "subitems": [],
            "tile_size": 256,
            "tms": false,
            "url": "https://earthengine.googleapis.com/v1/projects/ee-foss4g/maps/bebae501b0b253c796c21340d70491e3-545ee1fe6b289a4b413a594de1af40eb/tiles/{z}/{x}/{y}",
            "visible": true,
            "zoom_offset": 0
          }
        },
        "f4e74090bf7944c68701bb9b46197c0b": {
          "model_module": "jupyter-leaflet",
          "model_name": "LeafletTileLayerModel",
          "model_module_version": "^0.18",
          "state": {
            "_model_module": "jupyter-leaflet",
            "_model_module_version": "^0.18",
            "_model_name": "LeafletTileLayerModel",
            "_view_count": null,
            "_view_module": "jupyter-leaflet",
            "_view_module_version": "^0.18",
            "_view_name": "LeafletTileLayerView",
            "attribution": "Google Earth Engine",
            "base": false,
            "bottom": true,
            "bounds": null,
            "detect_retina": false,
            "loading": false,
            "max_native_zoom": null,
            "max_zoom": 24,
            "min_native_zoom": null,
            "min_zoom": 0,
            "name": "Presence",
            "no_wrap": false,
            "opacity": 1,
            "options": [
              "attribution",
              "bounds",
              "detect_retina",
              "max_native_zoom",
              "max_zoom",
              "min_native_zoom",
              "min_zoom",
              "no_wrap",
              "tile_size",
              "tms",
              "zoom_offset"
            ],
            "pane": "",
            "popup": null,
            "popup_max_height": null,
            "popup_max_width": 300,
            "popup_min_width": 50,
            "show_loading": false,
            "subitems": [],
            "tile_size": 256,
            "tms": false,
            "url": "https://earthengine.googleapis.com/v1/projects/ee-foss4g/maps/aca19b9dbfa4c299870379e4cf992dc5-8d10d153265eeabd53490a31cb7cba39/tiles/{z}/{x}/{y}",
            "visible": true,
            "zoom_offset": 0
          }
        },
        "e5f18284a8fe4f21bfb6acc55d90a037": {
          "model_module": "@jupyter-widgets/base",
          "model_name": "LayoutModel",
          "model_module_version": "1.2.0",
          "state": {
            "_model_module": "@jupyter-widgets/base",
            "_model_module_version": "1.2.0",
            "_model_name": "LayoutModel",
            "_view_count": null,
            "_view_module": "@jupyter-widgets/base",
            "_view_module_version": "1.2.0",
            "_view_name": "LayoutView",
            "align_content": null,
            "align_items": null,
            "align_self": null,
            "border": null,
            "bottom": null,
            "display": null,
            "flex": null,
            "flex_flow": null,
            "grid_area": null,
            "grid_auto_columns": null,
            "grid_auto_flow": null,
            "grid_auto_rows": null,
            "grid_column": null,
            "grid_gap": null,
            "grid_row": null,
            "grid_template_areas": null,
            "grid_template_columns": null,
            "grid_template_rows": null,
            "height": "400px",
            "justify_content": null,
            "justify_items": null,
            "left": null,
            "margin": null,
            "max_height": null,
            "max_width": null,
            "min_height": null,
            "min_width": null,
            "object_fit": null,
            "object_position": null,
            "order": null,
            "overflow": null,
            "overflow_x": null,
            "overflow_y": null,
            "padding": null,
            "right": null,
            "top": null,
            "visibility": null,
            "width": "800px"
          }
        },
        "3eadceb4ce9d4896a4500b2d9f321683": {
          "model_module": "jupyter-leaflet",
          "model_name": "LeafletMapStyleModel",
          "model_module_version": "^0.18",
          "state": {
            "_model_module": "jupyter-leaflet",
            "_model_module_version": "^0.18",
            "_model_name": "LeafletMapStyleModel",
            "_view_count": null,
            "_view_module": "@jupyter-widgets/base",
            "_view_module_version": "1.2.0",
            "_view_name": "StyleView",
            "cursor": "grab"
          }
        },
        "66dc049e46354d9eb0171e006d8c3bdc": {
          "model_module": "@jupyter-widgets/controls",
          "model_name": "HBoxModel",
          "model_module_version": "1.5.0",
          "state": {
            "_dom_classes": [
              "geemap-colab"
            ],
            "_model_module": "@jupyter-widgets/controls",
            "_model_module_version": "1.5.0",
            "_model_name": "HBoxModel",
            "_view_count": null,
            "_view_module": "@jupyter-widgets/controls",
            "_view_module_version": "1.5.0",
            "_view_name": "HBoxView",
            "box_style": "",
            "children": [
              "IPY_MODEL_3b554e29481946a68743d0c19336a6d9"
            ],
            "layout": "IPY_MODEL_25bcfc582ee64040b49f797bf62b4053"
          }
        },
        "d85b227877a74141be61978ec0ba19ea": {
          "model_module": "@jupyter-widgets/controls",
          "model_name": "VBoxModel",
          "model_module_version": "1.5.0",
          "state": {
            "_dom_classes": [
              "geemap-colab"
            ],
            "_model_module": "@jupyter-widgets/controls",
            "_model_module_version": "1.5.0",
            "_model_name": "VBoxModel",
            "_view_count": null,
            "_view_module": "@jupyter-widgets/controls",
            "_view_module_version": "1.5.0",
            "_view_name": "VBoxView",
            "box_style": "",
            "children": [
              "IPY_MODEL_d8dd9415ffb942e3aa3aa8aad88574be"
            ],
            "layout": "IPY_MODEL_d4930b8584854b1ca56ccd37ebcf4536"
          }
        },
        "2f2d578f72f04baba41b3614cebdaedb": {
          "model_module": "@jupyter-widgets/output",
          "model_name": "OutputModel",
          "model_module_version": "1.0.0",
          "state": {
            "_dom_classes": [
              "geemap-colab"
            ],
            "_model_module": "@jupyter-widgets/output",
            "_model_module_version": "1.0.0",
            "_model_name": "OutputModel",
            "_view_count": null,
            "_view_module": "@jupyter-widgets/output",
            "_view_module_version": "1.0.0",
            "_view_name": "OutputView",
            "layout": "IPY_MODEL_0c63893689a044d28355bf80b1a3b767",
            "msg_id": "",
            "outputs": [
              {
                "output_type": "display_data",
                "data": {
                  "text/plain": "<Figure size 300x30 with 1 Axes>",
                  "image/png": "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\n"
                },
                "metadata": {}
              }
            ]
          }
        },
        "3b554e29481946a68743d0c19336a6d9": {
          "model_module": "@jupyter-widgets/controls",
          "model_name": "ToggleButtonModel",
          "model_module_version": "1.5.0",
          "state": {
            "_dom_classes": [],
            "_model_module": "@jupyter-widgets/controls",
            "_model_module_version": "1.5.0",
            "_model_name": "ToggleButtonModel",
            "_view_count": null,
            "_view_module": "@jupyter-widgets/controls",
            "_view_module_version": "1.5.0",
            "_view_name": "ToggleButtonView",
            "button_style": "",
            "description": "",
            "description_tooltip": null,
            "disabled": false,
            "icon": "globe",
            "layout": "IPY_MODEL_c6f736bca9eb431ba51b6d6067edbf88",
            "style": "IPY_MODEL_ba36577eeda34c0bb6cf249de9e19ad6",
            "tooltip": "Search location/data",
            "value": false
          }
        },
        "25bcfc582ee64040b49f797bf62b4053": {
          "model_module": "@jupyter-widgets/base",
          "model_name": "LayoutModel",
          "model_module_version": "1.2.0",
          "state": {
            "_model_module": "@jupyter-widgets/base",
            "_model_module_version": "1.2.0",
            "_model_name": "LayoutModel",
            "_view_count": null,
            "_view_module": "@jupyter-widgets/base",
            "_view_module_version": "1.2.0",
            "_view_name": "LayoutView",
            "align_content": null,
            "align_items": null,
            "align_self": null,
            "border": null,
            "bottom": null,
            "display": null,
            "flex": null,
            "flex_flow": null,
            "grid_area": null,
            "grid_auto_columns": null,
            "grid_auto_flow": null,
            "grid_auto_rows": null,
            "grid_column": null,
            "grid_gap": null,
            "grid_row": null,
            "grid_template_areas": null,
            "grid_template_columns": null,
            "grid_template_rows": null,
            "height": null,
            "justify_content": null,
            "justify_items": null,
            "left": null,
            "margin": null,
            "max_height": null,
            "max_width": null,
            "min_height": null,
            "min_width": null,
            "object_fit": null,
            "object_position": null,
            "order": null,
            "overflow": null,
            "overflow_x": null,
            "overflow_y": null,
            "padding": null,
            "right": null,
            "top": null,
            "visibility": null,
            "width": null
          }
        },
        "d8dd9415ffb942e3aa3aa8aad88574be": {
          "model_module": "@jupyter-widgets/controls",
          "model_name": "ToggleButtonModel",
          "model_module_version": "1.5.0",
          "state": {
            "_dom_classes": [],
            "_model_module": "@jupyter-widgets/controls",
            "_model_module_version": "1.5.0",
            "_model_name": "ToggleButtonModel",
            "_view_count": null,
            "_view_module": "@jupyter-widgets/controls",
            "_view_module_version": "1.5.0",
            "_view_name": "ToggleButtonView",
            "button_style": "",
            "description": "",
            "description_tooltip": null,
            "disabled": false,
            "icon": "wrench",
            "layout": "IPY_MODEL_851d6041b0004448b30d400e9ea3d4d9",
            "style": "IPY_MODEL_3c490fad6f8d461a8d0bcfa29fc5a09b",
            "tooltip": "Toolbar",
            "value": false
          }
        },
        "d4930b8584854b1ca56ccd37ebcf4536": {
          "model_module": "@jupyter-widgets/base",
          "model_name": "LayoutModel",
          "model_module_version": "1.2.0",
          "state": {
            "_model_module": "@jupyter-widgets/base",
            "_model_module_version": "1.2.0",
            "_model_name": "LayoutModel",
            "_view_count": null,
            "_view_module": "@jupyter-widgets/base",
            "_view_module_version": "1.2.0",
            "_view_name": "LayoutView",
            "align_content": null,
            "align_items": null,
            "align_self": null,
            "border": null,
            "bottom": null,
            "display": null,
            "flex": null,
            "flex_flow": null,
            "grid_area": null,
            "grid_auto_columns": null,
            "grid_auto_flow": null,
            "grid_auto_rows": null,
            "grid_column": null,
            "grid_gap": null,
            "grid_row": null,
            "grid_template_areas": null,
            "grid_template_columns": null,
            "grid_template_rows": null,
            "height": null,
            "justify_content": null,
            "justify_items": null,
            "left": null,
            "margin": null,
            "max_height": null,
            "max_width": null,
            "min_height": null,
            "min_width": null,
            "object_fit": null,
            "object_position": null,
            "order": null,
            "overflow": null,
            "overflow_x": null,
            "overflow_y": null,
            "padding": null,
            "right": null,
            "top": null,
            "visibility": null,
            "width": null
          }
        },
        "0c63893689a044d28355bf80b1a3b767": {
          "model_module": "@jupyter-widgets/base",
          "model_name": "LayoutModel",
          "model_module_version": "1.2.0",
          "state": {
            "_model_module": "@jupyter-widgets/base",
            "_model_module_version": "1.2.0",
            "_model_name": "LayoutModel",
            "_view_count": null,
            "_view_module": "@jupyter-widgets/base",
            "_view_module_version": "1.2.0",
            "_view_name": "LayoutView",
            "align_content": null,
            "align_items": null,
            "align_self": null,
            "border": null,
            "bottom": null,
            "display": null,
            "flex": null,
            "flex_flow": null,
            "grid_area": null,
            "grid_auto_columns": null,
            "grid_auto_flow": null,
            "grid_auto_rows": null,
            "grid_column": null,
            "grid_gap": null,
            "grid_row": null,
            "grid_template_areas": null,
            "grid_template_columns": null,
            "grid_template_rows": null,
            "height": null,
            "justify_content": null,
            "justify_items": null,
            "left": null,
            "margin": null,
            "max_height": null,
            "max_width": null,
            "min_height": null,
            "min_width": null,
            "object_fit": null,
            "object_position": null,
            "order": null,
            "overflow": null,
            "overflow_x": null,
            "overflow_y": null,
            "padding": null,
            "right": null,
            "top": null,
            "visibility": null,
            "width": "270px"
          }
        },
        "c6f736bca9eb431ba51b6d6067edbf88": {
          "model_module": "@jupyter-widgets/base",
          "model_name": "LayoutModel",
          "model_module_version": "1.2.0",
          "state": {
            "_model_module": "@jupyter-widgets/base",
            "_model_module_version": "1.2.0",
            "_model_name": "LayoutModel",
            "_view_count": null,
            "_view_module": "@jupyter-widgets/base",
            "_view_module_version": "1.2.0",
            "_view_name": "LayoutView",
            "align_content": null,
            "align_items": null,
            "align_self": null,
            "border": null,
            "bottom": null,
            "display": null,
            "flex": null,
            "flex_flow": null,
            "grid_area": null,
            "grid_auto_columns": null,
            "grid_auto_flow": null,
            "grid_auto_rows": null,
            "grid_column": null,
            "grid_gap": null,
            "grid_row": null,
            "grid_template_areas": null,
            "grid_template_columns": null,
            "grid_template_rows": null,
            "height": "28px",
            "justify_content": null,
            "justify_items": null,
            "left": null,
            "margin": null,
            "max_height": null,
            "max_width": null,
            "min_height": null,
            "min_width": null,
            "object_fit": null,
            "object_position": null,
            "order": null,
            "overflow": null,
            "overflow_x": null,
            "overflow_y": null,
            "padding": "0px 0px 0px 4px",
            "right": null,
            "top": null,
            "visibility": null,
            "width": "28px"
          }
        },
        "ba36577eeda34c0bb6cf249de9e19ad6": {
          "model_module": "@jupyter-widgets/controls",
          "model_name": "DescriptionStyleModel",
          "model_module_version": "1.5.0",
          "state": {
            "_model_module": "@jupyter-widgets/controls",
            "_model_module_version": "1.5.0",
            "_model_name": "DescriptionStyleModel",
            "_view_count": null,
            "_view_module": "@jupyter-widgets/base",
            "_view_module_version": "1.2.0",
            "_view_name": "StyleView",
            "description_width": ""
          }
        },
        "851d6041b0004448b30d400e9ea3d4d9": {
          "model_module": "@jupyter-widgets/base",
          "model_name": "LayoutModel",
          "model_module_version": "1.2.0",
          "state": {
            "_model_module": "@jupyter-widgets/base",
            "_model_module_version": "1.2.0",
            "_model_name": "LayoutModel",
            "_view_count": null,
            "_view_module": "@jupyter-widgets/base",
            "_view_module_version": "1.2.0",
            "_view_name": "LayoutView",
            "align_content": null,
            "align_items": null,
            "align_self": null,
            "border": null,
            "bottom": null,
            "display": null,
            "flex": null,
            "flex_flow": null,
            "grid_area": null,
            "grid_auto_columns": null,
            "grid_auto_flow": null,
            "grid_auto_rows": null,
            "grid_column": null,
            "grid_gap": null,
            "grid_row": null,
            "grid_template_areas": null,
            "grid_template_columns": null,
            "grid_template_rows": null,
            "height": "28px",
            "justify_content": null,
            "justify_items": null,
            "left": null,
            "margin": null,
            "max_height": null,
            "max_width": null,
            "min_height": null,
            "min_width": null,
            "object_fit": null,
            "object_position": null,
            "order": null,
            "overflow": null,
            "overflow_x": null,
            "overflow_y": null,
            "padding": "0px 0px 0px 4px",
            "right": null,
            "top": null,
            "visibility": null,
            "width": "28px"
          }
        },
        "3c490fad6f8d461a8d0bcfa29fc5a09b": {
          "model_module": "@jupyter-widgets/controls",
          "model_name": "DescriptionStyleModel",
          "model_module_version": "1.5.0",
          "state": {
            "_model_module": "@jupyter-widgets/controls",
            "_model_module_version": "1.5.0",
            "_model_name": "DescriptionStyleModel",
            "_view_count": null,
            "_view_module": "@jupyter-widgets/base",
            "_view_module_version": "1.2.0",
            "_view_name": "StyleView",
            "description_width": ""
          }
        }
      }
    }
  },
  "nbformat": 4,
  "nbformat_minor": 0
}