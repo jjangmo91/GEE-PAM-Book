{
  "cells": [
    {
      "cell_type": "markdown",
      "metadata": {
        "id": "view-in-github",
        "colab_type": "text"
      },
      "source": [
        "<a href=\"https://colab.research.google.com/github/osgeokr/GEE-PAM-Book/blob/main/Chapter1_Introduction_to_GEE_and_First_Interactive_Map.ipynb\" target=\"_parent\"><img src=\"https://colab.research.google.com/assets/colab-badge.svg\" alt=\"Open In Colab\"/></a>"
      ]
    },
    {
      "cell_type": "markdown",
      "id": "ee622536-a80f-420f-ab8c-86c5ab5f89e8",
      "metadata": {
        "id": "ee622536-a80f-420f-ab8c-86c5ab5f89e8"
      },
      "source": [
        "# 1장. Google Earth Engine 소개 및 첫 인터랙티브 맵 제작"
      ]
    },
    {
      "cell_type": "markdown",
      "id": "149a3fdc-0650-4241-89d7-b3303ce996bd",
      "metadata": {
        "id": "149a3fdc-0650-4241-89d7-b3303ce996bd"
      },
      "source": [
        "## 1.1. Google Earth Engine 소개"
      ]
    },
    {
      "cell_type": "markdown",
      "id": "35acc316-28de-4c5b-86da-b0383d0c1e2b",
      "metadata": {
        "id": "35acc316-28de-4c5b-86da-b0383d0c1e2b"
      },
      "source": [
        "###  1.1.1. Google Earth Engine 개요"
      ]
    },
    {
      "cell_type": "markdown",
      "id": "066399bd-4fda-49e1-a69e-0a3c772ccdc4",
      "metadata": {
        "id": "066399bd-4fda-49e1-a69e-0a3c772ccdc4"
      },
      "source": [
        " ### 1.1.2. 사전 설치 필요 소프트웨어"
      ]
    },
    {
      "cell_type": "code",
      "execution_count": null,
      "id": "49fa81f9-75e7-4973-a952-5bdeacafee8e",
      "metadata": {
        "id": "49fa81f9-75e7-4973-a952-5bdeacafee8e"
      },
      "outputs": [],
      "source": [
        "# %pip install -U geemap"
      ]
    },
    {
      "cell_type": "markdown",
      "id": "404eeae6-326c-4135-b786-0adea1c0c73f",
      "metadata": {
        "id": "404eeae6-326c-4135-b786-0adea1c0c73f"
      },
      "source": [
        "## 1.2. 첫 인터랙티브 맵 제작"
      ]
    },
    {
      "cell_type": "markdown",
      "id": "bdc090c1-153e-44c9-b7f3-70608ed009c8",
      "metadata": {
        "id": "bdc090c1-153e-44c9-b7f3-70608ed009c8"
      },
      "source": [
        "### 1.2.1. Earth Engine 인증"
      ]
    },
    {
      "cell_type": "code",
      "execution_count": null,
      "id": "bb7eb04b-c8f5-4017-a9ed-1c392798af41",
      "metadata": {
        "id": "bb7eb04b-c8f5-4017-a9ed-1c392798af41",
        "outputId": "46fe89f7-7f7e-41ad-97a8-e177236d3aea"
      },
      "outputs": [
        {
          "data": {
            "text/html": [
              "<p>To authorize access needed by Earth Engine, open the following\n",
              "        URL in a web browser and follow the instructions:</p>\n",
              "        <p><a href=https://code.earthengine.google.com/client-auth?scopes=https%3A//www.googleapis.com/auth/earthengine%20https%3A//www.googleapis.com/auth/devstorage.full_control&request_id=eWuGXVWpgHmabWTB2RrLTrJ6q1E2lhwA6L5_GzO9-Q8&tc=kwsy_rDa2-t8I-VE96LqG7LgatYuPVhOf3O7UYJISbk&cc=UtJ70wVLYzygI2AJJdzxGRjO_WUjuFlp89c42y3ruso>https://code.earthengine.google.com/client-auth?scopes=https%3A//www.googleapis.com/auth/earthengine%20https%3A//www.googleapis.com/auth/devstorage.full_control&request_id=eWuGXVWpgHmabWTB2RrLTrJ6q1E2lhwA6L5_GzO9-Q8&tc=kwsy_rDa2-t8I-VE96LqG7LgatYuPVhOf3O7UYJISbk&cc=UtJ70wVLYzygI2AJJdzxGRjO_WUjuFlp89c42y3ruso</a></p>\n",
              "        <p>The authorization workflow will generate a code, which you should paste in the box below.</p>\n",
              "        "
            ],
            "text/plain": [
              "<IPython.core.display.HTML object>"
            ]
          },
          "metadata": {},
          "output_type": "display_data"
        },
        {
          "name": "stdin",
          "output_type": "stream",
          "text": [
            "Enter verification code:  4/1AfJohXmgT-yR0RpbhvDvvw0Vw6ERrlOPmqNZaIqsUxAHVCl0TaxoQI1Lr4M\n"
          ]
        },
        {
          "name": "stdout",
          "output_type": "stream",
          "text": [
            "\n",
            "Successfully saved authorization token.\n"
          ]
        }
      ],
      "source": [
        "# Earth Engine Python API 모듈 호출\n",
        "import ee\n",
        "\n",
        "# Earth Engine 인증\n",
        "ee.Authenticate()"
      ]
    },
    {
      "cell_type": "code",
      "execution_count": null,
      "id": "d8230507-4653-4812-88b7-f524137f2777",
      "metadata": {
        "id": "d8230507-4653-4812-88b7-f524137f2777"
      },
      "outputs": [],
      "source": [
        "# Earth Engine 초기화\n",
        "ee.Initialize(project='ee-foss4g')"
      ]
    },
    {
      "cell_type": "markdown",
      "id": "d9409812-1988-40f9-9c87-fa89197ed1cc",
      "metadata": {
        "id": "d9409812-1988-40f9-9c87-fa89197ed1cc"
      },
      "source": [
        "인증 성공시 발급되는 \"Earth Engine 토큰(token)\"은 운영체제에 따라 아래 파일 경로에서 확인하실 수 있습니다.\n",
        "\n",
        "- Windows: C:\\Users\\USERNAME\\.config\\earthengine\\credentials\n",
        "- Linux: /home/USERNAME/.config/earthengine/credentials\n",
        "- MacOS: /Users/USERNAME/.config/earthengine/credentials"
      ]
    },
    {
      "cell_type": "markdown",
      "id": "16937717-a63d-42d7-88e4-7bd0f81e2a60",
      "metadata": {
        "id": "16937717-a63d-42d7-88e4-7bd0f81e2a60"
      },
      "source": [
        "### 1.2.2. 지도 띄우기 및 조작"
      ]
    },
    {
      "cell_type": "code",
      "execution_count": null,
      "id": "f22910cb-f6bd-4ebe-869d-2a70c631aacf",
      "metadata": {
        "id": "f22910cb-f6bd-4ebe-869d-2a70c631aacf",
        "outputId": "9629f793-6611-459f-cd0c-e2bfc0a250e8",
        "colab": {
          "referenced_widgets": [
            "d40bfc2a32914090a067b475dceb5091"
          ]
        }
      },
      "outputs": [
        {
          "data": {
            "application/vnd.jupyter.widget-view+json": {
              "model_id": "d40bfc2a32914090a067b475dceb5091",
              "version_major": 2,
              "version_minor": 0
            },
            "text/plain": [
              "Map(center=[0, 0], controls=(WidgetControl(options=['position', 'transparent_bg'], widget=SearchDataGUI(childr…"
            ]
          },
          "execution_count": 2,
          "metadata": {},
          "output_type": "execute_result"
        }
      ],
      "source": [
        "import geemap\n",
        "\n",
        "# 지도 객체 생성\n",
        "Map = geemap.Map()\n",
        "Map"
      ]
    },
    {
      "cell_type": "code",
      "execution_count": null,
      "id": "f2d997af-737e-4150-887d-6cca5555ad1f",
      "metadata": {
        "id": "f2d997af-737e-4150-887d-6cca5555ad1f",
        "outputId": "99afcf37-75ee-48c5-f4e4-502013380f5a",
        "colab": {
          "referenced_widgets": [
            "f931f03f0dfe4a47939dee31afad8b7a"
          ]
        }
      },
      "outputs": [
        {
          "data": {
            "text/html": [
              "\n",
              "            <style>\n",
              "                .geemap-dark {\n",
              "                    --jp-widgets-color: white;\n",
              "                    --jp-widgets-label-color: white;\n",
              "                    --jp-ui-font-color1: white;\n",
              "                    --jp-layout-color2: #454545;\n",
              "                    background-color: #383838;\n",
              "                }\n",
              "                    \n",
              "                .geemap-dark .jupyter-button {\n",
              "                    --jp-layout-color3: #383838;\n",
              "                }\n",
              "                \n",
              "                .geemap-colab {\n",
              "                    background-color: var(--colab-primary-surface-color, white);\n",
              "                }\n",
              "                    \n",
              "                .geemap-colab .jupyter-button {\n",
              "                    --jp-layout-color3: var(--colab-primary-surface-color, white);\n",
              "                }\n",
              "            </style>\n",
              "            "
            ],
            "text/plain": [
              "<IPython.core.display.HTML object>"
            ]
          },
          "metadata": {},
          "output_type": "display_data"
        },
        {
          "data": {
            "application/vnd.jupyter.widget-view+json": {
              "model_id": "f931f03f0dfe4a47939dee31afad8b7a",
              "version_major": 2,
              "version_minor": 0
            },
            "text/plain": [
              "Map(center=[35.3236, 127.6366], controls=(WidgetControl(options=['position', 'transparent_bg'], widget=SearchD…"
            ]
          },
          "execution_count": 4,
          "metadata": {},
          "output_type": "execute_result"
        }
      ],
      "source": [
        "Map = geemap.Map(center=[35.3236, 127.6366], # 중앙 좌표\n",
        "                 zoom=11, # 줌 레벨\n",
        "                 layout={'height':'500px', 'width':'800px'}) # 지도 높이와 너비\n",
        "Map"
      ]
    },
    {
      "cell_type": "markdown",
      "id": "4078e03b-d67a-45b5-bda3-9e08da75637e",
      "metadata": {
        "id": "4078e03b-d67a-45b5-bda3-9e08da75637e"
      },
      "source": [
        "### 1.2.3. 기본지도 교체 및 추가"
      ]
    },
    {
      "cell_type": "code",
      "execution_count": null,
      "id": "4912fe1a-b76b-4005-bee1-6490ec8620c3",
      "metadata": {
        "id": "4912fe1a-b76b-4005-bee1-6490ec8620c3",
        "outputId": "933041d2-e638-44a2-fc96-15646bef02a4",
        "colab": {
          "referenced_widgets": [
            "b2e6248d857c465086e0cba5eeb58830"
          ]
        }
      },
      "outputs": [
        {
          "data": {
            "text/html": [
              "\n",
              "            <style>\n",
              "                .geemap-dark {\n",
              "                    --jp-widgets-color: white;\n",
              "                    --jp-widgets-label-color: white;\n",
              "                    --jp-ui-font-color1: white;\n",
              "                    --jp-layout-color2: #454545;\n",
              "                    background-color: #383838;\n",
              "                }\n",
              "                    \n",
              "                .geemap-dark .jupyter-button {\n",
              "                    --jp-layout-color3: #383838;\n",
              "                }\n",
              "                \n",
              "                .geemap-colab {\n",
              "                    background-color: var(--colab-primary-surface-color, white);\n",
              "                }\n",
              "                    \n",
              "                .geemap-colab .jupyter-button {\n",
              "                    --jp-layout-color3: var(--colab-primary-surface-color, white);\n",
              "                }\n",
              "            </style>\n",
              "            "
            ],
            "text/plain": [
              "<IPython.core.display.HTML object>"
            ]
          },
          "metadata": {},
          "output_type": "display_data"
        },
        {
          "data": {
            "application/vnd.jupyter.widget-view+json": {
              "model_id": "b2e6248d857c465086e0cba5eeb58830",
              "version_major": 2,
              "version_minor": 0
            },
            "text/plain": [
              "Map(center=[35.3236, 127.6366], controls=(WidgetControl(options=['position', 'transparent_bg'], widget=SearchD…"
            ]
          },
          "execution_count": 5,
          "metadata": {},
          "output_type": "execute_result"
        }
      ],
      "source": [
        "Map = geemap.Map(center=[35.3236, 127.6366], # 중앙 좌표\n",
        "                 zoom=11, # 줌 레벨\n",
        "                 layout={'height':'500px', 'width':'800px'}, # 지도 높이와 너비\n",
        "                 basemap='Esri.WorldTopoMap')\n",
        "Map"
      ]
    },
    {
      "cell_type": "code",
      "execution_count": null,
      "id": "2f8ca8b0-9ec7-4d17-89f3-ec76a37268cc",
      "metadata": {
        "id": "2f8ca8b0-9ec7-4d17-89f3-ec76a37268cc",
        "outputId": "5df4456c-7858-4f34-fefa-848edf8b8a78"
      },
      "outputs": [
        {
          "data": {
            "text/html": [
              "\n",
              "            <style>\n",
              "                .geemap-dark {\n",
              "                    --jp-widgets-color: white;\n",
              "                    --jp-widgets-label-color: white;\n",
              "                    --jp-ui-font-color1: white;\n",
              "                    --jp-layout-color2: #454545;\n",
              "                    background-color: #383838;\n",
              "                }\n",
              "                    \n",
              "                .geemap-dark .jupyter-button {\n",
              "                    --jp-layout-color3: #383838;\n",
              "                }\n",
              "                \n",
              "                .geemap-colab {\n",
              "                    background-color: var(--colab-primary-surface-color, white);\n",
              "                }\n",
              "                    \n",
              "                .geemap-colab .jupyter-button {\n",
              "                    --jp-layout-color3: var(--colab-primary-surface-color, white);\n",
              "                }\n",
              "            </style>\n",
              "            "
            ],
            "text/plain": [
              "<IPython.core.display.HTML object>"
            ]
          },
          "metadata": {},
          "output_type": "display_data"
        },
        {
          "name": "stdout",
          "output_type": "stream",
          "text": [
            "OpenStreetMap\n",
            "Esri.WorldStreetMap\n",
            "Esri.WorldImagery\n",
            "Esri.WorldTopoMap\n",
            "FWS NWI Wetlands\n",
            "FWS NWI Wetlands Raster\n",
            "NLCD 2021 CONUS Land Cover\n",
            "NLCD 2019 CONUS Land Cover\n",
            "NLCD 2016 CONUS Land Cover\n",
            "NLCD 2013 CONUS Land Cover\n",
            "NLCD 2011 CONUS Land Cover\n",
            "NLCD 2008 CONUS Land Cover\n",
            "NLCD 2006 CONUS Land Cover\n",
            "NLCD 2004 CONUS Land Cover\n",
            "NLCD 2001 CONUS Land Cover\n",
            "USGS NAIP Imagery\n",
            "USGS NAIP Imagery False Color\n",
            "USGS NAIP Imagery NDVI\n",
            "USGS Hydrography\n",
            "USGS 3DEP Elevation\n",
            "ESA Worldcover 2020\n",
            "ESA Worldcover 2020 S2 FCC\n",
            "ESA Worldcover 2020 S2 TCC\n",
            "ESA Worldcover 2021\n",
            "ESA Worldcover 2021 S2 FCC\n",
            "ESA Worldcover 2021 S2 TCC\n",
            "BasemapAT.basemap\n",
            "BasemapAT.grau\n",
            "BasemapAT.highdpi\n",
            "BasemapAT.orthofoto\n",
            "BasemapAT.overlay\n",
            "BasemapAT.surface\n",
            "BasemapAT.terrain\n",
            "CartoDB.DarkMatter\n",
            "CartoDB.DarkMatterNoLabels\n",
            "CartoDB.DarkMatterOnlyLabels\n",
            "CartoDB.Positron\n",
            "CartoDB.PositronNoLabels\n",
            "CartoDB.PositronOnlyLabels\n",
            "CartoDB.Voyager\n",
            "CartoDB.VoyagerLabelsUnder\n",
            "CartoDB.VoyagerNoLabels\n",
            "CartoDB.VoyagerOnlyLabels\n",
            "CyclOSM\n",
            "Esri.AntarcticBasemap\n",
            "Esri.AntarcticImagery\n",
            "Esri.ArcticImagery\n",
            "Esri.ArcticOceanBase\n",
            "Esri.ArcticOceanReference\n",
            "Esri.DeLorme\n",
            "Esri.NatGeoWorldMap\n",
            "Esri.OceanBasemap\n",
            "Esri.WorldGrayCanvas\n",
            "Esri.WorldPhysical\n",
            "Esri.WorldShadedRelief\n",
            "Esri.WorldTerrain\n",
            "FreeMapSK\n",
            "Gaode.Normal\n",
            "Gaode.Satellite\n",
            "HikeBike.HikeBike\n",
            "HikeBike.HillShading\n",
            "JusticeMap.americanIndian\n",
            "JusticeMap.asian\n",
            "JusticeMap.black\n",
            "JusticeMap.hispanic\n",
            "JusticeMap.income\n",
            "JusticeMap.multi\n",
            "JusticeMap.nonWhite\n",
            "JusticeMap.plurality\n",
            "JusticeMap.white\n",
            "MtbMap\n",
            "NASAGIBS.ASTER_GDEM_Greyscale_Shaded_Relief\n",
            "NASAGIBS.BlueMarble\n",
            "NASAGIBS.BlueMarble3031\n",
            "NASAGIBS.BlueMarble3413\n",
            "NASAGIBS.ModisAquaBands721CR\n",
            "NASAGIBS.ModisAquaTrueColorCR\n",
            "NASAGIBS.ModisTerraAOD\n",
            "NASAGIBS.ModisTerraBands367CR\n",
            "NASAGIBS.ModisTerraBands721CR\n",
            "NASAGIBS.ModisTerraChlorophyll\n",
            "NASAGIBS.ModisTerraLSTDay\n",
            "NASAGIBS.ModisTerraSnowCover\n",
            "NASAGIBS.ModisTerraTrueColorCR\n",
            "NASAGIBS.ViirsEarthAtNight2012\n",
            "NASAGIBS.ViirsTrueColorCR\n",
            "NLS\n",
            "OPNVKarte\n",
            "OneMapSG.Default\n",
            "OneMapSG.Grey\n",
            "OneMapSG.LandLot\n",
            "OneMapSG.Night\n",
            "OneMapSG.Original\n",
            "OpenAIP\n",
            "OpenFireMap\n",
            "OpenRailwayMap\n",
            "OpenSeaMap\n",
            "OpenSnowMap.pistes\n",
            "OpenStreetMap.BZH\n",
            "OpenStreetMap.BlackAndWhite\n",
            "OpenStreetMap.CH\n",
            "OpenStreetMap.DE\n",
            "OpenStreetMap.HOT\n",
            "OpenStreetMap.Mapnik\n",
            "OpenTopoMap\n",
            "SafeCast\n",
            "Stadia.AlidadeSmooth\n",
            "Stadia.AlidadeSmoothDark\n",
            "Stadia.OSMBright\n",
            "Stadia.Outdoors\n",
            "Stadia.StamenTerrain\n",
            "Stadia.StamenTerrainBackground\n",
            "Stadia.StamenTerrainLabels\n",
            "Stadia.StamenTerrainLines\n",
            "Stadia.StamenToner\n",
            "Stadia.StamenTonerBackground\n",
            "Stadia.StamenTonerLabels\n",
            "Stadia.StamenTonerLines\n",
            "Stadia.StamenTonerLite\n",
            "Stadia.StamenWatercolor\n",
            "Strava.All\n",
            "Strava.Ride\n",
            "Strava.Run\n",
            "Strava.Water\n",
            "Strava.Winter\n",
            "SwissFederalGeoportal.JourneyThroughTime\n",
            "SwissFederalGeoportal.NationalMapColor\n",
            "SwissFederalGeoportal.NationalMapGrey\n",
            "SwissFederalGeoportal.SWISSIMAGE\n",
            "USGS.USImagery\n",
            "USGS.USImageryTopo\n",
            "USGS.USTopo\n",
            "WaymarkedTrails.cycling\n",
            "WaymarkedTrails.hiking\n",
            "WaymarkedTrails.mtb\n",
            "WaymarkedTrails.riding\n",
            "WaymarkedTrails.skating\n",
            "WaymarkedTrails.slopes\n",
            "nlmaps.grijs\n",
            "nlmaps.luchtfoto\n",
            "nlmaps.pastel\n",
            "nlmaps.standaard\n",
            "nlmaps.water\n"
          ]
        }
      ],
      "source": [
        "for basemap in geemap.basemaps.keys():\n",
        "    print(basemap)"
      ]
    },
    {
      "cell_type": "code",
      "execution_count": null,
      "id": "5ac0390c-5983-4f69-b92d-88f4d3b40d20",
      "metadata": {
        "id": "5ac0390c-5983-4f69-b92d-88f4d3b40d20",
        "outputId": "c9046dd5-5e61-406e-a177-0df5a48519d8"
      },
      "outputs": [
        {
          "data": {
            "text/html": [
              "\n",
              "            <style>\n",
              "                .geemap-dark {\n",
              "                    --jp-widgets-color: white;\n",
              "                    --jp-widgets-label-color: white;\n",
              "                    --jp-ui-font-color1: white;\n",
              "                    --jp-layout-color2: #454545;\n",
              "                    background-color: #383838;\n",
              "                }\n",
              "                    \n",
              "                .geemap-dark .jupyter-button {\n",
              "                    --jp-layout-color3: #383838;\n",
              "                }\n",
              "                \n",
              "                .geemap-colab {\n",
              "                    background-color: var(--colab-primary-surface-color, white);\n",
              "                }\n",
              "                    \n",
              "                .geemap-colab .jupyter-button {\n",
              "                    --jp-layout-color3: var(--colab-primary-surface-color, white);\n",
              "                }\n",
              "            </style>\n",
              "            "
            ],
            "text/plain": [
              "<IPython.core.display.HTML object>"
            ]
          },
          "metadata": {},
          "output_type": "display_data"
        },
        {
          "data": {
            "text/plain": [
              "143"
            ]
          },
          "execution_count": 7,
          "metadata": {},
          "output_type": "execute_result"
        }
      ],
      "source": [
        "len(geemap.basemaps)"
      ]
    },
    {
      "cell_type": "code",
      "execution_count": null,
      "id": "9de96455-6650-4e2d-9d97-87f726ad4fc4",
      "metadata": {
        "id": "9de96455-6650-4e2d-9d97-87f726ad4fc4",
        "outputId": "d7c62bdf-f10a-41f0-d7f7-27d04ae71af5",
        "colab": {
          "referenced_widgets": [
            "b2e6248d857c465086e0cba5eeb58830"
          ]
        }
      },
      "outputs": [
        {
          "data": {
            "text/html": [
              "\n",
              "            <style>\n",
              "                .geemap-dark {\n",
              "                    --jp-widgets-color: white;\n",
              "                    --jp-widgets-label-color: white;\n",
              "                    --jp-ui-font-color1: white;\n",
              "                    --jp-layout-color2: #454545;\n",
              "                    background-color: #383838;\n",
              "                }\n",
              "                    \n",
              "                .geemap-dark .jupyter-button {\n",
              "                    --jp-layout-color3: #383838;\n",
              "                }\n",
              "                \n",
              "                .geemap-colab {\n",
              "                    background-color: var(--colab-primary-surface-color, white);\n",
              "                }\n",
              "                    \n",
              "                .geemap-colab .jupyter-button {\n",
              "                    --jp-layout-color3: var(--colab-primary-surface-color, white);\n",
              "                }\n",
              "            </style>\n",
              "            "
            ],
            "text/plain": [
              "<IPython.core.display.HTML object>"
            ]
          },
          "metadata": {},
          "output_type": "display_data"
        },
        {
          "data": {
            "application/vnd.jupyter.widget-view+json": {
              "model_id": "b2e6248d857c465086e0cba5eeb58830",
              "version_major": 2,
              "version_minor": 0
            },
            "text/plain": [
              "Map(center=[35.3236, 127.6366], controls=(WidgetControl(options=['position', 'transparent_bg'], widget=SearchD…"
            ]
          },
          "execution_count": 8,
          "metadata": {},
          "output_type": "execute_result"
        }
      ],
      "source": [
        "Map.add_basemap('Esri.WorldStreetMap') # 배경지도\n",
        "Map"
      ]
    },
    {
      "cell_type": "code",
      "execution_count": null,
      "id": "c93fb8d1-068a-40ad-bb4a-2376515c57cf",
      "metadata": {
        "id": "c93fb8d1-068a-40ad-bb4a-2376515c57cf",
        "outputId": "67db9984-68cc-4f27-dd15-17dee0e4cc5e",
        "colab": {
          "referenced_widgets": [
            "b2e6248d857c465086e0cba5eeb58830"
          ]
        }
      },
      "outputs": [
        {
          "data": {
            "text/html": [
              "\n",
              "            <style>\n",
              "                .geemap-dark {\n",
              "                    --jp-widgets-color: white;\n",
              "                    --jp-widgets-label-color: white;\n",
              "                    --jp-ui-font-color1: white;\n",
              "                    --jp-layout-color2: #454545;\n",
              "                    background-color: #383838;\n",
              "                }\n",
              "                    \n",
              "                .geemap-dark .jupyter-button {\n",
              "                    --jp-layout-color3: #383838;\n",
              "                }\n",
              "                \n",
              "                .geemap-colab {\n",
              "                    background-color: var(--colab-primary-surface-color, white);\n",
              "                }\n",
              "                    \n",
              "                .geemap-colab .jupyter-button {\n",
              "                    --jp-layout-color3: var(--colab-primary-surface-color, white);\n",
              "                }\n",
              "            </style>\n",
              "            "
            ],
            "text/plain": [
              "<IPython.core.display.HTML object>"
            ]
          },
          "metadata": {},
          "output_type": "display_data"
        },
        {
          "data": {
            "application/vnd.jupyter.widget-view+json": {
              "model_id": "b2e6248d857c465086e0cba5eeb58830",
              "version_major": 2,
              "version_minor": 0
            },
            "text/plain": [
              "Map(center=[35.3236, 127.6366], controls=(WidgetControl(options=['position', 'transparent_bg'], widget=SearchD…"
            ]
          },
          "execution_count": 9,
          "metadata": {},
          "output_type": "execute_result"
        }
      ],
      "source": [
        "# Vworld 배경지도\n",
        "Map.add_tile_layer(\n",
        "    url='https://xdworld.vworld.kr/2d/Base/service/{z}/{x}/{y}.png',\n",
        "    name='Vworld Base',\n",
        "    attribution='Vworld',\n",
        "    shown=False\n",
        ")\n",
        "# Vworld 영상지도\n",
        "Map.add_tile_layer(\n",
        "    url='https://xdworld.vworld.kr/2d/Satellite/service/{z}/{x}/{y}.jpeg',\n",
        "    name='Vworld Satellite',\n",
        "    attribution='Vworld',\n",
        "    shown=True\n",
        ")\n",
        "# Vworld 하이브리드지도\n",
        "Map.add_tile_layer(\n",
        "    url='https://xdworld.vworld.kr/2d/Hybrid/service/{z}/{x}/{y}.png',\n",
        "    name='Vworld Hybrid',\n",
        "    attribution='Vworld',\n",
        "    shown=True\n",
        ")\n",
        "# Vworld 백지도\n",
        "Map.add_tile_layer(\n",
        "    url='https://xdworld.vworld.kr/2d/white/service/{z}/{x}/{y}.png',\n",
        "    name='Vworld White',\n",
        "    attribution='Vworld',\n",
        "    shown=False\n",
        ")\n",
        "# Vworld Midnight지도\n",
        "Map.add_tile_layer(\n",
        "    url='https://xdworld.vworld.kr/2d/midnight/service/{z}/{x}/{y}.png',\n",
        "    name='Vworld Midnight',\n",
        "    attribution='Vworld',\n",
        "    shown=False\n",
        ")\n",
        "Map"
      ]
    },
    {
      "cell_type": "code",
      "execution_count": null,
      "id": "8784ce0f-4194-4b0b-9b80-7a050175e387",
      "metadata": {
        "id": "8784ce0f-4194-4b0b-9b80-7a050175e387",
        "outputId": "74281116-405e-42fd-fec9-841b5f8e02db"
      },
      "outputs": [
        {
          "data": {
            "text/html": [
              "\n",
              "            <style>\n",
              "                .geemap-dark {\n",
              "                    --jp-widgets-color: white;\n",
              "                    --jp-widgets-label-color: white;\n",
              "                    --jp-ui-font-color1: white;\n",
              "                    --jp-layout-color2: #454545;\n",
              "                    background-color: #383838;\n",
              "                }\n",
              "                    \n",
              "                .geemap-dark .jupyter-button {\n",
              "                    --jp-layout-color3: #383838;\n",
              "                }\n",
              "                \n",
              "                .geemap-colab {\n",
              "                    background-color: var(--colab-primary-surface-color, white);\n",
              "                }\n",
              "                    \n",
              "                .geemap-colab .jupyter-button {\n",
              "                    --jp-layout-color3: var(--colab-primary-surface-color, white);\n",
              "                }\n",
              "            </style>\n",
              "            "
            ],
            "text/plain": [
              "<IPython.core.display.HTML object>"
            ]
          },
          "metadata": {},
          "output_type": "display_data"
        },
        {
          "name": "stdout",
          "output_type": "stream",
          "text": [
            "Help on method add_tile_layer in module geemap.geemap:\n",
            "\n",
            "add_tile_layer(url='https://{s}.tile.openstreetmap.org/{z}/{x}/{y}.png', name='Untitled', attribution='', opacity=1.0, shown=True, **kwargs) method of geemap.geemap.Map instance\n",
            "    Adds a TileLayer to the map.\n",
            "\n",
            "    Args:\n",
            "        url (str, optional): The URL of the tile layer. Defaults to 'https://{s}.tile.openstreetmap.org/{z}/{x}/{y}.png'.\n",
            "        name (str, optional): The layer name to use for the layer. Defaults to 'Untitled'.\n",
            "        attribution (str, optional): The attribution to use. Defaults to ''.\n",
            "        opacity (float, optional): The opacity of the layer. Defaults to 1.\n",
            "        shown (bool, optional): A flag indicating whether the layer should be on by default. Defaults to True.\n",
            "\n"
          ]
        }
      ],
      "source": [
        "help(Map.add_tile_layer)"
      ]
    },
    {
      "cell_type": "code",
      "execution_count": null,
      "id": "cb18ebeb-f917-4280-9844-44237eb8b752",
      "metadata": {
        "id": "cb18ebeb-f917-4280-9844-44237eb8b752",
        "outputId": "7db9c9ab-cad8-461f-921e-f8e99d362e18"
      },
      "outputs": [
        {
          "data": {
            "text/html": [
              "\n",
              "            <style>\n",
              "                .geemap-dark {\n",
              "                    --jp-widgets-color: white;\n",
              "                    --jp-widgets-label-color: white;\n",
              "                    --jp-ui-font-color1: white;\n",
              "                    --jp-layout-color2: #454545;\n",
              "                    background-color: #383838;\n",
              "                }\n",
              "                    \n",
              "                .geemap-dark .jupyter-button {\n",
              "                    --jp-layout-color3: #383838;\n",
              "                }\n",
              "                \n",
              "                .geemap-colab {\n",
              "                    background-color: var(--colab-primary-surface-color, white);\n",
              "                }\n",
              "                    \n",
              "                .geemap-colab .jupyter-button {\n",
              "                    --jp-layout-color3: var(--colab-primary-surface-color, white);\n",
              "                }\n",
              "            </style>\n",
              "            "
            ],
            "text/plain": [
              "<IPython.core.display.HTML object>"
            ]
          },
          "metadata": {},
          "output_type": "display_data"
        },
        {
          "name": "stdout",
          "output_type": "stream",
          "text": [
            "Esri.WorldTopoMap\n",
            "Esri.WorldStreetMap\n",
            "Vworld Base\n",
            "Vworld Satellite\n",
            "Vworld Hybrid\n",
            "Vworld White\n",
            "Vworld Midnight\n"
          ]
        }
      ],
      "source": [
        "# Map 객체에 포함된 모든 레이어 이름 출력\n",
        "for layer in Map.layers:\n",
        "    print(layer.name)"
      ]
    },
    {
      "cell_type": "code",
      "execution_count": null,
      "id": "b46e5d9c-bb5d-471e-8521-ba0b36789797",
      "metadata": {
        "id": "b46e5d9c-bb5d-471e-8521-ba0b36789797",
        "outputId": "4a344346-ced1-411a-edf6-1e35a7734367"
      },
      "outputs": [
        {
          "data": {
            "text/html": [
              "\n",
              "            <style>\n",
              "                .geemap-dark {\n",
              "                    --jp-widgets-color: white;\n",
              "                    --jp-widgets-label-color: white;\n",
              "                    --jp-ui-font-color1: white;\n",
              "                    --jp-layout-color2: #454545;\n",
              "                    background-color: #383838;\n",
              "                }\n",
              "                    \n",
              "                .geemap-dark .jupyter-button {\n",
              "                    --jp-layout-color3: #383838;\n",
              "                }\n",
              "                \n",
              "                .geemap-colab {\n",
              "                    background-color: var(--colab-primary-surface-color, white);\n",
              "                }\n",
              "                    \n",
              "                .geemap-colab .jupyter-button {\n",
              "                    --jp-layout-color3: var(--colab-primary-surface-color, white);\n",
              "                }\n",
              "            </style>\n",
              "            "
            ],
            "text/plain": [
              "<IPython.core.display.HTML object>"
            ]
          },
          "metadata": {},
          "output_type": "display_data"
        }
      ],
      "source": [
        "# 특정 레이어 식별\n",
        "for layer in Map.layers:\n",
        "    if layer.name == 'Esri.WorldStreetMap':\n",
        "        # 해당 레이어 제거\n",
        "        Map.remove_layer(layer)\n",
        "        break"
      ]
    },
    {
      "cell_type": "code",
      "execution_count": null,
      "id": "e9e38a46-ba80-4be8-90b5-04b88a44ad16",
      "metadata": {
        "id": "e9e38a46-ba80-4be8-90b5-04b88a44ad16",
        "outputId": "58fbbe23-7ad3-4aaf-a26a-67f648c47ee7"
      },
      "outputs": [
        {
          "data": {
            "text/html": [
              "\n",
              "            <style>\n",
              "                .geemap-dark {\n",
              "                    --jp-widgets-color: white;\n",
              "                    --jp-widgets-label-color: white;\n",
              "                    --jp-ui-font-color1: white;\n",
              "                    --jp-layout-color2: #454545;\n",
              "                    background-color: #383838;\n",
              "                }\n",
              "                    \n",
              "                .geemap-dark .jupyter-button {\n",
              "                    --jp-layout-color3: #383838;\n",
              "                }\n",
              "                \n",
              "                .geemap-colab {\n",
              "                    background-color: var(--colab-primary-surface-color, white);\n",
              "                }\n",
              "                    \n",
              "                .geemap-colab .jupyter-button {\n",
              "                    --jp-layout-color3: var(--colab-primary-surface-color, white);\n",
              "                }\n",
              "            </style>\n",
              "            "
            ],
            "text/plain": [
              "<IPython.core.display.HTML object>"
            ]
          },
          "metadata": {},
          "output_type": "display_data"
        },
        {
          "name": "stdout",
          "output_type": "stream",
          "text": [
            "Esri.WorldTopoMap\n",
            "Vworld Base\n",
            "Vworld Satellite\n",
            "Vworld Hybrid\n",
            "Vworld White\n",
            "Vworld Midnight\n"
          ]
        }
      ],
      "source": [
        "# Map 객체에 포함된 모든 레이어 이름 출력\n",
        "for layer in Map.layers:\n",
        "    print(layer.name)"
      ]
    },
    {
      "cell_type": "code",
      "execution_count": null,
      "id": "229bcdcf-6b06-42e0-9daf-f796dba46ad1",
      "metadata": {
        "id": "229bcdcf-6b06-42e0-9daf-f796dba46ad1",
        "outputId": "2509ccbd-2e8b-4c0f-b81d-205a3720195c"
      },
      "outputs": [
        {
          "data": {
            "text/html": [
              "\n",
              "            <style>\n",
              "                .geemap-dark {\n",
              "                    --jp-widgets-color: white;\n",
              "                    --jp-widgets-label-color: white;\n",
              "                    --jp-ui-font-color1: white;\n",
              "                    --jp-layout-color2: #454545;\n",
              "                    background-color: #383838;\n",
              "                }\n",
              "                    \n",
              "                .geemap-dark .jupyter-button {\n",
              "                    --jp-layout-color3: #383838;\n",
              "                }\n",
              "                \n",
              "                .geemap-colab {\n",
              "                    background-color: var(--colab-primary-surface-color, white);\n",
              "                }\n",
              "                    \n",
              "                .geemap-colab .jupyter-button {\n",
              "                    --jp-layout-color3: var(--colab-primary-surface-color, white);\n",
              "                }\n",
              "            </style>\n",
              "            "
            ],
            "text/plain": [
              "<IPython.core.display.HTML object>"
            ]
          },
          "metadata": {},
          "output_type": "display_data"
        }
      ],
      "source": [
        "from ipyleaflet import TileLayer\n",
        "\n",
        "# Vworld 영상지도 객체\n",
        "Vworld_Satellite = TileLayer(\n",
        "    url='https://xdworld.vworld.kr/2d/Satellite/service/{z}/{x}/{y}.jpeg',\n",
        "    name='Vworld Satellite',\n",
        "    attribution='Vworld',\n",
        ")\n",
        "\n",
        "# Vworld 하이브리드지도 객체\n",
        "Vworld_Hybrid = TileLayer(\n",
        "    url='https://xdworld.vworld.kr/2d/Hybrid/service/{z}/{x}/{y}.png',\n",
        "    name='Vworld Hybrid',\n",
        "    attribution='Vworld',\n",
        ")"
      ]
    },
    {
      "cell_type": "code",
      "execution_count": null,
      "id": "cc6dd714-ec85-482f-bb0f-a5021b95f24b",
      "metadata": {
        "id": "cc6dd714-ec85-482f-bb0f-a5021b95f24b",
        "outputId": "658e4d65-8e4a-4390-b3d7-f057c279ebf8",
        "colab": {
          "referenced_widgets": [
            "2dc67076ad42477eb58e5c2ae170bb7a"
          ]
        }
      },
      "outputs": [
        {
          "data": {
            "text/html": [
              "\n",
              "            <style>\n",
              "                .geemap-dark {\n",
              "                    --jp-widgets-color: white;\n",
              "                    --jp-widgets-label-color: white;\n",
              "                    --jp-ui-font-color1: white;\n",
              "                    --jp-layout-color2: #454545;\n",
              "                    background-color: #383838;\n",
              "                }\n",
              "                    \n",
              "                .geemap-dark .jupyter-button {\n",
              "                    --jp-layout-color3: #383838;\n",
              "                }\n",
              "                \n",
              "                .geemap-colab {\n",
              "                    background-color: var(--colab-primary-surface-color, white);\n",
              "                }\n",
              "                    \n",
              "                .geemap-colab .jupyter-button {\n",
              "                    --jp-layout-color3: var(--colab-primary-surface-color, white);\n",
              "                }\n",
              "            </style>\n",
              "            "
            ],
            "text/plain": [
              "<IPython.core.display.HTML object>"
            ]
          },
          "metadata": {},
          "output_type": "display_data"
        },
        {
          "data": {
            "application/vnd.jupyter.widget-view+json": {
              "model_id": "2dc67076ad42477eb58e5c2ae170bb7a",
              "version_major": 2,
              "version_minor": 0
            },
            "text/plain": [
              "Map(center=[35.3236, 127.6366], controls=(WidgetControl(options=['position', 'transparent_bg'], widget=SearchD…"
            ]
          },
          "execution_count": 15,
          "metadata": {},
          "output_type": "execute_result"
        }
      ],
      "source": [
        "Map = geemap.Map(center=[35.3236, 127.6366], zoom=11)\n",
        "Map.add_layer(Vworld_Satellite)\n",
        "Map.add_layer(Vworld_Hybrid)\n",
        "Map"
      ]
    },
    {
      "cell_type": "code",
      "execution_count": null,
      "id": "9aede96f-0dc0-4100-af71-04a1ef53509a",
      "metadata": {
        "id": "9aede96f-0dc0-4100-af71-04a1ef53509a"
      },
      "outputs": [],
      "source": []
    }
  ],
  "metadata": {
    "kernelspec": {
      "display_name": "Python 3 (ipykernel)",
      "language": "python",
      "name": "python3"
    },
    "language_info": {
      "codemirror_mode": {
        "name": "ipython",
        "version": 3
      },
      "file_extension": ".py",
      "mimetype": "text/x-python",
      "name": "python",
      "nbconvert_exporter": "python",
      "pygments_lexer": "ipython3",
      "version": "3.12.1"
    },
    "colab": {
      "provenance": [],
      "include_colab_link": true
    },
    "widgets": {
      "application/vnd.jupyter.widget-state+json": {}
    }
  },
  "nbformat": 4,
  "nbformat_minor": 5
}