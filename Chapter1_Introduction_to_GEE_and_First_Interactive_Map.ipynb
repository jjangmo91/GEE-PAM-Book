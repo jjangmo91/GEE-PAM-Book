{
 "cells": [
  {
   "cell_type": "markdown",
   "id": "ee622536-a80f-420f-ab8c-86c5ab5f89e8",
   "metadata": {},
   "source": [
    "# 1장. Google Earth Engine 소개 및 첫 인터랙티브 맵 제작"
   ]
  },
  {
   "cell_type": "markdown",
   "id": "149a3fdc-0650-4241-89d7-b3303ce996bd",
   "metadata": {},
   "source": [
    "## 1.1. Google Earth Engine 소개"
   ]
  },
  {
   "cell_type": "markdown",
   "id": "35acc316-28de-4c5b-86da-b0383d0c1e2b",
   "metadata": {},
   "source": [
    "###  1.1.1. Google Earth Engine 개요"
   ]
  },
  {
   "cell_type": "markdown",
   "id": "066399bd-4fda-49e1-a69e-0a3c772ccdc4",
   "metadata": {},
   "source": [
    " ### 1.1.2. 사전 설치 필요 소프트웨어"
   ]
  },
  {
   "cell_type": "code",
   "execution_count": 1,
   "id": "49fa81f9-75e7-4973-a952-5bdeacafee8e",
   "metadata": {},
   "outputs": [],
   "source": [
    "# %pip install -U geemap"
   ]
  },
  {
   "cell_type": "markdown",
   "id": "404eeae6-326c-4135-b786-0adea1c0c73f",
   "metadata": {},
   "source": [
    "## 1.2. 첫 인터랙티브 맵 제작"
   ]
  },
  {
   "cell_type": "markdown",
   "id": "bdc090c1-153e-44c9-b7f3-70608ed009c8",
   "metadata": {},
   "source": [
    "### 1.2.1. Earth Engine 인증"
   ]
  },
  {
   "cell_type": "markdown",
   "id": "fcd8c675-9a78-44cb-990d-e68b513048e1",
   "metadata": {},
   "source": [
    "geemap을 사용하려면 먼저 [Google Earth Engine 계정](https://earthengine.google.com/signup/)에 가입해야 합니다. 애플리케이션이 승인되지 않으면 Google Earth Engine을 사용할 수 없습니다. 애플리케이션 승인 이메일을 받으면 [Earth Engine Code Editor](https://code.earthengine.google.com/)에 로그인하여 JavaScript API에 익숙해질 수 있습니다.\n",
    "\n",
    "**참고** 구글 이메일(gmail.com) 계정으로 가입을 권장합니다."
   ]
  },
  {
   "cell_type": "code",
   "execution_count": 2,
   "id": "bb7eb04b-c8f5-4017-a9ed-1c392798af41",
   "metadata": {},
   "outputs": [],
   "source": [
    "import ee\n",
    "\n",
    "# ee.Authenticate()\n",
    "ee.Initialize(project='ee-osgeokr')"
   ]
  },
  {
   "cell_type": "markdown",
   "id": "d9409812-1988-40f9-9c87-fa89197ed1cc",
   "metadata": {},
   "source": [
    "인증 성공시 발급되는 \"Earth Engine 토큰(token)\"은 운영체제에 따라 아래 파일 경로에서 확인하실 수 있습니다.\n",
    "\n",
    "- Windows: C:\\Users\\USERNAME\\.config\\earthengine\\credentials\n",
    "- Linux: /home/USERNAME/.config/earthengine/credentials\n",
    "- MacOS: /Users/USERNAME/.config/earthengine/credentials"
   ]
  },
  {
   "cell_type": "markdown",
   "id": "16937717-a63d-42d7-88e4-7bd0f81e2a60",
   "metadata": {},
   "source": [
    "### 1.2.2. 지도 띄우기 및 조작"
   ]
  },
  {
   "cell_type": "code",
   "execution_count": 3,
   "id": "f22910cb-f6bd-4ebe-869d-2a70c631aacf",
   "metadata": {},
   "outputs": [
    {
     "data": {
      "application/vnd.jupyter.widget-view+json": {
       "model_id": "02e64a859d754b628c7df7266f19d48a",
       "version_major": 2,
       "version_minor": 0
      },
      "text/plain": [
       "Map(center=[0, 0], controls=(WidgetControl(options=['position', 'transparent_bg'], widget=SearchDataGUI(childr…"
      ]
     },
     "execution_count": 3,
     "metadata": {},
     "output_type": "execute_result"
    }
   ],
   "source": [
    "import geemap\n",
    "\n",
    "# 지도 객체 생성\n",
    "Map = geemap.Map()\n",
    "Map"
   ]
  },
  {
   "cell_type": "code",
   "execution_count": 4,
   "id": "f2d997af-737e-4150-887d-6cca5555ad1f",
   "metadata": {},
   "outputs": [
    {
     "data": {
      "text/html": [
       "\n",
       "            <style>\n",
       "                .geemap-dark {\n",
       "                    --jp-widgets-color: white;\n",
       "                    --jp-widgets-label-color: white;\n",
       "                    --jp-ui-font-color1: white;\n",
       "                    --jp-layout-color2: #454545;\n",
       "                    background-color: #383838;\n",
       "                }\n",
       "                    \n",
       "                .geemap-dark .jupyter-button {\n",
       "                    --jp-layout-color3: #383838;\n",
       "                }\n",
       "                \n",
       "                .geemap-colab {\n",
       "                    background-color: var(--colab-primary-surface-color, white);\n",
       "                }\n",
       "                    \n",
       "                .geemap-colab .jupyter-button {\n",
       "                    --jp-layout-color3: var(--colab-primary-surface-color, white);\n",
       "                }\n",
       "            </style>\n",
       "            "
      ],
      "text/plain": [
       "<IPython.core.display.HTML object>"
      ]
     },
     "metadata": {},
     "output_type": "display_data"
    },
    {
     "data": {
      "application/vnd.jupyter.widget-view+json": {
       "model_id": "f931f03f0dfe4a47939dee31afad8b7a",
       "version_major": 2,
       "version_minor": 0
      },
      "text/plain": [
       "Map(center=[35.3236, 127.6366], controls=(WidgetControl(options=['position', 'transparent_bg'], widget=SearchD…"
      ]
     },
     "execution_count": 4,
     "metadata": {},
     "output_type": "execute_result"
    }
   ],
   "source": [
    "Map = geemap.Map(center=[35.3236, 127.6366], # 중앙 좌표\n",
    "                 zoom=11, # 줌 레벨\n",
    "                 layout={'height':'500px', 'width':'800px'}) # 지도 높이와 너비\n",
    "Map"
   ]
  },
  {
   "cell_type": "markdown",
   "id": "4078e03b-d67a-45b5-bda3-9e08da75637e",
   "metadata": {},
   "source": [
    "### 1.2.3. 기본지도 교체 및 추가"
   ]
  },
  {
   "cell_type": "code",
   "execution_count": 5,
   "id": "4912fe1a-b76b-4005-bee1-6490ec8620c3",
   "metadata": {},
   "outputs": [
    {
     "data": {
      "text/html": [
       "\n",
       "            <style>\n",
       "                .geemap-dark {\n",
       "                    --jp-widgets-color: white;\n",
       "                    --jp-widgets-label-color: white;\n",
       "                    --jp-ui-font-color1: white;\n",
       "                    --jp-layout-color2: #454545;\n",
       "                    background-color: #383838;\n",
       "                }\n",
       "                    \n",
       "                .geemap-dark .jupyter-button {\n",
       "                    --jp-layout-color3: #383838;\n",
       "                }\n",
       "                \n",
       "                .geemap-colab {\n",
       "                    background-color: var(--colab-primary-surface-color, white);\n",
       "                }\n",
       "                    \n",
       "                .geemap-colab .jupyter-button {\n",
       "                    --jp-layout-color3: var(--colab-primary-surface-color, white);\n",
       "                }\n",
       "            </style>\n",
       "            "
      ],
      "text/plain": [
       "<IPython.core.display.HTML object>"
      ]
     },
     "metadata": {},
     "output_type": "display_data"
    },
    {
     "data": {
      "application/vnd.jupyter.widget-view+json": {
       "model_id": "b2e6248d857c465086e0cba5eeb58830",
       "version_major": 2,
       "version_minor": 0
      },
      "text/plain": [
       "Map(center=[35.3236, 127.6366], controls=(WidgetControl(options=['position', 'transparent_bg'], widget=SearchD…"
      ]
     },
     "execution_count": 5,
     "metadata": {},
     "output_type": "execute_result"
    }
   ],
   "source": [
    "Map = geemap.Map(center=[35.3236, 127.6366], # 중앙 좌표\n",
    "                 zoom=11, # 줌 레벨\n",
    "                 layout={'height':'500px', 'width':'800px'}, # 지도 높이와 너비\n",
    "                 basemap='Esri.WorldTopoMap')\n",
    "Map"
   ]
  },
  {
   "cell_type": "code",
   "execution_count": 6,
   "id": "2f8ca8b0-9ec7-4d17-89f3-ec76a37268cc",
   "metadata": {},
   "outputs": [
    {
     "data": {
      "text/html": [
       "\n",
       "            <style>\n",
       "                .geemap-dark {\n",
       "                    --jp-widgets-color: white;\n",
       "                    --jp-widgets-label-color: white;\n",
       "                    --jp-ui-font-color1: white;\n",
       "                    --jp-layout-color2: #454545;\n",
       "                    background-color: #383838;\n",
       "                }\n",
       "                    \n",
       "                .geemap-dark .jupyter-button {\n",
       "                    --jp-layout-color3: #383838;\n",
       "                }\n",
       "                \n",
       "                .geemap-colab {\n",
       "                    background-color: var(--colab-primary-surface-color, white);\n",
       "                }\n",
       "                    \n",
       "                .geemap-colab .jupyter-button {\n",
       "                    --jp-layout-color3: var(--colab-primary-surface-color, white);\n",
       "                }\n",
       "            </style>\n",
       "            "
      ],
      "text/plain": [
       "<IPython.core.display.HTML object>"
      ]
     },
     "metadata": {},
     "output_type": "display_data"
    },
    {
     "name": "stdout",
     "output_type": "stream",
     "text": [
      "OpenStreetMap\n",
      "Esri.WorldStreetMap\n",
      "Esri.WorldImagery\n",
      "Esri.WorldTopoMap\n",
      "FWS NWI Wetlands\n",
      "FWS NWI Wetlands Raster\n",
      "NLCD 2021 CONUS Land Cover\n",
      "NLCD 2019 CONUS Land Cover\n",
      "NLCD 2016 CONUS Land Cover\n",
      "NLCD 2013 CONUS Land Cover\n",
      "NLCD 2011 CONUS Land Cover\n",
      "NLCD 2008 CONUS Land Cover\n",
      "NLCD 2006 CONUS Land Cover\n",
      "NLCD 2004 CONUS Land Cover\n",
      "NLCD 2001 CONUS Land Cover\n",
      "USGS NAIP Imagery\n",
      "USGS NAIP Imagery False Color\n",
      "USGS NAIP Imagery NDVI\n",
      "USGS Hydrography\n",
      "USGS 3DEP Elevation\n",
      "ESA Worldcover 2020\n",
      "ESA Worldcover 2020 S2 FCC\n",
      "ESA Worldcover 2020 S2 TCC\n",
      "ESA Worldcover 2021\n",
      "ESA Worldcover 2021 S2 FCC\n",
      "ESA Worldcover 2021 S2 TCC\n",
      "BasemapAT.basemap\n",
      "BasemapAT.grau\n",
      "BasemapAT.highdpi\n",
      "BasemapAT.orthofoto\n",
      "BasemapAT.overlay\n",
      "BasemapAT.surface\n",
      "BasemapAT.terrain\n",
      "CartoDB.DarkMatter\n",
      "CartoDB.DarkMatterNoLabels\n",
      "CartoDB.DarkMatterOnlyLabels\n",
      "CartoDB.Positron\n",
      "CartoDB.PositronNoLabels\n",
      "CartoDB.PositronOnlyLabels\n",
      "CartoDB.Voyager\n",
      "CartoDB.VoyagerLabelsUnder\n",
      "CartoDB.VoyagerNoLabels\n",
      "CartoDB.VoyagerOnlyLabels\n",
      "CyclOSM\n",
      "Esri.AntarcticBasemap\n",
      "Esri.AntarcticImagery\n",
      "Esri.ArcticImagery\n",
      "Esri.ArcticOceanBase\n",
      "Esri.ArcticOceanReference\n",
      "Esri.DeLorme\n",
      "Esri.NatGeoWorldMap\n",
      "Esri.OceanBasemap\n",
      "Esri.WorldGrayCanvas\n",
      "Esri.WorldPhysical\n",
      "Esri.WorldShadedRelief\n",
      "Esri.WorldTerrain\n",
      "FreeMapSK\n",
      "Gaode.Normal\n",
      "Gaode.Satellite\n",
      "HikeBike.HikeBike\n",
      "HikeBike.HillShading\n",
      "JusticeMap.americanIndian\n",
      "JusticeMap.asian\n",
      "JusticeMap.black\n",
      "JusticeMap.hispanic\n",
      "JusticeMap.income\n",
      "JusticeMap.multi\n",
      "JusticeMap.nonWhite\n",
      "JusticeMap.plurality\n",
      "JusticeMap.white\n",
      "MtbMap\n",
      "NASAGIBS.ASTER_GDEM_Greyscale_Shaded_Relief\n",
      "NASAGIBS.BlueMarble\n",
      "NASAGIBS.BlueMarble3031\n",
      "NASAGIBS.BlueMarble3413\n",
      "NASAGIBS.ModisAquaBands721CR\n",
      "NASAGIBS.ModisAquaTrueColorCR\n",
      "NASAGIBS.ModisTerraAOD\n",
      "NASAGIBS.ModisTerraBands367CR\n",
      "NASAGIBS.ModisTerraBands721CR\n",
      "NASAGIBS.ModisTerraChlorophyll\n",
      "NASAGIBS.ModisTerraLSTDay\n",
      "NASAGIBS.ModisTerraSnowCover\n",
      "NASAGIBS.ModisTerraTrueColorCR\n",
      "NASAGIBS.ViirsEarthAtNight2012\n",
      "NASAGIBS.ViirsTrueColorCR\n",
      "NLS\n",
      "OPNVKarte\n",
      "OneMapSG.Default\n",
      "OneMapSG.Grey\n",
      "OneMapSG.LandLot\n",
      "OneMapSG.Night\n",
      "OneMapSG.Original\n",
      "OpenAIP\n",
      "OpenFireMap\n",
      "OpenRailwayMap\n",
      "OpenSeaMap\n",
      "OpenSnowMap.pistes\n",
      "OpenStreetMap.BZH\n",
      "OpenStreetMap.BlackAndWhite\n",
      "OpenStreetMap.CH\n",
      "OpenStreetMap.DE\n",
      "OpenStreetMap.HOT\n",
      "OpenStreetMap.Mapnik\n",
      "OpenTopoMap\n",
      "SafeCast\n",
      "Stadia.AlidadeSmooth\n",
      "Stadia.AlidadeSmoothDark\n",
      "Stadia.OSMBright\n",
      "Stadia.Outdoors\n",
      "Stadia.StamenTerrain\n",
      "Stadia.StamenTerrainBackground\n",
      "Stadia.StamenTerrainLabels\n",
      "Stadia.StamenTerrainLines\n",
      "Stadia.StamenToner\n",
      "Stadia.StamenTonerBackground\n",
      "Stadia.StamenTonerLabels\n",
      "Stadia.StamenTonerLines\n",
      "Stadia.StamenTonerLite\n",
      "Stadia.StamenWatercolor\n",
      "Strava.All\n",
      "Strava.Ride\n",
      "Strava.Run\n",
      "Strava.Water\n",
      "Strava.Winter\n",
      "SwissFederalGeoportal.JourneyThroughTime\n",
      "SwissFederalGeoportal.NationalMapColor\n",
      "SwissFederalGeoportal.NationalMapGrey\n",
      "SwissFederalGeoportal.SWISSIMAGE\n",
      "USGS.USImagery\n",
      "USGS.USImageryTopo\n",
      "USGS.USTopo\n",
      "WaymarkedTrails.cycling\n",
      "WaymarkedTrails.hiking\n",
      "WaymarkedTrails.mtb\n",
      "WaymarkedTrails.riding\n",
      "WaymarkedTrails.skating\n",
      "WaymarkedTrails.slopes\n",
      "nlmaps.grijs\n",
      "nlmaps.luchtfoto\n",
      "nlmaps.pastel\n",
      "nlmaps.standaard\n",
      "nlmaps.water\n"
     ]
    }
   ],
   "source": [
    "for basemap in geemap.basemaps.keys():\n",
    "    print(basemap)"
   ]
  },
  {
   "cell_type": "code",
   "execution_count": 7,
   "id": "5ac0390c-5983-4f69-b92d-88f4d3b40d20",
   "metadata": {},
   "outputs": [
    {
     "data": {
      "text/html": [
       "\n",
       "            <style>\n",
       "                .geemap-dark {\n",
       "                    --jp-widgets-color: white;\n",
       "                    --jp-widgets-label-color: white;\n",
       "                    --jp-ui-font-color1: white;\n",
       "                    --jp-layout-color2: #454545;\n",
       "                    background-color: #383838;\n",
       "                }\n",
       "                    \n",
       "                .geemap-dark .jupyter-button {\n",
       "                    --jp-layout-color3: #383838;\n",
       "                }\n",
       "                \n",
       "                .geemap-colab {\n",
       "                    background-color: var(--colab-primary-surface-color, white);\n",
       "                }\n",
       "                    \n",
       "                .geemap-colab .jupyter-button {\n",
       "                    --jp-layout-color3: var(--colab-primary-surface-color, white);\n",
       "                }\n",
       "            </style>\n",
       "            "
      ],
      "text/plain": [
       "<IPython.core.display.HTML object>"
      ]
     },
     "metadata": {},
     "output_type": "display_data"
    },
    {
     "data": {
      "text/plain": [
       "143"
      ]
     },
     "execution_count": 7,
     "metadata": {},
     "output_type": "execute_result"
    }
   ],
   "source": [
    "len(geemap.basemaps)"
   ]
  },
  {
   "cell_type": "code",
   "execution_count": 8,
   "id": "9de96455-6650-4e2d-9d97-87f726ad4fc4",
   "metadata": {},
   "outputs": [
    {
     "data": {
      "text/html": [
       "\n",
       "            <style>\n",
       "                .geemap-dark {\n",
       "                    --jp-widgets-color: white;\n",
       "                    --jp-widgets-label-color: white;\n",
       "                    --jp-ui-font-color1: white;\n",
       "                    --jp-layout-color2: #454545;\n",
       "                    background-color: #383838;\n",
       "                }\n",
       "                    \n",
       "                .geemap-dark .jupyter-button {\n",
       "                    --jp-layout-color3: #383838;\n",
       "                }\n",
       "                \n",
       "                .geemap-colab {\n",
       "                    background-color: var(--colab-primary-surface-color, white);\n",
       "                }\n",
       "                    \n",
       "                .geemap-colab .jupyter-button {\n",
       "                    --jp-layout-color3: var(--colab-primary-surface-color, white);\n",
       "                }\n",
       "            </style>\n",
       "            "
      ],
      "text/plain": [
       "<IPython.core.display.HTML object>"
      ]
     },
     "metadata": {},
     "output_type": "display_data"
    },
    {
     "data": {
      "application/vnd.jupyter.widget-view+json": {
       "model_id": "b2e6248d857c465086e0cba5eeb58830",
       "version_major": 2,
       "version_minor": 0
      },
      "text/plain": [
       "Map(center=[35.3236, 127.6366], controls=(WidgetControl(options=['position', 'transparent_bg'], widget=SearchD…"
      ]
     },
     "execution_count": 8,
     "metadata": {},
     "output_type": "execute_result"
    }
   ],
   "source": [
    "Map.add_basemap('Esri.WorldStreetMap') # 배경지도\n",
    "Map"
   ]
  },
  {
   "cell_type": "code",
   "execution_count": 9,
   "id": "c93fb8d1-068a-40ad-bb4a-2376515c57cf",
   "metadata": {},
   "outputs": [
    {
     "data": {
      "text/html": [
       "\n",
       "            <style>\n",
       "                .geemap-dark {\n",
       "                    --jp-widgets-color: white;\n",
       "                    --jp-widgets-label-color: white;\n",
       "                    --jp-ui-font-color1: white;\n",
       "                    --jp-layout-color2: #454545;\n",
       "                    background-color: #383838;\n",
       "                }\n",
       "                    \n",
       "                .geemap-dark .jupyter-button {\n",
       "                    --jp-layout-color3: #383838;\n",
       "                }\n",
       "                \n",
       "                .geemap-colab {\n",
       "                    background-color: var(--colab-primary-surface-color, white);\n",
       "                }\n",
       "                    \n",
       "                .geemap-colab .jupyter-button {\n",
       "                    --jp-layout-color3: var(--colab-primary-surface-color, white);\n",
       "                }\n",
       "            </style>\n",
       "            "
      ],
      "text/plain": [
       "<IPython.core.display.HTML object>"
      ]
     },
     "metadata": {},
     "output_type": "display_data"
    },
    {
     "data": {
      "application/vnd.jupyter.widget-view+json": {
       "model_id": "b2e6248d857c465086e0cba5eeb58830",
       "version_major": 2,
       "version_minor": 0
      },
      "text/plain": [
       "Map(center=[35.3236, 127.6366], controls=(WidgetControl(options=['position', 'transparent_bg'], widget=SearchD…"
      ]
     },
     "execution_count": 9,
     "metadata": {},
     "output_type": "execute_result"
    }
   ],
   "source": [
    "# Vworld 배경지도\n",
    "Map.add_tile_layer(\n",
    "    url='https://xdworld.vworld.kr/2d/Base/service/{z}/{x}/{y}.png',\n",
    "    name='Vworld Base',\n",
    "    attribution='Vworld',\n",
    "    shown=False\n",
    ")\n",
    "# Vworld 영상지도\n",
    "Map.add_tile_layer(\n",
    "    url='https://xdworld.vworld.kr/2d/Satellite/service/{z}/{x}/{y}.jpeg',\n",
    "    name='Vworld Satellite',\n",
    "    attribution='Vworld',\n",
    "    shown=True\n",
    ")\n",
    "# Vworld 하이브리드지도\n",
    "Map.add_tile_layer(\n",
    "    url='https://xdworld.vworld.kr/2d/Hybrid/service/{z}/{x}/{y}.png',\n",
    "    name='Vworld Hybrid',\n",
    "    attribution='Vworld',\n",
    "    shown=True\n",
    ")\n",
    "# Vworld 백지도\n",
    "Map.add_tile_layer(\n",
    "    url='https://xdworld.vworld.kr/2d/white/service/{z}/{x}/{y}.png',\n",
    "    name='Vworld White',\n",
    "    attribution='Vworld',\n",
    "    shown=False\n",
    ")\n",
    "# Vworld Midnight지도\n",
    "Map.add_tile_layer(\n",
    "    url='https://xdworld.vworld.kr/2d/midnight/service/{z}/{x}/{y}.png',\n",
    "    name='Vworld Midnight',\n",
    "    attribution='Vworld',\n",
    "    shown=False\n",
    ")\n",
    "Map"
   ]
  },
  {
   "cell_type": "code",
   "execution_count": 10,
   "id": "8784ce0f-4194-4b0b-9b80-7a050175e387",
   "metadata": {},
   "outputs": [
    {
     "data": {
      "text/html": [
       "\n",
       "            <style>\n",
       "                .geemap-dark {\n",
       "                    --jp-widgets-color: white;\n",
       "                    --jp-widgets-label-color: white;\n",
       "                    --jp-ui-font-color1: white;\n",
       "                    --jp-layout-color2: #454545;\n",
       "                    background-color: #383838;\n",
       "                }\n",
       "                    \n",
       "                .geemap-dark .jupyter-button {\n",
       "                    --jp-layout-color3: #383838;\n",
       "                }\n",
       "                \n",
       "                .geemap-colab {\n",
       "                    background-color: var(--colab-primary-surface-color, white);\n",
       "                }\n",
       "                    \n",
       "                .geemap-colab .jupyter-button {\n",
       "                    --jp-layout-color3: var(--colab-primary-surface-color, white);\n",
       "                }\n",
       "            </style>\n",
       "            "
      ],
      "text/plain": [
       "<IPython.core.display.HTML object>"
      ]
     },
     "metadata": {},
     "output_type": "display_data"
    },
    {
     "name": "stdout",
     "output_type": "stream",
     "text": [
      "Help on method add_tile_layer in module geemap.geemap:\n",
      "\n",
      "add_tile_layer(url='https://{s}.tile.openstreetmap.org/{z}/{x}/{y}.png', name='Untitled', attribution='', opacity=1.0, shown=True, **kwargs) method of geemap.geemap.Map instance\n",
      "    Adds a TileLayer to the map.\n",
      "\n",
      "    Args:\n",
      "        url (str, optional): The URL of the tile layer. Defaults to 'https://{s}.tile.openstreetmap.org/{z}/{x}/{y}.png'.\n",
      "        name (str, optional): The layer name to use for the layer. Defaults to 'Untitled'.\n",
      "        attribution (str, optional): The attribution to use. Defaults to ''.\n",
      "        opacity (float, optional): The opacity of the layer. Defaults to 1.\n",
      "        shown (bool, optional): A flag indicating whether the layer should be on by default. Defaults to True.\n",
      "\n"
     ]
    }
   ],
   "source": [
    "help(Map.add_tile_layer)"
   ]
  },
  {
   "cell_type": "code",
   "execution_count": 11,
   "id": "cb18ebeb-f917-4280-9844-44237eb8b752",
   "metadata": {},
   "outputs": [
    {
     "data": {
      "text/html": [
       "\n",
       "            <style>\n",
       "                .geemap-dark {\n",
       "                    --jp-widgets-color: white;\n",
       "                    --jp-widgets-label-color: white;\n",
       "                    --jp-ui-font-color1: white;\n",
       "                    --jp-layout-color2: #454545;\n",
       "                    background-color: #383838;\n",
       "                }\n",
       "                    \n",
       "                .geemap-dark .jupyter-button {\n",
       "                    --jp-layout-color3: #383838;\n",
       "                }\n",
       "                \n",
       "                .geemap-colab {\n",
       "                    background-color: var(--colab-primary-surface-color, white);\n",
       "                }\n",
       "                    \n",
       "                .geemap-colab .jupyter-button {\n",
       "                    --jp-layout-color3: var(--colab-primary-surface-color, white);\n",
       "                }\n",
       "            </style>\n",
       "            "
      ],
      "text/plain": [
       "<IPython.core.display.HTML object>"
      ]
     },
     "metadata": {},
     "output_type": "display_data"
    },
    {
     "name": "stdout",
     "output_type": "stream",
     "text": [
      "Esri.WorldTopoMap\n",
      "Esri.WorldStreetMap\n",
      "Vworld Base\n",
      "Vworld Satellite\n",
      "Vworld Hybrid\n",
      "Vworld White\n",
      "Vworld Midnight\n"
     ]
    }
   ],
   "source": [
    "# Map 객체에 포함된 모든 레이어 이름 출력\n",
    "for layer in Map.layers:\n",
    "    print(layer.name)"
   ]
  },
  {
   "cell_type": "code",
   "execution_count": 12,
   "id": "b46e5d9c-bb5d-471e-8521-ba0b36789797",
   "metadata": {},
   "outputs": [
    {
     "data": {
      "text/html": [
       "\n",
       "            <style>\n",
       "                .geemap-dark {\n",
       "                    --jp-widgets-color: white;\n",
       "                    --jp-widgets-label-color: white;\n",
       "                    --jp-ui-font-color1: white;\n",
       "                    --jp-layout-color2: #454545;\n",
       "                    background-color: #383838;\n",
       "                }\n",
       "                    \n",
       "                .geemap-dark .jupyter-button {\n",
       "                    --jp-layout-color3: #383838;\n",
       "                }\n",
       "                \n",
       "                .geemap-colab {\n",
       "                    background-color: var(--colab-primary-surface-color, white);\n",
       "                }\n",
       "                    \n",
       "                .geemap-colab .jupyter-button {\n",
       "                    --jp-layout-color3: var(--colab-primary-surface-color, white);\n",
       "                }\n",
       "            </style>\n",
       "            "
      ],
      "text/plain": [
       "<IPython.core.display.HTML object>"
      ]
     },
     "metadata": {},
     "output_type": "display_data"
    }
   ],
   "source": [
    "# 특정 레이어 식별\n",
    "for layer in Map.layers:\n",
    "    if layer.name == 'Esri.WorldStreetMap':\n",
    "        # 해당 레이어 제거\n",
    "        Map.remove_layer(layer)\n",
    "        break"
   ]
  },
  {
   "cell_type": "code",
   "execution_count": 13,
   "id": "e9e38a46-ba80-4be8-90b5-04b88a44ad16",
   "metadata": {},
   "outputs": [
    {
     "data": {
      "text/html": [
       "\n",
       "            <style>\n",
       "                .geemap-dark {\n",
       "                    --jp-widgets-color: white;\n",
       "                    --jp-widgets-label-color: white;\n",
       "                    --jp-ui-font-color1: white;\n",
       "                    --jp-layout-color2: #454545;\n",
       "                    background-color: #383838;\n",
       "                }\n",
       "                    \n",
       "                .geemap-dark .jupyter-button {\n",
       "                    --jp-layout-color3: #383838;\n",
       "                }\n",
       "                \n",
       "                .geemap-colab {\n",
       "                    background-color: var(--colab-primary-surface-color, white);\n",
       "                }\n",
       "                    \n",
       "                .geemap-colab .jupyter-button {\n",
       "                    --jp-layout-color3: var(--colab-primary-surface-color, white);\n",
       "                }\n",
       "            </style>\n",
       "            "
      ],
      "text/plain": [
       "<IPython.core.display.HTML object>"
      ]
     },
     "metadata": {},
     "output_type": "display_data"
    },
    {
     "name": "stdout",
     "output_type": "stream",
     "text": [
      "Esri.WorldTopoMap\n",
      "Vworld Base\n",
      "Vworld Satellite\n",
      "Vworld Hybrid\n",
      "Vworld White\n",
      "Vworld Midnight\n"
     ]
    }
   ],
   "source": [
    "# Map 객체에 포함된 모든 레이어 이름 출력\n",
    "for layer in Map.layers:\n",
    "    print(layer.name)"
   ]
  },
  {
   "cell_type": "code",
   "execution_count": 14,
   "id": "229bcdcf-6b06-42e0-9daf-f796dba46ad1",
   "metadata": {},
   "outputs": [
    {
     "data": {
      "text/html": [
       "\n",
       "            <style>\n",
       "                .geemap-dark {\n",
       "                    --jp-widgets-color: white;\n",
       "                    --jp-widgets-label-color: white;\n",
       "                    --jp-ui-font-color1: white;\n",
       "                    --jp-layout-color2: #454545;\n",
       "                    background-color: #383838;\n",
       "                }\n",
       "                    \n",
       "                .geemap-dark .jupyter-button {\n",
       "                    --jp-layout-color3: #383838;\n",
       "                }\n",
       "                \n",
       "                .geemap-colab {\n",
       "                    background-color: var(--colab-primary-surface-color, white);\n",
       "                }\n",
       "                    \n",
       "                .geemap-colab .jupyter-button {\n",
       "                    --jp-layout-color3: var(--colab-primary-surface-color, white);\n",
       "                }\n",
       "            </style>\n",
       "            "
      ],
      "text/plain": [
       "<IPython.core.display.HTML object>"
      ]
     },
     "metadata": {},
     "output_type": "display_data"
    }
   ],
   "source": [
    "from ipyleaflet import TileLayer\n",
    "\n",
    "# Vworld 영상지도 객체\n",
    "Vworld_Satellite = TileLayer(\n",
    "    url='https://xdworld.vworld.kr/2d/Satellite/service/{z}/{x}/{y}.jpeg',\n",
    "    name='Vworld Satellite',\n",
    "    attribution='Vworld',\n",
    ")\n",
    "\n",
    "# Vworld 하이브리드지도 객체\n",
    "Vworld_Hybrid = TileLayer(\n",
    "    url='https://xdworld.vworld.kr/2d/Hybrid/service/{z}/{x}/{y}.png',\n",
    "    name='Vworld Hybrid',\n",
    "    attribution='Vworld',\n",
    ")"
   ]
  },
  {
   "cell_type": "code",
   "execution_count": 15,
   "id": "cc6dd714-ec85-482f-bb0f-a5021b95f24b",
   "metadata": {},
   "outputs": [
    {
     "data": {
      "text/html": [
       "\n",
       "            <style>\n",
       "                .geemap-dark {\n",
       "                    --jp-widgets-color: white;\n",
       "                    --jp-widgets-label-color: white;\n",
       "                    --jp-ui-font-color1: white;\n",
       "                    --jp-layout-color2: #454545;\n",
       "                    background-color: #383838;\n",
       "                }\n",
       "                    \n",
       "                .geemap-dark .jupyter-button {\n",
       "                    --jp-layout-color3: #383838;\n",
       "                }\n",
       "                \n",
       "                .geemap-colab {\n",
       "                    background-color: var(--colab-primary-surface-color, white);\n",
       "                }\n",
       "                    \n",
       "                .geemap-colab .jupyter-button {\n",
       "                    --jp-layout-color3: var(--colab-primary-surface-color, white);\n",
       "                }\n",
       "            </style>\n",
       "            "
      ],
      "text/plain": [
       "<IPython.core.display.HTML object>"
      ]
     },
     "metadata": {},
     "output_type": "display_data"
    },
    {
     "data": {
      "application/vnd.jupyter.widget-view+json": {
       "model_id": "2dc67076ad42477eb58e5c2ae170bb7a",
       "version_major": 2,
       "version_minor": 0
      },
      "text/plain": [
       "Map(center=[35.3236, 127.6366], controls=(WidgetControl(options=['position', 'transparent_bg'], widget=SearchD…"
      ]
     },
     "execution_count": 15,
     "metadata": {},
     "output_type": "execute_result"
    }
   ],
   "source": [
    "Map = geemap.Map(center=[35.3236, 127.6366], zoom=11)\n",
    "Map.add_layer(Vworld_Satellite)\n",
    "Map.add_layer(Vworld_Hybrid)\n",
    "Map"
   ]
  },
  {
   "cell_type": "code",
   "execution_count": null,
   "id": "9aede96f-0dc0-4100-af71-04a1ef53509a",
   "metadata": {},
   "outputs": [],
   "source": []
  }
 ],
 "metadata": {
  "kernelspec": {
   "display_name": "Python 3 (ipykernel)",
   "language": "python",
   "name": "python3"
  },
  "language_info": {
   "codemirror_mode": {
    "name": "ipython",
    "version": 3
   },
   "file_extension": ".py",
   "mimetype": "text/x-python",
   "name": "python",
   "nbconvert_exporter": "python",
   "pygments_lexer": "ipython3",
   "version": "3.12.0"
  }
 },
 "nbformat": 4,
 "nbformat_minor": 5
}
