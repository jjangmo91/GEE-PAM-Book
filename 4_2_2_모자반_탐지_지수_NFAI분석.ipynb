{
  "nbformat": 4,
  "nbformat_minor": 0,
  "metadata": {
    "colab": {
      "provenance": [],
      "authorship_tag": "ABX9TyOti4r+xyrafA9O+Q5CHrgB",
      "include_colab_link": true
    },
    "kernelspec": {
      "name": "python3",
      "display_name": "Python 3"
    },
    "language_info": {
      "name": "python"
    }
  },
  "cells": [
    {
      "cell_type": "markdown",
      "metadata": {
        "id": "view-in-github",
        "colab_type": "text"
      },
      "source": [
        "<a href=\"https://colab.research.google.com/github/jjangmo91/GEE-PAM-Book/blob/main/4_2_2_%EB%AA%A8%EC%9E%90%EB%B0%98_%ED%83%90%EC%A7%80_%EC%A7%80%EC%88%98_NFAI%EB%B6%84%EC%84%9D.ipynb\" target=\"_parent\"><img src=\"https://colab.research.google.com/assets/colab-badge.svg\" alt=\"Open In Colab\"/></a>"
      ]
    },
    {
      "cell_type": "code",
      "source": [
        "!pip install -q leafmap[raster]"
      ],
      "metadata": {
        "id": "MZCzpZKjCUO_"
      },
      "execution_count": null,
      "outputs": []
    },
    {
      "cell_type": "code",
      "execution_count": null,
      "metadata": {
        "id": "iYNo0P1_O_lS"
      },
      "outputs": [],
      "source": [
        "import ee, geemap\n",
        "import requests, os\n",
        "import xarray as xr\n",
        "import numpy as np\n",
        "import leafmap\n",
        "import rioxarray\n",
        "import matplotlib\n",
        "from shapely.geometry import shape\n",
        "from pathlib import Path\n",
        "from datetime import datetime\n",
        "\n",
        "# Earth Engine 인증\n",
        "ee.Authenticate()\n",
        "# Earth Engine 초기화\n",
        "ee.Initialize(project='ee-') # 본인 계정"
      ]
    },
    {
      "cell_type": "code",
      "source": [
        "# 관심지역\n",
        "wdpa = ee.FeatureCollection(\"WCMC/WDPA/current/polygons\")\n",
        "aoi = wdpa.filter(ee.Filter.eq('WDPAID', 180)).first()\n",
        "\n",
        "# 20km 버퍼\n",
        "buffer_km = 20\n",
        "geom_buf = aoi.geometry().buffer(buffer_km * 1000)\n",
        "\n",
        "# bbox 계산(서, 동, 남, 북)\n",
        "bounds = geom_buf.bounds().getInfo()\n",
        "bbox_poly = shape(bounds)\n",
        "west, south, east, north = bbox_poly.bounds\n",
        "print(\"BBOX:\", west, east, south, north)"
      ],
      "metadata": {
        "id": "zAKdiVghB-mS"
      },
      "execution_count": null,
      "outputs": []
    },
    {
      "cell_type": "code",
      "source": [
        "# NCSS (NetCDF Subset Service) request URL\n",
        "NCSS_URL = \"https://tds-odatis.aviso.altimetry.fr/thredds/ncss/grid/dataset-sargassum-cls-merged-msi-oli-global-lr\"\n",
        "# AVISO+ 인증\n",
        "USER = \"\" # 본인 계정\n",
        "PW = \"\" # 비밀번호\n",
        "\n",
        "# 영역\n",
        "BBOX = dict(north=north, south=south, east=east, west=west)\n",
        "\n",
        "# 기간\n",
        "YEAR, MONTH = 2024, 7\n",
        "time_start = f\"{YEAR}-{MONTH:02d}-01T00:00:00Z\"\n",
        "time_end = f\"{YEAR}-{MONTH:02d}-31T23:59:59Z\"\n",
        "\n",
        "# 변수\n",
        "VARS = [\"nfai_mean\",\"nfai_max\",\"nfai_min\",\"nfai_nbpts\"]"
      ],
      "metadata": {
        "id": "xtiIzVXGCM6e"
      },
      "execution_count": null,
      "outputs": []
    },
    {
      "cell_type": "code",
      "source": [
        "def fetch_ncss(url: str, out_path):\n",
        "    \"\"\"NCSS URL로 NetCDF 다운로드\"\"\"\n",
        "    params = {\n",
        "        \"var\": VARS,\n",
        "        \"north\": BBOX[\"north\"],\n",
        "        \"south\": BBOX[\"south\"],\n",
        "        \"east\": BBOX[\"east\"],\n",
        "        \"west\": BBOX[\"west\"],\n",
        "        \"horizStride\": 1,\n",
        "        \"time_start\": time_start,\n",
        "        \"time_end\": time_end,\n",
        "        \"accept\": \"netcdf4\",\n",
        "    }\n",
        "\n",
        "    with requests.Session() as s:\n",
        "        s.auth = (USER, PW)\n",
        "        r = s.get(url, params=params, timeout=180)\n",
        "        r.raise_for_status()\n",
        "        ctype = r.headers.get(\"Content-Type\", \"\")\n",
        "        if \"netcdf\" not in ctype.lower():\n",
        "            raise RuntimeError(f\"서버가NetCDF가아닌응답을반환했습니다: {ctype}\")\n",
        "        out_path.write_bytes(r.content)\n",
        "    return out_path"
      ],
      "metadata": {
        "id": "ekdCy-R7CxET"
      },
      "execution_count": null,
      "outputs": []
    },
    {
      "cell_type": "code",
      "source": [
        "nc_path = Path(f\"{YEAR}_{MONTH:02d}_nfai.nc\")\n",
        "saved = fetch_ncss(NCSS_URL, nc_path)\n",
        "print(f\"[저장완료] {saved}\")"
      ],
      "metadata": {
        "id": "KnmD9oguuuId"
      },
      "execution_count": null,
      "outputs": []
    },
    {
      "cell_type": "code",
      "source": [
        "# nc 열기\n",
        "ds = xr.open_dataset(nc_path, engine=\"h5netcdf\")\n",
        "print(\"=== Dataset 개요===\")\n",
        "print(ds)\n",
        "\n",
        "# 시간차원\n",
        "time_dim = None\n",
        "for cand in [\"time\", \"Time\", \"t\"]:\n",
        "    if cand in ds.dims:\n",
        "        time_dim = cand\n",
        "        break\n",
        "\n",
        "if time_dim:\n",
        "    n_layers = ds.sizes[time_dim]\n",
        "    print(f\"\\n이파일에는총{n_layers}개의시간레이어가있습니다.\")\n",
        "    print(\"시간목록:\", ds[time_dim].values)\n",
        "else:\n",
        "    print(\"\\n이파일에는시간차원이없습니다.\")\n",
        "ds.close()"
      ],
      "metadata": {
        "id": "SnEKZOCODFOe"
      },
      "execution_count": null,
      "outputs": []
    },
    {
      "cell_type": "code",
      "source": [
        "# 날짜\n",
        "date_str = \"2024-07-01\"\n",
        "date = np.datetime64(date_str)\n",
        "# 변수\n",
        "var_name = \"nfai_mean\"\n",
        "with xr.open_dataset(nc_path, engine=\"h5netcdf\") as ds:\n",
        "    # 모자반이없는픽셀은-0.5 값으로설정\n",
        "    nodata = float(ds[var_name].attrs.get(\"_FillValue\", -0.5))\n",
        "    da = (\n",
        "        ds[var_name].sel(time=date)\n",
        "        .where(lambda x: x != nodata)\n",
        "        .rename(latitude=\"y\", longitude=\"x\")\n",
        "        .sortby(\"y\", ascending=False)\n",
        "        .rio.write_crs(\"EPSG:4326\")\n",
        "        .rio.write_nodata(nodata)\n",
        "        .fillna(nodata)\n",
        "        .load()\n",
        "    )\n",
        "tif_path = Path(f\"nfai_{date_str}_{datetime.now():%H%M%S}.tif\")\n",
        "da.rio.to_raster(tif_path)\n",
        "print(\"saved:\", tif_path)"
      ],
      "metadata": {
        "id": "ZDC-AdrQEKSI"
      },
      "execution_count": null,
      "outputs": []
    },
    {
      "cell_type": "code",
      "source": [
        "# vmin/vmax 계산\n",
        "valid = da.where(da != nodata)\n",
        "vmin = float(valid.quantile(0.02))\n",
        "vmax = float(valid.quantile(0.98))\n",
        "\n",
        "# 중심좌표\n",
        "lat_c = float(da[\"y\"].mean())\n",
        "lon_c = float(da[\"x\"].mean())\n",
        "\n",
        "# 지도생성\n",
        "m = leafmap.Map(width=\"700px\", height=\"400px\", center=(lat_c, lon_c), zoom=10)\n",
        "m.add_basemap(\"Esri.WorldImagery\")\n",
        "m.add_raster(\n",
        "    str(tif_path),\n",
        "    colormap=\"viridis\",\n",
        "    vmin=vmin, vmax=vmax,\n",
        "    nodata=nodata,\n",
        "    opacity=1.0,\n",
        "    layer_name=f\"{var_name} {date_str}\",\n",
        "    zoom_to_layer=False,\n",
        ")\n",
        "m.add_colormap(\"viridis\", vmin=vmin, vmax=vmax, label=var_name)\n",
        "m"
      ],
      "metadata": {
        "id": "vzBJvRIwve5O"
      },
      "execution_count": null,
      "outputs": []
    }
  ]
}