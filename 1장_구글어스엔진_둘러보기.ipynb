{
  "cells": [
    {
      "cell_type": "markdown",
      "metadata": {
        "id": "view-in-github",
        "colab_type": "text"
      },
      "source": [
        "<a href=\"https://colab.research.google.com/github/jjangmo91/GEE-PAM-Book/blob/main/1%EC%9E%A5_%EA%B5%AC%EA%B8%80%EC%96%B4%EC%8A%A4%EC%97%94%EC%A7%84_%EB%91%98%EB%9F%AC%EB%B3%B4%EA%B8%B0.ipynb\" target=\"_parent\"><img src=\"https://colab.research.google.com/assets/colab-badge.svg\" alt=\"Open In Colab\"/></a>"
      ]
    },
    {
      "cell_type": "markdown",
      "id": "ee622536-a80f-420f-ab8c-86c5ab5f89e8",
      "metadata": {
        "id": "ee622536-a80f-420f-ab8c-86c5ab5f89e8"
      },
      "source": [
        "# 1장. 구글어스엔진 둘러보기\n",
        "\n",
        "## 1.1. 어스엔진 인증 및 초기화\n",
        "\n",
        "### 1.1.1. 패키지 정보 출력"
      ]
    },
    {
      "cell_type": "code",
      "execution_count": null,
      "id": "49fa81f9-75e7-4973-a952-5bdeacafee8e",
      "metadata": {
        "id": "49fa81f9-75e7-4973-a952-5bdeacafee8e"
      },
      "outputs": [],
      "source": [
        "# ee와 geemap 패키지 정보 출력\n",
        "!pip list | grep -E 'earthengine-api|geemap'"
      ]
    },
    {
      "cell_type": "markdown",
      "source": [
        "### 1.1.2. 어스엔진 인증 및 초기화"
      ],
      "metadata": {
        "id": "TyG7jFxzV2Pc"
      },
      "id": "TyG7jFxzV2Pc"
    },
    {
      "cell_type": "code",
      "execution_count": null,
      "id": "bb7eb04b-c8f5-4017-a9ed-1c392798af41",
      "metadata": {
        "id": "bb7eb04b-c8f5-4017-a9ed-1c392798af41"
      },
      "outputs": [],
      "source": [
        "# Earth Engine Python API 호출\n",
        "import ee\n",
        "\n",
        "# Earth Engine 인증\n",
        "ee.Authenticate()\n",
        "\n",
        "# Earth Engine 초기화\n",
        "ee.Initialize(project='ee-foss4g')"
      ]
    },
    {
      "cell_type": "markdown",
      "id": "404eeae6-326c-4135-b786-0adea1c0c73f",
      "metadata": {
        "id": "404eeae6-326c-4135-b786-0adea1c0c73f"
      },
      "source": [
        "## 1.2. 대화형 지도 생성\n",
        "\n",
        "### 1.2.1. 지도 객체 생성"
      ]
    },
    {
      "cell_type": "code",
      "execution_count": null,
      "id": "f22910cb-f6bd-4ebe-869d-2a70c631aacf",
      "metadata": {
        "id": "f22910cb-f6bd-4ebe-869d-2a70c631aacf"
      },
      "outputs": [],
      "source": [
        "import geemap\n",
        "\n",
        "# 지도 객체 생성\n",
        "m = geemap.Map()\n",
        "m"
      ]
    },
    {
      "cell_type": "markdown",
      "id": "16937717-a63d-42d7-88e4-7bd0f81e2a60",
      "metadata": {
        "id": "16937717-a63d-42d7-88e4-7bd0f81e2a60"
      },
      "source": [
        "### 1.2.2. 지도 객체 설정"
      ]
    },
    {
      "cell_type": "code",
      "execution_count": null,
      "id": "f2d997af-737e-4150-887d-6cca5555ad1f",
      "metadata": {
        "id": "f2d997af-737e-4150-887d-6cca5555ad1f"
      },
      "outputs": [],
      "source": [
        "m = geemap.Map(center=[35.3236, 127.6366], # 중앙 좌표\n",
        "                 zoom=11, # 확대/축소 수준\n",
        "                 layout={'height':'400px', 'width':'800px'}) # 지도 높이/너비\n",
        "m"
      ]
    },
    {
      "cell_type": "markdown",
      "id": "4078e03b-d67a-45b5-bda3-9e08da75637e",
      "metadata": {
        "id": "4078e03b-d67a-45b5-bda3-9e08da75637e"
      },
      "source": [
        "### 1.2.3. 배경지도 설정"
      ]
    },
    {
      "cell_type": "code",
      "execution_count": null,
      "id": "4912fe1a-b76b-4005-bee1-6490ec8620c3",
      "metadata": {
        "id": "4912fe1a-b76b-4005-bee1-6490ec8620c3"
      },
      "outputs": [],
      "source": [
        "m = geemap.Map(center=[35.3236, 127.6366], # 중앙 좌표\n",
        "                 zoom=11, # 확대/축소 수준\n",
        "                 layout={'height':'400px', 'width':'800px'}, # 지도 높이/너비\n",
        "                 basemap='Esri.WorldTopoMap') # 배경지도\n",
        "m"
      ]
    },
    {
      "cell_type": "code",
      "execution_count": null,
      "id": "2f8ca8b0-9ec7-4d17-89f3-ec76a37268cc",
      "metadata": {
        "id": "2f8ca8b0-9ec7-4d17-89f3-ec76a37268cc"
      },
      "outputs": [],
      "source": [
        "# 배경지도 목록 출력\n",
        "for basemap in geemap.basemaps.keys():\n",
        "    print(basemap)"
      ]
    },
    {
      "cell_type": "code",
      "execution_count": null,
      "id": "5ac0390c-5983-4f69-b92d-88f4d3b40d20",
      "metadata": {
        "id": "5ac0390c-5983-4f69-b92d-88f4d3b40d20"
      },
      "outputs": [],
      "source": [
        "# 배경지도 개수 출력\n",
        "len(geemap.basemaps)"
      ]
    },
    {
      "cell_type": "code",
      "source": [
        "# 배경지도 설정\n",
        "m = geemap.Map(center=[35.3236, 127.6366], # 중앙 좌표\n",
        "                 zoom=11, # 확대/축소 수준\n",
        "                 layout={'height':'400px', 'width':'800px'})\n",
        "m.add_basemap(\"ESA Worldcover 2021 S2 FCC\")\n",
        "m.add_basemap(\"ESA Worldcover 2021 S2 TCC\")\n",
        "m.add_basemap(\"ESA Worldcover 2021\")\n",
        "m"
      ],
      "metadata": {
        "id": "6pR2QeJvQs2y"
      },
      "id": "6pR2QeJvQs2y",
      "execution_count": null,
      "outputs": []
    },
    {
      "cell_type": "markdown",
      "source": [
        "### 1.2.4. Vworld 배경지도 설정"
      ],
      "metadata": {
        "id": "F05oi3WAdr6c"
      },
      "id": "F05oi3WAdr6c"
    },
    {
      "cell_type": "code",
      "execution_count": null,
      "id": "229bcdcf-6b06-42e0-9daf-f796dba46ad1",
      "metadata": {
        "id": "229bcdcf-6b06-42e0-9daf-f796dba46ad1"
      },
      "outputs": [],
      "source": [
        "from ipyleaflet import TileLayer\n",
        "\n",
        "# Vworld 배경지도 객체\n",
        "Vworld_Base = TileLayer(\n",
        "    url='https://xdworld.vworld.kr/2d/Base/service/{z}/{x}/{y}.png',\n",
        "    name='Vworld Base',\n",
        "    attribution='Vworld'\n",
        ")\n",
        "# Vworld 영상지도 객체\n",
        "Vworld_Satellite = TileLayer(\n",
        "    url='https://xdworld.vworld.kr/2d/Satellite/service/{z}/{x}/{y}.jpeg',\n",
        "    name='Vworld Satellite',\n",
        "    attribution='Vworld'\n",
        ")\n",
        "# Vworld 하이브리드지도 객체\n",
        "Vworld_Hybrid = TileLayer(\n",
        "    url='https://xdworld.vworld.kr/2d/Hybrid/service/{z}/{x}/{y}.png',\n",
        "    name='Vworld Hybrid',\n",
        "    attribution='Vworld'\n",
        ")\n",
        "# Vworld 백지도 객체\n",
        "Vworld_White = TileLayer(\n",
        "    url='https://xdworld.vworld.kr/2d/white/service/{z}/{x}/{y}.png',\n",
        "    name='Vworld White',\n",
        "    attribution='Vworld'\n",
        ")\n",
        "# Vworld Midnight지도 객체\n",
        "Vworld_Midnight = TileLayer(\n",
        "    url='https://xdworld.vworld.kr/2d/midnight/service/{z}/{x}/{y}.png',\n",
        "    name='Vworld Midnight',\n",
        "    attribution='Vworld'\n",
        ")"
      ]
    },
    {
      "cell_type": "code",
      "source": [
        "m = geemap.Map(center=[35.3236, 127.6366], # 중앙 좌표\n",
        "               zoom=11, # 확대/축소 수준\n",
        "               layout={'height':'400px', 'width':'800px'}) # 지도 높이/너비\n",
        "m.add_layer(Vworld_Midnight)\n",
        "m.add_layer(Vworld_White)\n",
        "m.add_layer(Vworld_Base)\n",
        "m.add_layer(Vworld_Satellite)\n",
        "m.add_layer(Vworld_Hybrid)\n",
        "m"
      ],
      "metadata": {
        "id": "YOQ-UhkhS46J"
      },
      "id": "YOQ-UhkhS46J",
      "execution_count": null,
      "outputs": []
    },
    {
      "cell_type": "markdown",
      "source": [
        "## 1.3. Python 프로그래밍 기초\n",
        "### 1.3.1. 자료형과 변수"
      ],
      "metadata": {
        "id": "_JsA-X815-VL"
      },
      "id": "_JsA-X815-VL"
    },
    {
      "cell_type": "code",
      "source": [
        "# 변수(Variable) & 리터럴(Literal)\n",
        "a = 2\n",
        "a = a + 1\n",
        "#a"
      ],
      "metadata": {
        "id": "5D8GQr5NpoNd"
      },
      "id": "5D8GQr5NpoNd",
      "execution_count": null,
      "outputs": []
    },
    {
      "cell_type": "code",
      "source": [
        "# 숫자(Number)\n",
        "a = 1992 # 정수형(int)\n",
        "b = 7.31 # 실수형(float)\n",
        "\n",
        "#a + b\n",
        "#a * b\n",
        "#ab\n",
        "#type(a)"
      ],
      "metadata": {
        "id": "UJ-f7UM76d0W"
      },
      "id": "UJ-f7UM76d0W",
      "execution_count": null,
      "outputs": []
    },
    {
      "cell_type": "code",
      "source": [
        "# 문자열(String)\n",
        "s1 = \"ParkLab Data Science\"\n",
        "s2 = \"2025\"\n",
        "s3 = '''I want to learn about nature\n",
        "through data science.'''\n",
        "\n",
        "#s1 + s2\n",
        "#s1 * s2\n",
        "#s1 * 5\n",
        "#print(s3)"
      ],
      "metadata": {
        "id": "xUvYJPjw6dpE"
      },
      "id": "xUvYJPjw6dpE",
      "execution_count": null,
      "outputs": []
    },
    {
      "cell_type": "code",
      "source": [
        "# 문자열 인덱싱(indexing)\n",
        "#s1[3]\n",
        "#s1[-1]\n",
        "\n",
        "# 문자열 슬라이싱(slicing)\n",
        "#s3[0] + s3[1] + s3[2] + s3[3] + s3[4] + s3[5]\n",
        "#s3[0:5]\n",
        "#goal = s3[7:]\n",
        "#goal\n",
        "\n",
        "# 문자열 포매팅(formatting)\n",
        "#temp = 11.7\n",
        "#mt = \"Bukhansan\"\n",
        "#\"The mean temperature of %s today is %s\" %(mt, temp)\n",
        "#\"The mean temperature of {} today is {}\".format(mt, temp)"
      ],
      "metadata": {
        "id": "yuOyDyUH6dm2"
      },
      "id": "yuOyDyUH6dm2",
      "execution_count": null,
      "outputs": []
    },
    {
      "cell_type": "code",
      "source": [
        "# 리스트(List)\n",
        "l1 = []\n",
        "l2 = [1, 2, 3]\n",
        "l3 = ['Songnisan', 'Odaesan', 'Jirisan']\n",
        "l4 = [1, 2, 'Songnisan', 'Odaesan', 'Jirisan']\n",
        "l5 = [1, 2, ['Songnisan', 'Odaesan', 'Jirisan']]\n",
        "\n",
        "#l5[2][2] # list indexing\n",
        "#l5[1:3] # list slicing\n",
        "#l5[2][0] = 'Hallasan'\n",
        "#l5"
      ],
      "metadata": {
        "id": "cQJDgFMY6dh6"
      },
      "id": "cQJDgFMY6dh6",
      "execution_count": null,
      "outputs": []
    },
    {
      "cell_type": "code",
      "source": [
        "# 튜플(Tuple)\n",
        "t1 = ()\n",
        "t2 = (1, )\n",
        "t3 = 'Songnisan', 'Odaesan', 'Jirisan'\n",
        "t4 = (1, 2, 'Songnisan', 'Odaesan', 'Jirisan')\n",
        "t5 = 1, 2, ('Songnisan', 'Odaesan', 'Jirisan')\n",
        "\n",
        "#t5[2][2] # tuple indexing\n",
        "#t5[1:3] # tuple slicing\n",
        "#t5[2][0] = 'Hallasan'"
      ],
      "metadata": {
        "id": "lR4HoSyI6dfP"
      },
      "id": "lR4HoSyI6dfP",
      "execution_count": null,
      "outputs": []
    },
    {
      "cell_type": "code",
      "source": [
        "# 딕셔너리(Dictionary)\n",
        "국립공원 = {'사무소':'한려해상', '면적':510, '깃대종':'팔색조'}\n",
        "#국립공원['사무소']\n",
        "#국립공원[2]"
      ],
      "metadata": {
        "id": "2OM1IoX-6dci"
      },
      "id": "2OM1IoX-6dci",
      "execution_count": null,
      "outputs": []
    },
    {
      "cell_type": "code",
      "source": [
        "# 집합(Set)\n",
        "설악산 = {\"반달가슴곰\", \"고라니\", \"산양\"}\n",
        "월악산 = set([\"산양\", \"노루\", \"멧돼지\"])\n",
        "# 설악산\n",
        "# 월악산\n",
        "# 설악산 & 월악산"
      ],
      "metadata": {
        "id": "Ki8BrRqy6dTm"
      },
      "id": "Ki8BrRqy6dTm",
      "execution_count": null,
      "outputs": []
    },
    {
      "cell_type": "code",
      "source": [
        "# 불(bool)\n",
        "a = True\n",
        "b = False\n",
        "\n",
        "#type(a)\n",
        "#1 == 2"
      ],
      "metadata": {
        "id": "IbNo9eH-1xWC"
      },
      "id": "IbNo9eH-1xWC",
      "execution_count": null,
      "outputs": []
    },
    {
      "cell_type": "markdown",
      "source": [
        "### 1.3.2. 제어문"
      ],
      "metadata": {
        "id": "Oa8Qzc9A5-Rx"
      },
      "id": "Oa8Qzc9A5-Rx"
    },
    {
      "cell_type": "code",
      "source": [
        "# 조건문 if / elif / else\n",
        "population = 45 # 개체수 설정\n",
        "\n",
        "# 조건문을 통해 보호 상태 평가\n",
        "if population < 30:\n",
        "  print(f\"반달곰 개체수가 {population} 마리로, 긴급 보호 조치가 필요합니다.\")\n",
        "elif population < 100:\n",
        "  print(f\"반달곰 개체수가 {population} 마리로, 추가 모니터링 및 보호 정책이 요구됩니다.\")\n",
        "else:\n",
        "  print(f\"반달곰 개체수가 {population} 마리로 양호한 상태입니다.\")"
      ],
      "metadata": {
        "id": "Wa1z_GCv6xyk",
        "outputId": "ec227d79-69e3-4d0a-ea30-9251706b9053",
        "colab": {
          "base_uri": "https://localhost:8080/"
        }
      },
      "id": "Wa1z_GCv6xyk",
      "execution_count": 1,
      "outputs": [
        {
          "output_type": "stream",
          "name": "stdout",
          "text": [
            "반달곰 개체수가 45 마리로 부족한 수준입니다. 추가 모니터링 및 보호 정책이 요구됩니다.\n"
          ]
        }
      ]
    },
    {
      "cell_type": "code",
      "source": [
        "# 반복문 while\n",
        "population = 45 # 초기 개체수 설정\n",
        "\n",
        "# while문: population이 150 미만인 동안 반복\n",
        "while population < 150:\n",
        "  print(f\"현재 반달곰 개체수: {population}마리\")\n",
        "  population = population + 20 # 매 반복마다 20마리씩 증가\n",
        "\n",
        "print(\"반달곰 개체수가 150마리에 도달했습니다.\")"
      ],
      "metadata": {
        "id": "zBEgOTrSctoP",
        "outputId": "ab3b4287-9e4e-44b4-8c7a-0aded4302d22",
        "colab": {
          "base_uri": "https://localhost:8080/"
        }
      },
      "id": "zBEgOTrSctoP",
      "execution_count": 4,
      "outputs": [
        {
          "output_type": "stream",
          "name": "stdout",
          "text": [
            "현재 반달곰 개체수: 45마리\n",
            "현재 반달곰 개체수: 65마리\n",
            "현재 반달곰 개체수: 85마리\n",
            "현재 반달곰 개체수: 105마리\n",
            "현재 반달곰 개체수: 125마리\n",
            "현재 반달곰 개체수: 145마리\n",
            "반달곰 개체수가 150마리에 도달했습니다.\n"
          ]
        }
      ]
    },
    {
      "cell_type": "code",
      "source": [
        "# 반복문 for\n",
        "initial_population = 30\n",
        "growth = 20\n",
        "steps = 5\n",
        "\n",
        "for i in range(steps):\n",
        "  print(f\"{i+1}단계: 반달곰 개체수 {initial_population + growth*i}마리\")"
      ],
      "metadata": {
        "id": "ivwd9f2LcuA_",
        "outputId": "5e99ce4e-3af6-4187-d16d-13fbd8919d25",
        "colab": {
          "base_uri": "https://localhost:8080/"
        }
      },
      "id": "ivwd9f2LcuA_",
      "execution_count": 17,
      "outputs": [
        {
          "output_type": "stream",
          "name": "stdout",
          "text": [
            "1단계: 반달곰 개체수 30마리\n",
            "2단계: 반달곰 개체수 50마리\n",
            "3단계: 반달곰 개체수 70마리\n",
            "4단계: 반달곰 개체수 90마리\n",
            "5단계: 반달곰 개체수 110마리\n"
          ]
        }
      ]
    },
    {
      "cell_type": "markdown",
      "source": [
        "### 1.3.3. 함수와 입출력\n",
        "함수 정의와 호출\n",
        "매개변수, 기본값 인자, 가변 인자, 키워드 인자\n",
        "람다 함수\n",
        "기본 입출력: print, input\n",
        "간단한 파일 입출력 (필요 시)\n",
        "\n",
        "함수의 재사용성과 모듈화의 중요성\n",
        "함수 내에서의 변수 스코프와 반환값 처리"
      ],
      "metadata": {
        "id": "gBRMY8wS5-PH"
      },
      "id": "gBRMY8wS5-PH"
    },
    {
      "cell_type": "code",
      "source": [],
      "metadata": {
        "id": "34qyuTg-6yHP"
      },
      "id": "34qyuTg-6yHP",
      "execution_count": null,
      "outputs": []
    },
    {
      "cell_type": "markdown",
      "source": [
        "### 1.3.4. 클래스, 모듈, 패키지, 내장함수, 라이브러리\n",
        "객체지향 프로그래밍: 클래스, 인스턴스, 메서드, 생성자(init)\n",
        "모듈 및 패키지의 개념과 사용법 (import 문법)\n",
        "내장함수의 활용 (예: len, max, min, sum 등)\n",
        "기본적으로 자주 사용하는 라이브러리 소개\n",
        "Python의 모듈화 구조와 확장성\n",
        "내장함수와 표준 라이브러리의 효율적 활용 방안"
      ],
      "metadata": {
        "id": "BNqIMrBs5-F2"
      },
      "id": "BNqIMrBs5-F2"
    },
    {
      "cell_type": "code",
      "source": [],
      "metadata": {
        "id": "G1ZImGwj6ybS"
      },
      "id": "G1ZImGwj6ybS",
      "execution_count": null,
      "outputs": []
    }
  ],
  "metadata": {
    "kernelspec": {
      "display_name": "Python 3 (ipykernel)",
      "language": "python",
      "name": "python3"
    },
    "language_info": {
      "codemirror_mode": {
        "name": "ipython",
        "version": 3
      },
      "file_extension": ".py",
      "mimetype": "text/x-python",
      "name": "python",
      "nbconvert_exporter": "python",
      "pygments_lexer": "ipython3",
      "version": "3.12.1"
    },
    "colab": {
      "provenance": [],
      "include_colab_link": true
    }
  },
  "nbformat": 4,
  "nbformat_minor": 5
}