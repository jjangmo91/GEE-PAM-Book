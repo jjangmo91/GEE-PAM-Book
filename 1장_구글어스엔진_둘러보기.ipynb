{
  "cells": [
    {
      "cell_type": "markdown",
      "metadata": {
        "id": "view-in-github",
        "colab_type": "text"
      },
      "source": [
        "<a href=\"https://colab.research.google.com/github/jjangmo91/GEE-PAM-Book/blob/main/1%EC%9E%A5_%EA%B5%AC%EA%B8%80%EC%96%B4%EC%8A%A4%EC%97%94%EC%A7%84_%EB%91%98%EB%9F%AC%EB%B3%B4%EA%B8%B0.ipynb\" target=\"_parent\"><img src=\"https://colab.research.google.com/assets/colab-badge.svg\" alt=\"Open In Colab\"/></a>"
      ]
    },
    {
      "cell_type": "markdown",
      "id": "ee622536-a80f-420f-ab8c-86c5ab5f89e8",
      "metadata": {
        "id": "ee622536-a80f-420f-ab8c-86c5ab5f89e8"
      },
      "source": [
        "# 1장. 구글어스엔진 둘러보기\n",
        "\n",
        "## 1.1. 어스엔진 인증 및 초기화\n",
        "\n",
        "### 1.1.1. 패키지 정보 출력"
      ]
    },
    {
      "cell_type": "code",
      "execution_count": null,
      "id": "49fa81f9-75e7-4973-a952-5bdeacafee8e",
      "metadata": {
        "id": "49fa81f9-75e7-4973-a952-5bdeacafee8e"
      },
      "outputs": [],
      "source": [
        "# ee와 geemap 패키지 정보 출력\n",
        "!pip list | grep -E 'earthengine-api|geemap'"
      ]
    },
    {
      "cell_type": "markdown",
      "source": [
        "### 1.1.2. 어스엔진 인증 및 초기화"
      ],
      "metadata": {
        "id": "TyG7jFxzV2Pc"
      },
      "id": "TyG7jFxzV2Pc"
    },
    {
      "cell_type": "code",
      "execution_count": null,
      "id": "bb7eb04b-c8f5-4017-a9ed-1c392798af41",
      "metadata": {
        "id": "bb7eb04b-c8f5-4017-a9ed-1c392798af41"
      },
      "outputs": [],
      "source": [
        "# Earth Engine Python API 호출\n",
        "import ee\n",
        "\n",
        "# Earth Engine 인증\n",
        "ee.Authenticate()\n",
        "\n",
        "# Earth Engine 초기화\n",
        "ee.Initialize(project='ee-foss4g')"
      ]
    },
    {
      "cell_type": "markdown",
      "id": "404eeae6-326c-4135-b786-0adea1c0c73f",
      "metadata": {
        "id": "404eeae6-326c-4135-b786-0adea1c0c73f"
      },
      "source": [
        "## 1.2. 대화형 지도 생성\n",
        "\n",
        "### 1.2.1. 지도 객체 생성"
      ]
    },
    {
      "cell_type": "code",
      "execution_count": null,
      "id": "f22910cb-f6bd-4ebe-869d-2a70c631aacf",
      "metadata": {
        "id": "f22910cb-f6bd-4ebe-869d-2a70c631aacf"
      },
      "outputs": [],
      "source": [
        "import geemap\n",
        "\n",
        "# 지도 객체 생성\n",
        "m = geemap.Map()\n",
        "m"
      ]
    },
    {
      "cell_type": "markdown",
      "id": "16937717-a63d-42d7-88e4-7bd0f81e2a60",
      "metadata": {
        "id": "16937717-a63d-42d7-88e4-7bd0f81e2a60"
      },
      "source": [
        "### 1.2.2. 지도 객체 설정"
      ]
    },
    {
      "cell_type": "code",
      "execution_count": null,
      "id": "f2d997af-737e-4150-887d-6cca5555ad1f",
      "metadata": {
        "id": "f2d997af-737e-4150-887d-6cca5555ad1f"
      },
      "outputs": [],
      "source": [
        "m = geemap.Map(center=[35.3236, 127.6366], # 중앙 좌표\n",
        "                 zoom=11, # 확대/축소 수준\n",
        "                 layout={'height':'400px', 'width':'800px'}) # 지도 높이/너비\n",
        "m"
      ]
    },
    {
      "cell_type": "markdown",
      "id": "4078e03b-d67a-45b5-bda3-9e08da75637e",
      "metadata": {
        "id": "4078e03b-d67a-45b5-bda3-9e08da75637e"
      },
      "source": [
        "### 1.2.3. 배경지도 설정"
      ]
    },
    {
      "cell_type": "code",
      "execution_count": null,
      "id": "4912fe1a-b76b-4005-bee1-6490ec8620c3",
      "metadata": {
        "id": "4912fe1a-b76b-4005-bee1-6490ec8620c3"
      },
      "outputs": [],
      "source": [
        "m = geemap.Map(center=[35.3236, 127.6366], # 중앙 좌표\n",
        "                 zoom=11, # 확대/축소 수준\n",
        "                 layout={'height':'400px', 'width':'800px'}, # 지도 높이/너비\n",
        "                 basemap='Esri.WorldTopoMap') # 배경지도\n",
        "m"
      ]
    },
    {
      "cell_type": "code",
      "execution_count": null,
      "id": "2f8ca8b0-9ec7-4d17-89f3-ec76a37268cc",
      "metadata": {
        "id": "2f8ca8b0-9ec7-4d17-89f3-ec76a37268cc"
      },
      "outputs": [],
      "source": [
        "# 배경지도 목록 출력\n",
        "for basemap in geemap.basemaps.keys():\n",
        "    print(basemap)"
      ]
    },
    {
      "cell_type": "code",
      "execution_count": null,
      "id": "5ac0390c-5983-4f69-b92d-88f4d3b40d20",
      "metadata": {
        "id": "5ac0390c-5983-4f69-b92d-88f4d3b40d20"
      },
      "outputs": [],
      "source": [
        "# 배경지도 개수 출력\n",
        "len(geemap.basemaps)"
      ]
    },
    {
      "cell_type": "code",
      "source": [
        "'''\n",
        "배경지도 설정\n",
        "ESA Worldcover 2021\n",
        "ESA Worldcover 2021 S2 FCC\n",
        "ESA Worldcover 2021 S2 TCC\n",
        "'''"
      ],
      "metadata": {
        "id": "m4KQSQyFeug3"
      },
      "id": "m4KQSQyFeug3",
      "execution_count": null,
      "outputs": []
    },
    {
      "cell_type": "code",
      "source": [
        "esa_worldcover=ee.ImageCollection(\"ESA/WorldCover/v100\").first().select(\"Map\")\n",
        "vis_params_wc = {\n",
        "    \"min\": 0,\n",
        "    \"max\": 100,\n",
        "    \"palette\": [\"000000\", \"006400\", \"ffbb22\", \"ffff4c\", \"f096ff\", \"fa0000\", \"b4b4b4\", \"f0f0f0\", \"0064c8\", \"0096a0\", \"00cf75\", \"b2ff66\"]\n",
        "}\n",
        "m.addLayer(esa_worldcover, vis_params_wc, \"ESA WorldCover 2021\")\n",
        "m"
      ],
      "metadata": {
        "id": "Kv3SHHmrStVm"
      },
      "id": "Kv3SHHmrStVm",
      "execution_count": null,
      "outputs": []
    },
    {
      "cell_type": "markdown",
      "source": [
        "### 1.2.4. Vworld 배경지도 설정"
      ],
      "metadata": {
        "id": "F05oi3WAdr6c"
      },
      "id": "F05oi3WAdr6c"
    },
    {
      "cell_type": "code",
      "execution_count": null,
      "id": "229bcdcf-6b06-42e0-9daf-f796dba46ad1",
      "metadata": {
        "id": "229bcdcf-6b06-42e0-9daf-f796dba46ad1"
      },
      "outputs": [],
      "source": [
        "from ipyleaflet import TileLayer\n",
        "\n",
        "# Vworld 배경지도 객체\n",
        "Vworld_Base = TileLayer(\n",
        "    url='https://xdworld.vworld.kr/2d/Base/service/{z}/{x}/{y}.png',\n",
        "    name='Vworld Base',\n",
        "    attribution='Vworld'\n",
        ")\n",
        "# Vworld 영상지도 객체\n",
        "Vworld_Satellite = TileLayer(\n",
        "    url='https://xdworld.vworld.kr/2d/Satellite/service/{z}/{x}/{y}.jpeg',\n",
        "    name='Vworld Satellite',\n",
        "    attribution='Vworld'\n",
        ")\n",
        "# Vworld 하이브리드지도 객체\n",
        "Vworld_Hybrid = TileLayer(\n",
        "    url='https://xdworld.vworld.kr/2d/Hybrid/service/{z}/{x}/{y}.png',\n",
        "    name='Vworld Hybrid',\n",
        "    attribution='Vworld'\n",
        ")\n",
        "# Vworld 백지도 객체\n",
        "Vworld_White = TileLayer(\n",
        "    url='https://xdworld.vworld.kr/2d/white/service/{z}/{x}/{y}.png',\n",
        "    name='Vworld White',\n",
        "    attribution='Vworld'\n",
        ")\n",
        "# Vworld Midnight지도 객체\n",
        "Vworld_Midnight = TileLayer(\n",
        "    url='https://xdworld.vworld.kr/2d/midnight/service/{z}/{x}/{y}.png',\n",
        "    name='Vworld Midnight',\n",
        "    attribution='Vworld'\n",
        ")"
      ]
    },
    {
      "cell_type": "code",
      "source": [
        "# 첫 번째 지도 객체 생성\n",
        "m1 = Map(center=[35.3236, 127.6366], zoom=11)\n",
        "m1.add_layer(Vworld_Satellite)\n",
        "m1.add_layer(Vworld_Hybrid)\n",
        "\n",
        "# 두 번째 지도 객체 생성\n",
        "m2 = Map(center=[37.1796, 129.0756], zoom=11)\n",
        "m2.add_layer(Vworld_Satellite)\n",
        "m2.add_layer(Vworld_Hybrid)\n",
        "\n",
        "# 각 지도 출력\n",
        "m1"
      ],
      "metadata": {
        "id": "YOQ-UhkhS46J"
      },
      "id": "YOQ-UhkhS46J",
      "execution_count": null,
      "outputs": []
    },
    {
      "cell_type": "code",
      "source": [
        "#각 지도 출력\n",
        "m2"
      ],
      "metadata": {
        "id": "izl-PZ4uS8TT"
      },
      "id": "izl-PZ4uS8TT",
      "execution_count": null,
      "outputs": []
    },
    {
      "cell_type": "code",
      "source": [
        "# 특정 레이어 식별 및 제거\n",
        "for layer in m2.layers:\n",
        "    if layer.name == 'Vworld Hybrid':\n",
        "        m2.remove_layer(layer)\n",
        "        break\n",
        "\n",
        "# 레이어 제거 후 결과 확인\n",
        "m2"
      ],
      "metadata": {
        "id": "U3I0sdQiTLji"
      },
      "id": "U3I0sdQiTLji",
      "execution_count": null,
      "outputs": []
    }
  ],
  "metadata": {
    "kernelspec": {
      "display_name": "Python 3 (ipykernel)",
      "language": "python",
      "name": "python3"
    },
    "language_info": {
      "codemirror_mode": {
        "name": "ipython",
        "version": 3
      },
      "file_extension": ".py",
      "mimetype": "text/x-python",
      "name": "python",
      "nbconvert_exporter": "python",
      "pygments_lexer": "ipython3",
      "version": "3.12.1"
    },
    "colab": {
      "provenance": [],
      "include_colab_link": true
    }
  },
  "nbformat": 4,
  "nbformat_minor": 5
}