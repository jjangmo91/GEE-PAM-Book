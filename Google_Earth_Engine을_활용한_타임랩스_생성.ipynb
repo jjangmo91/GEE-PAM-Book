{
  "cells": [
    {
      "cell_type": "markdown",
      "metadata": {
        "id": "view-in-github",
        "colab_type": "text"
      },
      "source": [
        "<a href=\"https://colab.research.google.com/github/osgeokr/GEE-PAM-Book/blob/main/Google_Earth_Engine%EC%9D%84_%ED%99%9C%EC%9A%A9%ED%95%9C_%ED%83%80%EC%9E%84%EB%9E%A9%EC%8A%A4_%EC%83%9D%EC%84%B1.ipynb\" target=\"_parent\"><img src=\"https://colab.research.google.com/assets/colab-badge.svg\" alt=\"Open In Colab\"/></a>"
      ]
    },
    {
      "cell_type": "markdown",
      "id": "0",
      "metadata": {
        "id": "0"
      },
      "source": [
        "# Google Earth Engine을 활용한 타임랩스 생성"
      ]
    },
    {
      "cell_type": "code",
      "execution_count": null,
      "id": "1",
      "metadata": {
        "id": "1"
      },
      "outputs": [],
      "source": [
        "# !pip install -U geemap"
      ]
    },
    {
      "cell_type": "code",
      "execution_count": null,
      "id": "2",
      "metadata": {
        "id": "2"
      },
      "outputs": [],
      "source": [
        "import ee\n",
        "import geemap"
      ]
    },
    {
      "cell_type": "code",
      "execution_count": null,
      "id": "3",
      "metadata": {
        "id": "3"
      },
      "outputs": [],
      "source": [
        "Map = geemap.Map()\n",
        "Map"
      ]
    },
    {
      "cell_type": "markdown",
      "id": "4",
      "metadata": {
        "id": "4"
      },
      "source": [
        "Pan and zoom to an area of interest and draw a rectangle on the map."
      ]
    },
    {
      "cell_type": "code",
      "execution_count": null,
      "id": "5",
      "metadata": {
        "id": "5"
      },
      "outputs": [],
      "source": [
        "roi = Map.user_roi\n",
        "if roi is None:\n",
        "    roi = ee.Geometry.BBox(117.1132, 3.5227, 117.2214, 3.5843)\n",
        "    Map.addLayer(roi)\n",
        "    Map.centerObject(roi)"
      ]
    },
    {
      "cell_type": "code",
      "execution_count": null,
      "id": "6",
      "metadata": {
        "id": "6"
      },
      "outputs": [],
      "source": [
        "timelapse = geemap.sentinel1_timelapse(\n",
        "    roi,\n",
        "    out_gif=\"sentinel1.gif\",\n",
        "    start_year=2019,\n",
        "    end_year=2019,\n",
        "    start_date=\"04-01\",\n",
        "    end_date=\"08-01\",\n",
        "    frequency=\"day\",\n",
        "    vis_params={\"min\": -30, \"max\": 0},\n",
        "    palette=\"Greys\",\n",
        "    frames_per_second=3,\n",
        "    title=\"Sentinel-1 Timelapse\",\n",
        "    add_colorbar=True,\n",
        "    colorbar_bg_color=\"gray\",\n",
        ")"
      ]
    },
    {
      "cell_type": "code",
      "execution_count": null,
      "id": "7",
      "metadata": {
        "id": "7"
      },
      "outputs": [],
      "source": [
        "geemap.show_image(timelapse)"
      ]
    },
    {
      "cell_type": "markdown",
      "id": "8",
      "metadata": {
        "id": "8"
      },
      "source": [
        "![](https://i.imgur.com/FlhvI46.gif)"
      ]
    }
  ],
  "metadata": {
    "kernelspec": {
      "display_name": "Python 3",
      "language": "python",
      "name": "python3"
    },
    "colab": {
      "provenance": [],
      "include_colab_link": true
    }
  },
  "nbformat": 4,
  "nbformat_minor": 5
}