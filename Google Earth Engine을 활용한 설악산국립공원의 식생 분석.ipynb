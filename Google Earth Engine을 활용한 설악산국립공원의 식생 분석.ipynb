{
 "cells": [
  {
   "cell_type": "markdown",
   "id": "c98405ab-ccc0-4f02-8154-2149a5e4e63e",
   "metadata": {},
   "source": [
    "# Google Earth Engine을 활용한 설악산국립공원의 식생 분석\n",
    "\n",
    "안녕하세요? 이번 코드 실습은 Google Earth Engine(GEE)에서 설악산국립공원의 식생 분석을 진행해 보겠습니다. 분석 단계는 다음과 같습니다:\n",
    "* \n",
    "GEE의 Python API를 사용하여 설악산국립공원의 경계를 추출니다. * \r\n",
    "2024년 1월 동안 구름 없는 Sentinel-2 이미지를 선니다.\n",
    "* .\r\n",
    "NDVI 계산을 수행하고, 국립공원 경계 내에서 NDVI 통계치를합니 계산다.니다.\r\n",
    "이 코드를 실행하기 전에, GEE Python API를 설치하고  합니다..\r\n",
    "\r\n",
    "."
   ]
  },
  {
   "cell_type": "code",
   "execution_count": 1,
   "id": "7a0e8ae3-bb8a-4d44-9c90-49d7aa2f3fcf",
   "metadata": {},
   "outputs": [],
   "source": [
    "import ee\n",
    "import geemap\n",
    "import pandas as pd\n",
    "\n",
    "# Earth Engine 인증\n",
    "ee.Authenticate()\n",
    "\n",
    "# Earth Engine 초기화\n",
    "ee.Initialize(project='ee-foss4g')"
   ]
  },
  {
   "cell_type": "markdown",
   "id": "2f4dad2c-01ce-48ff-ad50-70f22ce724e2",
   "metadata": {},
   "source": [
    "## 설악산국립공원 경계 추출하기\n",
    "\n",
    "세계 보호지역 데이터베이스(WDPA: World Database on Protected Areas)는 매월 업데이트되는 보호지역에 대한 가장 최신이며 완전한 정보의 원천입니다. 이는 유엔 환경 프로그램의 세계 보전 모니터링 센터(UNEP-WCMC: United Nations Environment Programme's World Conservation Monitoring Centre)가 IUCN 및 세계보호지역위원회(WCPA: World Commission on Protected Areas)의 지원을 받아 관리하고 있습니다. GEE에서 WDPA 폴리곤은 [FeatureCollection](https://developers.google.com/earth-engine/datasets/catalog/WCMC_WDPA_current_polygons) 데이터 구조로 접근 가능하며, 설악산국립공원의 WDPA ID는 [768](https://www.protectedplanet.net/768)입니다."
   ]
  },
  {
   "cell_type": "code",
   "execution_count": 2,
   "id": "e2b0ce1e-8d42-48b4-a070-ade5330fc507",
   "metadata": {},
   "outputs": [
    {
     "data": {
      "text/html": [
       "\n",
       "            <style>\n",
       "                .geemap-dark {\n",
       "                    --jp-widgets-color: white;\n",
       "                    --jp-widgets-label-color: white;\n",
       "                    --jp-ui-font-color1: white;\n",
       "                    --jp-layout-color2: #454545;\n",
       "                    background-color: #383838;\n",
       "                }\n",
       "                    \n",
       "                .geemap-dark .jupyter-button {\n",
       "                    --jp-layout-color3: #383838;\n",
       "                }\n",
       "                \n",
       "                .geemap-colab {\n",
       "                    background-color: var(--colab-primary-surface-color, white);\n",
       "                }\n",
       "                    \n",
       "                .geemap-colab .jupyter-button {\n",
       "                    --jp-layout-color3: var(--colab-primary-surface-color, white);\n",
       "                }\n",
       "            </style>\n",
       "            "
      ],
      "text/plain": [
       "<IPython.core.display.HTML object>"
      ]
     },
     "metadata": {},
     "output_type": "display_data"
    },
    {
     "name": "stdout",
     "output_type": "stream",
     "text": [
      "Name: Seoraksan\n"
     ]
    }
   ],
   "source": [
    "# 설악산국립공원 경계 추출\n",
    "wdpa = ee.FeatureCollection(\"WCMC/WDPA/current/polygons\")\n",
    "seoraksan = wdpa.filter(ee.Filter.eq('WDPAID', 768))\n",
    "\n",
    "# 선택된 보호지역의 이름 확인\n",
    "wdpa_name = seoraksan.first().get('NAME').getInfo()\n",
    "print(\"Name:\", wdpa_name)"
   ]
  },
  {
   "cell_type": "code",
   "execution_count": 3,
   "id": "e0c364d3-0a35-44e9-82b5-20e1370eab8f",
   "metadata": {},
   "outputs": [
    {
     "data": {
      "text/html": [
       "\n",
       "            <style>\n",
       "                .geemap-dark {\n",
       "                    --jp-widgets-color: white;\n",
       "                    --jp-widgets-label-color: white;\n",
       "                    --jp-ui-font-color1: white;\n",
       "                    --jp-layout-color2: #454545;\n",
       "                    background-color: #383838;\n",
       "                }\n",
       "                    \n",
       "                .geemap-dark .jupyter-button {\n",
       "                    --jp-layout-color3: #383838;\n",
       "                }\n",
       "                \n",
       "                .geemap-colab {\n",
       "                    background-color: var(--colab-primary-surface-color, white);\n",
       "                }\n",
       "                    \n",
       "                .geemap-colab .jupyter-button {\n",
       "                    --jp-layout-color3: var(--colab-primary-surface-color, white);\n",
       "                }\n",
       "            </style>\n",
       "            "
      ],
      "text/plain": [
       "<IPython.core.display.HTML object>"
      ]
     },
     "metadata": {},
     "output_type": "display_data"
    },
    {
     "data": {
      "application/vnd.jupyter.widget-view+json": {
       "model_id": "411e48de7c7247cc8204270017f6dc81",
       "version_major": 2,
       "version_minor": 0
      },
      "text/plain": [
       "Map(center=[38.13576013377399, 128.41324038484834], controls=(WidgetControl(options=['position', 'transparent_…"
      ]
     },
     "execution_count": 3,
     "metadata": {},
     "output_type": "execute_result"
    }
   ],
   "source": [
    "from ipyleaflet import TileLayer\n",
    "\n",
    "# Vworld 배경지도 객체\n",
    "vworld_base = TileLayer(\n",
    "    url='https://xdworld.vworld.kr/2d/Base/service/{z}/{x}/{y}.png',\n",
    "    name='Vworld Base',\n",
    "    attribution='Vworld',\n",
    ")\n",
    "\n",
    "# 설악산국립공원 경계 가시화\n",
    "m = geemap.Map(width=\"800px\", height=\"500px\")\n",
    "m.add_layer(vworld_base)\n",
    "m.addLayer(seoraksan, {'color': 'green'}, wdpa_name) # 레이어 추가\n",
    "m.centerObject(seoraksan, 11) # 지도의 중심 설정\n",
    "m # 지도 객체 출력"
   ]
  },
  {
   "cell_type": "markdown",
   "id": "5adc2e2d-b995-462b-85d1-2079671efd1f",
   "metadata": {},
   "source": [
    "## 2024년 1월 동안 구름 없는 Sentinel-2 이미지 선택하기\n",
    "\n",
    "Sentinel-2 (S2)는 전 세계적으로 5일마다 재방문하는 광역(wide-swath), 고해상도(high-resolution), 다중 스펙트럼 이미징 임무(multispectral imaging mission)입니다. S2 다중 분광 기기(MSI: MultiSpectral Instrument)는 13개의 분광 밴드를 샘플링하는데, 가시광선 및 NIR을 10미터, red edge와 SWIR을 20미터, 그리고 대기 밴드를 60미터 공간 해상도로 측정합니다. 이는 식생, 토양, 수체의 상태 및 변화를 평가하는 데 적합한 데이터를 제공합니다.\n",
    "\n",
    "S2 데이터는 Level-1C와 Level-2A로 구분되며, GEE에서는 이를 ImageCollection 데이터 구조로 제공합니다. Level-1C는 대기 상부 반사율(Top-of-Atmosphere Reflectance), Level-2A는 지표면 반사율(Surface Reflectance)에 해당하며, 두 데이터는 모두 정사보정(Orthorectified)되어 있어, 지리적 위치가 정확하게 조정되어 있습니다. Level-1C는 대기를 통과한 후의 반사율 데이터인데 반해 Level-2A는 대기의 영향을 보정하여 얻은, 대기보정(atmospherically corrected)된 지표면의 반사율 데이터입니다. 여기서는 Level-2A를 사용하겠습니다."
   ]
  },
  {
   "cell_type": "code",
   "execution_count": 4,
   "id": "fa78b221-0bc4-4623-b204-d8cd057844bb",
   "metadata": {},
   "outputs": [
    {
     "data": {
      "text/html": [
       "\n",
       "            <style>\n",
       "                .geemap-dark {\n",
       "                    --jp-widgets-color: white;\n",
       "                    --jp-widgets-label-color: white;\n",
       "                    --jp-ui-font-color1: white;\n",
       "                    --jp-layout-color2: #454545;\n",
       "                    background-color: #383838;\n",
       "                }\n",
       "                    \n",
       "                .geemap-dark .jupyter-button {\n",
       "                    --jp-layout-color3: #383838;\n",
       "                }\n",
       "                \n",
       "                .geemap-colab {\n",
       "                    background-color: var(--colab-primary-surface-color, white);\n",
       "                }\n",
       "                    \n",
       "                .geemap-colab .jupyter-button {\n",
       "                    --jp-layout-color3: var(--colab-primary-surface-color, white);\n",
       "                }\n",
       "            </style>\n",
       "            "
      ],
      "text/plain": [
       "<IPython.core.display.HTML object>"
      ]
     },
     "metadata": {},
     "output_type": "display_data"
    }
   ],
   "source": [
    "def mask_s2_clouds(image):\n",
    "    # QA(Quality Assurance) 밴드 사용, S2에서 구름 마스킹\n",
    "    qa = image.select('QA60')\n",
    "    \n",
    "    # 비트 10은 구름(clouds), 11은 성층운(cirrus)\n",
    "    cloud_bit_mask = 1 << 10\n",
    "    cirrus_bit_mask = 1 << 11\n",
    "    \n",
    "    # 구름과 성층운을 모두 0으로 설정하여 맑은 상태를 나타냄\n",
    "    mask = (\n",
    "        qa.bitwiseAnd(cloud_bit_mask)\n",
    "        .eq(0)\n",
    "        .And(qa.bitwiseAnd(cirrus_bit_mask).eq(0))\n",
    "    )\n",
    "    \n",
    "    return image.updateMask(mask).divide(10000) # 스케일링"
   ]
  },
  {
   "cell_type": "code",
   "execution_count": 5,
   "id": "1baeb159-9f41-464d-ab59-df83b3d944c8",
   "metadata": {},
   "outputs": [
    {
     "data": {
      "text/html": [
       "\n",
       "            <style>\n",
       "                .geemap-dark {\n",
       "                    --jp-widgets-color: white;\n",
       "                    --jp-widgets-label-color: white;\n",
       "                    --jp-ui-font-color1: white;\n",
       "                    --jp-layout-color2: #454545;\n",
       "                    background-color: #383838;\n",
       "                }\n",
       "                    \n",
       "                .geemap-dark .jupyter-button {\n",
       "                    --jp-layout-color3: #383838;\n",
       "                }\n",
       "                \n",
       "                .geemap-colab {\n",
       "                    background-color: var(--colab-primary-surface-color, white);\n",
       "                }\n",
       "                    \n",
       "                .geemap-colab .jupyter-button {\n",
       "                    --jp-layout-color3: var(--colab-primary-surface-color, white);\n",
       "                }\n",
       "            </style>\n",
       "            "
      ],
      "text/plain": [
       "<IPython.core.display.HTML object>"
      ]
     },
     "metadata": {},
     "output_type": "display_data"
    }
   ],
   "source": [
    "# Sentinel-2 이미지 선택 및 필터링\n",
    "s2_images = (\n",
    "    ee.ImageCollection(\"COPERNICUS/S2_SR_HARMONIZED\")\n",
    "    .filterDate(\"2024-01-01\", \"2024-01-31\")\n",
    "    .filterBounds(seoraksan)\n",
    "    # 구름이 5% 미만인 이미지 필터링\n",
    "    .filter(ee.Filter.lt(\"CLOUDY_PIXEL_PERCENTAGE\", 5))\n",
    "    .map(mask_s2_clouds)\n",
    ")"
   ]
  },
  {
   "cell_type": "code",
   "execution_count": 6,
   "id": "2df5ecf6-fbc2-4ea2-9afb-b8ddb11b010c",
   "metadata": {},
   "outputs": [
    {
     "data": {
      "text/html": [
       "\n",
       "            <style>\n",
       "                .geemap-dark {\n",
       "                    --jp-widgets-color: white;\n",
       "                    --jp-widgets-label-color: white;\n",
       "                    --jp-ui-font-color1: white;\n",
       "                    --jp-layout-color2: #454545;\n",
       "                    background-color: #383838;\n",
       "                }\n",
       "                    \n",
       "                .geemap-dark .jupyter-button {\n",
       "                    --jp-layout-color3: #383838;\n",
       "                }\n",
       "                \n",
       "                .geemap-colab {\n",
       "                    background-color: var(--colab-primary-surface-color, white);\n",
       "                }\n",
       "                    \n",
       "                .geemap-colab .jupyter-button {\n",
       "                    --jp-layout-color3: var(--colab-primary-surface-color, white);\n",
       "                }\n",
       "            </style>\n",
       "            "
      ],
      "text/plain": [
       "<IPython.core.display.HTML object>"
      ]
     },
     "metadata": {},
     "output_type": "display_data"
    },
    {
     "name": "stdout",
     "output_type": "stream",
     "text": [
      "Image count: 4\n"
     ]
    }
   ],
   "source": [
    "# 이미지 컬렉션의 이미지 개수 확인\n",
    "image_count = s2_images.size()\n",
    "\n",
    "# 이미지 개수 출력\n",
    "print(\"Image count:\", image_count.getInfo())"
   ]
  },
  {
   "cell_type": "code",
   "execution_count": 7,
   "id": "aab62fbb-1f52-422c-a1dd-7c82aae485af",
   "metadata": {},
   "outputs": [
    {
     "data": {
      "text/html": [
       "\n",
       "            <style>\n",
       "                .geemap-dark {\n",
       "                    --jp-widgets-color: white;\n",
       "                    --jp-widgets-label-color: white;\n",
       "                    --jp-ui-font-color1: white;\n",
       "                    --jp-layout-color2: #454545;\n",
       "                    background-color: #383838;\n",
       "                }\n",
       "                    \n",
       "                .geemap-dark .jupyter-button {\n",
       "                    --jp-layout-color3: #383838;\n",
       "                }\n",
       "                \n",
       "                .geemap-colab {\n",
       "                    background-color: var(--colab-primary-surface-color, white);\n",
       "                }\n",
       "                    \n",
       "                .geemap-colab .jupyter-button {\n",
       "                    --jp-layout-color3: var(--colab-primary-surface-color, white);\n",
       "                }\n",
       "            </style>\n",
       "            "
      ],
      "text/plain": [
       "<IPython.core.display.HTML object>"
      ]
     },
     "metadata": {},
     "output_type": "display_data"
    },
    {
     "data": {
      "application/vnd.jupyter.widget-view+json": {
       "model_id": "94f21996b5f34562b4922c8296cf82de",
       "version_major": 2,
       "version_minor": 0
      },
      "text/plain": [
       "Map(center=[38.13576013377399, 128.41324038484834], controls=(WidgetControl(options=['position', 'transparent_…"
      ]
     },
     "execution_count": 7,
     "metadata": {},
     "output_type": "execute_result"
    }
   ],
   "source": [
    "# 중간값 이미지 계산\n",
    "s2_image = s2_images.median()\n",
    "\n",
    "visualization = {\n",
    "    'min': 0.0,\n",
    "    'max': 0.3,\n",
    "    'bands': ['B4', 'B3', 'B2'],\n",
    "}\n",
    "\n",
    "m = geemap.Map(width=\"800px\", height=\"500px\")\n",
    "m.add_layer(s2_image, visualization, 'RGB')\n",
    "m.centerObject(seoraksan, 11) # 지도의 중심 설정\n",
    "m # 지도 객체 출력"
   ]
  },
  {
   "cell_type": "markdown",
   "id": "314da205-feb7-44cb-b6c8-ef249eb3dae4",
   "metadata": {},
   "source": [
    "## 국립공원 경계 내에서 NDVI 계산 및 통계치 산출하기\n",
    "\n",
    "프리즘을 통해 볼 수 있듯이, 태양광 스펙트럼은 많은 다른 파장으로 구성되어 있습니다. 태양광이 물체에 비추어질 때, 특정 파장은 흡수되고 다른 파장은 반사됩니다. 식물 잎의 색소인 클로로필(chlorophyll)은 광합성에 사용되는 가시광선을 강하게 흡수합니다. 반면에, 잎의 세포 구조는 근적외선을 강하게 반사합니다. 나무가 클로로필과 클로로필을 포함하는 잎을 더 많이 가질수록, 이러한 파장의 빛은 더 많이 영향을 받습니다. 과학자들은 식물이 빛과 상호작용하는 이 지식을 활용하여 지구 표면 전역의 식물이 흡수하고 반사하는 적색과 근적외선의 파장을 측정하기 위해 위성 센서를 설계함으로써 지구의 풍경을 통틀어 녹색 식생 밀도를 매핑합니다.\n",
    "\n",
    "식물이 반사하는 적색 빛의 반사율을 근적외선 빛의 반사율에서 빼고, 그 차이를 적색과 근적외선 빛의 반사율의 합으로 나누면 과학자들이 [정규식생지수(NDVI: Normalized Difference Vegetation Index)](https://mynasadata.larc.nasa.gov/mini-lessonactivity/computing-vegetation-health)라고 부르는 값을 얻을 수 있습니다."
   ]
  },
  {
   "cell_type": "code",
   "execution_count": 8,
   "id": "b692709c-6e45-479c-84c2-830e408a2c6f",
   "metadata": {},
   "outputs": [
    {
     "data": {
      "text/html": [
       "\n",
       "            <style>\n",
       "                .geemap-dark {\n",
       "                    --jp-widgets-color: white;\n",
       "                    --jp-widgets-label-color: white;\n",
       "                    --jp-ui-font-color1: white;\n",
       "                    --jp-layout-color2: #454545;\n",
       "                    background-color: #383838;\n",
       "                }\n",
       "                    \n",
       "                .geemap-dark .jupyter-button {\n",
       "                    --jp-layout-color3: #383838;\n",
       "                }\n",
       "                \n",
       "                .geemap-colab {\n",
       "                    background-color: var(--colab-primary-surface-color, white);\n",
       "                }\n",
       "                    \n",
       "                .geemap-colab .jupyter-button {\n",
       "                    --jp-layout-color3: var(--colab-primary-surface-color, white);\n",
       "                }\n",
       "            </style>\n",
       "            "
      ],
      "text/plain": [
       "<IPython.core.display.HTML object>"
      ]
     },
     "metadata": {},
     "output_type": "display_data"
    },
    {
     "data": {
      "application/vnd.jupyter.widget-view+json": {
       "model_id": "89e4340305064565a0751120c184f9a6",
       "version_major": 2,
       "version_minor": 0
      },
      "text/plain": [
       "Map(center=[38.13576013377399, 128.41324038484834], controls=(WidgetControl(options=['position', 'transparent_…"
      ]
     },
     "execution_count": 8,
     "metadata": {},
     "output_type": "execute_result"
    }
   ],
   "source": [
    "# NDVI 계산: (NIR - Red) / (NIR + Red)\n",
    "ndvi = s2_image.normalizedDifference(['B8', 'B4'])\n",
    "\n",
    "# NDVI 색상 팔레트 정의\n",
    "ndvi_palette = [\n",
    "    'FE8374',  # 낮은 NDVI - 갈색\n",
    "    'FED976',  # 낮은-중간 NDVI - 밝은 녹색\n",
    "    'CAE23C',  # 중간 NDVI - 녹색\n",
    "    '98B718',  # 중간-높은 NDVI - 진한 녹색\n",
    "    '059033',  # 높은 NDVI - 매우 진한 녹색\n",
    "]\n",
    "\n",
    "m = geemap.Map(width=\"800px\", height=\"500px\")\n",
    "m.add_layer(ndvi, {'min': 0, 'max': 0.5, 'palette': ndvi_palette}, 'NDVI')\n",
    "m.centerObject(seoraksan, 11) # 지도의 중심 설정\n",
    "m # 지도 객체 출력"
   ]
  },
  {
   "cell_type": "code",
   "execution_count": 9,
   "id": "b7f10d4c-5d54-49d9-a2fc-0cb74c60e8d3",
   "metadata": {},
   "outputs": [
    {
     "data": {
      "text/html": [
       "\n",
       "            <style>\n",
       "                .geemap-dark {\n",
       "                    --jp-widgets-color: white;\n",
       "                    --jp-widgets-label-color: white;\n",
       "                    --jp-ui-font-color1: white;\n",
       "                    --jp-layout-color2: #454545;\n",
       "                    background-color: #383838;\n",
       "                }\n",
       "                    \n",
       "                .geemap-dark .jupyter-button {\n",
       "                    --jp-layout-color3: #383838;\n",
       "                }\n",
       "                \n",
       "                .geemap-colab {\n",
       "                    background-color: var(--colab-primary-surface-color, white);\n",
       "                }\n",
       "                    \n",
       "                .geemap-colab .jupyter-button {\n",
       "                    --jp-layout-color3: var(--colab-primary-surface-color, white);\n",
       "                }\n",
       "            </style>\n",
       "            "
      ],
      "text/plain": [
       "<IPython.core.display.HTML object>"
      ]
     },
     "metadata": {},
     "output_type": "display_data"
    },
    {
     "name": "stdout",
     "output_type": "stream",
     "text": [
      "                Min      Mean    Median  Max    StdDev\n",
      "Seoraksan -0.352342  0.237857  0.183589    1  0.197172\n"
     ]
    }
   ],
   "source": [
    "# NDVI 통계치 계산 (최소값, 평균, 중간값, 최대값, 표준편차)\n",
    "stats = ndvi.reduceRegion(\n",
    "    reducer=ee.Reducer.min()\n",
    "    .combine(reducer2=ee.Reducer.mean(), sharedInputs=True)\n",
    "    .combine(reducer2=ee.Reducer.median(), sharedInputs=True)\n",
    "    .combine(reducer2=ee.Reducer.max(), sharedInputs=True)\n",
    "    .combine(reducer2=ee.Reducer.stdDev(), sharedInputs=True),\n",
    "    geometry=seoraksan.geometry(),\n",
    "    scale=10,\n",
    "    maxPixels=1e9,\n",
    ")\n",
    "\n",
    "# 통계치 결과를 DataFrame으로 변환\n",
    "df_stats = pd.DataFrame(\n",
    "    [stats.getInfo()],\n",
    "    columns=[\"nd_min\", \"nd_mean\", \"nd_median\", \"nd_max\", \"nd_stdDev\"],\n",
    "    index=[\"Seoraksan\"],\n",
    ")\n",
    "df_stats.columns = [\"Min\", \"Mean\", \"Median\", \"Max\", \"StdDev\"]\n",
    "\n",
    "# DataFrame을 CSV 파일로 저장하기\n",
    "df_stats.to_csv('df_stats.csv', index=True)\n",
    "\n",
    "# NDVI 통계치 출력\n",
    "print(df_stats)"
   ]
  },
  {
   "cell_type": "code",
   "execution_count": null,
   "id": "3908fe65-c2a1-4042-b73c-407490b5624e",
   "metadata": {},
   "outputs": [],
   "source": []
  }
 ],
 "metadata": {
  "kernelspec": {
   "display_name": "Python 3 (ipykernel)",
   "language": "python",
   "name": "python3"
  },
  "language_info": {
   "codemirror_mode": {
    "name": "ipython",
    "version": 3
   },
   "file_extension": ".py",
   "mimetype": "text/x-python",
   "name": "python",
   "nbconvert_exporter": "python",
   "pygments_lexer": "ipython3",
   "version": "3.12.1"
  }
 },
 "nbformat": 4,
 "nbformat_minor": 5
}
