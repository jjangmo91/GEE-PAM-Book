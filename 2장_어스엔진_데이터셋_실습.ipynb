{
  "nbformat": 4,
  "nbformat_minor": 0,
  "metadata": {
    "colab": {
      "provenance": [],
      "include_colab_link": true
    },
    "kernelspec": {
      "name": "python3",
      "display_name": "Python 3"
    },
    "language_info": {
      "name": "python"
    }
  },
  "cells": [
    {
      "cell_type": "markdown",
      "metadata": {
        "id": "view-in-github",
        "colab_type": "text"
      },
      "source": [
        "<a href=\"https://colab.research.google.com/github/osgeokr/GEE-PAM-Book/blob/main/2%EC%9E%A5_%EC%96%B4%EC%8A%A4%EC%97%94%EC%A7%84_%EB%8D%B0%EC%9D%B4%ED%84%B0%EC%85%8B_%EC%8B%A4%EC%8A%B5.ipynb\" target=\"_parent\"><img src=\"https://colab.research.google.com/assets/colab-badge.svg\" alt=\"Open In Colab\"/></a>"
      ]
    },
    {
      "cell_type": "markdown",
      "source": [
        "# 2장. 어스엔진 데이터셋 실습\n",
        "\n"
      ],
      "metadata": {
        "id": "_BSKK5sUviOW"
      }
    },
    {
      "cell_type": "code",
      "source": [
        "import ee\n",
        "import geemap\n",
        "\n",
        "import pandas as pd"
      ],
      "metadata": {
        "id": "as4WAzZ1m7sX"
      },
      "execution_count": null,
      "outputs": []
    },
    {
      "cell_type": "code",
      "source": [
        "# Earth Engine 인증\n",
        "ee.Authenticate()\n",
        "\n",
        "# Earth Engine 초기화\n",
        "ee.Initialize(project='ee-foss4g')"
      ],
      "metadata": {
        "id": "Ujf4J5Z8uL7R"
      },
      "execution_count": null,
      "outputs": []
    },
    {
      "cell_type": "markdown",
      "source": [
        "## 2.1. 피처 컬렉션\n",
        "\n",
        "### 2.1.1. 피처 컬렉션 사용 (보호지역)"
      ],
      "metadata": {
        "id": "onMwJs3Lukjv"
      }
    },
    {
      "cell_type": "code",
      "source": [
        "# 피처 컬렉션 객체 (보호지역)\n",
        "wdpa = ee.FeatureCollection(\"WCMC/WDPA/current/polygons\")"
      ],
      "metadata": {
        "id": "JuIhdcGcufQX"
      },
      "execution_count": null,
      "outputs": []
    },
    {
      "cell_type": "code",
      "source": [
        "# 피처 선택 (보호지역 ID == 32712)\n",
        "wdpa_id = 30712\n",
        "protected_area = wdpa.filter(ee.Filter.eq('WDPAID', wdpa_id))\n",
        "\n",
        "# 피처 이름 (변산반도)\n",
        "area_name = protected_area.first().get('NAME').getInfo()\n",
        "print(\"Name:\", area_name)"
      ],
      "metadata": {
        "id": "ctBJ7-mXuvjz"
      },
      "execution_count": null,
      "outputs": []
    },
    {
      "cell_type": "code",
      "source": [
        "# 피처 컬렉션 출력 (변산반도)\n",
        "m = geemap.Map(layout={'height':'400px', 'width':'800px'},\n",
        "                 basemap='Esri.WorldImagery')\n",
        "\n",
        "m.addLayer(protected_area, {'color': 'green'}, area_name)\n",
        "m.centerObject(protected_area, 11)\n",
        "m"
      ],
      "metadata": {
        "id": "1LYWPZ13wH5T"
      },
      "execution_count": null,
      "outputs": []
    },
    {
      "cell_type": "markdown",
      "source": [
        "### 2.1.2. 피처 컬렉션 사용 (행정구역)"
      ],
      "metadata": {
        "id": "CvQfSTaA27bi"
      }
    },
    {
      "cell_type": "code",
      "source": [
        "# 피처 컬렉션 객체 (행정구역)\n",
        "countries = ee.FeatureCollection(\"FAO/GAUL/2015/level0\")\n",
        "\n",
        "# 피처 선택 ('ADM0_NAME' == '대한민국)\n",
        "kr = countries.filter(ee.Filter.eq('ADM0_NAME', 'Republic of Korea'))\n",
        "\n",
        "# 피처 컬렉션 출력 (대한민국)\n",
        "m = geemap.Map(layout={'height':'400px', 'width':'800px'})\n",
        "m.addLayer(kr, {}, \"Republic of Korea\")\n",
        "m.centerObject(kr, 6)\n",
        "m"
      ],
      "metadata": {
        "id": "DJWo4eKOu6oO"
      },
      "execution_count": null,
      "outputs": []
    },
    {
      "cell_type": "markdown",
      "source": [
        "## 2.2. 이미지 컬렉션\n",
        "\n",
        "### 2.2.1. 이미지 사용 (DEM)"
      ],
      "metadata": {
        "id": "wmCgIhwTvLG4"
      }
    },
    {
      "cell_type": "code",
      "source": [
        "# 이미지 객체 (DEM)\n",
        "srtm = ee.Image(\"USGS/SRTMGL1_003\")\n",
        "elevation = srtm.select(\"elevation\")\n",
        "vis_params = {\n",
        "    \"min\": 0,\n",
        "    \"max\": 5000,\n",
        "    \"palette\": [\n",
        "        \"000000\",\n",
        "        \"006600\",\n",
        "        \"009900\",\n",
        "        \"33CC00\",\n",
        "        \"996600\",\n",
        "        \"CC9900\",\n",
        "        \"CC9966\",\n",
        "        \"FFFFFF\"\n",
        "    ]\n",
        "}\n",
        "\n",
        "# 이미지 출력 (DEM)\n",
        "m = geemap.Map(layout={\"height\": \"400px\", \"width\": \"800px\"})\n",
        "m.addLayer(elevation, vis_params, \"Elevation\")\n",
        "m.centerObject(kr, 4)\n",
        "m"
      ],
      "metadata": {
        "id": "PXD6cHY4yy6G"
      },
      "execution_count": null,
      "outputs": []
    },
    {
      "cell_type": "markdown",
      "source": [
        "### 2.2.2. 이미지 컬렉션 (수목 피복률)"
      ],
      "metadata": {
        "id": "eNKR-BnuzYCb"
      }
    },
    {
      "cell_type": "code",
      "source": [
        "# 이미지 컬렉션 객체 (MOD44B)\n",
        "modis = ee.ImageCollection('MODIS/006/MOD44B')\n",
        "\n",
        "# 이미지 선택 (수목 피복률)\n",
        "filtered_modis = modis.filterDate('2003-01-01', '2020-12-31')\n",
        "selected_modis = filtered_modis.select('Percent_Tree_Cover')\n",
        "median_ptc = selected_modis.median()\n",
        "vis_params = {\n",
        "    'min': 0,\n",
        "    'max': 100,\n",
        "    'palette': ['bbe029', '0a9501', '074b03']}\n",
        "\n",
        "# 이미지 출력 (수목 피복률)\n",
        "m = geemap.Map(layout={\"height\": \"400px\", \"width\": \"800px\"})\n",
        "m.addLayer(median_ptc, vis_params, \"Percent Tree Cover\")\n",
        "m.centerObject(kr, 4)\n",
        "m"
      ],
      "metadata": {
        "id": "dho2mAFUy-Rh"
      },
      "execution_count": null,
      "outputs": []
    },
    {
      "cell_type": "markdown",
      "source": [
        "### 2.2.3. 이미지 컬렉션 (토지피복지도)"
      ],
      "metadata": {
        "id": "kJ0PWCjO1-K1"
      }
    },
    {
      "cell_type": "code",
      "source": [
        "# 이미지 컬렉션 객체 (Sentinel-2 이미지)\n",
        "image = geemap.dynamic_world_s2(protected_area.geometry(),\n",
        "                                '2022-01-01', '2023-01-01')\n",
        "vis_params = {'bands': ['B4', 'B3', 'B2'], 'min': 0, 'max': 3000}\n",
        "\n",
        "# 이미지 출력 (Sentinel-2 이미지)\n",
        "m = geemap.Map(layout={\"height\": \"400px\", \"width\": \"800px\"})\n",
        "m.addLayer(image, vis_params, \"Sentinel-2 image\")\n",
        "m.centerObject(protected_area, 11)\n",
        "m"
      ],
      "metadata": {
        "id": "NJTjDJp47JHn"
      },
      "execution_count": null,
      "outputs": []
    },
    {
      "cell_type": "code",
      "source": [
        "landcover = geemap.dynamic_world(protected_area.geometry(),\n",
        "                                 '2022-01-01', '2023-01-01')\n",
        "\n",
        "# 이미지 출력 (토지피복지도)\n",
        "m = geemap.Map(layout={\"height\": \"400px\", \"width\": \"800px\"})\n",
        "m.addLayer(landcover, {}, 'Land Cover')\n",
        "m.add_legend(title=\"Dynamic World Land Cover\", builtin_legend='Dynamic_World')\n",
        "m.centerObject(protected_area, 11)\n",
        "m"
      ],
      "metadata": {
        "id": "L9iHtoUg8uG2"
      },
      "execution_count": null,
      "outputs": []
    },
    {
      "cell_type": "markdown",
      "source": [
        "## 2.3. 타입랩스 생성\n",
        "\n",
        "### 2.3.1. 패키지 추가 설치"
      ],
      "metadata": {
        "id": "gWH93lNPwiQi"
      }
    },
    {
      "cell_type": "code",
      "source": [
        "!pip install -q -U ffmpeg-python\n",
        "!pip install -q -U geokakao"
      ],
      "metadata": {
        "id": "YJyaf9cR9riQ"
      },
      "execution_count": null,
      "outputs": []
    },
    {
      "cell_type": "code",
      "source": [
        "import geokakao as gk\n",
        "import geopy.distance as gd"
      ],
      "metadata": {
        "id": "LvytXcPO6H64"
      },
      "execution_count": null,
      "outputs": []
    },
    {
      "cell_type": "markdown",
      "source": [
        "### 2.3.2. 타임랩스 영역\n"
      ],
      "metadata": {
        "id": "JnnruxF46l3Q"
      }
    },
    {
      "cell_type": "code",
      "source": [
        "data = {'Name': ['새만금국가산업단지'],\n",
        "        'Address': ['전북특별자치도 군산시 오식도동 1100']}\n",
        "df = pd.DataFrame(data)\n",
        "gk.add_coordinates_to_dataframe(df, 'Address')\n",
        "\n",
        "df.head()"
      ],
      "metadata": {
        "id": "s0hibm736egV"
      },
      "execution_count": null,
      "outputs": []
    },
    {
      "cell_type": "code",
      "source": [
        "from ipyleaflet import TileLayer\n",
        "\n",
        "# Vworld 영상지도 객체\n",
        "vworld_satellite = TileLayer(\n",
        "    url=\"https://xdworld.vworld.kr/2d/Satellite/service/{z}/{x}/{y}.jpeg\",\n",
        "    name=\"Vworld Satellite\",\n",
        "    attribution=\"Vworld\",\n",
        ")\n",
        "# Vworld 하이브리드지도 객체\n",
        "vworld_hybrid = TileLayer(\n",
        "    url=\"https://xdworld.vworld.kr/2d/Hybrid/service/{z}/{x}/{y}.png\",\n",
        "    name=\"Vworld Hybrid\",\n",
        "    attribution=\"Vworld\",\n",
        ")\n",
        "\n",
        "m = geemap.Map(width=\"800px\", height=\"400px\")\n",
        "m.add_layer(vworld_satellite)\n",
        "m.add_layer(vworld_hybrid)\n",
        "\n",
        "# 새만금국가산업단지 위치 가시화\n",
        "latitude, longitude = df.loc[0, [\"decimalLatitude\", \"decimalLongitude\"]].astype(float)\n",
        "location = ee.Geometry.Point([longitude, latitude])\n",
        "m.centerObject(location, 13)  # 지도의 중심 설정\n",
        "m  # 지도 객체 출력"
      ],
      "metadata": {
        "id": "jR-dYi0r7Lab"
      },
      "execution_count": null,
      "outputs": []
    },
    {
      "cell_type": "code",
      "source": [
        "def calculate_bbox(longitude, latitude, width, height):\n",
        "    # 중심 좌표\n",
        "    center = (latitude, longitude)\n",
        "\n",
        "    # 반쪽 폭과 높이 계산 (미터)\n",
        "    half_width = width / 2\n",
        "    half_height = height / 2\n",
        "\n",
        "    # 경계 좌표 계산\n",
        "    north = gd.distance(meters=half_height).destination(center, 0).latitude\n",
        "    south = gd.distance(meters=half_height).destination(center, 180).latitude\n",
        "    east = gd.distance(meters=half_width).destination(center, 90).longitude\n",
        "    west = gd.distance(meters=half_width).destination(center, 270).longitude\n",
        "\n",
        "    # 경계 상자 반환\n",
        "    bbox = ee.Geometry.BBox(west, south, east, north)\n",
        "    return bbox\n",
        "\n",
        "# 타임랩스 영역\n",
        "width = 4000; height = 2000\n",
        "roi = calculate_bbox(longitude, latitude, width, height)"
      ],
      "metadata": {
        "id": "TBxFrDzO7jtO"
      },
      "execution_count": null,
      "outputs": []
    },
    {
      "cell_type": "markdown",
      "source": [
        "### 2.3.3. 타임랩스 생성"
      ],
      "metadata": {
        "id": "h_XRscTVDA_K"
      }
    },
    {
      "cell_type": "code",
      "source": [
        "# 센티널 1호 타임랩스 생성\n",
        "timelapse = geemap.sentinel1_timelapse(\n",
        "    roi,\n",
        "    out_gif=\"sentinel1.gif\",\n",
        "    start_year=2019,\n",
        "    end_year=2023,\n",
        "    start_date=\"01-01\",\n",
        "    end_date=\"12-31\",\n",
        "    frequency=\"month\",\n",
        "    vis_params={\"min\": -30, \"max\": 0},\n",
        "    palette=\"Greys\",\n",
        "    frames_per_second=3,\n",
        "    title=\"Sentinel-1 Timelapse\",\n",
        "    add_colorbar=True,\n",
        "    colorbar_bg_color=\"gray\",\n",
        ")\n",
        "geemap.show_image(timelapse)"
      ],
      "metadata": {
        "id": "ZvkRQJlf70lN"
      },
      "execution_count": null,
      "outputs": []
    },
    {
      "cell_type": "code",
      "source": [
        "# 센티널 2호 타임랩스 생성\n",
        "timelapse = geemap.sentinel2_timelapse(\n",
        "    roi,\n",
        "    out_gif='sentinel2.gif',\n",
        "    start_year=2018,\n",
        "    end_year=2023,\n",
        "    start_date='01-01',\n",
        "    end_date='12-31',\n",
        "    frequency='year',\n",
        "    bands=['SWIR1', 'NIR', 'Red'],\n",
        "    frames_per_second=3,\n",
        "    title='Sentinel-2 Timelapse',\n",
        ")\n",
        "geemap.show_image(timelapse)"
      ],
      "metadata": {
        "id": "eeLJYQza9lQ_"
      },
      "execution_count": null,
      "outputs": []
    },
    {
      "cell_type": "code",
      "source": [
        "from google.colab import files\n",
        "\n",
        "files.download('sentinel1.gif')\n",
        "files.download('sentinel2.gif')"
      ],
      "metadata": {
        "id": "0g_SZGbj-kV0"
      },
      "execution_count": null,
      "outputs": []
    }
  ]
}