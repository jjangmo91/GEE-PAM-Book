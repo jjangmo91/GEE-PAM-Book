{
  "cells": [
    {
      "cell_type": "markdown",
      "metadata": {
        "id": "view-in-github",
        "colab_type": "text"
      },
      "source": [
        "<a href=\"https://colab.research.google.com/github/osgeokr/GEE-PAM-Book/blob/main/Chapter6_Species_Distribution_Modeling.ipynb\" target=\"_parent\"><img src=\"https://colab.research.google.com/assets/colab-badge.svg\" alt=\"Open In Colab\"/></a>"
      ]
    },
    {
      "cell_type": "markdown",
      "id": "ee622536-a80f-420f-ab8c-86c5ab5f89e8",
      "metadata": {
        "id": "ee622536-a80f-420f-ab8c-86c5ab5f89e8"
      },
      "source": [
        "# 6장. 종 분포 모델링: GEE를 활용한 서식지 예측 및 분석"
      ]
    },
    {
      "cell_type": "markdown",
      "source": [
        "## 6.1. 종 분포 모델 소개"
      ],
      "metadata": {
        "id": "mJXxCqFy0oH2"
      },
      "id": "mJXxCqFy0oH2"
    },
    {
      "cell_type": "markdown",
      "source": [
        "### 6.1.1. 종 분포 모델이란?\n",
        "\n",
        "종 분포 모델링(SDM: Species Distribution Modeling)은 종의 실제 또는 잠재적인 지리적 분포를 추정하는 가장 일반적인 방법론으로 해당 종에 적합한 환경 조건을 특성화하고, 그런 다음 어느 지역에 이러한 적합한 환경이 분포되어 있는지 식별하는 것입니다.\n",
        "\n",
        "SDM은 최근 수년간 보전계획의 중요한 구성요소로 부상하였으며, 이를 위해 다양한 모델링 기법이 개발되어 왔습니다. Google Earth Engine에서 SDM을 구현하면 대규모 환경 데이터에 쉽게 접근할 수 있고, 강력한 컴퓨팅 능력과 머신러닝 알고리즘 지원으로 신속한 모델링이 가능해집니다. 이번 장에서는 Google Earth Engine을 활용하여 종 분포 모델링을 구현해 보겠습니다."
      ],
      "metadata": {
        "id": "cOJLUPyK0u7B"
      },
      "id": "cOJLUPyK0u7B"
    },
    {
      "cell_type": "markdown",
      "source": [
        "### 6.1.2. 모델에 필요한 데이터\n",
        "\n",
        "SDM은 일반적으로 알려진 종의 위치 기록과 환경변수 간의 관계를 활용하여 모집단이 유지될 수 있는 환경 조건을 식별합니다. 즉, 두 가지 유형의 모델 입력 데이터가 필요합니다: 1) 알려진 종의 위치 기록; 그리고 2) 다양한 환경변수. 이러한 데이터는 알고리즘에 입력되어 종의 출현과 관련된 환경조건을 식별하는데 사용됩니다."
      ],
      "metadata": {
        "id": "zSFpOF0t1W6Y"
      },
      "id": "zSFpOF0t1W6Y"
    },
    {
      "cell_type": "markdown",
      "source": [
        "### 6.1.3. 종 분포 모델링의 작업 흐름\n",
        "\n",
        "보전생물학자인 Dr. Ramiro D. Crego는 GEE JavaScript Code Editor를 통해 종 분포 모델링을 구현하고, 그 연구결과를 공개했습니다. 이 책에서 소개할 SDM의 작업 흐름은 그가 공유한 [JavaScript 소스코드](https://smithsonian.github.io/SDMinGEE/)를 Python 언어로 변환 및 수정 보완한 것입니다.\n",
        "\n",
        "이 책에서 다루는 Google Earth Engine을 이용한 종 분포 모델링의 작업 흐름은 다음과 같습니다: 1) 종 출현 데이터 수집 및 처리, 2) 관심 영역 정의, 3) GEE 환경 변수 추가, 4) 임의-비출현 데이터 생성, 5) 모델 적합 및 예측, 6) 변수 중요도 및 정확도 평가.\n",
        "\n",
        "<p align=\"center\"><img src=\"https://github.com/osgeokr/GEE-PAM-Book/blob/main/img/sdm_workflow.png?raw=1\" width = \"800px\"></img></p>"
      ],
      "metadata": {
        "id": "Y5iHVxP61nId"
      },
      "id": "Y5iHVxP61nId"
    },
    {
      "cell_type": "markdown",
      "id": "149a3fdc-0650-4241-89d7-b3303ce996bd",
      "metadata": {
        "id": "149a3fdc-0650-4241-89d7-b3303ce996bd"
      },
      "source": [
        "## 6.2. GEE를 활용한 서식지 예측 및 분석"
      ]
    },
    {
      "cell_type": "markdown",
      "source": [
        "GEE 기반 종 분포 모델링은 \"팔색조(Pitta nympha)\"를 사례로 정리해 보겠습니다. 팔색조는 우리나라에서는 드문 여름철새이자 나그네새로, 최근 한반도의 기후 온난화 등으로 인해 분포 지역이 확대되고 있습니다. 팔색조는 희귀종으로 멸종위기 야생생물 Ⅱ급, 천연기념물 제204호, 국가적색목록 평가: 지역절멸(RE) 및 IUCN 범주: 취약(VU) 등급 종입니다.\n",
        "\n",
        "팔색조의 보전계획 수립을 위한 SDM은 충분히 가치있어 보입니다. 이제 GEE를 통해 서식지 예측 및 분석을 진행해 보겠습니다."
      ],
      "metadata": {
        "id": "iecf28q85osO"
      },
      "id": "iecf28q85osO"
    },
    {
      "cell_type": "markdown",
      "source": [
        "실습에 앞서 몇 가지 Python 라이브러리를 추가 설치합니다. 이 명령은 해당 라이브러리를 업그레이드(`-U`)하면서 설치합니다. `-q` 옵션은 설치 과정에서의 상세한 메시지를 출력하지 않도록 하는 '조용한(quiet)' 모드입니다. 만약 Google Colab에서 실습을 진행한다면 `pycrs`만 추가 설치해 주시면 됩니다."
      ],
      "metadata": {
        "id": "rwt_fPpv6cgd"
      },
      "id": "rwt_fPpv6cgd"
    },
    {
      "cell_type": "code",
      "execution_count": 2,
      "id": "49fa81f9-75e7-4973-a952-5bdeacafee8e",
      "metadata": {
        "id": "49fa81f9-75e7-4973-a952-5bdeacafee8e"
      },
      "outputs": [],
      "source": [
        "# 라이브러리 설치\n",
        "# %pip install -U -q pyarrow\n",
        "# %pip install -U -q geopandas\n",
        "# %pip install -U -q statsmodels\n"
      ]
    },
    {
      "cell_type": "markdown",
      "source": [
        "Python 라이브러리들을 호출합니다. import 문은 모듈의 전체 내용을 가져오고, from import 문은 모듈에서 특정 객체만 가져올 수 있습니다."
      ],
      "metadata": {
        "id": "Jl9XTHC_7o7u"
      },
      "id": "Jl9XTHC_7o7u"
    },
    {
      "cell_type": "code",
      "execution_count": 1,
      "id": "25548343-b156-4d9b-9800-8e846be17999",
      "metadata": {
        "id": "25548343-b156-4d9b-9800-8e846be17999"
      },
      "outputs": [],
      "source": [
        "# 라이브러리 호출\n",
        "import ee\n",
        "import geemap\n",
        "\n",
        "import geemap.colormaps as cm\n",
        "import pandas as pd, geopandas as gpd\n",
        "import numpy as np, matplotlib.pyplot as plt\n",
        "import os, requests, math, random\n",
        "\n",
        "from ipyleaflet import TileLayer\n",
        "from statsmodels.stats.outliers_influence import variance_inflation_factor"
      ]
    },
    {
      "cell_type": "markdown",
      "source": [
        "Google Earth Engine의 API(ee 라이브러리)를 인증 및 초기화합니다."
      ],
      "metadata": {
        "id": "wBmjyMgb8BBn"
      },
      "id": "wBmjyMgb8BBn"
    },
    {
      "cell_type": "code",
      "execution_count": 2,
      "id": "4a242c6d-828c-4e68-9fa5-cf67a4481600",
      "metadata": {
        "id": "4a242c6d-828c-4e68-9fa5-cf67a4481600",
        "outputId": "a4fb77ca-96b1-4c87-ae5e-86a6ca2d2833",
        "colab": {
          "base_uri": "https://localhost:8080/",
          "height": 17
        }
      },
      "outputs": [
        {
          "output_type": "display_data",
          "data": {
            "text/plain": [
              "<IPython.core.display.HTML object>"
            ],
            "text/html": [
              "\n",
              "            <style>\n",
              "                .geemap-dark {\n",
              "                    --jp-widgets-color: white;\n",
              "                    --jp-widgets-label-color: white;\n",
              "                    --jp-ui-font-color1: white;\n",
              "                    --jp-layout-color2: #454545;\n",
              "                    background-color: #383838;\n",
              "                }\n",
              "                    \n",
              "                .geemap-dark .jupyter-button {\n",
              "                    --jp-layout-color3: #383838;\n",
              "                }\n",
              "                \n",
              "                .geemap-colab {\n",
              "                    background-color: var(--colab-primary-surface-color, white);\n",
              "                }\n",
              "                    \n",
              "                .geemap-colab .jupyter-button {\n",
              "                    --jp-layout-color3: var(--colab-primary-surface-color, white);\n",
              "                }\n",
              "            </style>\n",
              "            "
            ]
          },
          "metadata": {}
        }
      ],
      "source": [
        "ee.Authenticate()\n",
        "ee.Initialize(project='ee-foss4g')"
      ]
    },
    {
      "cell_type": "markdown",
      "id": "35acc316-28de-4c5b-86da-b0383d0c1e2b",
      "metadata": {
        "id": "35acc316-28de-4c5b-86da-b0383d0c1e2b"
      },
      "source": [
        "###  6.2.1. 종 출현 데이터 수집 및 처리"
      ]
    },
    {
      "cell_type": "markdown",
      "source": [
        "이제 팔색조의 종 출현 데이터를 수집해 보겠습니다. 현재 관심 종의 출현 데이터를 가지고 있지 않더라도, 생물다양성 정보를 제공하는 GBIF API를 통해 특정 생물종에 관한 관측 데이터를 확보할 수 있습니다.\n",
        "\n",
        "GBIF는 Global Biodiversity Information Facility의 약자로, 전 세계 생물 다양성 정보를 관리하는 국제적인 기구입니다. 과학 연구, 환경 보호 및 정책 결정에 도움을 주는 생물종 분포 데이터를 제공하는 중요한 역할을 합니다. [GBIF API](https://techdocs.gbif.org/en/openapi/)는 GBIF에서 제공하는 생물종 분포 데이터에 접근할 수 있는 API로,  이를 활용하면 데이터를 검색, 필터링 및 다운로드할 수 있으며 생물종과 관련된 다양한 정보를 얻을 수 있습니다.\n",
        "\n",
        "아래 코드에서 변수 species_name은 팔색조의 학명을, country_code 변수는 대한민국의 국가코드를 할당했습니다. base_url 변수에는 GBIF API 주소가 저장됩니다. params는 API 요청에 사용될 파라미터들을 담고 있는 딕셔너리입니다.\n",
        "\n",
        "* scientificName: 검색 대상 종의 학명을 설정합니다.\n",
        "* country_code:  검색을 특정 국가로 한정합니다.\n",
        "* hasCoordinate: 좌표가 있는 데이터만(true) 검색하도록 합니다.\n",
        "* basisOfRecord\": 인간에 의한 관측(HUMAN_OBSERVATION) 기록만 택합니다.\n",
        "* limit: 최대 10,000개의 결과를 반환하도록 설정합니다."
      ],
      "metadata": {
        "id": "PryA7kPV8hy4"
      },
      "id": "PryA7kPV8hy4"
    },
    {
      "cell_type": "code",
      "source": [
        "def get_gbif_species_data(species_name, country_code=\"KR\"):\n",
        "    \"\"\"\n",
        "    GBIF API를 활용하여 특정 생물종의 관측 데이터를 조회하고 데이터프레임으로 반환합니다.\n",
        "\n",
        "    Parameters:\n",
        "    species_name (str): 조회할 생물종의 학명.\n",
        "    country_code (str): 관측 데이터를 조회할 국가의 코드 (기본값: \"KR\").\n",
        "\n",
        "    Returns:\n",
        "    pd.DataFrame: 관측 데이터를 포함하는 pandas 데이터프레임.\n",
        "    \"\"\"\n",
        "    base_url = \"https://api.gbif.org/v1/occurrence/search\"\n",
        "    params = {\n",
        "        \"scientificName\": species_name,\n",
        "        \"country\": country_code,\n",
        "        \"hasCoordinate\": \"true\",\n",
        "        \"basisOfRecord\": \"HUMAN_OBSERVATION\",\n",
        "        \"limit\": 10000,\n",
        "    }\n",
        "\n",
        "    try:\n",
        "        response = requests.get(base_url, params=params)\n",
        "        response.raise_for_status()  # 응답 에러가 있을 경우 예외를 발생시킵니다.\n",
        "        data = response.json()\n",
        "        occurrences = data.get(\"results\", [])\n",
        "\n",
        "        if occurrences:  # 데이터가 있는 경우\n",
        "            df = pd.json_normalize(occurrences)\n",
        "            return df\n",
        "        else:\n",
        "            print(\"No data found for the given species and country code.\")\n",
        "            return pd.DataFrame()  # 비어있는 데이터프레임 반환\n",
        "    except requests.RequestException as e:\n",
        "        print(f\"Request failed: {e}\")\n",
        "        return pd.DataFrame()  # 예외 발생 시 비어있는 데이터프레임 반환"
      ],
      "metadata": {
        "colab": {
          "base_uri": "https://localhost:8080/",
          "height": 17
        },
        "id": "GaktdobEr3Kq",
        "outputId": "37b1f9ed-5bbc-4afe-fb29-1a62230b76f5"
      },
      "id": "GaktdobEr3Kq",
      "execution_count": 3,
      "outputs": [
        {
          "output_type": "display_data",
          "data": {
            "text/plain": [
              "<IPython.core.display.HTML object>"
            ],
            "text/html": [
              "\n",
              "            <style>\n",
              "                .geemap-dark {\n",
              "                    --jp-widgets-color: white;\n",
              "                    --jp-widgets-label-color: white;\n",
              "                    --jp-ui-font-color1: white;\n",
              "                    --jp-layout-color2: #454545;\n",
              "                    background-color: #383838;\n",
              "                }\n",
              "                    \n",
              "                .geemap-dark .jupyter-button {\n",
              "                    --jp-layout-color3: #383838;\n",
              "                }\n",
              "                \n",
              "                .geemap-colab {\n",
              "                    background-color: var(--colab-primary-surface-color, white);\n",
              "                }\n",
              "                    \n",
              "                .geemap-colab .jupyter-button {\n",
              "                    --jp-layout-color3: var(--colab-primary-surface-color, white);\n",
              "                }\n",
              "            </style>\n",
              "            "
            ]
          },
          "metadata": {}
        }
      ]
    },
    {
      "cell_type": "markdown",
      "source": [
        "앞서 설정한 파라미터를 사용하여 GBIF API를 통해 팔색조(Pitta nympha)의 관측기록을 조회하고, 조회된 결과를 DataFrame으로 불러와 첫 번째 행을 확인해 봅니다. DataFrame은 테이블 형식의 데이터를 다루기 위한 데이터 구조로 행과 열로 이루어져 있습니다. 필요하다면 DataFrame을 CSV 파일로 저장하고 다시 읽어올 수도 있습니다."
      ],
      "metadata": {
        "id": "MyppJfvR9m_I"
      },
      "id": "MyppJfvR9m_I"
    },
    {
      "cell_type": "code",
      "source": [
        "# Fairy nympha 데이터 호출\n",
        "df = get_gbif_species_data(\"Pitta nympha\")\n",
        "# df.to_csv(\"pitta_nympha_data.csv\", index=False) DataFrame을 CSV로 저장\n",
        "# df = pd.read_csv(\"pitta_nympha_data.csv\")\n",
        "df.head(1)"
      ],
      "metadata": {
        "colab": {
          "base_uri": "https://localhost:8080/",
          "height": 182
        },
        "id": "kYmu-wshsW5K",
        "outputId": "10ac5d72-52e0-48f7-a8ba-8ac29d92c602"
      },
      "id": "kYmu-wshsW5K",
      "execution_count": 4,
      "outputs": [
        {
          "output_type": "display_data",
          "data": {
            "text/plain": [
              "<IPython.core.display.HTML object>"
            ],
            "text/html": [
              "\n",
              "            <style>\n",
              "                .geemap-dark {\n",
              "                    --jp-widgets-color: white;\n",
              "                    --jp-widgets-label-color: white;\n",
              "                    --jp-ui-font-color1: white;\n",
              "                    --jp-layout-color2: #454545;\n",
              "                    background-color: #383838;\n",
              "                }\n",
              "                    \n",
              "                .geemap-dark .jupyter-button {\n",
              "                    --jp-layout-color3: #383838;\n",
              "                }\n",
              "                \n",
              "                .geemap-colab {\n",
              "                    background-color: var(--colab-primary-surface-color, white);\n",
              "                }\n",
              "                    \n",
              "                .geemap-colab .jupyter-button {\n",
              "                    --jp-layout-color3: var(--colab-primary-surface-color, white);\n",
              "                }\n",
              "            </style>\n",
              "            "
            ]
          },
          "metadata": {}
        },
        {
          "output_type": "execute_result",
          "data": {
            "text/plain": [
              "          key                            datasetKey  \\\n",
              "0  4126765284  50c9509d-22c7-4a22-a47d-8c48425ef4a7   \n",
              "\n",
              "                       publishingOrgKey                       installationKey  \\\n",
              "0  28eb1a3f-1c15-4a95-931a-4af90ecb574d  997448a8-f762-11e1-a439-00145eb45e9a   \n",
              "\n",
              "                 hostingOrganizationKey publishingCountry     protocol  \\\n",
              "0  28eb1a3f-1c15-4a95-931a-4af90ecb574d                US  DWC_ARCHIVE   \n",
              "\n",
              "                     lastCrawled                     lastParsed  crawlId  ...  \\\n",
              "0  2024-01-23T16:28:21.693+00:00  2024-01-25T09:13:47.069+00:00      431  ...   \n",
              "\n",
              "  nomenclaturalCode fieldNotes  behavior  verbatimElevation  \\\n",
              "0               NaN        NaN       NaN                NaN   \n",
              "\n",
              "   higherClassification  extensions.http://rs.tdwg.org/ac/terms/Multimedia  \\\n",
              "0                   NaN                                                NaN   \n",
              "\n",
              "   distanceFromCentroidInMeters  associatedTaxa  lifeStage  occurrenceRemarks  \n",
              "0                           NaN             NaN        NaN                NaN  \n",
              "\n",
              "[1 rows x 110 columns]"
            ],
            "text/html": [
              "\n",
              "  <div id=\"df-3f15e39b-c6d6-41ce-ae5a-83419fae2b8b\" class=\"colab-df-container\">\n",
              "    <div>\n",
              "<style scoped>\n",
              "    .dataframe tbody tr th:only-of-type {\n",
              "        vertical-align: middle;\n",
              "    }\n",
              "\n",
              "    .dataframe tbody tr th {\n",
              "        vertical-align: top;\n",
              "    }\n",
              "\n",
              "    .dataframe thead th {\n",
              "        text-align: right;\n",
              "    }\n",
              "</style>\n",
              "<table border=\"1\" class=\"dataframe\">\n",
              "  <thead>\n",
              "    <tr style=\"text-align: right;\">\n",
              "      <th></th>\n",
              "      <th>key</th>\n",
              "      <th>datasetKey</th>\n",
              "      <th>publishingOrgKey</th>\n",
              "      <th>installationKey</th>\n",
              "      <th>hostingOrganizationKey</th>\n",
              "      <th>publishingCountry</th>\n",
              "      <th>protocol</th>\n",
              "      <th>lastCrawled</th>\n",
              "      <th>lastParsed</th>\n",
              "      <th>crawlId</th>\n",
              "      <th>...</th>\n",
              "      <th>nomenclaturalCode</th>\n",
              "      <th>fieldNotes</th>\n",
              "      <th>behavior</th>\n",
              "      <th>verbatimElevation</th>\n",
              "      <th>higherClassification</th>\n",
              "      <th>extensions.http://rs.tdwg.org/ac/terms/Multimedia</th>\n",
              "      <th>distanceFromCentroidInMeters</th>\n",
              "      <th>associatedTaxa</th>\n",
              "      <th>lifeStage</th>\n",
              "      <th>occurrenceRemarks</th>\n",
              "    </tr>\n",
              "  </thead>\n",
              "  <tbody>\n",
              "    <tr>\n",
              "      <th>0</th>\n",
              "      <td>4126765284</td>\n",
              "      <td>50c9509d-22c7-4a22-a47d-8c48425ef4a7</td>\n",
              "      <td>28eb1a3f-1c15-4a95-931a-4af90ecb574d</td>\n",
              "      <td>997448a8-f762-11e1-a439-00145eb45e9a</td>\n",
              "      <td>28eb1a3f-1c15-4a95-931a-4af90ecb574d</td>\n",
              "      <td>US</td>\n",
              "      <td>DWC_ARCHIVE</td>\n",
              "      <td>2024-01-23T16:28:21.693+00:00</td>\n",
              "      <td>2024-01-25T09:13:47.069+00:00</td>\n",
              "      <td>431</td>\n",
              "      <td>...</td>\n",
              "      <td>NaN</td>\n",
              "      <td>NaN</td>\n",
              "      <td>NaN</td>\n",
              "      <td>NaN</td>\n",
              "      <td>NaN</td>\n",
              "      <td>NaN</td>\n",
              "      <td>NaN</td>\n",
              "      <td>NaN</td>\n",
              "      <td>NaN</td>\n",
              "      <td>NaN</td>\n",
              "    </tr>\n",
              "  </tbody>\n",
              "</table>\n",
              "<p>1 rows × 110 columns</p>\n",
              "</div>\n",
              "    <div class=\"colab-df-buttons\">\n",
              "\n",
              "  <div class=\"colab-df-container\">\n",
              "    <button class=\"colab-df-convert\" onclick=\"convertToInteractive('df-3f15e39b-c6d6-41ce-ae5a-83419fae2b8b')\"\n",
              "            title=\"Convert this dataframe to an interactive table.\"\n",
              "            style=\"display:none;\">\n",
              "\n",
              "  <svg xmlns=\"http://www.w3.org/2000/svg\" height=\"24px\" viewBox=\"0 -960 960 960\">\n",
              "    <path d=\"M120-120v-720h720v720H120Zm60-500h600v-160H180v160Zm220 220h160v-160H400v160Zm0 220h160v-160H400v160ZM180-400h160v-160H180v160Zm440 0h160v-160H620v160ZM180-180h160v-160H180v160Zm440 0h160v-160H620v160Z\"/>\n",
              "  </svg>\n",
              "    </button>\n",
              "\n",
              "  <style>\n",
              "    .colab-df-container {\n",
              "      display:flex;\n",
              "      gap: 12px;\n",
              "    }\n",
              "\n",
              "    .colab-df-convert {\n",
              "      background-color: #E8F0FE;\n",
              "      border: none;\n",
              "      border-radius: 50%;\n",
              "      cursor: pointer;\n",
              "      display: none;\n",
              "      fill: #1967D2;\n",
              "      height: 32px;\n",
              "      padding: 0 0 0 0;\n",
              "      width: 32px;\n",
              "    }\n",
              "\n",
              "    .colab-df-convert:hover {\n",
              "      background-color: #E2EBFA;\n",
              "      box-shadow: 0px 1px 2px rgba(60, 64, 67, 0.3), 0px 1px 3px 1px rgba(60, 64, 67, 0.15);\n",
              "      fill: #174EA6;\n",
              "    }\n",
              "\n",
              "    .colab-df-buttons div {\n",
              "      margin-bottom: 4px;\n",
              "    }\n",
              "\n",
              "    [theme=dark] .colab-df-convert {\n",
              "      background-color: #3B4455;\n",
              "      fill: #D2E3FC;\n",
              "    }\n",
              "\n",
              "    [theme=dark] .colab-df-convert:hover {\n",
              "      background-color: #434B5C;\n",
              "      box-shadow: 0px 1px 3px 1px rgba(0, 0, 0, 0.15);\n",
              "      filter: drop-shadow(0px 1px 2px rgba(0, 0, 0, 0.3));\n",
              "      fill: #FFFFFF;\n",
              "    }\n",
              "  </style>\n",
              "\n",
              "    <script>\n",
              "      const buttonEl =\n",
              "        document.querySelector('#df-3f15e39b-c6d6-41ce-ae5a-83419fae2b8b button.colab-df-convert');\n",
              "      buttonEl.style.display =\n",
              "        google.colab.kernel.accessAllowed ? 'block' : 'none';\n",
              "\n",
              "      async function convertToInteractive(key) {\n",
              "        const element = document.querySelector('#df-3f15e39b-c6d6-41ce-ae5a-83419fae2b8b');\n",
              "        const dataTable =\n",
              "          await google.colab.kernel.invokeFunction('convertToInteractive',\n",
              "                                                    [key], {});\n",
              "        if (!dataTable) return;\n",
              "\n",
              "        const docLinkHtml = 'Like what you see? Visit the ' +\n",
              "          '<a target=\"_blank\" href=https://colab.research.google.com/notebooks/data_table.ipynb>data table notebook</a>'\n",
              "          + ' to learn more about interactive tables.';\n",
              "        element.innerHTML = '';\n",
              "        dataTable['output_type'] = 'display_data';\n",
              "        await google.colab.output.renderOutput(dataTable, element);\n",
              "        const docLink = document.createElement('div');\n",
              "        docLink.innerHTML = docLinkHtml;\n",
              "        element.appendChild(docLink);\n",
              "      }\n",
              "    </script>\n",
              "  </div>\n",
              "\n",
              "\n",
              "    </div>\n",
              "  </div>\n"
            ]
          },
          "metadata": {},
          "execution_count": 4
        }
      ]
    },
    {
      "cell_type": "markdown",
      "source": [
        "이번에는 DataFrame을 지리정보를 포함하는 열(geometry)을 가진 GeoDataFrame으로 변환하고 첫번째 행을 확인해 봅니다. GeoDataFrame은 GeoPackage 파일로 저장하고 다시 읽어올 수 있습니다. GeoPackage (*.gpkg) 파일은 QGIS와 같은 지리공간 소프트웨어에서도 사용 가능합니다."
      ],
      "metadata": {
        "id": "DH9D7rpV-CR2"
      },
      "id": "DH9D7rpV-CR2"
    },
    {
      "cell_type": "code",
      "execution_count": 5,
      "id": "c74e7ddc-fb4d-4c9f-be48-87f3ef03b7df",
      "metadata": {
        "id": "c74e7ddc-fb4d-4c9f-be48-87f3ef03b7df",
        "outputId": "6b6273ab-1b14-4dc2-b9cd-508611fe004d",
        "colab": {
          "base_uri": "https://localhost:8080/",
          "height": 81
        }
      },
      "outputs": [
        {
          "output_type": "display_data",
          "data": {
            "text/plain": [
              "<IPython.core.display.HTML object>"
            ],
            "text/html": [
              "\n",
              "            <style>\n",
              "                .geemap-dark {\n",
              "                    --jp-widgets-color: white;\n",
              "                    --jp-widgets-label-color: white;\n",
              "                    --jp-ui-font-color1: white;\n",
              "                    --jp-layout-color2: #454545;\n",
              "                    background-color: #383838;\n",
              "                }\n",
              "                    \n",
              "                .geemap-dark .jupyter-button {\n",
              "                    --jp-layout-color3: #383838;\n",
              "                }\n",
              "                \n",
              "                .geemap-colab {\n",
              "                    background-color: var(--colab-primary-surface-color, white);\n",
              "                }\n",
              "                    \n",
              "                .geemap-colab .jupyter-button {\n",
              "                    --jp-layout-color3: var(--colab-primary-surface-color, white);\n",
              "                }\n",
              "            </style>\n",
              "            "
            ]
          },
          "metadata": {}
        },
        {
          "output_type": "execute_result",
          "data": {
            "text/plain": [
              "        species  year  month                    geometry\n",
              "0  Pitta nympha  2023      5  POINT (126.72514 33.20314)"
            ],
            "text/html": [
              "\n",
              "  <div id=\"df-6187fef1-702d-4f71-b592-8664e0bce044\" class=\"colab-df-container\">\n",
              "    <div>\n",
              "<style scoped>\n",
              "    .dataframe tbody tr th:only-of-type {\n",
              "        vertical-align: middle;\n",
              "    }\n",
              "\n",
              "    .dataframe tbody tr th {\n",
              "        vertical-align: top;\n",
              "    }\n",
              "\n",
              "    .dataframe thead th {\n",
              "        text-align: right;\n",
              "    }\n",
              "</style>\n",
              "<table border=\"1\" class=\"dataframe\">\n",
              "  <thead>\n",
              "    <tr style=\"text-align: right;\">\n",
              "      <th></th>\n",
              "      <th>species</th>\n",
              "      <th>year</th>\n",
              "      <th>month</th>\n",
              "      <th>geometry</th>\n",
              "    </tr>\n",
              "  </thead>\n",
              "  <tbody>\n",
              "    <tr>\n",
              "      <th>0</th>\n",
              "      <td>Pitta nympha</td>\n",
              "      <td>2023</td>\n",
              "      <td>5</td>\n",
              "      <td>POINT (126.72514 33.20314)</td>\n",
              "    </tr>\n",
              "  </tbody>\n",
              "</table>\n",
              "</div>\n",
              "    <div class=\"colab-df-buttons\">\n",
              "\n",
              "  <div class=\"colab-df-container\">\n",
              "    <button class=\"colab-df-convert\" onclick=\"convertToInteractive('df-6187fef1-702d-4f71-b592-8664e0bce044')\"\n",
              "            title=\"Convert this dataframe to an interactive table.\"\n",
              "            style=\"display:none;\">\n",
              "\n",
              "  <svg xmlns=\"http://www.w3.org/2000/svg\" height=\"24px\" viewBox=\"0 -960 960 960\">\n",
              "    <path d=\"M120-120v-720h720v720H120Zm60-500h600v-160H180v160Zm220 220h160v-160H400v160Zm0 220h160v-160H400v160ZM180-400h160v-160H180v160Zm440 0h160v-160H620v160ZM180-180h160v-160H180v160Zm440 0h160v-160H620v160Z\"/>\n",
              "  </svg>\n",
              "    </button>\n",
              "\n",
              "  <style>\n",
              "    .colab-df-container {\n",
              "      display:flex;\n",
              "      gap: 12px;\n",
              "    }\n",
              "\n",
              "    .colab-df-convert {\n",
              "      background-color: #E8F0FE;\n",
              "      border: none;\n",
              "      border-radius: 50%;\n",
              "      cursor: pointer;\n",
              "      display: none;\n",
              "      fill: #1967D2;\n",
              "      height: 32px;\n",
              "      padding: 0 0 0 0;\n",
              "      width: 32px;\n",
              "    }\n",
              "\n",
              "    .colab-df-convert:hover {\n",
              "      background-color: #E2EBFA;\n",
              "      box-shadow: 0px 1px 2px rgba(60, 64, 67, 0.3), 0px 1px 3px 1px rgba(60, 64, 67, 0.15);\n",
              "      fill: #174EA6;\n",
              "    }\n",
              "\n",
              "    .colab-df-buttons div {\n",
              "      margin-bottom: 4px;\n",
              "    }\n",
              "\n",
              "    [theme=dark] .colab-df-convert {\n",
              "      background-color: #3B4455;\n",
              "      fill: #D2E3FC;\n",
              "    }\n",
              "\n",
              "    [theme=dark] .colab-df-convert:hover {\n",
              "      background-color: #434B5C;\n",
              "      box-shadow: 0px 1px 3px 1px rgba(0, 0, 0, 0.15);\n",
              "      filter: drop-shadow(0px 1px 2px rgba(0, 0, 0, 0.3));\n",
              "      fill: #FFFFFF;\n",
              "    }\n",
              "  </style>\n",
              "\n",
              "    <script>\n",
              "      const buttonEl =\n",
              "        document.querySelector('#df-6187fef1-702d-4f71-b592-8664e0bce044 button.colab-df-convert');\n",
              "      buttonEl.style.display =\n",
              "        google.colab.kernel.accessAllowed ? 'block' : 'none';\n",
              "\n",
              "      async function convertToInteractive(key) {\n",
              "        const element = document.querySelector('#df-6187fef1-702d-4f71-b592-8664e0bce044');\n",
              "        const dataTable =\n",
              "          await google.colab.kernel.invokeFunction('convertToInteractive',\n",
              "                                                    [key], {});\n",
              "        if (!dataTable) return;\n",
              "\n",
              "        const docLinkHtml = 'Like what you see? Visit the ' +\n",
              "          '<a target=\"_blank\" href=https://colab.research.google.com/notebooks/data_table.ipynb>data table notebook</a>'\n",
              "          + ' to learn more about interactive tables.';\n",
              "        element.innerHTML = '';\n",
              "        dataTable['output_type'] = 'display_data';\n",
              "        await google.colab.output.renderOutput(dataTable, element);\n",
              "        const docLink = document.createElement('div');\n",
              "        docLink.innerHTML = docLinkHtml;\n",
              "        element.appendChild(docLink);\n",
              "      }\n",
              "    </script>\n",
              "  </div>\n",
              "\n",
              "\n",
              "    </div>\n",
              "  </div>\n"
            ]
          },
          "metadata": {},
          "execution_count": 5
        }
      ],
      "source": [
        "# DataFrame을 GeoDataFrame으로 변환\n",
        "gdf = gpd.GeoDataFrame(\n",
        "    df,\n",
        "    geometry=gpd.points_from_xy(df.decimalLongitude,\n",
        "                                df.decimalLatitude),\n",
        "    crs=\"EPSG:4326\"\n",
        ")[[\"species\", \"year\", \"month\", \"geometry\"]]\n",
        "\"\"\"\n",
        "# GeoDataFrame을 GeoPackage로 변환 (pycrs 모듈 필요)\n",
        "%pip install -U -q pycrs\n",
        "gdf.to_file(\"pitta_nympha_data.gpkg\", driver=\"GPKG\")\n",
        "gdf = gpd.read_file(\"pitta_nympha_data.gpkg\")\n",
        "\"\"\"\n",
        "gdf.head(1)"
      ]
    },
    {
      "cell_type": "markdown",
      "source": [],
      "metadata": {
        "id": "e1gLgTzB-Jhc"
      },
      "id": "e1gLgTzB-Jhc"
    },
    {
      "cell_type": "markdown",
      "source": [
        "이번에는 GeoDataFrame에서 연도(year)와 월별(month) 데이터 분포를 시각화하여 그래프로 표시하고, 그래프를 이미지 파일로 저장하는 함수를 만들었습니다. 이렇게 하면 종 출현 데이터의 시계열 패턴 및 계절적 변동을 파악할 수 있으며, 데이터의 이상치나 품질 문제를 신속하게 확인할 수 있습니다."
      ],
      "metadata": {
        "id": "cSAidSFr-PY6"
      },
      "id": "cSAidSFr-PY6"
    },
    {
      "cell_type": "code",
      "execution_count": 6,
      "id": "2fe7983e-1a71-4881-aa81-8ed761051d3f",
      "metadata": {
        "id": "2fe7983e-1a71-4881-aa81-8ed761051d3f",
        "outputId": "0124da93-dcd3-413f-ee7d-1ae17e89020f",
        "colab": {
          "base_uri": "https://localhost:8080/",
          "height": 17
        }
      },
      "outputs": [
        {
          "output_type": "display_data",
          "data": {
            "text/plain": [
              "<IPython.core.display.HTML object>"
            ],
            "text/html": [
              "\n",
              "            <style>\n",
              "                .geemap-dark {\n",
              "                    --jp-widgets-color: white;\n",
              "                    --jp-widgets-label-color: white;\n",
              "                    --jp-ui-font-color1: white;\n",
              "                    --jp-layout-color2: #454545;\n",
              "                    background-color: #383838;\n",
              "                }\n",
              "                    \n",
              "                .geemap-dark .jupyter-button {\n",
              "                    --jp-layout-color3: #383838;\n",
              "                }\n",
              "                \n",
              "                .geemap-colab {\n",
              "                    background-color: var(--colab-primary-surface-color, white);\n",
              "                }\n",
              "                    \n",
              "                .geemap-colab .jupyter-button {\n",
              "                    --jp-layout-color3: var(--colab-primary-surface-color, white);\n",
              "                }\n",
              "            </style>\n",
              "            "
            ]
          },
          "metadata": {}
        }
      ],
      "source": [
        "# 연도(year)와 월별(month) 데이터 분포 시각화\n",
        "def plot_data_distribution(gdf, h_size=12):\n",
        "\n",
        "    plt.figure(figsize=(h_size, h_size-8))\n",
        "\n",
        "    # 연도별 데이터 분포 그래프 (왼쪽)\n",
        "    plt.subplot(1, 2, 1)\n",
        "    year_counts = gdf['year'].value_counts().sort_index()\n",
        "    plt.bar(year_counts.index, year_counts.values)\n",
        "    plt.xlabel('Year')\n",
        "    plt.ylabel('Count')\n",
        "    plt.title('Yearly Data Distribution')\n",
        "\n",
        "    # 막대 그래프 위에 데이터 개수 표시\n",
        "    for i, count in enumerate(year_counts.values):\n",
        "        plt.text(year_counts.index[i], count, str(count), ha='center', va='bottom')\n",
        "\n",
        "    # 월별 데이터 분포 그래프 (오른쪽)\n",
        "    plt.subplot(1, 2, 2)\n",
        "    month_counts = gdf['month'].value_counts().sort_index()\n",
        "    plt.bar(month_counts.index, month_counts.values)\n",
        "    plt.xlabel('Month')\n",
        "    plt.ylabel('Count')\n",
        "    plt.title('Monthly Data Distribution')\n",
        "\n",
        "    # 막대 그래프 위에 데이터 개수 표시\n",
        "    for i, count in enumerate(month_counts.values):\n",
        "        plt.text(month_counts.index[i], count, str(count), ha='center', va='bottom')\n",
        "\n",
        "    # x 축의 눈금을 정수 형식으로 설정\n",
        "    plt.xticks(month_counts.index, map(int, month_counts.index))\n",
        "\n",
        "    # 그래프 출력\n",
        "    plt.tight_layout()\n",
        "    plt.savefig('data_distribution_plot.png')\n",
        "    plt.show()"
      ]
    },
    {
      "cell_type": "code",
      "execution_count": 7,
      "id": "f5b68331-7426-4c3b-ba9a-e320ccb8db27",
      "metadata": {
        "id": "f5b68331-7426-4c3b-ba9a-e320ccb8db27",
        "outputId": "f72a88e4-912a-4975-b7cf-a07b40da52fe",
        "colab": {
          "base_uri": "https://localhost:8080/",
          "height": 407
        }
      },
      "outputs": [
        {
          "output_type": "display_data",
          "data": {
            "text/plain": [
              "<IPython.core.display.HTML object>"
            ],
            "text/html": [
              "\n",
              "            <style>\n",
              "                .geemap-dark {\n",
              "                    --jp-widgets-color: white;\n",
              "                    --jp-widgets-label-color: white;\n",
              "                    --jp-ui-font-color1: white;\n",
              "                    --jp-layout-color2: #454545;\n",
              "                    background-color: #383838;\n",
              "                }\n",
              "                    \n",
              "                .geemap-dark .jupyter-button {\n",
              "                    --jp-layout-color3: #383838;\n",
              "                }\n",
              "                \n",
              "                .geemap-colab {\n",
              "                    background-color: var(--colab-primary-surface-color, white);\n",
              "                }\n",
              "                    \n",
              "                .geemap-colab .jupyter-button {\n",
              "                    --jp-layout-color3: var(--colab-primary-surface-color, white);\n",
              "                }\n",
              "            </style>\n",
              "            "
            ]
          },
          "metadata": {}
        },
        {
          "output_type": "display_data",
          "data": {
            "text/plain": [
              "<Figure size 1200x400 with 2 Axes>"
            ],
            "image/png": "[encoded data removed]"
          },
          "metadata": {}
        }
      ],
      "source": [
        "plot_data_distribution(gdf)"
      ]
    },
    {
      "cell_type": "markdown",
      "source": [
        "1995년 데이터는 표본이 매우 적고 다른 연도의 데이터와의 간격이 크며, 8월과 9월도 표본이 적고 계절적 특성이 다른 시기의 데이터입니다. 이를 제외하는 것은 모델의 안정성과 예측력을 향상시키는데 기여할 것입니다.\n",
        "\n",
        "그러나 데이터를 제외하는 것이 모델의 일반화 능력을 향상시킬 수는 있지만, 연구 목적에 중요한 정보를 잃어버릴 수도 있기 때문에 이런 결정은 주의 깊게 이루어져야 합니다."
      ],
      "metadata": {
        "id": "mb0K6xWn-jEU"
      },
      "id": "mb0K6xWn-jEU"
    },
    {
      "cell_type": "code",
      "execution_count": 8,
      "id": "892d9b13-8910-4094-a0b2-53b354c5e80e",
      "metadata": {
        "id": "892d9b13-8910-4094-a0b2-53b354c5e80e",
        "outputId": "0b09b41d-4ee0-466e-e018-69764582f155",
        "colab": {
          "base_uri": "https://localhost:8080/",
          "height": 407
        }
      },
      "outputs": [
        {
          "output_type": "display_data",
          "data": {
            "text/plain": [
              "<IPython.core.display.HTML object>"
            ],
            "text/html": [
              "\n",
              "            <style>\n",
              "                .geemap-dark {\n",
              "                    --jp-widgets-color: white;\n",
              "                    --jp-widgets-label-color: white;\n",
              "                    --jp-ui-font-color1: white;\n",
              "                    --jp-layout-color2: #454545;\n",
              "                    background-color: #383838;\n",
              "                }\n",
              "                    \n",
              "                .geemap-dark .jupyter-button {\n",
              "                    --jp-layout-color3: #383838;\n",
              "                }\n",
              "                \n",
              "                .geemap-colab {\n",
              "                    background-color: var(--colab-primary-surface-color, white);\n",
              "                }\n",
              "                    \n",
              "                .geemap-colab .jupyter-button {\n",
              "                    --jp-layout-color3: var(--colab-primary-surface-color, white);\n",
              "                }\n",
              "            </style>\n",
              "            "
            ]
          },
          "metadata": {}
        },
        {
          "output_type": "display_data",
          "data": {
            "text/plain": [
              "<Figure size 1200x400 with 2 Axes>"
            ],
            "image/png": "[encoded data removed]"
          },
          "metadata": {}
        }
      ],
      "source": [
        "# 연도와 월별 데이터 필터링\n",
        "filtered_gdf = gdf[\n",
        "    (~gdf['year'].eq(1995)) &\n",
        "    (~gdf['month'].between(8, 9))\n",
        "]\n",
        "\n",
        "plot_data_distribution(filtered_gdf)"
      ]
    },
    {
      "cell_type": "markdown",
      "source": [
        "또한 히트맵(heatmap)을 사용하면 연도와 월별 종 출현 빈도를 한눈에 파악할 수 있으며, 데이터의 시간적 변화와 패턴을 직관적으로 시각화할 수 있습니다."
      ],
      "metadata": {
        "id": "dDAP1bTL-tNm"
      },
      "id": "dDAP1bTL-tNm"
    },
    {
      "cell_type": "code",
      "execution_count": 9,
      "id": "60bb0dba-4ac6-4e7d-940b-4b2a0ff643e7",
      "metadata": {
        "id": "60bb0dba-4ac6-4e7d-940b-4b2a0ff643e7",
        "outputId": "e3d33f3c-9c91-4f52-b345-f531b0073ba0",
        "colab": {
          "base_uri": "https://localhost:8080/",
          "height": 17
        }
      },
      "outputs": [
        {
          "output_type": "display_data",
          "data": {
            "text/plain": [
              "<IPython.core.display.HTML object>"
            ],
            "text/html": [
              "\n",
              "            <style>\n",
              "                .geemap-dark {\n",
              "                    --jp-widgets-color: white;\n",
              "                    --jp-widgets-label-color: white;\n",
              "                    --jp-ui-font-color1: white;\n",
              "                    --jp-layout-color2: #454545;\n",
              "                    background-color: #383838;\n",
              "                }\n",
              "                    \n",
              "                .geemap-dark .jupyter-button {\n",
              "                    --jp-layout-color3: #383838;\n",
              "                }\n",
              "                \n",
              "                .geemap-colab {\n",
              "                    background-color: var(--colab-primary-surface-color, white);\n",
              "                }\n",
              "                    \n",
              "                .geemap-colab .jupyter-button {\n",
              "                    --jp-layout-color3: var(--colab-primary-surface-color, white);\n",
              "                }\n",
              "            </style>\n",
              "            "
            ]
          },
          "metadata": {}
        }
      ],
      "source": [
        "# 연도(year)와 월별(month) 데이터 분포 히트맵\n",
        "def plot_heatmap(gdf, h_size=8):\n",
        "\n",
        "    statistics = gdf.groupby([\"month\", \"year\"]).size().unstack(fill_value=0)\n",
        "\n",
        "    # 히트맵\n",
        "    plt.figure(figsize=(h_size, h_size-6))\n",
        "    heatmap = plt.imshow(statistics.values, cmap=\"YlOrBr\", origin=\"upper\", aspect=\"auto\")\n",
        "\n",
        "    # 각 픽셀 위에 수치 표시\n",
        "    for i in range(len(statistics.index)):\n",
        "        for j in range(len(statistics.columns)):\n",
        "            plt.text(j, i, statistics.values[i, j], ha=\"center\", va=\"center\", color=\"black\")\n",
        "\n",
        "    plt.colorbar(heatmap, label=\"Count\")\n",
        "    plt.title(\"Monthly Species Count by Year\")\n",
        "    plt.xlabel(\"Year\")\n",
        "    plt.ylabel(\"Month\")\n",
        "    plt.xticks(range(len(statistics.columns)), statistics.columns)\n",
        "    plt.yticks(range(len(statistics.index)), statistics.index)\n",
        "    plt.tight_layout()\n",
        "    plt.savefig('heatmap_plot.png')\n",
        "    plt.show()\n",
        "    print(gdf.groupby([\"month\", \"year\"]).size().unstack(fill_value=0))"
      ]
    },
    {
      "cell_type": "code",
      "execution_count": 14,
      "id": "d5e51554-0772-4ef4-bbd3-a0351c3495b3",
      "metadata": {
        "id": "d5e51554-0772-4ef4-bbd3-a0351c3495b3",
        "outputId": "8606c7e0-915b-437a-f7fa-69c7fc78c536",
        "colab": {
          "base_uri": "https://localhost:8080/",
          "height": 298
        }
      },
      "outputs": [
        {
          "output_type": "display_data",
          "data": {
            "text/plain": [
              "<IPython.core.display.HTML object>"
            ],
            "text/html": [
              "\n",
              "            <style>\n",
              "                .geemap-dark {\n",
              "                    --jp-widgets-color: white;\n",
              "                    --jp-widgets-label-color: white;\n",
              "                    --jp-ui-font-color1: white;\n",
              "                    --jp-layout-color2: #454545;\n",
              "                    background-color: #383838;\n",
              "                }\n",
              "                    \n",
              "                .geemap-dark .jupyter-button {\n",
              "                    --jp-layout-color3: #383838;\n",
              "                }\n",
              "                \n",
              "                .geemap-colab {\n",
              "                    background-color: var(--colab-primary-surface-color, white);\n",
              "                }\n",
              "                    \n",
              "                .geemap-colab .jupyter-button {\n",
              "                    --jp-layout-color3: var(--colab-primary-surface-color, white);\n",
              "                }\n",
              "            </style>\n",
              "            "
            ]
          },
          "metadata": {}
        },
        {
          "output_type": "display_data",
          "data": {
            "text/plain": [
              "<Figure size 800x200 with 2 Axes>"
            ],
            "image/png": "[encoded data removed]"
          },
          "metadata": {}
        },
        {
          "output_type": "stream",
          "name": "stdout",
          "text": [
            "year   2012  2013  2014  2015  2016  2017  2018  2019  2020  2021  2022  2023\n",
            "month                                                                        \n",
            "5         0     0     5     0     2     1     5     4     5    22     8     1\n",
            "6         0     2     6     1     1     6     0     6    13    35    20     3\n",
            "7         1     0     0     1     0     1     1     7     1    10     8     0\n"
          ]
        }
      ],
      "source": [
        "plot_heatmap(filtered_gdf)"
      ]
    },
    {
      "cell_type": "markdown",
      "source": [
        "이제 필터링된 GeoDataFrame을 Google Earth Engine 객체로 변환합니다."
      ],
      "metadata": {
        "id": "ZU61yjLs-6lM"
      },
      "id": "ZU61yjLs-6lM"
    },
    {
      "cell_type": "code",
      "execution_count": 34,
      "id": "97b4666d-a9b2-4746-8cac-07a9daa055a1",
      "metadata": {
        "id": "97b4666d-a9b2-4746-8cac-07a9daa055a1",
        "outputId": "1449e2ea-0269-48ec-98cd-6bb7236f4c42",
        "colab": {
          "base_uri": "https://localhost:8080/",
          "height": 17
        }
      },
      "outputs": [
        {
          "output_type": "display_data",
          "data": {
            "text/plain": [
              "<IPython.core.display.HTML object>"
            ],
            "text/html": [
              "\n",
              "            <style>\n",
              "                .geemap-dark {\n",
              "                    --jp-widgets-color: white;\n",
              "                    --jp-widgets-label-color: white;\n",
              "                    --jp-ui-font-color1: white;\n",
              "                    --jp-layout-color2: #454545;\n",
              "                    background-color: #383838;\n",
              "                }\n",
              "                    \n",
              "                .geemap-dark .jupyter-button {\n",
              "                    --jp-layout-color3: #383838;\n",
              "                }\n",
              "                \n",
              "                .geemap-colab {\n",
              "                    background-color: var(--colab-primary-surface-color, white);\n",
              "                }\n",
              "                    \n",
              "                .geemap-colab .jupyter-button {\n",
              "                    --jp-layout-color3: var(--colab-primary-surface-color, white);\n",
              "                }\n",
              "            </style>\n",
              "            "
            ]
          },
          "metadata": {}
        }
      ],
      "source": [
        "# GeoDataFrame을 Earth Engine 객체로 변환\n",
        "data_raw = geemap.geopandas_to_ee(filtered_gdf)"
      ]
    },
    {
      "cell_type": "markdown",
      "source": [
        "이어서 종 분포 모델 결과의 래스터 픽셀 크기는 1km 해상도로 정의하겠습니다."
      ],
      "metadata": {
        "id": "f8qNKjHj_F6q"
      },
      "id": "f8qNKjHj_F6q"
    },
    {
      "cell_type": "code",
      "execution_count": 35,
      "id": "63c61692-02f6-4044-bbf5-66550d9962fc",
      "metadata": {
        "id": "63c61692-02f6-4044-bbf5-66550d9962fc",
        "outputId": "6e497c15-1c79-4b41-8554-56d95ed2ffa1",
        "colab": {
          "base_uri": "https://localhost:8080/",
          "height": 17
        }
      },
      "outputs": [
        {
          "output_type": "display_data",
          "data": {
            "text/plain": [
              "<IPython.core.display.HTML object>"
            ],
            "text/html": [
              "\n",
              "            <style>\n",
              "                .geemap-dark {\n",
              "                    --jp-widgets-color: white;\n",
              "                    --jp-widgets-label-color: white;\n",
              "                    --jp-ui-font-color1: white;\n",
              "                    --jp-layout-color2: #454545;\n",
              "                    background-color: #383838;\n",
              "                }\n",
              "                    \n",
              "                .geemap-dark .jupyter-button {\n",
              "                    --jp-layout-color3: #383838;\n",
              "                }\n",
              "                \n",
              "                .geemap-colab {\n",
              "                    background-color: var(--colab-primary-surface-color, white);\n",
              "                }\n",
              "                    \n",
              "                .geemap-colab .jupyter-button {\n",
              "                    --jp-layout-color3: var(--colab-primary-surface-color, white);\n",
              "                }\n",
              "            </style>\n",
              "            "
            ]
          },
          "metadata": {}
        }
      ],
      "source": [
        "# 공간 해상도 설정(m)\n",
        "GrainSize = 1000"
      ]
    },
    {
      "cell_type": "markdown",
      "source": [
        "동일한 1km 해상도의 래스터 픽셀 내에 여러 개의 출현 지점이 있을 경우, 이들은 같은 지리적 위치에 있어 동일한 환경 조건을 공유할 가능성이 높습니다. 분석 시, 이러한 데이터를 그대로 사용하면 데이터로 인해 분석 결과에 편향이 발생할 수 있습니다.\n",
        "\n",
        "즉, 지리적 샘플링 편향(geographic sampling bias)의 잠재적 영향을 제한해야 합니다. 각 1km 픽셀 내에서 하나의 위치만을 남겨 나머지는 모두 제거함으로써 모델이 환경 조건을 더 객관적으로 반영하도록 조정하겠습니다."
      ],
      "metadata": {
        "id": "0rUFKvkD_aMx"
      },
      "id": "0rUFKvkD_aMx"
    },
    {
      "cell_type": "code",
      "execution_count": 36,
      "id": "a8c5683b-51bb-460a-b8cf-1f9e5600d111",
      "metadata": {
        "id": "a8c5683b-51bb-460a-b8cf-1f9e5600d111",
        "outputId": "e910bcc5-142f-44f4-c668-6c9007479cd6",
        "colab": {
          "base_uri": "https://localhost:8080/",
          "height": 53
        }
      },
      "outputs": [
        {
          "output_type": "display_data",
          "data": {
            "text/plain": [
              "<IPython.core.display.HTML object>"
            ],
            "text/html": [
              "\n",
              "            <style>\n",
              "                .geemap-dark {\n",
              "                    --jp-widgets-color: white;\n",
              "                    --jp-widgets-label-color: white;\n",
              "                    --jp-ui-font-color1: white;\n",
              "                    --jp-layout-color2: #454545;\n",
              "                    background-color: #383838;\n",
              "                }\n",
              "                    \n",
              "                .geemap-dark .jupyter-button {\n",
              "                    --jp-layout-color3: #383838;\n",
              "                }\n",
              "                \n",
              "                .geemap-colab {\n",
              "                    background-color: var(--colab-primary-surface-color, white);\n",
              "                }\n",
              "                    \n",
              "                .geemap-colab .jupyter-button {\n",
              "                    --jp-layout-color3: var(--colab-primary-surface-color, white);\n",
              "                }\n",
              "            </style>\n",
              "            "
            ]
          },
          "metadata": {}
        },
        {
          "output_type": "stream",
          "name": "stdout",
          "text": [
            "Original data size: 176\n",
            "Final data size: 111\n"
          ]
        }
      ],
      "source": [
        "def remove_duplicates(data, GrainSize):\n",
        "    # 선택한 공간 해상도(1km)에서 픽셀 당 출현 기록 하나만 무작위 선택\n",
        "    random_raster = ee.Image.random().reproject('EPSG:4326', None, GrainSize)\n",
        "    rand_point_vals = random_raster.sampleRegions(collection=ee.FeatureCollection(data), scale=10, geometries=True)\n",
        "    return rand_point_vals.distinct('random')\n",
        "\n",
        "Data = remove_duplicates(data_raw, GrainSize)\n",
        "\n",
        "# 선택 전, 선택 후\n",
        "print('Original data size:', data_raw.size().getInfo())\n",
        "print('Final data size:', Data.size().getInfo())"
      ]
    },
    {
      "cell_type": "markdown",
      "source": [
        "지리적 샘플링 편향의 전처리 전(파란색)과 후(빨간색)를 가시화한 결과는 다음과 같습니다. 두 개 레이어를 비교하기 쉽도록 팔색조 출현 좌표가 많은 [한라산국립공원](https://www.protectedplanet.net/10931)으로 지도를 이동했습니다."
      ],
      "metadata": {
        "id": "jsBCGGD9_qNn"
      },
      "id": "jsBCGGD9_qNn"
    },
    {
      "cell_type": "code",
      "execution_count": 55,
      "id": "4f56291b-a215-4d99-8d68-c886a98ddafb",
      "metadata": {
        "id": "4f56291b-a215-4d99-8d68-c886a98ddafb",
        "outputId": "ed25e057-1b47-43c6-b80b-78450daa55ae",
        "colab": {
          "base_uri": "https://localhost:8080/",
          "height": 421,
          "referenced_widgets": [
            "34897ce609d84bd8bb49f2dbfdb444a0",
            "f7043b1d9c3c48fc8b87b44712cd55ce",
            "482cf3f9b1b24be5969e3e9d7ba13359",
            "d50a36965010473fbc33c5c08789c754",
            "23ce7bfe2c03476ab233ab6fe0a343c5",
            "274cccbd5bfe4d7c9526a1771443c1d7",
            "41d7b5ae6d544795852288fc127f83f8",
            "293d02f5ba4e4be8bcdc1e850ecb713d",
            "2620bb91f7fe4ea18efbe57d7e00335a",
            "6f98c46298d441e3b40c4c658e07c754",
            "664ebb5831dd462888a81526d3e60b08",
            "e544af921e314f00a46d2fb9416c9994",
            "e5a821b29c2d4fe09c7b02ac68464d24",
            "26f1e97296364f039ac78eba85b1a193",
            "151742d6122148b29c5acc0851149a6e",
            "06a4e51b79a74269906950774b7675a6",
            "46c69ce2a9e6450da9fbd39d6689f3b2",
            "0c36e741c438483bb18a48b3f4cb445e",
            "55fd7be0f4ea413881d317a91ea2bf37",
            "07c496a120fc416e8c1e1bb30ebb86cb",
            "97c315b820b047ac819efdaaf86d0af0",
            "f6d89b4f82a54a8c8553297a76a0fd71",
            "d731805205734333a95f475096060ea0",
            "27d6e359081c4e84b07a5fc422172cbc",
            "5493ed6833594b529b1dd229b70f6d09",
            "44085fd87c3143a0b2b700848f765beb",
            "3648cfa1df90494699dab548a73f612a",
            "8ed7d07f5c7b4cd983d4690cfb96534c"
          ]
        }
      },
      "outputs": [
        {
          "output_type": "display_data",
          "data": {
            "text/plain": [
              "<IPython.core.display.HTML object>"
            ],
            "text/html": [
              "\n",
              "            <style>\n",
              "                .geemap-dark {\n",
              "                    --jp-widgets-color: white;\n",
              "                    --jp-widgets-label-color: white;\n",
              "                    --jp-ui-font-color1: white;\n",
              "                    --jp-layout-color2: #454545;\n",
              "                    background-color: #383838;\n",
              "                }\n",
              "                    \n",
              "                .geemap-dark .jupyter-button {\n",
              "                    --jp-layout-color3: #383838;\n",
              "                }\n",
              "                \n",
              "                .geemap-colab {\n",
              "                    background-color: var(--colab-primary-surface-color, white);\n",
              "                }\n",
              "                    \n",
              "                .geemap-colab .jupyter-button {\n",
              "                    --jp-layout-color3: var(--colab-primary-surface-color, white);\n",
              "                }\n",
              "            </style>\n",
              "            "
            ]
          },
          "metadata": {}
        },
        {
          "output_type": "display_data",
          "data": {
            "text/plain": [
              "Map(center=[33.516, 126.712], controls=(WidgetControl(options=['position', 'transparent_bg'], widget=SearchDat…"
            ],
            "application/vnd.jupyter.widget-view+json": {
              "version_major": 2,
              "version_minor": 0,
              "model_id": "34897ce609d84bd8bb49f2dbfdb444a0"
            }
          },
          "metadata": {
            "application/vnd.jupyter.widget-view+json": {
              "colab": {
                "custom_widget_manager": {
                  "url": "https://ssl.gstatic.com/colaboratory-static/widgets/colab-cdn-widget-manager/2b70e893a8ba7c0f/manager.min.js"
                }
              }
            }
          }
        }
      ],
      "source": [
        "# 지리적 샘플링 편향의 전처리 전(파란색)과 후(빨간색) 가시화\n",
        "Map = geemap.Map(layout={'height':'400px', 'width':'800px'})\n",
        "\n",
        "Vworld_Base = TileLayer(\n",
        "    url='https://xdworld.vworld.kr/2d/Base/service/{z}/{x}/{y}.png',\n",
        "    name='Vworld Base',\n",
        "    attribution='Vworld',\n",
        "    shown=True\n",
        ")\n",
        "Map.add_layer(Vworld_Base)\n",
        "\n",
        "random_raster = ee.Image.random().reproject('EPSG:4326', None, GrainSize)\n",
        "Map.addLayer(random_raster, {'min': 0, 'max': 1, 'palette': ['black', 'white'], 'opacity': 0.5}, 'Random Raster')\n",
        "Map.addLayer(data_raw, {'color': 'blue'}, 'Original data')\n",
        "Map.addLayer(Data, {'color': 'red'}, 'Final data')\n",
        "Map.setCenter(126.712, 33.516, 15) # 17은 지도의 확대 레벨을 의미\n",
        "# Map.centerObject(protected_area, 9)\n",
        "Map"
      ]
    },
    {
      "cell_type": "markdown",
      "id": "bdc090c1-153e-44c9-b7f3-70608ed009c8",
      "metadata": {
        "id": "bdc090c1-153e-44c9-b7f3-70608ed009c8"
      },
      "source": [
        "### 6.2.2. 관심 영역 정의\n",
        "\n",
        "\"관심 영역(AOI: Area Of Interest)\"는 연구자가 분석하려는 지리적 영역을 가리키는 용어입니다. 연구지역과 비슷한 의미를 가집니다.\n",
        "\n",
        "여기서는 출현지점 레이어 지오메트리의 바운딩 박스(경계 상자)를 가져와서 그 주변에 50킬로미터 크기의 버퍼를 생성(최대 1,000미터의 오차 허용)하였습니다."
      ]
    },
    {
      "cell_type": "code",
      "execution_count": null,
      "id": "9aede96f-0dc0-4100-af71-04a1ef53509a",
      "metadata": {
        "id": "9aede96f-0dc0-4100-af71-04a1ef53509a"
      },
      "outputs": [],
      "source": [
        "# AOI 정의\n",
        "AOI = Data.geometry().bounds().buffer(\n",
        "    distance=50000, maxError=1000)\n",
        "\n",
        "# 연구지역 경계를 지도에 추가\n",
        "outline = ee.Image().byte().paint(\n",
        "    featureCollection=AOI, color=1, width=3)\n",
        "\n",
        "Map.addLayer(outline, {'palette': 'FF0000'}, \"Study Area\")\n",
        "Map.centerObject(AOI, 6)\n",
        "Map"
      ]
    },
    {
      "cell_type": "markdown",
      "id": "65881f52-f725-455e-9195-b5f51e78d363",
      "metadata": {
        "id": "65881f52-f725-455e-9195-b5f51e78d363"
      },
      "source": [
        "### 6.2.3. GEE 환경변수 추가\n",
        "\n",
        "이제 환경변수를 추가해 보겠습니다. GEE는 기온, 강수량, 고도, 수목 피복, 지형 등 다양한 환경변수에 대한 광범위한 데이터셋을 제공합니다. 이를 통해 팔색조의 서식지 선호도에 영향을 미치는 다양한 요인들을 종합적으로 분석할 수 있습니다.\n",
        "\n",
        "SDM에서 GEE 환경변수의 선택은 해당 생물종의 서식지 선호도 특성을 반영해야 합니다. 이를 위해서는 팔색조의 이전 문헌 및 연구 고찰이 선행되어야 합니다. 이 글은 주로 튜토리얼에 초점을 맞추었기 때문에, 일부 심도 깊은 내용은 생략되었습니다."
      ]
    },
    {
      "cell_type": "markdown",
      "source": [
        "**WorldClim V1 Bioclim**: 월별 기온과 강수량으로부터 파생된 19개 생물기후 변수(bioclimatic variables)들을 제공합니다. 1960년부터 1991년 사이의 평균 기온과 강수량으로 계산되었으며 해상도는 927.67 m입니다."
      ],
      "metadata": {
        "id": "1P-cEMnSD5mW"
      },
      "id": "1P-cEMnSD5mW"
    },
    {
      "cell_type": "code",
      "execution_count": null,
      "id": "f0c88708-b7bc-4662-88c1-af0b54ccca44",
      "metadata": {
        "id": "f0c88708-b7bc-4662-88c1-af0b54ccca44"
      },
      "outputs": [],
      "source": [
        "# WorldClim V1 Bioclim\n",
        "BIO = ee.Image(\"WORLDCLIM/V1/BIO\")"
      ]
    },
    {
      "cell_type": "markdown",
      "source": [
        "**NASA SRTM Digital Elevation 30m**: 셔틀 레이더 지형 미션(SRTM: Shuttle Radar Topography Mission)의 디지털 고도 데이터로, 주로 2000년에 데이터를 수집했으며 1 아크초(대략 30m) 해상도로 제공됩니다. 아래 코드는 SRTM 데이터로부터 고도, 경사, 경사방향, 음영기복 레이어를 계산해줍니다."
      ],
      "metadata": {
        "id": "wSg4f3zcEpzW"
      },
      "id": "wSg4f3zcEpzW"
    },
    {
      "cell_type": "code",
      "execution_count": null,
      "id": "70ef5302-d677-47a4-bd6a-cdda20b38280",
      "metadata": {
        "id": "70ef5302-d677-47a4-bd6a-cdda20b38280"
      },
      "outputs": [],
      "source": [
        "# NASA SRTM Digital Elevation 30m\n",
        "Terrain = ee.Algorithms.Terrain(ee.Image(\"USGS/SRTMGL1_003\"))"
      ]
    },
    {
      "cell_type": "markdown",
      "source": [
        "**Global Forest Cover Change (GFCC) Tree Cover Multi-Year Global 30m**: Landsat 식생 연속 필드(VCF: Vegetation Continuous Fields) 수목 피복 레이어는 수목이 특정 높이(5m) 이상일 때 수직으로 투영된 식생 면적의 비율을 추정합니다. 이 데이터셋은 2000년, 2005년, 2010년, 2015년을 중심으로 한 네 시기에 대해 제공되며 해상도는 30m입니다. 여기서는 네 시기의 중간값을 택했습니다."
      ],
      "metadata": {
        "id": "55GbRhziEx1L"
      },
      "id": "55GbRhziEx1L"
    },
    {
      "cell_type": "code",
      "execution_count": null,
      "id": "eb14f1e0-1ef5-4e5c-bc94-d27b24723f98",
      "metadata": {
        "id": "eb14f1e0-1ef5-4e5c-bc94-d27b24723f98"
      },
      "outputs": [],
      "source": [
        "# Global Forest Cover Change (GFCC) Tree Cover Multi-Year Global 30m\n",
        "TCC = ee.ImageCollection(\"NASA/MEASURES/GFCC/TC/v3\")\n",
        "MedianTCC = TCC.filterDate('2000-01-01', '2015-12-31')\n",
        "MedianTCC = MedianTCC.select(['tree_canopy_cover'], ['TCC']).median()"
      ]
    },
    {
      "cell_type": "markdown",
      "source": [
        "`BIO`(생물기후), `Terrain`(지형) 및 `MedianTCC`(수폭피복)를 하나의 다중 밴드 이미지로 결합합니다. `Terrain`에서 `elevation` 밴드를 선택하고, `elevation`이 0보다 큰 지점들로 구성된 마스크를 생성합니다. 즉, 해수면 이하의 지역(예: 바다)를 마스킹하고 분석을 관심 영역으로 제한합니다. 이로써 연구자는 AOI에 대한 다양한 환경적 요인들을 통합적으로 분석할 수 있는 준비를 마치게 됩니다."
      ],
      "metadata": {
        "id": "5ysukAMrE9Kk"
      },
      "id": "5ysukAMrE9Kk"
    },
    {
      "cell_type": "code",
      "execution_count": null,
      "id": "d97302d8-bb90-4772-8351-220341eeda24",
      "metadata": {
        "id": "d97302d8-bb90-4772-8351-220341eeda24"
      },
      "outputs": [],
      "source": [
        "# 밴드들을 하나의 다중 밴드 이미지로 결합\n",
        "predictors = BIO.addBands(Terrain).addBands(MedianTCC)\n",
        "\n",
        "# 수역 마스크 생성\n",
        "watermask =  Terrain.select('elevation').gt(0)\n",
        "\n",
        "# 해양 픽셀 마스킹 및 관심 영역 클리핑\n",
        "predictors = predictors.updateMask(watermask).clip(AOI)"
      ]
    },
    {
      "cell_type": "markdown",
      "source": [
        "상관관계가 높은 예측변수들을 함께 모델에 포함하면 **다중공선성(Multicollinearity)** 문제가 발생할 수 있습니다. 다중공선성은 모델 내에서 독립 변수들 간에 강한 선형 관계가 있을 때 발생하는 현상으로, 이로 인해 모델의 계수(가중치) 추정의 불안정성을 야기합니다. 이러한 불안정성은 모델의 신뢰도를 떨어뜨리며, 새로운 데이터에 대한 예측 또는 해석을 어렵게 만들 수 있습니다.\n",
        "\n",
        "따라서, 다중공선성을 고려하여 예측변수를 선택하는 과정을 진행해 보겠습니다. 먼저 예측변수 이미지에서 임의로 5,000개 지점을 선택하고, 해당 지점에서 다중-밴드 예측 이미지의 예측변수 값을 추출합니다."
      ],
      "metadata": {
        "id": "lP0BYFKiFwhB"
      },
      "id": "lP0BYFKiFwhB"
    },
    {
      "cell_type": "code",
      "execution_count": null,
      "id": "19e33c6c-7940-4209-882b-24744c56c088",
      "metadata": {
        "id": "19e33c6c-7940-4209-882b-24744c56c088"
      },
      "outputs": [],
      "source": [
        "# 임의로 5,000개 지점 생성\n",
        "DataCor = predictors.sample(\n",
        "    scale=GrainSize, numPixels=5000, geometries=True)\n",
        "# 예측변수 값 추출\n",
        "PixelVals = predictors.sampleRegions(\n",
        "    collection=DataCor, scale=GrainSize, tileScale=16)"
      ]
    },
    {
      "cell_type": "markdown",
      "source": [
        "추출한 지점별 예측변수 값을 DataFrame으로 변환하여 첫번째 행을 확인해 봅니다."
      ],
      "metadata": {
        "id": "aqnc0q6UG7ZX"
      },
      "id": "aqnc0q6UG7ZX"
    },
    {
      "cell_type": "code",
      "execution_count": null,
      "id": "be85eb27-7674-43c3-a136-b32f7f9d306f",
      "metadata": {
        "id": "be85eb27-7674-43c3-a136-b32f7f9d306f"
      },
      "outputs": [],
      "source": [
        "# 예측변수 값 ee를 df로 변환\n",
        "PixelVals_df = geemap.ee_to_df(PixelVals)\n",
        "PixelVals_df.head(1)"
      ]
    },
    {
      "cell_type": "code",
      "execution_count": null,
      "id": "2e1e6d3c-87dd-463e-a918-9dc51b3b9661",
      "metadata": {
        "id": "2e1e6d3c-87dd-463e-a918-9dc51b3b9661"
      },
      "outputs": [],
      "source": [
        "columns = PixelVals_df.columns\n",
        "print(columns)"
      ]
    },
    {
      "cell_type": "markdown",
      "source": [
        "**스피어만(Spearman) 상관계수**를 사용하여 주어진 예측 변수들 간의 상관관계를 계산하고, 이를 시각화한 히트맵을 출력해 봅니다."
      ],
      "metadata": {
        "id": "5LQ0W4nPHZKZ"
      },
      "id": "5LQ0W4nPHZKZ"
    },
    {
      "cell_type": "code",
      "execution_count": null,
      "id": "52d48707-1f4f-4752-90fa-0a566416717d",
      "metadata": {
        "id": "52d48707-1f4f-4752-90fa-0a566416717d"
      },
      "outputs": [],
      "source": [
        "def plot_correlation_heatmap(dataframe, h_size=10):\n",
        "    # 스피어만 상관계수 계산\n",
        "    correlation_matrix = dataframe.corr(method=\"spearman\")\n",
        "\n",
        "    # 히트맵 그리기\n",
        "    plt.figure(figsize=(h_size, h_size-2))\n",
        "    plt.imshow(correlation_matrix, cmap='coolwarm', interpolation='nearest')\n",
        "\n",
        "    # 히트맵에 수치 표시\n",
        "    for i in range(correlation_matrix.shape[0]):\n",
        "        for j in range(correlation_matrix.shape[1]):\n",
        "            plt.text(j, i, f\"{correlation_matrix.iloc[i, j]:.2f}\",\n",
        "                     ha='center', va='center', color='white', fontsize=8)\n",
        "\n",
        "    columns = dataframe.columns.tolist()\n",
        "    plt.xticks(range(len(columns)), columns, rotation=90)\n",
        "    plt.yticks(range(len(columns)), columns)\n",
        "    plt.title(\"Variables correlation matrix\")\n",
        "    plt.colorbar(label=\"Spearman Correlation\")\n",
        "    plt.savefig('correlation_heatmap_plot.png')\n",
        "    plt.show()"
      ]
    },
    {
      "cell_type": "code",
      "execution_count": null,
      "id": "95873b9b-9361-4160-a2d3-3854d8d404cb",
      "metadata": {
        "id": "95873b9b-9361-4160-a2d3-3854d8d404cb"
      },
      "outputs": [],
      "source": [
        "# 변수 상관행렬 히트맵\n",
        "plot_correlation_heatmap(PixelVals_df)"
      ]
    },
    {
      "cell_type": "markdown",
      "source": [
        "스피어만 상관계수는 예측변수 간의 일반적인 연관성을 파악하는 데 유용하지만, 복수의 변수가 서로 어떻게 상호작용하는지, 즉 다중공선성을 직접적으로 평가하지는 않습니다.\n",
        "\n",
        "**분산팽창인자(VIF: Variance Inflation Factor)**는 다중공선성을 평가하고 변수를 선택 하는데 사용되는 통계적 지표입니다. 각 독립변수의 다른 독립변수에 대한 선형관계의 정도를 나타내며, 높은 VIF 값은 다중공선성의 증거일 수 있습니다.\n",
        "\n",
        "일반적으로 VIF 값은 5또는 10보다 크면 해당 변수가 다른 변수들과 강한 상관관계를 가지며 모델의 안정성과 해석력을 저해할 가능성이 높다는 것을 나타냅니다. 여기서는 10보다 작은 값을 기준으로 변수를 선택했습니다."
      ],
      "metadata": {
        "id": "fajzF-2kHpdw"
      },
      "id": "fajzF-2kHpdw"
    },
    {
      "cell_type": "code",
      "execution_count": null,
      "id": "77bc897a-ec3c-49a8-bf1a-6ab1ba3866d3",
      "metadata": {
        "id": "77bc897a-ec3c-49a8-bf1a-6ab1ba3866d3"
      },
      "outputs": [],
      "source": [
        "def filter_variables_by_vif(dataframe, threshold=10):\n",
        "\n",
        "    original_columns = dataframe.columns.tolist()\n",
        "    remaining_columns = original_columns[:]\n",
        "\n",
        "    while True:\n",
        "        vif_data = dataframe[remaining_columns]\n",
        "        vif_values = [variance_inflation_factor(vif_data.values, i) for i in range(vif_data.shape[1])]\n",
        "\n",
        "        max_vif_index = vif_values.index(max(vif_values))\n",
        "        max_vif = max(vif_values)\n",
        "\n",
        "        if max_vif < threshold:\n",
        "            break\n",
        "\n",
        "        print(f\"Removing '{remaining_columns[max_vif_index]}' with VIF {max_vif:.2f}\")\n",
        "\n",
        "        del remaining_columns[max_vif_index]\n",
        "\n",
        "    filtered_data = dataframe[remaining_columns]\n",
        "    bands = filtered_data.columns.tolist()\n",
        "    print('Bands:', bands)\n",
        "\n",
        "    return filtered_data, bands"
      ]
    },
    {
      "cell_type": "markdown",
      "source": [
        "VIF를 통해 아래 6개 변수가 선택되었습니다."
      ],
      "metadata": {
        "id": "mkTIF4tnH4H7"
      },
      "id": "mkTIF4tnH4H7"
    },
    {
      "cell_type": "code",
      "execution_count": null,
      "id": "0e98ce4b-5983-4d76-8252-9acdd49690c3",
      "metadata": {
        "id": "0e98ce4b-5983-4d76-8252-9acdd49690c3"
      },
      "outputs": [],
      "source": [
        "filtered_PixelVals_df, bands = filter_variables_by_vif(PixelVals_df)"
      ]
    },
    {
      "cell_type": "code",
      "execution_count": null,
      "id": "06be8bea-6f1d-4bb4-879e-482d320cad2a",
      "metadata": {
        "id": "06be8bea-6f1d-4bb4-879e-482d320cad2a"
      },
      "outputs": [],
      "source": [
        "predictors = predictors.select(bands)\n",
        "plot_correlation_heatmap(filtered_PixelVals_df, h_size=6)"
      ]
    },
    {
      "cell_type": "markdown",
      "source": [
        "이어서 6개 예측변수를 지도화해 보겠습니다. 지도 가시화에 사용가능한 팔레트는 아래 코드로 호출해보실 수 있습니다."
      ],
      "metadata": {
        "id": "JRf0LkKDH_Pd"
      },
      "id": "JRf0LkKDH_Pd"
    },
    {
      "cell_type": "code",
      "execution_count": 21,
      "id": "900a9597-2c75-4d25-8946-70941835fcd3",
      "metadata": {
        "id": "900a9597-2c75-4d25-8946-70941835fcd3",
        "outputId": "2759ab1e-80b8-4fa2-8859-23fba05db1aa",
        "colab": {
          "base_uri": "https://localhost:8080/",
          "height": 1000
        }
      },
      "outputs": [
        {
          "output_type": "display_data",
          "data": {
            "text/plain": [
              "<IPython.core.display.HTML object>"
            ],
            "text/html": [
              "\n",
              "            <style>\n",
              "                .geemap-dark {\n",
              "                    --jp-widgets-color: white;\n",
              "                    --jp-widgets-label-color: white;\n",
              "                    --jp-ui-font-color1: white;\n",
              "                    --jp-layout-color2: #454545;\n",
              "                    background-color: #383838;\n",
              "                }\n",
              "                    \n",
              "                .geemap-dark .jupyter-button {\n",
              "                    --jp-layout-color3: #383838;\n",
              "                }\n",
              "                \n",
              "                .geemap-colab {\n",
              "                    background-color: var(--colab-primary-surface-color, white);\n",
              "                }\n",
              "                    \n",
              "                .geemap-colab .jupyter-button {\n",
              "                    --jp-layout-color3: var(--colab-primary-surface-color, white);\n",
              "                }\n",
              "            </style>\n",
              "            "
            ]
          },
          "metadata": {}
        },
        {
          "output_type": "display_data",
          "data": {
            "text/plain": [
              "<Figure size 800x3320 with 166 Axes>"
            ],
            "image/png": "[encoded data removed]"
          },
          "metadata": {}
        }
      ],
      "source": [
        "cm.plot_colormaps(width=8.0, height=0.2)"
      ]
    },
    {
      "cell_type": "code",
      "execution_count": null,
      "id": "fa0e48f7-8c5c-4702-b0dc-9a3c09e6553b",
      "metadata": {
        "id": "fa0e48f7-8c5c-4702-b0dc-9a3c09e6553b"
      },
      "outputs": [],
      "source": [
        "cm.plot_colormap('terrain',\n",
        "                 width=8.0, height=0.2, orientation='horizontal')"
      ]
    },
    {
      "cell_type": "code",
      "execution_count": null,
      "id": "0076356e-9e41-4dfa-9ac9-144f3f114c97",
      "metadata": {
        "id": "0076356e-9e41-4dfa-9ac9-144f3f114c97"
      },
      "outputs": [],
      "source": [
        "# elevation (고도) 레이어\n",
        "Map = geemap.Map(layout={'height':'400px', 'width':'800px'})\n",
        "Map.add_layer(Vworld_Base)\n",
        "\n",
        "vis_params = {'bands':['elevation'],\n",
        "              'min': 0, 'max': 1800, 'palette': cm.palettes.terrain}\n",
        "Map.addLayer(predictors, vis_params, 'elevation')\n",
        "Map.add_colorbar(vis_params, label=\"Elevation (m)\",\n",
        "                 orientation=\"vertical\", layer_name=\"elevation\")\n",
        "Map.centerObject(AOI, 6)\n",
        "Map"
      ]
    },
    {
      "cell_type": "code",
      "execution_count": null,
      "id": "df49cc91-4960-4b5c-9232-ae463b04ce97",
      "metadata": {
        "id": "df49cc91-4960-4b5c-9232-ae463b04ce97"
      },
      "outputs": [],
      "source": [
        "# bio09 최소값 & 최대값 계산\n",
        "min_val = predictors.select(\"bio09\").multiply(0.1). \\\n",
        "reduceRegion(reducer=ee.Reducer.min(), scale=1000).getInfo()\n",
        "max_val = predictors.select(\"bio09\").multiply(0.1). \\\n",
        "reduceRegion(reducer=ee.Reducer.max(), scale=1000).getInfo()\n",
        "\n",
        "# bio09 (가장 건조한 분기의 평균 기온) 레이어\n",
        "Map = geemap.Map(layout={'height':'400px', 'width':'800px'})\n",
        "Map.add_layer(Vworld_Base)\n",
        "\n",
        "vis_params = {'min': math.floor(min_val['bio09']), \\\n",
        "              'max': math.ceil(max_val['bio09']),\n",
        "              'palette': cm.palettes.hot}\n",
        "Map.addLayer(predictors.select(\"bio09\").multiply(0.1),\n",
        "             vis_params, 'bio09')\n",
        "Map.add_colorbar(vis_params,\n",
        "                 label=\"Mean temperature of driest quarter (℃)\",\n",
        "                 orientation=\"vertical\", layer_name=\"bio09\")\n",
        "Map.centerObject(AOI, 6)\n",
        "Map"
      ]
    },
    {
      "cell_type": "code",
      "execution_count": null,
      "id": "43116c27-2cf2-4cec-9386-b6a1cb5fb290",
      "metadata": {
        "id": "43116c27-2cf2-4cec-9386-b6a1cb5fb290"
      },
      "outputs": [],
      "source": [
        "# slope (경사) 레이어\n",
        "Map = geemap.Map(layout={'height':'400px', 'width':'800px'})\n",
        "Map.add_layer(Vworld_Base)\n",
        "\n",
        "vis_params = {'bands':['slope'], 'min': 0, 'max': 25, 'palette': cm.palettes.RdYlGn_r}\n",
        "Map.addLayer(predictors, vis_params, 'slope')\n",
        "Map.add_colorbar(vis_params, label=\"Slope\", orientation=\"vertical\", layer_name=\"slope\")\n",
        "Map.centerObject(AOI, 6)\n",
        "Map"
      ]
    },
    {
      "cell_type": "code",
      "execution_count": null,
      "id": "bfa8c7a1-9ae9-420a-a564-0fc167ef00a2",
      "metadata": {
        "id": "bfa8c7a1-9ae9-420a-a564-0fc167ef00a2"
      },
      "outputs": [],
      "source": [
        "# aspect (경사방향) 레이어\n",
        "Map = geemap.Map(layout={'height':'400px', 'width':'800px'})\n",
        "Map.add_layer(Vworld_Base)\n",
        "\n",
        "vis_params = {'bands':['aspect'], 'min': 0, 'max': 360, 'palette': cm.palettes.rainbow}\n",
        "Map.addLayer(predictors, vis_params, 'aspect')\n",
        "Map.add_colorbar(vis_params, label=\"Aspect\", orientation=\"vertical\", layer_name=\"aspect\")\n",
        "Map.centerObject(AOI, 6)\n",
        "Map"
      ]
    },
    {
      "cell_type": "code",
      "execution_count": null,
      "id": "495d2144-e759-47f0-9e7a-546f3ab8fa62",
      "metadata": {
        "id": "495d2144-e759-47f0-9e7a-546f3ab8fa62"
      },
      "outputs": [],
      "source": [
        "# bio14 최소값 & 최대값 계산\n",
        "min_val = predictors.select(\"bio14\").reduceRegion(reducer=ee.Reducer.min(), scale=1000).getInfo()\n",
        "max_val = predictors.select(\"bio14\").reduceRegion(reducer=ee.Reducer.max(), scale=1000).getInfo()\n",
        "\n",
        "# bio14 (가장 건조한 달의 강수량) 레이어\n",
        "Map = geemap.Map(layout={'height':'400px', 'width':'800px'})\n",
        "Map.add_layer(Vworld_Base)\n",
        "vis_params = {'bands':['bio14'], 'min': math.floor(min_val['bio14']), 'max': math.ceil(max_val['bio14']), 'palette': cm.palettes.Blues}\n",
        "Map.addLayer(predictors, vis_params, 'bio14')\n",
        "Map.add_colorbar(vis_params, label=\"Precipitation of driest month (mm)\", orientation=\"vertical\", layer_name=\"bio14\")\n",
        "Map.centerObject(AOI, 6)\n",
        "Map"
      ]
    },
    {
      "cell_type": "code",
      "execution_count": null,
      "id": "6a0348f0-c4ef-4e10-9e0d-b05b02e9ca59",
      "metadata": {
        "id": "6a0348f0-c4ef-4e10-9e0d-b05b02e9ca59"
      },
      "outputs": [],
      "source": [
        "# TCC (수목피복) 레이어\n",
        "Map = geemap.Map(layout={'height':'400px', 'width':'800px'})\n",
        "Map.add_layer(Vworld_Base)\n",
        "\n",
        "vis_params = {'bands':['TCC'], 'min': 0, 'max': 100,\n",
        "              'palette':\n",
        "               ['ffffff', 'afce56', '5f9c00', '0e6a00', '003800']}\n",
        "Map.addLayer(predictors, vis_params, 'TCC')\n",
        "Map.add_colorbar(vis_params, label=\"Tree Canopy Cover (%)\",\n",
        "                 orientation=\"vertical\", layer_name=\"TCC\")\n",
        "Map.centerObject(AOI, 6)\n",
        "Map"
      ]
    },
    {
      "cell_type": "markdown",
      "id": "7c49680b-93c7-43d8-affa-9b91b059ad98",
      "metadata": {
        "id": "7c49680b-93c7-43d8-affa-9b91b059ad98"
      },
      "source": [
        "### 6.2.4. 임의-비출현 데이터 생성\n",
        "\n",
        "종 분포 모델링 과정에서 생물종 입력 데이터 선정은 주로 두 가지 접근방식을 사용합니다:\n",
        "\n",
        "* 출현-배경(Presence- Background) 방법: 특정 종이 관찰된 위치(출현)와 그 종이 관찰되지 않은 다른 위치(배경)을 비교합니다. 여기서 배경 데이터는 반드시 종이 존재하지 않는 지역을 의미하는 것이 아니라, 연구지역의 전체적인 환경적 조건을 반영하도록 설정합니다. 해당 종이 존재할 수 있는 적합한 환경과 덜 적합한 환경을 구분하는데 사용됩니다.\n",
        "\n",
        "* 출현-비출현(Presence-Absence) 방법: 종이 발견된 위치(출현)와 확실히 발견되지 않은 위치(비출현)를 비교합니다. 여기서 비출현 데이터는 해당 종이 존재하지 않는 것을 확인한 구체적인 위치입니다. 연구지역의 전체적인 환경적 조건을 반영하는 것이 아니라, 종이 존재하지 않는 것으로 추정되는 위치를 가리킵니다.\n",
        "실제로는 비출현 데이터의 수집이 어렵기 때문에 임의-비출현(pseudo- absence) 데이터를 사용하는 경우가 많습니다. 가상으로 생성된 비출현 지점이 실제 비출현 지역을 제대로 반영하지 못할 수 있어, 이 방법의 한계와 오류 가능성을 인식하는 것이 중요합니다.\n",
        "\n",
        "두 방법의 선택은 데이터 가용성, 연구 목적, 모델의 정확성과 신뢰성, 시간과 자원 등에 따라 달라질 수 있습니다. 여기서는 GBIF를 통해 수집한 출현 데이터와 가상으로 생성된 비출현 데이터를 사용하여 \"출현-비출현(Presence-Absence) 방법\"으로 모델링 과정을 진행해 보겠습니다.\n",
        "\n",
        "임의 비출현 데이터는 \"환경적 특성 분석 접근법(environmental profiling approach)\"으로 생성하겠습니다. 세부적인 방법은 다음과 같습니다:\n",
        "\n",
        "* k-means 클러스터링을 사용한 환경 분류: 유클리디안 거리를 기반으로 k-means 클러스터링 알고리즘을 사용하여 연구지역 내의 픽셀들을 두 개의 클러스터로 나눕니다. 하나의 클러스터는 무작위로 선택된 100개의 출현 위치(presence locations)와 유사한 환경적 특성을 가지는 영역이며, 다른 하나는 그와 다른 특성을 가진 영역입니다.\n",
        "\n",
        "* 유사하지 않은 클러스터 내에서 가상 비출현 데이터 생성: 첫 번째 단계에서 식별된 두 번째 클러스터(출현 데이터와 다른 환경 특성을 가진 클러스터) 내에서 임의로 가상 비출현 지점(pseudo-absences)을 생성합니다. 가상 부재 지점은 해당 종이 없을 것으로 예상되는 위치를 나타냅니다."
      ]
    },
    {
      "cell_type": "code",
      "execution_count": null,
      "id": "072b61f7-12f6-465b-8f53-09ffb32fb37e",
      "metadata": {
        "id": "072b61f7-12f6-465b-8f53-09ffb32fb37e"
      },
      "outputs": [],
      "source": [
        "# 100개의 출현 위치 무작위로 선택\n",
        "PixelVals = predictors.sampleRegions(\n",
        "    collection=Data.randomColumn().sort('random').limit(100),\n",
        "    properties=[],\n",
        "    tileScale=16,\n",
        "    scale=GrainSize\n",
        ")\n",
        "\n",
        "# k-means 클러스터링\n",
        "clusterer = ee.Clusterer.wekaKMeans(\n",
        "    nClusters=2,\n",
        "    distanceFunction=\"Euclidean\"\n",
        ").train(PixelVals)\n",
        "\n",
        "Clresult = predictors.cluster(clusterer)\n",
        "\n",
        "# 출현 위치와 유사한 클러스터 ID\n",
        "clustID = Clresult.sampleRegions(\n",
        "    collection=Data.randomColumn().sort('random').limit(200),\n",
        "    properties=[],\n",
        "    tileScale=16,\n",
        "    scale=GrainSize\n",
        ")\n",
        "# 유사하지 않은 클러스터에서 임의-비출현 영역 정의\n",
        "clustID = ee.FeatureCollection(clustID).reduceColumns(ee.Reducer.mode(),['cluster'])\n",
        "clustID = ee.Number(clustID.get('mode')).subtract(1).abs()\n",
        "cl_mask = Clresult.select(['cluster']).eq(clustID)"
      ]
    },
    {
      "cell_type": "code",
      "execution_count": null,
      "id": "9171b1cc-86a6-4074-9f77-13bb1bd8da36",
      "metadata": {
        "id": "9171b1cc-86a6-4074-9f77-13bb1bd8da36"
      },
      "outputs": [],
      "source": [
        "# 출현 위치 마스크\n",
        "presence_mask = Data.reduceToImage(\n",
        "    properties=['random'],\n",
        "    reducer=ee.Reducer.first()\n",
        ").reproject('EPSG:4326', None,\n",
        "            ee.Number(GrainSize)).mask().neq(1).selfMask()\n",
        "\n",
        "# 임의-비출현 영역에서 출현 위치 마스킹 및 AOI 클리핑\n",
        "AreaForPA = presence_mask.updateMask(cl_mask).clip(AOI)\n",
        "\n",
        "Map = geemap.Map(layout={'height':'400px', 'width':'800px'})\n",
        "Map.add_layer(Vworld_Base)\n",
        "\n",
        "Map.addLayer(AreaForPA, {'palette': 'black'},'AreaForPA')\n",
        "Map.centerObject(AOI, 6)\n",
        "Map"
      ]
    },
    {
      "cell_type": "markdown",
      "id": "bcaa33ab-7895-40b8-a3c4-7545f189deb1",
      "metadata": {
        "id": "bcaa33ab-7895-40b8-a3c4-7545f189deb1"
      },
      "source": [
        "### 6.2.5. 모델 적합 및 예측\n",
        "\n",
        "이제 데이터를 훈련 데이터(training data)와 시험 데이터(test data)로 나눌 것입니다. 훈련 데이터는 모델에 학습하면서 최적의 매개변수를 찾고, 시험 데이터는 앞서 훈련한 모델을 평가할 것입니다. 이때 생각해 볼 부분으로 공간자기상관성이라는 개념이 있습니다.\n",
        "\n",
        "**공간자기상관성(spatial autocorrelation)**은 종 분포 모델링에서 필수적인 요소로, Tobler의 법칙과 연관되어 있습니다. 이는 '모든 것은 서로 관련되어 있지만 가까운 것들이 먼 것들보다 더 밀접하게 관련되어 있다'는 개념입니다. 공간자기상관성은 종의 위치와 환경변수 간의 중요한 관계를 나타냅니다. 예를 들어, 특정 환경변수가 해당 종에 대해 의미가 없다면, 그 변수는 거리에 따라 달라지는 관계가 없다고 볼 수 있습니다.\n",
        "\n",
        "그러나 훈련 데이터와 시험 데이터 사이에 공간자기상관성이 존재하면, 두 데이터 세트 간의 독립성이 손상될 수 있습니다. 이는 모델의 일반화 능력 평가에 있어 중대한 영향을 미칩니다.\n",
        "\n",
        "이 문제를 해결하기 위한 방법 중 하나로, 데이터를 훈련 및 시험 데이터 세트로 분할하는 **공간 블록 교차 검증(Spatial block cross-validation)** 기법이 있습니다.\n",
        "\n",
        "<p align=\"center\"><img src=\"https://github.com/osgeokr/GEE-PAM-Book/blob/main/img/spatial_block.png?raw=1\" width = \"500px\"></img></p>\n",
        "\n",
        "이 기법은 데이터를 여러 개의 블록으로 분할하여 각 블록을 독립적으로 훈련 및 시험 데이터 세트로 사용함으로써 공간 자기상관성의 영향을 줄일 수 있습니다. 이를 통해 데이터 세트 간의 독립성을 높이고, 모델의 일반화 능력을 더 정확하게 평가할 수 있게 합니다.구체적인 절차는 다음과 같습니다:\n",
        "\n",
        "* 공간 블록의 생성: 전체 데이터 세트를 같은 크기의 공간 블록(예: 50x50 km)으로 나눕니다.\n",
        "\n",
        "* 훈련 및 검증 세트의 할당: 각 공간적 블록은 무작위로 훈련 세트(70%)와 시험 세트(30%)로 할당됩니다. 이는 모델이 특정 지역의 데이터에만 과도하게 적합되는 것을 방지하고, 보다 일반화된 결과를 얻기 위함입니다.\n",
        "\n",
        "* 반복적인 교차 검증: 전체 과정은 n회(예: 10회) 반복됩니다. 각 반복에서 블록은 다시 무작위로 훈련 및 시험 세트로 분할되며, 이는 모델의 안정성과 신뢰성을 향상시키기 위한 것입니다.\n",
        "\n",
        "* 임의-비출현 데이터의 생성: 각 반복마다, 모델의 성능을 평가하기 위해 가상 부재 데이터(pseudo-absences)가 무작위로 생성됩니다."
      ]
    },
    {
      "cell_type": "code",
      "execution_count": null,
      "id": "a8702356-893d-4a42-ae50-ed212518517e",
      "metadata": {
        "id": "a8702356-893d-4a42-ae50-ed212518517e"
      },
      "outputs": [],
      "source": [
        "# 공간 블록 교차 검증을 위한 격자 생성\n",
        "def makeGrid(geometry, scale):\n",
        "    # 경도 & 위도 도 단위 이미지 생성\n",
        "    lonLat = ee.Image.pixelLonLat()\n",
        "    # 경도 & 위도 이미지 정수화\n",
        "    lonGrid = lonLat.select('longitude').multiply(100000).toInt()\n",
        "    latGrid = lonLat.select('latitude').multiply(100000).toInt()\n",
        "\n",
        "    return lonGrid.multiply(latGrid).reduceToVectors(\n",
        "        # geometry 경계 포함 격자 생성\n",
        "        geometry = geometry.buffer(distance=20000, maxError=1000),\n",
        "        scale = scale,\n",
        "        geometryType = 'polygon'\n",
        "    )"
      ]
    },
    {
      "cell_type": "code",
      "execution_count": null,
      "id": "2993be59-1179-4f45-9578-12aed2250fde",
      "metadata": {
        "id": "2993be59-1179-4f45-9578-12aed2250fde"
      },
      "outputs": [],
      "source": [
        "Scale = 50000\n",
        "grid = makeGrid(AOI, Scale)\n",
        "Grid = watermask.reduceRegions(\n",
        "    collection=grid,\n",
        "    reducer=ee.Reducer.mean()).filter(ee.Filter.neq('mean', None))\n",
        "\n",
        "Map = geemap.Map(layout={'height':'400px', 'width':'800px'})\n",
        "Map.add_layer(Vworld_Base)\n",
        "Map.addLayer(Grid, {}, \"Grid for spatial block cross validation\")\n",
        "Map.addLayer(outline, {'palette': 'FF0000'}, \"Study Area\")\n",
        "Map.centerObject(AOI, 6)\n",
        "Map"
      ]
    },
    {
      "cell_type": "markdown",
      "source": [
        "이제 모델을 적합(fit)할 수 있습니다. 모델을 적합하는 것은 데이터의 패턴을 파악하여 모델의 매개변수(가중치와 편향)를 조정하는 과정을 의미합니다. 이렇게 하면 모델은 새로운 데이터를 입력 받았을 때 더 정확한 예측을 수행할 수 있게 됩니다. 일단, 모델을 적합하는 SDM() 함수를 정의했습니다.\n",
        "\n",
        "알고리즘은 랜덤 포레스트(random forest)를 사용해 보겠습니다.\n",
        "* numberOfTrees: 생성할 결정 트리의 수\n",
        "* variablesPerSplit: 분할당 변수의 수. 기본값: 변수 수의 제곱근 사용\n",
        "* minLeafPopulation: 훈련 셋에 최소한 이 개수의 지점이 포함된 노드만 생성\n",
        "* bagFraction: 트리당 백에 대한 입력 비율\n",
        "* maxNodes: 각 트리의 최대 리프 노드 수. 기본값: 제한 없음\n",
        "* seed: 무작위화 시드"
      ],
      "metadata": {
        "id": "1hE3zG8MTM-D"
      },
      "id": "1hE3zG8MTM-D"
    },
    {
      "cell_type": "code",
      "execution_count": null,
      "id": "f5700e59-3068-4859-ab54-ccfa6f525255",
      "metadata": {
        "id": "f5700e59-3068-4859-ab54-ccfa6f525255"
      },
      "outputs": [],
      "source": [
        "def SDM(x):\n",
        "    Seed = ee.Number(x)\n",
        "\n",
        "    # 훈련 및 검증을 위한 무작위 블록 분할\n",
        "    GRID = ee.FeatureCollection(Grid).randomColumn(seed=Seed).sort('random')\n",
        "    TrainingGrid = GRID.filter(ee.Filter.lt('random', split)) # 훈련용 격자\n",
        "    TestingGrid = GRID.filter(ee.Filter.gte('random', split)) # 시험용 격자\n",
        "\n",
        "    # 출현 지점\n",
        "    PresencePoints = ee.FeatureCollection(Data)\n",
        "    PresencePoints = PresencePoints.map(lambda feature: feature.set('PresAbs', 1))\n",
        "    TrPresencePoints = PresencePoints.filter(ee.Filter.bounds(TrainingGrid)) # 훈련용 출현 지점\n",
        "    TePresencePoints = PresencePoints.filter(ee.Filter.bounds(TestingGrid)) # 시험용 출현 지점\n",
        "\n",
        "    # 임의-비출현 지점\n",
        "    TrPseudoAbsPoints = AreaForPA.sample(region=TrainingGrid,\n",
        "                                         scale=GrainSize,\n",
        "                                         numPixels=TrPresencePoints.size().add(300),\n",
        "                                         seed=Seed,\n",
        "                                         geometries=True)\n",
        "    # 훈련용 출현 지점과 동일한 수의 임의-비출현 지점\n",
        "    TrPseudoAbsPoints = TrPseudoAbsPoints.randomColumn().sort('random').limit(ee.Number(TrPresencePoints.size()))\n",
        "    TrPseudoAbsPoints = TrPseudoAbsPoints.map(lambda feature: feature.set('PresAbs', 0))\n",
        "\n",
        "    TePseudoAbsPoints = AreaForPA.sample(region=TestingGrid,\n",
        "                                         scale=GrainSize,\n",
        "                                         numPixels=TePresencePoints.size().add(100),\n",
        "                                         seed=Seed,\n",
        "                                         geometries=True)\n",
        "    # 검증용 출현 지점과 동일한 수의 임의-비출현 지점\n",
        "    TePseudoAbsPoints = TePseudoAbsPoints.randomColumn().sort('random').limit(ee.Number(TePresencePoints.size()))\n",
        "    TePseudoAbsPoints = TePseudoAbsPoints.map(lambda feature: feature.set('PresAbs', 0))\n",
        "\n",
        "    # 훈련 및 임의-비출현 지점 병합\n",
        "    trainingPartition = TrPresencePoints.merge(TrPseudoAbsPoints)\n",
        "    testingPartition = TePresencePoints.merge(TePseudoAbsPoints)\n",
        "\n",
        "    # 훈련용 지점에서 예측 변수 이미지의 공변량 값 추출\n",
        "    trainPixelVals = predictors.sampleRegions(collection=trainingPartition,\n",
        "                                              properties=['PresAbs'],\n",
        "                                              scale=GrainSize,\n",
        "                                              tileScale=16,\n",
        "                                              geometries=True)\n",
        "\n",
        "    # 랜덤 포레스트 분류기(Random Forest classifier)\n",
        "    Classifier = ee.Classifier.smileRandomForest(\n",
        "        numberOfTrees=500, # 생성할 결정 트리의 수\n",
        "        variablesPerSplit=None, # 분할당 변수의 수. 기본값: 변수 수의 제곱근 사용\n",
        "        minLeafPopulation=10, # 훈련 셋에 최소한 이 개수의 지점이 포함된 노드만 생성\n",
        "        bagFraction=0.5, # 트리당 백에 대한 입력 비율\n",
        "        maxNodes=None, # 각 트리의 최대 리프 노드 수. 기본값: 제한 없음\n",
        "        seed=Seed # 무작위화 시드\n",
        "    )\n",
        "    # 출현 확률(Presence probability)\n",
        "    ClassifierPr = Classifier.setOutputMode('PROBABILITY').train(trainPixelVals, 'PresAbs', bands)\n",
        "    ClassifiedImgPr = predictors.select(bands).classify(ClassifierPr)\n",
        "\n",
        "    # 이진 출현/비출현 지도(Binary presence/absence map)\n",
        "    ClassifierBin = Classifier.setOutputMode('CLASSIFICATION').train(trainPixelVals, 'PresAbs', bands)\n",
        "    ClassifiedImgBin = predictors.select(bands).classify(ClassifierBin)\n",
        "\n",
        "    return [ClassifiedImgPr, ClassifiedImgBin, trainingPartition, testingPartition], ClassifierPr"
      ]
    },
    {
      "cell_type": "markdown",
      "source": [
        "공간 블록은 모델 훈련의 경우 70%, 모델 시험의 경우 30%로 각각 분할됩니다. 임의-비출현 데이터는 반복할 때마다 각 훈련 및 시험 세트 내에서 무작위로 생성됩니다. 결과적으로 매 실행 때마다 모델 훈련 및 시험을 위한 서로 다른 출현 및 임의-비출현 세트를 갖게 됩니다."
      ],
      "metadata": {
        "id": "e6dr7hIvTVvJ"
      },
      "id": "e6dr7hIvTVvJ"
    },
    {
      "cell_type": "code",
      "execution_count": null,
      "id": "eda5880a-c4cb-48ee-a939-779b1a2fcc03",
      "metadata": {
        "id": "eda5880a-c4cb-48ee-a939-779b1a2fcc03"
      },
      "outputs": [],
      "source": [
        "split = 0.7\n",
        "numiter = 10\n",
        "runif = lambda length: [random.randint(1, 1000) \\\n",
        "                        for _ in range(length)] # 시드\n",
        "items = runif(numiter)\n",
        "# items = [287, 288, 553, 226, 151, 255, 902, 267, 419, 538]"
      ]
    },
    {
      "cell_type": "code",
      "execution_count": null,
      "id": "c893658b-5f2e-4c0e-949d-d11f1878f0b0",
      "metadata": {
        "id": "c893658b-5f2e-4c0e-949d-d11f1878f0b0"
      },
      "outputs": [],
      "source": [
        "results_list = [] # SDM 결과 리스트 초기화\n",
        "importances_list = [] # 변수 중요도 리스트 초기화\n",
        "\n",
        "for item in runif(numiter):\n",
        "    result, trained = SDM(item)\n",
        "    # SDM 결과 리스트 누적\n",
        "    results_list.extend(result)\n",
        "\n",
        "    # 변수 중요도 리스트 누적\n",
        "    importance = ee.Dictionary(trained.explain()).get('importance')\n",
        "    importances_list.extend(importance.getInfo().items())\n",
        "\n",
        "# SDM 결과 누적\n",
        "results = ee.List(results_list).flatten()"
      ]
    },
    {
      "cell_type": "markdown",
      "source": [
        "이제 팔색조의 서식지 적합성 지도와 잠재 분포 지도를 가시화할 수 있습니다."
      ],
      "metadata": {
        "id": "C_Tp0E-rTkCL"
      },
      "id": "C_Tp0E-rTkCL"
    },
    {
      "cell_type": "code",
      "source": [
        "cm.plot_colormap('viridis_r',\n",
        "                 width=8.0, height=0.2, orientation='horizontal')"
      ],
      "metadata": {
        "id": "lhMSKNDV9Xp2"
      },
      "id": "lhMSKNDV9Xp2",
      "execution_count": null,
      "outputs": []
    },
    {
      "cell_type": "code",
      "execution_count": null,
      "id": "e22e4868-edc1-4650-a1b3-8a8b596a4d5e",
      "metadata": {
        "id": "e22e4868-edc1-4650-a1b3-8a8b596a4d5e"
      },
      "outputs": [],
      "source": [
        "# 서식지 적합성 지도(Habitat suitability map)\n",
        "images = ee.List.sequence(\n",
        "    0, ee.Number(numiter).multiply(4).subtract(1), 4).\\\n",
        "    map(lambda x: results.get(x))\n",
        "ModelAverage = ee.ImageCollection.fromImages(images).mean()\n",
        "\n",
        "Map = geemap.Map(layout={'height':'400px', 'width':'800px'})\n",
        "Map.add_layer(Vworld_Base)\n",
        "\n",
        "vis_params = {\n",
        "    'min': 0,\n",
        "    'max': 1,\n",
        "    'palette': cm.palettes.viridis_r}\n",
        "Map.addLayer(ModelAverage, vis_params, 'Habitat suitability')\n",
        "Map.add_colorbar(vis_params, label=\"Habitat suitability\",\n",
        "                 orientation=\"horizontal\",\n",
        "                 layer_name=\"Habitat suitability\")\n",
        "Map.addLayer(Data, {'color':'red'}, 'Presence')\n",
        "Map.centerObject(AOI, 6)\n",
        "Map"
      ]
    },
    {
      "cell_type": "code",
      "execution_count": null,
      "id": "e07f4f6f-5e48-453f-bf4e-be1952a596ce",
      "metadata": {
        "id": "e07f4f6f-5e48-453f-bf4e-be1952a596ce"
      },
      "outputs": [],
      "source": [
        "# 잠재 분포 지도(Potential distribution map)\n",
        "images2 = ee.List.sequence(1, ee.Number(numiter).multiply(4).\\\n",
        "                           subtract(1), 4).map(lambda x: results.get(x))\n",
        "DistributionMap = ee.ImageCollection.fromImages(images2).mode()\n",
        "\n",
        "Map = geemap.Map(layout={'height':'400px', 'width':'800px'})\n",
        "Map.add_layer(Vworld_Base)\n",
        "\n",
        "vis_params = {\n",
        "    'min': 0,\n",
        "    'max': 1,\n",
        "    'palette': ['white', 'green']}\n",
        "Map.addLayer(DistributionMap, vis_params, 'Potential distribution')\n",
        "Map.addLayer(Data, {'color':'red'}, 'Presence')\n",
        "Map.add_colorbar(vis_params, label=\"Potential distribution\",\n",
        "                 discrete=True, orientation=\"horizontal\",\n",
        "                 layer_name=\"Potential distribution\")\n",
        "Map.centerObject(Data.geometry(), 6)\n",
        "Map"
      ]
    },
    {
      "cell_type": "markdown",
      "id": "ba3f8e98-6596-43b7-88cd-bf61daca8cd4",
      "metadata": {
        "id": "ba3f8e98-6596-43b7-88cd-bf61daca8cd4"
      },
      "source": [
        "### 6.2.6. 정확도 평가 및 변수 중요도\n",
        "\n",
        "Random Forest(ee.Classifier.smileRandomForest)는 앙상블 학습 방법 중 하나로, 여러 개의 의사 결정 트리(decision tree)를 구성하여 예측을 수행하는 방법입니다. 각 의사 결정 트리는 데이터의 서로 다른 부분 집합을 기반으로 독립적으로 학습하며, 그 결과를 종합하여 더 정확하고 안정적인 예측을 가능하게 합니다.\n",
        "\n",
        "변수 중요도(variable importance)란 Random Forest 모델 내에서 어떤 변수가 예측에 영향을 많이 미치는지를 평가하는 지표입니다. 앞서 정의된 SDM() 함수에서 ClassifierPr 변수는 확률 모드로 훈련된 Random Forest 분류기입니다. 이 변수를 추가 리턴해서 변수 중요도를 계산해 보겠습니다."
      ]
    },
    {
      "cell_type": "code",
      "execution_count": null,
      "id": "1ef7fd8f-cdf4-408b-afe8-263649f25a34",
      "metadata": {
        "id": "1ef7fd8f-cdf4-408b-afe8-263649f25a34"
      },
      "outputs": [],
      "source": [
        "# 각 변수 중요도 값을 리스트로 추출\n",
        "variables = [item[0] for item in importances_list]\n",
        "importances = [item[1] for item in importances_list]\n",
        "\n",
        "# 변수 중요도 평균 계산\n",
        "average_importances = {}\n",
        "for variable in set(variables):\n",
        "    indices = [i for i, var in enumerate(variables) if var == variable]\n",
        "    average_importance = np.mean([importances[i] for i in indices])\n",
        "    average_importances[variable] = average_importance\n",
        "\n",
        "# 평균 변수 중요도 출력\n",
        "for variable, avg_importance in average_importances.items():\n",
        "    print(f\"{variable}: {avg_importance}\")"
      ]
    },
    {
      "cell_type": "markdown",
      "source": [
        "평균 변수 중요도를 시각화하여, 변수 중요도가 높은 순으로 정렬된 막대 그래프를 생성합니다. 각 막대 위에 해당 변수의 평균 중요도 값을 표시하여 변수 간의 상대적 중요도를 시각적으로 비교할 수 있습니다."
      ],
      "metadata": {
        "id": "Rd31euVAUJuK"
      },
      "id": "Rd31euVAUJuK"
    },
    {
      "cell_type": "code",
      "execution_count": null,
      "id": "4371fd5e-7b53-424a-9263-13dce4022a8d",
      "metadata": {
        "id": "4371fd5e-7b53-424a-9263-13dce4022a8d"
      },
      "outputs": [],
      "source": [
        "# 변수 중요도가 높은 순으로 정렬\n",
        "sorted_importances = sorted(average_importances.items(),\n",
        "                            key=lambda x: x[1], reverse=False)\n",
        "variables = [item[0] for item in sorted_importances]\n",
        "avg_importances = [item[1] for item in sorted_importances]\n",
        "\n",
        "# 그래프 크기 조절\n",
        "plt.figure(figsize=(8, 4))  # 원하는 크기로 조절\n",
        "\n",
        "# 막대그래프로 평균 중요도 출력\n",
        "plt.barh(variables, avg_importances)\n",
        "plt.xlabel('Importance')\n",
        "plt.ylabel('Variables')\n",
        "plt.title('Average Variable Importance')\n",
        "\n",
        "# 막대 위에 수치 표시\n",
        "for i, v in enumerate(avg_importances):\n",
        "    plt.text(v + 0.02, i, f\"{v:.2f}\", va='center')\n",
        "\n",
        "# x축 범위 조정\n",
        "plt.xlim(0, max(avg_importances) + 5)  # 원하는 범위로 조절\n",
        "\n",
        "plt.tight_layout()\n",
        "plt.savefig('variable_importance.png')\n",
        "plt.show()"
      ]
    },
    {
      "cell_type": "markdown",
      "source": [
        "<p align=\"center\"><img src=\"https://github.com/osgeokr/GEE-PAM-Book/blob/main/img/accuracy_assessment.png?raw=1\" width = \"800px\"></img></p>\n",
        "\n",
        "검증 데이터셋을 사용하여 각 실행에 대해 AUC-ROC와 AUC-PR를 계산합니다. 그런 다음 n번의 반복에 대해 평균 AUC-ROC 및 AUC-PR를 계산합니다.\n",
        "\n",
        "* AUC-ROC는 \"민감도(Sensitivity, = Recall) 대 1-특이도 (1-Specificity)\" 그래프 아래의 면적으로, 임계값을 변화시켰을 때의 민감도와 특이도의 관계를 나타냅니다. 특이도는 모든 관측된 비출현에 기반합니다. 따라서 AUC-ROC는 혼동 행렬의 모든 사분면을 포함합니다.\n",
        "\n",
        "* AUC-PR은 \"정밀도(Precision) 대 재현율(Recall = Sensitivity)\" 그래프 아래의 면적으로, 임계값을 변화시켰을 때의 정밀도와 재현율의 관계를 나타냅니다. 정밀도는 모든 예측된 출현에 기반합니다. 따라서, AUC-PR은 진음성(TN)의 수를 포함하지 않습니다.\n",
        "\n",
        "각 실행에서 모델 검증에 충분한 지점 수가 있는지 확인하는 것이 중요합니다. 최종 지점 수는 공간 블록의 무작위 분할에 따라 달라지기 때문에 모델 검증에 충분한 출현 및 임의-비출현 지점이 있는지 확인해야 합니다.\n",
        "\n",
        "멸종위기종이나 희귀종과 같은 경우, 출현 데이터가 부족하여 검증용 데이터셋 또한 부족할 수 있습니다. 이는 전문가들의 경험과 지식을 활용한 추가 데이터 수집 또는 관련 다른 데이터를 활용하는 대안이 필요합니다."
      ],
      "metadata": {
        "id": "Xve623mlUSaJ"
      },
      "id": "Xve623mlUSaJ"
    },
    {
      "cell_type": "code",
      "source": [
        "def print_pres_abs_sizes(TestingDatasets, numiter):\n",
        "    # 출현 및 임의-비출현 좌표가 충분한 지 체크 및 출력\n",
        "    def get_pres_abs_size(x):\n",
        "        fc = ee.FeatureCollection(TestingDatasets.get(x))\n",
        "        presence_size = fc.filter(ee.Filter.eq('PresAbs', 1)).size()\n",
        "        pseudo_absence_size = fc.filter(ee.Filter.eq('PresAbs', 0)).size()\n",
        "        return ee.List([presence_size, pseudo_absence_size])\n",
        "\n",
        "    sizes_info = ee.List.sequence(0, ee.Number(numiter).subtract(1), 1).map(get_pres_abs_size).getInfo()\n",
        "\n",
        "    for i, sizes in enumerate(sizes_info):\n",
        "        presence_size = sizes[0]\n",
        "        pseudo_absence_size = sizes[1]\n",
        "        print(f'Iteration {i + 1}: Presence Size = {presence_size}, Pseudo-absence Size = {pseudo_absence_size}')"
      ],
      "metadata": {
        "id": "u3iJRyIy-Xaz"
      },
      "id": "u3iJRyIy-Xaz",
      "execution_count": null,
      "outputs": []
    },
    {
      "cell_type": "code",
      "execution_count": null,
      "id": "46164b61-3179-4982-9373-c01bde89b2c8",
      "metadata": {
        "id": "46164b61-3179-4982-9373-c01bde89b2c8"
      },
      "outputs": [],
      "source": [
        "# 검증용 데이터셋 추출\n",
        "TestingDatasets = (ee.List.sequence(3, ee.Number(numiter).multiply(4).subtract(1), 4).map(lambda x: results.get(x)))\n",
        "\n",
        "print_pres_abs_sizes(TestingDatasets, numiter)"
      ]
    },
    {
      "cell_type": "code",
      "source": [
        "def getAcc(HSM, TData, GrainSize):\n",
        "    Pr_Prob_Vals = HSM.sampleRegions(collection=TData, properties=['PresAbs'], scale=GrainSize, tileScale=16)\n",
        "    seq = ee.List.sequence(start=0, end=1, count=25) # Divide 0 to 1 into 25 intervals\n",
        "    def calculate_metrics(cutoff):\n",
        "        # Each element of the seq list is passed as cutoff(threshold value)\n",
        "\n",
        "        # Observed present = TP + FN\n",
        "        Pres = Pr_Prob_Vals.filterMetadata('PresAbs', 'equals', 1)\n",
        "\n",
        "        # TP (True Positive)\n",
        "        TP = ee.Number(Pres.filterMetadata('classification', 'greater_than', cutoff).size())\n",
        "\n",
        "        # TPR (True Positive Rate) = Recall = Sensitivity = TP / (TP + FN) = TP / Observed present\n",
        "        TPR = TP.divide(Pres.size())\n",
        "\n",
        "        # Observed absent = FP + TN\n",
        "        Abs = Pr_Prob_Vals.filterMetadata('PresAbs', 'equals', 0)\n",
        "\n",
        "        # FN (False Negative)\n",
        "        FN = ee.Number(Pres.filterMetadata('classification', 'less_than', cutoff).size())\n",
        "\n",
        "        # TNR (True Negative Rate) = Specificity = TN  / (FP + TN) = TN / Observed absent\n",
        "        TN = ee.Number(Abs.filterMetadata('classification', 'less_than', cutoff).size())\n",
        "        TNR = TN.divide(Abs.size())\n",
        "\n",
        "        # FP (False Positive)\n",
        "        FP = ee.Number(Abs.filterMetadata('classification', 'greater_than', cutoff).size())\n",
        "\n",
        "        # FPR (False Positive Rate) = FP / (FP + TN) = FP / Observed absent\n",
        "        FPR = FP.divide(Abs.size())\n",
        "\n",
        "        # Precision = TP / (TP + FP) = TP / Predicted present\n",
        "        Precision = TP.divide(TP.add(FP))\n",
        "\n",
        "        # SUMSS = SUM of Sensitivity and Specificity\n",
        "        SUMSS = TPR.add(TNR)\n",
        "\n",
        "        return ee.Feature(\n",
        "            None,\n",
        "            {\n",
        "                'cutoff': cutoff,\n",
        "                'TP': TP,\n",
        "                'TN': TN,\n",
        "                'FP': FP,\n",
        "                'FN': FN,\n",
        "                'TPR': TPR,\n",
        "                'TNR': TNR,\n",
        "                'FPR': FPR,\n",
        "                'Precision': Precision,\n",
        "                'SUMSS': SUMSS\n",
        "            }\n",
        "        )\n",
        "\n",
        "    return ee.FeatureCollection(seq.map(calculate_metrics))"
      ],
      "metadata": {
        "id": "A5H22XyB_TfI"
      },
      "id": "A5H22XyB_TfI",
      "execution_count": null,
      "outputs": []
    },
    {
      "cell_type": "code",
      "source": [
        "def calculate_and_print_auc_metrics(images, TestingDatasets, GrainSize, numiter):\n",
        "    # AUC-ROC와 AUC-PR 계산\n",
        "    def calculate_auc_metrics(x):\n",
        "        HSM = ee.Image(images.get(x))\n",
        "        TData = ee.FeatureCollection(TestingDatasets.get(x))\n",
        "        Acc = getAcc(HSM, TData, GrainSize)\n",
        "\n",
        "        # AUC-ROC 계산\n",
        "        X = ee.Array(Acc.aggregate_array('FPR'))\n",
        "        Y = ee.Array(Acc.aggregate_array('TPR'))\n",
        "        X1 = X.slice(0,1).subtract(X.slice(0,0,-1))\n",
        "        Y1 = Y.slice(0,1).add(Y.slice(0,0,-1))\n",
        "        auc_roc = X1.multiply(Y1).multiply(0.5).reduce('sum',[0]).abs().toList().get(0)\n",
        "\n",
        "        # AUC-PR 계산\n",
        "        X = ee.Array(Acc.aggregate_array('TPR'))\n",
        "        Y = ee.Array(Acc.aggregate_array('Precision'))\n",
        "        X1 = X.slice(0,1).subtract(X.slice(0,0,-1))\n",
        "        Y1 = Y.slice(0,1).add(Y.slice(0,0,-1))\n",
        "        auc_pr = X1.multiply(Y1).multiply(0.5).reduce('sum',[0]).abs().toList().get(0)\n",
        "\n",
        "        return (auc_roc, auc_pr)\n",
        "\n",
        "    auc_metrics = ee.List.sequence(0, ee.Number(numiter).subtract(1), 1).map(calculate_auc_metrics).getInfo()\n",
        "\n",
        "    # 각 반복마다 AUC-ROC와 AUC-PR 출력\n",
        "    df = pd.DataFrame(auc_metrics, columns=['AUC-ROC', 'AUC-PR'])\n",
        "    df.index = [f'Iteration {i + 1}' for i in range(len(df))]\n",
        "    df.to_csv('auc_metrics.csv', index_label='Iteration')\n",
        "    print(df)\n",
        "\n",
        "    # AUC-ROC와 AUC-PR의 평균과 표준편차 계산\n",
        "    mean_auc_roc, std_auc_roc = df['AUC-ROC'].mean(), df['AUC-ROC'].std()\n",
        "    mean_auc_pr, std_auc_pr = df['AUC-PR'].mean(), df['AUC-PR'].std()\n",
        "    print(f'Mean AUC-ROC = {mean_auc_roc:.4f} ± {std_auc_roc:.4f}')\n",
        "    print(f'Mean AUC-PR = {mean_auc_pr:.4f} ± {std_auc_pr:.4f}')"
      ],
      "metadata": {
        "id": "uUQ8oH90_KVK"
      },
      "id": "uUQ8oH90_KVK",
      "execution_count": null,
      "outputs": []
    },
    {
      "cell_type": "code",
      "source": [
        "%%time\n",
        "\n",
        "# AUC-ROC와 AUC-PR 계산\n",
        "calculate_and_print_auc_metrics(images, TestingDatasets, GrainSize, numiter)"
      ],
      "metadata": {
        "id": "RutnJ2Py_FtJ"
      },
      "id": "RutnJ2Py_FtJ",
      "execution_count": null,
      "outputs": []
    },
    {
      "cell_type": "code",
      "source": [
        "def calculate_and_print_ss_metrics(images, TestingDatasets, GrainSize, numiter):\n",
        "    # 민감도(Sensitivity)와 특이도(Specificity) 계산\n",
        "    def calculate_ss_metrics(x):\n",
        "        HSM = ee.Image(images.get(x))\n",
        "        TData = ee.FeatureCollection(TestingDatasets.get(x))\n",
        "        Acc = getAcc(HSM, TData, GrainSize)\n",
        "\n",
        "        # 민감도(Sensitivity) 계산\n",
        "        sensitivity = Acc.sort('SUMSS', False).first().get('TPR')\n",
        "\n",
        "        # 특이도(Specificity) 계산\n",
        "        specificity = Acc.sort('SUMSS', False).first().get('TNR')\n",
        "\n",
        "        return (sensitivity, specificity)\n",
        "\n",
        "    ss_metrics = ee.List.sequence(0, ee.Number(numiter).subtract(1), 1).map(calculate_ss_metrics).getInfo()\n",
        "\n",
        "    # 각 반복마다 민감도와 특이도 출력\n",
        "    df = pd.DataFrame(ss_metrics, columns=['Sensitivity', 'Specificity'])\n",
        "    df.index = [f'Iteration {i + 1}' for i in range(len(df))]\n",
        "    df.to_csv('ss_metrics.csv', index_label='Iteration')\n",
        "    print(df)\n",
        "\n",
        "    # 민감도와 특이도의 평균과 표준편차 계산\n",
        "    mean_sensitivity, std_sensitivity = df['Sensitivity'].mean(), df['Sensitivity'].std()\n",
        "    mean_specificity, std_specificity = df['Specificity'].mean(), df['Specificity'].std()\n",
        "    print(f'Mean Sensitivity = {mean_sensitivity:.4f} ± {std_sensitivity:.4f}')\n",
        "    print(f'Mean Specificity = {mean_specificity:.4f} ± {std_specificity:.4f}')"
      ],
      "metadata": {
        "id": "grdz7Ld7_25V"
      },
      "id": "grdz7Ld7_25V",
      "execution_count": null,
      "outputs": []
    },
    {
      "cell_type": "code",
      "execution_count": null,
      "id": "c8e5f26f-311a-4ea1-97f8-9c4d5e13b003",
      "metadata": {
        "id": "c8e5f26f-311a-4ea1-97f8-9c4d5e13b003"
      },
      "outputs": [],
      "source": [
        "%%time\n",
        "\n",
        "# 민감도(sensitivity)와 특이도(specificity) 계산\n",
        "# 민감도(sensitivity): 출현 예측의 정확성\n",
        "# 특이도(specificity): 비출현 예측의 정확성\n",
        "calculate_and_print_ss_metrics(images, TestingDatasets, GrainSize, numiter)"
      ]
    },
    {
      "cell_type": "code",
      "source": [
        "def plot_roc_pr_curves(images, TestingDatasets, GrainSize, numiter):\n",
        "    # Plot ROC and PR curves\n",
        "    def get_roc_pr_values(x):\n",
        "        HSM = ee.Image(images.get(x))\n",
        "        TData = ee.FeatureCollection(TestingDatasets.get(x))\n",
        "        Acc = getAcc(HSM, TData, GrainSize)\n",
        "\n",
        "        # Get ROC and PR values\n",
        "        varFPR = Acc.aggregate_array('FPR')\n",
        "        varTPR = Acc.aggregate_array('TPR')\n",
        "        varPrecision = Acc.aggregate_array('Precision')\n",
        "\n",
        "        return (varFPR, varTPR, varPrecision)\n",
        "\n",
        "    # Retrieve ROC and PR values for each iteration and model\n",
        "    roc_pr_values = np.array(ee.List.sequence(0, ee.Number(numiter).subtract(1), 1).map(get_roc_pr_values).getInfo())\n",
        "\n",
        "    all_model_data = []\n",
        "    for model_data in roc_pr_values:\n",
        "        # Transpose data to match the desired format\n",
        "        transposed_data = np.transpose(model_data)\n",
        "        all_model_data.append(transposed_data)\n",
        "\n",
        "    # Calculate mean and standard deviation across models\n",
        "    mean_data = np.mean(all_model_data, axis=0)\n",
        "    std_data = np.std(all_model_data, axis=0)\n",
        "\n",
        "    # Create DataFrames for mean and standard deviation data\n",
        "    df_mean = pd.DataFrame(mean_data, columns=['FPR', 'TPR', 'Precision'])\n",
        "    df_std = pd.DataFrame(std_data, columns=['FPR', 'TPR', 'Precision'])\n",
        "\n",
        "    # Set font size and style\n",
        "    plt.rcParams.update({'font.size': 14})\n",
        "\n",
        "    # Create a figure with two subplots\n",
        "    plt.figure(figsize=(16, 6))\n",
        "\n",
        "    # Plot mean ROC Curve\n",
        "    plt.subplot(1, 2, 1)\n",
        "    plt.plot(df_mean['FPR'], df_mean['TPR'], color='blue', lw=2, label='Mean ROC Curve')\n",
        "    plt.fill_between(df_mean['FPR'], df_mean['TPR'] - df_std['TPR'], df_mean['TPR'] + df_std['TPR'], color='gray', alpha=0.2)\n",
        "    plt.plot([0, 1], [0, 1], linestyle='--', color='gray')\n",
        "    plt.xlim([0, 1])\n",
        "    plt.ylim([0, 1])\n",
        "    plt.xlabel('False positive rate (1 − specificity)')\n",
        "    plt.ylabel('Sensitivity')\n",
        "    plt.title('Receiver Operating Characteristic (ROC) curve')\n",
        "    plt.grid(True)\n",
        "    plt.legend(loc='lower right')\n",
        "\n",
        "    # Plot mean PR Curve\n",
        "    plt.subplot(1, 2, 2)\n",
        "    plt.plot(df_mean['TPR'], df_mean['Precision'], color='blue', lw=2, label='Mean PR Curve')\n",
        "    plt.fill_between(df_mean['TPR'], df_mean['Precision'] - df_std['Precision'], df_mean['Precision'] + df_std['Precision'], color='gray', alpha=0.2)\n",
        "    plt.xlim([0, 1])\n",
        "    plt.ylim([0, 1])\n",
        "    plt.xlabel('Recall (sensitivity)')\n",
        "    plt.ylabel('Precision')\n",
        "    plt.title('Precision-Recall (PR) curve')\n",
        "    plt.grid(True)\n",
        "    plt.legend(loc='lower right')\n",
        "    plt.tight_layout()\n",
        "    plt.savefig('roc_pr_curves_plot.png')\n",
        "    plt.show()"
      ],
      "metadata": {
        "id": "CjrE4b42_8YD"
      },
      "id": "CjrE4b42_8YD",
      "execution_count": null,
      "outputs": []
    },
    {
      "cell_type": "code",
      "execution_count": null,
      "id": "c8826ce5-c0ff-4c8c-ab16-9d801f2c8615",
      "metadata": {
        "id": "c8826ce5-c0ff-4c8c-ab16-9d801f2c8615"
      },
      "outputs": [],
      "source": [
        "%%time\n",
        "\n",
        "# ROC and PR 곡선 플롯\n",
        "plot_roc_pr_curves(images, TestingDatasets, GrainSize, numiter)"
      ]
    },
    {
      "cell_type": "code",
      "source": [
        "def create_DistributionMap2(images, TestingDatasets, GrainSize, numiter, ModelAverage):\n",
        "    # Potential Distribution Map using the optimal threshold\n",
        "    def get_metrics(x):\n",
        "        HSM = ee.Image(images.get(x))\n",
        "        TData = ee.FeatureCollection(TestingDatasets.get(x))\n",
        "        Acc = getAcc(HSM, TData, GrainSize)\n",
        "        return Acc.sort('SUMSS', False).first()\n",
        "\n",
        "    metrics = ee.List.sequence(0, ee.Number(numiter).subtract(1), 1).map(get_metrics)\n",
        "    MeanThresh = ee.Number(ee.FeatureCollection(metrics).aggregate_array(\"cutoff\").reduce(ee.Reducer.mean()))\n",
        "    print('Mean threshold:', MeanThresh.getInfo())\n",
        "\n",
        "    DistributionMap2 = ModelAverage.gte(MeanThresh)\n",
        "\n",
        "    return DistributionMap2"
      ],
      "metadata": {
        "id": "t7VQwZ_Jmc03"
      },
      "id": "t7VQwZ_Jmc03",
      "execution_count": null,
      "outputs": []
    },
    {
      "cell_type": "code",
      "execution_count": null,
      "id": "e80acf43-ef5b-4587-8155-01f5cb9bb352",
      "metadata": {
        "id": "e80acf43-ef5b-4587-8155-01f5cb9bb352"
      },
      "outputs": [],
      "source": [
        "%%time\n",
        "\n",
        "# Potential Distribution Map using the optimal threshold\n",
        "DistributionMap2 = create_DistributionMap2(images, TestingDatasets, GrainSize, numiter, ModelAverage)"
      ]
    },
    {
      "cell_type": "code",
      "execution_count": null,
      "id": "547904dd-cb76-407f-9120-b6e369b47047",
      "metadata": {
        "id": "547904dd-cb76-407f-9120-b6e369b47047"
      },
      "outputs": [],
      "source": [
        "%%time\n",
        "\n",
        "# Custom Binary Distribution Mapping Based on Optimal Threshold\n",
        "vis_params = {\n",
        "    'min': 0,\n",
        "    'max': 1,\n",
        "    'palette': ['white', 'green']}\n",
        "Map = geemap.Map(layout={'height':'400px', 'width':'800px'})\n",
        "Map.add_layer(Vworld_Base)\n",
        "Map.addLayer(DistributionMap2, vis_params, 'Potential distribution2')\n",
        "Map.addLayer(Data, {'color':'red'}, 'Presence')\n",
        "Map.add_colorbar(vis_params, label=\"Potential distribution2\", discrete=True, orientation=\"horizontal\", layer_name=\"Potential distribution2\")\n",
        "Map.centerObject(Data.geometry(), 7)\n",
        "Map"
      ]
    },
    {
      "cell_type": "markdown",
      "id": "3d7e09ef-4851-4da6-ad75-fef371db2e48",
      "metadata": {
        "id": "3d7e09ef-4851-4da6-ad75-fef371db2e48"
      },
      "source": [
        "### 10. Export Results"
      ]
    },
    {
      "cell_type": "code",
      "execution_count": null,
      "id": "81b61d0d-943d-4f7d-9b5a-8900e7aef4e6",
      "metadata": {
        "id": "81b61d0d-943d-4f7d-9b5a-8900e7aef4e6"
      },
      "outputs": [],
      "source": [
        "# Save the Habitat Suitability Map as a GeoTIFF\n",
        "geemap.ee_export_image_to_drive(ModelAverage,\n",
        "                                description='habitat_suitability',\n",
        "                                folder='export',\n",
        "                                region=AOI,\n",
        "                                scale=100)\n",
        "\n",
        "# Save the Potential Distribution Map as a GeoTIFF\n",
        "geemap.ee_export_image_to_drive(DistributionMap,\n",
        "                                description='distribution_map',\n",
        "                                folder='export',\n",
        "                                region=AOI,\n",
        "                                scale=100)\n",
        "\n",
        "# Save the Potential Distribution Map using the optimal threshold as a GeoTIFF\n",
        "geemap.ee_export_image_to_drive(DistributionMap2,\n",
        "                                description='distribution_map2',\n",
        "                                folder='export',\n",
        "                                region=AOI,\n",
        "                                scale=100)"
      ]
    },
    {
      "cell_type": "code",
      "source": [],
      "metadata": {
        "id": "J9kSydU6q0Eq"
      },
      "id": "J9kSydU6q0Eq",
      "execution_count": null,
      "outputs": []
    }
  ],
  "metadata": {
    "kernelspec": {
      "display_name": "Python 3 (ipykernel)",
      "language": "python",
      "name": "python3"
    },
    "language_info": {
      "codemirror_mode": {
        "name": "ipython",
        "version": 3
      },
      "file_extension": ".py",
      "mimetype": "text/x-python",
      "name": "python",
      "nbconvert_exporter": "python",
      "pygments_lexer": "ipython3",
      "version": "3.12.1"
    },
    "colab": {
      "provenance": [],
      "include_colab_link": true
    },
    "widgets": {
      "application/vnd.jupyter.widget-state+json": {
        "34897ce609d84bd8bb49f2dbfdb444a0": {
          "model_module": "jupyter-leaflet",
          "model_name": "LeafletMapModel",
          "model_module_version": "^0.18",
          "state": {
            "_dom_classes": [],
            "_model_module": "jupyter-leaflet",
            "_model_module_version": "^0.18",
            "_model_name": "LeafletMapModel",
            "_view_count": null,
            "_view_module": "jupyter-leaflet",
            "_view_module_version": "^0.18",
            "_view_name": "LeafletMapView",
            "bottom": 3364750,
            "bounce_at_zoom_limits": true,
            "box_zoom": true,
            "center": [
              33.516,
              126.712
            ],
            "close_popup_on_click": true,
            "controls": [
              "IPY_MODEL_f7043b1d9c3c48fc8b87b44712cd55ce",
              "IPY_MODEL_482cf3f9b1b24be5969e3e9d7ba13359",
              "IPY_MODEL_d50a36965010473fbc33c5c08789c754",
              "IPY_MODEL_23ce7bfe2c03476ab233ab6fe0a343c5",
              "IPY_MODEL_274cccbd5bfe4d7c9526a1771443c1d7",
              "IPY_MODEL_41d7b5ae6d544795852288fc127f83f8",
              "IPY_MODEL_293d02f5ba4e4be8bcdc1e850ecb713d",
              "IPY_MODEL_2620bb91f7fe4ea18efbe57d7e00335a"
            ],
            "crs": {
              "name": "EPSG3857",
              "custom": false
            },
            "default_style": "IPY_MODEL_6f98c46298d441e3b40c4c658e07c754",
            "double_click_zoom": true,
            "dragging": true,
            "dragging_style": "IPY_MODEL_664ebb5831dd462888a81526d3e60b08",
            "east": 126.7291831970215,
            "fullscreen": false,
            "inertia": true,
            "inertia_deceleration": 3000,
            "inertia_max_speed": 1500,
            "interpolation": "bilinear",
            "keyboard": true,
            "keyboard_pan_offset": 80,
            "keyboard_zoom_offset": 1,
            "layers": [
              "IPY_MODEL_e544af921e314f00a46d2fb9416c9994",
              "IPY_MODEL_e5a821b29c2d4fe09c7b02ac68464d24",
              "IPY_MODEL_26f1e97296364f039ac78eba85b1a193",
              "IPY_MODEL_151742d6122148b29c5acc0851149a6e",
              "IPY_MODEL_06a4e51b79a74269906950774b7675a6"
            ],
            "layout": "IPY_MODEL_46c69ce2a9e6450da9fbd39d6689f3b2",
            "left": 7146508,
            "max_zoom": 24,
            "min_zoom": null,
            "modisdate": "2024-02-03",
            "north": 33.52315036278108,
            "options": [
              "bounce_at_zoom_limits",
              "box_zoom",
              "center",
              "close_popup_on_click",
              "double_click_zoom",
              "dragging",
              "fullscreen",
              "inertia",
              "inertia_deceleration",
              "inertia_max_speed",
              "interpolation",
              "keyboard",
              "keyboard_pan_offset",
              "keyboard_zoom_offset",
              "max_zoom",
              "min_zoom",
              "prefer_canvas",
              "scroll_wheel_zoom",
              "tap",
              "tap_tolerance",
              "touch_zoom",
              "world_copy_jump",
              "zoom",
              "zoom_animation_threshold",
              "zoom_delta",
              "zoom_snap"
            ],
            "panes": {},
            "prefer_canvas": false,
            "right": 7147308,
            "scroll_wheel_zoom": true,
            "south": 33.508838409451315,
            "style": "IPY_MODEL_0c36e741c438483bb18a48b3f4cb445e",
            "tap": true,
            "tap_tolerance": 15,
            "top": 3364350,
            "touch_zoom": true,
            "west": 126.69485092163087,
            "window_url": "https://duwmgkk6pjv-496ff2e9c6d22116-0-colab.googleusercontent.com/outputframe.html?vrz=colab_20240201-060115_RC00_603318229",
            "world_copy_jump": false,
            "zoom": 15,
            "zoom_animation_threshold": 4,
            "zoom_delta": 1,
            "zoom_snap": 1
          }
        },
        "f7043b1d9c3c48fc8b87b44712cd55ce": {
          "model_module": "jupyter-leaflet",
          "model_name": "LeafletWidgetControlModel",
          "model_module_version": "^0.18",
          "state": {
            "_model_module": "jupyter-leaflet",
            "_model_module_version": "^0.18",
            "_model_name": "LeafletWidgetControlModel",
            "_view_count": null,
            "_view_module": "jupyter-leaflet",
            "_view_module_version": "^0.18",
            "_view_name": "LeafletWidgetControlView",
            "max_height": null,
            "max_width": null,
            "min_height": null,
            "min_width": null,
            "options": [
              "position",
              "transparent_bg"
            ],
            "position": "topleft",
            "transparent_bg": false,
            "widget": "IPY_MODEL_55fd7be0f4ea413881d317a91ea2bf37"
          }
        },
        "482cf3f9b1b24be5969e3e9d7ba13359": {
          "model_module": "jupyter-leaflet",
          "model_name": "LeafletZoomControlModel",
          "model_module_version": "^0.18",
          "state": {
            "_model_module": "jupyter-leaflet",
            "_model_module_version": "^0.18",
            "_model_name": "LeafletZoomControlModel",
            "_view_count": null,
            "_view_module": "jupyter-leaflet",
            "_view_module_version": "^0.18",
            "_view_name": "LeafletZoomControlView",
            "options": [
              "position",
              "zoom_in_text",
              "zoom_in_title",
              "zoom_out_text",
              "zoom_out_title"
            ],
            "position": "topleft",
            "zoom_in_text": "+",
            "zoom_in_title": "Zoom in",
            "zoom_out_text": "-",
            "zoom_out_title": "Zoom out"
          }
        },
        "d50a36965010473fbc33c5c08789c754": {
          "model_module": "jupyter-leaflet",
          "model_name": "LeafletFullScreenControlModel",
          "model_module_version": "^0.18",
          "state": {
            "_model_module": "jupyter-leaflet",
            "_model_module_version": "^0.18",
            "_model_name": "LeafletFullScreenControlModel",
            "_view_count": null,
            "_view_module": "jupyter-leaflet",
            "_view_module_version": "^0.18",
            "_view_name": "LeafletFullScreenControlView",
            "options": [
              "position"
            ],
            "position": "topleft"
          }
        },
        "23ce7bfe2c03476ab233ab6fe0a343c5": {
          "model_module": "jupyter-leaflet",
          "model_name": "LeafletDrawControlModel",
          "model_module_version": "^0.18",
          "state": {
            "_model_module": "jupyter-leaflet",
            "_model_module_version": "^0.18",
            "_model_name": "LeafletDrawControlModel",
            "_view_count": null,
            "_view_module": "jupyter-leaflet",
            "_view_module_version": "^0.18",
            "_view_name": "LeafletDrawControlView",
            "circle": {},
            "circlemarker": {},
            "data": [],
            "edit": true,
            "marker": {
              "shapeOptions": {
                "color": "#3388ff"
              }
            },
            "options": [
              "position"
            ],
            "polygon": {
              "shapeOptions": {}
            },
            "polyline": {
              "shapeOptions": {}
            },
            "position": "topleft",
            "rectangle": {
              "shapeOptions": {
                "color": "#3388ff"
              }
            },
            "remove": true
          }
        },
        "274cccbd5bfe4d7c9526a1771443c1d7": {
          "model_module": "jupyter-leaflet",
          "model_name": "LeafletScaleControlModel",
          "model_module_version": "^0.18",
          "state": {
            "_model_module": "jupyter-leaflet",
            "_model_module_version": "^0.18",
            "_model_name": "LeafletScaleControlModel",
            "_view_count": null,
            "_view_module": "jupyter-leaflet",
            "_view_module_version": "^0.18",
            "_view_name": "LeafletScaleControlView",
            "imperial": true,
            "max_width": 100,
            "metric": true,
            "options": [
              "imperial",
              "max_width",
              "metric",
              "position",
              "update_when_idle"
            ],
            "position": "bottomleft",
            "update_when_idle": false
          }
        },
        "41d7b5ae6d544795852288fc127f83f8": {
          "model_module": "jupyter-leaflet",
          "model_name": "LeafletMeasureControlModel",
          "model_module_version": "^0.18",
          "state": {
            "_custom_units": {},
            "_model_module": "jupyter-leaflet",
            "_model_module_version": "^0.18",
            "_model_name": "LeafletMeasureControlModel",
            "_view_count": null,
            "_view_module": "jupyter-leaflet",
            "_view_module_version": "^0.18",
            "_view_name": "LeafletMeasureControlView",
            "active_color": "orange",
            "capture_z_index": 10000,
            "completed_color": "#C8F2BE",
            "options": [
              "active_color",
              "capture_z_index",
              "completed_color",
              "popup_options",
              "position",
              "primary_area_unit",
              "primary_length_unit",
              "secondary_area_unit",
              "secondary_length_unit"
            ],
            "popup_options": {
              "className": "leaflet-measure-resultpopup",
              "autoPanPadding": [
                10,
                10
              ]
            },
            "position": "bottomleft",
            "primary_area_unit": "acres",
            "primary_length_unit": "kilometers",
            "secondary_area_unit": null,
            "secondary_length_unit": null
          }
        },
        "293d02f5ba4e4be8bcdc1e850ecb713d": {
          "model_module": "jupyter-leaflet",
          "model_name": "LeafletWidgetControlModel",
          "model_module_version": "^0.18",
          "state": {
            "_model_module": "jupyter-leaflet",
            "_model_module_version": "^0.18",
            "_model_name": "LeafletWidgetControlModel",
            "_view_count": null,
            "_view_module": "jupyter-leaflet",
            "_view_module_version": "^0.18",
            "_view_name": "LeafletWidgetControlView",
            "max_height": null,
            "max_width": null,
            "min_height": null,
            "min_width": null,
            "options": [
              "position",
              "transparent_bg"
            ],
            "position": "topright",
            "transparent_bg": false,
            "widget": "IPY_MODEL_07c496a120fc416e8c1e1bb30ebb86cb"
          }
        },
        "2620bb91f7fe4ea18efbe57d7e00335a": {
          "model_module": "jupyter-leaflet",
          "model_name": "LeafletAttributionControlModel",
          "model_module_version": "^0.18",
          "state": {
            "_model_module": "jupyter-leaflet",
            "_model_module_version": "^0.18",
            "_model_name": "LeafletAttributionControlModel",
            "_view_count": null,
            "_view_module": "jupyter-leaflet",
            "_view_module_version": "^0.18",
            "_view_name": "LeafletAttributionControlView",
            "options": [
              "position",
              "prefix"
            ],
            "position": "bottomright",
            "prefix": "ipyleaflet"
          }
        },
        "6f98c46298d441e3b40c4c658e07c754": {
          "model_module": "jupyter-leaflet",
          "model_name": "LeafletMapStyleModel",
          "model_module_version": "^0.18",
          "state": {
            "_model_module": "jupyter-leaflet",
            "_model_module_version": "^0.18",
            "_model_name": "LeafletMapStyleModel",
            "_view_count": null,
            "_view_module": "@jupyter-widgets/base",
            "_view_module_version": "1.2.0",
            "_view_name": "StyleView",
            "cursor": "grab"
          }
        },
        "664ebb5831dd462888a81526d3e60b08": {
          "model_module": "jupyter-leaflet",
          "model_name": "LeafletMapStyleModel",
          "model_module_version": "^0.18",
          "state": {
            "_model_module": "jupyter-leaflet",
            "_model_module_version": "^0.18",
            "_model_name": "LeafletMapStyleModel",
            "_view_count": null,
            "_view_module": "@jupyter-widgets/base",
            "_view_module_version": "1.2.0",
            "_view_name": "StyleView",
            "cursor": "move"
          }
        },
        "e544af921e314f00a46d2fb9416c9994": {
          "model_module": "jupyter-leaflet",
          "model_name": "LeafletTileLayerModel",
          "model_module_version": "^0.18",
          "state": {
            "_model_module": "jupyter-leaflet",
            "_model_module_version": "^0.18",
            "_model_name": "LeafletTileLayerModel",
            "_view_count": null,
            "_view_module": "jupyter-leaflet",
            "_view_module_version": "^0.18",
            "_view_name": "LeafletTileLayerView",
            "attribution": "&copy; <a href=\"https://www.openstreetmap.org/copyright\">OpenStreetMap</a> contributors",
            "base": true,
            "bottom": true,
            "bounds": null,
            "detect_retina": false,
            "loading": false,
            "max_native_zoom": null,
            "max_zoom": 19,
            "min_native_zoom": null,
            "min_zoom": 1,
            "name": "OpenStreetMap.Mapnik",
            "no_wrap": false,
            "opacity": 1,
            "options": [
              "attribution",
              "bounds",
              "detect_retina",
              "max_native_zoom",
              "max_zoom",
              "min_native_zoom",
              "min_zoom",
              "no_wrap",
              "tile_size",
              "tms",
              "zoom_offset"
            ],
            "pane": "",
            "popup": null,
            "popup_max_height": null,
            "popup_max_width": 300,
            "popup_min_width": 50,
            "show_loading": false,
            "subitems": [],
            "tile_size": 256,
            "tms": false,
            "url": "https://tile.openstreetmap.org/{z}/{x}/{y}.png",
            "visible": true,
            "zoom_offset": 0
          }
        },
        "e5a821b29c2d4fe09c7b02ac68464d24": {
          "model_module": "jupyter-leaflet",
          "model_name": "LeafletTileLayerModel",
          "model_module_version": "^0.18",
          "state": {
            "_model_module": "jupyter-leaflet",
            "_model_module_version": "^0.18",
            "_model_name": "LeafletTileLayerModel",
            "_view_count": null,
            "_view_module": "jupyter-leaflet",
            "_view_module_version": "^0.18",
            "_view_name": "LeafletTileLayerView",
            "attribution": "Vworld",
            "base": false,
            "bottom": true,
            "bounds": null,
            "detect_retina": false,
            "loading": false,
            "max_native_zoom": null,
            "max_zoom": 18,
            "min_native_zoom": null,
            "min_zoom": 0,
            "name": "Vworld Base",
            "no_wrap": false,
            "opacity": 1,
            "options": [
              "attribution",
              "bounds",
              "detect_retina",
              "max_native_zoom",
              "max_zoom",
              "min_native_zoom",
              "min_zoom",
              "no_wrap",
              "tile_size",
              "tms",
              "zoom_offset"
            ],
            "pane": "",
            "popup": null,
            "popup_max_height": null,
            "popup_max_width": 300,
            "popup_min_width": 50,
            "show_loading": false,
            "subitems": [],
            "tile_size": 256,
            "tms": false,
            "url": "https://xdworld.vworld.kr/2d/Base/service/{z}/{x}/{y}.png",
            "visible": true,
            "zoom_offset": 0
          }
        },
        "26f1e97296364f039ac78eba85b1a193": {
          "model_module": "jupyter-leaflet",
          "model_name": "LeafletTileLayerModel",
          "model_module_version": "^0.18",
          "state": {
            "_model_module": "jupyter-leaflet",
            "_model_module_version": "^0.18",
            "_model_name": "LeafletTileLayerModel",
            "_view_count": null,
            "_view_module": "jupyter-leaflet",
            "_view_module_version": "^0.18",
            "_view_name": "LeafletTileLayerView",
            "attribution": "Google Earth Engine",
            "base": false,
            "bottom": true,
            "bounds": null,
            "detect_retina": false,
            "loading": false,
            "max_native_zoom": null,
            "max_zoom": 24,
            "min_native_zoom": null,
            "min_zoom": 0,
            "name": "Random Raster",
            "no_wrap": false,
            "opacity": 1,
            "options": [
              "attribution",
              "bounds",
              "detect_retina",
              "max_native_zoom",
              "max_zoom",
              "min_native_zoom",
              "min_zoom",
              "no_wrap",
              "tile_size",
              "tms",
              "zoom_offset"
            ],
            "pane": "",
            "popup": null,
            "popup_max_height": null,
            "popup_max_width": 300,
            "popup_min_width": 50,
            "show_loading": false,
            "subitems": [],
            "tile_size": 256,
            "tms": false,
            "url": "https://earthengine.googleapis.com/v1/projects/ee-foss4g/maps/470074cb26268596f91e594d8e05b884-c1494829133fde35f6e9ebc99f4c06d2/tiles/{z}/{x}/{y}",
            "visible": true,
            "zoom_offset": 0
          }
        },
        "151742d6122148b29c5acc0851149a6e": {
          "model_module": "jupyter-leaflet",
          "model_name": "LeafletTileLayerModel",
          "model_module_version": "^0.18",
          "state": {
            "_model_module": "jupyter-leaflet",
            "_model_module_version": "^0.18",
            "_model_name": "LeafletTileLayerModel",
            "_view_count": null,
            "_view_module": "jupyter-leaflet",
            "_view_module_version": "^0.18",
            "_view_name": "LeafletTileLayerView",
            "attribution": "Google Earth Engine",
            "base": false,
            "bottom": true,
            "bounds": null,
            "detect_retina": false,
            "loading": false,
            "max_native_zoom": null,
            "max_zoom": 24,
            "min_native_zoom": null,
            "min_zoom": 0,
            "name": "Original data",
            "no_wrap": false,
            "opacity": 1,
            "options": [
              "attribution",
              "bounds",
              "detect_retina",
              "max_native_zoom",
              "max_zoom",
              "min_native_zoom",
              "min_zoom",
              "no_wrap",
              "tile_size",
              "tms",
              "zoom_offset"
            ],
            "pane": "",
            "popup": null,
            "popup_max_height": null,
            "popup_max_width": 300,
            "popup_min_width": 50,
            "show_loading": false,
            "subitems": [],
            "tile_size": 256,
            "tms": false,
            "url": "https://earthengine.googleapis.com/v1/projects/ee-foss4g/maps/b8c6626abab342d31a0a20518f122c13-3f5273c4ec06c4820b97baa20146f788/tiles/{z}/{x}/{y}",
            "visible": true,
            "zoom_offset": 0
          }
        },
        "06a4e51b79a74269906950774b7675a6": {
          "model_module": "jupyter-leaflet",
          "model_name": "LeafletTileLayerModel",
          "model_module_version": "^0.18",
          "state": {
            "_model_module": "jupyter-leaflet",
            "_model_module_version": "^0.18",
            "_model_name": "LeafletTileLayerModel",
            "_view_count": null,
            "_view_module": "jupyter-leaflet",
            "_view_module_version": "^0.18",
            "_view_name": "LeafletTileLayerView",
            "attribution": "Google Earth Engine",
            "base": false,
            "bottom": true,
            "bounds": null,
            "detect_retina": false,
            "loading": false,
            "max_native_zoom": null,
            "max_zoom": 24,
            "min_native_zoom": null,
            "min_zoom": 0,
            "name": "Final data",
            "no_wrap": false,
            "opacity": 1,
            "options": [
              "attribution",
              "bounds",
              "detect_retina",
              "max_native_zoom",
              "max_zoom",
              "min_native_zoom",
              "min_zoom",
              "no_wrap",
              "tile_size",
              "tms",
              "zoom_offset"
            ],
            "pane": "",
            "popup": null,
            "popup_max_height": null,
            "popup_max_width": 300,
            "popup_min_width": 50,
            "show_loading": false,
            "subitems": [],
            "tile_size": 256,
            "tms": false,
            "url": "https://earthengine.googleapis.com/v1/projects/ee-foss4g/maps/865398232320376ad0f518f1323209e5-ed80a3716c158b2a4aab97248c1f6115/tiles/{z}/{x}/{y}",
            "visible": true,
            "zoom_offset": 0
          }
        },
        "46c69ce2a9e6450da9fbd39d6689f3b2": {
          "model_module": "@jupyter-widgets/base",
          "model_name": "LayoutModel",
          "model_module_version": "1.2.0",
          "state": {
            "_model_module": "@jupyter-widgets/base",
            "_model_module_version": "1.2.0",
            "_model_name": "LayoutModel",
            "_view_count": null,
            "_view_module": "@jupyter-widgets/base",
            "_view_module_version": "1.2.0",
            "_view_name": "LayoutView",
            "align_content": null,
            "align_items": null,
            "align_self": null,
            "border": null,
            "bottom": null,
            "display": null,
            "flex": null,
            "flex_flow": null,
            "grid_area": null,
            "grid_auto_columns": null,
            "grid_auto_flow": null,
            "grid_auto_rows": null,
            "grid_column": null,
            "grid_gap": null,
            "grid_row": null,
            "grid_template_areas": null,
            "grid_template_columns": null,
            "grid_template_rows": null,
            "height": "400px",
            "justify_content": null,
            "justify_items": null,
            "left": null,
            "margin": null,
            "max_height": null,
            "max_width": null,
            "min_height": null,
            "min_width": null,
            "object_fit": null,
            "object_position": null,
            "order": null,
            "overflow": null,
            "overflow_x": null,
            "overflow_y": null,
            "padding": null,
            "right": null,
            "top": null,
            "visibility": null,
            "width": "800px"
          }
        },
        "0c36e741c438483bb18a48b3f4cb445e": {
          "model_module": "jupyter-leaflet",
          "model_name": "LeafletMapStyleModel",
          "model_module_version": "^0.18",
          "state": {
            "_model_module": "jupyter-leaflet",
            "_model_module_version": "^0.18",
            "_model_name": "LeafletMapStyleModel",
            "_view_count": null,
            "_view_module": "@jupyter-widgets/base",
            "_view_module_version": "1.2.0",
            "_view_name": "StyleView",
            "cursor": "grab"
          }
        },
        "55fd7be0f4ea413881d317a91ea2bf37": {
          "model_module": "@jupyter-widgets/controls",
          "model_name": "HBoxModel",
          "model_module_version": "1.5.0",
          "state": {
            "_dom_classes": [
              "geemap-colab"
            ],
            "_model_module": "@jupyter-widgets/controls",
            "_model_module_version": "1.5.0",
            "_model_name": "HBoxModel",
            "_view_count": null,
            "_view_module": "@jupyter-widgets/controls",
            "_view_module_version": "1.5.0",
            "_view_name": "HBoxView",
            "box_style": "",
            "children": [
              "IPY_MODEL_97c315b820b047ac819efdaaf86d0af0"
            ],
            "layout": "IPY_MODEL_f6d89b4f82a54a8c8553297a76a0fd71"
          }
        },
        "07c496a120fc416e8c1e1bb30ebb86cb": {
          "model_module": "@jupyter-widgets/controls",
          "model_name": "VBoxModel",
          "model_module_version": "1.5.0",
          "state": {
            "_dom_classes": [
              "geemap-colab"
            ],
            "_model_module": "@jupyter-widgets/controls",
            "_model_module_version": "1.5.0",
            "_model_name": "VBoxModel",
            "_view_count": null,
            "_view_module": "@jupyter-widgets/controls",
            "_view_module_version": "1.5.0",
            "_view_name": "VBoxView",
            "box_style": "",
            "children": [
              "IPY_MODEL_d731805205734333a95f475096060ea0"
            ],
            "layout": "IPY_MODEL_27d6e359081c4e84b07a5fc422172cbc"
          }
        },
        "97c315b820b047ac819efdaaf86d0af0": {
          "model_module": "@jupyter-widgets/controls",
          "model_name": "ToggleButtonModel",
          "model_module_version": "1.5.0",
          "state": {
            "_dom_classes": [],
            "_model_module": "@jupyter-widgets/controls",
            "_model_module_version": "1.5.0",
            "_model_name": "ToggleButtonModel",
            "_view_count": null,
            "_view_module": "@jupyter-widgets/controls",
            "_view_module_version": "1.5.0",
            "_view_name": "ToggleButtonView",
            "button_style": "",
            "description": "",
            "description_tooltip": null,
            "disabled": false,
            "icon": "globe",
            "layout": "IPY_MODEL_5493ed6833594b529b1dd229b70f6d09",
            "style": "IPY_MODEL_44085fd87c3143a0b2b700848f765beb",
            "tooltip": "Search location/data",
            "value": false
          }
        },
        "f6d89b4f82a54a8c8553297a76a0fd71": {
          "model_module": "@jupyter-widgets/base",
          "model_name": "LayoutModel",
          "model_module_version": "1.2.0",
          "state": {
            "_model_module": "@jupyter-widgets/base",
            "_model_module_version": "1.2.0",
            "_model_name": "LayoutModel",
            "_view_count": null,
            "_view_module": "@jupyter-widgets/base",
            "_view_module_version": "1.2.0",
            "_view_name": "LayoutView",
            "align_content": null,
            "align_items": null,
            "align_self": null,
            "border": null,
            "bottom": null,
            "display": null,
            "flex": null,
            "flex_flow": null,
            "grid_area": null,
            "grid_auto_columns": null,
            "grid_auto_flow": null,
            "grid_auto_rows": null,
            "grid_column": null,
            "grid_gap": null,
            "grid_row": null,
            "grid_template_areas": null,
            "grid_template_columns": null,
            "grid_template_rows": null,
            "height": null,
            "justify_content": null,
            "justify_items": null,
            "left": null,
            "margin": null,
            "max_height": null,
            "max_width": null,
            "min_height": null,
            "min_width": null,
            "object_fit": null,
            "object_position": null,
            "order": null,
            "overflow": null,
            "overflow_x": null,
            "overflow_y": null,
            "padding": null,
            "right": null,
            "top": null,
            "visibility": null,
            "width": null
          }
        },
        "d731805205734333a95f475096060ea0": {
          "model_module": "@jupyter-widgets/controls",
          "model_name": "ToggleButtonModel",
          "model_module_version": "1.5.0",
          "state": {
            "_dom_classes": [],
            "_model_module": "@jupyter-widgets/controls",
            "_model_module_version": "1.5.0",
            "_model_name": "ToggleButtonModel",
            "_view_count": null,
            "_view_module": "@jupyter-widgets/controls",
            "_view_module_version": "1.5.0",
            "_view_name": "ToggleButtonView",
            "button_style": "",
            "description": "",
            "description_tooltip": null,
            "disabled": false,
            "icon": "wrench",
            "layout": "IPY_MODEL_3648cfa1df90494699dab548a73f612a",
            "style": "IPY_MODEL_8ed7d07f5c7b4cd983d4690cfb96534c",
            "tooltip": "Toolbar",
            "value": false
          }
        },
        "27d6e359081c4e84b07a5fc422172cbc": {
          "model_module": "@jupyter-widgets/base",
          "model_name": "LayoutModel",
          "model_module_version": "1.2.0",
          "state": {
            "_model_module": "@jupyter-widgets/base",
            "_model_module_version": "1.2.0",
            "_model_name": "LayoutModel",
            "_view_count": null,
            "_view_module": "@jupyter-widgets/base",
            "_view_module_version": "1.2.0",
            "_view_name": "LayoutView",
            "align_content": null,
            "align_items": null,
            "align_self": null,
            "border": null,
            "bottom": null,
            "display": null,
            "flex": null,
            "flex_flow": null,
            "grid_area": null,
            "grid_auto_columns": null,
            "grid_auto_flow": null,
            "grid_auto_rows": null,
            "grid_column": null,
            "grid_gap": null,
            "grid_row": null,
            "grid_template_areas": null,
            "grid_template_columns": null,
            "grid_template_rows": null,
            "height": null,
            "justify_content": null,
            "justify_items": null,
            "left": null,
            "margin": null,
            "max_height": null,
            "max_width": null,
            "min_height": null,
            "min_width": null,
            "object_fit": null,
            "object_position": null,
            "order": null,
            "overflow": null,
            "overflow_x": null,
            "overflow_y": null,
            "padding": null,
            "right": null,
            "top": null,
            "visibility": null,
            "width": null
          }
        },
        "5493ed6833594b529b1dd229b70f6d09": {
          "model_module": "@jupyter-widgets/base",
          "model_name": "LayoutModel",
          "model_module_version": "1.2.0",
          "state": {
            "_model_module": "@jupyter-widgets/base",
            "_model_module_version": "1.2.0",
            "_model_name": "LayoutModel",
            "_view_count": null,
            "_view_module": "@jupyter-widgets/base",
            "_view_module_version": "1.2.0",
            "_view_name": "LayoutView",
            "align_content": null,
            "align_items": null,
            "align_self": null,
            "border": null,
            "bottom": null,
            "display": null,
            "flex": null,
            "flex_flow": null,
            "grid_area": null,
            "grid_auto_columns": null,
            "grid_auto_flow": null,
            "grid_auto_rows": null,
            "grid_column": null,
            "grid_gap": null,
            "grid_row": null,
            "grid_template_areas": null,
            "grid_template_columns": null,
            "grid_template_rows": null,
            "height": "28px",
            "justify_content": null,
            "justify_items": null,
            "left": null,
            "margin": null,
            "max_height": null,
            "max_width": null,
            "min_height": null,
            "min_width": null,
            "object_fit": null,
            "object_position": null,
            "order": null,
            "overflow": null,
            "overflow_x": null,
            "overflow_y": null,
            "padding": "0px 0px 0px 4px",
            "right": null,
            "top": null,
            "visibility": null,
            "width": "28px"
          }
        },
        "44085fd87c3143a0b2b700848f765beb": {
          "model_module": "@jupyter-widgets/controls",
          "model_name": "DescriptionStyleModel",
          "model_module_version": "1.5.0",
          "state": {
            "_model_module": "@jupyter-widgets/controls",
            "_model_module_version": "1.5.0",
            "_model_name": "DescriptionStyleModel",
            "_view_count": null,
            "_view_module": "@jupyter-widgets/base",
            "_view_module_version": "1.2.0",
            "_view_name": "StyleView",
            "description_width": ""
          }
        },
        "3648cfa1df90494699dab548a73f612a": {
          "model_module": "@jupyter-widgets/base",
          "model_name": "LayoutModel",
          "model_module_version": "1.2.0",
          "state": {
            "_model_module": "@jupyter-widgets/base",
            "_model_module_version": "1.2.0",
            "_model_name": "LayoutModel",
            "_view_count": null,
            "_view_module": "@jupyter-widgets/base",
            "_view_module_version": "1.2.0",
            "_view_name": "LayoutView",
            "align_content": null,
            "align_items": null,
            "align_self": null,
            "border": null,
            "bottom": null,
            "display": null,
            "flex": null,
            "flex_flow": null,
            "grid_area": null,
            "grid_auto_columns": null,
            "grid_auto_flow": null,
            "grid_auto_rows": null,
            "grid_column": null,
            "grid_gap": null,
            "grid_row": null,
            "grid_template_areas": null,
            "grid_template_columns": null,
            "grid_template_rows": null,
            "height": "28px",
            "justify_content": null,
            "justify_items": null,
            "left": null,
            "margin": null,
            "max_height": null,
            "max_width": null,
            "min_height": null,
            "min_width": null,
            "object_fit": null,
            "object_position": null,
            "order": null,
            "overflow": null,
            "overflow_x": null,
            "overflow_y": null,
            "padding": "0px 0px 0px 4px",
            "right": null,
            "top": null,
            "visibility": null,
            "width": "28px"
          }
        },
        "8ed7d07f5c7b4cd983d4690cfb96534c": {
          "model_module": "@jupyter-widgets/controls",
          "model_name": "DescriptionStyleModel",
          "model_module_version": "1.5.0",
          "state": {
            "_model_module": "@jupyter-widgets/controls",
            "_model_module_version": "1.5.0",
            "_model_name": "DescriptionStyleModel",
            "_view_count": null,
            "_view_module": "@jupyter-widgets/base",
            "_view_module_version": "1.2.0",
            "_view_name": "StyleView",
            "description_width": ""
          }
        }
      }
    }
  },
  "nbformat": 4,
  "nbformat_minor": 5
}