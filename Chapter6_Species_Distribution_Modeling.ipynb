{
 "cells": [
  {
   "cell_type": "markdown",
   "id": "ee622536-a80f-420f-ab8c-86c5ab5f89e8",
   "metadata": {},
   "source": [
    "# 6장. 종 분포 모델링: GEE를 활용한 서식지 예측 및 분석"
   ]
  },
  {
   "cell_type": "markdown",
   "id": "149a3fdc-0650-4241-89d7-b3303ce996bd",
   "metadata": {},
   "source": [
    "## 6.2. GEE를 활용한 서식지 예측 및 분석"
   ]
  },
  {
   "cell_type": "markdown",
   "id": "35acc316-28de-4c5b-86da-b0383d0c1e2b",
   "metadata": {},
   "source": [
    "###  6.2.1. 종 출현 데이터 수집 및 처리"
   ]
  },
  {
   "cell_type": "code",
   "execution_count": null,
   "id": "49fa81f9-75e7-4973-a952-5bdeacafee8e",
   "metadata": {},
   "outputs": [],
   "source": [
    "# 라이브러리 설치\n",
    "%pip install -U -q pyarrow\n",
    "%pip install -U -q geopandas\n",
    "%pip install -U -q pycrs\n",
    "%pip install -U -q statsmodels"
   ]
  },
  {
   "cell_type": "code",
   "execution_count": 1,
   "id": "25548343-b156-4d9b-9800-8e846be17999",
   "metadata": {},
   "outputs": [],
   "source": [
    "# 라이브러리 호출\n",
    "import ee\n",
    "import geemap\n",
    "\n",
    "import geemap.colormaps as cm\n",
    "import pandas as pd, geopandas as gpd\n",
    "import numpy as np, matplotlib.pyplot as plt\n",
    "import os, requests, math, random\n",
    "\n",
    "from ipyleaflet import TileLayer\n",
    "from statsmodels.stats.outliers_influence \\\n",
    "    import variance_inflation_factor"
   ]
  },
  {
   "cell_type": "code",
   "execution_count": 2,
   "id": "4a242c6d-828c-4e68-9fa5-cf67a4481600",
   "metadata": {},
   "outputs": [
    {
     "data": {
      "text/html": [
       "\n",
       "            <style>\n",
       "                .geemap-dark {\n",
       "                    --jp-widgets-color: white;\n",
       "                    --jp-widgets-label-color: white;\n",
       "                    --jp-ui-font-color1: white;\n",
       "                    --jp-layout-color2: #454545;\n",
       "                    background-color: #383838;\n",
       "                }\n",
       "                    \n",
       "                .geemap-dark .jupyter-button {\n",
       "                    --jp-layout-color3: #383838;\n",
       "                }\n",
       "                \n",
       "                .geemap-colab {\n",
       "                    background-color: var(--colab-primary-surface-color, white);\n",
       "                }\n",
       "                    \n",
       "                .geemap-colab .jupyter-button {\n",
       "                    --jp-layout-color3: var(--colab-primary-surface-color, white);\n",
       "                }\n",
       "            </style>\n",
       "            "
      ],
      "text/plain": [
       "<IPython.core.display.HTML object>"
      ]
     },
     "metadata": {},
     "output_type": "display_data"
    }
   ],
   "source": [
    "ee.Initialize(project='ee-foss4g')"
   ]
  },
  {
   "cell_type": "code",
   "execution_count": 8,
   "id": "2510d3f5-bcdc-4221-8cd7-c3f2fd3e178b",
   "metadata": {},
   "outputs": [
    {
     "data": {
      "text/html": [
       "\n",
       "            <style>\n",
       "                .geemap-dark {\n",
       "                    --jp-widgets-color: white;\n",
       "                    --jp-widgets-label-color: white;\n",
       "                    --jp-ui-font-color1: white;\n",
       "                    --jp-layout-color2: #454545;\n",
       "                    background-color: #383838;\n",
       "                }\n",
       "                    \n",
       "                .geemap-dark .jupyter-button {\n",
       "                    --jp-layout-color3: #383838;\n",
       "                }\n",
       "                \n",
       "                .geemap-colab {\n",
       "                    background-color: var(--colab-primary-surface-color, white);\n",
       "                }\n",
       "                    \n",
       "                .geemap-colab .jupyter-button {\n",
       "                    --jp-layout-color3: var(--colab-primary-surface-color, white);\n",
       "                }\n",
       "            </style>\n",
       "            "
      ],
      "text/plain": [
       "<IPython.core.display.HTML object>"
      ]
     },
     "metadata": {},
     "output_type": "display_data"
    }
   ],
   "source": [
    "# GBIF API 파라미터 설정\n",
    "species_name = \"Pitta nympha\" # 학명\n",
    "country_code = \"KR\" # 국가코드\n",
    "base_url = \"https://api.gbif.org/v1/occurrence/search\"\n",
    "params = {\n",
    "    \"scientificName\": species_name, # 학명\n",
    "    \"country\": country_code, # 국가\n",
    "    \"hasCoordinate\": \"true\", # 좌표 유무\n",
    "    \"basisOfRecord\": \"HUMAN_OBSERVATION\", # 인간에 의한 관측\n",
    "    \"limit\": 10000, # 최대 10,000개 결과 반환\n",
    "}"
   ]
  },
  {
   "cell_type": "code",
   "execution_count": 15,
   "id": "75bbb94d-9bb1-43d3-a504-d7736941b263",
   "metadata": {},
   "outputs": [
    {
     "data": {
      "text/html": [
       "\n",
       "            <style>\n",
       "                .geemap-dark {\n",
       "                    --jp-widgets-color: white;\n",
       "                    --jp-widgets-label-color: white;\n",
       "                    --jp-ui-font-color1: white;\n",
       "                    --jp-layout-color2: #454545;\n",
       "                    background-color: #383838;\n",
       "                }\n",
       "                    \n",
       "                .geemap-dark .jupyter-button {\n",
       "                    --jp-layout-color3: #383838;\n",
       "                }\n",
       "                \n",
       "                .geemap-colab {\n",
       "                    background-color: var(--colab-primary-surface-color, white);\n",
       "                }\n",
       "                    \n",
       "                .geemap-colab .jupyter-button {\n",
       "                    --jp-layout-color3: var(--colab-primary-surface-color, white);\n",
       "                }\n",
       "            </style>\n",
       "            "
      ],
      "text/plain": [
       "<IPython.core.display.HTML object>"
      ]
     },
     "metadata": {},
     "output_type": "display_data"
    },
    {
     "data": {
      "text/html": [
       "<div>\n",
       "<style scoped>\n",
       "    .dataframe tbody tr th:only-of-type {\n",
       "        vertical-align: middle;\n",
       "    }\n",
       "\n",
       "    .dataframe tbody tr th {\n",
       "        vertical-align: top;\n",
       "    }\n",
       "\n",
       "    .dataframe thead th {\n",
       "        text-align: right;\n",
       "    }\n",
       "</style>\n",
       "<table border=\"1\" class=\"dataframe\">\n",
       "  <thead>\n",
       "    <tr style=\"text-align: right;\">\n",
       "      <th></th>\n",
       "      <th>key</th>\n",
       "      <th>datasetKey</th>\n",
       "      <th>publishingOrgKey</th>\n",
       "      <th>installationKey</th>\n",
       "      <th>hostingOrganizationKey</th>\n",
       "      <th>publishingCountry</th>\n",
       "      <th>protocol</th>\n",
       "      <th>lastCrawled</th>\n",
       "      <th>lastParsed</th>\n",
       "      <th>crawlId</th>\n",
       "      <th>...</th>\n",
       "      <th>nomenclaturalCode</th>\n",
       "      <th>fieldNotes</th>\n",
       "      <th>verbatimElevation</th>\n",
       "      <th>behavior</th>\n",
       "      <th>higherClassification</th>\n",
       "      <th>extensions.http://rs.tdwg.org/ac/terms/Multimedia</th>\n",
       "      <th>distanceFromCentroidInMeters</th>\n",
       "      <th>associatedTaxa</th>\n",
       "      <th>lifeStage</th>\n",
       "      <th>occurrenceRemarks</th>\n",
       "    </tr>\n",
       "  </thead>\n",
       "  <tbody>\n",
       "    <tr>\n",
       "      <th>0</th>\n",
       "      <td>4126765284</td>\n",
       "      <td>50c9509d-22c7-4a22-a47d-8c48425ef4a7</td>\n",
       "      <td>28eb1a3f-1c15-4a95-931a-4af90ecb574d</td>\n",
       "      <td>997448a8-f762-11e1-a439-00145eb45e9a</td>\n",
       "      <td>28eb1a3f-1c15-4a95-931a-4af90ecb574d</td>\n",
       "      <td>US</td>\n",
       "      <td>DWC_ARCHIVE</td>\n",
       "      <td>2024-01-16T15:19:45.976+00:00</td>\n",
       "      <td>2024-01-16T23:36:41.960+00:00</td>\n",
       "      <td>429</td>\n",
       "      <td>...</td>\n",
       "      <td>NaN</td>\n",
       "      <td>NaN</td>\n",
       "      <td>NaN</td>\n",
       "      <td>NaN</td>\n",
       "      <td>NaN</td>\n",
       "      <td>NaN</td>\n",
       "      <td>NaN</td>\n",
       "      <td>NaN</td>\n",
       "      <td>NaN</td>\n",
       "      <td>NaN</td>\n",
       "    </tr>\n",
       "  </tbody>\n",
       "</table>\n",
       "<p>1 rows × 105 columns</p>\n",
       "</div>"
      ],
      "text/plain": [
       "          key                            datasetKey  \\\n",
       "0  4126765284  50c9509d-22c7-4a22-a47d-8c48425ef4a7   \n",
       "\n",
       "                       publishingOrgKey                       installationKey  \\\n",
       "0  28eb1a3f-1c15-4a95-931a-4af90ecb574d  997448a8-f762-11e1-a439-00145eb45e9a   \n",
       "\n",
       "                 hostingOrganizationKey publishingCountry     protocol  \\\n",
       "0  28eb1a3f-1c15-4a95-931a-4af90ecb574d                US  DWC_ARCHIVE   \n",
       "\n",
       "                     lastCrawled                     lastParsed  crawlId  ...  \\\n",
       "0  2024-01-16T15:19:45.976+00:00  2024-01-16T23:36:41.960+00:00      429  ...   \n",
       "\n",
       "  nomenclaturalCode fieldNotes  verbatimElevation  behavior  \\\n",
       "0               NaN        NaN                NaN       NaN   \n",
       "\n",
       "   higherClassification  extensions.http://rs.tdwg.org/ac/terms/Multimedia  \\\n",
       "0                   NaN                                                NaN   \n",
       "\n",
       "   distanceFromCentroidInMeters  associatedTaxa  lifeStage  occurrenceRemarks  \n",
       "0                           NaN             NaN        NaN                NaN  \n",
       "\n",
       "[1 rows x 105 columns]"
      ]
     },
     "execution_count": 15,
     "metadata": {},
     "output_type": "execute_result"
    }
   ],
   "source": [
    "# GBIF API 호출\n",
    "response = requests.get(base_url, params=params)\n",
    "data = response.json() # dict\n",
    "occurrences = data[\"results\"] # list\n",
    "\n",
    "# List를 DataFrame으로 변환\n",
    "df = pd.json_normalize(occurrences)\n",
    "df.head(1)"
   ]
  },
  {
   "cell_type": "code",
   "execution_count": 16,
   "id": "71b29d2b-80ff-4478-9ddd-fa239abadbb0",
   "metadata": {},
   "outputs": [
    {
     "data": {
      "text/html": [
       "\n",
       "            <style>\n",
       "                .geemap-dark {\n",
       "                    --jp-widgets-color: white;\n",
       "                    --jp-widgets-label-color: white;\n",
       "                    --jp-ui-font-color1: white;\n",
       "                    --jp-layout-color2: #454545;\n",
       "                    background-color: #383838;\n",
       "                }\n",
       "                    \n",
       "                .geemap-dark .jupyter-button {\n",
       "                    --jp-layout-color3: #383838;\n",
       "                }\n",
       "                \n",
       "                .geemap-colab {\n",
       "                    background-color: var(--colab-primary-surface-color, white);\n",
       "                }\n",
       "                    \n",
       "                .geemap-colab .jupyter-button {\n",
       "                    --jp-layout-color3: var(--colab-primary-surface-color, white);\n",
       "                }\n",
       "            </style>\n",
       "            "
      ],
      "text/plain": [
       "<IPython.core.display.HTML object>"
      ]
     },
     "metadata": {},
     "output_type": "display_data"
    },
    {
     "data": {
      "text/html": [
       "<div>\n",
       "<style scoped>\n",
       "    .dataframe tbody tr th:only-of-type {\n",
       "        vertical-align: middle;\n",
       "    }\n",
       "\n",
       "    .dataframe tbody tr th {\n",
       "        vertical-align: top;\n",
       "    }\n",
       "\n",
       "    .dataframe thead th {\n",
       "        text-align: right;\n",
       "    }\n",
       "</style>\n",
       "<table border=\"1\" class=\"dataframe\">\n",
       "  <thead>\n",
       "    <tr style=\"text-align: right;\">\n",
       "      <th></th>\n",
       "      <th>key</th>\n",
       "      <th>datasetKey</th>\n",
       "      <th>publishingOrgKey</th>\n",
       "      <th>installationKey</th>\n",
       "      <th>hostingOrganizationKey</th>\n",
       "      <th>publishingCountry</th>\n",
       "      <th>protocol</th>\n",
       "      <th>lastCrawled</th>\n",
       "      <th>lastParsed</th>\n",
       "      <th>crawlId</th>\n",
       "      <th>...</th>\n",
       "      <th>nomenclaturalCode</th>\n",
       "      <th>fieldNotes</th>\n",
       "      <th>verbatimElevation</th>\n",
       "      <th>behavior</th>\n",
       "      <th>higherClassification</th>\n",
       "      <th>extensions.http://rs.tdwg.org/ac/terms/Multimedia</th>\n",
       "      <th>distanceFromCentroidInMeters</th>\n",
       "      <th>associatedTaxa</th>\n",
       "      <th>lifeStage</th>\n",
       "      <th>occurrenceRemarks</th>\n",
       "    </tr>\n",
       "  </thead>\n",
       "  <tbody>\n",
       "    <tr>\n",
       "      <th>0</th>\n",
       "      <td>4126765284</td>\n",
       "      <td>50c9509d-22c7-4a22-a47d-8c48425ef4a7</td>\n",
       "      <td>28eb1a3f-1c15-4a95-931a-4af90ecb574d</td>\n",
       "      <td>997448a8-f762-11e1-a439-00145eb45e9a</td>\n",
       "      <td>28eb1a3f-1c15-4a95-931a-4af90ecb574d</td>\n",
       "      <td>US</td>\n",
       "      <td>DWC_ARCHIVE</td>\n",
       "      <td>2024-01-16T15:19:45.976+00:00</td>\n",
       "      <td>2024-01-16T23:36:41.960+00:00</td>\n",
       "      <td>429</td>\n",
       "      <td>...</td>\n",
       "      <td>NaN</td>\n",
       "      <td>NaN</td>\n",
       "      <td>NaN</td>\n",
       "      <td>NaN</td>\n",
       "      <td>NaN</td>\n",
       "      <td>NaN</td>\n",
       "      <td>NaN</td>\n",
       "      <td>NaN</td>\n",
       "      <td>NaN</td>\n",
       "      <td>NaN</td>\n",
       "    </tr>\n",
       "  </tbody>\n",
       "</table>\n",
       "<p>1 rows × 105 columns</p>\n",
       "</div>"
      ],
      "text/plain": [
       "          key                            datasetKey  \\\n",
       "0  4126765284  50c9509d-22c7-4a22-a47d-8c48425ef4a7   \n",
       "\n",
       "                       publishingOrgKey                       installationKey  \\\n",
       "0  28eb1a3f-1c15-4a95-931a-4af90ecb574d  997448a8-f762-11e1-a439-00145eb45e9a   \n",
       "\n",
       "                 hostingOrganizationKey publishingCountry     protocol  \\\n",
       "0  28eb1a3f-1c15-4a95-931a-4af90ecb574d                US  DWC_ARCHIVE   \n",
       "\n",
       "                     lastCrawled                     lastParsed  crawlId  ...  \\\n",
       "0  2024-01-16T15:19:45.976+00:00  2024-01-16T23:36:41.960+00:00      429  ...   \n",
       "\n",
       "  nomenclaturalCode fieldNotes  verbatimElevation  behavior  \\\n",
       "0               NaN        NaN                NaN       NaN   \n",
       "\n",
       "   higherClassification  extensions.http://rs.tdwg.org/ac/terms/Multimedia  \\\n",
       "0                   NaN                                                NaN   \n",
       "\n",
       "   distanceFromCentroidInMeters  associatedTaxa  lifeStage  occurrenceRemarks  \n",
       "0                           NaN             NaN        NaN                NaN  \n",
       "\n",
       "[1 rows x 105 columns]"
      ]
     },
     "execution_count": 16,
     "metadata": {},
     "output_type": "execute_result"
    }
   ],
   "source": [
    "# DataFrame을 CSV로 저장\n",
    "df.to_csv(\"pitta_nympha_data.csv\", index=False)\n",
    "df = pd.read_csv(\"pitta_nympha_data.csv\")\n",
    "df.head(1)"
   ]
  },
  {
   "cell_type": "code",
   "execution_count": 18,
   "id": "c74e7ddc-fb4d-4c9f-be48-87f3ef03b7df",
   "metadata": {},
   "outputs": [
    {
     "data": {
      "text/html": [
       "\n",
       "            <style>\n",
       "                .geemap-dark {\n",
       "                    --jp-widgets-color: white;\n",
       "                    --jp-widgets-label-color: white;\n",
       "                    --jp-ui-font-color1: white;\n",
       "                    --jp-layout-color2: #454545;\n",
       "                    background-color: #383838;\n",
       "                }\n",
       "                    \n",
       "                .geemap-dark .jupyter-button {\n",
       "                    --jp-layout-color3: #383838;\n",
       "                }\n",
       "                \n",
       "                .geemap-colab {\n",
       "                    background-color: var(--colab-primary-surface-color, white);\n",
       "                }\n",
       "                    \n",
       "                .geemap-colab .jupyter-button {\n",
       "                    --jp-layout-color3: var(--colab-primary-surface-color, white);\n",
       "                }\n",
       "            </style>\n",
       "            "
      ],
      "text/plain": [
       "<IPython.core.display.HTML object>"
      ]
     },
     "metadata": {},
     "output_type": "display_data"
    },
    {
     "data": {
      "text/html": [
       "<div>\n",
       "<style scoped>\n",
       "    .dataframe tbody tr th:only-of-type {\n",
       "        vertical-align: middle;\n",
       "    }\n",
       "\n",
       "    .dataframe tbody tr th {\n",
       "        vertical-align: top;\n",
       "    }\n",
       "\n",
       "    .dataframe thead th {\n",
       "        text-align: right;\n",
       "    }\n",
       "</style>\n",
       "<table border=\"1\" class=\"dataframe\">\n",
       "  <thead>\n",
       "    <tr style=\"text-align: right;\">\n",
       "      <th></th>\n",
       "      <th>species</th>\n",
       "      <th>year</th>\n",
       "      <th>month</th>\n",
       "      <th>geometry</th>\n",
       "    </tr>\n",
       "  </thead>\n",
       "  <tbody>\n",
       "    <tr>\n",
       "      <th>0</th>\n",
       "      <td>Pitta nympha</td>\n",
       "      <td>2023</td>\n",
       "      <td>5</td>\n",
       "      <td>POINT (126.72514 33.20314)</td>\n",
       "    </tr>\n",
       "  </tbody>\n",
       "</table>\n",
       "</div>"
      ],
      "text/plain": [
       "        species  year  month                    geometry\n",
       "0  Pitta nympha  2023      5  POINT (126.72514 33.20314)"
      ]
     },
     "execution_count": 18,
     "metadata": {},
     "output_type": "execute_result"
    }
   ],
   "source": [
    "# DataFrame을 GeoDataFrame으로 변환\n",
    "gdf = gpd.GeoDataFrame(\n",
    "    df,\n",
    "    geometry=gpd.points_from_xy(df.decimalLongitude,\n",
    "                                df.decimalLatitude),\n",
    "    crs=\"EPSG:4326\"\n",
    ")[[\"species\", \"year\", \"month\", \"geometry\"]]\n",
    "gdf.head(1)"
   ]
  },
  {
   "cell_type": "code",
   "execution_count": 19,
   "id": "cc5620c5-e8ae-452a-aaeb-d1e2da33e2b7",
   "metadata": {},
   "outputs": [
    {
     "data": {
      "text/html": [
       "\n",
       "            <style>\n",
       "                .geemap-dark {\n",
       "                    --jp-widgets-color: white;\n",
       "                    --jp-widgets-label-color: white;\n",
       "                    --jp-ui-font-color1: white;\n",
       "                    --jp-layout-color2: #454545;\n",
       "                    background-color: #383838;\n",
       "                }\n",
       "                    \n",
       "                .geemap-dark .jupyter-button {\n",
       "                    --jp-layout-color3: #383838;\n",
       "                }\n",
       "                \n",
       "                .geemap-colab {\n",
       "                    background-color: var(--colab-primary-surface-color, white);\n",
       "                }\n",
       "                    \n",
       "                .geemap-colab .jupyter-button {\n",
       "                    --jp-layout-color3: var(--colab-primary-surface-color, white);\n",
       "                }\n",
       "            </style>\n",
       "            "
      ],
      "text/plain": [
       "<IPython.core.display.HTML object>"
      ]
     },
     "metadata": {},
     "output_type": "display_data"
    },
    {
     "data": {
      "text/html": [
       "<div>\n",
       "<style scoped>\n",
       "    .dataframe tbody tr th:only-of-type {\n",
       "        vertical-align: middle;\n",
       "    }\n",
       "\n",
       "    .dataframe tbody tr th {\n",
       "        vertical-align: top;\n",
       "    }\n",
       "\n",
       "    .dataframe thead th {\n",
       "        text-align: right;\n",
       "    }\n",
       "</style>\n",
       "<table border=\"1\" class=\"dataframe\">\n",
       "  <thead>\n",
       "    <tr style=\"text-align: right;\">\n",
       "      <th></th>\n",
       "      <th>species</th>\n",
       "      <th>year</th>\n",
       "      <th>month</th>\n",
       "      <th>geometry</th>\n",
       "    </tr>\n",
       "  </thead>\n",
       "  <tbody>\n",
       "    <tr>\n",
       "      <th>0</th>\n",
       "      <td>Pitta nympha</td>\n",
       "      <td>2023</td>\n",
       "      <td>5</td>\n",
       "      <td>POINT (126.72514 33.20314)</td>\n",
       "    </tr>\n",
       "  </tbody>\n",
       "</table>\n",
       "</div>"
      ],
      "text/plain": [
       "        species  year  month                    geometry\n",
       "0  Pitta nympha  2023      5  POINT (126.72514 33.20314)"
      ]
     },
     "execution_count": 19,
     "metadata": {},
     "output_type": "execute_result"
    }
   ],
   "source": [
    "# GeoDataFrame을 GeoPackage로 변환\n",
    "gdf.to_file(\"pitta_nympha_data.gpkg\", driver=\"GPKG\")\n",
    "gdf = gpd.read_file(\"pitta_nympha_data.gpkg\")\n",
    "gdf.head(1)"
   ]
  },
  {
   "cell_type": "code",
   "execution_count": 23,
   "id": "2fe7983e-1a71-4881-aa81-8ed761051d3f",
   "metadata": {},
   "outputs": [
    {
     "data": {
      "text/html": [
       "\n",
       "            <style>\n",
       "                .geemap-dark {\n",
       "                    --jp-widgets-color: white;\n",
       "                    --jp-widgets-label-color: white;\n",
       "                    --jp-ui-font-color1: white;\n",
       "                    --jp-layout-color2: #454545;\n",
       "                    background-color: #383838;\n",
       "                }\n",
       "                    \n",
       "                .geemap-dark .jupyter-button {\n",
       "                    --jp-layout-color3: #383838;\n",
       "                }\n",
       "                \n",
       "                .geemap-colab {\n",
       "                    background-color: var(--colab-primary-surface-color, white);\n",
       "                }\n",
       "                    \n",
       "                .geemap-colab .jupyter-button {\n",
       "                    --jp-layout-color3: var(--colab-primary-surface-color, white);\n",
       "                }\n",
       "            </style>\n",
       "            "
      ],
      "text/plain": [
       "<IPython.core.display.HTML object>"
      ]
     },
     "metadata": {},
     "output_type": "display_data"
    }
   ],
   "source": [
    "# 연도(year)와 월별(month) 데이터 분포 시각화\n",
    "def plot_data_distribution(gdf, h_size=12):\n",
    "\n",
    "    plt.figure(figsize=(h_size, h_size-8))\n",
    "    \n",
    "    # 연도별 데이터 분포 그래프 (왼쪽)\n",
    "    plt.subplot(1, 2, 1)\n",
    "    year_counts = gdf['year'].value_counts().sort_index()    \n",
    "    plt.bar(year_counts.index, year_counts.values)\n",
    "    plt.xlabel('Year')\n",
    "    plt.ylabel('Count')\n",
    "    plt.title('Yearly Data Distribution')\n",
    "\n",
    "    # 막대 그래프 안에 데이터 개수 표시\n",
    "    for i, count in enumerate(year_counts.values):\n",
    "        plt.text(year_counts.index[i], count, str(count), ha='center', va='bottom')\n",
    "\n",
    "    # 월별 데이터 분포 그래프 (오른쪽)\n",
    "    plt.subplot(1, 2, 2)\n",
    "    month_counts = gdf['month'].value_counts().sort_index()\n",
    "    plt.bar(month_counts.index, month_counts.values)\n",
    "    plt.xlabel('Month')\n",
    "    plt.ylabel('Count')\n",
    "    plt.title('Monthly Data Distribution')\n",
    "\n",
    "    # 막대 그래프 안에 데이터 개수 표시\n",
    "    for i, count in enumerate(month_counts.values):\n",
    "        plt.text(month_counts.index[i], count, str(count), ha='center', va='bottom')\n",
    "    \n",
    "    # x 축의 눈금을 정수 형식으로 설정\n",
    "    plt.xticks(month_counts.index, map(int, month_counts.index))\n",
    "    \n",
    "    # 그래프 출력\n",
    "    plt.tight_layout()\n",
    "    plt.savefig('data_distribution_plot.png')\n",
    "    plt.show()"
   ]
  },
  {
   "cell_type": "code",
   "execution_count": 21,
   "id": "f5b68331-7426-4c3b-ba9a-e320ccb8db27",
   "metadata": {},
   "outputs": [
    {
     "data": {
      "text/html": [
       "\n",
       "            <style>\n",
       "                .geemap-dark {\n",
       "                    --jp-widgets-color: white;\n",
       "                    --jp-widgets-label-color: white;\n",
       "                    --jp-ui-font-color1: white;\n",
       "                    --jp-layout-color2: #454545;\n",
       "                    background-color: #383838;\n",
       "                }\n",
       "                    \n",
       "                .geemap-dark .jupyter-button {\n",
       "                    --jp-layout-color3: #383838;\n",
       "                }\n",
       "                \n",
       "                .geemap-colab {\n",
       "                    background-color: var(--colab-primary-surface-color, white);\n",
       "                }\n",
       "                    \n",
       "                .geemap-colab .jupyter-button {\n",
       "                    --jp-layout-color3: var(--colab-primary-surface-color, white);\n",
       "                }\n",
       "            </style>\n",
       "            "
      ],
      "text/plain": [
       "<IPython.core.display.HTML object>"
      ]
     },
     "metadata": {},
     "output_type": "display_data"
    },
    {
     "data": {
      "image/png": "[encoded data removed]",
      "text/plain": [
       "<Figure size 1200x400 with 2 Axes>"
      ]
     },
     "metadata": {},
     "output_type": "display_data"
    }
   ],
   "source": [
    "plot_data_distribution(gdf)"
   ]
  },
  {
   "cell_type": "code",
   "execution_count": 24,
   "id": "892d9b13-8910-4094-a0b2-53b354c5e80e",
   "metadata": {},
   "outputs": [
    {
     "data": {
      "text/html": [
       "\n",
       "            <style>\n",
       "                .geemap-dark {\n",
       "                    --jp-widgets-color: white;\n",
       "                    --jp-widgets-label-color: white;\n",
       "                    --jp-ui-font-color1: white;\n",
       "                    --jp-layout-color2: #454545;\n",
       "                    background-color: #383838;\n",
       "                }\n",
       "                    \n",
       "                .geemap-dark .jupyter-button {\n",
       "                    --jp-layout-color3: #383838;\n",
       "                }\n",
       "                \n",
       "                .geemap-colab {\n",
       "                    background-color: var(--colab-primary-surface-color, white);\n",
       "                }\n",
       "                    \n",
       "                .geemap-colab .jupyter-button {\n",
       "                    --jp-layout-color3: var(--colab-primary-surface-color, white);\n",
       "                }\n",
       "            </style>\n",
       "            "
      ],
      "text/plain": [
       "<IPython.core.display.HTML object>"
      ]
     },
     "metadata": {},
     "output_type": "display_data"
    },
    {
     "data": {
      "image/png": "[encoded data removed]",
      "text/plain": [
       "<Figure size 1200x400 with 2 Axes>"
      ]
     },
     "metadata": {},
     "output_type": "display_data"
    }
   ],
   "source": [
    "# 연도와 월별 데이터 필터링\n",
    "filtered_gdf = gdf[\n",
    "    (~gdf['year'].eq(1995)) &\n",
    "    (~gdf['month'].between(8, 9))\n",
    "]\n",
    "\n",
    "plot_data_distribution(filtered_gdf)"
   ]
  },
  {
   "cell_type": "code",
   "execution_count": 25,
   "id": "60bb0dba-4ac6-4e7d-940b-4b2a0ff643e7",
   "metadata": {},
   "outputs": [
    {
     "data": {
      "text/html": [
       "\n",
       "            <style>\n",
       "                .geemap-dark {\n",
       "                    --jp-widgets-color: white;\n",
       "                    --jp-widgets-label-color: white;\n",
       "                    --jp-ui-font-color1: white;\n",
       "                    --jp-layout-color2: #454545;\n",
       "                    background-color: #383838;\n",
       "                }\n",
       "                    \n",
       "                .geemap-dark .jupyter-button {\n",
       "                    --jp-layout-color3: #383838;\n",
       "                }\n",
       "                \n",
       "                .geemap-colab {\n",
       "                    background-color: var(--colab-primary-surface-color, white);\n",
       "                }\n",
       "                    \n",
       "                .geemap-colab .jupyter-button {\n",
       "                    --jp-layout-color3: var(--colab-primary-surface-color, white);\n",
       "                }\n",
       "            </style>\n",
       "            "
      ],
      "text/plain": [
       "<IPython.core.display.HTML object>"
      ]
     },
     "metadata": {},
     "output_type": "display_data"
    }
   ],
   "source": [
    "# 연도(year)와 월별(month) 데이터 분포 히트맵\n",
    "def plot_heatmap(gdf, h_size=8):\n",
    "\n",
    "    statistics = gdf.groupby([\"month\", \"year\"]).size().unstack(fill_value=0)\n",
    "\n",
    "    # 히트맵\n",
    "    plt.figure(figsize=(h_size, h_size-6))\n",
    "    heatmap = plt.imshow(statistics.values, cmap=\"YlOrBr\", origin=\"upper\", aspect=\"auto\")\n",
    "\n",
    "    # 각 픽셀 위에 수치 표시\n",
    "    for i in range(len(statistics.index)):\n",
    "        for j in range(len(statistics.columns)):\n",
    "            plt.text(j, i, statistics.values[i, j], ha=\"center\", va=\"center\", color=\"black\")\n",
    "\n",
    "    plt.colorbar(heatmap, label=\"Count\")\n",
    "    plt.title(\"Monthly Species Count by Year\")\n",
    "    plt.xlabel(\"Year\")\n",
    "    plt.ylabel(\"Month\")\n",
    "    plt.xticks(range(len(statistics.columns)), statistics.columns)\n",
    "    plt.yticks(range(len(statistics.index)), statistics.index)\n",
    "    plt.tight_layout()\n",
    "    plt.savefig('heatmap_plot.png')\n",
    "    plt.show()\n",
    "    print(gdf.groupby([\"month\", \"year\"]).size().unstack(fill_value=0))"
   ]
  },
  {
   "cell_type": "code",
   "execution_count": 26,
   "id": "d5e51554-0772-4ef4-bbd3-a0351c3495b3",
   "metadata": {},
   "outputs": [
    {
     "data": {
      "text/html": [
       "\n",
       "            <style>\n",
       "                .geemap-dark {\n",
       "                    --jp-widgets-color: white;\n",
       "                    --jp-widgets-label-color: white;\n",
       "                    --jp-ui-font-color1: white;\n",
       "                    --jp-layout-color2: #454545;\n",
       "                    background-color: #383838;\n",
       "                }\n",
       "                    \n",
       "                .geemap-dark .jupyter-button {\n",
       "                    --jp-layout-color3: #383838;\n",
       "                }\n",
       "                \n",
       "                .geemap-colab {\n",
       "                    background-color: var(--colab-primary-surface-color, white);\n",
       "                }\n",
       "                    \n",
       "                .geemap-colab .jupyter-button {\n",
       "                    --jp-layout-color3: var(--colab-primary-surface-color, white);\n",
       "                }\n",
       "            </style>\n",
       "            "
      ],
      "text/plain": [
       "<IPython.core.display.HTML object>"
      ]
     },
     "metadata": {},
     "output_type": "display_data"
    },
    {
     "data": {
      "image/png": "[encoded data removed]",
      "text/plain": [
       "<Figure size 800x200 with 2 Axes>"
      ]
     },
     "metadata": {},
     "output_type": "display_data"
    },
    {
     "name": "stdout",
     "output_type": "stream",
     "text": [
      "year   2012  2013  2014  2015  2016  2017  2018  2019  2020  2021  2022  2023\n",
      "month                                                                        \n",
      "5         0     0     5     0     2     1     5     4     5    22     8     1\n",
      "6         0     2     6     1     1     6     0     6    13    35    20     3\n",
      "7         1     0     0     1     0     1     1     7     1    10     8     0\n"
     ]
    }
   ],
   "source": [
    "plot_heatmap(filtered_gdf)"
   ]
  },
  {
   "cell_type": "code",
   "execution_count": 30,
   "id": "97b4666d-a9b2-4746-8cac-07a9daa055a1",
   "metadata": {},
   "outputs": [
    {
     "data": {
      "text/html": [
       "\n",
       "            <style>\n",
       "                .geemap-dark {\n",
       "                    --jp-widgets-color: white;\n",
       "                    --jp-widgets-label-color: white;\n",
       "                    --jp-ui-font-color1: white;\n",
       "                    --jp-layout-color2: #454545;\n",
       "                    background-color: #383838;\n",
       "                }\n",
       "                    \n",
       "                .geemap-dark .jupyter-button {\n",
       "                    --jp-layout-color3: #383838;\n",
       "                }\n",
       "                \n",
       "                .geemap-colab {\n",
       "                    background-color: var(--colab-primary-surface-color, white);\n",
       "                }\n",
       "                    \n",
       "                .geemap-colab .jupyter-button {\n",
       "                    --jp-layout-color3: var(--colab-primary-surface-color, white);\n",
       "                }\n",
       "            </style>\n",
       "            "
      ],
      "text/plain": [
       "<IPython.core.display.HTML object>"
      ]
     },
     "metadata": {},
     "output_type": "display_data"
    }
   ],
   "source": [
    "# GeoDataFrame을 Earth Engine 객체로 변환\n",
    "data_raw = geemap.geopandas_to_ee(filtered_gdf)"
   ]
  },
  {
   "cell_type": "code",
   "execution_count": 31,
   "id": "5184719a-bff5-4102-b939-5931ad4c1a95",
   "metadata": {},
   "outputs": [
    {
     "data": {
      "text/html": [
       "\n",
       "            <style>\n",
       "                .geemap-dark {\n",
       "                    --jp-widgets-color: white;\n",
       "                    --jp-widgets-label-color: white;\n",
       "                    --jp-ui-font-color1: white;\n",
       "                    --jp-layout-color2: #454545;\n",
       "                    background-color: #383838;\n",
       "                }\n",
       "                    \n",
       "                .geemap-dark .jupyter-button {\n",
       "                    --jp-layout-color3: #383838;\n",
       "                }\n",
       "                \n",
       "                .geemap-colab {\n",
       "                    background-color: var(--colab-primary-surface-color, white);\n",
       "                }\n",
       "                    \n",
       "                .geemap-colab .jupyter-button {\n",
       "                    --jp-layout-color3: var(--colab-primary-surface-color, white);\n",
       "                }\n",
       "            </style>\n",
       "            "
      ],
      "text/plain": [
       "<IPython.core.display.HTML object>"
      ]
     },
     "metadata": {},
     "output_type": "display_data"
    }
   ],
   "source": [
    "# GeoDataFrame을 Shapefile로 저장\n",
    "output_shapefile = 'pitta_nympha_data.shp'\n",
    "filtered_gdf.to_file(output_shapefile)\n",
    "\n",
    "# Shapefile을 GEE 객체로 변환\n",
    "data_raw = geemap.shp_to_ee(output_shapefile)"
   ]
  },
  {
   "cell_type": "code",
   "execution_count": 32,
   "id": "63c61692-02f6-4044-bbf5-66550d9962fc",
   "metadata": {},
   "outputs": [
    {
     "data": {
      "text/html": [
       "\n",
       "            <style>\n",
       "                .geemap-dark {\n",
       "                    --jp-widgets-color: white;\n",
       "                    --jp-widgets-label-color: white;\n",
       "                    --jp-ui-font-color1: white;\n",
       "                    --jp-layout-color2: #454545;\n",
       "                    background-color: #383838;\n",
       "                }\n",
       "                    \n",
       "                .geemap-dark .jupyter-button {\n",
       "                    --jp-layout-color3: #383838;\n",
       "                }\n",
       "                \n",
       "                .geemap-colab {\n",
       "                    background-color: var(--colab-primary-surface-color, white);\n",
       "                }\n",
       "                    \n",
       "                .geemap-colab .jupyter-button {\n",
       "                    --jp-layout-color3: var(--colab-primary-surface-color, white);\n",
       "                }\n",
       "            </style>\n",
       "            "
      ],
      "text/plain": [
       "<IPython.core.display.HTML object>"
      ]
     },
     "metadata": {},
     "output_type": "display_data"
    }
   ],
   "source": [
    "# 공간 해상도 설정(m)\n",
    "GrainSize = 1000"
   ]
  },
  {
   "cell_type": "code",
   "execution_count": 33,
   "id": "a8c5683b-51bb-460a-b8cf-1f9e5600d111",
   "metadata": {},
   "outputs": [
    {
     "data": {
      "text/html": [
       "\n",
       "            <style>\n",
       "                .geemap-dark {\n",
       "                    --jp-widgets-color: white;\n",
       "                    --jp-widgets-label-color: white;\n",
       "                    --jp-ui-font-color1: white;\n",
       "                    --jp-layout-color2: #454545;\n",
       "                    background-color: #383838;\n",
       "                }\n",
       "                    \n",
       "                .geemap-dark .jupyter-button {\n",
       "                    --jp-layout-color3: #383838;\n",
       "                }\n",
       "                \n",
       "                .geemap-colab {\n",
       "                    background-color: var(--colab-primary-surface-color, white);\n",
       "                }\n",
       "                    \n",
       "                .geemap-colab .jupyter-button {\n",
       "                    --jp-layout-color3: var(--colab-primary-surface-color, white);\n",
       "                }\n",
       "            </style>\n",
       "            "
      ],
      "text/plain": [
       "<IPython.core.display.HTML object>"
      ]
     },
     "metadata": {},
     "output_type": "display_data"
    }
   ],
   "source": [
    "def remove_duplicates(data, GrainSize):\n",
    "    # 선택한 공간 해상도(1km)에서 픽셀 당 출현 기록 하나만 무작위 선택\n",
    "    random_raster = ee.Image.random().reproject('EPSG:4326', None, GrainSize)\n",
    "    rand_point_vals = random_raster.sampleRegions(collection=ee.FeatureCollection(data), scale=10, geometries=True)\n",
    "    return rand_point_vals.distinct('random')"
   ]
  },
  {
   "cell_type": "code",
   "execution_count": 34,
   "id": "4362adeb-3c1a-4146-a849-9389361c1275",
   "metadata": {},
   "outputs": [
    {
     "data": {
      "text/html": [
       "\n",
       "            <style>\n",
       "                .geemap-dark {\n",
       "                    --jp-widgets-color: white;\n",
       "                    --jp-widgets-label-color: white;\n",
       "                    --jp-ui-font-color1: white;\n",
       "                    --jp-layout-color2: #454545;\n",
       "                    background-color: #383838;\n",
       "                }\n",
       "                    \n",
       "                .geemap-dark .jupyter-button {\n",
       "                    --jp-layout-color3: #383838;\n",
       "                }\n",
       "                \n",
       "                .geemap-colab {\n",
       "                    background-color: var(--colab-primary-surface-color, white);\n",
       "                }\n",
       "                    \n",
       "                .geemap-colab .jupyter-button {\n",
       "                    --jp-layout-color3: var(--colab-primary-surface-color, white);\n",
       "                }\n",
       "            </style>\n",
       "            "
      ],
      "text/plain": [
       "<IPython.core.display.HTML object>"
      ]
     },
     "metadata": {},
     "output_type": "display_data"
    },
    {
     "name": "stdout",
     "output_type": "stream",
     "text": [
      "Original data size: 176\n",
      "Final data size: 111\n"
     ]
    }
   ],
   "source": [
    "Data = remove_duplicates(data_raw, GrainSize)\n",
    "\n",
    "# 선택 전, 선택 후\n",
    "print('Original data size:', data_raw.size().getInfo())\n",
    "print('Final data size:', Data.size().getInfo())"
   ]
  },
  {
   "cell_type": "code",
   "execution_count": 44,
   "id": "4f56291b-a215-4d99-8d68-c886a98ddafb",
   "metadata": {},
   "outputs": [
    {
     "data": {
      "text/html": [
       "\n",
       "            <style>\n",
       "                .geemap-dark {\n",
       "                    --jp-widgets-color: white;\n",
       "                    --jp-widgets-label-color: white;\n",
       "                    --jp-ui-font-color1: white;\n",
       "                    --jp-layout-color2: #454545;\n",
       "                    background-color: #383838;\n",
       "                }\n",
       "                    \n",
       "                .geemap-dark .jupyter-button {\n",
       "                    --jp-layout-color3: #383838;\n",
       "                }\n",
       "                \n",
       "                .geemap-colab {\n",
       "                    background-color: var(--colab-primary-surface-color, white);\n",
       "                }\n",
       "                    \n",
       "                .geemap-colab .jupyter-button {\n",
       "                    --jp-layout-color3: var(--colab-primary-surface-color, white);\n",
       "                }\n",
       "            </style>\n",
       "            "
      ],
      "text/plain": [
       "<IPython.core.display.HTML object>"
      ]
     },
     "metadata": {},
     "output_type": "display_data"
    },
    {
     "data": {
      "application/vnd.jupyter.widget-view+json": {
       "model_id": "96455c21988445559f2a4ad0d0974362",
       "version_major": 2,
       "version_minor": 0
      },
      "text/plain": [
       "Map(center=[35.533064630393035, 126.8858638222748], controls=(WidgetControl(options=['position', 'transparent_…"
      ]
     },
     "execution_count": 44,
     "metadata": {},
     "output_type": "execute_result"
    }
   ],
   "source": [
    "# 지리적 샘플링 편향의 전처리 전(파란색)과 후(빨간색) 가시화\n",
    "Map = geemap.Map(layout={'height':'400px', 'width':'800px'})\n",
    "\n",
    "Vworld_Base = TileLayer(\n",
    "    url='https://xdworld.vworld.kr/2d/Base/service/{z}/{x}/{y}.png',\n",
    "    name='Vworld Base',\n",
    "    attribution='Vworld',\n",
    "    shown=True\n",
    ")\n",
    "Map.add_layer(Vworld_Base)\n",
    "\n",
    "Map.addLayer(data_raw, {'color': 'blue'}, 'Original data')\n",
    "Map.addLayer(Data, {'color': 'red'}, 'Final data')\n",
    "Map.centerObject(Data.geometry(), 7)\n",
    "Map"
   ]
  },
  {
   "cell_type": "markdown",
   "id": "bdc090c1-153e-44c9-b7f3-70608ed009c8",
   "metadata": {},
   "source": [
    "### 6.2.2. 관심 영역 정의"
   ]
  },
  {
   "cell_type": "code",
   "execution_count": 46,
   "id": "9aede96f-0dc0-4100-af71-04a1ef53509a",
   "metadata": {},
   "outputs": [
    {
     "data": {
      "text/html": [
       "\n",
       "            <style>\n",
       "                .geemap-dark {\n",
       "                    --jp-widgets-color: white;\n",
       "                    --jp-widgets-label-color: white;\n",
       "                    --jp-ui-font-color1: white;\n",
       "                    --jp-layout-color2: #454545;\n",
       "                    background-color: #383838;\n",
       "                }\n",
       "                    \n",
       "                .geemap-dark .jupyter-button {\n",
       "                    --jp-layout-color3: #383838;\n",
       "                }\n",
       "                \n",
       "                .geemap-colab {\n",
       "                    background-color: var(--colab-primary-surface-color, white);\n",
       "                }\n",
       "                    \n",
       "                .geemap-colab .jupyter-button {\n",
       "                    --jp-layout-color3: var(--colab-primary-surface-color, white);\n",
       "                }\n",
       "            </style>\n",
       "            "
      ],
      "text/plain": [
       "<IPython.core.display.HTML object>"
      ]
     },
     "metadata": {},
     "output_type": "display_data"
    },
    {
     "data": {
      "application/vnd.jupyter.widget-view+json": {
       "model_id": "96455c21988445559f2a4ad0d0974362",
       "version_major": 2,
       "version_minor": 0
      },
      "text/plain": [
       "Map(bottom=6657.0, center=[35.587733558095216, 126.8959721004684], controls=(WidgetControl(options=['position'…"
      ]
     },
     "execution_count": 46,
     "metadata": {},
     "output_type": "execute_result"
    }
   ],
   "source": [
    "# AOI 정의\n",
    "AOI = Data.geometry().bounds().buffer(\n",
    "    distance=50000, maxError=1000)\n",
    "\n",
    "# 연구지역 경계를 지도에 추가\n",
    "outline = ee.Image().byte().paint(\n",
    "    featureCollection=AOI, color=1, width=3)\n",
    "\n",
    "Map.addLayer(outline, {'palette': 'FF0000'}, \"Study Area\")\n",
    "Map.centerObject(AOI, 6)\n",
    "Map"
   ]
  },
  {
   "cell_type": "markdown",
   "id": "65881f52-f725-455e-9195-b5f51e78d363",
   "metadata": {},
   "source": [
    "### 6.2.3. GEE 환경 변수 추가"
   ]
  },
  {
   "cell_type": "code",
   "execution_count": 48,
   "id": "f0c88708-b7bc-4662-88c1-af0b54ccca44",
   "metadata": {},
   "outputs": [
    {
     "data": {
      "text/html": [
       "\n",
       "            <style>\n",
       "                .geemap-dark {\n",
       "                    --jp-widgets-color: white;\n",
       "                    --jp-widgets-label-color: white;\n",
       "                    --jp-ui-font-color1: white;\n",
       "                    --jp-layout-color2: #454545;\n",
       "                    background-color: #383838;\n",
       "                }\n",
       "                    \n",
       "                .geemap-dark .jupyter-button {\n",
       "                    --jp-layout-color3: #383838;\n",
       "                }\n",
       "                \n",
       "                .geemap-colab {\n",
       "                    background-color: var(--colab-primary-surface-color, white);\n",
       "                }\n",
       "                    \n",
       "                .geemap-colab .jupyter-button {\n",
       "                    --jp-layout-color3: var(--colab-primary-surface-color, white);\n",
       "                }\n",
       "            </style>\n",
       "            "
      ],
      "text/plain": [
       "<IPython.core.display.HTML object>"
      ]
     },
     "metadata": {},
     "output_type": "display_data"
    }
   ],
   "source": [
    "# WorldClim V1 Bioclim\n",
    "BIO = ee.Image(\"WORLDCLIM/V1/BIO\")"
   ]
  },
  {
   "cell_type": "code",
   "execution_count": 49,
   "id": "70ef5302-d677-47a4-bd6a-cdda20b38280",
   "metadata": {},
   "outputs": [
    {
     "data": {
      "text/html": [
       "\n",
       "            <style>\n",
       "                .geemap-dark {\n",
       "                    --jp-widgets-color: white;\n",
       "                    --jp-widgets-label-color: white;\n",
       "                    --jp-ui-font-color1: white;\n",
       "                    --jp-layout-color2: #454545;\n",
       "                    background-color: #383838;\n",
       "                }\n",
       "                    \n",
       "                .geemap-dark .jupyter-button {\n",
       "                    --jp-layout-color3: #383838;\n",
       "                }\n",
       "                \n",
       "                .geemap-colab {\n",
       "                    background-color: var(--colab-primary-surface-color, white);\n",
       "                }\n",
       "                    \n",
       "                .geemap-colab .jupyter-button {\n",
       "                    --jp-layout-color3: var(--colab-primary-surface-color, white);\n",
       "                }\n",
       "            </style>\n",
       "            "
      ],
      "text/plain": [
       "<IPython.core.display.HTML object>"
      ]
     },
     "metadata": {},
     "output_type": "display_data"
    }
   ],
   "source": [
    "# NASA SRTM Digital Elevation 30m\n",
    "Terrain = ee.Algorithms.Terrain(ee.Image(\"USGS/SRTMGL1_003\"))"
   ]
  },
  {
   "cell_type": "code",
   "execution_count": 57,
   "id": "eb14f1e0-1ef5-4e5c-bc94-d27b24723f98",
   "metadata": {},
   "outputs": [
    {
     "data": {
      "text/html": [
       "\n",
       "            <style>\n",
       "                .geemap-dark {\n",
       "                    --jp-widgets-color: white;\n",
       "                    --jp-widgets-label-color: white;\n",
       "                    --jp-ui-font-color1: white;\n",
       "                    --jp-layout-color2: #454545;\n",
       "                    background-color: #383838;\n",
       "                }\n",
       "                    \n",
       "                .geemap-dark .jupyter-button {\n",
       "                    --jp-layout-color3: #383838;\n",
       "                }\n",
       "                \n",
       "                .geemap-colab {\n",
       "                    background-color: var(--colab-primary-surface-color, white);\n",
       "                }\n",
       "                    \n",
       "                .geemap-colab .jupyter-button {\n",
       "                    --jp-layout-color3: var(--colab-primary-surface-color, white);\n",
       "                }\n",
       "            </style>\n",
       "            "
      ],
      "text/plain": [
       "<IPython.core.display.HTML object>"
      ]
     },
     "metadata": {},
     "output_type": "display_data"
    }
   ],
   "source": [
    "# Global Forest Cover Change (GFCC) Tree Cover Multi-Year Global 30m\n",
    "TCC = ee.ImageCollection(\"NASA/MEASURES/GFCC/TC/v3\")\n",
    "MedianTCC = TCC.filterDate('2000-01-01', '2015-12-31')\n",
    "MedianTCC = MedianTCC.select(['tree_canopy_cover'], ['TCC']).median()"
   ]
  },
  {
   "cell_type": "code",
   "execution_count": 59,
   "id": "d97302d8-bb90-4772-8351-220341eeda24",
   "metadata": {},
   "outputs": [
    {
     "data": {
      "text/html": [
       "\n",
       "            <style>\n",
       "                .geemap-dark {\n",
       "                    --jp-widgets-color: white;\n",
       "                    --jp-widgets-label-color: white;\n",
       "                    --jp-ui-font-color1: white;\n",
       "                    --jp-layout-color2: #454545;\n",
       "                    background-color: #383838;\n",
       "                }\n",
       "                    \n",
       "                .geemap-dark .jupyter-button {\n",
       "                    --jp-layout-color3: #383838;\n",
       "                }\n",
       "                \n",
       "                .geemap-colab {\n",
       "                    background-color: var(--colab-primary-surface-color, white);\n",
       "                }\n",
       "                    \n",
       "                .geemap-colab .jupyter-button {\n",
       "                    --jp-layout-color3: var(--colab-primary-surface-color, white);\n",
       "                }\n",
       "            </style>\n",
       "            "
      ],
      "text/plain": [
       "<IPython.core.display.HTML object>"
      ]
     },
     "metadata": {},
     "output_type": "display_data"
    }
   ],
   "source": [
    "# 밴드들을 하나의 다중 밴드 이미지로 결합\n",
    "predictors = BIO.addBands(Terrain).addBands(MedianTCC)\n",
    "\n",
    "# 수역 마스크 생성\n",
    "watermask =  Terrain.select('elevation').gt(0)\n",
    "\n",
    "# 해양 픽셀 마스킹 및 관심 영역 클리핑\n",
    "predictors = predictors.updateMask(watermask).clip(AOI)"
   ]
  },
  {
   "cell_type": "code",
   "execution_count": 60,
   "id": "19e33c6c-7940-4209-882b-24744c56c088",
   "metadata": {},
   "outputs": [
    {
     "data": {
      "text/html": [
       "\n",
       "            <style>\n",
       "                .geemap-dark {\n",
       "                    --jp-widgets-color: white;\n",
       "                    --jp-widgets-label-color: white;\n",
       "                    --jp-ui-font-color1: white;\n",
       "                    --jp-layout-color2: #454545;\n",
       "                    background-color: #383838;\n",
       "                }\n",
       "                    \n",
       "                .geemap-dark .jupyter-button {\n",
       "                    --jp-layout-color3: #383838;\n",
       "                }\n",
       "                \n",
       "                .geemap-colab {\n",
       "                    background-color: var(--colab-primary-surface-color, white);\n",
       "                }\n",
       "                    \n",
       "                .geemap-colab .jupyter-button {\n",
       "                    --jp-layout-color3: var(--colab-primary-surface-color, white);\n",
       "                }\n",
       "            </style>\n",
       "            "
      ],
      "text/plain": [
       "<IPython.core.display.HTML object>"
      ]
     },
     "metadata": {},
     "output_type": "display_data"
    }
   ],
   "source": [
    "# 5000개 임의 지점에서 다중 밴드 예측 이미지 간 공변량 값 추출\n",
    "# 5000개 임의 지점 생성\n",
    "DataCor = predictors.sample(scale=GrainSize, numPixels=5000, geometries=True)\n",
    "# 공변량 값 추출\n",
    "PixelVals = predictors.sampleRegions(collection=DataCor, scale=GrainSize, tileScale=16)"
   ]
  },
  {
   "cell_type": "code",
   "execution_count": 53,
   "id": "be85eb27-7674-43c3-a136-b32f7f9d306f",
   "metadata": {},
   "outputs": [
    {
     "data": {
      "text/html": [
       "\n",
       "            <style>\n",
       "                .geemap-dark {\n",
       "                    --jp-widgets-color: white;\n",
       "                    --jp-widgets-label-color: white;\n",
       "                    --jp-ui-font-color1: white;\n",
       "                    --jp-layout-color2: #454545;\n",
       "                    background-color: #383838;\n",
       "                }\n",
       "                    \n",
       "                .geemap-dark .jupyter-button {\n",
       "                    --jp-layout-color3: #383838;\n",
       "                }\n",
       "                \n",
       "                .geemap-colab {\n",
       "                    background-color: var(--colab-primary-surface-color, white);\n",
       "                }\n",
       "                    \n",
       "                .geemap-colab .jupyter-button {\n",
       "                    --jp-layout-color3: var(--colab-primary-surface-color, white);\n",
       "                }\n",
       "            </style>\n",
       "            "
      ],
      "text/plain": [
       "<IPython.core.display.HTML object>"
      ]
     },
     "metadata": {},
     "output_type": "display_data"
    },
    {
     "data": {
      "text/html": [
       "<div>\n",
       "<style scoped>\n",
       "    .dataframe tbody tr th:only-of-type {\n",
       "        vertical-align: middle;\n",
       "    }\n",
       "\n",
       "    .dataframe tbody tr th {\n",
       "        vertical-align: top;\n",
       "    }\n",
       "\n",
       "    .dataframe thead th {\n",
       "        text-align: right;\n",
       "    }\n",
       "</style>\n",
       "<table border=\"1\" class=\"dataframe\">\n",
       "  <thead>\n",
       "    <tr style=\"text-align: right;\">\n",
       "      <th></th>\n",
       "      <th>TCC</th>\n",
       "      <th>aspect</th>\n",
       "      <th>bio01</th>\n",
       "      <th>bio02</th>\n",
       "      <th>bio03</th>\n",
       "      <th>bio04</th>\n",
       "      <th>bio05</th>\n",
       "      <th>bio06</th>\n",
       "      <th>bio07</th>\n",
       "      <th>bio08</th>\n",
       "      <th>...</th>\n",
       "      <th>bio13</th>\n",
       "      <th>bio14</th>\n",
       "      <th>bio15</th>\n",
       "      <th>bio16</th>\n",
       "      <th>bio17</th>\n",
       "      <th>bio18</th>\n",
       "      <th>bio19</th>\n",
       "      <th>elevation</th>\n",
       "      <th>hillshade</th>\n",
       "      <th>slope</th>\n",
       "    </tr>\n",
       "  </thead>\n",
       "  <tbody>\n",
       "    <tr>\n",
       "      <th>0</th>\n",
       "      <td>9.0</td>\n",
       "      <td>288</td>\n",
       "      <td>140</td>\n",
       "      <td>89</td>\n",
       "      <td>26</td>\n",
       "      <td>8572</td>\n",
       "      <td>304</td>\n",
       "      <td>-26</td>\n",
       "      <td>330</td>\n",
       "      <td>246</td>\n",
       "      <td>...</td>\n",
       "      <td>215</td>\n",
       "      <td>32</td>\n",
       "      <td>63</td>\n",
       "      <td>561</td>\n",
       "      <td>111</td>\n",
       "      <td>539</td>\n",
       "      <td>111</td>\n",
       "      <td>28</td>\n",
       "      <td>187</td>\n",
       "      <td>2</td>\n",
       "    </tr>\n",
       "  </tbody>\n",
       "</table>\n",
       "<p>1 rows × 24 columns</p>\n",
       "</div>"
      ],
      "text/plain": [
       "   TCC  aspect  bio01  bio02  bio03  bio04  bio05  bio06  bio07  bio08  ...  \\\n",
       "0  9.0     288    140     89     26   8572    304    -26    330    246  ...   \n",
       "\n",
       "   bio13  bio14  bio15  bio16  bio17  bio18  bio19  elevation  hillshade  \\\n",
       "0    215     32     63    561    111    539    111         28        187   \n",
       "\n",
       "   slope  \n",
       "0      2  \n",
       "\n",
       "[1 rows x 24 columns]"
      ]
     },
     "execution_count": 53,
     "metadata": {},
     "output_type": "execute_result"
    }
   ],
   "source": [
    "PixelVals_df = geemap.ee_to_df(PixelVals)\n",
    "PixelVals_df.head(1)"
   ]
  },
  {
   "cell_type": "code",
   "execution_count": null,
   "id": "2e1e6d3c-87dd-463e-a918-9dc51b3b9661",
   "metadata": {},
   "outputs": [],
   "source": [
    "columns = PixelVals_df.columns\n",
    "print(columns)"
   ]
  },
  {
   "cell_type": "code",
   "execution_count": null,
   "id": "52d48707-1f4f-4752-90fa-0a566416717d",
   "metadata": {},
   "outputs": [],
   "source": [
    "def plot_correlation_heatmap(dataframe, h_size=10):\n",
    "\n",
    "    correlation_matrix = dataframe.corr(method=\"spearman\")\n",
    "\n",
    "    plt.figure(figsize=(h_size, h_size-2))\n",
    "    plt.imshow(correlation_matrix, cmap='coolwarm', interpolation='nearest')\n",
    "\n",
    "    for i in range(correlation_matrix.shape[0]):\n",
    "        for j in range(correlation_matrix.shape[1]):\n",
    "            plt.text(j, i, f\"{correlation_matrix.iloc[i, j]:.2f}\",\n",
    "                     ha='center', va='center', color='white', fontsize=8)\n",
    "\n",
    "    columns = dataframe.columns.tolist()\n",
    "    plt.xticks(range(len(columns)), columns, rotation=90)\n",
    "    plt.yticks(range(len(columns)), columns)\n",
    "    plt.title(\"Variables correlation matrix\")\n",
    "    plt.colorbar(label=\"Spearman Correlation\")\n",
    "    plt.savefig('correlation_heatmap_plot.png')\n",
    "    plt.show()"
   ]
  },
  {
   "cell_type": "code",
   "execution_count": null,
   "id": "95873b9b-9361-4160-a2d3-3854d8d404cb",
   "metadata": {},
   "outputs": [],
   "source": [
    "plot_correlation_heatmap(PixelVals_df)"
   ]
  },
  {
   "cell_type": "code",
   "execution_count": null,
   "id": "77bc897a-ec3c-49a8-bf1a-6ab1ba3866d3",
   "metadata": {},
   "outputs": [],
   "source": [
    "def filter_variables_by_vif(dataframe, threshold=10):\n",
    "    \n",
    "    original_columns = dataframe.columns.tolist()\n",
    "    remaining_columns = original_columns[:]\n",
    "    \n",
    "    while True:\n",
    "        vif_data = dataframe[remaining_columns]\n",
    "        vif_values = [variance_inflation_factor(vif_data.values, i) for i in range(vif_data.shape[1])]\n",
    "        \n",
    "        max_vif_index = vif_values.index(max(vif_values))\n",
    "        max_vif = max(vif_values)\n",
    "        \n",
    "        if max_vif < threshold:\n",
    "            break\n",
    "        \n",
    "        print(f\"Removing '{remaining_columns[max_vif_index]}' with VIF {max_vif:.2f}\")\n",
    "        \n",
    "        del remaining_columns[max_vif_index]\n",
    "    \n",
    "    filtered_data = dataframe[remaining_columns]\n",
    "    bands = filtered_data.columns.tolist()\n",
    "    print('Bands:', bands)\n",
    "    \n",
    "    return filtered_data, bands"
   ]
  },
  {
   "cell_type": "code",
   "execution_count": null,
   "id": "0e98ce4b-5983-4d76-8252-9acdd49690c3",
   "metadata": {},
   "outputs": [],
   "source": [
    "filtered_PixelVals_df, bands = filter_variables_by_vif(PixelVals_df)"
   ]
  },
  {
   "cell_type": "code",
   "execution_count": null,
   "id": "06be8bea-6f1d-4bb4-879e-482d320cad2a",
   "metadata": {},
   "outputs": [],
   "source": [
    "predictors = predictors.select(bands)\n",
    "plot_correlation_heatmap(filtered_PixelVals_df, h_size=6)"
   ]
  },
  {
   "cell_type": "code",
   "execution_count": null,
   "id": "900a9597-2c75-4d25-8946-70941835fcd3",
   "metadata": {},
   "outputs": [],
   "source": [
    "cm.plot_colormaps(width=8.0, height=0.2)"
   ]
  },
  {
   "cell_type": "code",
   "execution_count": null,
   "id": "fa0e48f7-8c5c-4702-b0dc-9a3c09e6553b",
   "metadata": {},
   "outputs": [],
   "source": [
    "cm.plot_colormap('terrain', width=8.0, height=0.2, orientation='horizontal')"
   ]
  },
  {
   "cell_type": "code",
   "execution_count": null,
   "id": "0076356e-9e41-4dfa-9ac9-144f3f114c97",
   "metadata": {},
   "outputs": [],
   "source": [
    "Map = geemap.Map(layout={'height':'400px', 'width':'800px'})\n",
    "Map.add_layer(Vworld_Base)\n",
    "\n",
    "vis_params = {'bands':['elevation'], 'min': 0, 'max': 1800, 'palette': cm.palettes.terrain}\n",
    "Map.addLayer(predictors, vis_params, 'elevation')\n",
    "Map.add_colorbar(vis_params, label=\"Elevation (m)\", orientation=\"vertical\", layer_name=\"elevation\")\n",
    "Map.centerObject(AOI, 6)\n",
    "Map"
   ]
  },
  {
   "cell_type": "code",
   "execution_count": null,
   "id": "df49cc91-4960-4b5c-9232-ae463b04ce97",
   "metadata": {},
   "outputs": [],
   "source": [
    "min_val = predictors.select(\"bio09\").multiply(0.1).reduceRegion(reducer=ee.Reducer.min(), scale=1000).getInfo()\n",
    "max_val = predictors.select(\"bio09\").multiply(0.1).reduceRegion(reducer=ee.Reducer.max(), scale=1000).getInfo()\n",
    "\n",
    "Map = geemap.Map(layout={'height':'400px', 'width':'800px'})\n",
    "Map.add_layer(Vworld_Base)\n",
    "\n",
    "vis_params = {'min': math.floor(min_val['bio09']), 'max': math.ceil(max_val['bio09']), 'palette': cm.palettes.hot}\n",
    "Map.addLayer(predictors.select(\"bio09\").multiply(0.1), vis_params, 'bio09')\n",
    "Map.add_colorbar(vis_params, label=\"Mean temperature of driest quarter (℃)\", orientation=\"vertical\", layer_name=\"bio09\")\n",
    "Map.centerObject(AOI, 6)\n",
    "Map"
   ]
  },
  {
   "cell_type": "code",
   "execution_count": null,
   "id": "43116c27-2cf2-4cec-9386-b6a1cb5fb290",
   "metadata": {},
   "outputs": [],
   "source": [
    "Map = geemap.Map(layout={'height':'400px', 'width':'800px'})\n",
    "Map.add_layer(Vworld_Base)\n",
    "\n",
    "vis_params = {'bands':['slope'], 'min': 0, 'max': 25, 'palette': cm.palettes.RdYlGn_r}\n",
    "Map.addLayer(predictors, vis_params, 'slope')\n",
    "Map.add_colorbar(vis_params, label=\"Slope\", orientation=\"vertical\", layer_name=\"slope\")\n",
    "Map.centerObject(AOI, 6)\n",
    "Map"
   ]
  },
  {
   "cell_type": "code",
   "execution_count": null,
   "id": "bfa8c7a1-9ae9-420a-a564-0fc167ef00a2",
   "metadata": {},
   "outputs": [],
   "source": [
    "Map = geemap.Map(layout={'height':'400px', 'width':'800px'})\n",
    "Map.add_layer(Vworld_Base)\n",
    "\n",
    "vis_params = {'bands':['aspect'], 'min': 0, 'max': 360, 'palette': cm.palettes.rainbow}\n",
    "Map.addLayer(predictors, vis_params, 'aspect')\n",
    "Map.add_colorbar(vis_params, label=\"Aspect\", orientation=\"vertical\", layer_name=\"aspect\")\n",
    "Map.centerObject(AOI, 6)\n",
    "Map"
   ]
  },
  {
   "cell_type": "code",
   "execution_count": null,
   "id": "495d2144-e759-47f0-9e7a-546f3ab8fa62",
   "metadata": {},
   "outputs": [],
   "source": [
    "min_val = predictors.select(\"bio14\").reduceRegion(reducer=ee.Reducer.min(), scale=1000).getInfo()\n",
    "max_val = predictors.select(\"bio14\").reduceRegion(reducer=ee.Reducer.max(), scale=1000).getInfo()\n",
    "\n",
    "Map = geemap.Map(layout={'height':'400px', 'width':'800px'})\n",
    "Map.add_layer(Vworld_Base)\n",
    "vis_params = {'bands':['bio14'], 'min': math.floor(min_val['bio14']), 'max': math.ceil(max_val['bio14']), 'palette': cm.palettes.Blues}\n",
    "Map.addLayer(predictors, vis_params, 'bio14')\n",
    "Map.add_colorbar(vis_params, label=\"Precipitation of driest month (mm)\", orientation=\"vertical\", layer_name=\"bio14\")\n",
    "Map.centerObject(AOI, 6)\n",
    "Map"
   ]
  },
  {
   "cell_type": "code",
   "execution_count": null,
   "id": "6a0348f0-c4ef-4e10-9e0d-b05b02e9ca59",
   "metadata": {},
   "outputs": [],
   "source": [
    "Map = geemap.Map(layout={'height':'400px', 'width':'800px'})\n",
    "Map.add_layer(Vworld_Base)\n",
    "\n",
    "vis_params = {'bands':['TCC'], 'min': 0, 'max': 100, 'palette': ['ffffff', 'afce56', '5f9c00', '0e6a00', '003800']}\n",
    "Map.addLayer(predictors, vis_params, 'TCC')\n",
    "Map.add_colorbar(vis_params, label=\"Tree Canopy Cover (%)\", orientation=\"vertical\", layer_name=\"TCC\")\n",
    "Map.centerObject(AOI, 6)\n",
    "Map"
   ]
  },
  {
   "cell_type": "markdown",
   "id": "7c49680b-93c7-43d8-affa-9b91b059ad98",
   "metadata": {},
   "source": [
    "### 6.2.4. 임의-비출현 데이터 생성"
   ]
  },
  {
   "cell_type": "code",
   "execution_count": null,
   "id": "9171b1cc-86a6-4074-9f77-13bb1bd8da36",
   "metadata": {},
   "outputs": [],
   "source": [
    "presence_mask = Data.reduceToImage(\n",
    "    properties=['random'],\n",
    "    reducer=ee.Reducer.first()\n",
    ").reproject('EPSG:4326', None, ee.Number(GrainSize)).mask().neq(1).selfMask()"
   ]
  },
  {
   "cell_type": "code",
   "execution_count": null,
   "id": "072b61f7-12f6-465b-8f53-09ffb32fb37e",
   "metadata": {},
   "outputs": [],
   "source": [
    "PixelVals = predictors.sampleRegions(\n",
    "    collection=Data.randomColumn().sort('random').limit(100),\n",
    "    properties=[],\n",
    "    tileScale=16,\n",
    "    scale=GrainSize\n",
    ")"
   ]
  },
  {
   "cell_type": "code",
   "execution_count": null,
   "id": "7cc5b242-6b18-487e-96f2-7cabe18b87a5",
   "metadata": {},
   "outputs": [],
   "source": [
    "clusterer = ee.Clusterer.wekaKMeans(\n",
    "    nClusters=2,\n",
    "    distanceFunction=\"Euclidean\"\n",
    ").train(PixelVals)\n",
    "\n",
    "Clresult = predictors.cluster(clusterer)\n",
    "\n",
    "clustID = Clresult.sampleRegions(\n",
    "    collection=Data.randomColumn().sort('random').limit(200),\n",
    "    properties=[],\n",
    "    tileScale=16,\n",
    "    scale=GrainSize\n",
    ")\n",
    "clustID = ee.FeatureCollection(clustID).reduceColumns(ee.Reducer.mode(),['cluster'])\n",
    "clustID = ee.Number(clustID.get('mode')).subtract(1).abs()\n",
    "cl_mask = Clresult.select(['cluster']).eq(clustID)"
   ]
  },
  {
   "cell_type": "code",
   "execution_count": null,
   "id": "d344dcd9-0f82-435d-a6f4-8f3063492728",
   "metadata": {},
   "outputs": [],
   "source": [
    "AreaForPA = presence_mask.updateMask(cl_mask).clip(AOI)\n",
    "\n",
    "Map = geemap.Map(layout={'height':'400px', 'width':'800px'})\n",
    "Map.add_layer(Vworld_Base)\n",
    "\n",
    "Map.addLayer(AreaForPA, {'palette': 'black'},'AreaForPA')\n",
    "Map.centerObject(AOI, 6)\n",
    "Map"
   ]
  },
  {
   "cell_type": "markdown",
   "id": "bcaa33ab-7895-40b8-a3c4-7545f189deb1",
   "metadata": {},
   "source": [
    "### 6.2.5. 모델 적합 및 예측"
   ]
  },
  {
   "cell_type": "code",
   "execution_count": null,
   "id": "a8702356-893d-4a42-ae50-ed212518517e",
   "metadata": {},
   "outputs": [],
   "source": [
    "def makeGrid(geometry, scale):\n",
    "    \n",
    "    lonLat = ee.Image.pixelLonLat()\n",
    "    lonGrid = lonLat.select('longitude').multiply(100000).toInt()\n",
    "    latGrid = lonLat.select('latitude').multiply(100000).toInt()\n",
    "    \n",
    "    return lonGrid.multiply(latGrid).reduceToVectors(\n",
    "        geometry = geometry.buffer(distance=20000, maxError=1000),\n",
    "        scale = scale,\n",
    "        geometryType = 'polygon'\n",
    "    )"
   ]
  },
  {
   "cell_type": "code",
   "execution_count": null,
   "id": "2993be59-1179-4f45-9578-12aed2250fde",
   "metadata": {},
   "outputs": [],
   "source": [
    "Scale = 50000\n",
    "grid = makeGrid(AOI, Scale)\n",
    "Grid = watermask.reduceRegions(\n",
    "    collection=grid,\n",
    "    reducer=ee.Reducer.mean()).filter(ee.Filter.neq('mean', None))\n",
    "\n",
    "Map = geemap.Map(layout={'height':'400px', 'width':'800px'})\n",
    "Map.add_layer(Vworld_Base)\n",
    "Map.addLayer(Grid, {}, \"Grid for spatial block cross validation\")\n",
    "Map.addLayer(outline, {'palette': 'FF0000'}, \"Study Area\")\n",
    "Map.centerObject(AOI, 6)\n",
    "Map"
   ]
  },
  {
   "cell_type": "code",
   "execution_count": null,
   "id": "f5700e59-3068-4859-ab54-ccfa6f525255",
   "metadata": {},
   "outputs": [],
   "source": [
    "def SDM(x):\n",
    "    Seed = ee.Number(x)\n",
    "\n",
    "    GRID = ee.FeatureCollection(Grid).randomColumn(seed=Seed).sort('random')\n",
    "    TrainingGrid = GRID.filter(ee.Filter.lt('random', split))\n",
    "    TestingGrid = GRID.filter(ee.Filter.gte('random', split))\n",
    "    \n",
    "    PresencePoints = ee.FeatureCollection(Data)\n",
    "    PresencePoints = PresencePoints.map(lambda feature: feature.set('PresAbs', 1))\n",
    "    TrPresencePoints = PresencePoints.filter(ee.Filter.bounds(TrainingGrid))\n",
    "    TePresencePoints = PresencePoints.filter(ee.Filter.bounds(TestingGrid))\n",
    "    \n",
    "    TrPseudoAbsPoints = AreaForPA.sample(region=TrainingGrid,\n",
    "                                         scale=GrainSize,\n",
    "                                         numPixels=TrPresencePoints.size().add(300),\n",
    "                                         seed=Seed,\n",
    "                                         geometries=True)\n",
    "    TrPseudoAbsPoints = TrPseudoAbsPoints.randomColumn().sort('random').limit(ee.Number(TrPresencePoints.size()))\n",
    "    TrPseudoAbsPoints = TrPseudoAbsPoints.map(lambda feature: feature.set('PresAbs', 0))\n",
    "    \n",
    "    TePseudoAbsPoints = AreaForPA.sample(region=TestingGrid,\n",
    "                                         scale=GrainSize,\n",
    "                                         numPixels=TePresencePoints.size().add(100),\n",
    "                                         seed=Seed,\n",
    "                                         geometries=True)\n",
    "    TePseudoAbsPoints = TePseudoAbsPoints.randomColumn().sort('random').limit(ee.Number(TePresencePoints.size()))\n",
    "    TePseudoAbsPoints = TePseudoAbsPoints.map(lambda feature: feature.set('PresAbs', 0))\n",
    "\n",
    "    trainingPartition = TrPresencePoints.merge(TrPseudoAbsPoints)\n",
    "    testingPartition = TePresencePoints.merge(TePseudoAbsPoints)\n",
    "\n",
    "    trainPixelVals = predictors.sampleRegions(collection=trainingPartition,\n",
    "                                              properties=['PresAbs'],\n",
    "                                              scale=GrainSize,\n",
    "                                              tileScale=16,\n",
    "                                              geometries=True)\n",
    "\n",
    "    Classifier = ee.Classifier.smileRandomForest(\n",
    "        numberOfTrees=500,\n",
    "        variablesPerSplit=None,\n",
    "        minLeafPopulation=10,\n",
    "        bagFraction=0.5,\n",
    "        maxNodes=None,\n",
    "        seed=Seed\n",
    "    )\n",
    "    \n",
    "    ClassifierPr = Classifier.setOutputMode('PROBABILITY').train(trainPixelVals, 'PresAbs', bands)\n",
    "    ClassifiedImgPr = predictors.select(bands).classify(ClassifierPr)\n",
    "    \n",
    "    ClassifierBin = Classifier.setOutputMode('CLASSIFICATION').train(trainPixelVals, 'PresAbs', bands)\n",
    "    ClassifiedImgBin = predictors.select(bands).classify(ClassifierBin)\n",
    "\n",
    "    return [ClassifiedImgPr, ClassifiedImgBin, trainingPartition, testingPartition], ClassifierPr"
   ]
  },
  {
   "cell_type": "code",
   "execution_count": null,
   "id": "eda5880a-c4cb-48ee-a939-779b1a2fcc03",
   "metadata": {},
   "outputs": [],
   "source": [
    "split = 0.7\n",
    "numiter = 10"
   ]
  },
  {
   "cell_type": "code",
   "execution_count": null,
   "id": "c893658b-5f2e-4c0e-949d-d11f1878f0b0",
   "metadata": {},
   "outputs": [],
   "source": [
    "runif = lambda length: [random.randint(1, 1000) for _ in range(length)]\n",
    "\n",
    "items = runif(numiter)\n",
    "# items = [287, 288, 553, 226, 151, 255, 902, 267, 419, 538]\n",
    "\n",
    "results_list = []\n",
    "importances_list = []\n",
    "\n",
    "for item in runif(numiter):\n",
    "    result, trained = SDM(item)\n",
    "\n",
    "    results_list.extend(result)\n",
    "\n",
    "    importance = ee.Dictionary(trained.explain()).get('importance')\n",
    "    importances_list.extend(importance.getInfo().items())\n",
    "\n",
    "results = ee.List(results_list).flatten()"
   ]
  },
  {
   "cell_type": "code",
   "execution_count": null,
   "id": "e22e4868-edc1-4650-a1b3-8a8b596a4d5e",
   "metadata": {},
   "outputs": [],
   "source": [
    "images = ee.List.sequence(0, ee.Number(numiter).multiply(4).subtract(1), 4).map(lambda x: results.get(x))\n",
    "ModelAverage = ee.ImageCollection.fromImages(images).mean()\n",
    "\n",
    "Map = geemap.Map(layout={'height':'400px', 'width':'800px'})\n",
    "Map.add_layer(Vworld_Base)\n",
    "\n",
    "vis_params = {\n",
    "    'min': 0,\n",
    "    'max': 1,\n",
    "    'palette': ['#440154', '#482677', '#404788', '#33638D', '#287D8E',\n",
    "          '#1F968B', '#29AF7F', '#55C667', '#95D840', '#DCE319']}\n",
    "Map.addLayer(ModelAverage, vis_params, 'Habitat suitability')\n",
    "Map.add_colorbar(vis_params, label=\"Habitat suitability\", orientation=\"horizontal\", layer_name=\"Habitat suitability\")\n",
    "Map.addLayer(Data, {'color':'red'}, 'Presence')\n",
    "Map.centerObject(AOI, 6)\n",
    "Map"
   ]
  },
  {
   "cell_type": "code",
   "execution_count": null,
   "id": "e07f4f6f-5e48-453f-bf4e-be1952a596ce",
   "metadata": {},
   "outputs": [],
   "source": [
    "images2 = ee.List.sequence(1, ee.Number(numiter).multiply(4).subtract(1), 4).map(lambda x: results.get(x))\n",
    "DistributionMap = ee.ImageCollection.fromImages(images2).mode()\n",
    "\n",
    "Map = geemap.Map(layout={'height':'400px', 'width':'800px'})\n",
    "Map.add_layer(Vworld_Base)\n",
    "\n",
    "vis_params = {\n",
    "    'min': 0,\n",
    "    'max': 1,\n",
    "    'palette': ['white', 'green']}\n",
    "Map.addLayer(DistributionMap, vis_params, 'Potential distribution')\n",
    "Map.addLayer(Data, {'color':'red'}, 'Presence')\n",
    "Map.add_colorbar(vis_params, label=\"Potential distribution\", discrete=True, orientation=\"horizontal\", layer_name=\"Potential distribution\")\n",
    "Map.centerObject(Data.geometry(), 7)\n",
    "Map"
   ]
  },
  {
   "cell_type": "code",
   "execution_count": null,
   "id": "1ef7fd8f-cdf4-408b-afe8-263649f25a34",
   "metadata": {},
   "outputs": [],
   "source": [
    "variables = [item[0] for item in importances_list]\n",
    "importances = [item[1] for item in importances_list]\n",
    "\n",
    "average_importances = {}\n",
    "for variable in set(variables):\n",
    "    indices = [i for i, var in enumerate(variables) if var == variable]\n",
    "    average_importance = np.mean([importances[i] for i in indices])\n",
    "    average_importances[variable] = average_importance\n",
    "\n",
    "for variable, avg_importance in average_importances.items():\n",
    "    print(f\"{variable}: {avg_importance}\")"
   ]
  },
  {
   "cell_type": "code",
   "execution_count": null,
   "id": "4371fd5e-7b53-424a-9263-13dce4022a8d",
   "metadata": {},
   "outputs": [],
   "source": [
    "sorted_importances = sorted(average_importances.items(), key=lambda x: x[1], reverse=False)\n",
    "variables = [item[0] for item in sorted_importances]\n",
    "avg_importances = [item[1] for item in sorted_importances]\n",
    "\n",
    "plt.figure(figsize=(8, 4))  # Resize as desired\n",
    "\n",
    "plt.barh(variables, avg_importances)\n",
    "plt.xlabel('Importance')\n",
    "plt.ylabel('Variables')\n",
    "plt.title('Average Variable Importance')\n",
    "\n",
    "for i, v in enumerate(avg_importances):\n",
    "    plt.text(v + 0.02, i, f\"{v:.2f}\", va='center')\n",
    "\n",
    "plt.xlim(0, max(avg_importances) + 5)\n",
    "\n",
    "plt.tight_layout()\n",
    "plt.savefig('variable_importance_plot.png')\n",
    "plt.show()"
   ]
  },
  {
   "cell_type": "markdown",
   "id": "ba3f8e98-6596-43b7-88cd-bf61daca8cd4",
   "metadata": {},
   "source": [
    "### 6.2.6. 변수 중요도 및 정확도 평가"
   ]
  },
  {
   "cell_type": "code",
   "execution_count": null,
   "id": "46164b61-3179-4982-9373-c01bde89b2c8",
   "metadata": {},
   "outputs": [],
   "source": [
    "# Extract the validation dataset\n",
    "TestingDatasets = (ee.List.sequence(3, ee.Number(numiter).multiply(4).subtract(1), 4).map(lambda x: results.get(x)))\n",
    "\n",
    "# Check if there are enough occurrences and randomly non-occurrence points for model validation\n",
    "def get_sizes(x):\n",
    "    fc = ee.FeatureCollection(TestingDatasets.get(x))\n",
    "    presence_size = fc.filter(ee.Filter.eq('PresAbs', 1)).size()\n",
    "    pseudo_absence_size = fc.filter(ee.Filter.eq('PresAbs', 0)).size()\n",
    "    return ee.List([presence_size, pseudo_absence_size])\n",
    "\n",
    "print('Number of presence and pseudo-absence points for model validation',\n",
    "      ee.List.sequence(0, ee.Number(numiter).subtract(1), 1).map(get_sizes).getInfo())"
   ]
  },
  {
   "cell_type": "code",
   "execution_count": null,
   "id": "c8e5f26f-311a-4ea1-97f8-9c4d5e13b003",
   "metadata": {},
   "outputs": [],
   "source": [
    "%%time\n",
    "\n",
    "# Estimate sensitivity, specificity, and precision\n",
    "def getAcc(img, TP, GrainSize=GrainSize):\n",
    "    Pr_Prob_Vals = img.sampleRegions(collection=TP, properties=['PresAbs'], scale=GrainSize, tileScale=16)   \n",
    "    seq = ee.List.sequence(start=0, end=1, count=25)\n",
    "    def calculate_metrics(cutoff):\n",
    "        Pres = Pr_Prob_Vals.filterMetadata('PresAbs', 'equals', 1)\n",
    "        # Sensitivity: True Positive and True Positive Rate\n",
    "        TP = ee.Number(Pres.filterMetadata('classification', 'greater_than', cutoff).size())\n",
    "        TPR = TP.divide(Pres.size())\n",
    "        Abs = Pr_Prob_Vals.filterMetadata('PresAbs', 'equals', 0)\n",
    "        \n",
    "        # False Negative\n",
    "        FN = ee.Number(Pres.filterMetadata('classification', 'less_than', cutoff).size())\n",
    "        \n",
    "        # Specificity: True Negative and True Negative Rate\n",
    "        TN = ee.Number(Abs.filterMetadata('classification', 'less_than', cutoff).size())\n",
    "        TNR = TN.divide(Abs.size())\n",
    "        \n",
    "        # False Positive and False Positive Rate\n",
    "        FP = ee.Number(Abs.filterMetadata('classification', 'greater_than', cutoff).size())\n",
    "        FPR = FP.divide(Abs.size())\n",
    "\n",
    "        # Precision\n",
    "        Precision = TP.divide(TP.add(FP))\n",
    "\n",
    "        # SUM of Sensitivity and Specificity\n",
    "        SUMSS = TPR.add(TNR)\n",
    "        \n",
    "        return ee.Feature(\n",
    "            None,\n",
    "            {\n",
    "                'cutoff': cutoff,\n",
    "                'TP': TP,\n",
    "                'TN': TN,\n",
    "                'FP': FP,\n",
    "                'FN': FN,\n",
    "                'TPR': TPR,\n",
    "                'TNR': TNR,\n",
    "                'FPR': FPR,\n",
    "                'Precision': Precision,\n",
    "                'SUMSS': SUMSS\n",
    "            }\n",
    "        )\n",
    "    return ee.FeatureCollection(seq.map(calculate_metrics))\n",
    "\n",
    "# Calculate AUC-ROC\n",
    "def getAUCROC(x):\n",
    "    X = ee.Array(x.aggregate_array('FPR'))\n",
    "    Y = ee.Array(x.aggregate_array('TPR'))\n",
    "    X1 = X.slice(0,1).subtract(X.slice(0,0,-1))\n",
    "    Y1 = Y.slice(0,1).add(Y.slice(0,0,-1))\n",
    "    return X1.multiply(Y1).multiply(0.5).reduce('sum',[0]).abs().toList().get(0)\n",
    "\n",
    "def AUCROCaccuracy(x):\n",
    "  HSM = ee.Image(images.get(x))\n",
    "  TData = ee.FeatureCollection(TestingDatasets.get(x))\n",
    "  Acc = getAcc(HSM, TData)\n",
    "  return getAUCROC(Acc)\n",
    "\n",
    "AUCROCs = ee.List.sequence(0,ee.Number(numiter).subtract(1),1).map(AUCROCaccuracy).getInfo() # AUC-ROC\n",
    "print('AUC-ROC:', AUCROCs)"
   ]
  },
  {
   "cell_type": "code",
   "execution_count": null,
   "id": "c8826ce5-c0ff-4c8c-ab16-9d801f2c8615",
   "metadata": {},
   "outputs": [],
   "source": [
    "%%time\n",
    "\n",
    "# Calculate AUC-PR\n",
    "def getAUCPR(roc):\n",
    "    X = ee.Array(roc.aggregate_array('TPR'))\n",
    "    Y = ee.Array(roc.aggregate_array('Precision'))\n",
    "    X1 = X.slice(0,1).subtract(X.slice(0,0,-1))\n",
    "    Y1 = Y.slice(0,1).add(Y.slice(0,0,-1))\n",
    "    return X1.multiply(Y1).multiply(0.5).reduce('sum',[0]).abs().toList().get(0)\n",
    "\n",
    "def AUCPRaccuracy(x):\n",
    "    HSM = ee.Image(images.get(x))\n",
    "    TData = ee.FeatureCollection(TestingDatasets.get(x))\n",
    "    Acc = getAcc(HSM, TData)\n",
    "    return getAUCPR(Acc)\n",
    "\n",
    "AUCPRs = ee.List.sequence(0,ee.Number(numiter).subtract(1),1).map(AUCPRaccuracy).getInfo() # AUC-PR\n",
    "print('AUC-PR:', AUCPRs)"
   ]
  },
  {
   "cell_type": "code",
   "execution_count": null,
   "id": "150a214b-15b6-45f9-a089-a385d6bd19f1",
   "metadata": {},
   "outputs": [],
   "source": [
    "def create_acc_table(acc1, acc2, numiter, acc1_name, acc2_name):\n",
    "    # List of run names\n",
    "    run_names = [f'RUN{num+1:02d}' for num in range(numiter)]\n",
    "    # Create a dictionary\n",
    "    data_dict = {\n",
    "        acc1_name: acc1,\n",
    "        acc2_name: acc2\n",
    "    }\n",
    "    # Create a dataframe\n",
    "    df = pd.DataFrame(data_dict, index=run_names)\n",
    "    df.index.name = 'Model'\n",
    "    # Add a row for the average\n",
    "    mean_row = df.mean()\n",
    "    df = df.append(pd.Series(mean_row, name='Mean'))\n",
    "    df = df.round(4) # Round to four decimal places\n",
    "    return df\n",
    "\n",
    "# AUC-ROC and AUC-PR table\n",
    "auc_df = create_acc_table(AUCROCs, AUCPRs, numiter, 'AUC-ROC', 'AUC-PR')\n",
    "auc_df.to_csv('auc_table.csv', index=True)\n",
    "auc_df"
   ]
  },
  {
   "cell_type": "code",
   "execution_count": null,
   "id": "b819c559-0653-4c7e-bdf6-a3a53e506cab",
   "metadata": {},
   "outputs": [],
   "source": [
    "%%time\n",
    "\n",
    "def getMetrics(x):\n",
    "    HSM = ee.Image(images.get(x))\n",
    "    TData = ee.FeatureCollection(TestingDatasets.get(x))\n",
    "    Acc = getAcc(HSM, TData)\n",
    "    return Acc.sort('SUMSS', False).first()\n",
    "Metrics = ee.List.sequence(0,ee.Number(numiter).subtract(1),1).map(getMetrics)\n",
    "\n",
    "# Sensitivity (accuracy of presence predictions)\n",
    "TPR = ee.FeatureCollection(Metrics).aggregate_array(\"TPR\").getInfo()\n",
    "print('Sensitivity:', TPR)\n",
    "\n",
    "# Specificity (accuracy of non-presence predictions)\n",
    "TNR = ee.FeatureCollection(Metrics).aggregate_array(\"TNR\").getInfo()\n",
    "print('Specificity:', TNR)"
   ]
  },
  {
   "cell_type": "code",
   "execution_count": null,
   "id": "e8fac3b6-14ac-4c73-b9d6-4dfcfc021654",
   "metadata": {},
   "outputs": [],
   "source": [
    "# Sensitivity and Specificity table\n",
    "metrics_df = create_acc_table(TPR, TNR, numiter, 'Sensitivity', 'Specificity')\n",
    "metrics_df.to_csv('metrics_table.csv', index=True)\n",
    "metrics_df"
   ]
  },
  {
   "cell_type": "markdown",
   "id": "3de7886e-664e-4387-b741-4bb70fff1684",
   "metadata": {},
   "source": [
    "### 9. Custom Binary Distribution Mapping Based on Optimal Threshold"
   ]
  },
  {
   "cell_type": "code",
   "execution_count": null,
   "id": "e80acf43-ef5b-4587-8155-01f5cb9bb352",
   "metadata": {},
   "outputs": [],
   "source": [
    "%%time\n",
    "\n",
    "# Extract the optimal threshold\n",
    "MeanThresh = ee.Number(ee.FeatureCollection(Metrics).aggregate_array(\"cutoff\").reduce(ee.Reducer.mean()))\n",
    "print('Mean threshold:', MeanThresh.getInfo())"
   ]
  },
  {
   "cell_type": "code",
   "execution_count": null,
   "id": "547904dd-cb76-407f-9120-b6e369b47047",
   "metadata": {},
   "outputs": [],
   "source": [
    "# Custom Binary Distribution Mapping Based on Optimal Threshold\n",
    "DistributionMap2 = ModelAverage.gte(MeanThresh)\n",
    "vis_params = {\n",
    "    'min': 0,\n",
    "    'max': 1,\n",
    "    'palette': ['white', 'green']}\n",
    "Map = geemap.Map()\n",
    "Map.addLayer(DistributionMap2, vis_params, 'Potential distribution2')\n",
    "Map.addLayer(Data, {'color':'red'}, 'Presence')\n",
    "Map.add_colorbar(vis_params, label=\"Potential distribution2\", discrete=True, orientation=\"horizontal\", layer_name=\"Potential distribution2\")\n",
    "Map.centerObject(Data.geometry(), 7)\n",
    "Map"
   ]
  },
  {
   "cell_type": "markdown",
   "id": "3d7e09ef-4851-4da6-ad75-fef371db2e48",
   "metadata": {},
   "source": [
    "### 10. Export Results"
   ]
  },
  {
   "cell_type": "code",
   "execution_count": null,
   "id": "81b61d0d-943d-4f7d-9b5a-8900e7aef4e6",
   "metadata": {},
   "outputs": [],
   "source": [
    "out_dir = 'D:/GEODATA'\n",
    "\n",
    "# Save the Habitat Suitability Map as a GeoTIFF\n",
    "out_file = os.path.join(out_dir, 'habitat_suitability.tif')\n",
    "geemap.ee_export_image(ModelAverage, filename=out_file, region=AOI, scale=1000)\n",
    "\n",
    "# Save the Potential Distribution Map as a GeoTIFF\n",
    "out_file = os.path.join(out_dir, 'distribution_map.tif')\n",
    "geemap.ee_export_image(DistributionMap, filename=out_file, region=AOI, scale=1000)\n",
    "\n",
    "# Save the Potential Distribution Map using the optimal threshold as a GeoTIFF\n",
    "out_file = os.path.join(out_dir, 'distribution_map2.tif')\n",
    "geemap.ee_export_image(DistributionMap2, filename=out_file, region=AOI, scale=1000)"
   ]
  }
 ],
 "metadata": {
  "kernelspec": {
   "display_name": "Python 3 (ipykernel)",
   "language": "python",
   "name": "python3"
  },
  "language_info": {
   "codemirror_mode": {
    "name": "ipython",
    "version": 3
   },
   "file_extension": ".py",
   "mimetype": "text/x-python",
   "name": "python",
   "nbconvert_exporter": "python",
   "pygments_lexer": "ipython3",
   "version": "3.12.1"
  }
 },
 "nbformat": 4,
 "nbformat_minor": 5
}
